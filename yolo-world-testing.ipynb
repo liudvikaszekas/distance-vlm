{
 "cells": [
  {
   "cell_type": "markdown",
   "metadata": {
    "editable": false
   },
   "source": [
    "# Dependencies"
   ]
  },
  {
   "cell_type": "code",
   "execution_count": 4,
   "metadata": {
    "editable": false,
    "execution": {
     "iopub.execute_input": "2024-12-05T09:28:34.370580Z",
     "iopub.status.busy": "2024-12-05T09:28:34.369856Z",
     "iopub.status.idle": "2024-12-05T09:28:34.374986Z",
     "shell.execute_reply": "2024-12-05T09:28:34.374126Z",
     "shell.execute_reply.started": "2024-12-05T09:28:34.370534Z"
    },
    "trusted": true
   },
   "outputs": [
    {
     "name": "stdout",
     "output_type": "stream",
     "text": [
      "Creating new Ultralytics Settings v0.0.6 file ✅ \n",
      "View Ultralytics Settings with 'yolo settings' or at '/Users/liudvikas/Library/Application Support/Ultralytics/settings.json'\n",
      "Update Settings with 'yolo settings key=value', i.e. 'yolo settings runs_dir=path/to/dir'. For help see https://docs.ultralytics.com/quickstart/#ultralytics-settings.\n"
     ]
    }
   ],
   "source": [
    "from ultralytics import YOLO\n",
    "from PIL import Image\n",
    "import matplotlib.pyplot as plt"
   ]
  },
  {
   "cell_type": "code",
   "execution_count": 5,
   "metadata": {
    "editable": false,
    "execution": {
     "iopub.execute_input": "2024-12-05T09:28:36.943957Z",
     "iopub.status.busy": "2024-12-05T09:28:36.943383Z",
     "iopub.status.idle": "2024-12-05T09:28:37.006713Z",
     "shell.execute_reply": "2024-12-05T09:28:37.005999Z",
     "shell.execute_reply.started": "2024-12-05T09:28:36.943922Z"
    },
    "trusted": true
   },
   "outputs": [
    {
     "name": "stdout",
     "output_type": "stream",
     "text": [
      "Downloading https://github.com/ultralytics/assets/releases/download/v8.3.0/yolov8s-worldv2.pt to 'yolov8s-worldv2.pt'...\n"
     ]
    },
    {
     "name": "stderr",
     "output_type": "stream",
     "text": [
      "100%|██████████| 24.7M/24.7M [00:05<00:00, 4.93MB/s]\n"
     ]
    }
   ],
   "source": [
    "model = YOLO('yolov8s-worldv2.pt')  # You can use 'yolov8.pt' or another YOLO version"
   ]
  },
  {
   "cell_type": "markdown",
   "metadata": {
    "editable": false
   },
   "source": [
    "# Input"
   ]
  },
  {
   "cell_type": "code",
   "execution_count": 14,
   "metadata": {
    "collapsed": true,
    "editable": false,
    "execution": {
     "iopub.execute_input": "2024-12-05T09:28:39.540075Z",
     "iopub.status.busy": "2024-12-05T09:28:39.539184Z",
     "iopub.status.idle": "2024-12-05T09:28:54.853167Z",
     "shell.execute_reply": "2024-12-05T09:28:54.851706Z",
     "shell.execute_reply.started": "2024-12-05T09:28:39.540040Z"
    },
    "jupyter": {
     "outputs_hidden": true
    },
    "trusted": true
   },
   "outputs": [
    {
     "data": {
      "application/vnd.jupyter.widget-view+json": {
       "model_id": "a7a7e08ba79e42ff9236206fbb41368c",
       "version_major": 2,
       "version_minor": 0
      },
      "text/plain": [
       "00.zip:   0%|          | 0.00/2.52G [00:00<?, ?B/s]"
      ]
     },
     "metadata": {},
     "output_type": "display_data"
    },
    {
     "ename": "KeyboardInterrupt",
     "evalue": "",
     "output_type": "error",
     "traceback": [
      "\u001b[0;31m---------------------------------------------------------------------------\u001b[0m",
      "\u001b[0;31mKeyboardInterrupt\u001b[0m                         Traceback (most recent call last)",
      "Cell \u001b[0;32mIn[14], line 3\u001b[0m\n\u001b[1;32m      1\u001b[0m \u001b[38;5;28;01mfrom\u001b[39;00m \u001b[38;5;21;01mhuggingface_hub\u001b[39;00m \u001b[38;5;28;01mimport\u001b[39;00m hf_hub_download\n\u001b[1;32m      2\u001b[0m \u001b[38;5;28;01mfor\u001b[39;00m i \u001b[38;5;129;01min\u001b[39;00m \u001b[38;5;28mrange\u001b[39m(\u001b[38;5;241m1\u001b[39m):\n\u001b[0;32m----> 3\u001b[0m     \u001b[43mhf_hub_download\u001b[49m\u001b[43m(\u001b[49m\u001b[43mrepo_id\u001b[49m\u001b[38;5;241;43m=\u001b[39;49m\u001b[38;5;124;43m\"\u001b[39;49m\u001b[38;5;124;43mosv5m/osv5m\u001b[39;49m\u001b[38;5;124;43m\"\u001b[39;49m\u001b[43m,\u001b[49m\u001b[43m \u001b[49m\u001b[43mfilename\u001b[49m\u001b[38;5;241;43m=\u001b[39;49m\u001b[38;5;28;43mstr\u001b[39;49m\u001b[43m(\u001b[49m\u001b[43mi\u001b[49m\u001b[43m)\u001b[49m\u001b[38;5;241;43m.\u001b[39;49m\u001b[43mzfill\u001b[49m\u001b[43m(\u001b[49m\u001b[38;5;241;43m2\u001b[39;49m\u001b[43m)\u001b[49m\u001b[38;5;241;43m+\u001b[39;49m\u001b[38;5;124;43m'\u001b[39;49m\u001b[38;5;124;43m.zip\u001b[39;49m\u001b[38;5;124;43m'\u001b[39;49m\u001b[43m,\u001b[49m\u001b[43m \u001b[49m\u001b[43msubfolder\u001b[49m\u001b[38;5;241;43m=\u001b[39;49m\u001b[38;5;124;43m\"\u001b[39;49m\u001b[38;5;124;43mimages/train\u001b[39;49m\u001b[38;5;124;43m\"\u001b[39;49m\u001b[43m,\u001b[49m\u001b[43m \u001b[49m\u001b[43mrepo_type\u001b[49m\u001b[38;5;241;43m=\u001b[39;49m\u001b[38;5;124;43m'\u001b[39;49m\u001b[38;5;124;43mdataset\u001b[39;49m\u001b[38;5;124;43m'\u001b[39;49m\u001b[43m,\u001b[49m\u001b[43m \u001b[49m\u001b[43mlocal_dir\u001b[49m\u001b[38;5;241;43m=\u001b[39;49m\u001b[38;5;124;43m\"\u001b[39;49m\u001b[38;5;124;43mdatasets/OpenWorld\u001b[39;49m\u001b[38;5;124;43m\"\u001b[39;49m\u001b[43m)\u001b[49m\n\u001b[1;32m      4\u001b[0m     hf_hub_download(repo_id\u001b[38;5;241m=\u001b[39m\u001b[38;5;124m\"\u001b[39m\u001b[38;5;124mosv5m/osv5m\u001b[39m\u001b[38;5;124m\"\u001b[39m, filename\u001b[38;5;241m=\u001b[39m\u001b[38;5;124m\"\u001b[39m\u001b[38;5;124mREADME.md\u001b[39m\u001b[38;5;124m\"\u001b[39m, repo_type\u001b[38;5;241m=\u001b[39m\u001b[38;5;124m'\u001b[39m\u001b[38;5;124mdataset\u001b[39m\u001b[38;5;124m'\u001b[39m, local_dir\u001b[38;5;241m=\u001b[39m\u001b[38;5;124m\"\u001b[39m\u001b[38;5;124mdatasets/OpenWorld\u001b[39m\u001b[38;5;124m\"\u001b[39m)\n\u001b[1;32m      5\u001b[0m hf_hub_download(repo_id\u001b[38;5;241m=\u001b[39m\u001b[38;5;124m\"\u001b[39m\u001b[38;5;124mosv5m/osv5m\u001b[39m\u001b[38;5;124m\"\u001b[39m, filename\u001b[38;5;241m=\u001b[39m\u001b[38;5;124m\"\u001b[39m\u001b[38;5;124mtrain.csv\u001b[39m\u001b[38;5;124m\"\u001b[39m, repo_type\u001b[38;5;241m=\u001b[39m\u001b[38;5;124m'\u001b[39m\u001b[38;5;124mdataset\u001b[39m\u001b[38;5;124m'\u001b[39m, local_dir\u001b[38;5;241m=\u001b[39m\u001b[38;5;124m\"\u001b[39m\u001b[38;5;124mdatasets/OpenWorld\u001b[39m\u001b[38;5;124m\"\u001b[39m)\n",
      "File \u001b[0;32m/opt/conda/lib/python3.10/site-packages/huggingface_hub/utils/_validators.py:114\u001b[0m, in \u001b[0;36mvalidate_hf_hub_args.<locals>._inner_fn\u001b[0;34m(*args, **kwargs)\u001b[0m\n\u001b[1;32m    111\u001b[0m \u001b[38;5;28;01mif\u001b[39;00m check_use_auth_token:\n\u001b[1;32m    112\u001b[0m     kwargs \u001b[38;5;241m=\u001b[39m smoothly_deprecate_use_auth_token(fn_name\u001b[38;5;241m=\u001b[39mfn\u001b[38;5;241m.\u001b[39m\u001b[38;5;18m__name__\u001b[39m, has_token\u001b[38;5;241m=\u001b[39mhas_token, kwargs\u001b[38;5;241m=\u001b[39mkwargs)\n\u001b[0;32m--> 114\u001b[0m \u001b[38;5;28;01mreturn\u001b[39;00m \u001b[43mfn\u001b[49m\u001b[43m(\u001b[49m\u001b[38;5;241;43m*\u001b[39;49m\u001b[43margs\u001b[49m\u001b[43m,\u001b[49m\u001b[43m \u001b[49m\u001b[38;5;241;43m*\u001b[39;49m\u001b[38;5;241;43m*\u001b[39;49m\u001b[43mkwargs\u001b[49m\u001b[43m)\u001b[49m\n",
      "File \u001b[0;32m/opt/conda/lib/python3.10/site-packages/huggingface_hub/file_download.py:842\u001b[0m, in \u001b[0;36mhf_hub_download\u001b[0;34m(repo_id, filename, subfolder, repo_type, revision, library_name, library_version, cache_dir, local_dir, user_agent, force_download, proxies, etag_timeout, token, local_files_only, headers, endpoint, resume_download, force_filename, local_dir_use_symlinks)\u001b[0m\n\u001b[1;32m    833\u001b[0m     \u001b[38;5;28;01mif\u001b[39;00m local_dir_use_symlinks \u001b[38;5;241m!=\u001b[39m \u001b[38;5;124m\"\u001b[39m\u001b[38;5;124mauto\u001b[39m\u001b[38;5;124m\"\u001b[39m:\n\u001b[1;32m    834\u001b[0m         warnings\u001b[38;5;241m.\u001b[39mwarn(\n\u001b[1;32m    835\u001b[0m             \u001b[38;5;124m\"\u001b[39m\u001b[38;5;124m`local_dir_use_symlinks` parameter is deprecated and will be ignored. \u001b[39m\u001b[38;5;124m\"\u001b[39m\n\u001b[1;32m    836\u001b[0m             \u001b[38;5;124m\"\u001b[39m\u001b[38;5;124mThe process to download files to a local folder has been updated and do \u001b[39m\u001b[38;5;124m\"\u001b[39m\n\u001b[0;32m   (...)\u001b[0m\n\u001b[1;32m    839\u001b[0m             \u001b[38;5;124m\"\u001b[39m\u001b[38;5;124mFor more details, check out https://huggingface.co/docs/huggingface_hub/main/en/guides/download#download-files-to-local-folder.\u001b[39m\u001b[38;5;124m\"\u001b[39m\n\u001b[1;32m    840\u001b[0m         )\n\u001b[0;32m--> 842\u001b[0m     \u001b[38;5;28;01mreturn\u001b[39;00m \u001b[43m_hf_hub_download_to_local_dir\u001b[49m\u001b[43m(\u001b[49m\n\u001b[1;32m    843\u001b[0m \u001b[43m        \u001b[49m\u001b[38;5;66;43;03m# Destination\u001b[39;49;00m\n\u001b[1;32m    844\u001b[0m \u001b[43m        \u001b[49m\u001b[43mlocal_dir\u001b[49m\u001b[38;5;241;43m=\u001b[39;49m\u001b[43mlocal_dir\u001b[49m\u001b[43m,\u001b[49m\n\u001b[1;32m    845\u001b[0m \u001b[43m        \u001b[49m\u001b[38;5;66;43;03m# File info\u001b[39;49;00m\n\u001b[1;32m    846\u001b[0m \u001b[43m        \u001b[49m\u001b[43mrepo_id\u001b[49m\u001b[38;5;241;43m=\u001b[39;49m\u001b[43mrepo_id\u001b[49m\u001b[43m,\u001b[49m\n\u001b[1;32m    847\u001b[0m \u001b[43m        \u001b[49m\u001b[43mrepo_type\u001b[49m\u001b[38;5;241;43m=\u001b[39;49m\u001b[43mrepo_type\u001b[49m\u001b[43m,\u001b[49m\n\u001b[1;32m    848\u001b[0m \u001b[43m        \u001b[49m\u001b[43mfilename\u001b[49m\u001b[38;5;241;43m=\u001b[39;49m\u001b[43mfilename\u001b[49m\u001b[43m,\u001b[49m\n\u001b[1;32m    849\u001b[0m \u001b[43m        \u001b[49m\u001b[43mrevision\u001b[49m\u001b[38;5;241;43m=\u001b[39;49m\u001b[43mrevision\u001b[49m\u001b[43m,\u001b[49m\n\u001b[1;32m    850\u001b[0m \u001b[43m        \u001b[49m\u001b[38;5;66;43;03m# HTTP info\u001b[39;49;00m\n\u001b[1;32m    851\u001b[0m \u001b[43m        \u001b[49m\u001b[43mendpoint\u001b[49m\u001b[38;5;241;43m=\u001b[39;49m\u001b[43mendpoint\u001b[49m\u001b[43m,\u001b[49m\n\u001b[1;32m    852\u001b[0m \u001b[43m        \u001b[49m\u001b[43metag_timeout\u001b[49m\u001b[38;5;241;43m=\u001b[39;49m\u001b[43metag_timeout\u001b[49m\u001b[43m,\u001b[49m\n\u001b[1;32m    853\u001b[0m \u001b[43m        \u001b[49m\u001b[43mheaders\u001b[49m\u001b[38;5;241;43m=\u001b[39;49m\u001b[43mheaders\u001b[49m\u001b[43m,\u001b[49m\n\u001b[1;32m    854\u001b[0m \u001b[43m        \u001b[49m\u001b[43mproxies\u001b[49m\u001b[38;5;241;43m=\u001b[39;49m\u001b[43mproxies\u001b[49m\u001b[43m,\u001b[49m\n\u001b[1;32m    855\u001b[0m \u001b[43m        \u001b[49m\u001b[43mtoken\u001b[49m\u001b[38;5;241;43m=\u001b[39;49m\u001b[43mtoken\u001b[49m\u001b[43m,\u001b[49m\n\u001b[1;32m    856\u001b[0m \u001b[43m        \u001b[49m\u001b[38;5;66;43;03m# Additional options\u001b[39;49;00m\n\u001b[1;32m    857\u001b[0m \u001b[43m        \u001b[49m\u001b[43mcache_dir\u001b[49m\u001b[38;5;241;43m=\u001b[39;49m\u001b[43mcache_dir\u001b[49m\u001b[43m,\u001b[49m\n\u001b[1;32m    858\u001b[0m \u001b[43m        \u001b[49m\u001b[43mforce_download\u001b[49m\u001b[38;5;241;43m=\u001b[39;49m\u001b[43mforce_download\u001b[49m\u001b[43m,\u001b[49m\n\u001b[1;32m    859\u001b[0m \u001b[43m        \u001b[49m\u001b[43mlocal_files_only\u001b[49m\u001b[38;5;241;43m=\u001b[39;49m\u001b[43mlocal_files_only\u001b[49m\u001b[43m,\u001b[49m\n\u001b[1;32m    860\u001b[0m \u001b[43m    \u001b[49m\u001b[43m)\u001b[49m\n\u001b[1;32m    861\u001b[0m \u001b[38;5;28;01melse\u001b[39;00m:\n\u001b[1;32m    862\u001b[0m     \u001b[38;5;28;01mreturn\u001b[39;00m _hf_hub_download_to_cache_dir(\n\u001b[1;32m    863\u001b[0m         \u001b[38;5;66;03m# Destination\u001b[39;00m\n\u001b[1;32m    864\u001b[0m         cache_dir\u001b[38;5;241m=\u001b[39mcache_dir,\n\u001b[0;32m   (...)\u001b[0m\n\u001b[1;32m    878\u001b[0m         force_download\u001b[38;5;241m=\u001b[39mforce_download,\n\u001b[1;32m    879\u001b[0m     )\n",
      "File \u001b[0;32m/opt/conda/lib/python3.10/site-packages/huggingface_hub/file_download.py:1138\u001b[0m, in \u001b[0;36m_hf_hub_download_to_local_dir\u001b[0;34m(local_dir, repo_id, repo_type, filename, revision, endpoint, etag_timeout, headers, proxies, token, cache_dir, force_download, local_files_only)\u001b[0m\n\u001b[1;32m   1136\u001b[0m \u001b[38;5;28;01mwith\u001b[39;00m WeakFileLock(paths\u001b[38;5;241m.\u001b[39mlock_path):\n\u001b[1;32m   1137\u001b[0m     paths\u001b[38;5;241m.\u001b[39mfile_path\u001b[38;5;241m.\u001b[39munlink(missing_ok\u001b[38;5;241m=\u001b[39m\u001b[38;5;28;01mTrue\u001b[39;00m)  \u001b[38;5;66;03m# delete outdated file first\u001b[39;00m\n\u001b[0;32m-> 1138\u001b[0m     \u001b[43m_download_to_tmp_and_move\u001b[49m\u001b[43m(\u001b[49m\n\u001b[1;32m   1139\u001b[0m \u001b[43m        \u001b[49m\u001b[43mincomplete_path\u001b[49m\u001b[38;5;241;43m=\u001b[39;49m\u001b[43mpaths\u001b[49m\u001b[38;5;241;43m.\u001b[39;49m\u001b[43mincomplete_path\u001b[49m\u001b[43m(\u001b[49m\u001b[43metag\u001b[49m\u001b[43m)\u001b[49m\u001b[43m,\u001b[49m\n\u001b[1;32m   1140\u001b[0m \u001b[43m        \u001b[49m\u001b[43mdestination_path\u001b[49m\u001b[38;5;241;43m=\u001b[39;49m\u001b[43mpaths\u001b[49m\u001b[38;5;241;43m.\u001b[39;49m\u001b[43mfile_path\u001b[49m\u001b[43m,\u001b[49m\n\u001b[1;32m   1141\u001b[0m \u001b[43m        \u001b[49m\u001b[43murl_to_download\u001b[49m\u001b[38;5;241;43m=\u001b[39;49m\u001b[43murl_to_download\u001b[49m\u001b[43m,\u001b[49m\n\u001b[1;32m   1142\u001b[0m \u001b[43m        \u001b[49m\u001b[43mproxies\u001b[49m\u001b[38;5;241;43m=\u001b[39;49m\u001b[43mproxies\u001b[49m\u001b[43m,\u001b[49m\n\u001b[1;32m   1143\u001b[0m \u001b[43m        \u001b[49m\u001b[43mheaders\u001b[49m\u001b[38;5;241;43m=\u001b[39;49m\u001b[43mheaders\u001b[49m\u001b[43m,\u001b[49m\n\u001b[1;32m   1144\u001b[0m \u001b[43m        \u001b[49m\u001b[43mexpected_size\u001b[49m\u001b[38;5;241;43m=\u001b[39;49m\u001b[43mexpected_size\u001b[49m\u001b[43m,\u001b[49m\n\u001b[1;32m   1145\u001b[0m \u001b[43m        \u001b[49m\u001b[43mfilename\u001b[49m\u001b[38;5;241;43m=\u001b[39;49m\u001b[43mfilename\u001b[49m\u001b[43m,\u001b[49m\n\u001b[1;32m   1146\u001b[0m \u001b[43m        \u001b[49m\u001b[43mforce_download\u001b[49m\u001b[38;5;241;43m=\u001b[39;49m\u001b[43mforce_download\u001b[49m\u001b[43m,\u001b[49m\n\u001b[1;32m   1147\u001b[0m \u001b[43m    \u001b[49m\u001b[43m)\u001b[49m\n\u001b[1;32m   1149\u001b[0m write_download_metadata(local_dir\u001b[38;5;241m=\u001b[39mlocal_dir, filename\u001b[38;5;241m=\u001b[39mfilename, commit_hash\u001b[38;5;241m=\u001b[39mcommit_hash, etag\u001b[38;5;241m=\u001b[39metag)\n\u001b[1;32m   1150\u001b[0m \u001b[38;5;28;01mreturn\u001b[39;00m \u001b[38;5;28mstr\u001b[39m(paths\u001b[38;5;241m.\u001b[39mfile_path)\n",
      "File \u001b[0;32m/opt/conda/lib/python3.10/site-packages/huggingface_hub/file_download.py:1545\u001b[0m, in \u001b[0;36m_download_to_tmp_and_move\u001b[0;34m(incomplete_path, destination_path, url_to_download, proxies, headers, expected_size, filename, force_download)\u001b[0m\n\u001b[1;32m   1542\u001b[0m         _check_disk_space(expected_size, incomplete_path\u001b[38;5;241m.\u001b[39mparent)\n\u001b[1;32m   1543\u001b[0m         _check_disk_space(expected_size, destination_path\u001b[38;5;241m.\u001b[39mparent)\n\u001b[0;32m-> 1545\u001b[0m     \u001b[43mhttp_get\u001b[49m\u001b[43m(\u001b[49m\n\u001b[1;32m   1546\u001b[0m \u001b[43m        \u001b[49m\u001b[43murl_to_download\u001b[49m\u001b[43m,\u001b[49m\n\u001b[1;32m   1547\u001b[0m \u001b[43m        \u001b[49m\u001b[43mf\u001b[49m\u001b[43m,\u001b[49m\n\u001b[1;32m   1548\u001b[0m \u001b[43m        \u001b[49m\u001b[43mproxies\u001b[49m\u001b[38;5;241;43m=\u001b[39;49m\u001b[43mproxies\u001b[49m\u001b[43m,\u001b[49m\n\u001b[1;32m   1549\u001b[0m \u001b[43m        \u001b[49m\u001b[43mresume_size\u001b[49m\u001b[38;5;241;43m=\u001b[39;49m\u001b[43mresume_size\u001b[49m\u001b[43m,\u001b[49m\n\u001b[1;32m   1550\u001b[0m \u001b[43m        \u001b[49m\u001b[43mheaders\u001b[49m\u001b[38;5;241;43m=\u001b[39;49m\u001b[43mheaders\u001b[49m\u001b[43m,\u001b[49m\n\u001b[1;32m   1551\u001b[0m \u001b[43m        \u001b[49m\u001b[43mexpected_size\u001b[49m\u001b[38;5;241;43m=\u001b[39;49m\u001b[43mexpected_size\u001b[49m\u001b[43m,\u001b[49m\n\u001b[1;32m   1552\u001b[0m \u001b[43m    \u001b[49m\u001b[43m)\u001b[49m\n\u001b[1;32m   1554\u001b[0m logger\u001b[38;5;241m.\u001b[39minfo(\u001b[38;5;124mf\u001b[39m\u001b[38;5;124m\"\u001b[39m\u001b[38;5;124mDownload complete. Moving file to \u001b[39m\u001b[38;5;132;01m{\u001b[39;00mdestination_path\u001b[38;5;132;01m}\u001b[39;00m\u001b[38;5;124m\"\u001b[39m)\n\u001b[1;32m   1555\u001b[0m _chmod_and_move(incomplete_path, destination_path)\n",
      "File \u001b[0;32m/opt/conda/lib/python3.10/site-packages/huggingface_hub/file_download.py:454\u001b[0m, in \u001b[0;36mhttp_get\u001b[0;34m(url, temp_file, proxies, resume_size, headers, expected_size, displayed_filename, _nb_retries, _tqdm_bar)\u001b[0m\n\u001b[1;32m    452\u001b[0m new_resume_size \u001b[38;5;241m=\u001b[39m resume_size\n\u001b[1;32m    453\u001b[0m \u001b[38;5;28;01mtry\u001b[39;00m:\n\u001b[0;32m--> 454\u001b[0m     \u001b[38;5;28;01mfor\u001b[39;00m chunk \u001b[38;5;129;01min\u001b[39;00m r\u001b[38;5;241m.\u001b[39miter_content(chunk_size\u001b[38;5;241m=\u001b[39mconstants\u001b[38;5;241m.\u001b[39mDOWNLOAD_CHUNK_SIZE):\n\u001b[1;32m    455\u001b[0m         \u001b[38;5;28;01mif\u001b[39;00m chunk:  \u001b[38;5;66;03m# filter out keep-alive new chunks\u001b[39;00m\n\u001b[1;32m    456\u001b[0m             progress\u001b[38;5;241m.\u001b[39mupdate(\u001b[38;5;28mlen\u001b[39m(chunk))\n",
      "File \u001b[0;32m/opt/conda/lib/python3.10/site-packages/requests/models.py:820\u001b[0m, in \u001b[0;36mResponse.iter_content.<locals>.generate\u001b[0;34m()\u001b[0m\n\u001b[1;32m    818\u001b[0m \u001b[38;5;28;01mif\u001b[39;00m \u001b[38;5;28mhasattr\u001b[39m(\u001b[38;5;28mself\u001b[39m\u001b[38;5;241m.\u001b[39mraw, \u001b[38;5;124m\"\u001b[39m\u001b[38;5;124mstream\u001b[39m\u001b[38;5;124m\"\u001b[39m):\n\u001b[1;32m    819\u001b[0m     \u001b[38;5;28;01mtry\u001b[39;00m:\n\u001b[0;32m--> 820\u001b[0m         \u001b[38;5;28;01myield from\u001b[39;00m \u001b[38;5;28mself\u001b[39m\u001b[38;5;241m.\u001b[39mraw\u001b[38;5;241m.\u001b[39mstream(chunk_size, decode_content\u001b[38;5;241m=\u001b[39m\u001b[38;5;28;01mTrue\u001b[39;00m)\n\u001b[1;32m    821\u001b[0m     \u001b[38;5;28;01mexcept\u001b[39;00m ProtocolError \u001b[38;5;28;01mas\u001b[39;00m e:\n\u001b[1;32m    822\u001b[0m         \u001b[38;5;28;01mraise\u001b[39;00m ChunkedEncodingError(e)\n",
      "File \u001b[0;32m/opt/conda/lib/python3.10/site-packages/urllib3/response.py:1043\u001b[0m, in \u001b[0;36mHTTPResponse.stream\u001b[0;34m(self, amt, decode_content)\u001b[0m\n\u001b[1;32m   1041\u001b[0m \u001b[38;5;28;01melse\u001b[39;00m:\n\u001b[1;32m   1042\u001b[0m     \u001b[38;5;28;01mwhile\u001b[39;00m \u001b[38;5;129;01mnot\u001b[39;00m is_fp_closed(\u001b[38;5;28mself\u001b[39m\u001b[38;5;241m.\u001b[39m_fp) \u001b[38;5;129;01mor\u001b[39;00m \u001b[38;5;28mlen\u001b[39m(\u001b[38;5;28mself\u001b[39m\u001b[38;5;241m.\u001b[39m_decoded_buffer) \u001b[38;5;241m>\u001b[39m \u001b[38;5;241m0\u001b[39m:\n\u001b[0;32m-> 1043\u001b[0m         data \u001b[38;5;241m=\u001b[39m \u001b[38;5;28;43mself\u001b[39;49m\u001b[38;5;241;43m.\u001b[39;49m\u001b[43mread\u001b[49m\u001b[43m(\u001b[49m\u001b[43mamt\u001b[49m\u001b[38;5;241;43m=\u001b[39;49m\u001b[43mamt\u001b[49m\u001b[43m,\u001b[49m\u001b[43m \u001b[49m\u001b[43mdecode_content\u001b[49m\u001b[38;5;241;43m=\u001b[39;49m\u001b[43mdecode_content\u001b[49m\u001b[43m)\u001b[49m\n\u001b[1;32m   1045\u001b[0m         \u001b[38;5;28;01mif\u001b[39;00m data:\n\u001b[1;32m   1046\u001b[0m             \u001b[38;5;28;01myield\u001b[39;00m data\n",
      "File \u001b[0;32m/opt/conda/lib/python3.10/site-packages/urllib3/response.py:935\u001b[0m, in \u001b[0;36mHTTPResponse.read\u001b[0;34m(self, amt, decode_content, cache_content)\u001b[0m\n\u001b[1;32m    932\u001b[0m     \u001b[38;5;28;01mif\u001b[39;00m \u001b[38;5;28mlen\u001b[39m(\u001b[38;5;28mself\u001b[39m\u001b[38;5;241m.\u001b[39m_decoded_buffer) \u001b[38;5;241m>\u001b[39m\u001b[38;5;241m=\u001b[39m amt:\n\u001b[1;32m    933\u001b[0m         \u001b[38;5;28;01mreturn\u001b[39;00m \u001b[38;5;28mself\u001b[39m\u001b[38;5;241m.\u001b[39m_decoded_buffer\u001b[38;5;241m.\u001b[39mget(amt)\n\u001b[0;32m--> 935\u001b[0m data \u001b[38;5;241m=\u001b[39m \u001b[38;5;28;43mself\u001b[39;49m\u001b[38;5;241;43m.\u001b[39;49m\u001b[43m_raw_read\u001b[49m\u001b[43m(\u001b[49m\u001b[43mamt\u001b[49m\u001b[43m)\u001b[49m\n\u001b[1;32m    937\u001b[0m flush_decoder \u001b[38;5;241m=\u001b[39m amt \u001b[38;5;129;01mis\u001b[39;00m \u001b[38;5;28;01mNone\u001b[39;00m \u001b[38;5;129;01mor\u001b[39;00m (amt \u001b[38;5;241m!=\u001b[39m \u001b[38;5;241m0\u001b[39m \u001b[38;5;129;01mand\u001b[39;00m \u001b[38;5;129;01mnot\u001b[39;00m data)\n\u001b[1;32m    939\u001b[0m \u001b[38;5;28;01mif\u001b[39;00m \u001b[38;5;129;01mnot\u001b[39;00m data \u001b[38;5;129;01mand\u001b[39;00m \u001b[38;5;28mlen\u001b[39m(\u001b[38;5;28mself\u001b[39m\u001b[38;5;241m.\u001b[39m_decoded_buffer) \u001b[38;5;241m==\u001b[39m \u001b[38;5;241m0\u001b[39m:\n",
      "File \u001b[0;32m/opt/conda/lib/python3.10/site-packages/urllib3/response.py:862\u001b[0m, in \u001b[0;36mHTTPResponse._raw_read\u001b[0;34m(self, amt, read1)\u001b[0m\n\u001b[1;32m    859\u001b[0m fp_closed \u001b[38;5;241m=\u001b[39m \u001b[38;5;28mgetattr\u001b[39m(\u001b[38;5;28mself\u001b[39m\u001b[38;5;241m.\u001b[39m_fp, \u001b[38;5;124m\"\u001b[39m\u001b[38;5;124mclosed\u001b[39m\u001b[38;5;124m\"\u001b[39m, \u001b[38;5;28;01mFalse\u001b[39;00m)\n\u001b[1;32m    861\u001b[0m \u001b[38;5;28;01mwith\u001b[39;00m \u001b[38;5;28mself\u001b[39m\u001b[38;5;241m.\u001b[39m_error_catcher():\n\u001b[0;32m--> 862\u001b[0m     data \u001b[38;5;241m=\u001b[39m \u001b[38;5;28;43mself\u001b[39;49m\u001b[38;5;241;43m.\u001b[39;49m\u001b[43m_fp_read\u001b[49m\u001b[43m(\u001b[49m\u001b[43mamt\u001b[49m\u001b[43m,\u001b[49m\u001b[43m \u001b[49m\u001b[43mread1\u001b[49m\u001b[38;5;241;43m=\u001b[39;49m\u001b[43mread1\u001b[49m\u001b[43m)\u001b[49m \u001b[38;5;28;01mif\u001b[39;00m \u001b[38;5;129;01mnot\u001b[39;00m fp_closed \u001b[38;5;28;01melse\u001b[39;00m \u001b[38;5;124mb\u001b[39m\u001b[38;5;124m\"\u001b[39m\u001b[38;5;124m\"\u001b[39m\n\u001b[1;32m    863\u001b[0m     \u001b[38;5;28;01mif\u001b[39;00m amt \u001b[38;5;129;01mis\u001b[39;00m \u001b[38;5;129;01mnot\u001b[39;00m \u001b[38;5;28;01mNone\u001b[39;00m \u001b[38;5;129;01mand\u001b[39;00m amt \u001b[38;5;241m!=\u001b[39m \u001b[38;5;241m0\u001b[39m \u001b[38;5;129;01mand\u001b[39;00m \u001b[38;5;129;01mnot\u001b[39;00m data:\n\u001b[1;32m    864\u001b[0m         \u001b[38;5;66;03m# Platform-specific: Buggy versions of Python.\u001b[39;00m\n\u001b[1;32m    865\u001b[0m         \u001b[38;5;66;03m# Close the connection when no data is returned\u001b[39;00m\n\u001b[0;32m   (...)\u001b[0m\n\u001b[1;32m    870\u001b[0m         \u001b[38;5;66;03m# not properly close the connection in all cases. There is\u001b[39;00m\n\u001b[1;32m    871\u001b[0m         \u001b[38;5;66;03m# no harm in redundantly calling close.\u001b[39;00m\n\u001b[1;32m    872\u001b[0m         \u001b[38;5;28mself\u001b[39m\u001b[38;5;241m.\u001b[39m_fp\u001b[38;5;241m.\u001b[39mclose()\n",
      "File \u001b[0;32m/opt/conda/lib/python3.10/site-packages/urllib3/response.py:845\u001b[0m, in \u001b[0;36mHTTPResponse._fp_read\u001b[0;34m(self, amt, read1)\u001b[0m\n\u001b[1;32m    842\u001b[0m     \u001b[38;5;28;01mreturn\u001b[39;00m \u001b[38;5;28mself\u001b[39m\u001b[38;5;241m.\u001b[39m_fp\u001b[38;5;241m.\u001b[39mread1(amt) \u001b[38;5;28;01mif\u001b[39;00m amt \u001b[38;5;129;01mis\u001b[39;00m \u001b[38;5;129;01mnot\u001b[39;00m \u001b[38;5;28;01mNone\u001b[39;00m \u001b[38;5;28;01melse\u001b[39;00m \u001b[38;5;28mself\u001b[39m\u001b[38;5;241m.\u001b[39m_fp\u001b[38;5;241m.\u001b[39mread1()\n\u001b[1;32m    843\u001b[0m \u001b[38;5;28;01melse\u001b[39;00m:\n\u001b[1;32m    844\u001b[0m     \u001b[38;5;66;03m# StringIO doesn't like amt=None\u001b[39;00m\n\u001b[0;32m--> 845\u001b[0m     \u001b[38;5;28;01mreturn\u001b[39;00m \u001b[38;5;28;43mself\u001b[39;49m\u001b[38;5;241;43m.\u001b[39;49m\u001b[43m_fp\u001b[49m\u001b[38;5;241;43m.\u001b[39;49m\u001b[43mread\u001b[49m\u001b[43m(\u001b[49m\u001b[43mamt\u001b[49m\u001b[43m)\u001b[49m \u001b[38;5;28;01mif\u001b[39;00m amt \u001b[38;5;129;01mis\u001b[39;00m \u001b[38;5;129;01mnot\u001b[39;00m \u001b[38;5;28;01mNone\u001b[39;00m \u001b[38;5;28;01melse\u001b[39;00m \u001b[38;5;28mself\u001b[39m\u001b[38;5;241m.\u001b[39m_fp\u001b[38;5;241m.\u001b[39mread()\n",
      "File \u001b[0;32m/opt/conda/lib/python3.10/http/client.py:466\u001b[0m, in \u001b[0;36mHTTPResponse.read\u001b[0;34m(self, amt)\u001b[0m\n\u001b[1;32m    463\u001b[0m \u001b[38;5;28;01mif\u001b[39;00m \u001b[38;5;28mself\u001b[39m\u001b[38;5;241m.\u001b[39mlength \u001b[38;5;129;01mis\u001b[39;00m \u001b[38;5;129;01mnot\u001b[39;00m \u001b[38;5;28;01mNone\u001b[39;00m \u001b[38;5;129;01mand\u001b[39;00m amt \u001b[38;5;241m>\u001b[39m \u001b[38;5;28mself\u001b[39m\u001b[38;5;241m.\u001b[39mlength:\n\u001b[1;32m    464\u001b[0m     \u001b[38;5;66;03m# clip the read to the \"end of response\"\u001b[39;00m\n\u001b[1;32m    465\u001b[0m     amt \u001b[38;5;241m=\u001b[39m \u001b[38;5;28mself\u001b[39m\u001b[38;5;241m.\u001b[39mlength\n\u001b[0;32m--> 466\u001b[0m s \u001b[38;5;241m=\u001b[39m \u001b[38;5;28;43mself\u001b[39;49m\u001b[38;5;241;43m.\u001b[39;49m\u001b[43mfp\u001b[49m\u001b[38;5;241;43m.\u001b[39;49m\u001b[43mread\u001b[49m\u001b[43m(\u001b[49m\u001b[43mamt\u001b[49m\u001b[43m)\u001b[49m\n\u001b[1;32m    467\u001b[0m \u001b[38;5;28;01mif\u001b[39;00m \u001b[38;5;129;01mnot\u001b[39;00m s \u001b[38;5;129;01mand\u001b[39;00m amt:\n\u001b[1;32m    468\u001b[0m     \u001b[38;5;66;03m# Ideally, we would raise IncompleteRead if the content-length\u001b[39;00m\n\u001b[1;32m    469\u001b[0m     \u001b[38;5;66;03m# wasn't satisfied, but it might break compatibility.\u001b[39;00m\n\u001b[1;32m    470\u001b[0m     \u001b[38;5;28mself\u001b[39m\u001b[38;5;241m.\u001b[39m_close_conn()\n",
      "File \u001b[0;32m/opt/conda/lib/python3.10/socket.py:705\u001b[0m, in \u001b[0;36mSocketIO.readinto\u001b[0;34m(self, b)\u001b[0m\n\u001b[1;32m    703\u001b[0m \u001b[38;5;28;01mwhile\u001b[39;00m \u001b[38;5;28;01mTrue\u001b[39;00m:\n\u001b[1;32m    704\u001b[0m     \u001b[38;5;28;01mtry\u001b[39;00m:\n\u001b[0;32m--> 705\u001b[0m         \u001b[38;5;28;01mreturn\u001b[39;00m \u001b[38;5;28;43mself\u001b[39;49m\u001b[38;5;241;43m.\u001b[39;49m\u001b[43m_sock\u001b[49m\u001b[38;5;241;43m.\u001b[39;49m\u001b[43mrecv_into\u001b[49m\u001b[43m(\u001b[49m\u001b[43mb\u001b[49m\u001b[43m)\u001b[49m\n\u001b[1;32m    706\u001b[0m     \u001b[38;5;28;01mexcept\u001b[39;00m timeout:\n\u001b[1;32m    707\u001b[0m         \u001b[38;5;28mself\u001b[39m\u001b[38;5;241m.\u001b[39m_timeout_occurred \u001b[38;5;241m=\u001b[39m \u001b[38;5;28;01mTrue\u001b[39;00m\n",
      "File \u001b[0;32m/opt/conda/lib/python3.10/ssl.py:1307\u001b[0m, in \u001b[0;36mSSLSocket.recv_into\u001b[0;34m(self, buffer, nbytes, flags)\u001b[0m\n\u001b[1;32m   1303\u001b[0m     \u001b[38;5;28;01mif\u001b[39;00m flags \u001b[38;5;241m!=\u001b[39m \u001b[38;5;241m0\u001b[39m:\n\u001b[1;32m   1304\u001b[0m         \u001b[38;5;28;01mraise\u001b[39;00m \u001b[38;5;167;01mValueError\u001b[39;00m(\n\u001b[1;32m   1305\u001b[0m           \u001b[38;5;124m\"\u001b[39m\u001b[38;5;124mnon-zero flags not allowed in calls to recv_into() on \u001b[39m\u001b[38;5;132;01m%s\u001b[39;00m\u001b[38;5;124m\"\u001b[39m \u001b[38;5;241m%\u001b[39m\n\u001b[1;32m   1306\u001b[0m           \u001b[38;5;28mself\u001b[39m\u001b[38;5;241m.\u001b[39m\u001b[38;5;18m__class__\u001b[39m)\n\u001b[0;32m-> 1307\u001b[0m     \u001b[38;5;28;01mreturn\u001b[39;00m \u001b[38;5;28;43mself\u001b[39;49m\u001b[38;5;241;43m.\u001b[39;49m\u001b[43mread\u001b[49m\u001b[43m(\u001b[49m\u001b[43mnbytes\u001b[49m\u001b[43m,\u001b[49m\u001b[43m \u001b[49m\u001b[43mbuffer\u001b[49m\u001b[43m)\u001b[49m\n\u001b[1;32m   1308\u001b[0m \u001b[38;5;28;01melse\u001b[39;00m:\n\u001b[1;32m   1309\u001b[0m     \u001b[38;5;28;01mreturn\u001b[39;00m \u001b[38;5;28msuper\u001b[39m()\u001b[38;5;241m.\u001b[39mrecv_into(buffer, nbytes, flags)\n",
      "File \u001b[0;32m/opt/conda/lib/python3.10/ssl.py:1163\u001b[0m, in \u001b[0;36mSSLSocket.read\u001b[0;34m(self, len, buffer)\u001b[0m\n\u001b[1;32m   1161\u001b[0m \u001b[38;5;28;01mtry\u001b[39;00m:\n\u001b[1;32m   1162\u001b[0m     \u001b[38;5;28;01mif\u001b[39;00m buffer \u001b[38;5;129;01mis\u001b[39;00m \u001b[38;5;129;01mnot\u001b[39;00m \u001b[38;5;28;01mNone\u001b[39;00m:\n\u001b[0;32m-> 1163\u001b[0m         \u001b[38;5;28;01mreturn\u001b[39;00m \u001b[38;5;28;43mself\u001b[39;49m\u001b[38;5;241;43m.\u001b[39;49m\u001b[43m_sslobj\u001b[49m\u001b[38;5;241;43m.\u001b[39;49m\u001b[43mread\u001b[49m\u001b[43m(\u001b[49m\u001b[38;5;28;43mlen\u001b[39;49m\u001b[43m,\u001b[49m\u001b[43m \u001b[49m\u001b[43mbuffer\u001b[49m\u001b[43m)\u001b[49m\n\u001b[1;32m   1164\u001b[0m     \u001b[38;5;28;01melse\u001b[39;00m:\n\u001b[1;32m   1165\u001b[0m         \u001b[38;5;28;01mreturn\u001b[39;00m \u001b[38;5;28mself\u001b[39m\u001b[38;5;241m.\u001b[39m_sslobj\u001b[38;5;241m.\u001b[39mread(\u001b[38;5;28mlen\u001b[39m)\n",
      "\u001b[0;31mKeyboardInterrupt\u001b[0m: "
     ]
    }
   ],
   "source": [
    "from huggingface_hub import hf_hub_download\n",
    "for i in range(1):\n",
    "    hf_hub_download(repo_id=\"osv5m/osv5m\", filename=str(i).zfill(2)+'.zip', subfolder=\"images/train\", repo_type='dataset', local_dir=\"datasets/OpenWorld\")\n",
    "    hf_hub_download(repo_id=\"osv5m/osv5m\", filename=\"README.md\", repo_type='dataset', local_dir=\"datasets/OpenWorld\")\n",
    "hf_hub_download(repo_id=\"osv5m/osv5m\", filename=\"train.csv\", repo_type='dataset', local_dir=\"datasets/OpenWorld\")"
   ]
  },
  {
   "cell_type": "code",
   "execution_count": 8,
   "metadata": {
    "editable": false,
    "execution": {
     "iopub.execute_input": "2024-12-05T09:23:59.680034Z",
     "iopub.status.busy": "2024-12-05T09:23:59.679677Z",
     "iopub.status.idle": "2024-12-05T09:24:09.002648Z",
     "shell.execute_reply": "2024-12-05T09:24:09.001595Z",
     "shell.execute_reply.started": "2024-12-05T09:23:59.680003Z"
    },
    "trusted": true
   },
   "outputs": [],
   "source": [
    "import os\n",
    "import zipfile\n",
    "for root, dirs, files in os.walk(\"datasets\"):\n",
    "    for file in files:\n",
    "        if file.endswith(\".zip\"):\n",
    "            with zipfile.ZipFile(os.path.join(root, file), 'r') as zip_ref:\n",
    "                zip_ref.extractall(root)\n",
    "                os.remove(os.path.join(root, file))"
   ]
  },
  {
   "cell_type": "code",
   "execution_count": 10,
   "metadata": {
    "editable": false,
    "execution": {
     "iopub.execute_input": "2024-12-04T16:39:14.509892Z",
     "iopub.status.busy": "2024-12-04T16:39:14.509407Z",
     "iopub.status.idle": "2024-12-04T16:39:14.517824Z",
     "shell.execute_reply": "2024-12-04T16:39:14.515636Z",
     "shell.execute_reply.started": "2024-12-04T16:39:14.509847Z"
    },
    "trusted": true
   },
   "outputs": [],
   "source": [
    "image_path = '/kaggle/input/test-image/test.jpeg'  # Replace with your image path\n",
    "\n",
    "custom_classes = ['blue post box']"
   ]
  },
  {
   "cell_type": "code",
   "execution_count": null,
   "metadata": {
    "editable": false,
    "execution": {
     "iopub.execute_input": "2024-12-05T09:30:16.030992Z",
     "iopub.status.busy": "2024-12-05T09:30:16.030672Z",
     "iopub.status.idle": "2024-12-05T09:30:53.303354Z",
     "shell.execute_reply": "2024-12-05T09:30:53.302646Z",
     "shell.execute_reply.started": "2024-12-05T09:30:16.030967Z"
    },
    "trusted": true
   },
   "outputs": [
    {
     "name": "stderr",
     "output_type": "stream",
     "text": [
      "/var/folders/8n/7kcjbmm92wv4f2ldlmlw82r40000gn/T/ipykernel_17965/2763937421.py:2: DtypeWarning: Columns (11,27) have mixed types. Specify dtype option on import or set low_memory=False.\n",
      "  train_df = pd.read_csv('datasets/OpenWorld/train.csv')\n"
     ]
    }
   ],
   "source": [
    "import pandas as pd\n",
    "train_df = pd.read_csv('datasets/OpenWorld/train.csv')"
   ]
  },
  {
   "cell_type": "code",
   "execution_count": 9,
   "metadata": {
    "editable": false,
    "execution": {
     "iopub.execute_input": "2024-12-05T09:31:40.349212Z",
     "iopub.status.busy": "2024-12-05T09:31:40.348876Z",
     "iopub.status.idle": "2024-12-05T09:31:40.355230Z",
     "shell.execute_reply": "2024-12-05T09:31:40.354406Z",
     "shell.execute_reply.started": "2024-12-05T09:31:40.349182Z"
    },
    "trusted": true
   },
   "outputs": [],
   "source": [
    "sf_df = train_df[train_df['sub-region'] == 'San Francisco County']"
   ]
  },
  {
   "cell_type": "code",
   "execution_count": 11,
   "metadata": {},
   "outputs": [
    {
     "data": {
      "text/html": [
       "<div>\n",
       "<style scoped>\n",
       "    .dataframe tbody tr th:only-of-type {\n",
       "        vertical-align: middle;\n",
       "    }\n",
       "\n",
       "    .dataframe tbody tr th {\n",
       "        vertical-align: top;\n",
       "    }\n",
       "\n",
       "    .dataframe thead th {\n",
       "        text-align: right;\n",
       "    }\n",
       "</style>\n",
       "<table border=\"1\" class=\"dataframe\">\n",
       "  <thead>\n",
       "    <tr style=\"text-align: right;\">\n",
       "      <th></th>\n",
       "      <th>id</th>\n",
       "      <th>latitude</th>\n",
       "      <th>longitude</th>\n",
       "      <th>thumb_original_url</th>\n",
       "      <th>country</th>\n",
       "      <th>sequence</th>\n",
       "      <th>captured_at</th>\n",
       "      <th>lon_bin</th>\n",
       "      <th>lat_bin</th>\n",
       "      <th>cell</th>\n",
       "      <th>...</th>\n",
       "      <th>quadtree_10_50000</th>\n",
       "      <th>quadtree_10_12500</th>\n",
       "      <th>quadtree_10_500</th>\n",
       "      <th>quadtree_10_2500</th>\n",
       "      <th>unique_region</th>\n",
       "      <th>unique_sub-region</th>\n",
       "      <th>unique_city</th>\n",
       "      <th>unique_country</th>\n",
       "      <th>creator_username</th>\n",
       "      <th>creator_id</th>\n",
       "    </tr>\n",
       "  </thead>\n",
       "  <tbody>\n",
       "    <tr>\n",
       "      <th>1088205</th>\n",
       "      <td>3605315972907949</td>\n",
       "      <td>37.788225</td>\n",
       "      <td>-122.431472</td>\n",
       "      <td>https://scontent-cdg4-3.xx.fbcdn.net/m1/v/t6/A...</td>\n",
       "      <td>US</td>\n",
       "      <td>dnlVvUc7OikdFHEIVTR9XQ</td>\n",
       "      <td>1473674665000</td>\n",
       "      <td>15</td>\n",
       "      <td>68</td>\n",
       "      <td>(15, 68)</td>\n",
       "      <td>...</td>\n",
       "      <td>68</td>\n",
       "      <td>269</td>\n",
       "      <td>4035</td>\n",
       "      <td>1319</td>\n",
       "      <td>California_US</td>\n",
       "      <td>San Francisco County_California_US</td>\n",
       "      <td>San Francisco_San Francisco County_California_US</td>\n",
       "      <td>US</td>\n",
       "      <td>bhousel</td>\n",
       "      <td>1.073686e+14</td>\n",
       "    </tr>\n",
       "    <tr>\n",
       "      <th>1088207</th>\n",
       "      <td>4202157466516125</td>\n",
       "      <td>37.789148</td>\n",
       "      <td>-122.437256</td>\n",
       "      <td>https://scontent-cdg4-1.xx.fbcdn.net/m1/v/t6/A...</td>\n",
       "      <td>US</td>\n",
       "      <td>a8dxtjth9b5vyevo4l0n1c</td>\n",
       "      <td>1475057013000</td>\n",
       "      <td>15</td>\n",
       "      <td>68</td>\n",
       "      <td>(15, 68)</td>\n",
       "      <td>...</td>\n",
       "      <td>68</td>\n",
       "      <td>269</td>\n",
       "      <td>4035</td>\n",
       "      <td>1319</td>\n",
       "      <td>California_US</td>\n",
       "      <td>San Francisco County_California_US</td>\n",
       "      <td>San Francisco_San Francisco County_California_US</td>\n",
       "      <td>US</td>\n",
       "      <td>bhousel</td>\n",
       "      <td>1.073686e+14</td>\n",
       "    </tr>\n",
       "    <tr>\n",
       "      <th>1088208</th>\n",
       "      <td>463618974874147</td>\n",
       "      <td>37.768582</td>\n",
       "      <td>-122.407943</td>\n",
       "      <td>https://scontent-cdg4-1.xx.fbcdn.net/m1/v/t6/A...</td>\n",
       "      <td>US</td>\n",
       "      <td>0WDeYUe1JonP8Hr9VKSq0A</td>\n",
       "      <td>1393200125000</td>\n",
       "      <td>15</td>\n",
       "      <td>68</td>\n",
       "      <td>(15, 68)</td>\n",
       "      <td>...</td>\n",
       "      <td>68</td>\n",
       "      <td>269</td>\n",
       "      <td>4035</td>\n",
       "      <td>1319</td>\n",
       "      <td>California_US</td>\n",
       "      <td>San Francisco County_California_US</td>\n",
       "      <td>San Francisco_San Francisco County_California_US</td>\n",
       "      <td>US</td>\n",
       "      <td>jesolem</td>\n",
       "      <td>1.094448e+14</td>\n",
       "    </tr>\n",
       "    <tr>\n",
       "      <th>1088209</th>\n",
       "      <td>447801236318037</td>\n",
       "      <td>37.745189</td>\n",
       "      <td>-122.442009</td>\n",
       "      <td>https://scontent-cdg4-3.xx.fbcdn.net/m1/v/t6/A...</td>\n",
       "      <td>US</td>\n",
       "      <td>HGOhTj2vRZaSAYthOW3Q-g</td>\n",
       "      <td>1475229257000</td>\n",
       "      <td>15</td>\n",
       "      <td>68</td>\n",
       "      <td>(15, 68)</td>\n",
       "      <td>...</td>\n",
       "      <td>68</td>\n",
       "      <td>269</td>\n",
       "      <td>4035</td>\n",
       "      <td>1319</td>\n",
       "      <td>California_US</td>\n",
       "      <td>San Francisco County_California_US</td>\n",
       "      <td>San Francisco_San Francisco County_California_US</td>\n",
       "      <td>US</td>\n",
       "      <td>bhousel</td>\n",
       "      <td>1.073686e+14</td>\n",
       "    </tr>\n",
       "    <tr>\n",
       "      <th>1088211</th>\n",
       "      <td>1655231981340841</td>\n",
       "      <td>37.758483</td>\n",
       "      <td>-122.425774</td>\n",
       "      <td>https://scontent-cdg4-3.xx.fbcdn.net/m1/v/t6/A...</td>\n",
       "      <td>US</td>\n",
       "      <td>CUAUBqnjoLihot2FbIYlFg</td>\n",
       "      <td>1424170691000</td>\n",
       "      <td>15</td>\n",
       "      <td>68</td>\n",
       "      <td>(15, 68)</td>\n",
       "      <td>...</td>\n",
       "      <td>68</td>\n",
       "      <td>269</td>\n",
       "      <td>4035</td>\n",
       "      <td>1319</td>\n",
       "      <td>California_US</td>\n",
       "      <td>San Francisco County_California_US</td>\n",
       "      <td>San Francisco_San Francisco County_California_US</td>\n",
       "      <td>US</td>\n",
       "      <td>sarawabreus</td>\n",
       "      <td>1.107715e+14</td>\n",
       "    </tr>\n",
       "  </tbody>\n",
       "</table>\n",
       "<p>5 rows × 32 columns</p>\n",
       "</div>"
      ],
      "text/plain": [
       "                       id   latitude   longitude  \\\n",
       "1088205  3605315972907949  37.788225 -122.431472   \n",
       "1088207  4202157466516125  37.789148 -122.437256   \n",
       "1088208   463618974874147  37.768582 -122.407943   \n",
       "1088209   447801236318037  37.745189 -122.442009   \n",
       "1088211  1655231981340841  37.758483 -122.425774   \n",
       "\n",
       "                                        thumb_original_url country  \\\n",
       "1088205  https://scontent-cdg4-3.xx.fbcdn.net/m1/v/t6/A...      US   \n",
       "1088207  https://scontent-cdg4-1.xx.fbcdn.net/m1/v/t6/A...      US   \n",
       "1088208  https://scontent-cdg4-1.xx.fbcdn.net/m1/v/t6/A...      US   \n",
       "1088209  https://scontent-cdg4-3.xx.fbcdn.net/m1/v/t6/A...      US   \n",
       "1088211  https://scontent-cdg4-3.xx.fbcdn.net/m1/v/t6/A...      US   \n",
       "\n",
       "                       sequence    captured_at  lon_bin  lat_bin      cell  \\\n",
       "1088205  dnlVvUc7OikdFHEIVTR9XQ  1473674665000       15       68  (15, 68)   \n",
       "1088207  a8dxtjth9b5vyevo4l0n1c  1475057013000       15       68  (15, 68)   \n",
       "1088208  0WDeYUe1JonP8Hr9VKSq0A  1393200125000       15       68  (15, 68)   \n",
       "1088209  HGOhTj2vRZaSAYthOW3Q-g  1475229257000       15       68  (15, 68)   \n",
       "1088211  CUAUBqnjoLihot2FbIYlFg  1424170691000       15       68  (15, 68)   \n",
       "\n",
       "         ... quadtree_10_50000 quadtree_10_12500 quadtree_10_500  \\\n",
       "1088205  ...                68               269            4035   \n",
       "1088207  ...                68               269            4035   \n",
       "1088208  ...                68               269            4035   \n",
       "1088209  ...                68               269            4035   \n",
       "1088211  ...                68               269            4035   \n",
       "\n",
       "         quadtree_10_2500  unique_region                   unique_sub-region  \\\n",
       "1088205              1319  California_US  San Francisco County_California_US   \n",
       "1088207              1319  California_US  San Francisco County_California_US   \n",
       "1088208              1319  California_US  San Francisco County_California_US   \n",
       "1088209              1319  California_US  San Francisco County_California_US   \n",
       "1088211              1319  California_US  San Francisco County_California_US   \n",
       "\n",
       "                                              unique_city  unique_country  \\\n",
       "1088205  San Francisco_San Francisco County_California_US              US   \n",
       "1088207  San Francisco_San Francisco County_California_US              US   \n",
       "1088208  San Francisco_San Francisco County_California_US              US   \n",
       "1088209  San Francisco_San Francisco County_California_US              US   \n",
       "1088211  San Francisco_San Francisco County_California_US              US   \n",
       "\n",
       "         creator_username    creator_id  \n",
       "1088205           bhousel  1.073686e+14  \n",
       "1088207           bhousel  1.073686e+14  \n",
       "1088208           jesolem  1.094448e+14  \n",
       "1088209           bhousel  1.073686e+14  \n",
       "1088211       sarawabreus  1.107715e+14  \n",
       "\n",
       "[5 rows x 32 columns]"
      ]
     },
     "execution_count": 11,
     "metadata": {},
     "output_type": "execute_result"
    }
   ],
   "source": [
    "sf_df.head()"
   ]
  },
  {
   "cell_type": "markdown",
   "metadata": {
    "editable": false
   },
   "source": [
    "### Load amenities from certain region"
   ]
  },
  {
   "cell_type": "code",
   "execution_count": 10,
   "metadata": {
    "editable": false,
    "trusted": true
   },
   "outputs": [
    {
     "name": "stdout",
     "output_type": "stream",
     "text": [
      "                           amenity   latitude   longitude\n",
      "element_type osmid                                       \n",
      "node         61680526     post_box  37.770046 -122.448534\n",
      "             265689505    post_box  37.749487 -122.408708\n",
      "             266903722    post_box  37.763169 -122.410314\n",
      "             266903723    post_box  37.754490 -122.401539\n",
      "             266903734    post_box  37.760782 -122.404006\n",
      "...                            ...        ...         ...\n",
      "way          1213210774  fast_food  37.788391 -122.397967\n",
      "             1293537276      bench  37.807658 -122.472643\n",
      "             1324192089      bench  37.783079 -122.478253\n",
      "             1326151484      bench  37.735297 -122.376198\n",
      "             1326151485      bench  37.735397 -122.376233\n",
      "\n",
      "[6861 rows x 3 columns]\n"
     ]
    },
    {
     "name": "stderr",
     "output_type": "stream",
     "text": [
      "/var/folders/8n/7kcjbmm92wv4f2ldlmlw82r40000gn/T/ipykernel_17965/2471949541.py:11: UserWarning: Geometry is in a geographic CRS. Results from 'centroid' are likely incorrect. Use 'GeoSeries.to_crs()' to re-project geometries to a projected CRS before this operation.\n",
      "\n",
      "  gdf['latitude'] = gdf.geometry.centroid.y\n",
      "/var/folders/8n/7kcjbmm92wv4f2ldlmlw82r40000gn/T/ipykernel_17965/2471949541.py:12: UserWarning: Geometry is in a geographic CRS. Results from 'centroid' are likely incorrect. Use 'GeoSeries.to_crs()' to re-project geometries to a projected CRS before this operation.\n",
      "\n",
      "  gdf['longitude'] = gdf.geometry.centroid.x\n"
     ]
    }
   ],
   "source": [
    "import osmnx as ox\n",
    "\n",
    "# Define the bounding box or location\n",
    "place_name = \"San Francisco, California, USA\"  # Example area\n",
    "tags = {'amenity': ['post_box', 'bicycle_parking', 'bench', 'fast_food', 'waste_basket']}  # Fetch all amenities\n",
    "\n",
    "# Fetch amenities in the defined area\n",
    "gdf = ox.features_from_place(place_name, tags)\n",
    "\n",
    "# Extract latitude and longitude from the geometries\n",
    "gdf['latitude'] = gdf.geometry.centroid.y\n",
    "gdf['longitude'] = gdf.geometry.centroid.x\n",
    "\n",
    "# Filter for relevant columns\n",
    "amenities_lat_lon_df = gdf[['amenity', 'latitude', 'longitude']]\n",
    "\n",
    "# Display the DataFrame\n",
    "print(amenities_lat_lon_df)"
   ]
  },
  {
   "cell_type": "code",
   "execution_count": null,
   "metadata": {},
   "outputs": [
    {
     "name": "stdout",
     "output_type": "stream",
     "text": [
      "      latitude   longitude                id  \\\n",
      "0    37.788225 -122.431472  3605315972907949   \n",
      "1    37.789148 -122.437256  4202157466516125   \n",
      "2    37.768582 -122.407943   463618974874147   \n",
      "3    37.745189 -122.442009   447801236318037   \n",
      "4    37.758483 -122.425774  1655231981340841   \n",
      "..         ...         ...               ...   \n",
      "552  37.806461 -122.404956   261388429046250   \n",
      "553  37.738176 -122.412780   325898852284739   \n",
      "554  37.797334 -122.426421   485611852584494   \n",
      "555  37.809544 -122.416815   487553699130983   \n",
      "556  37.771431 -122.430322  1005373900278738   \n",
      "\n",
      "                                             amenities  \n",
      "0                                                   []  \n",
      "1                                                   []  \n",
      "2    [{'amenity': 'post_box', 'latitude': 37.768397...  \n",
      "3                                                   []  \n",
      "4    [{'amenity': 'waste_basket', 'latitude': 37.75...  \n",
      "..                                                 ...  \n",
      "552  [{'amenity': 'waste_basket', 'latitude': 37.80...  \n",
      "553                                                 []  \n",
      "554                                                 []  \n",
      "555                                                 []  \n",
      "556  [{'amenity': 'bicycle_parking', 'latitude': 37...  \n",
      "\n",
      "[557 rows x 4 columns]\n"
     ]
    }
   ],
   "source": [
    "import pandas as pd\n",
    "from geopy.distance import geodesic\n",
    "\n",
    "# Applying to sf_df\n",
    "result_list = []\n",
    "for _, row in sf_df.iterrows():\n",
    "    picture_coords = (row['latitude'], row['longitude'])\n",
    "    amenities_in_radius = amenities_lat_lon_df[\n",
    "        amenities_lat_lon_df.apply(\n",
    "            lambda x: geodesic(picture_coords, (x['latitude'], x['longitude'])).meters <= 30,\n",
    "            axis=1\n",
    "        )\n",
    "    ]\n",
    "    result_list.append({\n",
    "        'latitude': row['latitude'],\n",
    "        'longitude': row['longitude'],\n",
    "        'id': row['id'],\n",
    "        'amenities': amenities_in_radius.to_dict('records')\n",
    "    })\n",
    "\n",
    "# Create a new DataFrame from the results\n",
    "final_df = pd.DataFrame(result_list)\n",
    "\n",
    "# Display the resulting DataFrame\n",
    "print(final_df)"
   ]
  },
  {
   "cell_type": "code",
   "execution_count": null,
   "metadata": {},
   "outputs": [
    {
     "name": "stdout",
     "output_type": "stream",
     "text": [
      "      latitude   longitude                id  \\\n",
      "0    37.768582 -122.407943   463618974874147   \n",
      "1    37.758483 -122.425774  1655231981340841   \n",
      "2    37.763731 -122.415169   304576254613199   \n",
      "3    37.769407 -122.429197   813289055956371   \n",
      "4    37.807794 -122.408051  2888091698095696   \n",
      "..         ...         ...               ...   \n",
      "106  37.767121 -122.461363  4296009723743687   \n",
      "107  37.797085 -122.399549   242578727606559   \n",
      "108  37.780785 -122.466423   519651605713361   \n",
      "109  37.806461 -122.404956   261388429046250   \n",
      "110  37.771431 -122.430322  1005373900278738   \n",
      "\n",
      "                                             amenities  \n",
      "0    [{'amenity': 'post_box', 'latitude': 37.768397...  \n",
      "1    [{'amenity': 'waste_basket', 'latitude': 37.75...  \n",
      "2    [{'amenity': 'post_box', 'latitude': 37.763584...  \n",
      "3    [{'amenity': 'bench', 'latitude': 37.769538, '...  \n",
      "4    [{'amenity': 'waste_basket', 'latitude': 37.80...  \n",
      "..                                                 ...  \n",
      "106  [{'amenity': 'bench', 'latitude': 37.7672284, ...  \n",
      "107  [{'amenity': 'bench', 'latitude': 37.797081900...  \n",
      "108  [{'amenity': 'bicycle_parking', 'latitude': 37...  \n",
      "109  [{'amenity': 'waste_basket', 'latitude': 37.80...  \n",
      "110  [{'amenity': 'bicycle_parking', 'latitude': 37...  \n",
      "\n",
      "[111 rows x 4 columns]\n"
     ]
    }
   ],
   "source": [
    "# Filter out entries with no amenities\n",
    "amenity_df = final_df[final_df['amenities'].apply(len) > 0]\n",
    "amenity_df = amenity_df.reset_index(drop=True)"
   ]
  },
  {
   "cell_type": "markdown",
   "metadata": {
    "editable": false
   },
   "source": [
    "# Model"
   ]
  },
  {
   "cell_type": "code",
   "execution_count": 16,
   "metadata": {
    "editable": false,
    "execution": {
     "iopub.execute_input": "2024-12-04T16:35:35.853534Z",
     "iopub.status.busy": "2024-12-04T16:35:35.853131Z",
     "iopub.status.idle": "2024-12-04T16:36:03.488305Z",
     "shell.execute_reply": "2024-12-04T16:36:03.487013Z",
     "shell.execute_reply.started": "2024-12-04T16:35:35.853500Z"
    },
    "trusted": true
   },
   "outputs": [],
   "source": [
    "custom_classes = [\"blue post box\"]\n",
    "model.set_classes(custom_classes)"
   ]
  },
  {
   "cell_type": "markdown",
   "metadata": {
    "editable": false
   },
   "source": [
    "# Inference"
   ]
  },
  {
   "cell_type": "code",
   "execution_count": 12,
   "metadata": {
    "editable": false,
    "execution": {
     "iopub.execute_input": "2024-12-04T17:00:58.601802Z",
     "iopub.status.busy": "2024-12-04T17:00:58.601287Z",
     "iopub.status.idle": "2024-12-04T17:00:59.831489Z",
     "shell.execute_reply": "2024-12-04T17:00:59.830064Z",
     "shell.execute_reply.started": "2024-12-04T17:00:58.601765Z"
    },
    "trusted": true
   },
   "outputs": [
    {
     "name": "stdout",
     "output_type": "stream",
     "text": [
      "/bin/bash: nvidia-smi: command not found\n"
     ]
    }
   ],
   "source": [
    "!nvidia-smi"
   ]
  },
  {
   "cell_type": "code",
   "execution_count": 17,
   "metadata": {
    "editable": false,
    "execution": {
     "iopub.execute_input": "2024-12-04T16:39:23.965525Z",
     "iopub.status.busy": "2024-12-04T16:39:23.965059Z",
     "iopub.status.idle": "2024-12-04T16:39:24.396610Z",
     "shell.execute_reply": "2024-12-04T16:39:24.395743Z",
     "shell.execute_reply.started": "2024-12-04T16:39:23.965488Z"
    },
    "trusted": true
   },
   "outputs": [
    {
     "name": "stdout",
     "output_type": "stream",
     "text": [
      "\n",
      "image 1/1 /Users/liudvikas/Programming/distance-vlm/test.jpeg: 448x640 1 blue post box, 133.7ms\n",
      "Speed: 5.3ms preprocess, 133.7ms inference, 4.0ms postprocess per image at shape (1, 3, 448, 640)\n",
      "[{'class': 'blue post box', 'confidence': 0.08160720020532608}]\n"
     ]
    }
   ],
   "source": [
    "# Perform inference\n",
    "results = model(\"test.jpeg\", conf=0.01)\n",
    "\n",
    "detections = []\n",
    "for result in results:\n",
    "    for box, cls, conf in zip(result.boxes.xyxy, result.boxes.cls, result.boxes.conf):\n",
    "        # Convert class index to a string label\n",
    "        detected_class = model.names[int(cls)]\n",
    "        if detected_class in custom_classes:\n",
    "            detection = {\n",
    "                \"class\": detected_class,\n",
    "                \"confidence\": float(conf)\n",
    "            }\n",
    "            detections.append(detection)\n",
    "\n",
    "print(detections)"
   ]
  }
 ],
 "metadata": {
  "kaggle": {
   "accelerator": "nvidiaTeslaT4",
   "dataSources": [
    {
     "datasetId": 6198997,
     "sourceId": 10059532,
     "sourceType": "datasetVersion"
    }
   ],
   "dockerImageVersionId": 30804,
   "isGpuEnabled": true,
   "isInternetEnabled": true,
   "language": "python",
   "sourceType": "notebook"
  },
  "kernelspec": {
   "display_name": "Python 3",
   "language": "python",
   "name": "python3"
  },
  "language_info": {
   "codemirror_mode": {
    "name": "ipython",
    "version": 3
   },
   "file_extension": ".py",
   "mimetype": "text/x-python",
   "name": "python",
   "nbconvert_exporter": "python",
   "pygments_lexer": "ipython3",
   "version": "3.10.13"
  }
 },
 "nbformat": 4,
 "nbformat_minor": 4
}
