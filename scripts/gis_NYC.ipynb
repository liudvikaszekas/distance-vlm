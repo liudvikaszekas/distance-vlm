{
 "cells": [
  {
   "cell_type": "code",
   "execution_count": 2,
   "metadata": {},
   "outputs": [],
   "source": [
    "import pandas as pd \n",
    "import numpy as np \n",
    "#!pip install OSMnx\n",
    "import osmnx as ox \n",
    "import geopandas as gpd "
   ]
  },
  {
   "cell_type": "code",
   "execution_count": 3,
   "metadata": {},
   "outputs": [
    {
     "data": {
      "text/html": [
       "<div>\n",
       "<style scoped>\n",
       "    .dataframe tbody tr th:only-of-type {\n",
       "        vertical-align: middle;\n",
       "    }\n",
       "\n",
       "    .dataframe tbody tr th {\n",
       "        vertical-align: top;\n",
       "    }\n",
       "\n",
       "    .dataframe thead th {\n",
       "        text-align: right;\n",
       "    }\n",
       "</style>\n",
       "<table border=\"1\" class=\"dataframe\">\n",
       "  <thead>\n",
       "    <tr style=\"text-align: right;\">\n",
       "      <th></th>\n",
       "      <th>id</th>\n",
       "      <th>bubbleId</th>\n",
       "      <th>cd</th>\n",
       "      <th>lat</th>\n",
       "      <th>lon</th>\n",
       "      <th>altitude</th>\n",
       "      <th>heading</th>\n",
       "      <th>ml</th>\n",
       "      <th>nbn</th>\n",
       "      <th>ne</th>\n",
       "      <th>pi</th>\n",
       "      <th>pr</th>\n",
       "      <th>ro</th>\n",
       "      <th>bl</th>\n",
       "    </tr>\n",
       "  </thead>\n",
       "  <tbody>\n",
       "    <tr>\n",
       "      <th>0</th>\n",
       "      <td>1341008011</td>\n",
       "      <td>1033323202202023</td>\n",
       "      <td>10/27/2021 1:38:17 PM</td>\n",
       "      <td>40.848649</td>\n",
       "      <td>-73.943092</td>\n",
       "      <td>33.003</td>\n",
       "      <td>18.950</td>\n",
       "      <td>3</td>\n",
       "      <td>NaN</td>\n",
       "      <td>1.341008e+09</td>\n",
       "      <td>1.258</td>\n",
       "      <td>1341008010</td>\n",
       "      <td>-1.089</td>\n",
       "      <td>NaN</td>\n",
       "    </tr>\n",
       "    <tr>\n",
       "      <th>1</th>\n",
       "      <td>1338889053</td>\n",
       "      <td>1033303131031131</td>\n",
       "      <td>6/17/2021 4:49:52 PM</td>\n",
       "      <td>40.761386</td>\n",
       "      <td>-73.968083</td>\n",
       "      <td>15.496</td>\n",
       "      <td>118.386</td>\n",
       "      <td>3</td>\n",
       "      <td>NaN</td>\n",
       "      <td>1.338889e+09</td>\n",
       "      <td>2.673</td>\n",
       "      <td>1338889052</td>\n",
       "      <td>-1.066</td>\n",
       "      <td>NaN</td>\n",
       "    </tr>\n",
       "    <tr>\n",
       "      <th>2</th>\n",
       "      <td>1338889917</td>\n",
       "      <td>1033303131122331</td>\n",
       "      <td>6/19/2021 10:40:52 AM</td>\n",
       "      <td>40.752386</td>\n",
       "      <td>-73.986081</td>\n",
       "      <td>19.918</td>\n",
       "      <td>119.726</td>\n",
       "      <td>3</td>\n",
       "      <td>NaN</td>\n",
       "      <td>1.339690e+09</td>\n",
       "      <td>1.558</td>\n",
       "      <td>1338889916</td>\n",
       "      <td>-0.071</td>\n",
       "      <td>NaN</td>\n",
       "    </tr>\n",
       "    <tr>\n",
       "      <th>3</th>\n",
       "      <td>1340693442</td>\n",
       "      <td>1033322111233002</td>\n",
       "      <td>10/17/2021 8:27:25 AM</td>\n",
       "      <td>40.765546</td>\n",
       "      <td>-73.997589</td>\n",
       "      <td>5.004</td>\n",
       "      <td>29.189</td>\n",
       "      <td>3</td>\n",
       "      <td>[{'id': 1340693443, 'az': 208.9}, {'id': 13409...</td>\n",
       "      <td>NaN</td>\n",
       "      <td>0.025</td>\n",
       "      <td>1340693441</td>\n",
       "      <td>-2.613</td>\n",
       "      <td>NaN</td>\n",
       "    </tr>\n",
       "    <tr>\n",
       "      <th>4</th>\n",
       "      <td>1340923982</td>\n",
       "      <td>1033323032001032</td>\n",
       "      <td>10/24/2021 4:04:51 PM</td>\n",
       "      <td>40.861159</td>\n",
       "      <td>-73.927679</td>\n",
       "      <td>8.165</td>\n",
       "      <td>334.442</td>\n",
       "      <td>3</td>\n",
       "      <td>NaN</td>\n",
       "      <td>1.340924e+09</td>\n",
       "      <td>1.007</td>\n",
       "      <td>1340923981</td>\n",
       "      <td>-1.722</td>\n",
       "      <td>NaN</td>\n",
       "    </tr>\n",
       "  </tbody>\n",
       "</table>\n",
       "</div>"
      ],
      "text/plain": [
       "           id          bubbleId                     cd        lat        lon  \\\n",
       "0  1341008011  1033323202202023  10/27/2021 1:38:17 PM  40.848649 -73.943092   \n",
       "1  1338889053  1033303131031131   6/17/2021 4:49:52 PM  40.761386 -73.968083   \n",
       "2  1338889917  1033303131122331  6/19/2021 10:40:52 AM  40.752386 -73.986081   \n",
       "3  1340693442  1033322111233002  10/17/2021 8:27:25 AM  40.765546 -73.997589   \n",
       "4  1340923982  1033323032001032  10/24/2021 4:04:51 PM  40.861159 -73.927679   \n",
       "\n",
       "   altitude  heading  ml                                                nbn  \\\n",
       "0    33.003   18.950   3                                                NaN   \n",
       "1    15.496  118.386   3                                                NaN   \n",
       "2    19.918  119.726   3                                                NaN   \n",
       "3     5.004   29.189   3  [{'id': 1340693443, 'az': 208.9}, {'id': 13409...   \n",
       "4     8.165  334.442   3                                                NaN   \n",
       "\n",
       "             ne     pi          pr     ro  bl  \n",
       "0  1.341008e+09  1.258  1341008010 -1.089 NaN  \n",
       "1  1.338889e+09  2.673  1338889052 -1.066 NaN  \n",
       "2  1.339690e+09  1.558  1338889916 -0.071 NaN  \n",
       "3           NaN  0.025  1340693441 -2.613 NaN  \n",
       "4  1.340924e+09  1.007  1340923981 -1.722 NaN  "
      ]
     },
     "execution_count": 3,
     "metadata": {},
     "output_type": "execute_result"
    }
   ],
   "source": [
    "df = pd.read_csv('./NYC_500.csv')\n",
    "df.head()"
   ]
  },
  {
   "cell_type": "code",
   "execution_count": 6,
   "metadata": {},
   "outputs": [
    {
     "name": "stdout",
     "output_type": "stream",
     "text": [
      "Error fetching amenities for ID 1341008011: No matching features. Check query location, tags, and log.\n",
      "Error fetching amenities for ID 1338889917: No matching features. Check query location, tags, and log.\n"
     ]
    },
    {
     "name": "stderr",
     "output_type": "stream",
     "text": [
      "c:\\Users\\rudra\\AppData\\Local\\Programs\\Python\\Python311\\Lib\\site-packages\\osmnx\\features.py:690: FutureWarning: In a future version, `df.iloc[:, i] = newvals` will attempt to set the values inplace instead of always setting a new array. To retain the old behavior, use either `df[df.columns[i]] = newvals` or, if columns are non-unique, `df.isetitem(i, newvals)`\n",
      "  gdf.loc[:, \"geometry\"] = gdf[\"geometry\"].make_valid()\n"
     ]
    },
    {
     "name": "stdout",
     "output_type": "stream",
     "text": [
      "Error fetching amenities for ID 1340693442: No matching features. Check query location, tags, and log.\n",
      "Error fetching amenities for ID 1340923982: No matching features. Check query location, tags, and log.\n"
     ]
    },
    {
     "name": "stderr",
     "output_type": "stream",
     "text": [
      "c:\\Users\\rudra\\AppData\\Local\\Programs\\Python\\Python311\\Lib\\site-packages\\osmnx\\features.py:690: FutureWarning: In a future version, `df.iloc[:, i] = newvals` will attempt to set the values inplace instead of always setting a new array. To retain the old behavior, use either `df[df.columns[i]] = newvals` or, if columns are non-unique, `df.isetitem(i, newvals)`\n",
      "  gdf.loc[:, \"geometry\"] = gdf[\"geometry\"].make_valid()\n"
     ]
    },
    {
     "name": "stdout",
     "output_type": "stream",
     "text": [
      "Error fetching amenities for ID 1339890186: No matching features. Check query location, tags, and log.\n",
      "Error fetching amenities for ID 1339148691: No matching features. Check query location, tags, and log.\n"
     ]
    },
    {
     "name": "stderr",
     "output_type": "stream",
     "text": [
      "c:\\Users\\rudra\\AppData\\Local\\Programs\\Python\\Python311\\Lib\\site-packages\\osmnx\\features.py:690: FutureWarning: In a future version, `df.iloc[:, i] = newvals` will attempt to set the values inplace instead of always setting a new array. To retain the old behavior, use either `df[df.columns[i]] = newvals` or, if columns are non-unique, `df.isetitem(i, newvals)`\n",
      "  gdf.loc[:, \"geometry\"] = gdf[\"geometry\"].make_valid()\n"
     ]
    },
    {
     "name": "stdout",
     "output_type": "stream",
     "text": [
      "Error fetching amenities for ID 1339690433: No matching features. Check query location, tags, and log.\n"
     ]
    },
    {
     "name": "stderr",
     "output_type": "stream",
     "text": [
      "c:\\Users\\rudra\\AppData\\Local\\Programs\\Python\\Python311\\Lib\\site-packages\\osmnx\\features.py:690: FutureWarning: In a future version, `df.iloc[:, i] = newvals` will attempt to set the values inplace instead of always setting a new array. To retain the old behavior, use either `df[df.columns[i]] = newvals` or, if columns are non-unique, `df.isetitem(i, newvals)`\n",
      "  gdf.loc[:, \"geometry\"] = gdf[\"geometry\"].make_valid()\n"
     ]
    },
    {
     "name": "stdout",
     "output_type": "stream",
     "text": [
      "Error fetching amenities for ID 1341396620: No matching features. Check query location, tags, and log.\n"
     ]
    },
    {
     "name": "stderr",
     "output_type": "stream",
     "text": [
      "c:\\Users\\rudra\\AppData\\Local\\Programs\\Python\\Python311\\Lib\\site-packages\\osmnx\\features.py:690: FutureWarning: In a future version, `df.iloc[:, i] = newvals` will attempt to set the values inplace instead of always setting a new array. To retain the old behavior, use either `df[df.columns[i]] = newvals` or, if columns are non-unique, `df.isetitem(i, newvals)`\n",
      "  gdf.loc[:, \"geometry\"] = gdf[\"geometry\"].make_valid()\n",
      "c:\\Users\\rudra\\AppData\\Local\\Programs\\Python\\Python311\\Lib\\site-packages\\osmnx\\features.py:690: FutureWarning: In a future version, `df.iloc[:, i] = newvals` will attempt to set the values inplace instead of always setting a new array. To retain the old behavior, use either `df[df.columns[i]] = newvals` or, if columns are non-unique, `df.isetitem(i, newvals)`\n",
      "  gdf.loc[:, \"geometry\"] = gdf[\"geometry\"].make_valid()\n"
     ]
    },
    {
     "name": "stdout",
     "output_type": "stream",
     "text": [
      "Error fetching amenities for ID 1340924668: No matching features. Check query location, tags, and log.\n"
     ]
    },
    {
     "name": "stderr",
     "output_type": "stream",
     "text": [
      "c:\\Users\\rudra\\AppData\\Local\\Programs\\Python\\Python311\\Lib\\site-packages\\osmnx\\features.py:690: FutureWarning: In a future version, `df.iloc[:, i] = newvals` will attempt to set the values inplace instead of always setting a new array. To retain the old behavior, use either `df[df.columns[i]] = newvals` or, if columns are non-unique, `df.isetitem(i, newvals)`\n",
      "  gdf.loc[:, \"geometry\"] = gdf[\"geometry\"].make_valid()\n",
      "c:\\Users\\rudra\\AppData\\Local\\Programs\\Python\\Python311\\Lib\\site-packages\\osmnx\\features.py:690: FutureWarning: In a future version, `df.iloc[:, i] = newvals` will attempt to set the values inplace instead of always setting a new array. To retain the old behavior, use either `df[df.columns[i]] = newvals` or, if columns are non-unique, `df.isetitem(i, newvals)`\n",
      "  gdf.loc[:, \"geometry\"] = gdf[\"geometry\"].make_valid()\n",
      "c:\\Users\\rudra\\AppData\\Local\\Programs\\Python\\Python311\\Lib\\site-packages\\osmnx\\features.py:690: FutureWarning: In a future version, `df.iloc[:, i] = newvals` will attempt to set the values inplace instead of always setting a new array. To retain the old behavior, use either `df[df.columns[i]] = newvals` or, if columns are non-unique, `df.isetitem(i, newvals)`\n",
      "  gdf.loc[:, \"geometry\"] = gdf[\"geometry\"].make_valid()\n",
      "c:\\Users\\rudra\\AppData\\Local\\Programs\\Python\\Python311\\Lib\\site-packages\\osmnx\\features.py:690: FutureWarning: In a future version, `df.iloc[:, i] = newvals` will attempt to set the values inplace instead of always setting a new array. To retain the old behavior, use either `df[df.columns[i]] = newvals` or, if columns are non-unique, `df.isetitem(i, newvals)`\n",
      "  gdf.loc[:, \"geometry\"] = gdf[\"geometry\"].make_valid()\n"
     ]
    },
    {
     "name": "stdout",
     "output_type": "stream",
     "text": [
      "Error fetching amenities for ID 1341043214: No matching features. Check query location, tags, and log.\n",
      "Error fetching amenities for ID 1341434728: No matching features. Check query location, tags, and log.\n",
      "Error fetching amenities for ID 1339810989: No matching features. Check query location, tags, and log.\n",
      "Error fetching amenities for ID 1340830365: No matching features. Check query location, tags, and log.\n",
      "Error fetching amenities for ID 605503009: No matching features. Check query location, tags, and log.\n",
      "Error fetching amenities for ID 1340694314: No matching features. Check query location, tags, and log.\n",
      "Error fetching amenities for ID 1341548318: No matching features. Check query location, tags, and log.\n",
      "Error fetching amenities for ID 604974753: No matching features. Check query location, tags, and log.\n",
      "Error fetching amenities for ID 1341548023: No matching features. Check query location, tags, and log.\n",
      "Error fetching amenities for ID 604978734: No matching features. Check query location, tags, and log.\n",
      "Error fetching amenities for ID 1341042988: No matching features. Check query location, tags, and log.\n"
     ]
    },
    {
     "name": "stderr",
     "output_type": "stream",
     "text": [
      "c:\\Users\\rudra\\AppData\\Local\\Programs\\Python\\Python311\\Lib\\site-packages\\osmnx\\features.py:690: FutureWarning: In a future version, `df.iloc[:, i] = newvals` will attempt to set the values inplace instead of always setting a new array. To retain the old behavior, use either `df[df.columns[i]] = newvals` or, if columns are non-unique, `df.isetitem(i, newvals)`\n",
      "  gdf.loc[:, \"geometry\"] = gdf[\"geometry\"].make_valid()\n"
     ]
    },
    {
     "name": "stdout",
     "output_type": "stream",
     "text": [
      "Error fetching amenities for ID 1341048577: No matching features. Check query location, tags, and log.\n",
      "Error fetching amenities for ID 1340923186: No matching features. Check query location, tags, and log.\n",
      "Error fetching amenities for ID 1340250813: No matching features. Check query location, tags, and log.\n",
      "Error fetching amenities for ID 1338997940: No matching features. Check query location, tags, and log.\n",
      "Error fetching amenities for ID 604969687: No matching features. Check query location, tags, and log.\n",
      "Error fetching amenities for ID 1339168951: No matching features. Check query location, tags, and log.\n",
      "Error fetching amenities for ID 1339722358: No matching features. Check query location, tags, and log.\n"
     ]
    },
    {
     "name": "stderr",
     "output_type": "stream",
     "text": [
      "c:\\Users\\rudra\\AppData\\Local\\Programs\\Python\\Python311\\Lib\\site-packages\\osmnx\\features.py:690: FutureWarning: In a future version, `df.iloc[:, i] = newvals` will attempt to set the values inplace instead of always setting a new array. To retain the old behavior, use either `df[df.columns[i]] = newvals` or, if columns are non-unique, `df.isetitem(i, newvals)`\n",
      "  gdf.loc[:, \"geometry\"] = gdf[\"geometry\"].make_valid()\n"
     ]
    },
    {
     "name": "stdout",
     "output_type": "stream",
     "text": [
      "Error fetching amenities for ID 1341045616: No matching features. Check query location, tags, and log.\n"
     ]
    },
    {
     "name": "stderr",
     "output_type": "stream",
     "text": [
      "c:\\Users\\rudra\\AppData\\Local\\Programs\\Python\\Python311\\Lib\\site-packages\\osmnx\\features.py:690: FutureWarning: In a future version, `df.iloc[:, i] = newvals` will attempt to set the values inplace instead of always setting a new array. To retain the old behavior, use either `df[df.columns[i]] = newvals` or, if columns are non-unique, `df.isetitem(i, newvals)`\n",
      "  gdf.loc[:, \"geometry\"] = gdf[\"geometry\"].make_valid()\n",
      "c:\\Users\\rudra\\AppData\\Local\\Programs\\Python\\Python311\\Lib\\site-packages\\osmnx\\features.py:690: FutureWarning: In a future version, `df.iloc[:, i] = newvals` will attempt to set the values inplace instead of always setting a new array. To retain the old behavior, use either `df[df.columns[i]] = newvals` or, if columns are non-unique, `df.isetitem(i, newvals)`\n",
      "  gdf.loc[:, \"geometry\"] = gdf[\"geometry\"].make_valid()\n",
      "c:\\Users\\rudra\\AppData\\Local\\Programs\\Python\\Python311\\Lib\\site-packages\\osmnx\\features.py:690: FutureWarning: In a future version, `df.iloc[:, i] = newvals` will attempt to set the values inplace instead of always setting a new array. To retain the old behavior, use either `df[df.columns[i]] = newvals` or, if columns are non-unique, `df.isetitem(i, newvals)`\n",
      "  gdf.loc[:, \"geometry\"] = gdf[\"geometry\"].make_valid()\n",
      "c:\\Users\\rudra\\AppData\\Local\\Programs\\Python\\Python311\\Lib\\site-packages\\osmnx\\features.py:690: FutureWarning: In a future version, `df.iloc[:, i] = newvals` will attempt to set the values inplace instead of always setting a new array. To retain the old behavior, use either `df[df.columns[i]] = newvals` or, if columns are non-unique, `df.isetitem(i, newvals)`\n",
      "  gdf.loc[:, \"geometry\"] = gdf[\"geometry\"].make_valid()\n"
     ]
    },
    {
     "name": "stdout",
     "output_type": "stream",
     "text": [
      "Error fetching amenities for ID 1341526280: No matching features. Check query location, tags, and log.\n",
      "Error fetching amenities for ID 1341045189: No matching features. Check query location, tags, and log.\n",
      "Error fetching amenities for ID 1341629602: No matching features. Check query location, tags, and log.\n"
     ]
    },
    {
     "name": "stderr",
     "output_type": "stream",
     "text": [
      "c:\\Users\\rudra\\AppData\\Local\\Programs\\Python\\Python311\\Lib\\site-packages\\osmnx\\features.py:690: FutureWarning: In a future version, `df.iloc[:, i] = newvals` will attempt to set the values inplace instead of always setting a new array. To retain the old behavior, use either `df[df.columns[i]] = newvals` or, if columns are non-unique, `df.isetitem(i, newvals)`\n",
      "  gdf.loc[:, \"geometry\"] = gdf[\"geometry\"].make_valid()\n"
     ]
    },
    {
     "name": "stdout",
     "output_type": "stream",
     "text": [
      "Error fetching amenities for ID 1339861941: No matching features. Check query location, tags, and log.\n"
     ]
    },
    {
     "name": "stderr",
     "output_type": "stream",
     "text": [
      "c:\\Users\\rudra\\AppData\\Local\\Programs\\Python\\Python311\\Lib\\site-packages\\osmnx\\features.py:690: FutureWarning: In a future version, `df.iloc[:, i] = newvals` will attempt to set the values inplace instead of always setting a new array. To retain the old behavior, use either `df[df.columns[i]] = newvals` or, if columns are non-unique, `df.isetitem(i, newvals)`\n",
      "  gdf.loc[:, \"geometry\"] = gdf[\"geometry\"].make_valid()\n"
     ]
    },
    {
     "name": "stdout",
     "output_type": "stream",
     "text": [
      "Error fetching amenities for ID 1340791692: No matching features. Check query location, tags, and log.\n",
      "Error fetching amenities for ID 1368090320: No matching features. Check query location, tags, and log.\n",
      "Error fetching amenities for ID 1368047761: No matching features. Check query location, tags, and log.\n",
      "Error fetching amenities for ID 1367951743: No matching features. Check query location, tags, and log.\n"
     ]
    },
    {
     "name": "stderr",
     "output_type": "stream",
     "text": [
      "c:\\Users\\rudra\\AppData\\Local\\Programs\\Python\\Python311\\Lib\\site-packages\\osmnx\\features.py:690: FutureWarning: In a future version, `df.iloc[:, i] = newvals` will attempt to set the values inplace instead of always setting a new array. To retain the old behavior, use either `df[df.columns[i]] = newvals` or, if columns are non-unique, `df.isetitem(i, newvals)`\n",
      "  gdf.loc[:, \"geometry\"] = gdf[\"geometry\"].make_valid()\n",
      "c:\\Users\\rudra\\AppData\\Local\\Programs\\Python\\Python311\\Lib\\site-packages\\osmnx\\features.py:690: FutureWarning: In a future version, `df.iloc[:, i] = newvals` will attempt to set the values inplace instead of always setting a new array. To retain the old behavior, use either `df[df.columns[i]] = newvals` or, if columns are non-unique, `df.isetitem(i, newvals)`\n",
      "  gdf.loc[:, \"geometry\"] = gdf[\"geometry\"].make_valid()\n"
     ]
    },
    {
     "name": "stdout",
     "output_type": "stream",
     "text": [
      "Error fetching amenities for ID 1341397522: No matching features. Check query location, tags, and log.\n"
     ]
    },
    {
     "name": "stderr",
     "output_type": "stream",
     "text": [
      "c:\\Users\\rudra\\AppData\\Local\\Programs\\Python\\Python311\\Lib\\site-packages\\osmnx\\features.py:690: FutureWarning: In a future version, `df.iloc[:, i] = newvals` will attempt to set the values inplace instead of always setting a new array. To retain the old behavior, use either `df[df.columns[i]] = newvals` or, if columns are non-unique, `df.isetitem(i, newvals)`\n",
      "  gdf.loc[:, \"geometry\"] = gdf[\"geometry\"].make_valid()\n",
      "c:\\Users\\rudra\\AppData\\Local\\Programs\\Python\\Python311\\Lib\\site-packages\\osmnx\\features.py:690: FutureWarning: In a future version, `df.iloc[:, i] = newvals` will attempt to set the values inplace instead of always setting a new array. To retain the old behavior, use either `df[df.columns[i]] = newvals` or, if columns are non-unique, `df.isetitem(i, newvals)`\n",
      "  gdf.loc[:, \"geometry\"] = gdf[\"geometry\"].make_valid()\n"
     ]
    },
    {
     "name": "stdout",
     "output_type": "stream",
     "text": [
      "Error fetching amenities for ID 1340394206: No matching features. Check query location, tags, and log.\n",
      "Error fetching amenities for ID 1339149761: No matching features. Check query location, tags, and log.\n",
      "Error fetching amenities for ID 1340922256: No matching features. Check query location, tags, and log.\n"
     ]
    },
    {
     "name": "stderr",
     "output_type": "stream",
     "text": [
      "c:\\Users\\rudra\\AppData\\Local\\Programs\\Python\\Python311\\Lib\\site-packages\\osmnx\\features.py:690: FutureWarning: In a future version, `df.iloc[:, i] = newvals` will attempt to set the values inplace instead of always setting a new array. To retain the old behavior, use either `df[df.columns[i]] = newvals` or, if columns are non-unique, `df.isetitem(i, newvals)`\n",
      "  gdf.loc[:, \"geometry\"] = gdf[\"geometry\"].make_valid()\n",
      "c:\\Users\\rudra\\AppData\\Local\\Programs\\Python\\Python311\\Lib\\site-packages\\osmnx\\features.py:690: FutureWarning: In a future version, `df.iloc[:, i] = newvals` will attempt to set the values inplace instead of always setting a new array. To retain the old behavior, use either `df[df.columns[i]] = newvals` or, if columns are non-unique, `df.isetitem(i, newvals)`\n",
      "  gdf.loc[:, \"geometry\"] = gdf[\"geometry\"].make_valid()\n",
      "c:\\Users\\rudra\\AppData\\Local\\Programs\\Python\\Python311\\Lib\\site-packages\\osmnx\\features.py:690: FutureWarning: In a future version, `df.iloc[:, i] = newvals` will attempt to set the values inplace instead of always setting a new array. To retain the old behavior, use either `df[df.columns[i]] = newvals` or, if columns are non-unique, `df.isetitem(i, newvals)`\n",
      "  gdf.loc[:, \"geometry\"] = gdf[\"geometry\"].make_valid()\n"
     ]
    },
    {
     "name": "stdout",
     "output_type": "stream",
     "text": [
      "Error fetching amenities for ID 1341044967: No matching features. Check query location, tags, and log.\n",
      "Error fetching amenities for ID 1339271906: No matching features. Check query location, tags, and log.\n"
     ]
    },
    {
     "name": "stderr",
     "output_type": "stream",
     "text": [
      "c:\\Users\\rudra\\AppData\\Local\\Programs\\Python\\Python311\\Lib\\site-packages\\osmnx\\features.py:690: FutureWarning: In a future version, `df.iloc[:, i] = newvals` will attempt to set the values inplace instead of always setting a new array. To retain the old behavior, use either `df[df.columns[i]] = newvals` or, if columns are non-unique, `df.isetitem(i, newvals)`\n",
      "  gdf.loc[:, \"geometry\"] = gdf[\"geometry\"].make_valid()\n",
      "c:\\Users\\rudra\\AppData\\Local\\Programs\\Python\\Python311\\Lib\\site-packages\\osmnx\\features.py:690: FutureWarning: In a future version, `df.iloc[:, i] = newvals` will attempt to set the values inplace instead of always setting a new array. To retain the old behavior, use either `df[df.columns[i]] = newvals` or, if columns are non-unique, `df.isetitem(i, newvals)`\n",
      "  gdf.loc[:, \"geometry\"] = gdf[\"geometry\"].make_valid()\n"
     ]
    },
    {
     "name": "stdout",
     "output_type": "stream",
     "text": [
      "Error fetching amenities for ID 604501295: No matching features. Check query location, tags, and log.\n",
      "Error fetching amenities for ID 604460453: No matching features. Check query location, tags, and log.\n",
      "Error fetching amenities for ID 1340920504: No matching features. Check query location, tags, and log.\n",
      "Error fetching amenities for ID 1341045639: No matching features. Check query location, tags, and log.\n"
     ]
    },
    {
     "name": "stderr",
     "output_type": "stream",
     "text": [
      "c:\\Users\\rudra\\AppData\\Local\\Programs\\Python\\Python311\\Lib\\site-packages\\osmnx\\features.py:690: FutureWarning: In a future version, `df.iloc[:, i] = newvals` will attempt to set the values inplace instead of always setting a new array. To retain the old behavior, use either `df[df.columns[i]] = newvals` or, if columns are non-unique, `df.isetitem(i, newvals)`\n",
      "  gdf.loc[:, \"geometry\"] = gdf[\"geometry\"].make_valid()\n"
     ]
    },
    {
     "name": "stdout",
     "output_type": "stream",
     "text": [
      "Error fetching amenities for ID 1339023811: No matching features. Check query location, tags, and log.\n"
     ]
    },
    {
     "name": "stderr",
     "output_type": "stream",
     "text": [
      "c:\\Users\\rudra\\AppData\\Local\\Programs\\Python\\Python311\\Lib\\site-packages\\osmnx\\features.py:690: FutureWarning: In a future version, `df.iloc[:, i] = newvals` will attempt to set the values inplace instead of always setting a new array. To retain the old behavior, use either `df[df.columns[i]] = newvals` or, if columns are non-unique, `df.isetitem(i, newvals)`\n",
      "  gdf.loc[:, \"geometry\"] = gdf[\"geometry\"].make_valid()\n"
     ]
    },
    {
     "name": "stdout",
     "output_type": "stream",
     "text": [
      "Error fetching amenities for ID 1339725157: No matching features. Check query location, tags, and log.\n",
      "Error fetching amenities for ID 1366257739: No matching features. Check query location, tags, and log.\n"
     ]
    },
    {
     "name": "stderr",
     "output_type": "stream",
     "text": [
      "c:\\Users\\rudra\\AppData\\Local\\Programs\\Python\\Python311\\Lib\\site-packages\\osmnx\\features.py:690: FutureWarning: In a future version, `df.iloc[:, i] = newvals` will attempt to set the values inplace instead of always setting a new array. To retain the old behavior, use either `df[df.columns[i]] = newvals` or, if columns are non-unique, `df.isetitem(i, newvals)`\n",
      "  gdf.loc[:, \"geometry\"] = gdf[\"geometry\"].make_valid()\n",
      "c:\\Users\\rudra\\AppData\\Local\\Programs\\Python\\Python311\\Lib\\site-packages\\osmnx\\features.py:690: FutureWarning: In a future version, `df.iloc[:, i] = newvals` will attempt to set the values inplace instead of always setting a new array. To retain the old behavior, use either `df[df.columns[i]] = newvals` or, if columns are non-unique, `df.isetitem(i, newvals)`\n",
      "  gdf.loc[:, \"geometry\"] = gdf[\"geometry\"].make_valid()\n"
     ]
    },
    {
     "name": "stdout",
     "output_type": "stream",
     "text": [
      "Error fetching amenities for ID 605526595: No matching features. Check query location, tags, and log.\n"
     ]
    },
    {
     "name": "stderr",
     "output_type": "stream",
     "text": [
      "c:\\Users\\rudra\\AppData\\Local\\Programs\\Python\\Python311\\Lib\\site-packages\\osmnx\\features.py:690: FutureWarning: In a future version, `df.iloc[:, i] = newvals` will attempt to set the values inplace instead of always setting a new array. To retain the old behavior, use either `df[df.columns[i]] = newvals` or, if columns are non-unique, `df.isetitem(i, newvals)`\n",
      "  gdf.loc[:, \"geometry\"] = gdf[\"geometry\"].make_valid()\n",
      "c:\\Users\\rudra\\AppData\\Local\\Programs\\Python\\Python311\\Lib\\site-packages\\osmnx\\features.py:690: FutureWarning: In a future version, `df.iloc[:, i] = newvals` will attempt to set the values inplace instead of always setting a new array. To retain the old behavior, use either `df[df.columns[i]] = newvals` or, if columns are non-unique, `df.isetitem(i, newvals)`\n",
      "  gdf.loc[:, \"geometry\"] = gdf[\"geometry\"].make_valid()\n"
     ]
    },
    {
     "name": "stdout",
     "output_type": "stream",
     "text": [
      "Error fetching amenities for ID 1338721268: No matching features. Check query location, tags, and log.\n",
      "Error fetching amenities for ID 1338717438: No matching features. Check query location, tags, and log.\n",
      "Error fetching amenities for ID 1339150323: No matching features. Check query location, tags, and log.\n",
      "Error fetching amenities for ID 605030477: No matching features. Check query location, tags, and log.\n",
      "Error fetching amenities for ID 1340984819: No matching features. Check query location, tags, and log.\n"
     ]
    },
    {
     "name": "stderr",
     "output_type": "stream",
     "text": [
      "c:\\Users\\rudra\\AppData\\Local\\Programs\\Python\\Python311\\Lib\\site-packages\\osmnx\\features.py:690: FutureWarning: In a future version, `df.iloc[:, i] = newvals` will attempt to set the values inplace instead of always setting a new array. To retain the old behavior, use either `df[df.columns[i]] = newvals` or, if columns are non-unique, `df.isetitem(i, newvals)`\n",
      "  gdf.loc[:, \"geometry\"] = gdf[\"geometry\"].make_valid()\n"
     ]
    },
    {
     "name": "stdout",
     "output_type": "stream",
     "text": [
      "Error fetching amenities for ID 1339782539: No matching features. Check query location, tags, and log.\n"
     ]
    },
    {
     "name": "stderr",
     "output_type": "stream",
     "text": [
      "c:\\Users\\rudra\\AppData\\Local\\Programs\\Python\\Python311\\Lib\\site-packages\\osmnx\\features.py:690: FutureWarning: In a future version, `df.iloc[:, i] = newvals` will attempt to set the values inplace instead of always setting a new array. To retain the old behavior, use either `df[df.columns[i]] = newvals` or, if columns are non-unique, `df.isetitem(i, newvals)`\n",
      "  gdf.loc[:, \"geometry\"] = gdf[\"geometry\"].make_valid()\n",
      "c:\\Users\\rudra\\AppData\\Local\\Programs\\Python\\Python311\\Lib\\site-packages\\osmnx\\features.py:690: FutureWarning: In a future version, `df.iloc[:, i] = newvals` will attempt to set the values inplace instead of always setting a new array. To retain the old behavior, use either `df[df.columns[i]] = newvals` or, if columns are non-unique, `df.isetitem(i, newvals)`\n",
      "  gdf.loc[:, \"geometry\"] = gdf[\"geometry\"].make_valid()\n"
     ]
    },
    {
     "name": "stdout",
     "output_type": "stream",
     "text": [
      "Error fetching amenities for ID 1338951786: No matching features. Check query location, tags, and log.\n",
      "Error fetching amenities for ID 1341548314: No matching features. Check query location, tags, and log.\n",
      "Error fetching amenities for ID 604976490: No matching features. Check query location, tags, and log.\n",
      "Error fetching amenities for ID 1341008576: No matching features. Check query location, tags, and log.\n",
      "Error fetching amenities for ID 1338951514: No matching features. Check query location, tags, and log.\n"
     ]
    },
    {
     "name": "stderr",
     "output_type": "stream",
     "text": [
      "c:\\Users\\rudra\\AppData\\Local\\Programs\\Python\\Python311\\Lib\\site-packages\\osmnx\\features.py:690: FutureWarning: In a future version, `df.iloc[:, i] = newvals` will attempt to set the values inplace instead of always setting a new array. To retain the old behavior, use either `df[df.columns[i]] = newvals` or, if columns are non-unique, `df.isetitem(i, newvals)`\n",
      "  gdf.loc[:, \"geometry\"] = gdf[\"geometry\"].make_valid()\n",
      "c:\\Users\\rudra\\AppData\\Local\\Programs\\Python\\Python311\\Lib\\site-packages\\osmnx\\features.py:690: FutureWarning: In a future version, `df.iloc[:, i] = newvals` will attempt to set the values inplace instead of always setting a new array. To retain the old behavior, use either `df[df.columns[i]] = newvals` or, if columns are non-unique, `df.isetitem(i, newvals)`\n",
      "  gdf.loc[:, \"geometry\"] = gdf[\"geometry\"].make_valid()\n",
      "c:\\Users\\rudra\\AppData\\Local\\Programs\\Python\\Python311\\Lib\\site-packages\\osmnx\\features.py:690: FutureWarning: In a future version, `df.iloc[:, i] = newvals` will attempt to set the values inplace instead of always setting a new array. To retain the old behavior, use either `df[df.columns[i]] = newvals` or, if columns are non-unique, `df.isetitem(i, newvals)`\n",
      "  gdf.loc[:, \"geometry\"] = gdf[\"geometry\"].make_valid()\n",
      "c:\\Users\\rudra\\AppData\\Local\\Programs\\Python\\Python311\\Lib\\site-packages\\osmnx\\features.py:690: FutureWarning: In a future version, `df.iloc[:, i] = newvals` will attempt to set the values inplace instead of always setting a new array. To retain the old behavior, use either `df[df.columns[i]] = newvals` or, if columns are non-unique, `df.isetitem(i, newvals)`\n",
      "  gdf.loc[:, \"geometry\"] = gdf[\"geometry\"].make_valid()\n"
     ]
    },
    {
     "name": "stdout",
     "output_type": "stream",
     "text": [
      "Error fetching amenities for ID 604991380: No matching features. Check query location, tags, and log.\n"
     ]
    },
    {
     "name": "stderr",
     "output_type": "stream",
     "text": [
      "c:\\Users\\rudra\\AppData\\Local\\Programs\\Python\\Python311\\Lib\\site-packages\\osmnx\\features.py:690: FutureWarning: In a future version, `df.iloc[:, i] = newvals` will attempt to set the values inplace instead of always setting a new array. To retain the old behavior, use either `df[df.columns[i]] = newvals` or, if columns are non-unique, `df.isetitem(i, newvals)`\n",
      "  gdf.loc[:, \"geometry\"] = gdf[\"geometry\"].make_valid()\n"
     ]
    },
    {
     "name": "stdout",
     "output_type": "stream",
     "text": [
      "Error fetching amenities for ID 1341397472: No matching features. Check query location, tags, and log.\n",
      "Error fetching amenities for ID 1339023174: No matching features. Check query location, tags, and log.\n"
     ]
    },
    {
     "name": "stderr",
     "output_type": "stream",
     "text": [
      "c:\\Users\\rudra\\AppData\\Local\\Programs\\Python\\Python311\\Lib\\site-packages\\osmnx\\features.py:690: FutureWarning: In a future version, `df.iloc[:, i] = newvals` will attempt to set the values inplace instead of always setting a new array. To retain the old behavior, use either `df[df.columns[i]] = newvals` or, if columns are non-unique, `df.isetitem(i, newvals)`\n",
      "  gdf.loc[:, \"geometry\"] = gdf[\"geometry\"].make_valid()\n",
      "c:\\Users\\rudra\\AppData\\Local\\Programs\\Python\\Python311\\Lib\\site-packages\\osmnx\\features.py:690: FutureWarning: In a future version, `df.iloc[:, i] = newvals` will attempt to set the values inplace instead of always setting a new array. To retain the old behavior, use either `df[df.columns[i]] = newvals` or, if columns are non-unique, `df.isetitem(i, newvals)`\n",
      "  gdf.loc[:, \"geometry\"] = gdf[\"geometry\"].make_valid()\n",
      "c:\\Users\\rudra\\AppData\\Local\\Programs\\Python\\Python311\\Lib\\site-packages\\osmnx\\features.py:690: FutureWarning: In a future version, `df.iloc[:, i] = newvals` will attempt to set the values inplace instead of always setting a new array. To retain the old behavior, use either `df[df.columns[i]] = newvals` or, if columns are non-unique, `df.isetitem(i, newvals)`\n",
      "  gdf.loc[:, \"geometry\"] = gdf[\"geometry\"].make_valid()\n",
      "c:\\Users\\rudra\\AppData\\Local\\Programs\\Python\\Python311\\Lib\\site-packages\\osmnx\\features.py:690: FutureWarning: In a future version, `df.iloc[:, i] = newvals` will attempt to set the values inplace instead of always setting a new array. To retain the old behavior, use either `df[df.columns[i]] = newvals` or, if columns are non-unique, `df.isetitem(i, newvals)`\n",
      "  gdf.loc[:, \"geometry\"] = gdf[\"geometry\"].make_valid()\n"
     ]
    },
    {
     "name": "stdout",
     "output_type": "stream",
     "text": [
      "Error fetching amenities for ID 1340960712: No matching features. Check query location, tags, and log.\n",
      "Error fetching amenities for ID 1340792029: No matching features. Check query location, tags, and log.\n"
     ]
    },
    {
     "name": "stderr",
     "output_type": "stream",
     "text": [
      "c:\\Users\\rudra\\AppData\\Local\\Programs\\Python\\Python311\\Lib\\site-packages\\osmnx\\features.py:690: FutureWarning: In a future version, `df.iloc[:, i] = newvals` will attempt to set the values inplace instead of always setting a new array. To retain the old behavior, use either `df[df.columns[i]] = newvals` or, if columns are non-unique, `df.isetitem(i, newvals)`\n",
      "  gdf.loc[:, \"geometry\"] = gdf[\"geometry\"].make_valid()\n"
     ]
    },
    {
     "name": "stdout",
     "output_type": "stream",
     "text": [
      "Error fetching amenities for ID 1340790015: No matching features. Check query location, tags, and log.\n",
      "Error fetching amenities for ID 1340921721: No matching features. Check query location, tags, and log.\n",
      "Error fetching amenities for ID 1339099171: No matching features. Check query location, tags, and log.\n",
      "Error fetching amenities for ID 1368150107: No matching features. Check query location, tags, and log.\n",
      "Error fetching amenities for ID 1339128912: No matching features. Check query location, tags, and log.\n",
      "Error fetching amenities for ID 1338777633: No matching features. Check query location, tags, and log.\n",
      "Error fetching amenities for ID 1339890273: No matching features. Check query location, tags, and log.\n",
      "Error fetching amenities for ID 1341043909: No matching features. Check query location, tags, and log.\n"
     ]
    },
    {
     "name": "stderr",
     "output_type": "stream",
     "text": [
      "c:\\Users\\rudra\\AppData\\Local\\Programs\\Python\\Python311\\Lib\\site-packages\\osmnx\\features.py:690: FutureWarning: In a future version, `df.iloc[:, i] = newvals` will attempt to set the values inplace instead of always setting a new array. To retain the old behavior, use either `df[df.columns[i]] = newvals` or, if columns are non-unique, `df.isetitem(i, newvals)`\n",
      "  gdf.loc[:, \"geometry\"] = gdf[\"geometry\"].make_valid()\n"
     ]
    },
    {
     "name": "stdout",
     "output_type": "stream",
     "text": [
      "Error fetching amenities for ID 1340828919: No matching features. Check query location, tags, and log.\n",
      "Error fetching amenities for ID 1341526637: No matching features. Check query location, tags, and log.\n"
     ]
    },
    {
     "name": "stderr",
     "output_type": "stream",
     "text": [
      "c:\\Users\\rudra\\AppData\\Local\\Programs\\Python\\Python311\\Lib\\site-packages\\osmnx\\features.py:690: FutureWarning: In a future version, `df.iloc[:, i] = newvals` will attempt to set the values inplace instead of always setting a new array. To retain the old behavior, use either `df[df.columns[i]] = newvals` or, if columns are non-unique, `df.isetitem(i, newvals)`\n",
      "  gdf.loc[:, \"geometry\"] = gdf[\"geometry\"].make_valid()\n"
     ]
    },
    {
     "name": "stdout",
     "output_type": "stream",
     "text": [
      "Error fetching amenities for ID 1341522254: No matching features. Check query location, tags, and log.\n",
      "Error fetching amenities for ID 604978848: No matching features. Check query location, tags, and log.\n"
     ]
    },
    {
     "name": "stderr",
     "output_type": "stream",
     "text": [
      "c:\\Users\\rudra\\AppData\\Local\\Programs\\Python\\Python311\\Lib\\site-packages\\osmnx\\features.py:690: FutureWarning: In a future version, `df.iloc[:, i] = newvals` will attempt to set the values inplace instead of always setting a new array. To retain the old behavior, use either `df[df.columns[i]] = newvals` or, if columns are non-unique, `df.isetitem(i, newvals)`\n",
      "  gdf.loc[:, \"geometry\"] = gdf[\"geometry\"].make_valid()\n",
      "c:\\Users\\rudra\\AppData\\Local\\Programs\\Python\\Python311\\Lib\\site-packages\\osmnx\\features.py:690: FutureWarning: In a future version, `df.iloc[:, i] = newvals` will attempt to set the values inplace instead of always setting a new array. To retain the old behavior, use either `df[df.columns[i]] = newvals` or, if columns are non-unique, `df.isetitem(i, newvals)`\n",
      "  gdf.loc[:, \"geometry\"] = gdf[\"geometry\"].make_valid()\n",
      "c:\\Users\\rudra\\AppData\\Local\\Programs\\Python\\Python311\\Lib\\site-packages\\osmnx\\features.py:690: FutureWarning: In a future version, `df.iloc[:, i] = newvals` will attempt to set the values inplace instead of always setting a new array. To retain the old behavior, use either `df[df.columns[i]] = newvals` or, if columns are non-unique, `df.isetitem(i, newvals)`\n",
      "  gdf.loc[:, \"geometry\"] = gdf[\"geometry\"].make_valid()\n"
     ]
    },
    {
     "name": "stdout",
     "output_type": "stream",
     "text": [
      "Error fetching amenities for ID 1339810593: No matching features. Check query location, tags, and log.\n"
     ]
    },
    {
     "name": "stderr",
     "output_type": "stream",
     "text": [
      "c:\\Users\\rudra\\AppData\\Local\\Programs\\Python\\Python311\\Lib\\site-packages\\osmnx\\features.py:690: FutureWarning: In a future version, `df.iloc[:, i] = newvals` will attempt to set the values inplace instead of always setting a new array. To retain the old behavior, use either `df[df.columns[i]] = newvals` or, if columns are non-unique, `df.isetitem(i, newvals)`\n",
      "  gdf.loc[:, \"geometry\"] = gdf[\"geometry\"].make_valid()\n"
     ]
    },
    {
     "name": "stdout",
     "output_type": "stream",
     "text": [
      "Error fetching amenities for ID 604977036: No matching features. Check query location, tags, and log.\n",
      "Error fetching amenities for ID 1339319875: No matching features. Check query location, tags, and log.\n",
      "Error fetching amenities for ID 1340924389: No matching features. Check query location, tags, and log.\n",
      "Error fetching amenities for ID 611930612: No matching features. Check query location, tags, and log.\n",
      "Error fetching amenities for ID 1340919750: No matching features. Check query location, tags, and log.\n",
      "Error fetching amenities for ID 1339129496: No matching features. Check query location, tags, and log.\n",
      "Error fetching amenities for ID 1338888560: No matching features. Check query location, tags, and log.\n",
      "Error fetching amenities for ID 1341434026: No matching features. Check query location, tags, and log.\n",
      "Error fetching amenities for ID 604498021: No matching features. Check query location, tags, and log.\n"
     ]
    },
    {
     "name": "stderr",
     "output_type": "stream",
     "text": [
      "c:\\Users\\rudra\\AppData\\Local\\Programs\\Python\\Python311\\Lib\\site-packages\\osmnx\\features.py:690: FutureWarning: In a future version, `df.iloc[:, i] = newvals` will attempt to set the values inplace instead of always setting a new array. To retain the old behavior, use either `df[df.columns[i]] = newvals` or, if columns are non-unique, `df.isetitem(i, newvals)`\n",
      "  gdf.loc[:, \"geometry\"] = gdf[\"geometry\"].make_valid()\n"
     ]
    },
    {
     "name": "stdout",
     "output_type": "stream",
     "text": [
      "Error fetching amenities for ID 1338950951: No matching features. Check query location, tags, and log.\n"
     ]
    },
    {
     "name": "stderr",
     "output_type": "stream",
     "text": [
      "c:\\Users\\rudra\\AppData\\Local\\Programs\\Python\\Python311\\Lib\\site-packages\\osmnx\\features.py:690: FutureWarning: In a future version, `df.iloc[:, i] = newvals` will attempt to set the values inplace instead of always setting a new array. To retain the old behavior, use either `df[df.columns[i]] = newvals` or, if columns are non-unique, `df.isetitem(i, newvals)`\n",
      "  gdf.loc[:, \"geometry\"] = gdf[\"geometry\"].make_valid()\n"
     ]
    },
    {
     "name": "stdout",
     "output_type": "stream",
     "text": [
      "Error fetching amenities for ID 1341545065: No matching features. Check query location, tags, and log.\n",
      "Error fetching amenities for ID 1339724832: No matching features. Check query location, tags, and log.\n"
     ]
    },
    {
     "name": "stderr",
     "output_type": "stream",
     "text": [
      "c:\\Users\\rudra\\AppData\\Local\\Programs\\Python\\Python311\\Lib\\site-packages\\osmnx\\features.py:690: FutureWarning: In a future version, `df.iloc[:, i] = newvals` will attempt to set the values inplace instead of always setting a new array. To retain the old behavior, use either `df[df.columns[i]] = newvals` or, if columns are non-unique, `df.isetitem(i, newvals)`\n",
      "  gdf.loc[:, \"geometry\"] = gdf[\"geometry\"].make_valid()\n",
      "c:\\Users\\rudra\\AppData\\Local\\Programs\\Python\\Python311\\Lib\\site-packages\\osmnx\\features.py:690: FutureWarning: In a future version, `df.iloc[:, i] = newvals` will attempt to set the values inplace instead of always setting a new array. To retain the old behavior, use either `df[df.columns[i]] = newvals` or, if columns are non-unique, `df.isetitem(i, newvals)`\n",
      "  gdf.loc[:, \"geometry\"] = gdf[\"geometry\"].make_valid()\n",
      "c:\\Users\\rudra\\AppData\\Local\\Programs\\Python\\Python311\\Lib\\site-packages\\osmnx\\features.py:690: FutureWarning: In a future version, `df.iloc[:, i] = newvals` will attempt to set the values inplace instead of always setting a new array. To retain the old behavior, use either `df[df.columns[i]] = newvals` or, if columns are non-unique, `df.isetitem(i, newvals)`\n",
      "  gdf.loc[:, \"geometry\"] = gdf[\"geometry\"].make_valid()\n",
      "c:\\Users\\rudra\\AppData\\Local\\Programs\\Python\\Python311\\Lib\\site-packages\\osmnx\\features.py:690: FutureWarning: In a future version, `df.iloc[:, i] = newvals` will attempt to set the values inplace instead of always setting a new array. To retain the old behavior, use either `df[df.columns[i]] = newvals` or, if columns are non-unique, `df.isetitem(i, newvals)`\n",
      "  gdf.loc[:, \"geometry\"] = gdf[\"geometry\"].make_valid()\n",
      "c:\\Users\\rudra\\AppData\\Local\\Programs\\Python\\Python311\\Lib\\site-packages\\osmnx\\features.py:690: FutureWarning: In a future version, `df.iloc[:, i] = newvals` will attempt to set the values inplace instead of always setting a new array. To retain the old behavior, use either `df[df.columns[i]] = newvals` or, if columns are non-unique, `df.isetitem(i, newvals)`\n",
      "  gdf.loc[:, \"geometry\"] = gdf[\"geometry\"].make_valid()\n",
      "c:\\Users\\rudra\\AppData\\Local\\Programs\\Python\\Python311\\Lib\\site-packages\\osmnx\\features.py:690: FutureWarning: In a future version, `df.iloc[:, i] = newvals` will attempt to set the values inplace instead of always setting a new array. To retain the old behavior, use either `df[df.columns[i]] = newvals` or, if columns are non-unique, `df.isetitem(i, newvals)`\n",
      "  gdf.loc[:, \"geometry\"] = gdf[\"geometry\"].make_valid()\n"
     ]
    },
    {
     "name": "stdout",
     "output_type": "stream",
     "text": [
      "Error fetching amenities for ID 605526557: No matching features. Check query location, tags, and log.\n"
     ]
    },
    {
     "name": "stderr",
     "output_type": "stream",
     "text": [
      "c:\\Users\\rudra\\AppData\\Local\\Programs\\Python\\Python311\\Lib\\site-packages\\osmnx\\features.py:690: FutureWarning: In a future version, `df.iloc[:, i] = newvals` will attempt to set the values inplace instead of always setting a new array. To retain the old behavior, use either `df[df.columns[i]] = newvals` or, if columns are non-unique, `df.isetitem(i, newvals)`\n",
      "  gdf.loc[:, \"geometry\"] = gdf[\"geometry\"].make_valid()\n"
     ]
    },
    {
     "name": "stdout",
     "output_type": "stream",
     "text": [
      "Error fetching amenities for ID 1340828993: No matching features. Check query location, tags, and log.\n",
      "Error fetching amenities for ID 1338728220: No matching features. Check query location, tags, and log.\n",
      "Error fetching amenities for ID 1340696122: No matching features. Check query location, tags, and log.\n"
     ]
    },
    {
     "name": "stderr",
     "output_type": "stream",
     "text": [
      "c:\\Users\\rudra\\AppData\\Local\\Programs\\Python\\Python311\\Lib\\site-packages\\osmnx\\features.py:690: FutureWarning: In a future version, `df.iloc[:, i] = newvals` will attempt to set the values inplace instead of always setting a new array. To retain the old behavior, use either `df[df.columns[i]] = newvals` or, if columns are non-unique, `df.isetitem(i, newvals)`\n",
      "  gdf.loc[:, \"geometry\"] = gdf[\"geometry\"].make_valid()\n"
     ]
    },
    {
     "name": "stdout",
     "output_type": "stream",
     "text": [
      "Error fetching amenities for ID 1338888680: No matching features. Check query location, tags, and log.\n",
      "Error fetching amenities for ID 1340694055: No matching features. Check query location, tags, and log.\n",
      "Error fetching amenities for ID 1339149139: No matching features. Check query location, tags, and log.\n",
      "Error fetching amenities for ID 1340828736: No matching features. Check query location, tags, and log.\n",
      "Error fetching amenities for ID 1340828981: No matching features. Check query location, tags, and log.\n"
     ]
    },
    {
     "name": "stderr",
     "output_type": "stream",
     "text": [
      "c:\\Users\\rudra\\AppData\\Local\\Programs\\Python\\Python311\\Lib\\site-packages\\osmnx\\features.py:690: FutureWarning: In a future version, `df.iloc[:, i] = newvals` will attempt to set the values inplace instead of always setting a new array. To retain the old behavior, use either `df[df.columns[i]] = newvals` or, if columns are non-unique, `df.isetitem(i, newvals)`\n",
      "  gdf.loc[:, \"geometry\"] = gdf[\"geometry\"].make_valid()\n",
      "c:\\Users\\rudra\\AppData\\Local\\Programs\\Python\\Python311\\Lib\\site-packages\\osmnx\\features.py:690: FutureWarning: In a future version, `df.iloc[:, i] = newvals` will attempt to set the values inplace instead of always setting a new array. To retain the old behavior, use either `df[df.columns[i]] = newvals` or, if columns are non-unique, `df.isetitem(i, newvals)`\n",
      "  gdf.loc[:, \"geometry\"] = gdf[\"geometry\"].make_valid()\n"
     ]
    },
    {
     "name": "stdout",
     "output_type": "stream",
     "text": [
      "Error fetching amenities for ID 1340922106: No matching features. Check query location, tags, and log.\n",
      "Error fetching amenities for ID 604933287: No matching features. Check query location, tags, and log.\n",
      "Error fetching amenities for ID 1341435120: No matching features. Check query location, tags, and log.\n"
     ]
    },
    {
     "name": "stderr",
     "output_type": "stream",
     "text": [
      "c:\\Users\\rudra\\AppData\\Local\\Programs\\Python\\Python311\\Lib\\site-packages\\osmnx\\features.py:690: FutureWarning: In a future version, `df.iloc[:, i] = newvals` will attempt to set the values inplace instead of always setting a new array. To retain the old behavior, use either `df[df.columns[i]] = newvals` or, if columns are non-unique, `df.isetitem(i, newvals)`\n",
      "  gdf.loc[:, \"geometry\"] = gdf[\"geometry\"].make_valid()\n"
     ]
    },
    {
     "name": "stdout",
     "output_type": "stream",
     "text": [
      "Error fetching amenities for ID 1340828915: No matching features. Check query location, tags, and log.\n",
      "Error fetching amenities for ID 1339130031: No matching features. Check query location, tags, and log.\n"
     ]
    },
    {
     "name": "stderr",
     "output_type": "stream",
     "text": [
      "c:\\Users\\rudra\\AppData\\Local\\Programs\\Python\\Python311\\Lib\\site-packages\\osmnx\\features.py:690: FutureWarning: In a future version, `df.iloc[:, i] = newvals` will attempt to set the values inplace instead of always setting a new array. To retain the old behavior, use either `df[df.columns[i]] = newvals` or, if columns are non-unique, `df.isetitem(i, newvals)`\n",
      "  gdf.loc[:, \"geometry\"] = gdf[\"geometry\"].make_valid()\n",
      "c:\\Users\\rudra\\AppData\\Local\\Programs\\Python\\Python311\\Lib\\site-packages\\osmnx\\features.py:690: FutureWarning: In a future version, `df.iloc[:, i] = newvals` will attempt to set the values inplace instead of always setting a new array. To retain the old behavior, use either `df[df.columns[i]] = newvals` or, if columns are non-unique, `df.isetitem(i, newvals)`\n",
      "  gdf.loc[:, \"geometry\"] = gdf[\"geometry\"].make_valid()\n"
     ]
    },
    {
     "name": "stdout",
     "output_type": "stream",
     "text": [
      "Error fetching amenities for ID 1340250851: No matching features. Check query location, tags, and log.\n",
      "Error fetching amenities for ID 1341396666: No matching features. Check query location, tags, and log.\n"
     ]
    },
    {
     "name": "stderr",
     "output_type": "stream",
     "text": [
      "c:\\Users\\rudra\\AppData\\Local\\Programs\\Python\\Python311\\Lib\\site-packages\\osmnx\\features.py:690: FutureWarning: In a future version, `df.iloc[:, i] = newvals` will attempt to set the values inplace instead of always setting a new array. To retain the old behavior, use either `df[df.columns[i]] = newvals` or, if columns are non-unique, `df.isetitem(i, newvals)`\n",
      "  gdf.loc[:, \"geometry\"] = gdf[\"geometry\"].make_valid()\n"
     ]
    },
    {
     "name": "stdout",
     "output_type": "stream",
     "text": [
      "Error fetching amenities for ID 1341007711: No matching features. Check query location, tags, and log.\n",
      "Error fetching amenities for ID 1368047896: No matching features. Check query location, tags, and log.\n"
     ]
    },
    {
     "name": "stderr",
     "output_type": "stream",
     "text": [
      "c:\\Users\\rudra\\AppData\\Local\\Programs\\Python\\Python311\\Lib\\site-packages\\osmnx\\features.py:690: FutureWarning: In a future version, `df.iloc[:, i] = newvals` will attempt to set the values inplace instead of always setting a new array. To retain the old behavior, use either `df[df.columns[i]] = newvals` or, if columns are non-unique, `df.isetitem(i, newvals)`\n",
      "  gdf.loc[:, \"geometry\"] = gdf[\"geometry\"].make_valid()\n",
      "c:\\Users\\rudra\\AppData\\Local\\Programs\\Python\\Python311\\Lib\\site-packages\\osmnx\\features.py:690: FutureWarning: In a future version, `df.iloc[:, i] = newvals` will attempt to set the values inplace instead of always setting a new array. To retain the old behavior, use either `df[df.columns[i]] = newvals` or, if columns are non-unique, `df.isetitem(i, newvals)`\n",
      "  gdf.loc[:, \"geometry\"] = gdf[\"geometry\"].make_valid()\n"
     ]
    },
    {
     "name": "stdout",
     "output_type": "stream",
     "text": [
      "Error fetching amenities for ID 1341044439: No matching features. Check query location, tags, and log.\n"
     ]
    },
    {
     "name": "stderr",
     "output_type": "stream",
     "text": [
      "c:\\Users\\rudra\\AppData\\Local\\Programs\\Python\\Python311\\Lib\\site-packages\\osmnx\\features.py:690: FutureWarning: In a future version, `df.iloc[:, i] = newvals` will attempt to set the values inplace instead of always setting a new array. To retain the old behavior, use either `df[df.columns[i]] = newvals` or, if columns are non-unique, `df.isetitem(i, newvals)`\n",
      "  gdf.loc[:, \"geometry\"] = gdf[\"geometry\"].make_valid()\n",
      "c:\\Users\\rudra\\AppData\\Local\\Programs\\Python\\Python311\\Lib\\site-packages\\osmnx\\features.py:690: FutureWarning: In a future version, `df.iloc[:, i] = newvals` will attempt to set the values inplace instead of always setting a new array. To retain the old behavior, use either `df[df.columns[i]] = newvals` or, if columns are non-unique, `df.isetitem(i, newvals)`\n",
      "  gdf.loc[:, \"geometry\"] = gdf[\"geometry\"].make_valid()\n"
     ]
    },
    {
     "name": "stdout",
     "output_type": "stream",
     "text": [
      "Error fetching amenities for ID 1339130614: No matching features. Check query location, tags, and log.\n"
     ]
    },
    {
     "name": "stderr",
     "output_type": "stream",
     "text": [
      "c:\\Users\\rudra\\AppData\\Local\\Programs\\Python\\Python311\\Lib\\site-packages\\osmnx\\features.py:690: FutureWarning: In a future version, `df.iloc[:, i] = newvals` will attempt to set the values inplace instead of always setting a new array. To retain the old behavior, use either `df[df.columns[i]] = newvals` or, if columns are non-unique, `df.isetitem(i, newvals)`\n",
      "  gdf.loc[:, \"geometry\"] = gdf[\"geometry\"].make_valid()\n",
      "c:\\Users\\rudra\\AppData\\Local\\Programs\\Python\\Python311\\Lib\\site-packages\\osmnx\\features.py:690: FutureWarning: In a future version, `df.iloc[:, i] = newvals` will attempt to set the values inplace instead of always setting a new array. To retain the old behavior, use either `df[df.columns[i]] = newvals` or, if columns are non-unique, `df.isetitem(i, newvals)`\n",
      "  gdf.loc[:, \"geometry\"] = gdf[\"geometry\"].make_valid()\n"
     ]
    },
    {
     "name": "stdout",
     "output_type": "stream",
     "text": [
      "Error fetching amenities for ID 1339810785: No matching features. Check query location, tags, and log.\n",
      "Error fetching amenities for ID 1340828607: No matching features. Check query location, tags, and log.\n",
      "Error fetching amenities for ID 1339357404: No matching features. Check query location, tags, and log.\n"
     ]
    },
    {
     "name": "stderr",
     "output_type": "stream",
     "text": [
      "c:\\Users\\rudra\\AppData\\Local\\Programs\\Python\\Python311\\Lib\\site-packages\\osmnx\\features.py:690: FutureWarning: In a future version, `df.iloc[:, i] = newvals` will attempt to set the values inplace instead of always setting a new array. To retain the old behavior, use either `df[df.columns[i]] = newvals` or, if columns are non-unique, `df.isetitem(i, newvals)`\n",
      "  gdf.loc[:, \"geometry\"] = gdf[\"geometry\"].make_valid()\n",
      "c:\\Users\\rudra\\AppData\\Local\\Programs\\Python\\Python311\\Lib\\site-packages\\osmnx\\features.py:690: FutureWarning: In a future version, `df.iloc[:, i] = newvals` will attempt to set the values inplace instead of always setting a new array. To retain the old behavior, use either `df[df.columns[i]] = newvals` or, if columns are non-unique, `df.isetitem(i, newvals)`\n",
      "  gdf.loc[:, \"geometry\"] = gdf[\"geometry\"].make_valid()\n"
     ]
    },
    {
     "name": "stdout",
     "output_type": "stream",
     "text": [
      "Error fetching amenities for ID 1340923144: No matching features. Check query location, tags, and log.\n",
      "Error fetching amenities for ID 1340395712: No matching features. Check query location, tags, and log.\n",
      "Error fetching amenities for ID 1339782301: No matching features. Check query location, tags, and log.\n",
      "Error fetching amenities for ID 1340904856: No matching features. Check query location, tags, and log.\n"
     ]
    },
    {
     "name": "stderr",
     "output_type": "stream",
     "text": [
      "c:\\Users\\rudra\\AppData\\Local\\Programs\\Python\\Python311\\Lib\\site-packages\\osmnx\\features.py:690: FutureWarning: In a future version, `df.iloc[:, i] = newvals` will attempt to set the values inplace instead of always setting a new array. To retain the old behavior, use either `df[df.columns[i]] = newvals` or, if columns are non-unique, `df.isetitem(i, newvals)`\n",
      "  gdf.loc[:, \"geometry\"] = gdf[\"geometry\"].make_valid()\n"
     ]
    },
    {
     "name": "stdout",
     "output_type": "stream",
     "text": [
      "Error fetching amenities for ID 604969933: No matching features. Check query location, tags, and log.\n",
      "Error fetching amenities for ID 1340920930: No matching features. Check query location, tags, and log.\n",
      "Error fetching amenities for ID 1366257777: No matching features. Check query location, tags, and log.\n"
     ]
    },
    {
     "name": "stderr",
     "output_type": "stream",
     "text": [
      "c:\\Users\\rudra\\AppData\\Local\\Programs\\Python\\Python311\\Lib\\site-packages\\osmnx\\features.py:690: FutureWarning: In a future version, `df.iloc[:, i] = newvals` will attempt to set the values inplace instead of always setting a new array. To retain the old behavior, use either `df[df.columns[i]] = newvals` or, if columns are non-unique, `df.isetitem(i, newvals)`\n",
      "  gdf.loc[:, \"geometry\"] = gdf[\"geometry\"].make_valid()\n",
      "c:\\Users\\rudra\\AppData\\Local\\Programs\\Python\\Python311\\Lib\\site-packages\\osmnx\\features.py:690: FutureWarning: In a future version, `df.iloc[:, i] = newvals` will attempt to set the values inplace instead of always setting a new array. To retain the old behavior, use either `df[df.columns[i]] = newvals` or, if columns are non-unique, `df.isetitem(i, newvals)`\n",
      "  gdf.loc[:, \"geometry\"] = gdf[\"geometry\"].make_valid()\n",
      "c:\\Users\\rudra\\AppData\\Local\\Programs\\Python\\Python311\\Lib\\site-packages\\osmnx\\features.py:690: FutureWarning: In a future version, `df.iloc[:, i] = newvals` will attempt to set the values inplace instead of always setting a new array. To retain the old behavior, use either `df[df.columns[i]] = newvals` or, if columns are non-unique, `df.isetitem(i, newvals)`\n",
      "  gdf.loc[:, \"geometry\"] = gdf[\"geometry\"].make_valid()\n"
     ]
    },
    {
     "name": "stdout",
     "output_type": "stream",
     "text": [
      "Error fetching amenities for ID 1340047865: No matching features. Check query location, tags, and log.\n"
     ]
    },
    {
     "name": "stderr",
     "output_type": "stream",
     "text": [
      "c:\\Users\\rudra\\AppData\\Local\\Programs\\Python\\Python311\\Lib\\site-packages\\osmnx\\features.py:690: FutureWarning: In a future version, `df.iloc[:, i] = newvals` will attempt to set the values inplace instead of always setting a new array. To retain the old behavior, use either `df[df.columns[i]] = newvals` or, if columns are non-unique, `df.isetitem(i, newvals)`\n",
      "  gdf.loc[:, \"geometry\"] = gdf[\"geometry\"].make_valid()\n"
     ]
    },
    {
     "name": "stdout",
     "output_type": "stream",
     "text": [
      "Error fetching amenities for ID 1338717469: No matching features. Check query location, tags, and log.\n",
      "Error fetching amenities for ID 1341047220: No matching features. Check query location, tags, and log.\n",
      "Error fetching amenities for ID 604528437: No matching features. Check query location, tags, and log.\n",
      "Error fetching amenities for ID 604502103: No matching features. Check query location, tags, and log.\n"
     ]
    },
    {
     "name": "stderr",
     "output_type": "stream",
     "text": [
      "c:\\Users\\rudra\\AppData\\Local\\Programs\\Python\\Python311\\Lib\\site-packages\\osmnx\\features.py:690: FutureWarning: In a future version, `df.iloc[:, i] = newvals` will attempt to set the values inplace instead of always setting a new array. To retain the old behavior, use either `df[df.columns[i]] = newvals` or, if columns are non-unique, `df.isetitem(i, newvals)`\n",
      "  gdf.loc[:, \"geometry\"] = gdf[\"geometry\"].make_valid()\n",
      "c:\\Users\\rudra\\AppData\\Local\\Programs\\Python\\Python311\\Lib\\site-packages\\osmnx\\features.py:690: FutureWarning: In a future version, `df.iloc[:, i] = newvals` will attempt to set the values inplace instead of always setting a new array. To retain the old behavior, use either `df[df.columns[i]] = newvals` or, if columns are non-unique, `df.isetitem(i, newvals)`\n",
      "  gdf.loc[:, \"geometry\"] = gdf[\"geometry\"].make_valid()\n"
     ]
    },
    {
     "name": "stdout",
     "output_type": "stream",
     "text": [
      "Error fetching amenities for ID 1341527784: No matching features. Check query location, tags, and log.\n",
      "Error fetching amenities for ID 1339147963: No matching features. Check query location, tags, and log.\n"
     ]
    },
    {
     "name": "stderr",
     "output_type": "stream",
     "text": [
      "c:\\Users\\rudra\\AppData\\Local\\Programs\\Python\\Python311\\Lib\\site-packages\\osmnx\\features.py:690: FutureWarning: In a future version, `df.iloc[:, i] = newvals` will attempt to set the values inplace instead of always setting a new array. To retain the old behavior, use either `df[df.columns[i]] = newvals` or, if columns are non-unique, `df.isetitem(i, newvals)`\n",
      "  gdf.loc[:, \"geometry\"] = gdf[\"geometry\"].make_valid()\n",
      "c:\\Users\\rudra\\AppData\\Local\\Programs\\Python\\Python311\\Lib\\site-packages\\osmnx\\features.py:690: FutureWarning: In a future version, `df.iloc[:, i] = newvals` will attempt to set the values inplace instead of always setting a new array. To retain the old behavior, use either `df[df.columns[i]] = newvals` or, if columns are non-unique, `df.isetitem(i, newvals)`\n",
      "  gdf.loc[:, \"geometry\"] = gdf[\"geometry\"].make_valid()\n"
     ]
    },
    {
     "name": "stdout",
     "output_type": "stream",
     "text": [
      "Error fetching amenities for ID 1340792676: No matching features. Check query location, tags, and log.\n",
      "Error fetching amenities for ID 1341397116: No matching features. Check query location, tags, and log.\n"
     ]
    },
    {
     "name": "stderr",
     "output_type": "stream",
     "text": [
      "c:\\Users\\rudra\\AppData\\Local\\Programs\\Python\\Python311\\Lib\\site-packages\\osmnx\\features.py:690: FutureWarning: In a future version, `df.iloc[:, i] = newvals` will attempt to set the values inplace instead of always setting a new array. To retain the old behavior, use either `df[df.columns[i]] = newvals` or, if columns are non-unique, `df.isetitem(i, newvals)`\n",
      "  gdf.loc[:, \"geometry\"] = gdf[\"geometry\"].make_valid()\n",
      "c:\\Users\\rudra\\AppData\\Local\\Programs\\Python\\Python311\\Lib\\site-packages\\osmnx\\features.py:690: FutureWarning: In a future version, `df.iloc[:, i] = newvals` will attempt to set the values inplace instead of always setting a new array. To retain the old behavior, use either `df[df.columns[i]] = newvals` or, if columns are non-unique, `df.isetitem(i, newvals)`\n",
      "  gdf.loc[:, \"geometry\"] = gdf[\"geometry\"].make_valid()\n"
     ]
    },
    {
     "name": "stdout",
     "output_type": "stream",
     "text": [
      "Error fetching amenities for ID 1340984225: No matching features. Check query location, tags, and log.\n"
     ]
    },
    {
     "name": "stderr",
     "output_type": "stream",
     "text": [
      "c:\\Users\\rudra\\AppData\\Local\\Programs\\Python\\Python311\\Lib\\site-packages\\osmnx\\features.py:690: FutureWarning: In a future version, `df.iloc[:, i] = newvals` will attempt to set the values inplace instead of always setting a new array. To retain the old behavior, use either `df[df.columns[i]] = newvals` or, if columns are non-unique, `df.isetitem(i, newvals)`\n",
      "  gdf.loc[:, \"geometry\"] = gdf[\"geometry\"].make_valid()\n"
     ]
    },
    {
     "name": "stdout",
     "output_type": "stream",
     "text": [
      "Error fetching amenities for ID 1340903364: No matching features. Check query location, tags, and log.\n",
      "Error fetching amenities for ID 1367993610: No matching features. Check query location, tags, and log.\n",
      "Error fetching amenities for ID 604970847: No matching features. Check query location, tags, and log.\n"
     ]
    },
    {
     "name": "stderr",
     "output_type": "stream",
     "text": [
      "c:\\Users\\rudra\\AppData\\Local\\Programs\\Python\\Python311\\Lib\\site-packages\\osmnx\\features.py:690: FutureWarning: In a future version, `df.iloc[:, i] = newvals` will attempt to set the values inplace instead of always setting a new array. To retain the old behavior, use either `df[df.columns[i]] = newvals` or, if columns are non-unique, `df.isetitem(i, newvals)`\n",
      "  gdf.loc[:, \"geometry\"] = gdf[\"geometry\"].make_valid()\n"
     ]
    },
    {
     "name": "stdout",
     "output_type": "stream",
     "text": [
      "Error fetching amenities for ID 1367994043: No matching features. Check query location, tags, and log.\n",
      "Error fetching amenities for ID 1339148975: No matching features. Check query location, tags, and log.\n",
      "Error fetching amenities for ID 1340047896: No matching features. Check query location, tags, and log.\n",
      "Error fetching amenities for ID 605516446: No matching features. Check query location, tags, and log.\n"
     ]
    },
    {
     "name": "stderr",
     "output_type": "stream",
     "text": [
      "c:\\Users\\rudra\\AppData\\Local\\Programs\\Python\\Python311\\Lib\\site-packages\\osmnx\\features.py:690: FutureWarning: In a future version, `df.iloc[:, i] = newvals` will attempt to set the values inplace instead of always setting a new array. To retain the old behavior, use either `df[df.columns[i]] = newvals` or, if columns are non-unique, `df.isetitem(i, newvals)`\n",
      "  gdf.loc[:, \"geometry\"] = gdf[\"geometry\"].make_valid()\n"
     ]
    },
    {
     "name": "stdout",
     "output_type": "stream",
     "text": [
      "Error fetching amenities for ID 1339151036: No matching features. Check query location, tags, and log.\n"
     ]
    },
    {
     "name": "stderr",
     "output_type": "stream",
     "text": [
      "c:\\Users\\rudra\\AppData\\Local\\Programs\\Python\\Python311\\Lib\\site-packages\\osmnx\\features.py:690: FutureWarning: In a future version, `df.iloc[:, i] = newvals` will attempt to set the values inplace instead of always setting a new array. To retain the old behavior, use either `df[df.columns[i]] = newvals` or, if columns are non-unique, `df.isetitem(i, newvals)`\n",
      "  gdf.loc[:, \"geometry\"] = gdf[\"geometry\"].make_valid()\n",
      "c:\\Users\\rudra\\AppData\\Local\\Programs\\Python\\Python311\\Lib\\site-packages\\osmnx\\features.py:690: FutureWarning: In a future version, `df.iloc[:, i] = newvals` will attempt to set the values inplace instead of always setting a new array. To retain the old behavior, use either `df[df.columns[i]] = newvals` or, if columns are non-unique, `df.isetitem(i, newvals)`\n",
      "  gdf.loc[:, \"geometry\"] = gdf[\"geometry\"].make_valid()\n"
     ]
    },
    {
     "name": "stdout",
     "output_type": "stream",
     "text": [
      "Error fetching amenities for ID 1341545490: No matching features. Check query location, tags, and log.\n",
      "Error fetching amenities for ID 604502336: No matching features. Check query location, tags, and log.\n",
      "Error fetching amenities for ID 1339024435: No matching features. Check query location, tags, and log.\n"
     ]
    },
    {
     "name": "stderr",
     "output_type": "stream",
     "text": [
      "c:\\Users\\rudra\\AppData\\Local\\Programs\\Python\\Python311\\Lib\\site-packages\\osmnx\\features.py:690: FutureWarning: In a future version, `df.iloc[:, i] = newvals` will attempt to set the values inplace instead of always setting a new array. To retain the old behavior, use either `df[df.columns[i]] = newvals` or, if columns are non-unique, `df.isetitem(i, newvals)`\n",
      "  gdf.loc[:, \"geometry\"] = gdf[\"geometry\"].make_valid()\n",
      "c:\\Users\\rudra\\AppData\\Local\\Programs\\Python\\Python311\\Lib\\site-packages\\osmnx\\features.py:690: FutureWarning: In a future version, `df.iloc[:, i] = newvals` will attempt to set the values inplace instead of always setting a new array. To retain the old behavior, use either `df[df.columns[i]] = newvals` or, if columns are non-unique, `df.isetitem(i, newvals)`\n",
      "  gdf.loc[:, \"geometry\"] = gdf[\"geometry\"].make_valid()\n"
     ]
    },
    {
     "name": "stdout",
     "output_type": "stream",
     "text": [
      "Error fetching amenities for ID 1341043798: No matching features. Check query location, tags, and log.\n",
      "Error fetching amenities for ID 1368047334: No matching features. Check query location, tags, and log.\n"
     ]
    },
    {
     "name": "stderr",
     "output_type": "stream",
     "text": [
      "c:\\Users\\rudra\\AppData\\Local\\Programs\\Python\\Python311\\Lib\\site-packages\\osmnx\\features.py:690: FutureWarning: In a future version, `df.iloc[:, i] = newvals` will attempt to set the values inplace instead of always setting a new array. To retain the old behavior, use either `df[df.columns[i]] = newvals` or, if columns are non-unique, `df.isetitem(i, newvals)`\n",
      "  gdf.loc[:, \"geometry\"] = gdf[\"geometry\"].make_valid()\n"
     ]
    },
    {
     "name": "stdout",
     "output_type": "stream",
     "text": [
      "Error fetching amenities for ID 605002305: No matching features. Check query location, tags, and log.\n",
      "Error fetching amenities for ID 1339810378: No matching features. Check query location, tags, and log.\n",
      "Error fetching amenities for ID 1340904440: No matching features. Check query location, tags, and log.\n",
      "Error fetching amenities for ID 1340830472: No matching features. Check query location, tags, and log.\n",
      "Error fetching amenities for ID 1341044832: No matching features. Check query location, tags, and log.\n",
      "Error fetching amenities for ID 1340287017: No matching features. Check query location, tags, and log.\n"
     ]
    },
    {
     "name": "stderr",
     "output_type": "stream",
     "text": [
      "c:\\Users\\rudra\\AppData\\Local\\Programs\\Python\\Python311\\Lib\\site-packages\\osmnx\\features.py:690: FutureWarning: In a future version, `df.iloc[:, i] = newvals` will attempt to set the values inplace instead of always setting a new array. To retain the old behavior, use either `df[df.columns[i]] = newvals` or, if columns are non-unique, `df.isetitem(i, newvals)`\n",
      "  gdf.loc[:, \"geometry\"] = gdf[\"geometry\"].make_valid()\n"
     ]
    },
    {
     "name": "stdout",
     "output_type": "stream",
     "text": [
      "Error fetching amenities for ID 1341546061: No matching features. Check query location, tags, and log.\n"
     ]
    },
    {
     "name": "stderr",
     "output_type": "stream",
     "text": [
      "c:\\Users\\rudra\\AppData\\Local\\Programs\\Python\\Python311\\Lib\\site-packages\\osmnx\\features.py:690: FutureWarning: In a future version, `df.iloc[:, i] = newvals` will attempt to set the values inplace instead of always setting a new array. To retain the old behavior, use either `df[df.columns[i]] = newvals` or, if columns are non-unique, `df.isetitem(i, newvals)`\n",
      "  gdf.loc[:, \"geometry\"] = gdf[\"geometry\"].make_valid()\n",
      "c:\\Users\\rudra\\AppData\\Local\\Programs\\Python\\Python311\\Lib\\site-packages\\osmnx\\features.py:690: FutureWarning: In a future version, `df.iloc[:, i] = newvals` will attempt to set the values inplace instead of always setting a new array. To retain the old behavior, use either `df[df.columns[i]] = newvals` or, if columns are non-unique, `df.isetitem(i, newvals)`\n",
      "  gdf.loc[:, \"geometry\"] = gdf[\"geometry\"].make_valid()\n",
      "c:\\Users\\rudra\\AppData\\Local\\Programs\\Python\\Python311\\Lib\\site-packages\\osmnx\\features.py:690: FutureWarning: In a future version, `df.iloc[:, i] = newvals` will attempt to set the values inplace instead of always setting a new array. To retain the old behavior, use either `df[df.columns[i]] = newvals` or, if columns are non-unique, `df.isetitem(i, newvals)`\n",
      "  gdf.loc[:, \"geometry\"] = gdf[\"geometry\"].make_valid()\n"
     ]
    },
    {
     "name": "stdout",
     "output_type": "stream",
     "text": [
      "Error fetching amenities for ID 1340920665: No matching features. Check query location, tags, and log.\n",
      "Error fetching amenities for ID 1341525586: No matching features. Check query location, tags, and log.\n",
      "Error fetching amenities for ID 1339150678: No matching features. Check query location, tags, and log.\n",
      "Error fetching amenities for ID 1341044107: No matching features. Check query location, tags, and log.\n",
      "Error fetching amenities for ID 1340921388: No matching features. Check query location, tags, and log.\n",
      "Error fetching amenities for ID 1341043145: No matching features. Check query location, tags, and log.\n"
     ]
    },
    {
     "name": "stderr",
     "output_type": "stream",
     "text": [
      "c:\\Users\\rudra\\AppData\\Local\\Programs\\Python\\Python311\\Lib\\site-packages\\osmnx\\features.py:690: FutureWarning: In a future version, `df.iloc[:, i] = newvals` will attempt to set the values inplace instead of always setting a new array. To retain the old behavior, use either `df[df.columns[i]] = newvals` or, if columns are non-unique, `df.isetitem(i, newvals)`\n",
      "  gdf.loc[:, \"geometry\"] = gdf[\"geometry\"].make_valid()\n",
      "c:\\Users\\rudra\\AppData\\Local\\Programs\\Python\\Python311\\Lib\\site-packages\\osmnx\\features.py:690: FutureWarning: In a future version, `df.iloc[:, i] = newvals` will attempt to set the values inplace instead of always setting a new array. To retain the old behavior, use either `df[df.columns[i]] = newvals` or, if columns are non-unique, `df.isetitem(i, newvals)`\n",
      "  gdf.loc[:, \"geometry\"] = gdf[\"geometry\"].make_valid()\n"
     ]
    },
    {
     "name": "stdout",
     "output_type": "stream",
     "text": [
      "Error fetching amenities for ID 1338981995: No matching features. Check query location, tags, and log.\n",
      "Error fetching amenities for ID 1340924860: No matching features. Check query location, tags, and log.\n",
      "Error fetching amenities for ID 1339128724: No matching features. Check query location, tags, and log.\n"
     ]
    },
    {
     "name": "stderr",
     "output_type": "stream",
     "text": [
      "c:\\Users\\rudra\\AppData\\Local\\Programs\\Python\\Python311\\Lib\\site-packages\\osmnx\\features.py:690: FutureWarning: In a future version, `df.iloc[:, i] = newvals` will attempt to set the values inplace instead of always setting a new array. To retain the old behavior, use either `df[df.columns[i]] = newvals` or, if columns are non-unique, `df.isetitem(i, newvals)`\n",
      "  gdf.loc[:, \"geometry\"] = gdf[\"geometry\"].make_valid()\n"
     ]
    },
    {
     "name": "stdout",
     "output_type": "stream",
     "text": [
      "Error fetching amenities for ID 1338889734: No matching features. Check query location, tags, and log.\n",
      "Error fetching amenities for ID 1339723056: No matching features. Check query location, tags, and log.\n"
     ]
    },
    {
     "name": "stderr",
     "output_type": "stream",
     "text": [
      "c:\\Users\\rudra\\AppData\\Local\\Programs\\Python\\Python311\\Lib\\site-packages\\osmnx\\features.py:690: FutureWarning: In a future version, `df.iloc[:, i] = newvals` will attempt to set the values inplace instead of always setting a new array. To retain the old behavior, use either `df[df.columns[i]] = newvals` or, if columns are non-unique, `df.isetitem(i, newvals)`\n",
      "  gdf.loc[:, \"geometry\"] = gdf[\"geometry\"].make_valid()\n"
     ]
    },
    {
     "name": "stdout",
     "output_type": "stream",
     "text": [
      "Error fetching amenities for ID 1339293441: No matching features. Check query location, tags, and log.\n"
     ]
    },
    {
     "name": "stderr",
     "output_type": "stream",
     "text": [
      "c:\\Users\\rudra\\AppData\\Local\\Programs\\Python\\Python311\\Lib\\site-packages\\osmnx\\features.py:690: FutureWarning: In a future version, `df.iloc[:, i] = newvals` will attempt to set the values inplace instead of always setting a new array. To retain the old behavior, use either `df[df.columns[i]] = newvals` or, if columns are non-unique, `df.isetitem(i, newvals)`\n",
      "  gdf.loc[:, \"geometry\"] = gdf[\"geometry\"].make_valid()\n",
      "c:\\Users\\rudra\\AppData\\Local\\Programs\\Python\\Python311\\Lib\\site-packages\\osmnx\\features.py:690: FutureWarning: In a future version, `df.iloc[:, i] = newvals` will attempt to set the values inplace instead of always setting a new array. To retain the old behavior, use either `df[df.columns[i]] = newvals` or, if columns are non-unique, `df.isetitem(i, newvals)`\n",
      "  gdf.loc[:, \"geometry\"] = gdf[\"geometry\"].make_valid()\n"
     ]
    },
    {
     "name": "stdout",
     "output_type": "stream",
     "text": [
      "Error fetching amenities for ID 604990243: No matching features. Check query location, tags, and log.\n",
      "Error fetching amenities for ID 1340694222: No matching features. Check query location, tags, and log.\n",
      "Error fetching amenities for ID 604978765: No matching features. Check query location, tags, and log.\n",
      "Error fetching amenities for ID 1339809956: No matching features. Check query location, tags, and log.\n",
      "Error fetching amenities for ID 1341544935: No matching features. Check query location, tags, and log.\n",
      "Error fetching amenities for ID 1339148644: No matching features. Check query location, tags, and log.\n",
      "Error fetching amenities for ID 1340919699: No matching features. Check query location, tags, and log.\n"
     ]
    },
    {
     "name": "stderr",
     "output_type": "stream",
     "text": [
      "c:\\Users\\rudra\\AppData\\Local\\Programs\\Python\\Python311\\Lib\\site-packages\\osmnx\\features.py:690: FutureWarning: In a future version, `df.iloc[:, i] = newvals` will attempt to set the values inplace instead of always setting a new array. To retain the old behavior, use either `df[df.columns[i]] = newvals` or, if columns are non-unique, `df.isetitem(i, newvals)`\n",
      "  gdf.loc[:, \"geometry\"] = gdf[\"geometry\"].make_valid()\n"
     ]
    },
    {
     "name": "stdout",
     "output_type": "stream",
     "text": [
      "Error fetching amenities for ID 1339860209: No matching features. Check query location, tags, and log.\n",
      "Error fetching amenities for ID 1339149252: No matching features. Check query location, tags, and log.\n",
      "Error fetching amenities for ID 1341527196: No matching features. Check query location, tags, and log.\n",
      "Error fetching amenities for ID 1340047763: No matching features. Check query location, tags, and log.\n"
     ]
    },
    {
     "name": "stderr",
     "output_type": "stream",
     "text": [
      "c:\\Users\\rudra\\AppData\\Local\\Programs\\Python\\Python311\\Lib\\site-packages\\osmnx\\features.py:690: FutureWarning: In a future version, `df.iloc[:, i] = newvals` will attempt to set the values inplace instead of always setting a new array. To retain the old behavior, use either `df[df.columns[i]] = newvals` or, if columns are non-unique, `df.isetitem(i, newvals)`\n",
      "  gdf.loc[:, \"geometry\"] = gdf[\"geometry\"].make_valid()\n"
     ]
    },
    {
     "name": "stdout",
     "output_type": "stream",
     "text": [
      "Error fetching amenities for ID 1339146032: No matching features. Check query location, tags, and log.\n",
      "Error fetching amenities for ID 1367907882: No matching features. Check query location, tags, and log.\n",
      "Error fetching amenities for ID 1366044238: No matching features. Check query location, tags, and log.\n",
      "Error fetching amenities for ID 604971746: No matching features. Check query location, tags, and log.\n",
      "Error fetching amenities for ID 1339293284: No matching features. Check query location, tags, and log.\n",
      "Error fetching amenities for ID 1339860331: No matching features. Check query location, tags, and log.\n",
      "Error fetching amenities for ID 1339099168: No matching features. Check query location, tags, and log.\n",
      "Error fetching amenities for ID 1340918936: No matching features. Check query location, tags, and log.\n"
     ]
    },
    {
     "name": "stderr",
     "output_type": "stream",
     "text": [
      "c:\\Users\\rudra\\AppData\\Local\\Programs\\Python\\Python311\\Lib\\site-packages\\osmnx\\features.py:690: FutureWarning: In a future version, `df.iloc[:, i] = newvals` will attempt to set the values inplace instead of always setting a new array. To retain the old behavior, use either `df[df.columns[i]] = newvals` or, if columns are non-unique, `df.isetitem(i, newvals)`\n",
      "  gdf.loc[:, \"geometry\"] = gdf[\"geometry\"].make_valid()\n"
     ]
    },
    {
     "name": "stdout",
     "output_type": "stream",
     "text": [
      "Error fetching amenities for ID 1340394492: No matching features. Check query location, tags, and log.\n",
      "Error fetching amenities for ID 1341528238: No matching features. Check query location, tags, and log.\n",
      "Error fetching amenities for ID 1339147701: No matching features. Check query location, tags, and log.\n",
      "Error fetching amenities for ID 1341043255: No matching features. Check query location, tags, and log.\n",
      "Error fetching amenities for ID 1341433338: No matching features. Check query location, tags, and log.\n",
      "Error fetching amenities for ID 1339722293: No matching features. Check query location, tags, and log.\n"
     ]
    },
    {
     "name": "stderr",
     "output_type": "stream",
     "text": [
      "c:\\Users\\rudra\\AppData\\Local\\Programs\\Python\\Python311\\Lib\\site-packages\\osmnx\\features.py:690: FutureWarning: In a future version, `df.iloc[:, i] = newvals` will attempt to set the values inplace instead of always setting a new array. To retain the old behavior, use either `df[df.columns[i]] = newvals` or, if columns are non-unique, `df.isetitem(i, newvals)`\n",
      "  gdf.loc[:, \"geometry\"] = gdf[\"geometry\"].make_valid()\n"
     ]
    },
    {
     "name": "stdout",
     "output_type": "stream",
     "text": [
      "Error fetching amenities for ID 1339129354: No matching features. Check query location, tags, and log.\n"
     ]
    },
    {
     "name": "stderr",
     "output_type": "stream",
     "text": [
      "c:\\Users\\rudra\\AppData\\Local\\Programs\\Python\\Python311\\Lib\\site-packages\\osmnx\\features.py:690: FutureWarning: In a future version, `df.iloc[:, i] = newvals` will attempt to set the values inplace instead of always setting a new array. To retain the old behavior, use either `df[df.columns[i]] = newvals` or, if columns are non-unique, `df.isetitem(i, newvals)`\n",
      "  gdf.loc[:, \"geometry\"] = gdf[\"geometry\"].make_valid()\n",
      "c:\\Users\\rudra\\AppData\\Local\\Programs\\Python\\Python311\\Lib\\site-packages\\osmnx\\features.py:690: FutureWarning: In a future version, `df.iloc[:, i] = newvals` will attempt to set the values inplace instead of always setting a new array. To retain the old behavior, use either `df[df.columns[i]] = newvals` or, if columns are non-unique, `df.isetitem(i, newvals)`\n",
      "  gdf.loc[:, \"geometry\"] = gdf[\"geometry\"].make_valid()\n"
     ]
    },
    {
     "name": "stdout",
     "output_type": "stream",
     "text": [
      "Error fetching amenities for ID 1340904689: No matching features. Check query location, tags, and log.\n",
      "Error fetching amenities for ID 1339782238: No matching features. Check query location, tags, and log.\n",
      "Error fetching amenities for ID 1339024252: No matching features. Check query location, tags, and log.\n"
     ]
    },
    {
     "name": "stderr",
     "output_type": "stream",
     "text": [
      "c:\\Users\\rudra\\AppData\\Local\\Programs\\Python\\Python311\\Lib\\site-packages\\osmnx\\features.py:690: FutureWarning: In a future version, `df.iloc[:, i] = newvals` will attempt to set the values inplace instead of always setting a new array. To retain the old behavior, use either `df[df.columns[i]] = newvals` or, if columns are non-unique, `df.isetitem(i, newvals)`\n",
      "  gdf.loc[:, \"geometry\"] = gdf[\"geometry\"].make_valid()\n",
      "c:\\Users\\rudra\\AppData\\Local\\Programs\\Python\\Python311\\Lib\\site-packages\\osmnx\\features.py:690: FutureWarning: In a future version, `df.iloc[:, i] = newvals` will attempt to set the values inplace instead of always setting a new array. To retain the old behavior, use either `df[df.columns[i]] = newvals` or, if columns are non-unique, `df.isetitem(i, newvals)`\n",
      "  gdf.loc[:, \"geometry\"] = gdf[\"geometry\"].make_valid()\n"
     ]
    },
    {
     "name": "stdout",
     "output_type": "stream",
     "text": [
      "Error fetching amenities for ID 1339150329: No matching features. Check query location, tags, and log.\n"
     ]
    },
    {
     "name": "stderr",
     "output_type": "stream",
     "text": [
      "c:\\Users\\rudra\\AppData\\Local\\Programs\\Python\\Python311\\Lib\\site-packages\\osmnx\\features.py:690: FutureWarning: In a future version, `df.iloc[:, i] = newvals` will attempt to set the values inplace instead of always setting a new array. To retain the old behavior, use either `df[df.columns[i]] = newvals` or, if columns are non-unique, `df.isetitem(i, newvals)`\n",
      "  gdf.loc[:, \"geometry\"] = gdf[\"geometry\"].make_valid()\n",
      "c:\\Users\\rudra\\AppData\\Local\\Programs\\Python\\Python311\\Lib\\site-packages\\osmnx\\features.py:690: FutureWarning: In a future version, `df.iloc[:, i] = newvals` will attempt to set the values inplace instead of always setting a new array. To retain the old behavior, use either `df[df.columns[i]] = newvals` or, if columns are non-unique, `df.isetitem(i, newvals)`\n",
      "  gdf.loc[:, \"geometry\"] = gdf[\"geometry\"].make_valid()\n",
      "c:\\Users\\rudra\\AppData\\Local\\Programs\\Python\\Python311\\Lib\\site-packages\\osmnx\\features.py:690: FutureWarning: In a future version, `df.iloc[:, i] = newvals` will attempt to set the values inplace instead of always setting a new array. To retain the old behavior, use either `df[df.columns[i]] = newvals` or, if columns are non-unique, `df.isetitem(i, newvals)`\n",
      "  gdf.loc[:, \"geometry\"] = gdf[\"geometry\"].make_valid()\n",
      "c:\\Users\\rudra\\AppData\\Local\\Programs\\Python\\Python311\\Lib\\site-packages\\osmnx\\features.py:690: FutureWarning: In a future version, `df.iloc[:, i] = newvals` will attempt to set the values inplace instead of always setting a new array. To retain the old behavior, use either `df[df.columns[i]] = newvals` or, if columns are non-unique, `df.isetitem(i, newvals)`\n",
      "  gdf.loc[:, \"geometry\"] = gdf[\"geometry\"].make_valid()\n",
      "c:\\Users\\rudra\\AppData\\Local\\Programs\\Python\\Python311\\Lib\\site-packages\\osmnx\\features.py:690: FutureWarning: In a future version, `df.iloc[:, i] = newvals` will attempt to set the values inplace instead of always setting a new array. To retain the old behavior, use either `df[df.columns[i]] = newvals` or, if columns are non-unique, `df.isetitem(i, newvals)`\n",
      "  gdf.loc[:, \"geometry\"] = gdf[\"geometry\"].make_valid()\n"
     ]
    },
    {
     "name": "stdout",
     "output_type": "stream",
     "text": [
      "Error fetching amenities for ID 1340922138: No matching features. Check query location, tags, and log.\n",
      "Error fetching amenities for ID 1341524999: No matching features. Check query location, tags, and log.\n",
      "Error fetching amenities for ID 604969324: No matching features. Check query location, tags, and log.\n",
      "Error fetching amenities for ID 604977310: No matching features. Check query location, tags, and log.\n",
      "Error fetching amenities for ID 1338952770: No matching features. Check query location, tags, and log.\n",
      "Error fetching amenities for ID 1340725811: No matching features. Check query location, tags, and log.\n",
      "Error fetching amenities for ID 604969280: No matching features. Check query location, tags, and log.\n",
      "Error fetching amenities for ID 1341047362: No matching features. Check query location, tags, and log.\n",
      "Error fetching amenities for ID 1339724807: No matching features. Check query location, tags, and log.\n",
      "Error fetching amenities for ID 1338834992: No matching features. Check query location, tags, and log.\n",
      "Error fetching amenities for ID 1339129516: No matching features. Check query location, tags, and log.\n",
      "Error fetching amenities for ID 1338777275: No matching features. Check query location, tags, and log.\n",
      "Error fetching amenities for ID 605015251: No matching features. Check query location, tags, and log.\n",
      "Error fetching amenities for ID 1367907578: No matching features. Check query location, tags, and log.\n",
      "Error fetching amenities for ID 1340693769: No matching features. Check query location, tags, and log.\n"
     ]
    },
    {
     "name": "stderr",
     "output_type": "stream",
     "text": [
      "c:\\Users\\rudra\\AppData\\Local\\Programs\\Python\\Python311\\Lib\\site-packages\\osmnx\\features.py:690: FutureWarning: In a future version, `df.iloc[:, i] = newvals` will attempt to set the values inplace instead of always setting a new array. To retain the old behavior, use either `df[df.columns[i]] = newvals` or, if columns are non-unique, `df.isetitem(i, newvals)`\n",
      "  gdf.loc[:, \"geometry\"] = gdf[\"geometry\"].make_valid()\n"
     ]
    },
    {
     "name": "stdout",
     "output_type": "stream",
     "text": [
      "Error fetching amenities for ID 1338952686: No matching features. Check query location, tags, and log.\n",
      "Error fetching amenities for ID 1338952756: No matching features. Check query location, tags, and log.\n",
      "Error fetching amenities for ID 1340903097: No matching features. Check query location, tags, and log.\n"
     ]
    },
    {
     "name": "stderr",
     "output_type": "stream",
     "text": [
      "c:\\Users\\rudra\\AppData\\Local\\Programs\\Python\\Python311\\Lib\\site-packages\\osmnx\\features.py:690: FutureWarning: In a future version, `df.iloc[:, i] = newvals` will attempt to set the values inplace instead of always setting a new array. To retain the old behavior, use either `df[df.columns[i]] = newvals` or, if columns are non-unique, `df.isetitem(i, newvals)`\n",
      "  gdf.loc[:, \"geometry\"] = gdf[\"geometry\"].make_valid()\n",
      "c:\\Users\\rudra\\AppData\\Local\\Programs\\Python\\Python311\\Lib\\site-packages\\osmnx\\features.py:690: FutureWarning: In a future version, `df.iloc[:, i] = newvals` will attempt to set the values inplace instead of always setting a new array. To retain the old behavior, use either `df[df.columns[i]] = newvals` or, if columns are non-unique, `df.isetitem(i, newvals)`\n",
      "  gdf.loc[:, \"geometry\"] = gdf[\"geometry\"].make_valid()\n"
     ]
    },
    {
     "name": "stdout",
     "output_type": "stream",
     "text": [
      "Error fetching amenities for ID 1340790549: No matching features. Check query location, tags, and log.\n"
     ]
    },
    {
     "name": "stderr",
     "output_type": "stream",
     "text": [
      "c:\\Users\\rudra\\AppData\\Local\\Programs\\Python\\Python311\\Lib\\site-packages\\osmnx\\features.py:690: FutureWarning: In a future version, `df.iloc[:, i] = newvals` will attempt to set the values inplace instead of always setting a new array. To retain the old behavior, use either `df[df.columns[i]] = newvals` or, if columns are non-unique, `df.isetitem(i, newvals)`\n",
      "  gdf.loc[:, \"geometry\"] = gdf[\"geometry\"].make_valid()\n",
      "c:\\Users\\rudra\\AppData\\Local\\Programs\\Python\\Python311\\Lib\\site-packages\\osmnx\\features.py:690: FutureWarning: In a future version, `df.iloc[:, i] = newvals` will attempt to set the values inplace instead of always setting a new array. To retain the old behavior, use either `df[df.columns[i]] = newvals` or, if columns are non-unique, `df.isetitem(i, newvals)`\n",
      "  gdf.loc[:, \"geometry\"] = gdf[\"geometry\"].make_valid()\n"
     ]
    },
    {
     "name": "stdout",
     "output_type": "stream",
     "text": [
      "Error fetching amenities for ID 604972021: No matching features. Check query location, tags, and log.\n",
      "Error fetching amenities for ID 1367951659: No matching features. Check query location, tags, and log.\n"
     ]
    },
    {
     "name": "stderr",
     "output_type": "stream",
     "text": [
      "c:\\Users\\rudra\\AppData\\Local\\Programs\\Python\\Python311\\Lib\\site-packages\\osmnx\\features.py:690: FutureWarning: In a future version, `df.iloc[:, i] = newvals` will attempt to set the values inplace instead of always setting a new array. To retain the old behavior, use either `df[df.columns[i]] = newvals` or, if columns are non-unique, `df.isetitem(i, newvals)`\n",
      "  gdf.loc[:, \"geometry\"] = gdf[\"geometry\"].make_valid()\n"
     ]
    },
    {
     "name": "stdout",
     "output_type": "stream",
     "text": [
      "Error fetching amenities for ID 604798844: No matching features. Check query location, tags, and log.\n",
      "Error fetching amenities for ID 604971009: No matching features. Check query location, tags, and log.\n"
     ]
    },
    {
     "name": "stderr",
     "output_type": "stream",
     "text": [
      "c:\\Users\\rudra\\AppData\\Local\\Programs\\Python\\Python311\\Lib\\site-packages\\osmnx\\features.py:690: FutureWarning: In a future version, `df.iloc[:, i] = newvals` will attempt to set the values inplace instead of always setting a new array. To retain the old behavior, use either `df[df.columns[i]] = newvals` or, if columns are non-unique, `df.isetitem(i, newvals)`\n",
      "  gdf.loc[:, \"geometry\"] = gdf[\"geometry\"].make_valid()\n"
     ]
    },
    {
     "name": "stdout",
     "output_type": "stream",
     "text": [
      "Error fetching amenities for ID 1339147398: No matching features. Check query location, tags, and log.\n",
      "Error fetching amenities for ID 605030523: No matching features. Check query location, tags, and log.\n"
     ]
    },
    {
     "name": "stderr",
     "output_type": "stream",
     "text": [
      "c:\\Users\\rudra\\AppData\\Local\\Programs\\Python\\Python311\\Lib\\site-packages\\osmnx\\features.py:690: FutureWarning: In a future version, `df.iloc[:, i] = newvals` will attempt to set the values inplace instead of always setting a new array. To retain the old behavior, use either `df[df.columns[i]] = newvals` or, if columns are non-unique, `df.isetitem(i, newvals)`\n",
      "  gdf.loc[:, \"geometry\"] = gdf[\"geometry\"].make_valid()\n",
      "c:\\Users\\rudra\\AppData\\Local\\Programs\\Python\\Python311\\Lib\\site-packages\\osmnx\\features.py:690: FutureWarning: In a future version, `df.iloc[:, i] = newvals` will attempt to set the values inplace instead of always setting a new array. To retain the old behavior, use either `df[df.columns[i]] = newvals` or, if columns are non-unique, `df.isetitem(i, newvals)`\n",
      "  gdf.loc[:, \"geometry\"] = gdf[\"geometry\"].make_valid()\n",
      "c:\\Users\\rudra\\AppData\\Local\\Programs\\Python\\Python311\\Lib\\site-packages\\osmnx\\features.py:690: FutureWarning: In a future version, `df.iloc[:, i] = newvals` will attempt to set the values inplace instead of always setting a new array. To retain the old behavior, use either `df[df.columns[i]] = newvals` or, if columns are non-unique, `df.isetitem(i, newvals)`\n",
      "  gdf.loc[:, \"geometry\"] = gdf[\"geometry\"].make_valid()\n"
     ]
    },
    {
     "name": "stdout",
     "output_type": "stream",
     "text": [
      "Error fetching amenities for ID 1368862332: No matching features. Check query location, tags, and log.\n",
      "Error fetching amenities for ID 1340793520: No matching features. Check query location, tags, and log.\n",
      "Error fetching amenities for ID 1338887152: No matching features. Check query location, tags, and log.\n",
      "Error fetching amenities for ID 1340828535: No matching features. Check query location, tags, and log.\n",
      "Error fetching amenities for ID 1338981880: No matching features. Check query location, tags, and log.\n"
     ]
    },
    {
     "name": "stderr",
     "output_type": "stream",
     "text": [
      "c:\\Users\\rudra\\AppData\\Local\\Programs\\Python\\Python311\\Lib\\site-packages\\osmnx\\features.py:690: FutureWarning: In a future version, `df.iloc[:, i] = newvals` will attempt to set the values inplace instead of always setting a new array. To retain the old behavior, use either `df[df.columns[i]] = newvals` or, if columns are non-unique, `df.isetitem(i, newvals)`\n",
      "  gdf.loc[:, \"geometry\"] = gdf[\"geometry\"].make_valid()\n"
     ]
    },
    {
     "name": "stdout",
     "output_type": "stream",
     "text": [
      "Error fetching amenities for ID 1338777338: No matching features. Check query location, tags, and log.\n"
     ]
    },
    {
     "name": "stderr",
     "output_type": "stream",
     "text": [
      "c:\\Users\\rudra\\AppData\\Local\\Programs\\Python\\Python311\\Lib\\site-packages\\osmnx\\features.py:690: FutureWarning: In a future version, `df.iloc[:, i] = newvals` will attempt to set the values inplace instead of always setting a new array. To retain the old behavior, use either `df[df.columns[i]] = newvals` or, if columns are non-unique, `df.isetitem(i, newvals)`\n",
      "  gdf.loc[:, \"geometry\"] = gdf[\"geometry\"].make_valid()\n"
     ]
    },
    {
     "name": "stdout",
     "output_type": "stream",
     "text": [
      "Error fetching amenities for ID 1341008236: No matching features. Check query location, tags, and log.\n",
      "Error fetching amenities for ID 1338888845: No matching features. Check query location, tags, and log.\n",
      "Error fetching amenities for ID 1367993514: No matching features. Check query location, tags, and log.\n",
      "Error fetching amenities for ID 604991872: No matching features. Check query location, tags, and log.\n"
     ]
    },
    {
     "name": "stderr",
     "output_type": "stream",
     "text": [
      "c:\\Users\\rudra\\AppData\\Local\\Programs\\Python\\Python311\\Lib\\site-packages\\osmnx\\features.py:690: FutureWarning: In a future version, `df.iloc[:, i] = newvals` will attempt to set the values inplace instead of always setting a new array. To retain the old behavior, use either `df[df.columns[i]] = newvals` or, if columns are non-unique, `df.isetitem(i, newvals)`\n",
      "  gdf.loc[:, \"geometry\"] = gdf[\"geometry\"].make_valid()\n"
     ]
    },
    {
     "name": "stdout",
     "output_type": "stream",
     "text": [
      "Error fetching amenities for ID 604802396: No matching features. Check query location, tags, and log.\n",
      "Error fetching amenities for ID 1338891526: No matching features. Check query location, tags, and log.\n",
      "Error fetching amenities for ID 1341527400: No matching features. Check query location, tags, and log.\n",
      "Error fetching amenities for ID 1339148742: No matching features. Check query location, tags, and log.\n",
      "Error fetching amenities for ID 1339023880: No matching features. Check query location, tags, and log.\n",
      "Error fetching amenities for ID 1341435286: No matching features. Check query location, tags, and log.\n",
      "Error fetching amenities for ID 1341431958: No matching features. Check query location, tags, and log.\n",
      "Error fetching amenities for ID 1338835716: No matching features. Check query location, tags, and log.\n",
      "Error fetching amenities for ID 1338940451: No matching features. Check query location, tags, and log.\n"
     ]
    },
    {
     "name": "stderr",
     "output_type": "stream",
     "text": [
      "c:\\Users\\rudra\\AppData\\Local\\Programs\\Python\\Python311\\Lib\\site-packages\\osmnx\\features.py:690: FutureWarning: In a future version, `df.iloc[:, i] = newvals` will attempt to set the values inplace instead of always setting a new array. To retain the old behavior, use either `df[df.columns[i]] = newvals` or, if columns are non-unique, `df.isetitem(i, newvals)`\n",
      "  gdf.loc[:, \"geometry\"] = gdf[\"geometry\"].make_valid()\n"
     ]
    },
    {
     "name": "stdout",
     "output_type": "stream",
     "text": [
      "Error fetching amenities for ID 1340924899: No matching features. Check query location, tags, and log.\n",
      "Error fetching amenities for ID 1340829662: No matching features. Check query location, tags, and log.\n",
      "Error fetching amenities for ID 1338725333: No matching features. Check query location, tags, and log.\n",
      "Error fetching amenities for ID 1367907950: No matching features. Check query location, tags, and log.\n",
      "Error fetching amenities for ID 1340922809: No matching features. Check query location, tags, and log.\n",
      "Error fetching amenities for ID 1338861178: No matching features. Check query location, tags, and log.\n",
      "Error fetching amenities for ID 1339781711: No matching features. Check query location, tags, and log.\n",
      "Error fetching amenities for ID 1341006731: No matching features. Check query location, tags, and log.\n",
      "Error fetching amenities for ID 1341399536: No matching features. Check query location, tags, and log.\n",
      "Error fetching amenities for ID 1340830568: No matching features. Check query location, tags, and log.\n",
      "Error fetching amenities for ID 605014101: No matching features. Check query location, tags, and log.\n",
      "Error fetching amenities for ID 1338891450: No matching features. Check query location, tags, and log.\n"
     ]
    },
    {
     "name": "stderr",
     "output_type": "stream",
     "text": [
      "c:\\Users\\rudra\\AppData\\Local\\Programs\\Python\\Python311\\Lib\\site-packages\\osmnx\\features.py:690: FutureWarning: In a future version, `df.iloc[:, i] = newvals` will attempt to set the values inplace instead of always setting a new array. To retain the old behavior, use either `df[df.columns[i]] = newvals` or, if columns are non-unique, `df.isetitem(i, newvals)`\n",
      "  gdf.loc[:, \"geometry\"] = gdf[\"geometry\"].make_valid()\n"
     ]
    },
    {
     "name": "stdout",
     "output_type": "stream",
     "text": [
      "Error fetching amenities for ID 1340791227: No matching features. Check query location, tags, and log.\n",
      "Error fetching amenities for ID 1339130616: No matching features. Check query location, tags, and log.\n"
     ]
    },
    {
     "name": "stderr",
     "output_type": "stream",
     "text": [
      "c:\\Users\\rudra\\AppData\\Local\\Programs\\Python\\Python311\\Lib\\site-packages\\osmnx\\features.py:690: FutureWarning: In a future version, `df.iloc[:, i] = newvals` will attempt to set the values inplace instead of always setting a new array. To retain the old behavior, use either `df[df.columns[i]] = newvals` or, if columns are non-unique, `df.isetitem(i, newvals)`\n",
      "  gdf.loc[:, \"geometry\"] = gdf[\"geometry\"].make_valid()\n",
      "c:\\Users\\rudra\\AppData\\Local\\Programs\\Python\\Python311\\Lib\\site-packages\\osmnx\\features.py:690: FutureWarning: In a future version, `df.iloc[:, i] = newvals` will attempt to set the values inplace instead of always setting a new array. To retain the old behavior, use either `df[df.columns[i]] = newvals` or, if columns are non-unique, `df.isetitem(i, newvals)`\n",
      "  gdf.loc[:, \"geometry\"] = gdf[\"geometry\"].make_valid()\n"
     ]
    },
    {
     "name": "stdout",
     "output_type": "stream",
     "text": [
      "Error fetching amenities for ID 1341431918: No matching features. Check query location, tags, and log.\n",
      "Error fetching amenities for ID 1338953378: No matching features. Check query location, tags, and log.\n",
      "Error fetching amenities for ID 605012421: No matching features. Check query location, tags, and log.\n"
     ]
    },
    {
     "name": "stderr",
     "output_type": "stream",
     "text": [
      "c:\\Users\\rudra\\AppData\\Local\\Programs\\Python\\Python311\\Lib\\site-packages\\osmnx\\features.py:690: FutureWarning: In a future version, `df.iloc[:, i] = newvals` will attempt to set the values inplace instead of always setting a new array. To retain the old behavior, use either `df[df.columns[i]] = newvals` or, if columns are non-unique, `df.isetitem(i, newvals)`\n",
      "  gdf.loc[:, \"geometry\"] = gdf[\"geometry\"].make_valid()\n"
     ]
    },
    {
     "name": "stdout",
     "output_type": "stream",
     "text": [
      "Error fetching amenities for ID 1339149044: No matching features. Check query location, tags, and log.\n"
     ]
    },
    {
     "name": "stderr",
     "output_type": "stream",
     "text": [
      "c:\\Users\\rudra\\AppData\\Local\\Programs\\Python\\Python311\\Lib\\site-packages\\osmnx\\features.py:690: FutureWarning: In a future version, `df.iloc[:, i] = newvals` will attempt to set the values inplace instead of always setting a new array. To retain the old behavior, use either `df[df.columns[i]] = newvals` or, if columns are non-unique, `df.isetitem(i, newvals)`\n",
      "  gdf.loc[:, \"geometry\"] = gdf[\"geometry\"].make_valid()\n"
     ]
    },
    {
     "name": "stdout",
     "output_type": "stream",
     "text": [
      "Error fetching amenities for ID 604978917: No matching features. Check query location, tags, and log.\n",
      "Error fetching amenities for ID 1340904785: No matching features. Check query location, tags, and log.\n"
     ]
    },
    {
     "name": "stderr",
     "output_type": "stream",
     "text": [
      "c:\\Users\\rudra\\AppData\\Local\\Programs\\Python\\Python311\\Lib\\site-packages\\osmnx\\features.py:690: FutureWarning: In a future version, `df.iloc[:, i] = newvals` will attempt to set the values inplace instead of always setting a new array. To retain the old behavior, use either `df[df.columns[i]] = newvals` or, if columns are non-unique, `df.isetitem(i, newvals)`\n",
      "  gdf.loc[:, \"geometry\"] = gdf[\"geometry\"].make_valid()\n"
     ]
    },
    {
     "name": "stdout",
     "output_type": "stream",
     "text": [
      "Error fetching amenities for ID 1339023188: No matching features. Check query location, tags, and log.\n",
      "Error fetching amenities for ID 1338939952: No matching features. Check query location, tags, and log.\n"
     ]
    },
    {
     "name": "stderr",
     "output_type": "stream",
     "text": [
      "c:\\Users\\rudra\\AppData\\Local\\Programs\\Python\\Python311\\Lib\\site-packages\\osmnx\\features.py:690: FutureWarning: In a future version, `df.iloc[:, i] = newvals` will attempt to set the values inplace instead of always setting a new array. To retain the old behavior, use either `df[df.columns[i]] = newvals` or, if columns are non-unique, `df.isetitem(i, newvals)`\n",
      "  gdf.loc[:, \"geometry\"] = gdf[\"geometry\"].make_valid()\n"
     ]
    },
    {
     "name": "stdout",
     "output_type": "stream",
     "text": [
      "Error fetching amenities for ID 1341433913: No matching features. Check query location, tags, and log.\n",
      "Error fetching amenities for ID 1338776532: No matching features. Check query location, tags, and log.\n",
      "Error fetching amenities for ID 1341007543: No matching features. Check query location, tags, and log.\n",
      "Error fetching amenities for ID 1338892451: No matching features. Check query location, tags, and log.\n",
      "Error fetching amenities for ID 1340395141: No matching features. Check query location, tags, and log.\n"
     ]
    },
    {
     "name": "stderr",
     "output_type": "stream",
     "text": [
      "c:\\Users\\rudra\\AppData\\Local\\Programs\\Python\\Python311\\Lib\\site-packages\\osmnx\\features.py:690: FutureWarning: In a future version, `df.iloc[:, i] = newvals` will attempt to set the values inplace instead of always setting a new array. To retain the old behavior, use either `df[df.columns[i]] = newvals` or, if columns are non-unique, `df.isetitem(i, newvals)`\n",
      "  gdf.loc[:, \"geometry\"] = gdf[\"geometry\"].make_valid()\n"
     ]
    },
    {
     "name": "stdout",
     "output_type": "stream",
     "text": [
      "Error fetching amenities for ID 1339808546: No matching features. Check query location, tags, and log.\n",
      "Error fetching amenities for ID 1339149808: No matching features. Check query location, tags, and log.\n",
      "Error fetching amenities for ID 1338889104: No matching features. Check query location, tags, and log.\n"
     ]
    },
    {
     "name": "stderr",
     "output_type": "stream",
     "text": [
      "c:\\Users\\rudra\\AppData\\Local\\Programs\\Python\\Python311\\Lib\\site-packages\\osmnx\\features.py:690: FutureWarning: In a future version, `df.iloc[:, i] = newvals` will attempt to set the values inplace instead of always setting a new array. To retain the old behavior, use either `df[df.columns[i]] = newvals` or, if columns are non-unique, `df.isetitem(i, newvals)`\n",
      "  gdf.loc[:, \"geometry\"] = gdf[\"geometry\"].make_valid()\n"
     ]
    },
    {
     "name": "stdout",
     "output_type": "stream",
     "text": [
      "Error fetching amenities for ID 1341527756: No matching features. Check query location, tags, and log.\n",
      "Error fetching amenities for ID 1340793660: No matching features. Check query location, tags, and log.\n",
      "Error fetching amenities for ID 1339148545: No matching features. Check query location, tags, and log.\n",
      "Error fetching amenities for ID 1341044669: No matching features. Check query location, tags, and log.\n",
      "Error fetching amenities for ID 1341697604: No matching features. Check query location, tags, and log.\n",
      "Error fetching amenities for ID 1339146304: No matching features. Check query location, tags, and log.\n",
      "Error fetching amenities for ID 604947874: No matching features. Check query location, tags, and log.\n"
     ]
    },
    {
     "name": "stderr",
     "output_type": "stream",
     "text": [
      "c:\\Users\\rudra\\AppData\\Local\\Programs\\Python\\Python311\\Lib\\site-packages\\osmnx\\features.py:690: FutureWarning: In a future version, `df.iloc[:, i] = newvals` will attempt to set the values inplace instead of always setting a new array. To retain the old behavior, use either `df[df.columns[i]] = newvals` or, if columns are non-unique, `df.isetitem(i, newvals)`\n",
      "  gdf.loc[:, \"geometry\"] = gdf[\"geometry\"].make_valid()\n",
      "c:\\Users\\rudra\\AppData\\Local\\Programs\\Python\\Python311\\Lib\\site-packages\\osmnx\\features.py:690: FutureWarning: In a future version, `df.iloc[:, i] = newvals` will attempt to set the values inplace instead of always setting a new array. To retain the old behavior, use either `df[df.columns[i]] = newvals` or, if columns are non-unique, `df.isetitem(i, newvals)`\n",
      "  gdf.loc[:, \"geometry\"] = gdf[\"geometry\"].make_valid()\n"
     ]
    },
    {
     "name": "stdout",
     "output_type": "stream",
     "text": [
      "Error fetching amenities for ID 1341045643: No matching features. Check query location, tags, and log.\n",
      "Error fetching amenities for ID 1340830464: No matching features. Check query location, tags, and log.\n"
     ]
    },
    {
     "name": "stderr",
     "output_type": "stream",
     "text": [
      "c:\\Users\\rudra\\AppData\\Local\\Programs\\Python\\Python311\\Lib\\site-packages\\osmnx\\features.py:690: FutureWarning: In a future version, `df.iloc[:, i] = newvals` will attempt to set the values inplace instead of always setting a new array. To retain the old behavior, use either `df[df.columns[i]] = newvals` or, if columns are non-unique, `df.isetitem(i, newvals)`\n",
      "  gdf.loc[:, \"geometry\"] = gdf[\"geometry\"].make_valid()\n",
      "c:\\Users\\rudra\\AppData\\Local\\Programs\\Python\\Python311\\Lib\\site-packages\\osmnx\\features.py:690: FutureWarning: In a future version, `df.iloc[:, i] = newvals` will attempt to set the values inplace instead of always setting a new array. To retain the old behavior, use either `df[df.columns[i]] = newvals` or, if columns are non-unique, `df.isetitem(i, newvals)`\n",
      "  gdf.loc[:, \"geometry\"] = gdf[\"geometry\"].make_valid()\n"
     ]
    },
    {
     "name": "stdout",
     "output_type": "stream",
     "text": [
      "Error fetching amenities for ID 605017158: No matching features. Check query location, tags, and log.\n",
      "Error fetching amenities for ID 1340394671: No matching features. Check query location, tags, and log.\n",
      "Error fetching amenities for ID 604976514: No matching features. Check query location, tags, and log.\n",
      "Error fetching amenities for ID 1338835381: No matching features. Check query location, tags, and log.\n",
      "Error fetching amenities for ID 1338951875: No matching features. Check query location, tags, and log.\n",
      "Error fetching amenities for ID 1338835791: No matching features. Check query location, tags, and log.\n"
     ]
    },
    {
     "name": "stderr",
     "output_type": "stream",
     "text": [
      "c:\\Users\\rudra\\AppData\\Local\\Programs\\Python\\Python311\\Lib\\site-packages\\osmnx\\features.py:690: FutureWarning: In a future version, `df.iloc[:, i] = newvals` will attempt to set the values inplace instead of always setting a new array. To retain the old behavior, use either `df[df.columns[i]] = newvals` or, if columns are non-unique, `df.isetitem(i, newvals)`\n",
      "  gdf.loc[:, \"geometry\"] = gdf[\"geometry\"].make_valid()\n"
     ]
    },
    {
     "name": "stdout",
     "output_type": "stream",
     "text": [
      "Error fetching amenities for ID 605023668: No matching features. Check query location, tags, and log.\n"
     ]
    },
    {
     "name": "stderr",
     "output_type": "stream",
     "text": [
      "c:\\Users\\rudra\\AppData\\Local\\Programs\\Python\\Python311\\Lib\\site-packages\\osmnx\\features.py:690: FutureWarning: In a future version, `df.iloc[:, i] = newvals` will attempt to set the values inplace instead of always setting a new array. To retain the old behavior, use either `df[df.columns[i]] = newvals` or, if columns are non-unique, `df.isetitem(i, newvals)`\n",
      "  gdf.loc[:, \"geometry\"] = gdf[\"geometry\"].make_valid()\n",
      "c:\\Users\\rudra\\AppData\\Local\\Programs\\Python\\Python311\\Lib\\site-packages\\osmnx\\features.py:690: FutureWarning: In a future version, `df.iloc[:, i] = newvals` will attempt to set the values inplace instead of always setting a new array. To retain the old behavior, use either `df[df.columns[i]] = newvals` or, if columns are non-unique, `df.isetitem(i, newvals)`\n",
      "  gdf.loc[:, \"geometry\"] = gdf[\"geometry\"].make_valid()\n"
     ]
    },
    {
     "name": "stdout",
     "output_type": "stream",
     "text": [
      "Error fetching amenities for ID 1341044309: No matching features. Check query location, tags, and log.\n"
     ]
    },
    {
     "name": "stderr",
     "output_type": "stream",
     "text": [
      "c:\\Users\\rudra\\AppData\\Local\\Programs\\Python\\Python311\\Lib\\site-packages\\osmnx\\features.py:690: FutureWarning: In a future version, `df.iloc[:, i] = newvals` will attempt to set the values inplace instead of always setting a new array. To retain the old behavior, use either `df[df.columns[i]] = newvals` or, if columns are non-unique, `df.isetitem(i, newvals)`\n",
      "  gdf.loc[:, \"geometry\"] = gdf[\"geometry\"].make_valid()\n",
      "c:\\Users\\rudra\\AppData\\Local\\Programs\\Python\\Python311\\Lib\\site-packages\\osmnx\\features.py:690: FutureWarning: In a future version, `df.iloc[:, i] = newvals` will attempt to set the values inplace instead of always setting a new array. To retain the old behavior, use either `df[df.columns[i]] = newvals` or, if columns are non-unique, `df.isetitem(i, newvals)`\n",
      "  gdf.loc[:, \"geometry\"] = gdf[\"geometry\"].make_valid()\n"
     ]
    },
    {
     "name": "stdout",
     "output_type": "stream",
     "text": [
      "Error fetching amenities for ID 1340919044: No matching features. Check query location, tags, and log.\n"
     ]
    },
    {
     "name": "stderr",
     "output_type": "stream",
     "text": [
      "c:\\Users\\rudra\\AppData\\Local\\Programs\\Python\\Python311\\Lib\\site-packages\\osmnx\\features.py:690: FutureWarning: In a future version, `df.iloc[:, i] = newvals` will attempt to set the values inplace instead of always setting a new array. To retain the old behavior, use either `df[df.columns[i]] = newvals` or, if columns are non-unique, `df.isetitem(i, newvals)`\n",
      "  gdf.loc[:, \"geometry\"] = gdf[\"geometry\"].make_valid()\n",
      "c:\\Users\\rudra\\AppData\\Local\\Programs\\Python\\Python311\\Lib\\site-packages\\osmnx\\features.py:690: FutureWarning: In a future version, `df.iloc[:, i] = newvals` will attempt to set the values inplace instead of always setting a new array. To retain the old behavior, use either `df[df.columns[i]] = newvals` or, if columns are non-unique, `df.isetitem(i, newvals)`\n",
      "  gdf.loc[:, \"geometry\"] = gdf[\"geometry\"].make_valid()\n",
      "c:\\Users\\rudra\\AppData\\Local\\Programs\\Python\\Python311\\Lib\\site-packages\\osmnx\\features.py:690: FutureWarning: In a future version, `df.iloc[:, i] = newvals` will attempt to set the values inplace instead of always setting a new array. To retain the old behavior, use either `df[df.columns[i]] = newvals` or, if columns are non-unique, `df.isetitem(i, newvals)`\n",
      "  gdf.loc[:, \"geometry\"] = gdf[\"geometry\"].make_valid()\n",
      "c:\\Users\\rudra\\AppData\\Local\\Programs\\Python\\Python311\\Lib\\site-packages\\osmnx\\features.py:690: FutureWarning: In a future version, `df.iloc[:, i] = newvals` will attempt to set the values inplace instead of always setting a new array. To retain the old behavior, use either `df[df.columns[i]] = newvals` or, if columns are non-unique, `df.isetitem(i, newvals)`\n",
      "  gdf.loc[:, \"geometry\"] = gdf[\"geometry\"].make_valid()\n",
      "c:\\Users\\rudra\\AppData\\Local\\Programs\\Python\\Python311\\Lib\\site-packages\\osmnx\\features.py:690: FutureWarning: In a future version, `df.iloc[:, i] = newvals` will attempt to set the values inplace instead of always setting a new array. To retain the old behavior, use either `df[df.columns[i]] = newvals` or, if columns are non-unique, `df.isetitem(i, newvals)`\n",
      "  gdf.loc[:, \"geometry\"] = gdf[\"geometry\"].make_valid()\n"
     ]
    },
    {
     "name": "stdout",
     "output_type": "stream",
     "text": [
      "Error fetching amenities for ID 1341042896: No matching features. Check query location, tags, and log.\n",
      "Error fetching amenities for ID 1338771246: No matching features. Check query location, tags, and log.\n",
      "Error fetching amenities for ID 604932774: No matching features. Check query location, tags, and log.\n"
     ]
    },
    {
     "name": "stderr",
     "output_type": "stream",
     "text": [
      "c:\\Users\\rudra\\AppData\\Local\\Programs\\Python\\Python311\\Lib\\site-packages\\osmnx\\features.py:690: FutureWarning: In a future version, `df.iloc[:, i] = newvals` will attempt to set the values inplace instead of always setting a new array. To retain the old behavior, use either `df[df.columns[i]] = newvals` or, if columns are non-unique, `df.isetitem(i, newvals)`\n",
      "  gdf.loc[:, \"geometry\"] = gdf[\"geometry\"].make_valid()\n",
      "c:\\Users\\rudra\\AppData\\Local\\Programs\\Python\\Python311\\Lib\\site-packages\\osmnx\\features.py:690: FutureWarning: In a future version, `df.iloc[:, i] = newvals` will attempt to set the values inplace instead of always setting a new array. To retain the old behavior, use either `df[df.columns[i]] = newvals` or, if columns are non-unique, `df.isetitem(i, newvals)`\n",
      "  gdf.loc[:, \"geometry\"] = gdf[\"geometry\"].make_valid()\n"
     ]
    },
    {
     "name": "stdout",
     "output_type": "stream",
     "text": [
      "Error fetching amenities for ID 1339723859: No matching features. Check query location, tags, and log.\n",
      "Error fetching amenities for ID 1338888393: No matching features. Check query location, tags, and log.\n",
      "Error fetching amenities for ID 1368149080: No matching features. Check query location, tags, and log.\n",
      "Error fetching amenities for ID 1339147263: No matching features. Check query location, tags, and log.\n",
      "Error fetching amenities for ID 1338981384: No matching features. Check query location, tags, and log.\n"
     ]
    },
    {
     "name": "stderr",
     "output_type": "stream",
     "text": [
      "c:\\Users\\rudra\\AppData\\Local\\Programs\\Python\\Python311\\Lib\\site-packages\\osmnx\\features.py:690: FutureWarning: In a future version, `df.iloc[:, i] = newvals` will attempt to set the values inplace instead of always setting a new array. To retain the old behavior, use either `df[df.columns[i]] = newvals` or, if columns are non-unique, `df.isetitem(i, newvals)`\n",
      "  gdf.loc[:, \"geometry\"] = gdf[\"geometry\"].make_valid()\n",
      "c:\\Users\\rudra\\AppData\\Local\\Programs\\Python\\Python311\\Lib\\site-packages\\osmnx\\features.py:690: FutureWarning: In a future version, `df.iloc[:, i] = newvals` will attempt to set the values inplace instead of always setting a new array. To retain the old behavior, use either `df[df.columns[i]] = newvals` or, if columns are non-unique, `df.isetitem(i, newvals)`\n",
      "  gdf.loc[:, \"geometry\"] = gdf[\"geometry\"].make_valid()\n",
      "c:\\Users\\rudra\\AppData\\Local\\Programs\\Python\\Python311\\Lib\\site-packages\\osmnx\\features.py:690: FutureWarning: In a future version, `df.iloc[:, i] = newvals` will attempt to set the values inplace instead of always setting a new array. To retain the old behavior, use either `df[df.columns[i]] = newvals` or, if columns are non-unique, `df.isetitem(i, newvals)`\n",
      "  gdf.loc[:, \"geometry\"] = gdf[\"geometry\"].make_valid()\n",
      "c:\\Users\\rudra\\AppData\\Local\\Programs\\Python\\Python311\\Lib\\site-packages\\osmnx\\features.py:690: FutureWarning: In a future version, `df.iloc[:, i] = newvals` will attempt to set the values inplace instead of always setting a new array. To retain the old behavior, use either `df[df.columns[i]] = newvals` or, if columns are non-unique, `df.isetitem(i, newvals)`\n",
      "  gdf.loc[:, \"geometry\"] = gdf[\"geometry\"].make_valid()\n"
     ]
    },
    {
     "name": "stdout",
     "output_type": "stream",
     "text": [
      "Error fetching amenities for ID 1340790065: No matching features. Check query location, tags, and log.\n",
      "Error fetching amenities for ID 1341547781: No matching features. Check query location, tags, and log.\n",
      "Error fetching amenities for ID 1338889288: No matching features. Check query location, tags, and log.\n",
      "Error fetching amenities for ID 1339723401: No matching features. Check query location, tags, and log.\n",
      "Error fetching amenities for ID 1339146840: No matching features. Check query location, tags, and log.\n",
      "Error fetching amenities for ID 1338888205: No matching features. Check query location, tags, and log.\n",
      "Error fetching amenities for ID 1339129984: No matching features. Check query location, tags, and log.\n"
     ]
    },
    {
     "name": "stderr",
     "output_type": "stream",
     "text": [
      "c:\\Users\\rudra\\AppData\\Local\\Programs\\Python\\Python311\\Lib\\site-packages\\osmnx\\features.py:690: FutureWarning: In a future version, `df.iloc[:, i] = newvals` will attempt to set the values inplace instead of always setting a new array. To retain the old behavior, use either `df[df.columns[i]] = newvals` or, if columns are non-unique, `df.isetitem(i, newvals)`\n",
      "  gdf.loc[:, \"geometry\"] = gdf[\"geometry\"].make_valid()\n"
     ]
    },
    {
     "name": "stdout",
     "output_type": "stream",
     "text": [
      "Error fetching amenities for ID 1339129290: No matching features. Check query location, tags, and log.\n",
      "Error fetching amenities for ID 1340790336: No matching features. Check query location, tags, and log.\n"
     ]
    },
    {
     "name": "stderr",
     "output_type": "stream",
     "text": [
      "c:\\Users\\rudra\\AppData\\Local\\Programs\\Python\\Python311\\Lib\\site-packages\\osmnx\\features.py:690: FutureWarning: In a future version, `df.iloc[:, i] = newvals` will attempt to set the values inplace instead of always setting a new array. To retain the old behavior, use either `df[df.columns[i]] = newvals` or, if columns are non-unique, `df.isetitem(i, newvals)`\n",
      "  gdf.loc[:, \"geometry\"] = gdf[\"geometry\"].make_valid()\n"
     ]
    },
    {
     "name": "stdout",
     "output_type": "stream",
     "text": [
      "Error fetching amenities for ID 1339149780: No matching features. Check query location, tags, and log.\n",
      "Error fetching amenities for ID 604961492: No matching features. Check query location, tags, and log.\n",
      "Error fetching amenities for ID 1339810820: No matching features. Check query location, tags, and log.\n",
      "Error fetching amenities for ID 1338891853: No matching features. Check query location, tags, and log.\n",
      "Error fetching amenities for ID 1340250836: No matching features. Check query location, tags, and log.\n"
     ]
    },
    {
     "name": "stderr",
     "output_type": "stream",
     "text": [
      "c:\\Users\\rudra\\AppData\\Local\\Programs\\Python\\Python311\\Lib\\site-packages\\osmnx\\features.py:690: FutureWarning: In a future version, `df.iloc[:, i] = newvals` will attempt to set the values inplace instead of always setting a new array. To retain the old behavior, use either `df[df.columns[i]] = newvals` or, if columns are non-unique, `df.isetitem(i, newvals)`\n",
      "  gdf.loc[:, \"geometry\"] = gdf[\"geometry\"].make_valid()\n"
     ]
    },
    {
     "name": "stdout",
     "output_type": "stream",
     "text": [
      "Error fetching amenities for ID 1341523517: No matching features. Check query location, tags, and log.\n",
      "Error fetching amenities for ID 604946720: No matching features. Check query location, tags, and log.\n",
      "Error fetching amenities for ID 1340903043: No matching features. Check query location, tags, and log.\n",
      "Error fetching amenities for ID 1339147808: No matching features. Check query location, tags, and log.\n"
     ]
    },
    {
     "name": "stderr",
     "output_type": "stream",
     "text": [
      "c:\\Users\\rudra\\AppData\\Local\\Programs\\Python\\Python311\\Lib\\site-packages\\osmnx\\features.py:690: FutureWarning: In a future version, `df.iloc[:, i] = newvals` will attempt to set the values inplace instead of always setting a new array. To retain the old behavior, use either `df[df.columns[i]] = newvals` or, if columns are non-unique, `df.isetitem(i, newvals)`\n",
      "  gdf.loc[:, \"geometry\"] = gdf[\"geometry\"].make_valid()\n"
     ]
    },
    {
     "name": "stdout",
     "output_type": "stream",
     "text": [
      "Error fetching amenities for ID 1338835785: No matching features. Check query location, tags, and log.\n"
     ]
    },
    {
     "name": "stderr",
     "output_type": "stream",
     "text": [
      "c:\\Users\\rudra\\AppData\\Local\\Programs\\Python\\Python311\\Lib\\site-packages\\osmnx\\features.py:690: FutureWarning: In a future version, `df.iloc[:, i] = newvals` will attempt to set the values inplace instead of always setting a new array. To retain the old behavior, use either `df[df.columns[i]] = newvals` or, if columns are non-unique, `df.isetitem(i, newvals)`\n",
      "  gdf.loc[:, \"geometry\"] = gdf[\"geometry\"].make_valid()\n",
      "c:\\Users\\rudra\\AppData\\Local\\Programs\\Python\\Python311\\Lib\\site-packages\\osmnx\\features.py:690: FutureWarning: In a future version, `df.iloc[:, i] = newvals` will attempt to set the values inplace instead of always setting a new array. To retain the old behavior, use either `df[df.columns[i]] = newvals` or, if columns are non-unique, `df.isetitem(i, newvals)`\n",
      "  gdf.loc[:, \"geometry\"] = gdf[\"geometry\"].make_valid()\n"
     ]
    },
    {
     "name": "stdout",
     "output_type": "stream",
     "text": [
      "Error fetching amenities for ID 604978446: No matching features. Check query location, tags, and log.\n"
     ]
    },
    {
     "name": "stderr",
     "output_type": "stream",
     "text": [
      "c:\\Users\\rudra\\AppData\\Local\\Programs\\Python\\Python311\\Lib\\site-packages\\osmnx\\features.py:690: FutureWarning: In a future version, `df.iloc[:, i] = newvals` will attempt to set the values inplace instead of always setting a new array. To retain the old behavior, use either `df[df.columns[i]] = newvals` or, if columns are non-unique, `df.isetitem(i, newvals)`\n",
      "  gdf.loc[:, \"geometry\"] = gdf[\"geometry\"].make_valid()\n",
      "c:\\Users\\rudra\\AppData\\Local\\Programs\\Python\\Python311\\Lib\\site-packages\\osmnx\\features.py:690: FutureWarning: In a future version, `df.iloc[:, i] = newvals` will attempt to set the values inplace instead of always setting a new array. To retain the old behavior, use either `df[df.columns[i]] = newvals` or, if columns are non-unique, `df.isetitem(i, newvals)`\n",
      "  gdf.loc[:, \"geometry\"] = gdf[\"geometry\"].make_valid()\n"
     ]
    },
    {
     "name": "stdout",
     "output_type": "stream",
     "text": [
      "Error fetching amenities for ID 1340694613: No matching features. Check query location, tags, and log.\n"
     ]
    },
    {
     "name": "stderr",
     "output_type": "stream",
     "text": [
      "c:\\Users\\rudra\\AppData\\Local\\Programs\\Python\\Python311\\Lib\\site-packages\\osmnx\\features.py:690: FutureWarning: In a future version, `df.iloc[:, i] = newvals` will attempt to set the values inplace instead of always setting a new array. To retain the old behavior, use either `df[df.columns[i]] = newvals` or, if columns are non-unique, `df.isetitem(i, newvals)`\n",
      "  gdf.loc[:, \"geometry\"] = gdf[\"geometry\"].make_valid()\n",
      "c:\\Users\\rudra\\AppData\\Local\\Programs\\Python\\Python311\\Lib\\site-packages\\osmnx\\features.py:690: FutureWarning: In a future version, `df.iloc[:, i] = newvals` will attempt to set the values inplace instead of always setting a new array. To retain the old behavior, use either `df[df.columns[i]] = newvals` or, if columns are non-unique, `df.isetitem(i, newvals)`\n",
      "  gdf.loc[:, \"geometry\"] = gdf[\"geometry\"].make_valid()\n"
     ]
    },
    {
     "name": "stdout",
     "output_type": "stream",
     "text": [
      "Error fetching amenities for ID 1340904784: No matching features. Check query location, tags, and log.\n",
      "Error fetching amenities for ID 604972016: No matching features. Check query location, tags, and log.\n",
      "Error fetching amenities for ID 1338889292: No matching features. Check query location, tags, and log.\n"
     ]
    },
    {
     "name": "stderr",
     "output_type": "stream",
     "text": [
      "c:\\Users\\rudra\\AppData\\Local\\Programs\\Python\\Python311\\Lib\\site-packages\\osmnx\\features.py:690: FutureWarning: In a future version, `df.iloc[:, i] = newvals` will attempt to set the values inplace instead of always setting a new array. To retain the old behavior, use either `df[df.columns[i]] = newvals` or, if columns are non-unique, `df.isetitem(i, newvals)`\n",
      "  gdf.loc[:, \"geometry\"] = gdf[\"geometry\"].make_valid()\n"
     ]
    },
    {
     "name": "stdout",
     "output_type": "stream",
     "text": [
      "Error fetching amenities for ID 1341396415: No matching features. Check query location, tags, and log.\n",
      "Error fetching amenities for ID 604975277: No matching features. Check query location, tags, and log.\n",
      "Error fetching amenities for ID 1338889840: No matching features. Check query location, tags, and log.\n"
     ]
    },
    {
     "name": "stderr",
     "output_type": "stream",
     "text": [
      "c:\\Users\\rudra\\AppData\\Local\\Programs\\Python\\Python311\\Lib\\site-packages\\osmnx\\features.py:690: FutureWarning: In a future version, `df.iloc[:, i] = newvals` will attempt to set the values inplace instead of always setting a new array. To retain the old behavior, use either `df[df.columns[i]] = newvals` or, if columns are non-unique, `df.isetitem(i, newvals)`\n",
      "  gdf.loc[:, \"geometry\"] = gdf[\"geometry\"].make_valid()\n"
     ]
    },
    {
     "name": "stdout",
     "output_type": "stream",
     "text": [
      "Error fetching amenities for ID 1341527204: No matching features. Check query location, tags, and log.\n"
     ]
    },
    {
     "name": "stderr",
     "output_type": "stream",
     "text": [
      "c:\\Users\\rudra\\AppData\\Local\\Programs\\Python\\Python311\\Lib\\site-packages\\osmnx\\features.py:690: FutureWarning: In a future version, `df.iloc[:, i] = newvals` will attempt to set the values inplace instead of always setting a new array. To retain the old behavior, use either `df[df.columns[i]] = newvals` or, if columns are non-unique, `df.isetitem(i, newvals)`\n",
      "  gdf.loc[:, \"geometry\"] = gdf[\"geometry\"].make_valid()\n"
     ]
    },
    {
     "name": "stdout",
     "output_type": "stream",
     "text": [
      "Error fetching amenities for ID 1341045049: No matching features. Check query location, tags, and log.\n",
      "Error fetching amenities for ID 1339742374: No matching features. Check query location, tags, and log.\n"
     ]
    },
    {
     "name": "stderr",
     "output_type": "stream",
     "text": [
      "c:\\Users\\rudra\\AppData\\Local\\Programs\\Python\\Python311\\Lib\\site-packages\\osmnx\\features.py:690: FutureWarning: In a future version, `df.iloc[:, i] = newvals` will attempt to set the values inplace instead of always setting a new array. To retain the old behavior, use either `df[df.columns[i]] = newvals` or, if columns are non-unique, `df.isetitem(i, newvals)`\n",
      "  gdf.loc[:, \"geometry\"] = gdf[\"geometry\"].make_valid()\n",
      "c:\\Users\\rudra\\AppData\\Local\\Programs\\Python\\Python311\\Lib\\site-packages\\osmnx\\features.py:690: FutureWarning: In a future version, `df.iloc[:, i] = newvals` will attempt to set the values inplace instead of always setting a new array. To retain the old behavior, use either `df[df.columns[i]] = newvals` or, if columns are non-unique, `df.isetitem(i, newvals)`\n",
      "  gdf.loc[:, \"geometry\"] = gdf[\"geometry\"].make_valid()\n"
     ]
    },
    {
     "name": "stdout",
     "output_type": "stream",
     "text": [
      "Error fetching amenities for ID 1340924505: No matching features. Check query location, tags, and log.\n",
      "             ID   Latitude  Longitude                               Amenities\n",
      "0    1338889053  40.761386 -73.968083                             [fast_food]\n",
      "1    1339146492  40.777104 -73.963860                          [waste_basket]\n",
      "2    1338941846  40.763575 -73.977703                             [fast_food]\n",
      "3     604530021  40.709206 -74.017376  [bicycle_parking, waste_basket, bench]\n",
      "4    1368047771  40.736916 -74.001339                          [waste_basket]\n",
      "..          ...        ...        ...                                     ...\n",
      "171  1339723652  40.746594 -73.982245                       [bicycle_parking]\n",
      "172   604975828  40.761672 -73.976693                       [bicycle_parking]\n",
      "173   604968283  40.758504 -73.970898            [bicycle_parking, fast_food]\n",
      "174  1368090143  40.707779 -74.007839        [bench, waste_basket, fast_food]\n",
      "175  1366045373  40.711888 -74.003873                                 [bench]\n",
      "\n",
      "[176 rows x 4 columns]\n"
     ]
    },
    {
     "name": "stderr",
     "output_type": "stream",
     "text": [
      "c:\\Users\\rudra\\AppData\\Local\\Programs\\Python\\Python311\\Lib\\site-packages\\osmnx\\features.py:690: FutureWarning: In a future version, `df.iloc[:, i] = newvals` will attempt to set the values inplace instead of always setting a new array. To retain the old behavior, use either `df[df.columns[i]] = newvals` or, if columns are non-unique, `df.isetitem(i, newvals)`\n",
      "  gdf.loc[:, \"geometry\"] = gdf[\"geometry\"].make_valid()\n"
     ]
    }
   ],
   "source": [
    "radius = 30\n",
    "tags = {'amenity': ['post_box', 'bicycle_parking', 'bench', 'fast_food', 'waste_basket']}\n",
    "results = []\n",
    "\n",
    "for id, lat, lon in zip(df['id'], df['lat'], df['lon']):\n",
    "    try:\n",
    "        # Fetch amenities near the point\n",
    "        location_point = (lat, lon)\n",
    "        gdf = ox.features_from_point(location_point, tags, dist=radius)\n",
    "        \n",
    "        # Group amenities by ID, lat, lon\n",
    "        amenities_list = []\n",
    "        for idx, row in gdf.iterrows():\n",
    "            amenities_list.append(row.get('amenity', 'Unknown'))\n",
    "        \n",
    "        # Append to results as a single entry per unique location\n",
    "        results.append({\n",
    "            'ID': id,\n",
    "            'Latitude': lat,\n",
    "            'Longitude': lon,\n",
    "            'Amenities': list(set(amenities_list))  # Ensure unique amenities in the list\n",
    "        })\n",
    "    except Exception as e:\n",
    "        print(f\"Error fetching amenities for ID {id}: {e}\")\n",
    "\n",
    "# Convert results to a DataFrame\n",
    "amenities_df = pd.DataFrame(results)\n",
    "\n",
    "# Display the DataFrame\n",
    "print(amenities_df)\n",
    "\n",
    "# Save to CSV\n",
    "# amenities_df.to_csv(\"unique_amenities_near_points.csv\", index=False)\n",
    "\n",
    "    "
   ]
  },
  {
   "cell_type": "code",
   "execution_count": 7,
   "metadata": {},
   "outputs": [],
   "source": [
    "amenities_df.to_csv(\"unique_amenities_near_points.csv\", index=False)"
   ]
  },
  {
   "cell_type": "code",
   "execution_count": null,
   "metadata": {},
   "outputs": [],
   "source": []
  },
  {
   "cell_type": "code",
   "execution_count": null,
   "metadata": {},
   "outputs": [],
   "source": []
  }
 ],
 "metadata": {
  "kernelspec": {
   "display_name": "Python 3",
   "language": "python",
   "name": "python3"
  },
  "language_info": {
   "codemirror_mode": {
    "name": "ipython",
    "version": 3
   },
   "file_extension": ".py",
   "mimetype": "text/x-python",
   "name": "python",
   "nbconvert_exporter": "python",
   "pygments_lexer": "ipython3",
   "version": "3.11.0"
  }
 },
 "nbformat": 4,
 "nbformat_minor": 2
}
