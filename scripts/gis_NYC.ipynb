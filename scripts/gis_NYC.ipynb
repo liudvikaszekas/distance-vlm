{
 "cells": [
  {
   "cell_type": "code",
   "execution_count": 1,
   "metadata": {},
   "outputs": [],
   "source": [
    "import pandas as pd \n",
    "import numpy as np \n",
    "#!pip install OSMnx\n",
    "import osmnx as ox \n",
    "import geopandas as gpd "
   ]
  },
  {
   "cell_type": "code",
   "execution_count": 2,
   "metadata": {},
   "outputs": [
    {
     "data": {
      "text/html": [
       "<div>\n",
       "<style scoped>\n",
       "    .dataframe tbody tr th:only-of-type {\n",
       "        vertical-align: middle;\n",
       "    }\n",
       "\n",
       "    .dataframe tbody tr th {\n",
       "        vertical-align: top;\n",
       "    }\n",
       "\n",
       "    .dataframe thead th {\n",
       "        text-align: right;\n",
       "    }\n",
       "</style>\n",
       "<table border=\"1\" class=\"dataframe\">\n",
       "  <thead>\n",
       "    <tr style=\"text-align: right;\">\n",
       "      <th></th>\n",
       "      <th>id</th>\n",
       "      <th>bubbleId</th>\n",
       "      <th>cd</th>\n",
       "      <th>lat</th>\n",
       "      <th>lon</th>\n",
       "      <th>altitude</th>\n",
       "      <th>heading</th>\n",
       "      <th>ml</th>\n",
       "      <th>nbn</th>\n",
       "      <th>ne</th>\n",
       "      <th>pi</th>\n",
       "      <th>pr</th>\n",
       "      <th>ro</th>\n",
       "      <th>bl</th>\n",
       "    </tr>\n",
       "  </thead>\n",
       "  <tbody>\n",
       "    <tr>\n",
       "      <th>0</th>\n",
       "      <td>1341008011</td>\n",
       "      <td>1033323202202023</td>\n",
       "      <td>10/27/2021 1:38:17 PM</td>\n",
       "      <td>40.848649</td>\n",
       "      <td>-73.943092</td>\n",
       "      <td>33.003</td>\n",
       "      <td>18.950</td>\n",
       "      <td>3</td>\n",
       "      <td>NaN</td>\n",
       "      <td>1.341008e+09</td>\n",
       "      <td>1.258</td>\n",
       "      <td>1341008010</td>\n",
       "      <td>-1.089</td>\n",
       "      <td>NaN</td>\n",
       "    </tr>\n",
       "    <tr>\n",
       "      <th>1</th>\n",
       "      <td>1338889053</td>\n",
       "      <td>1033303131031131</td>\n",
       "      <td>6/17/2021 4:49:52 PM</td>\n",
       "      <td>40.761386</td>\n",
       "      <td>-73.968083</td>\n",
       "      <td>15.496</td>\n",
       "      <td>118.386</td>\n",
       "      <td>3</td>\n",
       "      <td>NaN</td>\n",
       "      <td>1.338889e+09</td>\n",
       "      <td>2.673</td>\n",
       "      <td>1338889052</td>\n",
       "      <td>-1.066</td>\n",
       "      <td>NaN</td>\n",
       "    </tr>\n",
       "    <tr>\n",
       "      <th>2</th>\n",
       "      <td>1338889917</td>\n",
       "      <td>1033303131122331</td>\n",
       "      <td>6/19/2021 10:40:52 AM</td>\n",
       "      <td>40.752386</td>\n",
       "      <td>-73.986081</td>\n",
       "      <td>19.918</td>\n",
       "      <td>119.726</td>\n",
       "      <td>3</td>\n",
       "      <td>NaN</td>\n",
       "      <td>1.339690e+09</td>\n",
       "      <td>1.558</td>\n",
       "      <td>1338889916</td>\n",
       "      <td>-0.071</td>\n",
       "      <td>NaN</td>\n",
       "    </tr>\n",
       "    <tr>\n",
       "      <th>3</th>\n",
       "      <td>1340693442</td>\n",
       "      <td>1033322111233002</td>\n",
       "      <td>10/17/2021 8:27:25 AM</td>\n",
       "      <td>40.765546</td>\n",
       "      <td>-73.997589</td>\n",
       "      <td>5.004</td>\n",
       "      <td>29.189</td>\n",
       "      <td>3</td>\n",
       "      <td>[{'id': 1340693443, 'az': 208.9}, {'id': 13409...</td>\n",
       "      <td>NaN</td>\n",
       "      <td>0.025</td>\n",
       "      <td>1340693441</td>\n",
       "      <td>-2.613</td>\n",
       "      <td>NaN</td>\n",
       "    </tr>\n",
       "    <tr>\n",
       "      <th>4</th>\n",
       "      <td>1340923982</td>\n",
       "      <td>1033323032001032</td>\n",
       "      <td>10/24/2021 4:04:51 PM</td>\n",
       "      <td>40.861159</td>\n",
       "      <td>-73.927679</td>\n",
       "      <td>8.165</td>\n",
       "      <td>334.442</td>\n",
       "      <td>3</td>\n",
       "      <td>NaN</td>\n",
       "      <td>1.340924e+09</td>\n",
       "      <td>1.007</td>\n",
       "      <td>1340923981</td>\n",
       "      <td>-1.722</td>\n",
       "      <td>NaN</td>\n",
       "    </tr>\n",
       "  </tbody>\n",
       "</table>\n",
       "</div>"
      ],
      "text/plain": [
       "           id          bubbleId                     cd        lat        lon  \\\n",
       "0  1341008011  1033323202202023  10/27/2021 1:38:17 PM  40.848649 -73.943092   \n",
       "1  1338889053  1033303131031131   6/17/2021 4:49:52 PM  40.761386 -73.968083   \n",
       "2  1338889917  1033303131122331  6/19/2021 10:40:52 AM  40.752386 -73.986081   \n",
       "3  1340693442  1033322111233002  10/17/2021 8:27:25 AM  40.765546 -73.997589   \n",
       "4  1340923982  1033323032001032  10/24/2021 4:04:51 PM  40.861159 -73.927679   \n",
       "\n",
       "   altitude  heading  ml                                                nbn  \\\n",
       "0    33.003   18.950   3                                                NaN   \n",
       "1    15.496  118.386   3                                                NaN   \n",
       "2    19.918  119.726   3                                                NaN   \n",
       "3     5.004   29.189   3  [{'id': 1340693443, 'az': 208.9}, {'id': 13409...   \n",
       "4     8.165  334.442   3                                                NaN   \n",
       "\n",
       "             ne     pi          pr     ro  bl  \n",
       "0  1.341008e+09  1.258  1341008010 -1.089 NaN  \n",
       "1  1.338889e+09  2.673  1338889052 -1.066 NaN  \n",
       "2  1.339690e+09  1.558  1338889916 -0.071 NaN  \n",
       "3           NaN  0.025  1340693441 -2.613 NaN  \n",
       "4  1.340924e+09  1.007  1340923981 -1.722 NaN  "
      ]
     },
     "execution_count": 2,
     "metadata": {},
     "output_type": "execute_result"
    }
   ],
   "source": [
    "df = pd.read_csv('./NYC_500.csv')\n",
    "df.head()"
   ]
  },
  {
   "cell_type": "code",
   "execution_count": null,
   "metadata": {},
   "outputs": [
    {
     "name": "stdout",
     "output_type": "stream",
     "text": [
      "Error fetching amenities for ID 1033323202202023: No matching features. Check query location, tags, and log.\n"
     ]
    },
    {
     "name": "stderr",
     "output_type": "stream",
     "text": [
      "c:\\Users\\rudra\\AppData\\Local\\Programs\\Python\\Python311\\Lib\\site-packages\\osmnx\\features.py:690: FutureWarning: In a future version, `df.iloc[:, i] = newvals` will attempt to set the values inplace instead of always setting a new array. To retain the old behavior, use either `df[df.columns[i]] = newvals` or, if columns are non-unique, `df.isetitem(i, newvals)`\n",
      "  gdf.loc[:, \"geometry\"] = gdf[\"geometry\"].make_valid()\n"
     ]
    },
    {
     "name": "stdout",
     "output_type": "stream",
     "text": [
      "Error fetching amenities for ID 1033303131122331: No matching features. Check query location, tags, and log.\n",
      "Error fetching amenities for ID 1033322111233002: No matching features. Check query location, tags, and log.\n",
      "Error fetching amenities for ID 1033323032001032: No matching features. Check query location, tags, and log.\n"
     ]
    },
    {
     "name": "stderr",
     "output_type": "stream",
     "text": [
      "c:\\Users\\rudra\\AppData\\Local\\Programs\\Python\\Python311\\Lib\\site-packages\\osmnx\\features.py:690: FutureWarning: In a future version, `df.iloc[:, i] = newvals` will attempt to set the values inplace instead of always setting a new array. To retain the old behavior, use either `df[df.columns[i]] = newvals` or, if columns are non-unique, `df.isetitem(i, newvals)`\n",
      "  gdf.loc[:, \"geometry\"] = gdf[\"geometry\"].make_valid()\n"
     ]
    },
    {
     "name": "stdout",
     "output_type": "stream",
     "text": [
      "Error fetching amenities for ID 1033313101220022: No matching features. Check query location, tags, and log.\n",
      "Error fetching amenities for ID 1033310130212103: No matching features. Check query location, tags, and log.\n"
     ]
    },
    {
     "name": "stderr",
     "output_type": "stream",
     "text": [
      "c:\\Users\\rudra\\AppData\\Local\\Programs\\Python\\Python311\\Lib\\site-packages\\osmnx\\features.py:690: FutureWarning: In a future version, `df.iloc[:, i] = newvals` will attempt to set the values inplace instead of always setting a new array. To retain the old behavior, use either `df[df.columns[i]] = newvals` or, if columns are non-unique, `df.isetitem(i, newvals)`\n",
      "  gdf.loc[:, \"geometry\"] = gdf[\"geometry\"].make_valid()\n"
     ]
    },
    {
     "name": "stdout",
     "output_type": "stream",
     "text": [
      "Error fetching amenities for ID 1033312200313001: No matching features. Check query location, tags, and log.\n"
     ]
    },
    {
     "name": "stderr",
     "output_type": "stream",
     "text": [
      "c:\\Users\\rudra\\AppData\\Local\\Programs\\Python\\Python311\\Lib\\site-packages\\osmnx\\features.py:690: FutureWarning: In a future version, `df.iloc[:, i] = newvals` will attempt to set the values inplace instead of always setting a new array. To retain the old behavior, use either `df[df.columns[i]] = newvals` or, if columns are non-unique, `df.isetitem(i, newvals)`\n",
      "  gdf.loc[:, \"geometry\"] = gdf[\"geometry\"].make_valid()\n"
     ]
    },
    {
     "name": "stdout",
     "output_type": "stream",
     "text": [
      "Error fetching amenities for ID 1033331001122030: No matching features. Check query location, tags, and log.\n"
     ]
    },
    {
     "name": "stderr",
     "output_type": "stream",
     "text": [
      "c:\\Users\\rudra\\AppData\\Local\\Programs\\Python\\Python311\\Lib\\site-packages\\osmnx\\features.py:690: FutureWarning: In a future version, `df.iloc[:, i] = newvals` will attempt to set the values inplace instead of always setting a new array. To retain the old behavior, use either `df[df.columns[i]] = newvals` or, if columns are non-unique, `df.isetitem(i, newvals)`\n",
      "  gdf.loc[:, \"geometry\"] = gdf[\"geometry\"].make_valid()\n"
     ]
    },
    {
     "name": "stdout",
     "output_type": "stream",
     "text": [
      "Error fetching amenities for ID 210001333221122: No matching features. Check query location, tags, and log.\n",
      "Error fetching amenities for ID 1033323032023330: No matching features. Check query location, tags, and log.\n"
     ]
    },
    {
     "name": "stderr",
     "output_type": "stream",
     "text": [
      "c:\\Users\\rudra\\AppData\\Local\\Programs\\Python\\Python311\\Lib\\site-packages\\osmnx\\features.py:690: FutureWarning: In a future version, `df.iloc[:, i] = newvals` will attempt to set the values inplace instead of always setting a new array. To retain the old behavior, use either `df[df.columns[i]] = newvals` or, if columns are non-unique, `df.isetitem(i, newvals)`\n",
      "  gdf.loc[:, \"geometry\"] = gdf[\"geometry\"].make_valid()\n",
      "c:\\Users\\rudra\\AppData\\Local\\Programs\\Python\\Python311\\Lib\\site-packages\\osmnx\\features.py:690: FutureWarning: In a future version, `df.iloc[:, i] = newvals` will attempt to set the values inplace instead of always setting a new array. To retain the old behavior, use either `df[df.columns[i]] = newvals` or, if columns are non-unique, `df.isetitem(i, newvals)`\n",
      "  gdf.loc[:, \"geometry\"] = gdf[\"geometry\"].make_valid()\n",
      "c:\\Users\\rudra\\AppData\\Local\\Programs\\Python\\Python311\\Lib\\site-packages\\osmnx\\features.py:690: FutureWarning: In a future version, `df.iloc[:, i] = newvals` will attempt to set the values inplace instead of always setting a new array. To retain the old behavior, use either `df[df.columns[i]] = newvals` or, if columns are non-unique, `df.isetitem(i, newvals)`\n",
      "  gdf.loc[:, \"geometry\"] = gdf[\"geometry\"].make_valid()\n",
      "c:\\Users\\rudra\\AppData\\Local\\Programs\\Python\\Python311\\Lib\\site-packages\\osmnx\\features.py:690: FutureWarning: In a future version, `df.iloc[:, i] = newvals` will attempt to set the values inplace instead of always setting a new array. To retain the old behavior, use either `df[df.columns[i]] = newvals` or, if columns are non-unique, `df.isetitem(i, newvals)`\n",
      "  gdf.loc[:, \"geometry\"] = gdf[\"geometry\"].make_valid()\n"
     ]
    },
    {
     "name": "stdout",
     "output_type": "stream",
     "text": [
      "Error fetching amenities for ID 1033323223020032: No matching features. Check query location, tags, and log.\n",
      "Error fetching amenities for ID 1033331022231220: No matching features. Check query location, tags, and log.\n",
      "Error fetching amenities for ID 1033312332102231: No matching features. Check query location, tags, and log.\n",
      "Error fetching amenities for ID 1033322313022131: No matching features. Check query location, tags, and log.\n",
      "Error fetching amenities for ID 210011303320201: No matching features. Check query location, tags, and log.\n",
      "Error fetching amenities for ID 1033322111330222: No matching features. Check query location, tags, and log.\n",
      "Error fetching amenities for ID 1033331212130132: No matching features. Check query location, tags, and log.\n",
      "Error fetching amenities for ID 210003302322201: No matching features. Check query location, tags, and log.\n",
      "Error fetching amenities for ID 1033331212113313: No matching features. Check query location, tags, and log.\n",
      "Error fetching amenities for ID 210003303320232: No matching features. Check query location, tags, and log.\n",
      "Error fetching amenities for ID 1033323223010230: No matching features. Check query location, tags, and log.\n"
     ]
    },
    {
     "name": "stderr",
     "output_type": "stream",
     "text": [
      "c:\\Users\\rudra\\AppData\\Local\\Programs\\Python\\Python311\\Lib\\site-packages\\osmnx\\features.py:690: FutureWarning: In a future version, `df.iloc[:, i] = newvals` will attempt to set the values inplace instead of always setting a new array. To retain the old behavior, use either `df[df.columns[i]] = newvals` or, if columns are non-unique, `df.isetitem(i, newvals)`\n",
      "  gdf.loc[:, \"geometry\"] = gdf[\"geometry\"].make_valid()\n"
     ]
    },
    {
     "name": "stdout",
     "output_type": "stream",
     "text": [
      "Error fetching amenities for ID 1033323230130001: No matching features. Check query location, tags, and log.\n",
      "Error fetching amenities for ID 1033323031310302: No matching features. Check query location, tags, and log.\n",
      "Error fetching amenities for ID 1033320221222331: No matching features. Check query location, tags, and log.\n",
      "Error fetching amenities for ID 1033303313302310: No matching features. Check query location, tags, and log.\n",
      "Error fetching amenities for ID 210003301223113: No matching features. Check query location, tags, and log.\n",
      "Error fetching amenities for ID 1033310201202313: No matching features. Check query location, tags, and log.\n",
      "Error fetching amenities for ID 1033312220221312: No matching features. Check query location, tags, and log.\n"
     ]
    },
    {
     "name": "stderr",
     "output_type": "stream",
     "text": [
      "c:\\Users\\rudra\\AppData\\Local\\Programs\\Python\\Python311\\Lib\\site-packages\\osmnx\\features.py:690: FutureWarning: In a future version, `df.iloc[:, i] = newvals` will attempt to set the values inplace instead of always setting a new array. To retain the old behavior, use either `df[df.columns[i]] = newvals` or, if columns are non-unique, `df.isetitem(i, newvals)`\n",
      "  gdf.loc[:, \"geometry\"] = gdf[\"geometry\"].make_valid()\n"
     ]
    },
    {
     "name": "stdout",
     "output_type": "stream",
     "text": [
      "Error fetching amenities for ID 1033323223231300: No matching features. Check query location, tags, and log.\n"
     ]
    },
    {
     "name": "stderr",
     "output_type": "stream",
     "text": [
      "c:\\Users\\rudra\\AppData\\Local\\Programs\\Python\\Python311\\Lib\\site-packages\\osmnx\\features.py:690: FutureWarning: In a future version, `df.iloc[:, i] = newvals` will attempt to set the values inplace instead of always setting a new array. To retain the old behavior, use either `df[df.columns[i]] = newvals` or, if columns are non-unique, `df.isetitem(i, newvals)`\n",
      "  gdf.loc[:, \"geometry\"] = gdf[\"geometry\"].make_valid()\n",
      "c:\\Users\\rudra\\AppData\\Local\\Programs\\Python\\Python311\\Lib\\site-packages\\osmnx\\features.py:690: FutureWarning: In a future version, `df.iloc[:, i] = newvals` will attempt to set the values inplace instead of always setting a new array. To retain the old behavior, use either `df[df.columns[i]] = newvals` or, if columns are non-unique, `df.isetitem(i, newvals)`\n",
      "  gdf.loc[:, \"geometry\"] = gdf[\"geometry\"].make_valid()\n"
     ]
    },
    {
     "name": "stdout",
     "output_type": "stream",
     "text": [
      "Error fetching amenities for ID 1033312313110312: No matching features. Check query location, tags, and log.\n"
     ]
    },
    {
     "name": "stderr",
     "output_type": "stream",
     "text": [
      "c:\\Users\\rudra\\AppData\\Local\\Programs\\Python\\Python311\\Lib\\site-packages\\osmnx\\features.py:690: FutureWarning: In a future version, `df.iloc[:, i] = newvals` will attempt to set the values inplace instead of always setting a new array. To retain the old behavior, use either `df[df.columns[i]] = newvals` or, if columns are non-unique, `df.isetitem(i, newvals)`\n",
      "  gdf.loc[:, \"geometry\"] = gdf[\"geometry\"].make_valid()\n"
     ]
    },
    {
     "name": "stdout",
     "output_type": "stream",
     "text": [
      "Error fetching amenities for ID 1033331201010020: No matching features. Check query location, tags, and log.\n",
      "Error fetching amenities for ID 1033323223213011: No matching features. Check query location, tags, and log.\n",
      "Error fetching amenities for ID 1033331322102202: No matching features. Check query location, tags, and log.\n"
     ]
    },
    {
     "name": "stderr",
     "output_type": "stream",
     "text": [
      "c:\\Users\\rudra\\AppData\\Local\\Programs\\Python\\Python311\\Lib\\site-packages\\osmnx\\features.py:690: FutureWarning: In a future version, `df.iloc[:, i] = newvals` will attempt to set the values inplace instead of always setting a new array. To retain the old behavior, use either `df[df.columns[i]] = newvals` or, if columns are non-unique, `df.isetitem(i, newvals)`\n",
      "  gdf.loc[:, \"geometry\"] = gdf[\"geometry\"].make_valid()\n"
     ]
    },
    {
     "name": "stdout",
     "output_type": "stream",
     "text": [
      "Error fetching amenities for ID 1033313022232311: No matching features. Check query location, tags, and log.\n"
     ]
    },
    {
     "name": "stderr",
     "output_type": "stream",
     "text": [
      "c:\\Users\\rudra\\AppData\\Local\\Programs\\Python\\Python311\\Lib\\site-packages\\osmnx\\features.py:690: FutureWarning: In a future version, `df.iloc[:, i] = newvals` will attempt to set the values inplace instead of always setting a new array. To retain the old behavior, use either `df[df.columns[i]] = newvals` or, if columns are non-unique, `df.isetitem(i, newvals)`\n",
      "  gdf.loc[:, \"geometry\"] = gdf[\"geometry\"].make_valid()\n"
     ]
    },
    {
     "name": "stdout",
     "output_type": "stream",
     "text": [
      "Error fetching amenities for ID 1033322231232030: No matching features. Check query location, tags, and log.\n",
      "Error fetching amenities for ID 1101202312123100: No matching features. Check query location, tags, and log.\n",
      "Error fetching amenities for ID 1101202230002101: No matching features. Check query location, tags, and log.\n",
      "Error fetching amenities for ID 1101202110211333: No matching features. Check query location, tags, and log.\n"
     ]
    },
    {
     "name": "stderr",
     "output_type": "stream",
     "text": [
      "c:\\Users\\rudra\\AppData\\Local\\Programs\\Python\\Python311\\Lib\\site-packages\\osmnx\\features.py:690: FutureWarning: In a future version, `df.iloc[:, i] = newvals` will attempt to set the values inplace instead of always setting a new array. To retain the old behavior, use either `df[df.columns[i]] = newvals` or, if columns are non-unique, `df.isetitem(i, newvals)`\n",
      "  gdf.loc[:, \"geometry\"] = gdf[\"geometry\"].make_valid()\n",
      "c:\\Users\\rudra\\AppData\\Local\\Programs\\Python\\Python311\\Lib\\site-packages\\osmnx\\features.py:690: FutureWarning: In a future version, `df.iloc[:, i] = newvals` will attempt to set the values inplace instead of always setting a new array. To retain the old behavior, use either `df[df.columns[i]] = newvals` or, if columns are non-unique, `df.isetitem(i, newvals)`\n",
      "  gdf.loc[:, \"geometry\"] = gdf[\"geometry\"].make_valid()\n"
     ]
    },
    {
     "name": "stdout",
     "output_type": "stream",
     "text": [
      "Error fetching amenities for ID 1033331001220102: No matching features. Check query location, tags, and log.\n"
     ]
    },
    {
     "name": "stderr",
     "output_type": "stream",
     "text": [
      "c:\\Users\\rudra\\AppData\\Local\\Programs\\Python\\Python311\\Lib\\site-packages\\osmnx\\features.py:690: FutureWarning: In a future version, `df.iloc[:, i] = newvals` will attempt to set the values inplace instead of always setting a new array. To retain the old behavior, use either `df[df.columns[i]] = newvals` or, if columns are non-unique, `df.isetitem(i, newvals)`\n",
      "  gdf.loc[:, \"geometry\"] = gdf[\"geometry\"].make_valid()\n",
      "c:\\Users\\rudra\\AppData\\Local\\Programs\\Python\\Python311\\Lib\\site-packages\\osmnx\\features.py:690: FutureWarning: In a future version, `df.iloc[:, i] = newvals` will attempt to set the values inplace instead of always setting a new array. To retain the old behavior, use either `df[df.columns[i]] = newvals` or, if columns are non-unique, `df.isetitem(i, newvals)`\n",
      "  gdf.loc[:, \"geometry\"] = gdf[\"geometry\"].make_valid()\n"
     ]
    },
    {
     "name": "stdout",
     "output_type": "stream",
     "text": [
      "Error fetching amenities for ID 1033321030223132: No matching features. Check query location, tags, and log.\n",
      "Error fetching amenities for ID 1033310130313001: No matching features. Check query location, tags, and log.\n",
      "Error fetching amenities for ID 1033323031212100: No matching features. Check query location, tags, and log.\n"
     ]
    },
    {
     "name": "stderr",
     "output_type": "stream",
     "text": [
      "c:\\Users\\rudra\\AppData\\Local\\Programs\\Python\\Python311\\Lib\\site-packages\\osmnx\\features.py:690: FutureWarning: In a future version, `df.iloc[:, i] = newvals` will attempt to set the values inplace instead of always setting a new array. To retain the old behavior, use either `df[df.columns[i]] = newvals` or, if columns are non-unique, `df.isetitem(i, newvals)`\n",
      "  gdf.loc[:, \"geometry\"] = gdf[\"geometry\"].make_valid()\n",
      "c:\\Users\\rudra\\AppData\\Local\\Programs\\Python\\Python311\\Lib\\site-packages\\osmnx\\features.py:690: FutureWarning: In a future version, `df.iloc[:, i] = newvals` will attempt to set the values inplace instead of always setting a new array. To retain the old behavior, use either `df[df.columns[i]] = newvals` or, if columns are non-unique, `df.isetitem(i, newvals)`\n",
      "  gdf.loc[:, \"geometry\"] = gdf[\"geometry\"].make_valid()\n",
      "c:\\Users\\rudra\\AppData\\Local\\Programs\\Python\\Python311\\Lib\\site-packages\\osmnx\\features.py:690: FutureWarning: In a future version, `df.iloc[:, i] = newvals` will attempt to set the values inplace instead of always setting a new array. To retain the old behavior, use either `df[df.columns[i]] = newvals` or, if columns are non-unique, `df.isetitem(i, newvals)`\n",
      "  gdf.loc[:, \"geometry\"] = gdf[\"geometry\"].make_valid()\n"
     ]
    },
    {
     "name": "stdout",
     "output_type": "stream",
     "text": [
      "Error fetching amenities for ID 1033323223203213: No matching features. Check query location, tags, and log.\n",
      "Error fetching amenities for ID 1033310322223202: No matching features. Check query location, tags, and log.\n"
     ]
    },
    {
     "name": "stderr",
     "output_type": "stream",
     "text": [
      "c:\\Users\\rudra\\AppData\\Local\\Programs\\Python\\Python311\\Lib\\site-packages\\osmnx\\features.py:690: FutureWarning: In a future version, `df.iloc[:, i] = newvals` will attempt to set the values inplace instead of always setting a new array. To retain the old behavior, use either `df[df.columns[i]] = newvals` or, if columns are non-unique, `df.isetitem(i, newvals)`\n",
      "  gdf.loc[:, \"geometry\"] = gdf[\"geometry\"].make_valid()\n",
      "c:\\Users\\rudra\\AppData\\Local\\Programs\\Python\\Python311\\Lib\\site-packages\\osmnx\\features.py:690: FutureWarning: In a future version, `df.iloc[:, i] = newvals` will attempt to set the values inplace instead of always setting a new array. To retain the old behavior, use either `df[df.columns[i]] = newvals` or, if columns are non-unique, `df.isetitem(i, newvals)`\n",
      "  gdf.loc[:, \"geometry\"] = gdf[\"geometry\"].make_valid()\n"
     ]
    },
    {
     "name": "stdout",
     "output_type": "stream",
     "text": [
      "Error fetching amenities for ID 210001333110233: No matching features. Check query location, tags, and log.\n",
      "Error fetching amenities for ID 210001311112211: No matching features. Check query location, tags, and log.\n",
      "Error fetching amenities for ID 1033323031022320: No matching features. Check query location, tags, and log.\n"
     ]
    },
    {
     "name": "stderr",
     "output_type": "stream",
     "text": [
      "c:\\Users\\rudra\\AppData\\Local\\Programs\\Python\\Python311\\Lib\\site-packages\\osmnx\\features.py:690: FutureWarning: In a future version, `df.iloc[:, i] = newvals` will attempt to set the values inplace instead of always setting a new array. To retain the old behavior, use either `df[df.columns[i]] = newvals` or, if columns are non-unique, `df.isetitem(i, newvals)`\n",
      "  gdf.loc[:, \"geometry\"] = gdf[\"geometry\"].make_valid()\n"
     ]
    },
    {
     "name": "stdout",
     "output_type": "stream",
     "text": [
      "Error fetching amenities for ID 1033323223232013: No matching features. Check query location, tags, and log.\n",
      "Error fetching amenities for ID 1033303332013003: No matching features. Check query location, tags, and log.\n"
     ]
    },
    {
     "name": "stderr",
     "output_type": "stream",
     "text": [
      "c:\\Users\\rudra\\AppData\\Local\\Programs\\Python\\Python311\\Lib\\site-packages\\osmnx\\features.py:690: FutureWarning: In a future version, `df.iloc[:, i] = newvals` will attempt to set the values inplace instead of always setting a new array. To retain the old behavior, use either `df[df.columns[i]] = newvals` or, if columns are non-unique, `df.isetitem(i, newvals)`\n",
      "  gdf.loc[:, \"geometry\"] = gdf[\"geometry\"].make_valid()\n"
     ]
    },
    {
     "name": "stdout",
     "output_type": "stream",
     "text": [
      "Error fetching amenities for ID 1033312221111211: No matching features. Check query location, tags, and log.\n",
      "Error fetching amenities for ID 1101123313001023: No matching features. Check query location, tags, and log.\n"
     ]
    },
    {
     "name": "stderr",
     "output_type": "stream",
     "text": [
      "c:\\Users\\rudra\\AppData\\Local\\Programs\\Python\\Python311\\Lib\\site-packages\\osmnx\\features.py:690: FutureWarning: In a future version, `df.iloc[:, i] = newvals` will attempt to set the values inplace instead of always setting a new array. To retain the old behavior, use either `df[df.columns[i]] = newvals` or, if columns are non-unique, `df.isetitem(i, newvals)`\n",
      "  gdf.loc[:, \"geometry\"] = gdf[\"geometry\"].make_valid()\n",
      "c:\\Users\\rudra\\AppData\\Local\\Programs\\Python\\Python311\\Lib\\site-packages\\osmnx\\features.py:690: FutureWarning: In a future version, `df.iloc[:, i] = newvals` will attempt to set the values inplace instead of always setting a new array. To retain the old behavior, use either `df[df.columns[i]] = newvals` or, if columns are non-unique, `df.isetitem(i, newvals)`\n",
      "  gdf.loc[:, \"geometry\"] = gdf[\"geometry\"].make_valid()\n"
     ]
    },
    {
     "name": "stdout",
     "output_type": "stream",
     "text": [
      "Error fetching amenities for ID 210011321221003: No matching features. Check query location, tags, and log.\n"
     ]
    },
    {
     "name": "stderr",
     "output_type": "stream",
     "text": [
      "c:\\Users\\rudra\\AppData\\Local\\Programs\\Python\\Python311\\Lib\\site-packages\\osmnx\\features.py:690: FutureWarning: In a future version, `df.iloc[:, i] = newvals` will attempt to set the values inplace instead of always setting a new array. To retain the old behavior, use either `df[df.columns[i]] = newvals` or, if columns are non-unique, `df.isetitem(i, newvals)`\n",
      "  gdf.loc[:, \"geometry\"] = gdf[\"geometry\"].make_valid()\n",
      "c:\\Users\\rudra\\AppData\\Local\\Programs\\Python\\Python311\\Lib\\site-packages\\osmnx\\features.py:690: FutureWarning: In a future version, `df.iloc[:, i] = newvals` will attempt to set the values inplace instead of always setting a new array. To retain the old behavior, use either `df[df.columns[i]] = newvals` or, if columns are non-unique, `df.isetitem(i, newvals)`\n",
      "  gdf.loc[:, \"geometry\"] = gdf[\"geometry\"].make_valid()\n"
     ]
    },
    {
     "name": "stdout",
     "output_type": "stream",
     "text": [
      "Error fetching amenities for ID 1033302310033310: No matching features. Check query location, tags, and log.\n",
      "Error fetching amenities for ID 1033302303103332: No matching features. Check query location, tags, and log.\n",
      "Error fetching amenities for ID 1033310130333303: No matching features. Check query location, tags, and log.\n",
      "Error fetching amenities for ID 210010000201031: No matching features. Check query location, tags, and log.\n",
      "Error fetching amenities for ID 1033323130313303: No matching features. Check query location, tags, and log.\n"
     ]
    },
    {
     "name": "stderr",
     "output_type": "stream",
     "text": [
      "c:\\Users\\rudra\\AppData\\Local\\Programs\\Python\\Python311\\Lib\\site-packages\\osmnx\\features.py:690: FutureWarning: In a future version, `df.iloc[:, i] = newvals` will attempt to set the values inplace instead of always setting a new array. To retain the old behavior, use either `df[df.columns[i]] = newvals` or, if columns are non-unique, `df.isetitem(i, newvals)`\n",
      "  gdf.loc[:, \"geometry\"] = gdf[\"geometry\"].make_valid()\n"
     ]
    },
    {
     "name": "stdout",
     "output_type": "stream",
     "text": [
      "Error fetching amenities for ID 1033312313112023: No matching features. Check query location, tags, and log.\n"
     ]
    },
    {
     "name": "stderr",
     "output_type": "stream",
     "text": [
      "c:\\Users\\rudra\\AppData\\Local\\Programs\\Python\\Python311\\Lib\\site-packages\\osmnx\\features.py:690: FutureWarning: In a future version, `df.iloc[:, i] = newvals` will attempt to set the values inplace instead of always setting a new array. To retain the old behavior, use either `df[df.columns[i]] = newvals` or, if columns are non-unique, `df.isetitem(i, newvals)`\n",
      "  gdf.loc[:, \"geometry\"] = gdf[\"geometry\"].make_valid()\n",
      "c:\\Users\\rudra\\AppData\\Local\\Programs\\Python\\Python311\\Lib\\site-packages\\osmnx\\features.py:690: FutureWarning: In a future version, `df.iloc[:, i] = newvals` will attempt to set the values inplace instead of always setting a new array. To retain the old behavior, use either `df[df.columns[i]] = newvals` or, if columns are non-unique, `df.isetitem(i, newvals)`\n",
      "  gdf.loc[:, \"geometry\"] = gdf[\"geometry\"].make_valid()\n"
     ]
    },
    {
     "name": "stdout",
     "output_type": "stream",
     "text": [
      "Error fetching amenities for ID 1033303230201222: No matching features. Check query location, tags, and log.\n",
      "Error fetching amenities for ID 1033331212130122: No matching features. Check query location, tags, and log.\n",
      "Error fetching amenities for ID 210003303111222: No matching features. Check query location, tags, and log.\n",
      "Error fetching amenities for ID 1033323202223000: No matching features. Check query location, tags, and log.\n",
      "Error fetching amenities for ID 1033303230131122: No matching features. Check query location, tags, and log.\n",
      "Error fetching amenities for ID 1033310130123010: No matching features. Check query location, tags, and log.\n"
     ]
    },
    {
     "name": "stderr",
     "output_type": "stream",
     "text": [
      "c:\\Users\\rudra\\AppData\\Local\\Programs\\Python\\Python311\\Lib\\site-packages\\osmnx\\features.py:690: FutureWarning: In a future version, `df.iloc[:, i] = newvals` will attempt to set the values inplace instead of always setting a new array. To retain the old behavior, use either `df[df.columns[i]] = newvals` or, if columns are non-unique, `df.isetitem(i, newvals)`\n",
      "  gdf.loc[:, \"geometry\"] = gdf[\"geometry\"].make_valid()\n",
      "c:\\Users\\rudra\\AppData\\Local\\Programs\\Python\\Python311\\Lib\\site-packages\\osmnx\\features.py:690: FutureWarning: In a future version, `df.iloc[:, i] = newvals` will attempt to set the values inplace instead of always setting a new array. To retain the old behavior, use either `df[df.columns[i]] = newvals` or, if columns are non-unique, `df.isetitem(i, newvals)`\n",
      "  gdf.loc[:, \"geometry\"] = gdf[\"geometry\"].make_valid()\n",
      "c:\\Users\\rudra\\AppData\\Local\\Programs\\Python\\Python311\\Lib\\site-packages\\osmnx\\features.py:690: FutureWarning: In a future version, `df.iloc[:, i] = newvals` will attempt to set the values inplace instead of always setting a new array. To retain the old behavior, use either `df[df.columns[i]] = newvals` or, if columns are non-unique, `df.isetitem(i, newvals)`\n",
      "  gdf.loc[:, \"geometry\"] = gdf[\"geometry\"].make_valid()\n"
     ]
    },
    {
     "name": "stdout",
     "output_type": "stream",
     "text": [
      "Error fetching amenities for ID 210003312332110: No matching features. Check query location, tags, and log.\n"
     ]
    },
    {
     "name": "stderr",
     "output_type": "stream",
     "text": [
      "c:\\Users\\rudra\\AppData\\Local\\Programs\\Python\\Python311\\Lib\\site-packages\\osmnx\\features.py:690: FutureWarning: In a future version, `df.iloc[:, i] = newvals` will attempt to set the values inplace instead of always setting a new array. To retain the old behavior, use either `df[df.columns[i]] = newvals` or, if columns are non-unique, `df.isetitem(i, newvals)`\n",
      "  gdf.loc[:, \"geometry\"] = gdf[\"geometry\"].make_valid()\n"
     ]
    },
    {
     "name": "stdout",
     "output_type": "stream",
     "text": [
      "Error fetching amenities for ID 1033331001213200: No matching features. Check query location, tags, and log.\n",
      "Error fetching amenities for ID 1033303331331012: No matching features. Check query location, tags, and log.\n"
     ]
    },
    {
     "name": "stderr",
     "output_type": "stream",
     "text": [
      "c:\\Users\\rudra\\AppData\\Local\\Programs\\Python\\Python311\\Lib\\site-packages\\osmnx\\features.py:690: FutureWarning: In a future version, `df.iloc[:, i] = newvals` will attempt to set the values inplace instead of always setting a new array. To retain the old behavior, use either `df[df.columns[i]] = newvals` or, if columns are non-unique, `df.isetitem(i, newvals)`\n",
      "  gdf.loc[:, \"geometry\"] = gdf[\"geometry\"].make_valid()\n",
      "c:\\Users\\rudra\\AppData\\Local\\Programs\\Python\\Python311\\Lib\\site-packages\\osmnx\\features.py:690: FutureWarning: In a future version, `df.iloc[:, i] = newvals` will attempt to set the values inplace instead of always setting a new array. To retain the old behavior, use either `df[df.columns[i]] = newvals` or, if columns are non-unique, `df.isetitem(i, newvals)`\n",
      "  gdf.loc[:, \"geometry\"] = gdf[\"geometry\"].make_valid()\n",
      "c:\\Users\\rudra\\AppData\\Local\\Programs\\Python\\Python311\\Lib\\site-packages\\osmnx\\features.py:690: FutureWarning: In a future version, `df.iloc[:, i] = newvals` will attempt to set the values inplace instead of always setting a new array. To retain the old behavior, use either `df[df.columns[i]] = newvals` or, if columns are non-unique, `df.isetitem(i, newvals)`\n",
      "  gdf.loc[:, \"geometry\"] = gdf[\"geometry\"].make_valid()\n",
      "c:\\Users\\rudra\\AppData\\Local\\Programs\\Python\\Python311\\Lib\\site-packages\\osmnx\\features.py:690: FutureWarning: In a future version, `df.iloc[:, i] = newvals` will attempt to set the values inplace instead of always setting a new array. To retain the old behavior, use either `df[df.columns[i]] = newvals` or, if columns are non-unique, `df.isetitem(i, newvals)`\n",
      "  gdf.loc[:, \"geometry\"] = gdf[\"geometry\"].make_valid()\n"
     ]
    },
    {
     "name": "stdout",
     "output_type": "stream",
     "text": [
      "Error fetching amenities for ID 1033323112333020: No matching features. Check query location, tags, and log.\n",
      "Error fetching amenities for ID 1033322231303131: No matching features. Check query location, tags, and log.\n"
     ]
    },
    {
     "name": "stderr",
     "output_type": "stream",
     "text": [
      "c:\\Users\\rudra\\AppData\\Local\\Programs\\Python\\Python311\\Lib\\site-packages\\osmnx\\features.py:690: FutureWarning: In a future version, `df.iloc[:, i] = newvals` will attempt to set the values inplace instead of always setting a new array. To retain the old behavior, use either `df[df.columns[i]] = newvals` or, if columns are non-unique, `df.isetitem(i, newvals)`\n",
      "  gdf.loc[:, \"geometry\"] = gdf[\"geometry\"].make_valid()\n"
     ]
    },
    {
     "name": "stdout",
     "output_type": "stream",
     "text": [
      "Error fetching amenities for ID 1033322231103333: No matching features. Check query location, tags, and log.\n",
      "Error fetching amenities for ID 1033323031131321: No matching features. Check query location, tags, and log.\n",
      "Error fetching amenities for ID 1033310100200203: No matching features. Check query location, tags, and log.\n",
      "Error fetching amenities for ID 1101203011001123: No matching features. Check query location, tags, and log.\n",
      "Error fetching amenities for ID 1033310113301100: No matching features. Check query location, tags, and log.\n",
      "Error fetching amenities for ID 1033303002000201: No matching features. Check query location, tags, and log.\n",
      "Error fetching amenities for ID 1033313101221201: No matching features. Check query location, tags, and log.\n",
      "Error fetching amenities for ID 1033323223103011: No matching features. Check query location, tags, and log.\n"
     ]
    },
    {
     "name": "stderr",
     "output_type": "stream",
     "text": [
      "c:\\Users\\rudra\\AppData\\Local\\Programs\\Python\\Python311\\Lib\\site-packages\\osmnx\\features.py:690: FutureWarning: In a future version, `df.iloc[:, i] = newvals` will attempt to set the values inplace instead of always setting a new array. To retain the old behavior, use either `df[df.columns[i]] = newvals` or, if columns are non-unique, `df.isetitem(i, newvals)`\n",
      "  gdf.loc[:, \"geometry\"] = gdf[\"geometry\"].make_valid()\n"
     ]
    },
    {
     "name": "stdout",
     "output_type": "stream",
     "text": [
      "Error fetching amenities for ID 1033322312303313: No matching features. Check query location, tags, and log.\n",
      "Error fetching amenities for ID 1033331201021231: No matching features. Check query location, tags, and log.\n"
     ]
    },
    {
     "name": "stderr",
     "output_type": "stream",
     "text": [
      "c:\\Users\\rudra\\AppData\\Local\\Programs\\Python\\Python311\\Lib\\site-packages\\osmnx\\features.py:690: FutureWarning: In a future version, `df.iloc[:, i] = newvals` will attempt to set the values inplace instead of always setting a new array. To retain the old behavior, use either `df[df.columns[i]] = newvals` or, if columns are non-unique, `df.isetitem(i, newvals)`\n",
      "  gdf.loc[:, \"geometry\"] = gdf[\"geometry\"].make_valid()\n"
     ]
    },
    {
     "name": "stdout",
     "output_type": "stream",
     "text": [
      "Error fetching amenities for ID 1033331200011032: No matching features. Check query location, tags, and log.\n",
      "Error fetching amenities for ID 210003303322200: No matching features. Check query location, tags, and log.\n"
     ]
    },
    {
     "name": "stderr",
     "output_type": "stream",
     "text": [
      "c:\\Users\\rudra\\AppData\\Local\\Programs\\Python\\Python311\\Lib\\site-packages\\osmnx\\features.py:690: FutureWarning: In a future version, `df.iloc[:, i] = newvals` will attempt to set the values inplace instead of always setting a new array. To retain the old behavior, use either `df[df.columns[i]] = newvals` or, if columns are non-unique, `df.isetitem(i, newvals)`\n",
      "  gdf.loc[:, \"geometry\"] = gdf[\"geometry\"].make_valid()\n",
      "c:\\Users\\rudra\\AppData\\Local\\Programs\\Python\\Python311\\Lib\\site-packages\\osmnx\\features.py:690: FutureWarning: In a future version, `df.iloc[:, i] = newvals` will attempt to set the values inplace instead of always setting a new array. To retain the old behavior, use either `df[df.columns[i]] = newvals` or, if columns are non-unique, `df.isetitem(i, newvals)`\n",
      "  gdf.loc[:, \"geometry\"] = gdf[\"geometry\"].make_valid()\n",
      "c:\\Users\\rudra\\AppData\\Local\\Programs\\Python\\Python311\\Lib\\site-packages\\osmnx\\features.py:690: FutureWarning: In a future version, `df.iloc[:, i] = newvals` will attempt to set the values inplace instead of always setting a new array. To retain the old behavior, use either `df[df.columns[i]] = newvals` or, if columns are non-unique, `df.isetitem(i, newvals)`\n",
      "  gdf.loc[:, \"geometry\"] = gdf[\"geometry\"].make_valid()\n"
     ]
    },
    {
     "name": "stdout",
     "output_type": "stream",
     "text": [
      "Error fetching amenities for ID 1033312332030201: No matching features. Check query location, tags, and log.\n"
     ]
    },
    {
     "name": "stderr",
     "output_type": "stream",
     "text": [
      "c:\\Users\\rudra\\AppData\\Local\\Programs\\Python\\Python311\\Lib\\site-packages\\osmnx\\features.py:690: FutureWarning: In a future version, `df.iloc[:, i] = newvals` will attempt to set the values inplace instead of always setting a new array. To retain the old behavior, use either `df[df.columns[i]] = newvals` or, if columns are non-unique, `df.isetitem(i, newvals)`\n",
      "  gdf.loc[:, \"geometry\"] = gdf[\"geometry\"].make_valid()\n"
     ]
    },
    {
     "name": "stdout",
     "output_type": "stream",
     "text": [
      "Error fetching amenities for ID 210003303132030: No matching features. Check query location, tags, and log.\n",
      "Error fetching amenities for ID 1033311012121003: No matching features. Check query location, tags, and log.\n",
      "Error fetching amenities for ID 1033323032013211: No matching features. Check query location, tags, and log.\n",
      "Error fetching amenities for ID 210132111013310: No matching features. Check query location, tags, and log.\n",
      "Error fetching amenities for ID 1033323030333012: No matching features. Check query location, tags, and log.\n",
      "Error fetching amenities for ID 1033310113322120: No matching features. Check query location, tags, and log.\n",
      "Error fetching amenities for ID 1033303131011300: No matching features. Check query location, tags, and log.\n",
      "Error fetching amenities for ID 1033331022202222: No matching features. Check query location, tags, and log.\n",
      "Error fetching amenities for ID 210001332201211: No matching features. Check query location, tags, and log.\n"
     ]
    },
    {
     "name": "stderr",
     "output_type": "stream",
     "text": [
      "c:\\Users\\rudra\\AppData\\Local\\Programs\\Python\\Python311\\Lib\\site-packages\\osmnx\\features.py:690: FutureWarning: In a future version, `df.iloc[:, i] = newvals` will attempt to set the values inplace instead of always setting a new array. To retain the old behavior, use either `df[df.columns[i]] = newvals` or, if columns are non-unique, `df.isetitem(i, newvals)`\n",
      "  gdf.loc[:, \"geometry\"] = gdf[\"geometry\"].make_valid()\n"
     ]
    },
    {
     "name": "stdout",
     "output_type": "stream",
     "text": [
      "Error fetching amenities for ID 1033303230110213: No matching features. Check query location, tags, and log.\n"
     ]
    },
    {
     "name": "stderr",
     "output_type": "stream",
     "text": [
      "c:\\Users\\rudra\\AppData\\Local\\Programs\\Python\\Python311\\Lib\\site-packages\\osmnx\\features.py:690: FutureWarning: In a future version, `df.iloc[:, i] = newvals` will attempt to set the values inplace instead of always setting a new array. To retain the old behavior, use either `df[df.columns[i]] = newvals` or, if columns are non-unique, `df.isetitem(i, newvals)`\n",
      "  gdf.loc[:, \"geometry\"] = gdf[\"geometry\"].make_valid()\n"
     ]
    },
    {
     "name": "stdout",
     "output_type": "stream",
     "text": [
      "Error fetching amenities for ID 1033331211221221: No matching features. Check query location, tags, and log.\n",
      "Error fetching amenities for ID 1033312221100200: No matching features. Check query location, tags, and log.\n"
     ]
    },
    {
     "name": "stderr",
     "output_type": "stream",
     "text": [
      "c:\\Users\\rudra\\AppData\\Local\\Programs\\Python\\Python311\\Lib\\site-packages\\osmnx\\features.py:690: FutureWarning: In a future version, `df.iloc[:, i] = newvals` will attempt to set the values inplace instead of always setting a new array. To retain the old behavior, use either `df[df.columns[i]] = newvals` or, if columns are non-unique, `df.isetitem(i, newvals)`\n",
      "  gdf.loc[:, \"geometry\"] = gdf[\"geometry\"].make_valid()\n",
      "c:\\Users\\rudra\\AppData\\Local\\Programs\\Python\\Python311\\Lib\\site-packages\\osmnx\\features.py:690: FutureWarning: In a future version, `df.iloc[:, i] = newvals` will attempt to set the values inplace instead of always setting a new array. To retain the old behavior, use either `df[df.columns[i]] = newvals` or, if columns are non-unique, `df.isetitem(i, newvals)`\n",
      "  gdf.loc[:, \"geometry\"] = gdf[\"geometry\"].make_valid()\n",
      "c:\\Users\\rudra\\AppData\\Local\\Programs\\Python\\Python311\\Lib\\site-packages\\osmnx\\features.py:690: FutureWarning: In a future version, `df.iloc[:, i] = newvals` will attempt to set the values inplace instead of always setting a new array. To retain the old behavior, use either `df[df.columns[i]] = newvals` or, if columns are non-unique, `df.isetitem(i, newvals)`\n",
      "  gdf.loc[:, \"geometry\"] = gdf[\"geometry\"].make_valid()\n",
      "c:\\Users\\rudra\\AppData\\Local\\Programs\\Python\\Python311\\Lib\\site-packages\\osmnx\\features.py:690: FutureWarning: In a future version, `df.iloc[:, i] = newvals` will attempt to set the values inplace instead of always setting a new array. To retain the old behavior, use either `df[df.columns[i]] = newvals` or, if columns are non-unique, `df.isetitem(i, newvals)`\n",
      "  gdf.loc[:, \"geometry\"] = gdf[\"geometry\"].make_valid()\n",
      "c:\\Users\\rudra\\AppData\\Local\\Programs\\Python\\Python311\\Lib\\site-packages\\osmnx\\features.py:690: FutureWarning: In a future version, `df.iloc[:, i] = newvals` will attempt to set the values inplace instead of always setting a new array. To retain the old behavior, use either `df[df.columns[i]] = newvals` or, if columns are non-unique, `df.isetitem(i, newvals)`\n",
      "  gdf.loc[:, \"geometry\"] = gdf[\"geometry\"].make_valid()\n",
      "c:\\Users\\rudra\\AppData\\Local\\Programs\\Python\\Python311\\Lib\\site-packages\\osmnx\\features.py:690: FutureWarning: In a future version, `df.iloc[:, i] = newvals` will attempt to set the values inplace instead of always setting a new array. To retain the old behavior, use either `df[df.columns[i]] = newvals` or, if columns are non-unique, `df.isetitem(i, newvals)`\n",
      "  gdf.loc[:, \"geometry\"] = gdf[\"geometry\"].make_valid()\n"
     ]
    },
    {
     "name": "stdout",
     "output_type": "stream",
     "text": [
      "Error fetching amenities for ID 210011321220131: No matching features. Check query location, tags, and log.\n"
     ]
    },
    {
     "name": "stderr",
     "output_type": "stream",
     "text": [
      "c:\\Users\\rudra\\AppData\\Local\\Programs\\Python\\Python311\\Lib\\site-packages\\osmnx\\features.py:690: FutureWarning: In a future version, `df.iloc[:, i] = newvals` will attempt to set the values inplace instead of always setting a new array. To retain the old behavior, use either `df[df.columns[i]] = newvals` or, if columns are non-unique, `df.isetitem(i, newvals)`\n",
      "  gdf.loc[:, \"geometry\"] = gdf[\"geometry\"].make_valid()\n"
     ]
    },
    {
     "name": "stdout",
     "output_type": "stream",
     "text": [
      "Error fetching amenities for ID 1033322312311001: No matching features. Check query location, tags, and log.\n",
      "Error fetching amenities for ID 1033302311330130: No matching features. Check query location, tags, and log.\n",
      "Error fetching amenities for ID 1033322112120322: No matching features. Check query location, tags, and log.\n"
     ]
    },
    {
     "name": "stderr",
     "output_type": "stream",
     "text": [
      "c:\\Users\\rudra\\AppData\\Local\\Programs\\Python\\Python311\\Lib\\site-packages\\osmnx\\features.py:690: FutureWarning: In a future version, `df.iloc[:, i] = newvals` will attempt to set the values inplace instead of always setting a new array. To retain the old behavior, use either `df[df.columns[i]] = newvals` or, if columns are non-unique, `df.isetitem(i, newvals)`\n",
      "  gdf.loc[:, \"geometry\"] = gdf[\"geometry\"].make_valid()\n"
     ]
    },
    {
     "name": "stdout",
     "output_type": "stream",
     "text": [
      "Error fetching amenities for ID 1033303131013220: No matching features. Check query location, tags, and log.\n",
      "Error fetching amenities for ID 1033322111320213: No matching features. Check query location, tags, and log.\n",
      "Error fetching amenities for ID 1033310130231103: No matching features. Check query location, tags, and log.\n",
      "Error fetching amenities for ID 1033322312301000: No matching features. Check query location, tags, and log.\n",
      "Error fetching amenities for ID 1033322312310311: No matching features. Check query location, tags, and log.\n"
     ]
    },
    {
     "name": "stderr",
     "output_type": "stream",
     "text": [
      "c:\\Users\\rudra\\AppData\\Local\\Programs\\Python\\Python311\\Lib\\site-packages\\osmnx\\features.py:690: FutureWarning: In a future version, `df.iloc[:, i] = newvals` will attempt to set the values inplace instead of always setting a new array. To retain the old behavior, use either `df[df.columns[i]] = newvals` or, if columns are non-unique, `df.isetitem(i, newvals)`\n",
      "  gdf.loc[:, \"geometry\"] = gdf[\"geometry\"].make_valid()\n",
      "c:\\Users\\rudra\\AppData\\Local\\Programs\\Python\\Python311\\Lib\\site-packages\\osmnx\\features.py:690: FutureWarning: In a future version, `df.iloc[:, i] = newvals` will attempt to set the values inplace instead of always setting a new array. To retain the old behavior, use either `df[df.columns[i]] = newvals` or, if columns are non-unique, `df.isetitem(i, newvals)`\n",
      "  gdf.loc[:, \"geometry\"] = gdf[\"geometry\"].make_valid()\n"
     ]
    },
    {
     "name": "stdout",
     "output_type": "stream",
     "text": [
      "Error fetching amenities for ID 1033323031203322: No matching features. Check query location, tags, and log.\n",
      "Error fetching amenities for ID 210003220302213: No matching features. Check query location, tags, and log.\n",
      "Error fetching amenities for ID 1033331022303300: No matching features. Check query location, tags, and log.\n"
     ]
    },
    {
     "name": "stderr",
     "output_type": "stream",
     "text": [
      "c:\\Users\\rudra\\AppData\\Local\\Programs\\Python\\Python311\\Lib\\site-packages\\osmnx\\features.py:690: FutureWarning: In a future version, `df.iloc[:, i] = newvals` will attempt to set the values inplace instead of always setting a new array. To retain the old behavior, use either `df[df.columns[i]] = newvals` or, if columns are non-unique, `df.isetitem(i, newvals)`\n",
      "  gdf.loc[:, \"geometry\"] = gdf[\"geometry\"].make_valid()\n"
     ]
    },
    {
     "name": "stdout",
     "output_type": "stream",
     "text": [
      "Error fetching amenities for ID 1033322312303303: No matching features. Check query location, tags, and log.\n",
      "Error fetching amenities for ID 1033310120002233: No matching features. Check query location, tags, and log.\n"
     ]
    },
    {
     "name": "stderr",
     "output_type": "stream",
     "text": [
      "c:\\Users\\rudra\\AppData\\Local\\Programs\\Python\\Python311\\Lib\\site-packages\\osmnx\\features.py:690: FutureWarning: In a future version, `df.iloc[:, i] = newvals` will attempt to set the values inplace instead of always setting a new array. To retain the old behavior, use either `df[df.columns[i]] = newvals` or, if columns are non-unique, `df.isetitem(i, newvals)`\n",
      "  gdf.loc[:, \"geometry\"] = gdf[\"geometry\"].make_valid()\n"
     ]
    },
    {
     "name": "stdout",
     "output_type": "stream",
     "text": [
      "Error fetching amenities for ID 1033331201120300: No matching features. Check query location, tags, and log.\n",
      "Error fetching amenities for ID 1033320221223203: No matching features. Check query location, tags, and log.\n",
      "Error fetching amenities for ID 1033331001122322: No matching features. Check query location, tags, and log.\n"
     ]
    },
    {
     "name": "stderr",
     "output_type": "stream",
     "text": [
      "c:\\Users\\rudra\\AppData\\Local\\Programs\\Python\\Python311\\Lib\\site-packages\\osmnx\\features.py:690: FutureWarning: In a future version, `df.iloc[:, i] = newvals` will attempt to set the values inplace instead of always setting a new array. To retain the old behavior, use either `df[df.columns[i]] = newvals` or, if columns are non-unique, `df.isetitem(i, newvals)`\n",
      "  gdf.loc[:, \"geometry\"] = gdf[\"geometry\"].make_valid()\n"
     ]
    },
    {
     "name": "stdout",
     "output_type": "stream",
     "text": [
      "Error fetching amenities for ID 1033323202131133: No matching features. Check query location, tags, and log.\n",
      "Error fetching amenities for ID 1101202230010120: No matching features. Check query location, tags, and log.\n"
     ]
    },
    {
     "name": "stderr",
     "output_type": "stream",
     "text": [
      "c:\\Users\\rudra\\AppData\\Local\\Programs\\Python\\Python311\\Lib\\site-packages\\osmnx\\features.py:690: FutureWarning: In a future version, `df.iloc[:, i] = newvals` will attempt to set the values inplace instead of always setting a new array. To retain the old behavior, use either `df[df.columns[i]] = newvals` or, if columns are non-unique, `df.isetitem(i, newvals)`\n",
      "  gdf.loc[:, \"geometry\"] = gdf[\"geometry\"].make_valid()\n",
      "c:\\Users\\rudra\\AppData\\Local\\Programs\\Python\\Python311\\Lib\\site-packages\\osmnx\\features.py:690: FutureWarning: In a future version, `df.iloc[:, i] = newvals` will attempt to set the values inplace instead of always setting a new array. To retain the old behavior, use either `df[df.columns[i]] = newvals` or, if columns are non-unique, `df.isetitem(i, newvals)`\n",
      "  gdf.loc[:, \"geometry\"] = gdf[\"geometry\"].make_valid()\n"
     ]
    },
    {
     "name": "stdout",
     "output_type": "stream",
     "text": [
      "Error fetching amenities for ID 1033323223123113: No matching features. Check query location, tags, and log.\n"
     ]
    },
    {
     "name": "stderr",
     "output_type": "stream",
     "text": [
      "c:\\Users\\rudra\\AppData\\Local\\Programs\\Python\\Python311\\Lib\\site-packages\\osmnx\\features.py:690: FutureWarning: In a future version, `df.iloc[:, i] = newvals` will attempt to set the values inplace instead of always setting a new array. To retain the old behavior, use either `df[df.columns[i]] = newvals` or, if columns are non-unique, `df.isetitem(i, newvals)`\n",
      "  gdf.loc[:, \"geometry\"] = gdf[\"geometry\"].make_valid()\n",
      "c:\\Users\\rudra\\AppData\\Local\\Programs\\Python\\Python311\\Lib\\site-packages\\osmnx\\features.py:690: FutureWarning: In a future version, `df.iloc[:, i] = newvals` will attempt to set the values inplace instead of always setting a new array. To retain the old behavior, use either `df[df.columns[i]] = newvals` or, if columns are non-unique, `df.isetitem(i, newvals)`\n",
      "  gdf.loc[:, \"geometry\"] = gdf[\"geometry\"].make_valid()\n"
     ]
    },
    {
     "name": "stdout",
     "output_type": "stream",
     "text": [
      "Error fetching amenities for ID 1033310120023312: No matching features. Check query location, tags, and log.\n"
     ]
    },
    {
     "name": "stderr",
     "output_type": "stream",
     "text": [
      "c:\\Users\\rudra\\AppData\\Local\\Programs\\Python\\Python311\\Lib\\site-packages\\osmnx\\features.py:690: FutureWarning: In a future version, `df.iloc[:, i] = newvals` will attempt to set the values inplace instead of always setting a new array. To retain the old behavior, use either `df[df.columns[i]] = newvals` or, if columns are non-unique, `df.isetitem(i, newvals)`\n",
      "  gdf.loc[:, \"geometry\"] = gdf[\"geometry\"].make_valid()\n",
      "c:\\Users\\rudra\\AppData\\Local\\Programs\\Python\\Python311\\Lib\\site-packages\\osmnx\\features.py:690: FutureWarning: In a future version, `df.iloc[:, i] = newvals` will attempt to set the values inplace instead of always setting a new array. To retain the old behavior, use either `df[df.columns[i]] = newvals` or, if columns are non-unique, `df.isetitem(i, newvals)`\n",
      "  gdf.loc[:, \"geometry\"] = gdf[\"geometry\"].make_valid()\n"
     ]
    },
    {
     "name": "stdout",
     "output_type": "stream",
     "text": [
      "Error fetching amenities for ID 1033312332033201: No matching features. Check query location, tags, and log.\n",
      "Error fetching amenities for ID 1033322312232333: No matching features. Check query location, tags, and log.\n",
      "Error fetching amenities for ID 1033311033203130: No matching features. Check query location, tags, and log.\n"
     ]
    },
    {
     "name": "stderr",
     "output_type": "stream",
     "text": [
      "c:\\Users\\rudra\\AppData\\Local\\Programs\\Python\\Python311\\Lib\\site-packages\\osmnx\\features.py:690: FutureWarning: In a future version, `df.iloc[:, i] = newvals` will attempt to set the values inplace instead of always setting a new array. To retain the old behavior, use either `df[df.columns[i]] = newvals` or, if columns are non-unique, `df.isetitem(i, newvals)`\n",
      "  gdf.loc[:, \"geometry\"] = gdf[\"geometry\"].make_valid()\n",
      "c:\\Users\\rudra\\AppData\\Local\\Programs\\Python\\Python311\\Lib\\site-packages\\osmnx\\features.py:690: FutureWarning: In a future version, `df.iloc[:, i] = newvals` will attempt to set the values inplace instead of always setting a new array. To retain the old behavior, use either `df[df.columns[i]] = newvals` or, if columns are non-unique, `df.isetitem(i, newvals)`\n",
      "  gdf.loc[:, \"geometry\"] = gdf[\"geometry\"].make_valid()\n"
     ]
    },
    {
     "name": "stdout",
     "output_type": "stream",
     "text": [
      "Error fetching amenities for ID 1033323031310020: No matching features. Check query location, tags, and log.\n",
      "Error fetching amenities for ID 1033321031003000: No matching features. Check query location, tags, and log.\n",
      "Error fetching amenities for ID 1033312313102131: No matching features. Check query location, tags, and log.\n",
      "Error fetching amenities for ID 1033323021112120: No matching features. Check query location, tags, and log.\n"
     ]
    },
    {
     "name": "stderr",
     "output_type": "stream",
     "text": [
      "c:\\Users\\rudra\\AppData\\Local\\Programs\\Python\\Python311\\Lib\\site-packages\\osmnx\\features.py:690: FutureWarning: In a future version, `df.iloc[:, i] = newvals` will attempt to set the values inplace instead of always setting a new array. To retain the old behavior, use either `df[df.columns[i]] = newvals` or, if columns are non-unique, `df.isetitem(i, newvals)`\n",
      "  gdf.loc[:, \"geometry\"] = gdf[\"geometry\"].make_valid()\n"
     ]
    },
    {
     "name": "stdout",
     "output_type": "stream",
     "text": [
      "Error fetching amenities for ID 210003301233031: No matching features. Check query location, tags, and log.\n",
      "Error fetching amenities for ID 1033323031101202: No matching features. Check query location, tags, and log.\n",
      "Error fetching amenities for ID 1101123313001301: No matching features. Check query location, tags, and log.\n"
     ]
    },
    {
     "name": "stderr",
     "output_type": "stream",
     "text": [
      "c:\\Users\\rudra\\AppData\\Local\\Programs\\Python\\Python311\\Lib\\site-packages\\osmnx\\features.py:690: FutureWarning: In a future version, `df.iloc[:, i] = newvals` will attempt to set the values inplace instead of always setting a new array. To retain the old behavior, use either `df[df.columns[i]] = newvals` or, if columns are non-unique, `df.isetitem(i, newvals)`\n",
      "  gdf.loc[:, \"geometry\"] = gdf[\"geometry\"].make_valid()\n",
      "c:\\Users\\rudra\\AppData\\Local\\Programs\\Python\\Python311\\Lib\\site-packages\\osmnx\\features.py:690: FutureWarning: In a future version, `df.iloc[:, i] = newvals` will attempt to set the values inplace instead of always setting a new array. To retain the old behavior, use either `df[df.columns[i]] = newvals` or, if columns are non-unique, `df.isetitem(i, newvals)`\n",
      "  gdf.loc[:, \"geometry\"] = gdf[\"geometry\"].make_valid()\n",
      "c:\\Users\\rudra\\AppData\\Local\\Programs\\Python\\Python311\\Lib\\site-packages\\osmnx\\features.py:690: FutureWarning: In a future version, `df.iloc[:, i] = newvals` will attempt to set the values inplace instead of always setting a new array. To retain the old behavior, use either `df[df.columns[i]] = newvals` or, if columns are non-unique, `df.isetitem(i, newvals)`\n",
      "  gdf.loc[:, \"geometry\"] = gdf[\"geometry\"].make_valid()\n"
     ]
    },
    {
     "name": "stdout",
     "output_type": "stream",
     "text": [
      "Error fetching amenities for ID 1033313320013321: No matching features. Check query location, tags, and log.\n",
      "Error fetching amenities for ID 1033323223013320: No matching features. Check query location, tags, and log.\n",
      "Error fetching amenities for ID 1033302303110131: No matching features. Check query location, tags, and log.\n",
      "Error fetching amenities for ID 1033323230012310: No matching features. Check query location, tags, and log.\n",
      "Error fetching amenities for ID 210002011330311: No matching features. Check query location, tags, and log.\n",
      "Error fetching amenities for ID 210001333201113: No matching features. Check query location, tags, and log.\n"
     ]
    },
    {
     "name": "stderr",
     "output_type": "stream",
     "text": [
      "c:\\Users\\rudra\\AppData\\Local\\Programs\\Python\\Python311\\Lib\\site-packages\\osmnx\\features.py:690: FutureWarning: In a future version, `df.iloc[:, i] = newvals` will attempt to set the values inplace instead of always setting a new array. To retain the old behavior, use either `df[df.columns[i]] = newvals` or, if columns are non-unique, `df.isetitem(i, newvals)`\n",
      "  gdf.loc[:, \"geometry\"] = gdf[\"geometry\"].make_valid()\n",
      "c:\\Users\\rudra\\AppData\\Local\\Programs\\Python\\Python311\\Lib\\site-packages\\osmnx\\features.py:690: FutureWarning: In a future version, `df.iloc[:, i] = newvals` will attempt to set the values inplace instead of always setting a new array. To retain the old behavior, use either `df[df.columns[i]] = newvals` or, if columns are non-unique, `df.isetitem(i, newvals)`\n",
      "  gdf.loc[:, \"geometry\"] = gdf[\"geometry\"].make_valid()\n"
     ]
    },
    {
     "name": "stdout",
     "output_type": "stream",
     "text": [
      "Error fetching amenities for ID 1033331201123220: No matching features. Check query location, tags, and log.\n",
      "Error fetching amenities for ID 1033310130122323: No matching features. Check query location, tags, and log.\n"
     ]
    },
    {
     "name": "stderr",
     "output_type": "stream",
     "text": [
      "c:\\Users\\rudra\\AppData\\Local\\Programs\\Python\\Python311\\Lib\\site-packages\\osmnx\\features.py:690: FutureWarning: In a future version, `df.iloc[:, i] = newvals` will attempt to set the values inplace instead of always setting a new array. To retain the old behavior, use either `df[df.columns[i]] = newvals` or, if columns are non-unique, `df.isetitem(i, newvals)`\n",
      "  gdf.loc[:, \"geometry\"] = gdf[\"geometry\"].make_valid()\n",
      "c:\\Users\\rudra\\AppData\\Local\\Programs\\Python\\Python311\\Lib\\site-packages\\osmnx\\features.py:690: FutureWarning: In a future version, `df.iloc[:, i] = newvals` will attempt to set the values inplace instead of always setting a new array. To retain the old behavior, use either `df[df.columns[i]] = newvals` or, if columns are non-unique, `df.isetitem(i, newvals)`\n",
      "  gdf.loc[:, \"geometry\"] = gdf[\"geometry\"].make_valid()\n"
     ]
    },
    {
     "name": "stdout",
     "output_type": "stream",
     "text": [
      "Error fetching amenities for ID 1033322231331210: No matching features. Check query location, tags, and log.\n",
      "Error fetching amenities for ID 1033331001201330: No matching features. Check query location, tags, and log.\n"
     ]
    },
    {
     "name": "stderr",
     "output_type": "stream",
     "text": [
      "c:\\Users\\rudra\\AppData\\Local\\Programs\\Python\\Python311\\Lib\\site-packages\\osmnx\\features.py:690: FutureWarning: In a future version, `df.iloc[:, i] = newvals` will attempt to set the values inplace instead of always setting a new array. To retain the old behavior, use either `df[df.columns[i]] = newvals` or, if columns are non-unique, `df.isetitem(i, newvals)`\n",
      "  gdf.loc[:, \"geometry\"] = gdf[\"geometry\"].make_valid()\n",
      "c:\\Users\\rudra\\AppData\\Local\\Programs\\Python\\Python311\\Lib\\site-packages\\osmnx\\features.py:690: FutureWarning: In a future version, `df.iloc[:, i] = newvals` will attempt to set the values inplace instead of always setting a new array. To retain the old behavior, use either `df[df.columns[i]] = newvals` or, if columns are non-unique, `df.isetitem(i, newvals)`\n",
      "  gdf.loc[:, \"geometry\"] = gdf[\"geometry\"].make_valid()\n"
     ]
    },
    {
     "name": "stdout",
     "output_type": "stream",
     "text": [
      "Error fetching amenities for ID 1033323130232201: No matching features. Check query location, tags, and log.\n"
     ]
    },
    {
     "name": "stderr",
     "output_type": "stream",
     "text": [
      "c:\\Users\\rudra\\AppData\\Local\\Programs\\Python\\Python311\\Lib\\site-packages\\osmnx\\features.py:690: FutureWarning: In a future version, `df.iloc[:, i] = newvals` will attempt to set the values inplace instead of always setting a new array. To retain the old behavior, use either `df[df.columns[i]] = newvals` or, if columns are non-unique, `df.isetitem(i, newvals)`\n",
      "  gdf.loc[:, \"geometry\"] = gdf[\"geometry\"].make_valid()\n"
     ]
    },
    {
     "name": "stdout",
     "output_type": "stream",
     "text": [
      "Error fetching amenities for ID 1033323020333010: No matching features. Check query location, tags, and log.\n",
      "Error fetching amenities for ID 1101202132310022: No matching features. Check query location, tags, and log.\n",
      "Error fetching amenities for ID 210003301331133: No matching features. Check query location, tags, and log.\n"
     ]
    },
    {
     "name": "stderr",
     "output_type": "stream",
     "text": [
      "c:\\Users\\rudra\\AppData\\Local\\Programs\\Python\\Python311\\Lib\\site-packages\\osmnx\\features.py:690: FutureWarning: In a future version, `df.iloc[:, i] = newvals` will attempt to set the values inplace instead of always setting a new array. To retain the old behavior, use either `df[df.columns[i]] = newvals` or, if columns are non-unique, `df.isetitem(i, newvals)`\n",
      "  gdf.loc[:, \"geometry\"] = gdf[\"geometry\"].make_valid()\n"
     ]
    },
    {
     "name": "stdout",
     "output_type": "stream",
     "text": [
      "Error fetching amenities for ID 1101202132322323: No matching features. Check query location, tags, and log.\n",
      "Error fetching amenities for ID 1033310130222233: No matching features. Check query location, tags, and log.\n",
      "Error fetching amenities for ID 1033313320020120: No matching features. Check query location, tags, and log.\n",
      "Error fetching amenities for ID 210011313022132: No matching features. Check query location, tags, and log.\n"
     ]
    },
    {
     "name": "stderr",
     "output_type": "stream",
     "text": [
      "c:\\Users\\rudra\\AppData\\Local\\Programs\\Python\\Python311\\Lib\\site-packages\\osmnx\\features.py:690: FutureWarning: In a future version, `df.iloc[:, i] = newvals` will attempt to set the values inplace instead of always setting a new array. To retain the old behavior, use either `df[df.columns[i]] = newvals` or, if columns are non-unique, `df.isetitem(i, newvals)`\n",
      "  gdf.loc[:, \"geometry\"] = gdf[\"geometry\"].make_valid()\n"
     ]
    },
    {
     "name": "stdout",
     "output_type": "stream",
     "text": [
      "Error fetching amenities for ID 1033310131022330: No matching features. Check query location, tags, and log.\n"
     ]
    },
    {
     "name": "stderr",
     "output_type": "stream",
     "text": [
      "c:\\Users\\rudra\\AppData\\Local\\Programs\\Python\\Python311\\Lib\\site-packages\\osmnx\\features.py:690: FutureWarning: In a future version, `df.iloc[:, i] = newvals` will attempt to set the values inplace instead of always setting a new array. To retain the old behavior, use either `df[df.columns[i]] = newvals` or, if columns are non-unique, `df.isetitem(i, newvals)`\n",
      "  gdf.loc[:, \"geometry\"] = gdf[\"geometry\"].make_valid()\n",
      "c:\\Users\\rudra\\AppData\\Local\\Programs\\Python\\Python311\\Lib\\site-packages\\osmnx\\features.py:690: FutureWarning: In a future version, `df.iloc[:, i] = newvals` will attempt to set the values inplace instead of always setting a new array. To retain the old behavior, use either `df[df.columns[i]] = newvals` or, if columns are non-unique, `df.isetitem(i, newvals)`\n",
      "  gdf.loc[:, \"geometry\"] = gdf[\"geometry\"].make_valid()\n"
     ]
    },
    {
     "name": "stdout",
     "output_type": "stream",
     "text": [
      "Error fetching amenities for ID 1033331211300102: No matching features. Check query location, tags, and log.\n",
      "Error fetching amenities for ID 210001333211000: No matching features. Check query location, tags, and log.\n",
      "Error fetching amenities for ID 1033303332100303: No matching features. Check query location, tags, and log.\n"
     ]
    },
    {
     "name": "stderr",
     "output_type": "stream",
     "text": [
      "c:\\Users\\rudra\\AppData\\Local\\Programs\\Python\\Python311\\Lib\\site-packages\\osmnx\\features.py:690: FutureWarning: In a future version, `df.iloc[:, i] = newvals` will attempt to set the values inplace instead of always setting a new array. To retain the old behavior, use either `df[df.columns[i]] = newvals` or, if columns are non-unique, `df.isetitem(i, newvals)`\n",
      "  gdf.loc[:, \"geometry\"] = gdf[\"geometry\"].make_valid()\n",
      "c:\\Users\\rudra\\AppData\\Local\\Programs\\Python\\Python311\\Lib\\site-packages\\osmnx\\features.py:690: FutureWarning: In a future version, `df.iloc[:, i] = newvals` will attempt to set the values inplace instead of always setting a new array. To retain the old behavior, use either `df[df.columns[i]] = newvals` or, if columns are non-unique, `df.isetitem(i, newvals)`\n",
      "  gdf.loc[:, \"geometry\"] = gdf[\"geometry\"].make_valid()\n"
     ]
    },
    {
     "name": "stdout",
     "output_type": "stream",
     "text": [
      "Error fetching amenities for ID 1033323223101112: No matching features. Check query location, tags, and log.\n",
      "Error fetching amenities for ID 1101202223323212: No matching features. Check query location, tags, and log.\n"
     ]
    },
    {
     "name": "stderr",
     "output_type": "stream",
     "text": [
      "c:\\Users\\rudra\\AppData\\Local\\Programs\\Python\\Python311\\Lib\\site-packages\\osmnx\\features.py:690: FutureWarning: In a future version, `df.iloc[:, i] = newvals` will attempt to set the values inplace instead of always setting a new array. To retain the old behavior, use either `df[df.columns[i]] = newvals` or, if columns are non-unique, `df.isetitem(i, newvals)`\n",
      "  gdf.loc[:, \"geometry\"] = gdf[\"geometry\"].make_valid()\n"
     ]
    },
    {
     "name": "stdout",
     "output_type": "stream",
     "text": [
      "Error fetching amenities for ID 210003321221001: No matching features. Check query location, tags, and log.\n",
      "Error fetching amenities for ID 1033312332021022: No matching features. Check query location, tags, and log.\n",
      "Error fetching amenities for ID 1033323021033320: No matching features. Check query location, tags, and log.\n",
      "Error fetching amenities for ID 1033322313030020: No matching features. Check query location, tags, and log.\n",
      "Error fetching amenities for ID 1033323223201200: No matching features. Check query location, tags, and log.\n",
      "Error fetching amenities for ID 1033320302200221: No matching features. Check query location, tags, and log.\n"
     ]
    },
    {
     "name": "stderr",
     "output_type": "stream",
     "text": [
      "c:\\Users\\rudra\\AppData\\Local\\Programs\\Python\\Python311\\Lib\\site-packages\\osmnx\\features.py:690: FutureWarning: In a future version, `df.iloc[:, i] = newvals` will attempt to set the values inplace instead of always setting a new array. To retain the old behavior, use either `df[df.columns[i]] = newvals` or, if columns are non-unique, `df.isetitem(i, newvals)`\n",
      "  gdf.loc[:, \"geometry\"] = gdf[\"geometry\"].make_valid()\n"
     ]
    },
    {
     "name": "stdout",
     "output_type": "stream",
     "text": [
      "Error fetching amenities for ID 1033331211321031: No matching features. Check query location, tags, and log.\n"
     ]
    },
    {
     "name": "stderr",
     "output_type": "stream",
     "text": [
      "c:\\Users\\rudra\\AppData\\Local\\Programs\\Python\\Python311\\Lib\\site-packages\\osmnx\\features.py:690: FutureWarning: In a future version, `df.iloc[:, i] = newvals` will attempt to set the values inplace instead of always setting a new array. To retain the old behavior, use either `df[df.columns[i]] = newvals` or, if columns are non-unique, `df.isetitem(i, newvals)`\n",
      "  gdf.loc[:, \"geometry\"] = gdf[\"geometry\"].make_valid()\n",
      "c:\\Users\\rudra\\AppData\\Local\\Programs\\Python\\Python311\\Lib\\site-packages\\osmnx\\features.py:690: FutureWarning: In a future version, `df.iloc[:, i] = newvals` will attempt to set the values inplace instead of always setting a new array. To retain the old behavior, use either `df[df.columns[i]] = newvals` or, if columns are non-unique, `df.isetitem(i, newvals)`\n",
      "  gdf.loc[:, \"geometry\"] = gdf[\"geometry\"].make_valid()\n",
      "c:\\Users\\rudra\\AppData\\Local\\Programs\\Python\\Python311\\Lib\\site-packages\\osmnx\\features.py:690: FutureWarning: In a future version, `df.iloc[:, i] = newvals` will attempt to set the values inplace instead of always setting a new array. To retain the old behavior, use either `df[df.columns[i]] = newvals` or, if columns are non-unique, `df.isetitem(i, newvals)`\n",
      "  gdf.loc[:, \"geometry\"] = gdf[\"geometry\"].make_valid()\n"
     ]
    },
    {
     "name": "stdout",
     "output_type": "stream",
     "text": [
      "Error fetching amenities for ID 1033323031031121: No matching features. Check query location, tags, and log.\n",
      "Error fetching amenities for ID 1033331200321102: No matching features. Check query location, tags, and log.\n",
      "Error fetching amenities for ID 1033310131011112: No matching features. Check query location, tags, and log.\n",
      "Error fetching amenities for ID 1033323223112023: No matching features. Check query location, tags, and log.\n",
      "Error fetching amenities for ID 1033323031120230: No matching features. Check query location, tags, and log.\n",
      "Error fetching amenities for ID 1033323223013021: No matching features. Check query location, tags, and log.\n"
     ]
    },
    {
     "name": "stderr",
     "output_type": "stream",
     "text": [
      "c:\\Users\\rudra\\AppData\\Local\\Programs\\Python\\Python311\\Lib\\site-packages\\osmnx\\features.py:690: FutureWarning: In a future version, `df.iloc[:, i] = newvals` will attempt to set the values inplace instead of always setting a new array. To retain the old behavior, use either `df[df.columns[i]] = newvals` or, if columns are non-unique, `df.isetitem(i, newvals)`\n",
      "  gdf.loc[:, \"geometry\"] = gdf[\"geometry\"].make_valid()\n",
      "c:\\Users\\rudra\\AppData\\Local\\Programs\\Python\\Python311\\Lib\\site-packages\\osmnx\\features.py:690: FutureWarning: In a future version, `df.iloc[:, i] = newvals` will attempt to set the values inplace instead of always setting a new array. To retain the old behavior, use either `df[df.columns[i]] = newvals` or, if columns are non-unique, `df.isetitem(i, newvals)`\n",
      "  gdf.loc[:, \"geometry\"] = gdf[\"geometry\"].make_valid()\n"
     ]
    },
    {
     "name": "stdout",
     "output_type": "stream",
     "text": [
      "Error fetching amenities for ID 1033303303321223: No matching features. Check query location, tags, and log.\n",
      "Error fetching amenities for ID 1033323032032330: No matching features. Check query location, tags, and log.\n",
      "Error fetching amenities for ID 1033310113232110: No matching features. Check query location, tags, and log.\n"
     ]
    },
    {
     "name": "stderr",
     "output_type": "stream",
     "text": [
      "c:\\Users\\rudra\\AppData\\Local\\Programs\\Python\\Python311\\Lib\\site-packages\\osmnx\\features.py:690: FutureWarning: In a future version, `df.iloc[:, i] = newvals` will attempt to set the values inplace instead of always setting a new array. To retain the old behavior, use either `df[df.columns[i]] = newvals` or, if columns are non-unique, `df.isetitem(i, newvals)`\n",
      "  gdf.loc[:, \"geometry\"] = gdf[\"geometry\"].make_valid()\n"
     ]
    },
    {
     "name": "stdout",
     "output_type": "stream",
     "text": [
      "Error fetching amenities for ID 1033303131120012: No matching features. Check query location, tags, and log.\n",
      "Error fetching amenities for ID 1033312220310300: No matching features. Check query location, tags, and log.\n"
     ]
    },
    {
     "name": "stderr",
     "output_type": "stream",
     "text": [
      "c:\\Users\\rudra\\AppData\\Local\\Programs\\Python\\Python311\\Lib\\site-packages\\osmnx\\features.py:690: FutureWarning: In a future version, `df.iloc[:, i] = newvals` will attempt to set the values inplace instead of always setting a new array. To retain the old behavior, use either `df[df.columns[i]] = newvals` or, if columns are non-unique, `df.isetitem(i, newvals)`\n",
      "  gdf.loc[:, \"geometry\"] = gdf[\"geometry\"].make_valid()\n"
     ]
    },
    {
     "name": "stdout",
     "output_type": "stream",
     "text": [
      "Error fetching amenities for ID 1033310333330001: No matching features. Check query location, tags, and log.\n"
     ]
    },
    {
     "name": "stderr",
     "output_type": "stream",
     "text": [
      "c:\\Users\\rudra\\AppData\\Local\\Programs\\Python\\Python311\\Lib\\site-packages\\osmnx\\features.py:690: FutureWarning: In a future version, `df.iloc[:, i] = newvals` will attempt to set the values inplace instead of always setting a new array. To retain the old behavior, use either `df[df.columns[i]] = newvals` or, if columns are non-unique, `df.isetitem(i, newvals)`\n",
      "  gdf.loc[:, \"geometry\"] = gdf[\"geometry\"].make_valid()\n",
      "c:\\Users\\rudra\\AppData\\Local\\Programs\\Python\\Python311\\Lib\\site-packages\\osmnx\\features.py:690: FutureWarning: In a future version, `df.iloc[:, i] = newvals` will attempt to set the values inplace instead of always setting a new array. To retain the old behavior, use either `df[df.columns[i]] = newvals` or, if columns are non-unique, `df.isetitem(i, newvals)`\n",
      "  gdf.loc[:, \"geometry\"] = gdf[\"geometry\"].make_valid()\n"
     ]
    },
    {
     "name": "stdout",
     "output_type": "stream",
     "text": [
      "Error fetching amenities for ID 210003312230203: No matching features. Check query location, tags, and log.\n",
      "Error fetching amenities for ID 1033322111323032: No matching features. Check query location, tags, and log.\n",
      "Error fetching amenities for ID 210003303321031: No matching features. Check query location, tags, and log.\n",
      "Error fetching amenities for ID 1033312332002210: No matching features. Check query location, tags, and log.\n",
      "Error fetching amenities for ID 1033331211213213: No matching features. Check query location, tags, and log.\n",
      "Error fetching amenities for ID 1033310130211210: No matching features. Check query location, tags, and log.\n",
      "Error fetching amenities for ID 1033323030332103: No matching features. Check query location, tags, and log.\n"
     ]
    },
    {
     "name": "stderr",
     "output_type": "stream",
     "text": [
      "c:\\Users\\rudra\\AppData\\Local\\Programs\\Python\\Python311\\Lib\\site-packages\\osmnx\\features.py:690: FutureWarning: In a future version, `df.iloc[:, i] = newvals` will attempt to set the values inplace instead of always setting a new array. To retain the old behavior, use either `df[df.columns[i]] = newvals` or, if columns are non-unique, `df.isetitem(i, newvals)`\n",
      "  gdf.loc[:, \"geometry\"] = gdf[\"geometry\"].make_valid()\n"
     ]
    },
    {
     "name": "stdout",
     "output_type": "stream",
     "text": [
      "Error fetching amenities for ID 1033313022103301: No matching features. Check query location, tags, and log.\n",
      "Error fetching amenities for ID 1033310130233010: No matching features. Check query location, tags, and log.\n",
      "Error fetching amenities for ID 1033331201102130: No matching features. Check query location, tags, and log.\n",
      "Error fetching amenities for ID 1033313320012103: No matching features. Check query location, tags, and log.\n"
     ]
    },
    {
     "name": "stderr",
     "output_type": "stream",
     "text": [
      "c:\\Users\\rudra\\AppData\\Local\\Programs\\Python\\Python311\\Lib\\site-packages\\osmnx\\features.py:690: FutureWarning: In a future version, `df.iloc[:, i] = newvals` will attempt to set the values inplace instead of always setting a new array. To retain the old behavior, use either `df[df.columns[i]] = newvals` or, if columns are non-unique, `df.isetitem(i, newvals)`\n",
      "  gdf.loc[:, \"geometry\"] = gdf[\"geometry\"].make_valid()\n"
     ]
    },
    {
     "name": "stdout",
     "output_type": "stream",
     "text": [
      "Error fetching amenities for ID 1033310123330300: No matching features. Check query location, tags, and log.\n",
      "Error fetching amenities for ID 1101202021320222: No matching features. Check query location, tags, and log.\n",
      "Error fetching amenities for ID 1101123002321032: No matching features. Check query location, tags, and log.\n",
      "Error fetching amenities for ID 210003302023202: No matching features. Check query location, tags, and log.\n",
      "Error fetching amenities for ID 1033310333321210: No matching features. Check query location, tags, and log.\n",
      "Error fetching amenities for ID 1033313022111223: No matching features. Check query location, tags, and log.\n",
      "Error fetching amenities for ID 1033310100200200: No matching features. Check query location, tags, and log.\n",
      "Error fetching amenities for ID 1033323030302120: No matching features. Check query location, tags, and log.\n"
     ]
    },
    {
     "name": "stderr",
     "output_type": "stream",
     "text": [
      "c:\\Users\\rudra\\AppData\\Local\\Programs\\Python\\Python311\\Lib\\site-packages\\osmnx\\features.py:690: FutureWarning: In a future version, `df.iloc[:, i] = newvals` will attempt to set the values inplace instead of always setting a new array. To retain the old behavior, use either `df[df.columns[i]] = newvals` or, if columns are non-unique, `df.isetitem(i, newvals)`\n",
      "  gdf.loc[:, \"geometry\"] = gdf[\"geometry\"].make_valid()\n"
     ]
    },
    {
     "name": "stdout",
     "output_type": "stream",
     "text": [
      "Error fetching amenities for ID 1033321030233330: No matching features. Check query location, tags, and log.\n",
      "Error fetching amenities for ID 1033331201202232: No matching features. Check query location, tags, and log.\n",
      "Error fetching amenities for ID 1033310130112311: No matching features. Check query location, tags, and log.\n",
      "Error fetching amenities for ID 1033323223020313: No matching features. Check query location, tags, and log.\n",
      "Error fetching amenities for ID 1033331022113322: No matching features. Check query location, tags, and log.\n",
      "Error fetching amenities for ID 1033312220220311: No matching features. Check query location, tags, and log.\n"
     ]
    },
    {
     "name": "stderr",
     "output_type": "stream",
     "text": [
      "c:\\Users\\rudra\\AppData\\Local\\Programs\\Python\\Python311\\Lib\\site-packages\\osmnx\\features.py:690: FutureWarning: In a future version, `df.iloc[:, i] = newvals` will attempt to set the values inplace instead of always setting a new array. To retain the old behavior, use either `df[df.columns[i]] = newvals` or, if columns are non-unique, `df.isetitem(i, newvals)`\n",
      "  gdf.loc[:, \"geometry\"] = gdf[\"geometry\"].make_valid()\n"
     ]
    },
    {
     "name": "stdout",
     "output_type": "stream",
     "text": [
      "Error fetching amenities for ID 1033310113320022: No matching features. Check query location, tags, and log.\n"
     ]
    },
    {
     "name": "stderr",
     "output_type": "stream",
     "text": [
      "c:\\Users\\rudra\\AppData\\Local\\Programs\\Python\\Python311\\Lib\\site-packages\\osmnx\\features.py:690: FutureWarning: In a future version, `df.iloc[:, i] = newvals` will attempt to set the values inplace instead of always setting a new array. To retain the old behavior, use either `df[df.columns[i]] = newvals` or, if columns are non-unique, `df.isetitem(i, newvals)`\n",
      "  gdf.loc[:, \"geometry\"] = gdf[\"geometry\"].make_valid()\n",
      "c:\\Users\\rudra\\AppData\\Local\\Programs\\Python\\Python311\\Lib\\site-packages\\osmnx\\features.py:690: FutureWarning: In a future version, `df.iloc[:, i] = newvals` will attempt to set the values inplace instead of always setting a new array. To retain the old behavior, use either `df[df.columns[i]] = newvals` or, if columns are non-unique, `df.isetitem(i, newvals)`\n",
      "  gdf.loc[:, \"geometry\"] = gdf[\"geometry\"].make_valid()\n"
     ]
    },
    {
     "name": "stdout",
     "output_type": "stream",
     "text": [
      "Error fetching amenities for ID 1033323021103301: No matching features. Check query location, tags, and log.\n",
      "Error fetching amenities for ID 1033312313101132: No matching features. Check query location, tags, and log.\n",
      "Error fetching amenities for ID 1033303332031330: No matching features. Check query location, tags, and log.\n",
      "Error fetching amenities for ID 210003303210210: No matching features. Check query location, tags, and log.\n"
     ]
    },
    {
     "name": "stderr",
     "output_type": "stream",
     "text": [
      "c:\\Users\\rudra\\AppData\\Local\\Programs\\Python\\Python311\\Lib\\site-packages\\osmnx\\features.py:690: FutureWarning: In a future version, `df.iloc[:, i] = newvals` will attempt to set the values inplace instead of always setting a new array. To retain the old behavior, use either `df[df.columns[i]] = newvals` or, if columns are non-unique, `df.isetitem(i, newvals)`\n",
      "  gdf.loc[:, \"geometry\"] = gdf[\"geometry\"].make_valid()\n"
     ]
    },
    {
     "name": "stdout",
     "output_type": "stream",
     "text": [
      "Error fetching amenities for ID 1033310130333321: No matching features. Check query location, tags, and log.\n"
     ]
    },
    {
     "name": "stderr",
     "output_type": "stream",
     "text": [
      "c:\\Users\\rudra\\AppData\\Local\\Programs\\Python\\Python311\\Lib\\site-packages\\osmnx\\features.py:690: FutureWarning: In a future version, `df.iloc[:, i] = newvals` will attempt to set the values inplace instead of always setting a new array. To retain the old behavior, use either `df[df.columns[i]] = newvals` or, if columns are non-unique, `df.isetitem(i, newvals)`\n",
      "  gdf.loc[:, \"geometry\"] = gdf[\"geometry\"].make_valid()\n",
      "c:\\Users\\rudra\\AppData\\Local\\Programs\\Python\\Python311\\Lib\\site-packages\\osmnx\\features.py:690: FutureWarning: In a future version, `df.iloc[:, i] = newvals` will attempt to set the values inplace instead of always setting a new array. To retain the old behavior, use either `df[df.columns[i]] = newvals` or, if columns are non-unique, `df.isetitem(i, newvals)`\n",
      "  gdf.loc[:, \"geometry\"] = gdf[\"geometry\"].make_valid()\n",
      "c:\\Users\\rudra\\AppData\\Local\\Programs\\Python\\Python311\\Lib\\site-packages\\osmnx\\features.py:690: FutureWarning: In a future version, `df.iloc[:, i] = newvals` will attempt to set the values inplace instead of always setting a new array. To retain the old behavior, use either `df[df.columns[i]] = newvals` or, if columns are non-unique, `df.isetitem(i, newvals)`\n",
      "  gdf.loc[:, \"geometry\"] = gdf[\"geometry\"].make_valid()\n",
      "c:\\Users\\rudra\\AppData\\Local\\Programs\\Python\\Python311\\Lib\\site-packages\\osmnx\\features.py:690: FutureWarning: In a future version, `df.iloc[:, i] = newvals` will attempt to set the values inplace instead of always setting a new array. To retain the old behavior, use either `df[df.columns[i]] = newvals` or, if columns are non-unique, `df.isetitem(i, newvals)`\n",
      "  gdf.loc[:, \"geometry\"] = gdf[\"geometry\"].make_valid()\n",
      "c:\\Users\\rudra\\AppData\\Local\\Programs\\Python\\Python311\\Lib\\site-packages\\osmnx\\features.py:690: FutureWarning: In a future version, `df.iloc[:, i] = newvals` will attempt to set the values inplace instead of always setting a new array. To retain the old behavior, use either `df[df.columns[i]] = newvals` or, if columns are non-unique, `df.isetitem(i, newvals)`\n",
      "  gdf.loc[:, \"geometry\"] = gdf[\"geometry\"].make_valid()\n"
     ]
    },
    {
     "name": "stdout",
     "output_type": "stream",
     "text": [
      "Error fetching amenities for ID 1033323031210122: No matching features. Check query location, tags, and log.\n",
      "Error fetching amenities for ID 1033331200300013: No matching features. Check query location, tags, and log.\n",
      "Error fetching amenities for ID 210003301211230: No matching features. Check query location, tags, and log.\n",
      "Error fetching amenities for ID 210003303202132: No matching features. Check query location, tags, and log.\n",
      "Error fetching amenities for ID 1033303230301002: No matching features. Check query location, tags, and log.\n",
      "Error fetching amenities for ID 1033322131220303: No matching features. Check query location, tags, and log.\n",
      "Error fetching amenities for ID 210003301211000: No matching features. Check query location, tags, and log.\n",
      "Error fetching amenities for ID 1033323230021002: No matching features. Check query location, tags, and log.\n",
      "Error fetching amenities for ID 1033312221100013: No matching features. Check query location, tags, and log.\n",
      "Error fetching amenities for ID 1033303100000300: No matching features. Check query location, tags, and log.\n",
      "Error fetching amenities for ID 1033310113322230: No matching features. Check query location, tags, and log.\n",
      "Error fetching amenities for ID 1033303001322323: No matching features. Check query location, tags, and log.\n",
      "Error fetching amenities for ID 210003330303103: No matching features. Check query location, tags, and log.\n",
      "Error fetching amenities for ID 1101202021303322: No matching features. Check query location, tags, and log.\n",
      "Error fetching amenities for ID 1033322111310021: No matching features. Check query location, tags, and log.\n"
     ]
    },
    {
     "name": "stderr",
     "output_type": "stream",
     "text": [
      "c:\\Users\\rudra\\AppData\\Local\\Programs\\Python\\Python311\\Lib\\site-packages\\osmnx\\features.py:690: FutureWarning: In a future version, `df.iloc[:, i] = newvals` will attempt to set the values inplace instead of always setting a new array. To retain the old behavior, use either `df[df.columns[i]] = newvals` or, if columns are non-unique, `df.isetitem(i, newvals)`\n",
      "  gdf.loc[:, \"geometry\"] = gdf[\"geometry\"].make_valid()\n"
     ]
    },
    {
     "name": "stdout",
     "output_type": "stream",
     "text": [
      "Error fetching amenities for ID 1033303230233232: No matching features. Check query location, tags, and log.\n",
      "Error fetching amenities for ID 1033303230300310: No matching features. Check query location, tags, and log.\n",
      "Error fetching amenities for ID 1033323020322321: No matching features. Check query location, tags, and log.\n"
     ]
    },
    {
     "name": "stderr",
     "output_type": "stream",
     "text": [
      "c:\\Users\\rudra\\AppData\\Local\\Programs\\Python\\Python311\\Lib\\site-packages\\osmnx\\features.py:690: FutureWarning: In a future version, `df.iloc[:, i] = newvals` will attempt to set the values inplace instead of always setting a new array. To retain the old behavior, use either `df[df.columns[i]] = newvals` or, if columns are non-unique, `df.isetitem(i, newvals)`\n",
      "  gdf.loc[:, \"geometry\"] = gdf[\"geometry\"].make_valid()\n"
     ]
    },
    {
     "name": "stdout",
     "output_type": "stream",
     "text": [
      "Error fetching amenities for ID 1033312331333012: No matching features. Check query location, tags, and log.\n",
      "Error fetching amenities for ID 1033322231130111: No matching features. Check query location, tags, and log.\n"
     ]
    },
    {
     "name": "stderr",
     "output_type": "stream",
     "text": [
      "c:\\Users\\rudra\\AppData\\Local\\Programs\\Python\\Python311\\Lib\\site-packages\\osmnx\\features.py:690: FutureWarning: In a future version, `df.iloc[:, i] = newvals` will attempt to set the values inplace instead of always setting a new array. To retain the old behavior, use either `df[df.columns[i]] = newvals` or, if columns are non-unique, `df.isetitem(i, newvals)`\n",
      "  gdf.loc[:, \"geometry\"] = gdf[\"geometry\"].make_valid()\n",
      "c:\\Users\\rudra\\AppData\\Local\\Programs\\Python\\Python311\\Lib\\site-packages\\osmnx\\features.py:690: FutureWarning: In a future version, `df.iloc[:, i] = newvals` will attempt to set the values inplace instead of always setting a new array. To retain the old behavior, use either `df[df.columns[i]] = newvals` or, if columns are non-unique, `df.isetitem(i, newvals)`\n",
      "  gdf.loc[:, \"geometry\"] = gdf[\"geometry\"].make_valid()\n"
     ]
    },
    {
     "name": "stdout",
     "output_type": "stream",
     "text": [
      "Error fetching amenities for ID 210003302033311: No matching features. Check query location, tags, and log.\n",
      "Error fetching amenities for ID 1101202110210223: No matching features. Check query location, tags, and log.\n"
     ]
    },
    {
     "name": "stderr",
     "output_type": "stream",
     "text": [
      "c:\\Users\\rudra\\AppData\\Local\\Programs\\Python\\Python311\\Lib\\site-packages\\osmnx\\features.py:690: FutureWarning: In a future version, `df.iloc[:, i] = newvals` will attempt to set the values inplace instead of always setting a new array. To retain the old behavior, use either `df[df.columns[i]] = newvals` or, if columns are non-unique, `df.isetitem(i, newvals)`\n",
      "  gdf.loc[:, \"geometry\"] = gdf[\"geometry\"].make_valid()\n"
     ]
    },
    {
     "name": "stdout",
     "output_type": "stream",
     "text": [
      "Error fetching amenities for ID 210003013331330: No matching features. Check query location, tags, and log.\n",
      "Error fetching amenities for ID 210003302000001: No matching features. Check query location, tags, and log.\n"
     ]
    },
    {
     "name": "stderr",
     "output_type": "stream",
     "text": [
      "c:\\Users\\rudra\\AppData\\Local\\Programs\\Python\\Python311\\Lib\\site-packages\\osmnx\\features.py:690: FutureWarning: In a future version, `df.iloc[:, i] = newvals` will attempt to set the values inplace instead of always setting a new array. To retain the old behavior, use either `df[df.columns[i]] = newvals` or, if columns are non-unique, `df.isetitem(i, newvals)`\n",
      "  gdf.loc[:, \"geometry\"] = gdf[\"geometry\"].make_valid()\n"
     ]
    },
    {
     "name": "stdout",
     "output_type": "stream",
     "text": [
      "Error fetching amenities for ID 1033310130102012: No matching features. Check query location, tags, and log.\n",
      "Error fetching amenities for ID 210010000201323: No matching features. Check query location, tags, and log.\n"
     ]
    },
    {
     "name": "stderr",
     "output_type": "stream",
     "text": [
      "c:\\Users\\rudra\\AppData\\Local\\Programs\\Python\\Python311\\Lib\\site-packages\\osmnx\\features.py:690: FutureWarning: In a future version, `df.iloc[:, i] = newvals` will attempt to set the values inplace instead of always setting a new array. To retain the old behavior, use either `df[df.columns[i]] = newvals` or, if columns are non-unique, `df.isetitem(i, newvals)`\n",
      "  gdf.loc[:, \"geometry\"] = gdf[\"geometry\"].make_valid()\n",
      "c:\\Users\\rudra\\AppData\\Local\\Programs\\Python\\Python311\\Lib\\site-packages\\osmnx\\features.py:690: FutureWarning: In a future version, `df.iloc[:, i] = newvals` will attempt to set the values inplace instead of always setting a new array. To retain the old behavior, use either `df[df.columns[i]] = newvals` or, if columns are non-unique, `df.isetitem(i, newvals)`\n",
      "  gdf.loc[:, \"geometry\"] = gdf[\"geometry\"].make_valid()\n",
      "c:\\Users\\rudra\\AppData\\Local\\Programs\\Python\\Python311\\Lib\\site-packages\\osmnx\\features.py:690: FutureWarning: In a future version, `df.iloc[:, i] = newvals` will attempt to set the values inplace instead of always setting a new array. To retain the old behavior, use either `df[df.columns[i]] = newvals` or, if columns are non-unique, `df.isetitem(i, newvals)`\n",
      "  gdf.loc[:, \"geometry\"] = gdf[\"geometry\"].make_valid()\n"
     ]
    },
    {
     "name": "stdout",
     "output_type": "stream",
     "text": [
      "Error fetching amenities for ID 1101211302321330: No matching features. Check query location, tags, and log.\n",
      "Error fetching amenities for ID 1033322232022300: No matching features. Check query location, tags, and log.\n",
      "Error fetching amenities for ID 1033303130233300: No matching features. Check query location, tags, and log.\n",
      "Error fetching amenities for ID 1033322312231313: No matching features. Check query location, tags, and log.\n",
      "Error fetching amenities for ID 1033303303313320: No matching features. Check query location, tags, and log.\n"
     ]
    },
    {
     "name": "stderr",
     "output_type": "stream",
     "text": [
      "c:\\Users\\rudra\\AppData\\Local\\Programs\\Python\\Python311\\Lib\\site-packages\\osmnx\\features.py:690: FutureWarning: In a future version, `df.iloc[:, i] = newvals` will attempt to set the values inplace instead of always setting a new array. To retain the old behavior, use either `df[df.columns[i]] = newvals` or, if columns are non-unique, `df.isetitem(i, newvals)`\n",
      "  gdf.loc[:, \"geometry\"] = gdf[\"geometry\"].make_valid()\n"
     ]
    },
    {
     "name": "stdout",
     "output_type": "stream",
     "text": [
      "Error fetching amenities for ID 1033303001323322: No matching features. Check query location, tags, and log.\n",
      "Error fetching amenities for ID 1033321030331203: No matching features. Check query location, tags, and log.\n",
      "Error fetching amenities for ID 1033323202211230: No matching features. Check query location, tags, and log.\n",
      "Error fetching amenities for ID 1033303131022031: No matching features. Check query location, tags, and log.\n",
      "Error fetching amenities for ID 1101202132302222: No matching features. Check query location, tags, and log.\n",
      "Error fetching amenities for ID 210003313012000: No matching features. Check query location, tags, and log.\n"
     ]
    },
    {
     "name": "stderr",
     "output_type": "stream",
     "text": [
      "c:\\Users\\rudra\\AppData\\Local\\Programs\\Python\\Python311\\Lib\\site-packages\\osmnx\\features.py:690: FutureWarning: In a future version, `df.iloc[:, i] = newvals` will attempt to set the values inplace instead of always setting a new array. To retain the old behavior, use either `df[df.columns[i]] = newvals` or, if columns are non-unique, `df.isetitem(i, newvals)`\n",
      "  gdf.loc[:, \"geometry\"] = gdf[\"geometry\"].make_valid()\n"
     ]
    },
    {
     "name": "stdout",
     "output_type": "stream",
     "text": [
      "Error fetching amenities for ID 210003020311130: No matching features. Check query location, tags, and log.\n",
      "Error fetching amenities for ID 1033303131310012: No matching features. Check query location, tags, and log.\n",
      "Error fetching amenities for ID 1033331201111220: No matching features. Check query location, tags, and log.\n",
      "Error fetching amenities for ID 1033310130213012: No matching features. Check query location, tags, and log.\n",
      "Error fetching amenities for ID 1033303332020020: No matching features. Check query location, tags, and log.\n",
      "Error fetching amenities for ID 1033331022312112: No matching features. Check query location, tags, and log.\n",
      "Error fetching amenities for ID 1033331022002112: No matching features. Check query location, tags, and log.\n",
      "Error fetching amenities for ID 1033303100030010: No matching features. Check query location, tags, and log.\n",
      "Error fetching amenities for ID 1033303221300203: No matching features. Check query location, tags, and log.\n"
     ]
    },
    {
     "name": "stderr",
     "output_type": "stream",
     "text": [
      "c:\\Users\\rudra\\AppData\\Local\\Programs\\Python\\Python311\\Lib\\site-packages\\osmnx\\features.py:690: FutureWarning: In a future version, `df.iloc[:, i] = newvals` will attempt to set the values inplace instead of always setting a new array. To retain the old behavior, use either `df[df.columns[i]] = newvals` or, if columns are non-unique, `df.isetitem(i, newvals)`\n",
      "  gdf.loc[:, \"geometry\"] = gdf[\"geometry\"].make_valid()\n"
     ]
    },
    {
     "name": "stdout",
     "output_type": "stream",
     "text": [
      "Error fetching amenities for ID 1033323032033203: No matching features. Check query location, tags, and log.\n",
      "Error fetching amenities for ID 1033322312333132: No matching features. Check query location, tags, and log.\n",
      "Error fetching amenities for ID 1033302311033111: No matching features. Check query location, tags, and log.\n",
      "Error fetching amenities for ID 1101202021321232: No matching features. Check query location, tags, and log.\n",
      "Error fetching amenities for ID 1033323031232321: No matching features. Check query location, tags, and log.\n",
      "Error fetching amenities for ID 1033303112121322: No matching features. Check query location, tags, and log.\n",
      "Error fetching amenities for ID 1033312313021033: No matching features. Check query location, tags, and log.\n",
      "Error fetching amenities for ID 1033323202032023: No matching features. Check query location, tags, and log.\n",
      "Error fetching amenities for ID 1033331002013300: No matching features. Check query location, tags, and log.\n",
      "Error fetching amenities for ID 1033322313031220: No matching features. Check query location, tags, and log.\n",
      "Error fetching amenities for ID 210003330201111: No matching features. Check query location, tags, and log.\n",
      "Error fetching amenities for ID 1033303131302322: No matching features. Check query location, tags, and log.\n"
     ]
    },
    {
     "name": "stderr",
     "output_type": "stream",
     "text": [
      "c:\\Users\\rudra\\AppData\\Local\\Programs\\Python\\Python311\\Lib\\site-packages\\osmnx\\features.py:690: FutureWarning: In a future version, `df.iloc[:, i] = newvals` will attempt to set the values inplace instead of always setting a new array. To retain the old behavior, use either `df[df.columns[i]] = newvals` or, if columns are non-unique, `df.isetitem(i, newvals)`\n",
      "  gdf.loc[:, \"geometry\"] = gdf[\"geometry\"].make_valid()\n"
     ]
    },
    {
     "name": "stdout",
     "output_type": "stream",
     "text": [
      "Error fetching amenities for ID 1033322231212323: No matching features. Check query location, tags, and log.\n",
      "Error fetching amenities for ID 1033310120023320: No matching features. Check query location, tags, and log.\n"
     ]
    },
    {
     "name": "stderr",
     "output_type": "stream",
     "text": [
      "c:\\Users\\rudra\\AppData\\Local\\Programs\\Python\\Python311\\Lib\\site-packages\\osmnx\\features.py:690: FutureWarning: In a future version, `df.iloc[:, i] = newvals` will attempt to set the values inplace instead of always setting a new array. To retain the old behavior, use either `df[df.columns[i]] = newvals` or, if columns are non-unique, `df.isetitem(i, newvals)`\n",
      "  gdf.loc[:, \"geometry\"] = gdf[\"geometry\"].make_valid()\n",
      "c:\\Users\\rudra\\AppData\\Local\\Programs\\Python\\Python311\\Lib\\site-packages\\osmnx\\features.py:690: FutureWarning: In a future version, `df.iloc[:, i] = newvals` will attempt to set the values inplace instead of always setting a new array. To retain the old behavior, use either `df[df.columns[i]] = newvals` or, if columns are non-unique, `df.isetitem(i, newvals)`\n",
      "  gdf.loc[:, \"geometry\"] = gdf[\"geometry\"].make_valid()\n"
     ]
    },
    {
     "name": "stdout",
     "output_type": "stream",
     "text": [
      "Error fetching amenities for ID 1033331022001232: No matching features. Check query location, tags, and log.\n",
      "Error fetching amenities for ID 1033303230322202: No matching features. Check query location, tags, and log.\n",
      "Error fetching amenities for ID 210003330013011: No matching features. Check query location, tags, and log.\n"
     ]
    },
    {
     "name": "stderr",
     "output_type": "stream",
     "text": [
      "c:\\Users\\rudra\\AppData\\Local\\Programs\\Python\\Python311\\Lib\\site-packages\\osmnx\\features.py:690: FutureWarning: In a future version, `df.iloc[:, i] = newvals` will attempt to set the values inplace instead of always setting a new array. To retain the old behavior, use either `df[df.columns[i]] = newvals` or, if columns are non-unique, `df.isetitem(i, newvals)`\n",
      "  gdf.loc[:, \"geometry\"] = gdf[\"geometry\"].make_valid()\n"
     ]
    },
    {
     "name": "stdout",
     "output_type": "stream",
     "text": [
      "Error fetching amenities for ID 1033310130223310: No matching features. Check query location, tags, and log.\n"
     ]
    },
    {
     "name": "stderr",
     "output_type": "stream",
     "text": [
      "c:\\Users\\rudra\\AppData\\Local\\Programs\\Python\\Python311\\Lib\\site-packages\\osmnx\\features.py:690: FutureWarning: In a future version, `df.iloc[:, i] = newvals` will attempt to set the values inplace instead of always setting a new array. To retain the old behavior, use either `df[df.columns[i]] = newvals` or, if columns are non-unique, `df.isetitem(i, newvals)`\n",
      "  gdf.loc[:, \"geometry\"] = gdf[\"geometry\"].make_valid()\n"
     ]
    },
    {
     "name": "stdout",
     "output_type": "stream",
     "text": [
      "Error fetching amenities for ID 210003303323211: No matching features. Check query location, tags, and log.\n",
      "Error fetching amenities for ID 1033323021111101: No matching features. Check query location, tags, and log.\n"
     ]
    },
    {
     "name": "stderr",
     "output_type": "stream",
     "text": [
      "c:\\Users\\rudra\\AppData\\Local\\Programs\\Python\\Python311\\Lib\\site-packages\\osmnx\\features.py:690: FutureWarning: In a future version, `df.iloc[:, i] = newvals` will attempt to set the values inplace instead of always setting a new array. To retain the old behavior, use either `df[df.columns[i]] = newvals` or, if columns are non-unique, `df.isetitem(i, newvals)`\n",
      "  gdf.loc[:, \"geometry\"] = gdf[\"geometry\"].make_valid()\n"
     ]
    },
    {
     "name": "stdout",
     "output_type": "stream",
     "text": [
      "Error fetching amenities for ID 1033303331331110: No matching features. Check query location, tags, and log.\n",
      "Error fetching amenities for ID 1033303221220300: No matching features. Check query location, tags, and log.\n"
     ]
    },
    {
     "name": "stderr",
     "output_type": "stream",
     "text": [
      "c:\\Users\\rudra\\AppData\\Local\\Programs\\Python\\Python311\\Lib\\site-packages\\osmnx\\features.py:690: FutureWarning: In a future version, `df.iloc[:, i] = newvals` will attempt to set the values inplace instead of always setting a new array. To retain the old behavior, use either `df[df.columns[i]] = newvals` or, if columns are non-unique, `df.isetitem(i, newvals)`\n",
      "  gdf.loc[:, \"geometry\"] = gdf[\"geometry\"].make_valid()\n"
     ]
    },
    {
     "name": "stdout",
     "output_type": "stream",
     "text": [
      "Error fetching amenities for ID 1033331022200321: No matching features. Check query location, tags, and log.\n",
      "Error fetching amenities for ID 1033303001233110: No matching features. Check query location, tags, and log.\n",
      "Error fetching amenities for ID 1033323202122313: No matching features. Check query location, tags, and log.\n",
      "Error fetching amenities for ID 1033303132002203: No matching features. Check query location, tags, and log.\n",
      "Error fetching amenities for ID 1033321030322011: No matching features. Check query location, tags, and log.\n"
     ]
    },
    {
     "name": "stderr",
     "output_type": "stream",
     "text": [
      "c:\\Users\\rudra\\AppData\\Local\\Programs\\Python\\Python311\\Lib\\site-packages\\osmnx\\features.py:690: FutureWarning: In a future version, `df.iloc[:, i] = newvals` will attempt to set the values inplace instead of always setting a new array. To retain the old behavior, use either `df[df.columns[i]] = newvals` or, if columns are non-unique, `df.isetitem(i, newvals)`\n",
      "  gdf.loc[:, \"geometry\"] = gdf[\"geometry\"].make_valid()\n"
     ]
    },
    {
     "name": "stdout",
     "output_type": "stream",
     "text": [
      "Error fetching amenities for ID 1033312331230202: No matching features. Check query location, tags, and log.\n",
      "Error fetching amenities for ID 1033310130313300: No matching features. Check query location, tags, and log.\n",
      "Error fetching amenities for ID 1033303131032100: No matching features. Check query location, tags, and log.\n"
     ]
    },
    {
     "name": "stderr",
     "output_type": "stream",
     "text": [
      "c:\\Users\\rudra\\AppData\\Local\\Programs\\Python\\Python311\\Lib\\site-packages\\osmnx\\features.py:690: FutureWarning: In a future version, `df.iloc[:, i] = newvals` will attempt to set the values inplace instead of always setting a new array. To retain the old behavior, use either `df[df.columns[i]] = newvals` or, if columns are non-unique, `df.isetitem(i, newvals)`\n",
      "  gdf.loc[:, \"geometry\"] = gdf[\"geometry\"].make_valid()\n"
     ]
    },
    {
     "name": "stdout",
     "output_type": "stream",
     "text": [
      "Error fetching amenities for ID 1033331201123030: No matching features. Check query location, tags, and log.\n",
      "Error fetching amenities for ID 1033322232030330: No matching features. Check query location, tags, and log.\n",
      "Error fetching amenities for ID 1033310130210001: No matching features. Check query location, tags, and log.\n",
      "Error fetching amenities for ID 1033323223132331: No matching features. Check query location, tags, and log.\n",
      "Error fetching amenities for ID 1033332022321010: No matching features. Check query location, tags, and log.\n",
      "Error fetching amenities for ID 1033310130001000: No matching features. Check query location, tags, and log.\n",
      "Error fetching amenities for ID 210003230112202: No matching features. Check query location, tags, and log.\n"
     ]
    },
    {
     "name": "stderr",
     "output_type": "stream",
     "text": [
      "c:\\Users\\rudra\\AppData\\Local\\Programs\\Python\\Python311\\Lib\\site-packages\\osmnx\\features.py:690: FutureWarning: In a future version, `df.iloc[:, i] = newvals` will attempt to set the values inplace instead of always setting a new array. To retain the old behavior, use either `df[df.columns[i]] = newvals` or, if columns are non-unique, `df.isetitem(i, newvals)`\n",
      "  gdf.loc[:, \"geometry\"] = gdf[\"geometry\"].make_valid()\n",
      "c:\\Users\\rudra\\AppData\\Local\\Programs\\Python\\Python311\\Lib\\site-packages\\osmnx\\features.py:690: FutureWarning: In a future version, `df.iloc[:, i] = newvals` will attempt to set the values inplace instead of always setting a new array. To retain the old behavior, use either `df[df.columns[i]] = newvals` or, if columns are non-unique, `df.isetitem(i, newvals)`\n",
      "  gdf.loc[:, \"geometry\"] = gdf[\"geometry\"].make_valid()\n"
     ]
    },
    {
     "name": "stdout",
     "output_type": "stream",
     "text": [
      "Error fetching amenities for ID 1033323223232023: No matching features. Check query location, tags, and log.\n",
      "Error fetching amenities for ID 1033322313030000: No matching features. Check query location, tags, and log.\n"
     ]
    },
    {
     "name": "stderr",
     "output_type": "stream",
     "text": [
      "c:\\Users\\rudra\\AppData\\Local\\Programs\\Python\\Python311\\Lib\\site-packages\\osmnx\\features.py:690: FutureWarning: In a future version, `df.iloc[:, i] = newvals` will attempt to set the values inplace instead of always setting a new array. To retain the old behavior, use either `df[df.columns[i]] = newvals` or, if columns are non-unique, `df.isetitem(i, newvals)`\n",
      "  gdf.loc[:, \"geometry\"] = gdf[\"geometry\"].make_valid()\n",
      "c:\\Users\\rudra\\AppData\\Local\\Programs\\Python\\Python311\\Lib\\site-packages\\osmnx\\features.py:690: FutureWarning: In a future version, `df.iloc[:, i] = newvals` will attempt to set the values inplace instead of always setting a new array. To retain the old behavior, use either `df[df.columns[i]] = newvals` or, if columns are non-unique, `df.isetitem(i, newvals)`\n",
      "  gdf.loc[:, \"geometry\"] = gdf[\"geometry\"].make_valid()\n"
     ]
    },
    {
     "name": "stdout",
     "output_type": "stream",
     "text": [
      "Error fetching amenities for ID 210003331101012: No matching features. Check query location, tags, and log.\n",
      "Error fetching amenities for ID 1033321030302233: No matching features. Check query location, tags, and log.\n",
      "Error fetching amenities for ID 210003303112002: No matching features. Check query location, tags, and log.\n",
      "Error fetching amenities for ID 1033303100012311: No matching features. Check query location, tags, and log.\n",
      "Error fetching amenities for ID 1033303230203003: No matching features. Check query location, tags, and log.\n",
      "Error fetching amenities for ID 1033303100031033: No matching features. Check query location, tags, and log.\n"
     ]
    },
    {
     "name": "stderr",
     "output_type": "stream",
     "text": [
      "c:\\Users\\rudra\\AppData\\Local\\Programs\\Python\\Python311\\Lib\\site-packages\\osmnx\\features.py:690: FutureWarning: In a future version, `df.iloc[:, i] = newvals` will attempt to set the values inplace instead of always setting a new array. To retain the old behavior, use either `df[df.columns[i]] = newvals` or, if columns are non-unique, `df.isetitem(i, newvals)`\n",
      "  gdf.loc[:, \"geometry\"] = gdf[\"geometry\"].make_valid()\n"
     ]
    },
    {
     "name": "stdout",
     "output_type": "stream",
     "text": [
      "Error fetching amenities for ID 210003332312310: No matching features. Check query location, tags, and log.\n"
     ]
    },
    {
     "name": "stderr",
     "output_type": "stream",
     "text": [
      "c:\\Users\\rudra\\AppData\\Local\\Programs\\Python\\Python311\\Lib\\site-packages\\osmnx\\features.py:690: FutureWarning: In a future version, `df.iloc[:, i] = newvals` will attempt to set the values inplace instead of always setting a new array. To retain the old behavior, use either `df[df.columns[i]] = newvals` or, if columns are non-unique, `df.isetitem(i, newvals)`\n",
      "  gdf.loc[:, \"geometry\"] = gdf[\"geometry\"].make_valid()\n",
      "c:\\Users\\rudra\\AppData\\Local\\Programs\\Python\\Python311\\Lib\\site-packages\\osmnx\\features.py:690: FutureWarning: In a future version, `df.iloc[:, i] = newvals` will attempt to set the values inplace instead of always setting a new array. To retain the old behavior, use either `df[df.columns[i]] = newvals` or, if columns are non-unique, `df.isetitem(i, newvals)`\n",
      "  gdf.loc[:, \"geometry\"] = gdf[\"geometry\"].make_valid()\n"
     ]
    },
    {
     "name": "stdout",
     "output_type": "stream",
     "text": [
      "Error fetching amenities for ID 1033323223121111: No matching features. Check query location, tags, and log.\n"
     ]
    },
    {
     "name": "stderr",
     "output_type": "stream",
     "text": [
      "c:\\Users\\rudra\\AppData\\Local\\Programs\\Python\\Python311\\Lib\\site-packages\\osmnx\\features.py:690: FutureWarning: In a future version, `df.iloc[:, i] = newvals` will attempt to set the values inplace instead of always setting a new array. To retain the old behavior, use either `df[df.columns[i]] = newvals` or, if columns are non-unique, `df.isetitem(i, newvals)`\n",
      "  gdf.loc[:, \"geometry\"] = gdf[\"geometry\"].make_valid()\n"
     ]
    },
    {
     "name": "stdout",
     "output_type": "stream",
     "text": [
      "Error fetching amenities for ID 1101211003030100: No matching features. Check query location, tags, and log.\n",
      "Error fetching amenities for ID 1033323030310010: No matching features. Check query location, tags, and log.\n"
     ]
    },
    {
     "name": "stderr",
     "output_type": "stream",
     "text": [
      "c:\\Users\\rudra\\AppData\\Local\\Programs\\Python\\Python311\\Lib\\site-packages\\osmnx\\features.py:690: FutureWarning: In a future version, `df.iloc[:, i] = newvals` will attempt to set the values inplace instead of always setting a new array. To retain the old behavior, use either `df[df.columns[i]] = newvals` or, if columns are non-unique, `df.isetitem(i, newvals)`\n",
      "  gdf.loc[:, \"geometry\"] = gdf[\"geometry\"].make_valid()\n",
      "c:\\Users\\rudra\\AppData\\Local\\Programs\\Python\\Python311\\Lib\\site-packages\\osmnx\\features.py:690: FutureWarning: In a future version, `df.iloc[:, i] = newvals` will attempt to set the values inplace instead of always setting a new array. To retain the old behavior, use either `df[df.columns[i]] = newvals` or, if columns are non-unique, `df.isetitem(i, newvals)`\n",
      "  gdf.loc[:, \"geometry\"] = gdf[\"geometry\"].make_valid()\n",
      "c:\\Users\\rudra\\AppData\\Local\\Programs\\Python\\Python311\\Lib\\site-packages\\osmnx\\features.py:690: FutureWarning: In a future version, `df.iloc[:, i] = newvals` will attempt to set the values inplace instead of always setting a new array. To retain the old behavior, use either `df[df.columns[i]] = newvals` or, if columns are non-unique, `df.isetitem(i, newvals)`\n",
      "  gdf.loc[:, \"geometry\"] = gdf[\"geometry\"].make_valid()\n",
      "c:\\Users\\rudra\\AppData\\Local\\Programs\\Python\\Python311\\Lib\\site-packages\\osmnx\\features.py:690: FutureWarning: In a future version, `df.iloc[:, i] = newvals` will attempt to set the values inplace instead of always setting a new array. To retain the old behavior, use either `df[df.columns[i]] = newvals` or, if columns are non-unique, `df.isetitem(i, newvals)`\n",
      "  gdf.loc[:, \"geometry\"] = gdf[\"geometry\"].make_valid()\n",
      "c:\\Users\\rudra\\AppData\\Local\\Programs\\Python\\Python311\\Lib\\site-packages\\osmnx\\features.py:690: FutureWarning: In a future version, `df.iloc[:, i] = newvals` will attempt to set the values inplace instead of always setting a new array. To retain the old behavior, use either `df[df.columns[i]] = newvals` or, if columns are non-unique, `df.isetitem(i, newvals)`\n",
      "  gdf.loc[:, \"geometry\"] = gdf[\"geometry\"].make_valid()\n"
     ]
    },
    {
     "name": "stdout",
     "output_type": "stream",
     "text": [
      "Error fetching amenities for ID 1033323223003100: No matching features. Check query location, tags, and log.\n",
      "Error fetching amenities for ID 1033303000130232: No matching features. Check query location, tags, and log.\n",
      "Error fetching amenities for ID 210003220222212: No matching features. Check query location, tags, and log.\n"
     ]
    },
    {
     "name": "stderr",
     "output_type": "stream",
     "text": [
      "c:\\Users\\rudra\\AppData\\Local\\Programs\\Python\\Python311\\Lib\\site-packages\\osmnx\\features.py:690: FutureWarning: In a future version, `df.iloc[:, i] = newvals` will attempt to set the values inplace instead of always setting a new array. To retain the old behavior, use either `df[df.columns[i]] = newvals` or, if columns are non-unique, `df.isetitem(i, newvals)`\n",
      "  gdf.loc[:, \"geometry\"] = gdf[\"geometry\"].make_valid()\n",
      "c:\\Users\\rudra\\AppData\\Local\\Programs\\Python\\Python311\\Lib\\site-packages\\osmnx\\features.py:690: FutureWarning: In a future version, `df.iloc[:, i] = newvals` will attempt to set the values inplace instead of always setting a new array. To retain the old behavior, use either `df[df.columns[i]] = newvals` or, if columns are non-unique, `df.isetitem(i, newvals)`\n",
      "  gdf.loc[:, \"geometry\"] = gdf[\"geometry\"].make_valid()\n"
     ]
    },
    {
     "name": "stdout",
     "output_type": "stream",
     "text": [
      "Error fetching amenities for ID 1033312221001103: No matching features. Check query location, tags, and log.\n",
      "Error fetching amenities for ID 1033303131003021: No matching features. Check query location, tags, and log.\n",
      "Error fetching amenities for ID 1101203010301120: No matching features. Check query location, tags, and log.\n",
      "Error fetching amenities for ID 1033310130033333: No matching features. Check query location, tags, and log.\n",
      "Error fetching amenities for ID 1033303303300020: No matching features. Check query location, tags, and log.\n"
     ]
    },
    {
     "name": "stderr",
     "output_type": "stream",
     "text": [
      "c:\\Users\\rudra\\AppData\\Local\\Programs\\Python\\Python311\\Lib\\site-packages\\osmnx\\features.py:690: FutureWarning: In a future version, `df.iloc[:, i] = newvals` will attempt to set the values inplace instead of always setting a new array. To retain the old behavior, use either `df[df.columns[i]] = newvals` or, if columns are non-unique, `df.isetitem(i, newvals)`\n",
      "  gdf.loc[:, \"geometry\"] = gdf[\"geometry\"].make_valid()\n",
      "c:\\Users\\rudra\\AppData\\Local\\Programs\\Python\\Python311\\Lib\\site-packages\\osmnx\\features.py:690: FutureWarning: In a future version, `df.iloc[:, i] = newvals` will attempt to set the values inplace instead of always setting a new array. To retain the old behavior, use either `df[df.columns[i]] = newvals` or, if columns are non-unique, `df.isetitem(i, newvals)`\n",
      "  gdf.loc[:, \"geometry\"] = gdf[\"geometry\"].make_valid()\n"
     ]
    },
    {
     "name": "stdout",
     "output_type": "stream",
     "text": [
      "Error fetching amenities for ID 1033302311321313: No matching features. Check query location, tags, and log.\n"
     ]
    },
    {
     "name": "stderr",
     "output_type": "stream",
     "text": [
      "c:\\Users\\rudra\\AppData\\Local\\Programs\\Python\\Python311\\Lib\\site-packages\\osmnx\\features.py:690: FutureWarning: In a future version, `df.iloc[:, i] = newvals` will attempt to set the values inplace instead of always setting a new array. To retain the old behavior, use either `df[df.columns[i]] = newvals` or, if columns are non-unique, `df.isetitem(i, newvals)`\n",
      "  gdf.loc[:, \"geometry\"] = gdf[\"geometry\"].make_valid()\n"
     ]
    },
    {
     "name": "stdout",
     "output_type": "stream",
     "text": [
      "Error fetching amenities for ID 1033322231110301: No matching features. Check query location, tags, and log.\n",
      "Error fetching amenities for ID 1033331212110011: No matching features. Check query location, tags, and log.\n",
      "Error fetching amenities for ID 1033303131101020: No matching features. Check query location, tags, and log.\n",
      "Error fetching amenities for ID 1033312220322021: No matching features. Check query location, tags, and log.\n",
      "Error fetching amenities for ID 1033310130021120: No matching features. Check query location, tags, and log.\n",
      "Error fetching amenities for ID 1033303131000031: No matching features. Check query location, tags, and log.\n",
      "Error fetching amenities for ID 1033310120002000: No matching features. Check query location, tags, and log.\n"
     ]
    },
    {
     "name": "stderr",
     "output_type": "stream",
     "text": [
      "c:\\Users\\rudra\\AppData\\Local\\Programs\\Python\\Python311\\Lib\\site-packages\\osmnx\\features.py:690: FutureWarning: In a future version, `df.iloc[:, i] = newvals` will attempt to set the values inplace instead of always setting a new array. To retain the old behavior, use either `df[df.columns[i]] = newvals` or, if columns are non-unique, `df.isetitem(i, newvals)`\n",
      "  gdf.loc[:, \"geometry\"] = gdf[\"geometry\"].make_valid()\n"
     ]
    },
    {
     "name": "stdout",
     "output_type": "stream",
     "text": [
      "Error fetching amenities for ID 1033310113313022: No matching features. Check query location, tags, and log.\n",
      "Error fetching amenities for ID 1033322231121000: No matching features. Check query location, tags, and log.\n"
     ]
    },
    {
     "name": "stderr",
     "output_type": "stream",
     "text": [
      "c:\\Users\\rudra\\AppData\\Local\\Programs\\Python\\Python311\\Lib\\site-packages\\osmnx\\features.py:690: FutureWarning: In a future version, `df.iloc[:, i] = newvals` will attempt to set the values inplace instead of always setting a new array. To retain the old behavior, use either `df[df.columns[i]] = newvals` or, if columns are non-unique, `df.isetitem(i, newvals)`\n",
      "  gdf.loc[:, \"geometry\"] = gdf[\"geometry\"].make_valid()\n"
     ]
    },
    {
     "name": "stdout",
     "output_type": "stream",
     "text": [
      "Error fetching amenities for ID 1033310130313110: No matching features. Check query location, tags, and log.\n",
      "Error fetching amenities for ID 210003233223110: No matching features. Check query location, tags, and log.\n",
      "Error fetching amenities for ID 1033312332100010: No matching features. Check query location, tags, and log.\n",
      "Error fetching amenities for ID 1033303131321031: No matching features. Check query location, tags, and log.\n",
      "Error fetching amenities for ID 1033320221223110: No matching features. Check query location, tags, and log.\n"
     ]
    },
    {
     "name": "stderr",
     "output_type": "stream",
     "text": [
      "c:\\Users\\rudra\\AppData\\Local\\Programs\\Python\\Python311\\Lib\\site-packages\\osmnx\\features.py:690: FutureWarning: In a future version, `df.iloc[:, i] = newvals` will attempt to set the values inplace instead of always setting a new array. To retain the old behavior, use either `df[df.columns[i]] = newvals` or, if columns are non-unique, `df.isetitem(i, newvals)`\n",
      "  gdf.loc[:, \"geometry\"] = gdf[\"geometry\"].make_valid()\n"
     ]
    },
    {
     "name": "stdout",
     "output_type": "stream",
     "text": [
      "Error fetching amenities for ID 1033331200120331: No matching features. Check query location, tags, and log.\n",
      "Error fetching amenities for ID 210003230010200: No matching features. Check query location, tags, and log.\n",
      "Error fetching amenities for ID 1033323020322003: No matching features. Check query location, tags, and log.\n",
      "Error fetching amenities for ID 1033310130120200: No matching features. Check query location, tags, and log.\n"
     ]
    },
    {
     "name": "stderr",
     "output_type": "stream",
     "text": [
      "c:\\Users\\rudra\\AppData\\Local\\Programs\\Python\\Python311\\Lib\\site-packages\\osmnx\\features.py:690: FutureWarning: In a future version, `df.iloc[:, i] = newvals` will attempt to set the values inplace instead of always setting a new array. To retain the old behavior, use either `df[df.columns[i]] = newvals` or, if columns are non-unique, `df.isetitem(i, newvals)`\n",
      "  gdf.loc[:, \"geometry\"] = gdf[\"geometry\"].make_valid()\n"
     ]
    },
    {
     "name": "stdout",
     "output_type": "stream",
     "text": [
      "Error fetching amenities for ID 1033303100031021: No matching features. Check query location, tags, and log.\n"
     ]
    },
    {
     "name": "stderr",
     "output_type": "stream",
     "text": [
      "c:\\Users\\rudra\\AppData\\Local\\Programs\\Python\\Python311\\Lib\\site-packages\\osmnx\\features.py:690: FutureWarning: In a future version, `df.iloc[:, i] = newvals` will attempt to set the values inplace instead of always setting a new array. To retain the old behavior, use either `df[df.columns[i]] = newvals` or, if columns are non-unique, `df.isetitem(i, newvals)`\n",
      "  gdf.loc[:, \"geometry\"] = gdf[\"geometry\"].make_valid()\n",
      "c:\\Users\\rudra\\AppData\\Local\\Programs\\Python\\Python311\\Lib\\site-packages\\osmnx\\features.py:690: FutureWarning: In a future version, `df.iloc[:, i] = newvals` will attempt to set the values inplace instead of always setting a new array. To retain the old behavior, use either `df[df.columns[i]] = newvals` or, if columns are non-unique, `df.isetitem(i, newvals)`\n",
      "  gdf.loc[:, \"geometry\"] = gdf[\"geometry\"].make_valid()\n"
     ]
    },
    {
     "name": "stdout",
     "output_type": "stream",
     "text": [
      "Error fetching amenities for ID 210003303310032: No matching features. Check query location, tags, and log.\n"
     ]
    },
    {
     "name": "stderr",
     "output_type": "stream",
     "text": [
      "c:\\Users\\rudra\\AppData\\Local\\Programs\\Python\\Python311\\Lib\\site-packages\\osmnx\\features.py:690: FutureWarning: In a future version, `df.iloc[:, i] = newvals` will attempt to set the values inplace instead of always setting a new array. To retain the old behavior, use either `df[df.columns[i]] = newvals` or, if columns are non-unique, `df.isetitem(i, newvals)`\n",
      "  gdf.loc[:, \"geometry\"] = gdf[\"geometry\"].make_valid()\n",
      "c:\\Users\\rudra\\AppData\\Local\\Programs\\Python\\Python311\\Lib\\site-packages\\osmnx\\features.py:690: FutureWarning: In a future version, `df.iloc[:, i] = newvals` will attempt to set the values inplace instead of always setting a new array. To retain the old behavior, use either `df[df.columns[i]] = newvals` or, if columns are non-unique, `df.isetitem(i, newvals)`\n",
      "  gdf.loc[:, \"geometry\"] = gdf[\"geometry\"].make_valid()\n"
     ]
    },
    {
     "name": "stdout",
     "output_type": "stream",
     "text": [
      "Error fetching amenities for ID 1033322112001111: No matching features. Check query location, tags, and log.\n",
      "Error fetching amenities for ID 1033310130200233: No matching features. Check query location, tags, and log.\n"
     ]
    },
    {
     "name": "stderr",
     "output_type": "stream",
     "text": [
      "c:\\Users\\rudra\\AppData\\Local\\Programs\\Python\\Python311\\Lib\\site-packages\\osmnx\\features.py:690: FutureWarning: In a future version, `df.iloc[:, i] = newvals` will attempt to set the values inplace instead of always setting a new array. To retain the old behavior, use either `df[df.columns[i]] = newvals` or, if columns are non-unique, `df.isetitem(i, newvals)`\n",
      "  gdf.loc[:, \"geometry\"] = gdf[\"geometry\"].make_valid()\n"
     ]
    },
    {
     "name": "stdout",
     "output_type": "stream",
     "text": [
      "Error fetching amenities for ID 1033323021111100: No matching features. Check query location, tags, and log.\n",
      "Error fetching amenities for ID 210003302033300: No matching features. Check query location, tags, and log.\n",
      "Error fetching amenities for ID 1033303131101030: No matching features. Check query location, tags, and log.\n"
     ]
    },
    {
     "name": "stderr",
     "output_type": "stream",
     "text": [
      "c:\\Users\\rudra\\AppData\\Local\\Programs\\Python\\Python311\\Lib\\site-packages\\osmnx\\features.py:690: FutureWarning: In a future version, `df.iloc[:, i] = newvals` will attempt to set the values inplace instead of always setting a new array. To retain the old behavior, use either `df[df.columns[i]] = newvals` or, if columns are non-unique, `df.isetitem(i, newvals)`\n",
      "  gdf.loc[:, \"geometry\"] = gdf[\"geometry\"].make_valid()\n"
     ]
    },
    {
     "name": "stdout",
     "output_type": "stream",
     "text": [
      "Error fetching amenities for ID 1033331001112333: No matching features. Check query location, tags, and log.\n",
      "Error fetching amenities for ID 210003303002231: No matching features. Check query location, tags, and log.\n",
      "Error fetching amenities for ID 1033303131121300: No matching features. Check query location, tags, and log.\n"
     ]
    },
    {
     "name": "stderr",
     "output_type": "stream",
     "text": [
      "c:\\Users\\rudra\\AppData\\Local\\Programs\\Python\\Python311\\Lib\\site-packages\\osmnx\\features.py:690: FutureWarning: In a future version, `df.iloc[:, i] = newvals` will attempt to set the values inplace instead of always setting a new array. To retain the old behavior, use either `df[df.columns[i]] = newvals` or, if columns are non-unique, `df.isetitem(i, newvals)`\n",
      "  gdf.loc[:, \"geometry\"] = gdf[\"geometry\"].make_valid()\n"
     ]
    },
    {
     "name": "stdout",
     "output_type": "stream",
     "text": [
      "Error fetching amenities for ID 1033331201102210: No matching features. Check query location, tags, and log.\n"
     ]
    },
    {
     "name": "stderr",
     "output_type": "stream",
     "text": [
      "c:\\Users\\rudra\\AppData\\Local\\Programs\\Python\\Python311\\Lib\\site-packages\\osmnx\\features.py:690: FutureWarning: In a future version, `df.iloc[:, i] = newvals` will attempt to set the values inplace instead of always setting a new array. To retain the old behavior, use either `df[df.columns[i]] = newvals` or, if columns are non-unique, `df.isetitem(i, newvals)`\n",
      "  gdf.loc[:, \"geometry\"] = gdf[\"geometry\"].make_valid()\n"
     ]
    },
    {
     "name": "stdout",
     "output_type": "stream",
     "text": [
      "Error fetching amenities for ID 1033323223210321: No matching features. Check query location, tags, and log.\n",
      "Error fetching amenities for ID 1033312231202212: No matching features. Check query location, tags, and log.\n"
     ]
    },
    {
     "name": "stderr",
     "output_type": "stream",
     "text": [
      "c:\\Users\\rudra\\AppData\\Local\\Programs\\Python\\Python311\\Lib\\site-packages\\osmnx\\features.py:690: FutureWarning: In a future version, `df.iloc[:, i] = newvals` will attempt to set the values inplace instead of always setting a new array. To retain the old behavior, use either `df[df.columns[i]] = newvals` or, if columns are non-unique, `df.isetitem(i, newvals)`\n",
      "  gdf.loc[:, \"geometry\"] = gdf[\"geometry\"].make_valid()\n",
      "c:\\Users\\rudra\\AppData\\Local\\Programs\\Python\\Python311\\Lib\\site-packages\\osmnx\\features.py:690: FutureWarning: In a future version, `df.iloc[:, i] = newvals` will attempt to set the values inplace instead of always setting a new array. To retain the old behavior, use either `df[df.columns[i]] = newvals` or, if columns are non-unique, `df.isetitem(i, newvals)`\n",
      "  gdf.loc[:, \"geometry\"] = gdf[\"geometry\"].make_valid()\n"
     ]
    },
    {
     "name": "stdout",
     "output_type": "stream",
     "text": [
      "Error fetching amenities for ID 1033323032021121: No matching features. Check query location, tags, and log.\n",
      "Error fetching amenities for ID 1101123003022331: No matching features. Check query location, tags, and log.\n",
      "                   ID   Latitude  Longitude                        Amenities\n",
      "0    1033303131031131  40.761386 -73.968083                      [fast_food]\n",
      "1    1033310130003330  40.777104 -73.963860                   [waste_basket]\n",
      "2    1033303222012112  40.763575 -73.977703                      [fast_food]\n",
      "3     210002012111211  40.709206 -74.017376  [bicycle_parking, waste_basket]\n",
      "4    1101202230002123  40.736916 -74.001339                   [waste_basket]\n",
      "..                ...        ...        ...                              ...\n",
      "159  1033303100003211  40.766958 -73.982714     [bicycle_parking, fast_food]\n",
      "160  1033312220332010  40.746594 -73.982245                [bicycle_parking]\n",
      "161   210003303023110  40.761672 -73.976693                [bicycle_parking]\n",
      "162   210003301111123  40.758504 -73.970898     [bicycle_parking, fast_food]\n",
      "163  1101202312120133  40.707779 -74.007839        [waste_basket, fast_food]\n",
      "\n",
      "[164 rows x 4 columns]\n"
     ]
    }
   ],
   "source": [
    "radius = 30\n",
    "tags = {'amenity': ['post_box', 'bicycle_parking', 'bench', 'fast_food', 'waste_basket']}\n",
    "results = []\n",
    "\n",
    "for id, lat, lon in zip(df['bubbleId'], df['lat'], df['lon']):\n",
    "    try:\n",
    "        # Fetch amenities near the point\n",
    "        location_point = (lat, lon)\n",
    "        gdf = ox.features_from_point(location_point, tags, dist=radius)\n",
    "        \n",
    "        # Group amenities by ID, lat, lon\n",
    "        amenities_list = []\n",
    "        for idx, row in gdf.iterrows():\n",
    "            amenities_list.append(row.get('amenity', 'Unknown'))\n",
    "        \n",
    "        # Append to results as a single entry per unique location\n",
    "        results.append({\n",
    "            'ID': id,\n",
    "            'Latitude': lat,\n",
    "            'Longitude': lon,\n",
    "            'Amenities': list(set(amenities_list))  # Ensure unique amenities in the list\n",
    "        })\n",
    "    except Exception as e:\n",
    "        print(f\"Error fetching amenities for ID {id}: {e}\")\n",
    "\n",
    "# Convert results to a DataFrame\n",
    "amenities_df = pd.DataFrame(results)\n",
    "\n",
    "# Display the DataFrame\n",
    "print(amenities_df)\n",
    "\n",
    "# Save to CSV\n",
    "# amenities_df.to_csv(\"unique_amenities_near_points.csv\", index=False)\n",
    "\n",
    "    "
   ]
  },
  {
   "cell_type": "code",
   "execution_count": null,
   "metadata": {},
   "outputs": [],
   "source": [
    "#amenities_df.to_csv(\"unique_amenities_near_points.csv\", index=False)"
   ]
  },
  {
   "cell_type": "code",
   "execution_count": null,
   "metadata": {},
   "outputs": [
    {
     "name": "stdout",
     "output_type": "stream",
     "text": [
      "\n",
      "image 1/1 e:\\Data5M\\NYC_500\\front\\103330313103113101_x2.jpg: 640x640 3 persons, 2 cars, 1 truck, 1 backpack, 1 toilet, 32.6ms\n",
      "Speed: 5.0ms preprocess, 32.6ms inference, 5.5ms postprocess per image at shape (1, 3, 640, 640)\n",
      "\n",
      "image 1/1 e:\\Data5M\\NYC_500\\left\\103330313103113110_x2.jpg: 640x640 1 car, 29.1ms\n",
      "Speed: 5.0ms preprocess, 29.1ms inference, 3.0ms postprocess per image at shape (1, 3, 640, 640)\n",
      "\n",
      "image 1/1 e:\\Data5M\\NYC_500\\back\\103330313103113103_x2.jpg: 640x640 1 person, 6 cars, 19.0ms\n",
      "Speed: 7.5ms preprocess, 19.0ms inference, 2.0ms postprocess per image at shape (1, 3, 640, 640)\n",
      "\n",
      "image 1/1 e:\\Data5M\\NYC_500\\right\\103330313103113102_x2.jpg: 640x640 1 car, 1 truck, 21.5ms\n",
      "Speed: 6.5ms preprocess, 21.5ms inference, 3.5ms postprocess per image at shape (1, 3, 640, 640)\n",
      "\n",
      "image 1/1 e:\\Data5M\\NYC_500\\front\\103331013000333001_x2.jpg: 640x640 1 car, 1 toilet, 24.6ms\n",
      "Speed: 4.0ms preprocess, 24.6ms inference, 4.0ms postprocess per image at shape (1, 3, 640, 640)\n",
      "\n",
      "image 1/1 e:\\Data5M\\NYC_500\\left\\103331013000333010_x2.jpg: 640x640 2 buss, 21.0ms\n",
      "Speed: 6.1ms preprocess, 21.0ms inference, 2.0ms postprocess per image at shape (1, 3, 640, 640)\n",
      "\n",
      "image 1/1 e:\\Data5M\\NYC_500\\back\\103331013000333003_x2.jpg: 640x640 4 cars, 1 bus, 1 truck, 1 traffic light, 21.7ms\n",
      "Speed: 5.5ms preprocess, 21.7ms inference, 2.0ms postprocess per image at shape (1, 3, 640, 640)\n",
      "\n",
      "image 1/1 e:\\Data5M\\NYC_500\\right\\103331013000333002_x2.jpg: 640x640 3 persons, 1 car, 1 bus, 1 traffic light, 25.0ms\n",
      "Speed: 6.5ms preprocess, 25.0ms inference, 2.0ms postprocess per image at shape (1, 3, 640, 640)\n",
      "\n",
      "image 1/1 e:\\Data5M\\NYC_500\\front\\103330322201211201_x2.jpg: 640x640 2 cars, 1 toilet, 23.6ms\n",
      "Speed: 5.0ms preprocess, 23.6ms inference, 2.0ms postprocess per image at shape (1, 3, 640, 640)\n",
      "\n",
      "image 1/1 e:\\Data5M\\NYC_500\\left\\103330322201211210_x2.jpg: 640x640 3 persons, 1 car, 53.2ms\n",
      "Speed: 5.5ms preprocess, 53.2ms inference, 25.6ms postprocess per image at shape (1, 3, 640, 640)\n",
      "\n",
      "image 1/1 e:\\Data5M\\NYC_500\\back\\103330322201211203_x2.jpg: 640x640 1 bicycle, 3 cars, 31.6ms\n",
      "Speed: 14.1ms preprocess, 31.6ms inference, 3.0ms postprocess per image at shape (1, 3, 640, 640)\n",
      "\n",
      "image 1/1 e:\\Data5M\\NYC_500\\right\\103330322201211202_x2.jpg: 640x640 4 persons, 1 bus, 1 traffic light, 28.6ms\n",
      "Speed: 7.5ms preprocess, 28.6ms inference, 3.0ms postprocess per image at shape (1, 3, 640, 640)\n",
      "\n",
      "image 1/1 e:\\Data5M\\NYC_500\\front\\110120223000212301_x2.jpg: 640x640 1 person, 3 cars, 1 truck, 1 toilet, 31.0ms\n",
      "Speed: 6.1ms preprocess, 31.0ms inference, 4.5ms postprocess per image at shape (1, 3, 640, 640)\n",
      "\n",
      "image 1/1 e:\\Data5M\\NYC_500\\left\\110120223000212310_x2.jpg: 640x640 1 person, 5 cars, 30.4ms\n",
      "Speed: 5.5ms preprocess, 30.4ms inference, 6.0ms postprocess per image at shape (1, 3, 640, 640)\n",
      "\n",
      "image 1/1 e:\\Data5M\\NYC_500\\back\\110120223000212303_x2.jpg: 640x640 5 cars, 1 frisbee, 26.6ms\n",
      "Speed: 5.4ms preprocess, 26.6ms inference, 3.5ms postprocess per image at shape (1, 3, 640, 640)\n",
      "\n",
      "image 1/1 e:\\Data5M\\NYC_500\\right\\110120223000212302_x2.jpg: 640x640 2 cars, 26.6ms\n",
      "Speed: 8.5ms preprocess, 26.6ms inference, 7.0ms postprocess per image at shape (1, 3, 640, 640)\n",
      "\n",
      "image 1/1 e:\\Data5M\\NYC_500\\front\\110120301023210001_x2.jpg: 640x640 2 persons, 1 car, 2 traffic lights, 1 fire hydrant, 23.5ms\n",
      "Speed: 6.0ms preprocess, 23.5ms inference, 4.0ms postprocess per image at shape (1, 3, 640, 640)\n",
      "\n",
      "image 1/1 e:\\Data5M\\NYC_500\\left\\110120301023210010_x2.jpg: 640x640 1 person, 3 cars, 26.6ms\n",
      "Speed: 5.0ms preprocess, 26.6ms inference, 5.0ms postprocess per image at shape (1, 3, 640, 640)\n",
      "\n",
      "image 1/1 e:\\Data5M\\NYC_500\\back\\110120301023210003_x2.jpg: 640x640 2 cars, 21.6ms\n",
      "Speed: 6.5ms preprocess, 21.6ms inference, 4.5ms postprocess per image at shape (1, 3, 640, 640)\n",
      "\n",
      "image 1/1 e:\\Data5M\\NYC_500\\right\\110120301023210002_x2.jpg: 640x640 1 car, 1 potted plant, 1 vase, 22.6ms\n",
      "Speed: 4.0ms preprocess, 22.6ms inference, 37.6ms postprocess per image at shape (1, 3, 640, 640)\n",
      "\n",
      "image 1/1 e:\\Data5M\\NYC_500\\front\\103330330331300201_x2.jpg: 640x640 1 person, 5 cars, 1 toilet, 71.2ms\n",
      "Speed: 8.0ms preprocess, 71.2ms inference, 5.5ms postprocess per image at shape (1, 3, 640, 640)\n",
      "\n",
      "image 1/1 e:\\Data5M\\NYC_500\\left\\103330330331300210_x2.jpg: 640x640 2 persons, 2 bicycles, 1 car, 1 truck, 23.8ms\n",
      "Speed: 4.5ms preprocess, 23.8ms inference, 2.0ms postprocess per image at shape (1, 3, 640, 640)\n",
      "\n",
      "image 1/1 e:\\Data5M\\NYC_500\\back\\103330330331300203_x2.jpg: 640x640 3 persons, 1 car, 1 motorcycle, 2 trucks, 1 frisbee, 1 potted plant, 24.6ms\n",
      "Speed: 6.0ms preprocess, 24.6ms inference, 4.5ms postprocess per image at shape (1, 3, 640, 640)\n",
      "\n",
      "image 1/1 e:\\Data5M\\NYC_500\\right\\103330330331300202_x2.jpg: 640x640 1 person, 2 cars, 24.6ms\n",
      "Speed: 5.0ms preprocess, 24.6ms inference, 3.0ms postprocess per image at shape (1, 3, 640, 640)\n",
      "\n",
      "image 1/1 e:\\Data5M\\NYC_500\\front\\103331013033000101_x2.jpg: 640x640 3 persons, 2 cars, 1 boat, 1 toilet, 44.5ms\n",
      "Speed: 5.1ms preprocess, 44.5ms inference, 11.5ms postprocess per image at shape (1, 3, 640, 640)\n",
      "\n",
      "image 1/1 e:\\Data5M\\NYC_500\\left\\103331013033000110_x2.jpg: 640x640 1 car, 1 potted plant, 24.0ms\n",
      "Speed: 5.0ms preprocess, 24.0ms inference, 2.5ms postprocess per image at shape (1, 3, 640, 640)\n",
      "\n",
      "image 1/1 e:\\Data5M\\NYC_500\\back\\103331013033000103_x2.jpg: 640x640 5 cars, 19.3ms\n",
      "Speed: 4.0ms preprocess, 19.3ms inference, 3.5ms postprocess per image at shape (1, 3, 640, 640)\n",
      "\n",
      "image 1/1 e:\\Data5M\\NYC_500\\right\\103331013033000102_x2.jpg: 640x640 1 car, 21.0ms\n",
      "Speed: 7.3ms preprocess, 21.0ms inference, 2.0ms postprocess per image at shape (1, 3, 640, 640)\n",
      "\n",
      "image 1/1 e:\\Data5M\\NYC_500\\front\\110120301033102301_x2.jpg: 640x640 3 cars, 1 motorcycle, 1 traffic light, 24.0ms\n",
      "Speed: 5.0ms preprocess, 24.0ms inference, 3.4ms postprocess per image at shape (1, 3, 640, 640)\n",
      "\n",
      "image 1/1 e:\\Data5M\\NYC_500\\left\\110120301033102310_x2.jpg: 640x640 1 person, 1 car, 3 traffic lights, 2 handbags, 22.1ms\n",
      "Speed: 7.5ms preprocess, 22.1ms inference, 3.0ms postprocess per image at shape (1, 3, 640, 640)\n",
      "\n",
      "image 1/1 e:\\Data5M\\NYC_500\\back\\110120301033102303_x2.jpg: 640x640 2 persons, 1 bicycle, 1 car, 23.1ms\n",
      "Speed: 5.0ms preprocess, 23.1ms inference, 2.5ms postprocess per image at shape (1, 3, 640, 640)\n",
      "\n",
      "image 1/1 e:\\Data5M\\NYC_500\\right\\110120301033102302_x2.jpg: 640x640 2 persons, 3 cars, 1 traffic light, 21.6ms\n",
      "Speed: 4.0ms preprocess, 21.6ms inference, 4.0ms postprocess per image at shape (1, 3, 640, 640)\n",
      "\n",
      "image 1/1 e:\\Data5M\\NYC_500\\front\\110120301031233001_x2.jpg: 640x640 1 person, 2 cars, 38.6ms\n",
      "Speed: 10.5ms preprocess, 38.6ms inference, 4.5ms postprocess per image at shape (1, 3, 640, 640)\n",
      "\n",
      "image 1/1 e:\\Data5M\\NYC_500\\left\\110120301031233010_x2.jpg: 640x640 1 car, 1 boat, 31.7ms\n",
      "Speed: 5.0ms preprocess, 31.7ms inference, 4.0ms postprocess per image at shape (1, 3, 640, 640)\n",
      "\n",
      "image 1/1 e:\\Data5M\\NYC_500\\back\\110120301031233003_x2.jpg: 640x640 1 person, 1 bicycle, 2 cars, 27.1ms\n",
      "Speed: 6.5ms preprocess, 27.1ms inference, 3.0ms postprocess per image at shape (1, 3, 640, 640)\n",
      "\n",
      "image 1/1 e:\\Data5M\\NYC_500\\right\\110120301031233002_x2.jpg: 640x640 (no detections), 19.5ms\n",
      "Speed: 5.5ms preprocess, 19.5ms inference, 0.5ms postprocess per image at shape (1, 3, 640, 640)\n",
      "\n",
      "image 1/1 e:\\Data5M\\NYC_500\\front\\110120301031323301_x2.jpg: 640x640 8 persons, 5 cars, 1 handbag, 20.1ms\n",
      "Speed: 5.0ms preprocess, 20.1ms inference, 2.0ms postprocess per image at shape (1, 3, 640, 640)\n",
      "\n",
      "image 1/1 e:\\Data5M\\NYC_500\\left\\110120301031323310_x2.jpg: 640x640 2 persons, 4 cars, 24.6ms\n",
      "Speed: 5.0ms preprocess, 24.6ms inference, 3.0ms postprocess per image at shape (1, 3, 640, 640)\n",
      "\n",
      "image 1/1 e:\\Data5M\\NYC_500\\back\\110120301031323303_x2.jpg: 640x640 5 cars, 24.0ms\n",
      "Speed: 5.5ms preprocess, 24.0ms inference, 2.5ms postprocess per image at shape (1, 3, 640, 640)\n",
      "\n",
      "image 1/1 e:\\Data5M\\NYC_500\\right\\110120301031323302_x2.jpg: 640x640 3 persons, 4 cars, 20.0ms\n",
      "Speed: 4.5ms preprocess, 20.0ms inference, 3.5ms postprocess per image at shape (1, 3, 640, 640)\n",
      "\n",
      "image 1/1 e:\\Data5M\\NYC_500\\front\\110112300222223301_x2.jpg: 640x640 1 person, 5 cars, 1 traffic light, 26.6ms\n",
      "Speed: 7.0ms preprocess, 26.6ms inference, 4.5ms postprocess per image at shape (1, 3, 640, 640)\n",
      "\n",
      "image 1/1 e:\\Data5M\\NYC_500\\left\\110112300222223310_x2.jpg: 640x640 4 persons, 1 car, 2 traffic lights, 25.1ms\n",
      "Speed: 6.4ms preprocess, 25.1ms inference, 5.5ms postprocess per image at shape (1, 3, 640, 640)\n",
      "\n",
      "image 1/1 e:\\Data5M\\NYC_500\\back\\110112300222223303_x2.jpg: 640x640 3 cars, 2 umbrellas, 24.6ms\n",
      "Speed: 7.5ms preprocess, 24.6ms inference, 3.0ms postprocess per image at shape (1, 3, 640, 640)\n",
      "\n",
      "image 1/1 e:\\Data5M\\NYC_500\\right\\110112300222223302_x2.jpg: 640x640 8 persons, 2 cars, 1 umbrella, 1 handbag, 49.7ms\n",
      "Speed: 11.5ms preprocess, 49.7ms inference, 5.0ms postprocess per image at shape (1, 3, 640, 640)\n",
      "\n",
      "image 1/1 e:\\Data5M\\NYC_500\\front\\103330330131002201_x2.jpg: 640x640 2 persons, 1 bicycle, 1 car, 1 bus, 1 truck, 2 traffic lights, 1 toilet, 25.1ms\n",
      "Speed: 13.1ms preprocess, 25.1ms inference, 1.5ms postprocess per image at shape (1, 3, 640, 640)\n",
      "\n",
      "image 1/1 e:\\Data5M\\NYC_500\\left\\103330330131002210_x2.jpg: 640x640 4 cars, 21.1ms\n",
      "Speed: 4.0ms preprocess, 21.1ms inference, 4.5ms postprocess per image at shape (1, 3, 640, 640)\n",
      "\n",
      "image 1/1 e:\\Data5M\\NYC_500\\back\\103330330131002203_x2.jpg: 640x640 5 cars, 20.4ms\n",
      "Speed: 6.4ms preprocess, 20.4ms inference, 5.0ms postprocess per image at shape (1, 3, 640, 640)\n",
      "\n",
      "image 1/1 e:\\Data5M\\NYC_500\\right\\103330330131002202_x2.jpg: 640x640 3 persons, 1 truck, 1 fire hydrant, 20.0ms\n",
      "Speed: 5.0ms preprocess, 20.0ms inference, 3.0ms postprocess per image at shape (1, 3, 640, 640)\n",
      "\n",
      "image 1/1 e:\\Data5M\\NYC_500\\front\\103331012333000001_x2.jpg: 640x640 2 cars, 1 toilet, 29.8ms\n",
      "Speed: 5.0ms preprocess, 29.8ms inference, 4.5ms postprocess per image at shape (1, 3, 640, 640)\n",
      "\n",
      "image 1/1 e:\\Data5M\\NYC_500\\left\\103331012333000010_x2.jpg: 640x640 1 car, 22.0ms\n",
      "Speed: 8.6ms preprocess, 22.0ms inference, 3.5ms postprocess per image at shape (1, 3, 640, 640)\n",
      "\n",
      "image 1/1 e:\\Data5M\\NYC_500\\back\\103331012333000003_x2.jpg: 640x640 1 car, 1 truck, 19.6ms\n",
      "Speed: 5.0ms preprocess, 19.6ms inference, 3.5ms postprocess per image at shape (1, 3, 640, 640)\n",
      "\n",
      "image 1/1 e:\\Data5M\\NYC_500\\right\\103331012333000002_x2.jpg: 640x640 1 person, 1 car, 22.1ms\n",
      "Speed: 4.0ms preprocess, 22.1ms inference, 2.0ms postprocess per image at shape (1, 3, 640, 640)\n",
      "\n",
      "image 1/1 e:\\Data5M\\NYC_500\\front\\103331302211101201_x2.jpg: 640x640 1 person, 1 car, 2 trucks, 21.1ms\n",
      "Speed: 6.0ms preprocess, 21.1ms inference, 4.5ms postprocess per image at shape (1, 3, 640, 640)\n",
      "\n",
      "image 1/1 e:\\Data5M\\NYC_500\\left\\103331302211101210_x2.jpg: 640x640 6 cars, 1 bus, 23.0ms\n",
      "Speed: 6.5ms preprocess, 23.0ms inference, 3.0ms postprocess per image at shape (1, 3, 640, 640)\n",
      "\n",
      "image 1/1 e:\\Data5M\\NYC_500\\back\\103331302211101203_x2.jpg: 640x640 1 person, 6 cars, 1 bus, 1 truck, 21.6ms\n",
      "Speed: 6.0ms preprocess, 21.6ms inference, 4.5ms postprocess per image at shape (1, 3, 640, 640)\n",
      "\n",
      "image 1/1 e:\\Data5M\\NYC_500\\right\\103331302211101202_x2.jpg: 640x640 1 person, 2 cars, 30.6ms\n",
      "Speed: 36.1ms preprocess, 30.6ms inference, 4.0ms postprocess per image at shape (1, 3, 640, 640)\n",
      "\n",
      "image 1/1 e:\\Data5M\\NYC_500\\front\\103330322122233001_x2.jpg: 640x640 3 persons, 1 bicycle, 6 cars, 23.6ms\n",
      "Speed: 8.5ms preprocess, 23.6ms inference, 3.0ms postprocess per image at shape (1, 3, 640, 640)\n",
      "\n",
      "image 1/1 e:\\Data5M\\NYC_500\\left\\103330322122233010_x2.jpg: 640x640 2 persons, 3 cars, 19.5ms\n",
      "Speed: 6.5ms preprocess, 19.5ms inference, 5.0ms postprocess per image at shape (1, 3, 640, 640)\n",
      "\n",
      "image 1/1 e:\\Data5M\\NYC_500\\back\\103330322122233003_x2.jpg: 640x640 6 cars, 24.5ms\n",
      "Speed: 6.0ms preprocess, 24.5ms inference, 3.0ms postprocess per image at shape (1, 3, 640, 640)\n",
      "\n",
      "image 1/1 e:\\Data5M\\NYC_500\\right\\103330322122233002_x2.jpg: 640x640 4 persons, 2 cars, 1 umbrella, 1 handbag, 25.0ms\n",
      "Speed: 3.6ms preprocess, 25.0ms inference, 3.5ms postprocess per image at shape (1, 3, 640, 640)\n",
      "\n",
      "image 1/1 e:\\Data5M\\NYC_500\\front\\103332323013031101_x2.jpg: 640x640 3 persons, 1 car, 1 umbrella, 1 potted plant, 21.0ms\n",
      "Speed: 5.0ms preprocess, 21.0ms inference, 4.5ms postprocess per image at shape (1, 3, 640, 640)\n",
      "\n",
      "image 1/1 e:\\Data5M\\NYC_500\\left\\103332323013031110_x2.jpg: 640x640 4 persons, 2 cars, 1 bus, 1 traffic light, 2 handbags, 1 clock, 25.6ms\n",
      "Speed: 5.5ms preprocess, 25.6ms inference, 3.0ms postprocess per image at shape (1, 3, 640, 640)\n",
      "\n",
      "image 1/1 e:\\Data5M\\NYC_500\\back\\103332323013031103_x2.jpg: 640x640 2 persons, 1 handbag, 1 frisbee, 21.0ms\n",
      "Speed: 5.2ms preprocess, 21.0ms inference, 4.0ms postprocess per image at shape (1, 3, 640, 640)\n",
      "\n",
      "image 1/1 e:\\Data5M\\NYC_500\\right\\103332323013031102_x2.jpg: 640x640 4 persons, 1 bicycle, 4 potted plants, 19.6ms\n",
      "Speed: 6.5ms preprocess, 19.6ms inference, 2.0ms postprocess per image at shape (1, 3, 640, 640)\n",
      "\n",
      "image 1/1 e:\\Data5M\\NYC_500\\front\\103330300132002101_x2.jpg: 640x640 3 persons, 1 car, 1 bus, 1 backpack, 2 potted plants, 24.9ms\n",
      "Speed: 6.5ms preprocess, 24.9ms inference, 4.0ms postprocess per image at shape (1, 3, 640, 640)\n",
      "\n",
      "image 1/1 e:\\Data5M\\NYC_500\\left\\103330300132002110_x2.jpg: 640x640 3 persons, 1 umbrella, 3 potted plants, 24.0ms\n",
      "Speed: 6.0ms preprocess, 24.0ms inference, 2.3ms postprocess per image at shape (1, 3, 640, 640)\n",
      "\n",
      "image 1/1 e:\\Data5M\\NYC_500\\back\\103330300132002103_x2.jpg: 640x640 2 persons, 2 bicycles, 5 cars, 1 bus, 2 potted plants, 66.3ms\n",
      "Speed: 7.1ms preprocess, 66.3ms inference, 5.0ms postprocess per image at shape (1, 3, 640, 640)\n",
      "\n",
      "image 1/1 e:\\Data5M\\NYC_500\\right\\103330300132002102_x2.jpg: 640x640 2 persons, 2 cars, 2 motorcycles, 1 bus, 2 trucks, 30.7ms\n",
      "Speed: 7.5ms preprocess, 30.7ms inference, 3.0ms postprocess per image at shape (1, 3, 640, 640)\n",
      "\n",
      "image 1/1 e:\\Data5M\\NYC_500\\front\\103330300131310001_x2.jpg: 640x640 1 person, 1 bicycle, 3 cars, 1 motorcycle, 1 truck, 38.1ms\n",
      "Speed: 5.0ms preprocess, 38.1ms inference, 5.5ms postprocess per image at shape (1, 3, 640, 640)\n",
      "\n",
      "image 1/1 e:\\Data5M\\NYC_500\\left\\103330300131310010_x2.jpg: 640x640 6 persons, 2 handbags, 26.0ms\n",
      "Speed: 6.5ms preprocess, 26.0ms inference, 2.5ms postprocess per image at shape (1, 3, 640, 640)\n",
      "\n",
      "image 1/1 e:\\Data5M\\NYC_500\\back\\103330300131310003_x2.jpg: 640x640 1 person, 5 cars, 2 buss, 25.1ms\n",
      "Speed: 3.2ms preprocess, 25.1ms inference, 3.5ms postprocess per image at shape (1, 3, 640, 640)\n",
      "\n",
      "image 1/1 e:\\Data5M\\NYC_500\\right\\103330300131310002_x2.jpg: 640x640 1 person, 4 cars, 1 bus, 20.1ms\n",
      "Speed: 4.0ms preprocess, 20.1ms inference, 2.5ms postprocess per image at shape (1, 3, 640, 640)\n",
      "\n",
      "image 1/1 e:\\Data5M\\NYC_500\\front\\103332223121123001_x2.jpg: 640x640 3 persons, 1 car, 1 bus, 1 traffic light, 2 clocks, 25.1ms\n",
      "Speed: 7.5ms preprocess, 25.1ms inference, 3.2ms postprocess per image at shape (1, 3, 640, 640)\n",
      "\n",
      "image 1/1 e:\\Data5M\\NYC_500\\left\\103332223121123010_x2.jpg: 640x640 1 car, 22.0ms\n",
      "Speed: 6.4ms preprocess, 22.0ms inference, 2.0ms postprocess per image at shape (1, 3, 640, 640)\n",
      "\n",
      "image 1/1 e:\\Data5M\\NYC_500\\back\\103332223121123003_x2.jpg: 640x640 1 car, 1 mouse, 24.0ms\n",
      "Speed: 6.5ms preprocess, 24.0ms inference, 2.5ms postprocess per image at shape (1, 3, 640, 640)\n",
      "\n",
      "image 1/1 e:\\Data5M\\NYC_500\\right\\103332223121123002_x2.jpg: 640x640 1 person, 1 bicycle, 24.6ms\n",
      "Speed: 7.5ms preprocess, 24.6ms inference, 4.5ms postprocess per image at shape (1, 3, 640, 640)\n",
      "\n",
      "image 1/1 e:\\Data5M\\NYC_500\\front\\103332223110312101_x2.jpg: 640x640 1 car, 22.1ms\n",
      "Speed: 6.5ms preprocess, 22.1ms inference, 3.0ms postprocess per image at shape (1, 3, 640, 640)\n",
      "\n",
      "image 1/1 e:\\Data5M\\NYC_500\\left\\103332223110312110_x2.jpg: 640x640 1 car, 1 bus, 1 truck, 26.0ms\n",
      "Speed: 6.5ms preprocess, 26.0ms inference, 3.0ms postprocess per image at shape (1, 3, 640, 640)\n",
      "\n",
      "image 1/1 e:\\Data5M\\NYC_500\\back\\103332223110312103_x2.jpg: 640x640 3 cars, 50.7ms\n",
      "Speed: 8.5ms preprocess, 50.7ms inference, 3.0ms postprocess per image at shape (1, 3, 640, 640)\n",
      "\n",
      "image 1/1 e:\\Data5M\\NYC_500\\right\\103332223110312102_x2.jpg: 640x640 1 person, 37.1ms\n",
      "Speed: 7.5ms preprocess, 37.1ms inference, 5.0ms postprocess per image at shape (1, 3, 640, 640)\n",
      "\n",
      "image 1/1 e:\\Data5M\\NYC_500\\front\\110121033133331301_x2.jpg: 640x640 (no detections), 24.1ms\n",
      "Speed: 3.0ms preprocess, 24.1ms inference, 3.0ms postprocess per image at shape (1, 3, 640, 640)\n",
      "\n",
      "image 1/1 e:\\Data5M\\NYC_500\\left\\110121033133331310_x2.jpg: 640x640 1 car, 27.1ms\n",
      "Speed: 5.0ms preprocess, 27.1ms inference, 3.5ms postprocess per image at shape (1, 3, 640, 640)\n",
      "\n",
      "image 1/1 e:\\Data5M\\NYC_500\\back\\110121033133331303_x2.jpg: 640x640 (no detections), 24.0ms\n",
      "Speed: 4.2ms preprocess, 24.0ms inference, 2.0ms postprocess per image at shape (1, 3, 640, 640)\n",
      "\n",
      "image 1/1 e:\\Data5M\\NYC_500\\right\\110121033133331302_x2.jpg: 640x640 (no detections), 21.1ms\n",
      "Speed: 5.5ms preprocess, 21.1ms inference, 2.0ms postprocess per image at shape (1, 3, 640, 640)\n",
      "\n",
      "image 1/1 e:\\Data5M\\NYC_500\\front\\110120222332000301_x2.jpg: 640x640 1 person, 4 cars, 24.6ms\n",
      "Speed: 5.0ms preprocess, 24.6ms inference, 2.0ms postprocess per image at shape (1, 3, 640, 640)\n",
      "\n",
      "image 1/1 e:\\Data5M\\NYC_500\\left\\110120222332000310_x2.jpg: 640x640 4 cars, 1 clock, 23.1ms\n",
      "Speed: 4.9ms preprocess, 23.1ms inference, 5.1ms postprocess per image at shape (1, 3, 640, 640)\n",
      "\n",
      "image 1/1 e:\\Data5M\\NYC_500\\back\\110120222332000303_x2.jpg: 640x640 2 cars, 1 train, 25.0ms\n",
      "Speed: 4.5ms preprocess, 25.0ms inference, 3.0ms postprocess per image at shape (1, 3, 640, 640)\n",
      "\n",
      "image 1/1 e:\\Data5M\\NYC_500\\right\\110120222332000302_x2.jpg: 640x640 (no detections), 22.6ms\n",
      "Speed: 5.3ms preprocess, 22.6ms inference, 1.0ms postprocess per image at shape (1, 3, 640, 640)\n",
      "\n",
      "image 1/1 e:\\Data5M\\NYC_500\\front\\103330313100321301_x2.jpg: 640x640 2 persons, 1 bicycle, 4 cars, 1 motorcycle, 1 truck, 1 sink, 19.1ms\n",
      "Speed: 5.5ms preprocess, 19.1ms inference, 2.0ms postprocess per image at shape (1, 3, 640, 640)\n",
      "\n",
      "image 1/1 e:\\Data5M\\NYC_500\\left\\103330313100321310_x2.jpg: 640x640 4 persons, 1 car, 32.6ms\n",
      "Speed: 5.0ms preprocess, 32.6ms inference, 30.6ms postprocess per image at shape (1, 3, 640, 640)\n",
      "\n",
      "image 1/1 e:\\Data5M\\NYC_500\\back\\103330313100321303_x2.jpg: 640x640 1 person, 2 cars, 1 bus, 1 boat, 30.9ms\n",
      "Speed: 8.5ms preprocess, 30.9ms inference, 2.0ms postprocess per image at shape (1, 3, 640, 640)\n",
      "\n",
      "image 1/1 e:\\Data5M\\NYC_500\\right\\103330313100321302_x2.jpg: 640x640 1 car, 21.7ms\n",
      "Speed: 4.4ms preprocess, 21.7ms inference, 4.0ms postprocess per image at shape (1, 3, 640, 640)\n",
      "\n",
      "image 1/1 e:\\Data5M\\NYC_500\\front\\103332302033221001_x2.jpg: 640x640 1 person, 3 cars, 26.8ms\n",
      "Speed: 5.0ms preprocess, 26.8ms inference, 5.1ms postprocess per image at shape (1, 3, 640, 640)\n",
      "\n",
      "image 1/1 e:\\Data5M\\NYC_500\\left\\103332302033221010_x2.jpg: 640x640 3 cars, 22.0ms\n",
      "Speed: 5.0ms preprocess, 22.0ms inference, 5.5ms postprocess per image at shape (1, 3, 640, 640)\n",
      "\n",
      "image 1/1 e:\\Data5M\\NYC_500\\back\\103332302033221003_x2.jpg: 640x640 5 cars, 23.1ms\n",
      "Speed: 7.5ms preprocess, 23.1ms inference, 3.5ms postprocess per image at shape (1, 3, 640, 640)\n",
      "\n",
      "image 1/1 e:\\Data5M\\NYC_500\\right\\103332302033221002_x2.jpg: 640x640 1 car, 20.6ms\n",
      "Speed: 4.0ms preprocess, 20.6ms inference, 16.5ms postprocess per image at shape (1, 3, 640, 640)\n",
      "\n",
      "image 1/1 e:\\Data5M\\NYC_500\\front\\110120213233301001_x2.jpg: 640x640 1 person, 5 cars, 1 umbrella, 24.1ms\n",
      "Speed: 5.5ms preprocess, 24.1ms inference, 2.5ms postprocess per image at shape (1, 3, 640, 640)\n",
      "\n",
      "image 1/1 e:\\Data5M\\NYC_500\\left\\110120213233301010_x2.jpg: 640x640 4 persons, 1 car, 20.0ms\n",
      "Speed: 5.0ms preprocess, 20.0ms inference, 3.5ms postprocess per image at shape (1, 3, 640, 640)\n",
      "\n",
      "image 1/1 e:\\Data5M\\NYC_500\\back\\110120213233301003_x2.jpg: 640x640 1 person, 3 cars, 22.6ms\n",
      "Speed: 4.0ms preprocess, 22.6ms inference, 3.0ms postprocess per image at shape (1, 3, 640, 640)\n",
      "\n",
      "image 1/1 e:\\Data5M\\NYC_500\\right\\110120213233301002_x2.jpg: 640x640 1 car, 1 truck, 19.0ms\n",
      "Speed: 5.5ms preprocess, 19.0ms inference, 2.0ms postprocess per image at shape (1, 3, 640, 640)\n",
      "\n",
      "image 1/1 e:\\Data5M\\NYC_500\\front\\110112300021212101_x2.jpg: 640x640 2 persons, 4 cars, 1 clock, 20.0ms\n",
      "Speed: 5.0ms preprocess, 20.0ms inference, 3.5ms postprocess per image at shape (1, 3, 640, 640)\n",
      "\n",
      "image 1/1 e:\\Data5M\\NYC_500\\left\\110112300021212110_x2.jpg: 640x640 2 cars, 2 potted plants, 38.2ms\n",
      "Speed: 5.5ms preprocess, 38.2ms inference, 13.1ms postprocess per image at shape (1, 3, 640, 640)\n",
      "\n",
      "image 1/1 e:\\Data5M\\NYC_500\\back\\110112300021212103_x2.jpg: 640x640 1 person, 6 cars, 1 potted plant, 40.1ms\n",
      "Speed: 7.5ms preprocess, 40.1ms inference, 2.0ms postprocess per image at shape (1, 3, 640, 640)\n",
      "\n",
      "image 1/1 e:\\Data5M\\NYC_500\\right\\110112300021212102_x2.jpg: 640x640 2 persons, 1 truck, 1 backpack, 24.2ms\n",
      "Speed: 6.0ms preprocess, 24.2ms inference, 4.0ms postprocess per image at shape (1, 3, 640, 640)\n",
      "\n",
      "image 1/1 e:\\Data5M\\NYC_500\\front\\110120301022333201_x2.jpg: 640x640 4 cars, 1 truck, 24.2ms\n",
      "Speed: 6.0ms preprocess, 24.2ms inference, 4.0ms postprocess per image at shape (1, 3, 640, 640)\n",
      "\n",
      "image 1/1 e:\\Data5M\\NYC_500\\left\\110120301022333210_x2.jpg: 640x640 5 cars, 20.1ms\n",
      "Speed: 4.5ms preprocess, 20.1ms inference, 2.0ms postprocess per image at shape (1, 3, 640, 640)\n",
      "\n",
      "image 1/1 e:\\Data5M\\NYC_500\\back\\110120301022333203_x2.jpg: 640x640 2 persons, 5 cars, 1 traffic light, 1 stop sign, 1 frisbee, 1 clock, 18.5ms\n",
      "Speed: 5.5ms preprocess, 18.5ms inference, 3.5ms postprocess per image at shape (1, 3, 640, 640)\n",
      "\n",
      "image 1/1 e:\\Data5M\\NYC_500\\right\\110120301022333202_x2.jpg: 640x640 2 persons, 2 cars, 1 traffic light, 22.1ms\n",
      "Speed: 6.5ms preprocess, 22.1ms inference, 3.0ms postprocess per image at shape (1, 3, 640, 640)\n",
      "\n",
      "image 1/1 e:\\Data5M\\NYC_500\\front\\103331013022010301_x2.jpg: 640x640 1 person, 5 cars, 1 toilet, 22.5ms\n",
      "Speed: 4.0ms preprocess, 22.5ms inference, 3.0ms postprocess per image at shape (1, 3, 640, 640)\n",
      "\n",
      "image 1/1 e:\\Data5M\\NYC_500\\left\\103331013022010310_x2.jpg: 640x640 1 person, 4 cars, 23.1ms\n",
      "Speed: 7.0ms preprocess, 23.1ms inference, 4.0ms postprocess per image at shape (1, 3, 640, 640)\n",
      "\n",
      "image 1/1 e:\\Data5M\\NYC_500\\back\\103331013022010303_x2.jpg: 640x640 7 cars, 19.5ms\n",
      "Speed: 4.5ms preprocess, 19.5ms inference, 4.5ms postprocess per image at shape (1, 3, 640, 640)\n",
      "\n",
      "image 1/1 e:\\Data5M\\NYC_500\\right\\103331013022010302_x2.jpg: 640x640 1 person, 2 cars, 19.9ms\n",
      "Speed: 5.4ms preprocess, 19.9ms inference, 3.5ms postprocess per image at shape (1, 3, 640, 640)\n",
      "\n",
      "image 1/1 e:\\Data5M\\NYC_500\\front\\103332313022220201_x2.jpg: 640x640 2 persons, 1 bicycle, 2 cars, 2 trucks, 22.6ms\n",
      "Speed: 5.0ms preprocess, 22.6ms inference, 2.5ms postprocess per image at shape (1, 3, 640, 640)\n",
      "\n",
      "image 1/1 e:\\Data5M\\NYC_500\\left\\103332313022220210_x2.jpg: 640x640 2 persons, 1 car, 85.3ms\n",
      "Speed: 5.0ms preprocess, 85.3ms inference, 16.1ms postprocess per image at shape (1, 3, 640, 640)\n",
      "\n",
      "image 1/1 e:\\Data5M\\NYC_500\\back\\103332313022220203_x2.jpg: 640x640 1 person, 2 cars, 1 traffic light, 24.6ms\n",
      "Speed: 8.5ms preprocess, 24.6ms inference, 2.5ms postprocess per image at shape (1, 3, 640, 640)\n",
      "\n",
      "image 1/1 e:\\Data5M\\NYC_500\\right\\103332313022220202_x2.jpg: 640x640 1 truck, 22.0ms\n",
      "Speed: 5.5ms preprocess, 22.0ms inference, 3.0ms postprocess per image at shape (1, 3, 640, 640)\n",
      "\n",
      "image 1/1 e:\\Data5M\\NYC_500\\front\\103333120100202001_x2.jpg: 640x640 4 cars, 26.1ms\n",
      "Speed: 5.0ms preprocess, 26.1ms inference, 3.0ms postprocess per image at shape (1, 3, 640, 640)\n",
      "\n",
      "image 1/1 e:\\Data5M\\NYC_500\\left\\103333120100202010_x2.jpg: 640x640 2 cars, 25.0ms\n",
      "Speed: 4.5ms preprocess, 25.0ms inference, 3.0ms postprocess per image at shape (1, 3, 640, 640)\n",
      "\n",
      "image 1/1 e:\\Data5M\\NYC_500\\back\\103333120100202003_x2.jpg: 640x640 1 person, 5 cars, 1 boat, 1 frisbee, 22.6ms\n",
      "Speed: 5.5ms preprocess, 22.6ms inference, 2.0ms postprocess per image at shape (1, 3, 640, 640)\n",
      "\n",
      "image 1/1 e:\\Data5M\\NYC_500\\right\\103333120100202002_x2.jpg: 640x640 2 cars, 26.6ms\n",
      "Speed: 6.5ms preprocess, 26.6ms inference, 3.0ms postprocess per image at shape (1, 3, 640, 640)\n",
      "\n",
      "image 1/1 e:\\Data5M\\NYC_500\\front\\103331013030311201_x2.jpg: 640x640 2 persons, 6 cars, 1 toilet, 27.6ms\n",
      "Speed: 6.9ms preprocess, 27.6ms inference, 3.0ms postprocess per image at shape (1, 3, 640, 640)\n",
      "\n",
      "image 1/1 e:\\Data5M\\NYC_500\\left\\103331013030311210_x2.jpg: 640x640 2 cars, 21.0ms\n",
      "Speed: 5.0ms preprocess, 21.0ms inference, 4.5ms postprocess per image at shape (1, 3, 640, 640)\n",
      "\n",
      "image 1/1 e:\\Data5M\\NYC_500\\back\\103331013030311203_x2.jpg: 640x640 5 cars, 35.6ms\n",
      "Speed: 4.5ms preprocess, 35.6ms inference, 5.5ms postprocess per image at shape (1, 3, 640, 640)\n",
      "\n",
      "image 1/1 e:\\Data5M\\NYC_500\\right\\103331013030311202_x2.jpg: 640x640 2 cars, 23.0ms\n",
      "Speed: 5.5ms preprocess, 23.0ms inference, 4.5ms postprocess per image at shape (1, 3, 640, 640)\n",
      "\n",
      "image 1/1 e:\\Data5M\\NYC_500\\front\\103331310123122201_x2.jpg: 640x640 1 person, 3 cars, 26.1ms\n",
      "Speed: 7.5ms preprocess, 26.1ms inference, 3.0ms postprocess per image at shape (1, 3, 640, 640)\n",
      "\n",
      "image 1/1 e:\\Data5M\\NYC_500\\left\\103331310123122210_x2.jpg: 640x640 1 umbrella, 65.2ms\n",
      "Speed: 5.5ms preprocess, 65.2ms inference, 5.5ms postprocess per image at shape (1, 3, 640, 640)\n",
      "\n",
      "image 1/1 e:\\Data5M\\NYC_500\\back\\103331310123122203_x2.jpg: 640x640 1 car, 33.6ms\n",
      "Speed: 7.5ms preprocess, 33.6ms inference, 2.5ms postprocess per image at shape (1, 3, 640, 640)\n",
      "\n",
      "image 1/1 e:\\Data5M\\NYC_500\\right\\103331310123122202_x2.jpg: 640x640 1 person, 23.0ms\n",
      "Speed: 4.0ms preprocess, 23.0ms inference, 2.5ms postprocess per image at shape (1, 3, 640, 640)\n",
      "\n",
      "image 1/1 e:\\Data5M\\NYC_500\\front\\103330313102000301_x2.jpg: 640x640 3 persons, 2 cars, 2 motorcycles, 1 truck, 2 traffic lights, 1 toilet, 21.7ms\n",
      "Speed: 4.5ms preprocess, 21.7ms inference, 4.1ms postprocess per image at shape (1, 3, 640, 640)\n",
      "\n",
      "image 1/1 e:\\Data5M\\NYC_500\\left\\103330313102000310_x2.jpg: 640x640 3 persons, 1 car, 1 bus, 1 backpack, 18.6ms\n",
      "Speed: 5.5ms preprocess, 18.6ms inference, 4.0ms postprocess per image at shape (1, 3, 640, 640)\n",
      "\n",
      "image 1/1 e:\\Data5M\\NYC_500\\back\\103330313102000303_x2.jpg: 640x640 2 cars, 22.6ms\n",
      "Speed: 6.5ms preprocess, 22.6ms inference, 3.5ms postprocess per image at shape (1, 3, 640, 640)\n",
      "\n",
      "image 1/1 e:\\Data5M\\NYC_500\\right\\103330313102000302_x2.jpg: 640x640 6 persons, 2 buss, 2 trucks, 1 traffic light, 1 backpack, 23.0ms\n",
      "Speed: 5.0ms preprocess, 23.0ms inference, 3.5ms postprocess per image at shape (1, 3, 640, 640)\n",
      "\n",
      "image 1/1 e:\\Data5M\\NYC_500\\front\\103331222103301101_x2.jpg: 640x640 1 person, 1 car, 29.1ms\n",
      "Speed: 6.0ms preprocess, 29.1ms inference, 3.5ms postprocess per image at shape (1, 3, 640, 640)\n",
      "\n",
      "image 1/1 e:\\Data5M\\NYC_500\\left\\103331222103301110_x2.jpg: 640x640 4 persons, 3 cars, 1 bus, 1 truck, 22.0ms\n",
      "Speed: 5.5ms preprocess, 22.0ms inference, 4.0ms postprocess per image at shape (1, 3, 640, 640)\n",
      "\n",
      "image 1/1 e:\\Data5M\\NYC_500\\back\\103331222103301103_x2.jpg: 640x640 3 persons, 1 bicycle, 1 car, 1 motorcycle, 1 truck, 1 boat, 3 traffic lights, 20.0ms\n",
      "Speed: 6.5ms preprocess, 20.0ms inference, 3.5ms postprocess per image at shape (1, 3, 640, 640)\n",
      "\n",
      "image 1/1 e:\\Data5M\\NYC_500\\right\\103331222103301102_x2.jpg: 640x640 7 persons, 2 cars, 1 handbag, 25.7ms\n",
      "Speed: 5.5ms preprocess, 25.7ms inference, 4.5ms postprocess per image at shape (1, 3, 640, 640)\n",
      "\n",
      "image 1/1 e:\\Data5M\\NYC_500\\front\\103331220023012001_x2.jpg: 640x640 3 persons, 4 cars, 1 traffic light, 21.8ms\n",
      "Speed: 5.5ms preprocess, 21.8ms inference, 2.5ms postprocess per image at shape (1, 3, 640, 640)\n",
      "\n",
      "image 1/1 e:\\Data5M\\NYC_500\\left\\103331220023012010_x2.jpg: 640x640 3 persons, 5 cars, 2 trucks, 2 umbrellas, 80.3ms\n",
      "Speed: 6.5ms preprocess, 80.3ms inference, 3.5ms postprocess per image at shape (1, 3, 640, 640)\n",
      "\n",
      "image 1/1 e:\\Data5M\\NYC_500\\back\\103331220023012003_x2.jpg: 640x640 2 persons, 1 car, 1 bus, 2 trucks, 23.1ms\n",
      "Speed: 7.5ms preprocess, 23.1ms inference, 3.5ms postprocess per image at shape (1, 3, 640, 640)\n",
      "\n",
      "image 1/1 e:\\Data5M\\NYC_500\\right\\103331220023012002_x2.jpg: 640x640 2 persons, 1 car, 25.6ms\n",
      "Speed: 6.5ms preprocess, 25.6ms inference, 3.5ms postprocess per image at shape (1, 3, 640, 640)\n",
      "\n",
      "image 1/1 e:\\Data5M\\NYC_500\\front\\103331013001211001_x2.jpg: 640x640 1 person, 2 cars, 1 motorcycle, 1 bus, 1 toilet, 22.5ms\n",
      "Speed: 5.0ms preprocess, 22.5ms inference, 4.0ms postprocess per image at shape (1, 3, 640, 640)\n",
      "\n",
      "image 1/1 e:\\Data5M\\NYC_500\\left\\103331013001211010_x2.jpg: 640x640 1 car, 1 bus, 21.1ms\n",
      "Speed: 5.5ms preprocess, 21.1ms inference, 4.5ms postprocess per image at shape (1, 3, 640, 640)\n",
      "\n",
      "image 1/1 e:\\Data5M\\NYC_500\\back\\103331013001211003_x2.jpg: 640x640 6 cars, 1 truck, 23.6ms\n",
      "Speed: 5.0ms preprocess, 23.6ms inference, 3.0ms postprocess per image at shape (1, 3, 640, 640)\n",
      "\n",
      "image 1/1 e:\\Data5M\\NYC_500\\right\\103331013001211002_x2.jpg: 640x640 2 cars, 1 motorcycle, 25.6ms\n",
      "Speed: 6.0ms preprocess, 25.6ms inference, 3.0ms postprocess per image at shape (1, 3, 640, 640)\n",
      "\n",
      "image 1/1 e:\\Data5M\\NYC_500\\front\\103332303022330301_x2.jpg: 640x640 3 cars, 21.3ms\n",
      "Speed: 4.0ms preprocess, 21.3ms inference, 3.0ms postprocess per image at shape (1, 3, 640, 640)\n",
      "\n",
      "image 1/1 e:\\Data5M\\NYC_500\\left\\103332303022330310_x2.jpg: 640x640 2 cars, 1 truck, 1 potted plant, 24.0ms\n",
      "Speed: 5.5ms preprocess, 24.0ms inference, 3.0ms postprocess per image at shape (1, 3, 640, 640)\n",
      "\n",
      "image 1/1 e:\\Data5M\\NYC_500\\back\\103332303022330303_x2.jpg: 640x640 1 car, 1 train, 20.6ms\n",
      "Speed: 4.0ms preprocess, 20.6ms inference, 4.5ms postprocess per image at shape (1, 3, 640, 640)\n",
      "\n",
      "image 1/1 e:\\Data5M\\NYC_500\\right\\103332303022330302_x2.jpg: 640x640 1 bicycle, 55.2ms\n",
      "Speed: 6.0ms preprocess, 55.2ms inference, 4.0ms postprocess per image at shape (1, 3, 640, 640)\n",
      "\n",
      "image 1/1 e:\\Data5M\\NYC_500\\front\\103330330131030201_x2.jpg: 640x640 2 cars, 1 truck, 1 traffic light, 1 toilet, 50.7ms\n",
      "Speed: 11.5ms preprocess, 50.7ms inference, 3.0ms postprocess per image at shape (1, 3, 640, 640)\n",
      "\n",
      "image 1/1 e:\\Data5M\\NYC_500\\left\\103330330131030210_x2.jpg: 640x640 4 cars, 2 traffic lights, 25.1ms\n",
      "Speed: 5.0ms preprocess, 25.1ms inference, 3.0ms postprocess per image at shape (1, 3, 640, 640)\n",
      "\n",
      "image 1/1 e:\\Data5M\\NYC_500\\back\\103330330131030203_x2.jpg: 640x640 5 cars, 1 bus, 1 truck, 21.1ms\n",
      "Speed: 5.0ms preprocess, 21.1ms inference, 3.1ms postprocess per image at shape (1, 3, 640, 640)\n",
      "\n",
      "image 1/1 e:\\Data5M\\NYC_500\\right\\103330330131030202_x2.jpg: 640x640 2 persons, 4 cars, 1 motorcycle, 25.3ms\n",
      "Speed: 8.6ms preprocess, 25.3ms inference, 3.0ms postprocess per image at shape (1, 3, 640, 640)\n",
      "\n",
      "image 1/1 e:\\Data5M\\NYC_500\\front\\103332103032113101_x2.jpg: 640x640 2 persons, 5 cars, 1 truck, 23.9ms\n",
      "Speed: 5.3ms preprocess, 23.9ms inference, 5.5ms postprocess per image at shape (1, 3, 640, 640)\n",
      "\n",
      "image 1/1 e:\\Data5M\\NYC_500\\left\\103332103032113110_x2.jpg: 640x640 3 persons, 2 cars, 27.1ms\n",
      "Speed: 6.5ms preprocess, 27.1ms inference, 3.0ms postprocess per image at shape (1, 3, 640, 640)\n",
      "\n",
      "image 1/1 e:\\Data5M\\NYC_500\\back\\103332103032113103_x2.jpg: 640x640 7 persons, 1 bicycle, 1 car, 1 bus, 1 bench, 19.1ms\n",
      "Speed: 7.5ms preprocess, 19.1ms inference, 3.0ms postprocess per image at shape (1, 3, 640, 640)\n",
      "\n",
      "image 1/1 e:\\Data5M\\NYC_500\\right\\103332103032113102_x2.jpg: 640x640 1 car, 20.6ms\n",
      "Speed: 7.5ms preprocess, 20.6ms inference, 2.0ms postprocess per image at shape (1, 3, 640, 640)\n",
      "\n",
      "image 1/1 e:\\Data5M\\NYC_500\\front\\103332323011233301_x2.jpg: 640x640 1 car, 1 truck, 1 umbrella, 23.0ms\n",
      "Speed: 4.0ms preprocess, 23.0ms inference, 2.0ms postprocess per image at shape (1, 3, 640, 640)\n",
      "\n",
      "image 1/1 e:\\Data5M\\NYC_500\\left\\103332323011233310_x2.jpg: 640x640 3 persons, 2 cars, 23.4ms\n",
      "Speed: 6.5ms preprocess, 23.4ms inference, 2.5ms postprocess per image at shape (1, 3, 640, 640)\n",
      "\n",
      "image 1/1 e:\\Data5M\\NYC_500\\back\\103332323011233303_x2.jpg: 640x640 1 person, 2 cars, 24.6ms\n",
      "Speed: 5.0ms preprocess, 24.6ms inference, 4.0ms postprocess per image at shape (1, 3, 640, 640)\n",
      "\n",
      "image 1/1 e:\\Data5M\\NYC_500\\right\\103332323011233302_x2.jpg: 640x640 1 person, 65.2ms\n",
      "Speed: 32.6ms preprocess, 65.2ms inference, 3.0ms postprocess per image at shape (1, 3, 640, 640)\n",
      "\n",
      "image 1/1 e:\\Data5M\\NYC_500\\front\\103330322201323301_x2.jpg: 640x640 3 persons, 2 cars, 1 traffic light, 1 toilet, 19.0ms\n",
      "Speed: 26.6ms preprocess, 19.0ms inference, 3.0ms postprocess per image at shape (1, 3, 640, 640)\n",
      "\n",
      "image 1/1 e:\\Data5M\\NYC_500\\left\\103330322201323310_x2.jpg: 640x640 1 person, 1 car, 21.0ms\n",
      "Speed: 5.5ms preprocess, 21.0ms inference, 3.0ms postprocess per image at shape (1, 3, 640, 640)\n",
      "\n",
      "image 1/1 e:\\Data5M\\NYC_500\\back\\103330322201323303_x2.jpg: 640x640 3 persons, 3 cars, 1 bus, 25.8ms\n",
      "Speed: 6.0ms preprocess, 25.8ms inference, 3.0ms postprocess per image at shape (1, 3, 640, 640)\n",
      "\n",
      "image 1/1 e:\\Data5M\\NYC_500\\right\\103330322201323302_x2.jpg: 640x640 4 persons, 1 car, 1 bus, 21.0ms\n",
      "Speed: 5.5ms preprocess, 21.0ms inference, 3.5ms postprocess per image at shape (1, 3, 640, 640)\n",
      "\n",
      "image 1/1 e:\\Data5M\\NYC_500\\front\\110120213230201201_x2.jpg: 640x640 1 person, 3 cars, 17.0ms\n",
      "Speed: 5.5ms preprocess, 17.0ms inference, 3.0ms postprocess per image at shape (1, 3, 640, 640)\n",
      "\n",
      "image 1/1 e:\\Data5M\\NYC_500\\left\\110120213230201210_x2.jpg: 640x640 (no detections), 24.6ms\n",
      "Speed: 6.0ms preprocess, 24.6ms inference, 2.0ms postprocess per image at shape (1, 3, 640, 640)\n",
      "\n",
      "image 1/1 e:\\Data5M\\NYC_500\\back\\110120213230201203_x2.jpg: 640x640 4 cars, 22.6ms\n",
      "Speed: 5.5ms preprocess, 22.6ms inference, 3.0ms postprocess per image at shape (1, 3, 640, 640)\n",
      "\n",
      "image 1/1 e:\\Data5M\\NYC_500\\right\\110120213230201202_x2.jpg: 640x640 1 person, 1 car, 21.0ms\n",
      "Speed: 4.5ms preprocess, 21.0ms inference, 4.0ms postprocess per image at shape (1, 3, 640, 640)\n",
      "\n",
      "image 1/1 e:\\Data5M\\NYC_500\\front\\103331302211300101_x2.jpg: 640x640 1 person, 2 cars, 1 truck, 23.6ms\n",
      "Speed: 8.5ms preprocess, 23.6ms inference, 3.0ms postprocess per image at shape (1, 3, 640, 640)\n",
      "\n",
      "image 1/1 e:\\Data5M\\NYC_500\\left\\103331302211300110_x2.jpg: 640x640 3 persons, 3 cars, 60.2ms\n",
      "Speed: 6.5ms preprocess, 60.2ms inference, 36.6ms postprocess per image at shape (1, 3, 640, 640)\n",
      "\n",
      "image 1/1 e:\\Data5M\\NYC_500\\back\\103331302211300103_x2.jpg: 640x640 3 persons, 6 cars, 1 bus, 25.6ms\n",
      "Speed: 8.0ms preprocess, 25.6ms inference, 3.0ms postprocess per image at shape (1, 3, 640, 640)\n",
      "\n",
      "image 1/1 e:\\Data5M\\NYC_500\\right\\103331302211300102_x2.jpg: 640x640 3 persons, 1 car, 1 bus, 2 trucks, 1 fire hydrant, 1 potted plant, 24.6ms\n",
      "Speed: 4.5ms preprocess, 24.6ms inference, 3.5ms postprocess per image at shape (1, 3, 640, 640)\n",
      "\n",
      "image 1/1 e:\\Data5M\\NYC_500\\front\\103330311031112101_x2.jpg: 640x640 1 person, 1 truck, 22.0ms\n",
      "Speed: 5.5ms preprocess, 22.0ms inference, 5.5ms postprocess per image at shape (1, 3, 640, 640)\n",
      "\n",
      "image 1/1 e:\\Data5M\\NYC_500\\left\\103330311031112110_x2.jpg: 640x640 (no detections), 21.5ms\n",
      "Speed: 8.5ms preprocess, 21.5ms inference, 2.0ms postprocess per image at shape (1, 3, 640, 640)\n",
      "\n",
      "image 1/1 e:\\Data5M\\NYC_500\\back\\103330311031112103_x2.jpg: 640x640 1 person, 1 car, 1 train, 22.1ms\n",
      "Speed: 5.5ms preprocess, 22.1ms inference, 3.0ms postprocess per image at shape (1, 3, 640, 640)\n",
      "\n",
      "image 1/1 e:\\Data5M\\NYC_500\\right\\103330311031112102_x2.jpg: 640x640 3 persons, 1 potted plant, 25.6ms\n",
      "Speed: 6.5ms preprocess, 25.6ms inference, 3.0ms postprocess per image at shape (1, 3, 640, 640)\n",
      "\n",
      "image 1/1 e:\\Data5M\\NYC_500\\front\\103332231302212101_x2.jpg: 640x640 1 person, 5 cars, 1 clock, 21.8ms\n",
      "Speed: 4.0ms preprocess, 21.8ms inference, 4.5ms postprocess per image at shape (1, 3, 640, 640)\n",
      "\n",
      "image 1/1 e:\\Data5M\\NYC_500\\left\\103332231302212110_x2.jpg: 640x640 2 persons, 1 bicycle, 1 car, 19.6ms\n",
      "Speed: 6.5ms preprocess, 19.6ms inference, 5.0ms postprocess per image at shape (1, 3, 640, 640)\n",
      "\n",
      "image 1/1 e:\\Data5M\\NYC_500\\back\\103332231302212103_x2.jpg: 640x640 2 persons, 5 cars, 2 traffic lights, 22.6ms\n",
      "Speed: 5.0ms preprocess, 22.6ms inference, 3.0ms postprocess per image at shape (1, 3, 640, 640)\n",
      "\n",
      "image 1/1 e:\\Data5M\\NYC_500\\right\\103332231302212102_x2.jpg: 640x640 4 persons, 2 cars, 1 backpack, 83.8ms\n",
      "Speed: 5.5ms preprocess, 83.8ms inference, 5.5ms postprocess per image at shape (1, 3, 640, 640)\n",
      "\n",
      "image 1/1 e:\\Data5M\\NYC_500\\front\\103330322131013001_x2.jpg: 640x640 1 person, 1 car, 1 truck, 1 toilet, 41.6ms\n",
      "Speed: 7.5ms preprocess, 41.6ms inference, 2.0ms postprocess per image at shape (1, 3, 640, 640)\n",
      "\n",
      "image 1/1 e:\\Data5M\\NYC_500\\left\\103330322131013010_x2.jpg: 640x640 (no detections), 21.0ms\n",
      "Speed: 6.2ms preprocess, 21.0ms inference, 3.0ms postprocess per image at shape (1, 3, 640, 640)\n",
      "\n",
      "image 1/1 e:\\Data5M\\NYC_500\\back\\103330322131013003_x2.jpg: 640x640 1 person, 1 bus, 24.9ms\n",
      "Speed: 6.0ms preprocess, 24.9ms inference, 2.0ms postprocess per image at shape (1, 3, 640, 640)\n",
      "\n",
      "image 1/1 e:\\Data5M\\NYC_500\\right\\103330322131013002_x2.jpg: 640x640 5 persons, 1 bicycle, 2 motorcycles, 24.6ms\n",
      "Speed: 5.5ms preprocess, 24.6ms inference, 4.5ms postprocess per image at shape (1, 3, 640, 640)\n",
      "\n",
      "image 1/1 e:\\Data5M\\NYC_500\\front\\110120222330331301_x2.jpg: 640x640 2 persons, 2 cars, 1 truck, 24.5ms\n",
      "Speed: 5.5ms preprocess, 24.5ms inference, 3.5ms postprocess per image at shape (1, 3, 640, 640)\n",
      "\n",
      "image 1/1 e:\\Data5M\\NYC_500\\left\\110120222330331310_x2.jpg: 640x640 2 cars, 1 bus, 1 truck, 2 traffic lights, 22.1ms\n",
      "Speed: 4.0ms preprocess, 22.1ms inference, 4.0ms postprocess per image at shape (1, 3, 640, 640)\n",
      "\n",
      "image 1/1 e:\\Data5M\\NYC_500\\back\\110120222330331303_x2.jpg: 640x640 2 persons, 4 cars, 2 buss, 3 trucks, 1 handbag, 1 frisbee, 22.6ms\n",
      "Speed: 5.5ms preprocess, 22.6ms inference, 2.0ms postprocess per image at shape (1, 3, 640, 640)\n",
      "\n",
      "image 1/1 e:\\Data5M\\NYC_500\\right\\110120222330331302_x2.jpg: 640x640 2 persons, 2 bicycles, 1 truck, 1 traffic light, 20.0ms\n",
      "Speed: 5.0ms preprocess, 20.0ms inference, 4.5ms postprocess per image at shape (1, 3, 640, 640)\n",
      "\n",
      "image 1/1 e:\\Data5M\\NYC_500\\front\\110120213233023201_x2.jpg: 640x640 1 person, 6 cars, 1 potted plant, 27.2ms\n",
      "Speed: 7.5ms preprocess, 27.2ms inference, 3.0ms postprocess per image at shape (1, 3, 640, 640)\n",
      "\n",
      "image 1/1 e:\\Data5M\\NYC_500\\left\\110120213233023210_x2.jpg: 640x640 3 cars, 19.9ms\n",
      "Speed: 5.0ms preprocess, 19.9ms inference, 3.4ms postprocess per image at shape (1, 3, 640, 640)\n",
      "\n",
      "image 1/1 e:\\Data5M\\NYC_500\\back\\110120213233023203_x2.jpg: 640x640 2 persons, 2 cars, 1 fire hydrant, 1 frisbee, 25.0ms\n",
      "Speed: 4.0ms preprocess, 25.0ms inference, 5.0ms postprocess per image at shape (1, 3, 640, 640)\n",
      "\n",
      "image 1/1 e:\\Data5M\\NYC_500\\right\\110120213233023202_x2.jpg: 640x640 3 persons, 2 cars, 30.6ms\n",
      "Speed: 9.5ms preprocess, 30.6ms inference, 2.5ms postprocess per image at shape (1, 3, 640, 640)\n",
      "\n",
      "image 1/1 e:\\Data5M\\NYC_500\\front\\103331310122101101_x2.jpg: 640x640 1 person, 2 cars, 25.6ms\n",
      "Speed: 5.5ms preprocess, 25.6ms inference, 3.5ms postprocess per image at shape (1, 3, 640, 640)\n",
      "\n",
      "image 1/1 e:\\Data5M\\NYC_500\\left\\103331310122101110_x2.jpg: 640x640 2 persons, 24.0ms\n",
      "Speed: 7.5ms preprocess, 24.0ms inference, 3.6ms postprocess per image at shape (1, 3, 640, 640)\n",
      "\n",
      "image 1/1 e:\\Data5M\\NYC_500\\back\\103331310122101103_x2.jpg: 640x640 2 cars, 1 bus, 1 boat, 22.1ms\n",
      "Speed: 6.0ms preprocess, 22.1ms inference, 4.0ms postprocess per image at shape (1, 3, 640, 640)\n",
      "\n",
      "image 1/1 e:\\Data5M\\NYC_500\\right\\103331310122101102_x2.jpg: 640x640 1 car, 23.0ms\n",
      "Speed: 7.5ms preprocess, 23.0ms inference, 1.5ms postprocess per image at shape (1, 3, 640, 640)\n",
      "\n",
      "image 1/1 e:\\Data5M\\NYC_500\\front\\103330313103102001_x2.jpg: 640x640 1 car, 20.3ms\n",
      "Speed: 4.0ms preprocess, 20.3ms inference, 2.0ms postprocess per image at shape (1, 3, 640, 640)\n",
      "\n",
      "image 1/1 e:\\Data5M\\NYC_500\\left\\103330313103102010_x2.jpg: 640x640 8 persons, 2 cars, 24.8ms\n",
      "Speed: 7.0ms preprocess, 24.8ms inference, 5.0ms postprocess per image at shape (1, 3, 640, 640)\n",
      "\n",
      "image 1/1 e:\\Data5M\\NYC_500\\back\\103330313103102003_x2.jpg: 640x640 4 cars, 1 train, 22.7ms\n",
      "Speed: 6.5ms preprocess, 22.7ms inference, 2.0ms postprocess per image at shape (1, 3, 640, 640)\n",
      "\n",
      "image 1/1 e:\\Data5M\\NYC_500\\right\\103330313103102002_x2.jpg: 640x640 (no detections), 34.6ms\n",
      "Speed: 9.5ms preprocess, 34.6ms inference, 2.0ms postprocess per image at shape (1, 3, 640, 640)\n",
      "\n",
      "image 1/1 e:\\Data5M\\NYC_500\\front\\103331301111130201_x2.jpg: 640x640 1 toilet, 22.2ms\n",
      "Speed: 4.0ms preprocess, 22.2ms inference, 4.0ms postprocess per image at shape (1, 3, 640, 640)\n",
      "\n",
      "image 1/1 e:\\Data5M\\NYC_500\\left\\103331301111130210_x2.jpg: 640x640 (no detections), 21.0ms\n",
      "Speed: 5.0ms preprocess, 21.0ms inference, 1.5ms postprocess per image at shape (1, 3, 640, 640)\n",
      "\n",
      "image 1/1 e:\\Data5M\\NYC_500\\back\\103331301111130203_x2.jpg: 640x640 1 person, 2 cars, 1 boat, 1 frisbee, 76.8ms\n",
      "Speed: 38.1ms preprocess, 76.8ms inference, 3.0ms postprocess per image at shape (1, 3, 640, 640)\n",
      "\n",
      "image 1/1 e:\\Data5M\\NYC_500\\right\\103331301111130202_x2.jpg: 640x640 (no detections), 25.6ms\n",
      "Speed: 5.5ms preprocess, 25.6ms inference, 1.0ms postprocess per image at shape (1, 3, 640, 640)\n",
      "\n",
      "image 1/1 e:\\Data5M\\NYC_500\\front\\103330300132223001_x2.jpg: 640x640 1 person, 1 car, 1 bus, 22.6ms\n",
      "Speed: 6.0ms preprocess, 22.6ms inference, 3.0ms postprocess per image at shape (1, 3, 640, 640)\n",
      "\n",
      "image 1/1 e:\\Data5M\\NYC_500\\left\\103330300132223010_x2.jpg: 640x640 1 person, 1 car, 22.6ms\n",
      "Speed: 4.5ms preprocess, 22.6ms inference, 2.0ms postprocess per image at shape (1, 3, 640, 640)\n",
      "\n",
      "image 1/1 e:\\Data5M\\NYC_500\\back\\103330300132223003_x2.jpg: 640x640 1 person, 3 cars, 22.1ms\n",
      "Speed: 5.5ms preprocess, 22.1ms inference, 7.5ms postprocess per image at shape (1, 3, 640, 640)\n",
      "\n",
      "image 1/1 e:\\Data5M\\NYC_500\\right\\103330300132223002_x2.jpg: 640x640 2 persons, 25.0ms\n",
      "Speed: 5.0ms preprocess, 25.0ms inference, 4.5ms postprocess per image at shape (1, 3, 640, 640)\n",
      "\n",
      "image 1/1 e:\\Data5M\\NYC_500\\front\\110120301020103001_x2.jpg: 640x640 1 person, 2 cars, 1 truck, 21.6ms\n",
      "Speed: 6.0ms preprocess, 21.6ms inference, 2.0ms postprocess per image at shape (1, 3, 640, 640)\n",
      "\n",
      "image 1/1 e:\\Data5M\\NYC_500\\left\\110120301020103010_x2.jpg: 640x640 5 persons, 1 bicycle, 1 car, 19.6ms\n",
      "Speed: 5.0ms preprocess, 19.6ms inference, 3.0ms postprocess per image at shape (1, 3, 640, 640)\n",
      "\n",
      "image 1/1 e:\\Data5M\\NYC_500\\back\\110120301020103003_x2.jpg: 640x640 4 cars, 1 bus, 1 frisbee, 18.1ms\n",
      "Speed: 6.0ms preprocess, 18.1ms inference, 4.0ms postprocess per image at shape (1, 3, 640, 640)\n",
      "\n",
      "image 1/1 e:\\Data5M\\NYC_500\\right\\110120301020103002_x2.jpg: 640x640 3 cars, 64.7ms\n",
      "Speed: 4.0ms preprocess, 64.7ms inference, 5.0ms postprocess per image at shape (1, 3, 640, 640)\n",
      "\n",
      "image 1/1 e:\\Data5M\\NYC_500\\front\\103330330322323101_x2.jpg: 640x640 2 persons, 1 bicycle, 2 cars, 2 buss, 1 toilet, 28.3ms\n",
      "Speed: 7.5ms preprocess, 28.3ms inference, 2.5ms postprocess per image at shape (1, 3, 640, 640)\n",
      "\n",
      "image 1/1 e:\\Data5M\\NYC_500\\left\\103330330322323110_x2.jpg: 640x640 2 persons, 3 cars, 25.6ms\n",
      "Speed: 4.0ms preprocess, 25.6ms inference, 3.0ms postprocess per image at shape (1, 3, 640, 640)\n",
      "\n",
      "image 1/1 e:\\Data5M\\NYC_500\\back\\103330330322323103_x2.jpg: 640x640 5 cars, 1 bus, 1 truck, 18.2ms\n",
      "Speed: 6.5ms preprocess, 18.2ms inference, 4.0ms postprocess per image at shape (1, 3, 640, 640)\n",
      "\n",
      "image 1/1 e:\\Data5M\\NYC_500\\right\\103330330322323102_x2.jpg: 640x640 3 persons, 4 cars, 25.3ms\n",
      "Speed: 6.0ms preprocess, 25.3ms inference, 3.0ms postprocess per image at shape (1, 3, 640, 640)\n",
      "\n",
      "image 1/1 e:\\Data5M\\NYC_500\\front\\103332223111211101_x2.jpg: 640x640 3 cars, 20.0ms\n",
      "Speed: 5.5ms preprocess, 20.0ms inference, 4.0ms postprocess per image at shape (1, 3, 640, 640)\n",
      "\n",
      "image 1/1 e:\\Data5M\\NYC_500\\left\\103332223111211110_x2.jpg: 640x640 1 car, 20.8ms\n",
      "Speed: 6.5ms preprocess, 20.8ms inference, 2.5ms postprocess per image at shape (1, 3, 640, 640)\n",
      "\n",
      "image 1/1 e:\\Data5M\\NYC_500\\back\\103332223111211103_x2.jpg: 640x640 (no detections), 21.7ms\n",
      "Speed: 4.0ms preprocess, 21.7ms inference, 1.0ms postprocess per image at shape (1, 3, 640, 640)\n",
      "\n",
      "image 1/1 e:\\Data5M\\NYC_500\\right\\103332223111211102_x2.jpg: 640x640 1 train, 24.6ms\n",
      "Speed: 5.5ms preprocess, 24.6ms inference, 3.5ms postprocess per image at shape (1, 3, 640, 640)\n",
      "\n",
      "image 1/1 e:\\Data5M\\NYC_500\\front\\110121033202233201_x2.jpg: 640x640 (no detections), 21.6ms\n",
      "Speed: 5.0ms preprocess, 21.6ms inference, 1.0ms postprocess per image at shape (1, 3, 640, 640)\n",
      "\n",
      "image 1/1 e:\\Data5M\\NYC_500\\left\\110121033202233210_x2.jpg: 640x640 (no detections), 58.8ms\n",
      "Speed: 6.0ms preprocess, 58.8ms inference, 1.0ms postprocess per image at shape (1, 3, 640, 640)\n",
      "\n",
      "image 1/1 e:\\Data5M\\NYC_500\\back\\110121033202233203_x2.jpg: 640x640 (no detections), 44.2ms\n",
      "Speed: 7.0ms preprocess, 44.2ms inference, 1.0ms postprocess per image at shape (1, 3, 640, 640)\n",
      "\n",
      "image 1/1 e:\\Data5M\\NYC_500\\right\\110121033202233202_x2.jpg: 640x640 (no detections), 19.6ms\n",
      "Speed: 4.5ms preprocess, 19.6ms inference, 2.0ms postprocess per image at shape (1, 3, 640, 640)\n",
      "\n",
      "image 1/1 e:\\Data5M\\NYC_500\\front\\103332322313033001_x2.jpg: 640x640 2 persons, 3 cars, 1 truck, 23.1ms\n",
      "Speed: 5.5ms preprocess, 23.1ms inference, 3.0ms postprocess per image at shape (1, 3, 640, 640)\n",
      "\n",
      "image 1/1 e:\\Data5M\\NYC_500\\left\\103332322313033010_x2.jpg: 640x640 1 person, 3 cars, 22.6ms\n",
      "Speed: 4.0ms preprocess, 22.6ms inference, 2.0ms postprocess per image at shape (1, 3, 640, 640)\n",
      "\n",
      "image 1/1 e:\\Data5M\\NYC_500\\back\\103332322313033003_x2.jpg: 640x640 1 car, 1 bus, 20.0ms\n",
      "Speed: 4.0ms preprocess, 20.0ms inference, 3.0ms postprocess per image at shape (1, 3, 640, 640)\n",
      "\n",
      "image 1/1 e:\\Data5M\\NYC_500\\right\\103332322313033002_x2.jpg: 640x640 1 truck, 31.2ms\n",
      "Speed: 5.5ms preprocess, 31.2ms inference, 3.0ms postprocess per image at shape (1, 3, 640, 640)\n",
      "\n",
      "image 1/1 e:\\Data5M\\NYC_500\\front\\103332103100222201_x2.jpg: 640x640 4 cars, 1 bus, 1 truck, 23.8ms\n",
      "Speed: 5.5ms preprocess, 23.8ms inference, 3.5ms postprocess per image at shape (1, 3, 640, 640)\n",
      "\n",
      "image 1/1 e:\\Data5M\\NYC_500\\left\\103332103100222210_x2.jpg: 640x640 2 persons, 1 car, 1 fire hydrant, 20.7ms\n",
      "Speed: 5.5ms preprocess, 20.7ms inference, 4.0ms postprocess per image at shape (1, 3, 640, 640)\n",
      "\n",
      "image 1/1 e:\\Data5M\\NYC_500\\back\\103332103100222203_x2.jpg: 640x640 4 cars, 21.0ms\n",
      "Speed: 5.0ms preprocess, 21.0ms inference, 3.4ms postprocess per image at shape (1, 3, 640, 640)\n",
      "\n",
      "image 1/1 e:\\Data5M\\NYC_500\\right\\103332103100222202_x2.jpg: 640x640 6 persons, 2 cars, 22.6ms\n",
      "Speed: 6.0ms preprocess, 22.6ms inference, 3.0ms postprocess per image at shape (1, 3, 640, 640)\n",
      "\n",
      "image 1/1 e:\\Data5M\\NYC_500\\front\\103331222101120001_x2.jpg: 640x640 1 person, 1 bicycle, 1 car, 1 bus, 1 truck, 2 potted plants, 54.2ms\n",
      "Speed: 8.0ms preprocess, 54.2ms inference, 5.0ms postprocess per image at shape (1, 3, 640, 640)\n",
      "\n",
      "image 1/1 e:\\Data5M\\NYC_500\\left\\103331222101120010_x2.jpg: 640x640 3 persons, 1 suitcase, 25.1ms\n",
      "Speed: 27.1ms preprocess, 25.1ms inference, 3.5ms postprocess per image at shape (1, 3, 640, 640)\n",
      "\n",
      "image 1/1 e:\\Data5M\\NYC_500\\back\\103331222101120003_x2.jpg: 640x640 1 person, 2 cars, 37.1ms\n",
      "Speed: 6.2ms preprocess, 37.1ms inference, 3.5ms postprocess per image at shape (1, 3, 640, 640)\n",
      "\n",
      "image 1/1 e:\\Data5M\\NYC_500\\right\\103331222101120002_x2.jpg: 640x640 1 person, 1 potted plant, 31.6ms\n",
      "Speed: 7.6ms preprocess, 31.6ms inference, 3.5ms postprocess per image at shape (1, 3, 640, 640)\n",
      "\n",
      "image 1/1 e:\\Data5M\\NYC_500\\front\\103331301111310001_x2.jpg: 640x640 3 cars, 1 truck, 21.4ms\n",
      "Speed: 5.5ms preprocess, 21.4ms inference, 4.0ms postprocess per image at shape (1, 3, 640, 640)\n",
      "\n",
      "image 1/1 e:\\Data5M\\NYC_500\\left\\103331301111310010_x2.jpg: 640x640 3 persons, 1 bicycle, 1 car, 2 traffic lights, 1 backpack, 25.6ms\n",
      "Speed: 6.5ms preprocess, 25.6ms inference, 5.0ms postprocess per image at shape (1, 3, 640, 640)\n",
      "\n",
      "image 1/1 e:\\Data5M\\NYC_500\\back\\103331301111310003_x2.jpg: 640x640 2 persons, 4 cars, 1 frisbee, 20.6ms\n",
      "Speed: 5.0ms preprocess, 20.6ms inference, 2.5ms postprocess per image at shape (1, 3, 640, 640)\n",
      "\n",
      "image 1/1 e:\\Data5M\\NYC_500\\right\\103331301111310002_x2.jpg: 640x640 2 persons, 2 cars, 1 truck, 1 traffic light, 26.1ms\n",
      "Speed: 6.5ms preprocess, 26.1ms inference, 3.5ms postprocess per image at shape (1, 3, 640, 640)\n",
      "\n",
      "image 1/1 e:\\Data5M\\NYC_500\\front\\103333100121003301_x2.jpg: 640x640 6 cars, 22.3ms\n",
      "Speed: 6.0ms preprocess, 22.3ms inference, 3.5ms postprocess per image at shape (1, 3, 640, 640)\n",
      "\n",
      "image 1/1 e:\\Data5M\\NYC_500\\left\\103333100121003310_x2.jpg: 640x640 1 bench, 24.2ms\n",
      "Speed: 5.0ms preprocess, 24.2ms inference, 3.0ms postprocess per image at shape (1, 3, 640, 640)\n",
      "\n",
      "image 1/1 e:\\Data5M\\NYC_500\\back\\103333100121003303_x2.jpg: 640x640 2 cars, 1 frisbee, 22.1ms\n",
      "Speed: 5.0ms preprocess, 22.1ms inference, 4.5ms postprocess per image at shape (1, 3, 640, 640)\n",
      "\n",
      "image 1/1 e:\\Data5M\\NYC_500\\right\\103333100121003302_x2.jpg: 640x640 1 car, 21.0ms\n",
      "Speed: 5.0ms preprocess, 21.0ms inference, 3.5ms postprocess per image at shape (1, 3, 640, 640)\n",
      "\n",
      "image 1/1 e:\\Data5M\\NYC_500\\front\\103332303102131001_x2.jpg: 640x640 4 cars, 29.6ms\n",
      "Speed: 10.5ms preprocess, 29.6ms inference, 4.0ms postprocess per image at shape (1, 3, 640, 640)\n",
      "\n",
      "image 1/1 e:\\Data5M\\NYC_500\\left\\103332303102131010_x2.jpg: 640x640 2 cars, 27.0ms\n",
      "Speed: 4.0ms preprocess, 27.0ms inference, 3.0ms postprocess per image at shape (1, 3, 640, 640)\n",
      "\n",
      "image 1/1 e:\\Data5M\\NYC_500\\back\\103332303102131003_x2.jpg: 640x640 3 cars, 22.0ms\n",
      "Speed: 5.5ms preprocess, 22.0ms inference, 3.0ms postprocess per image at shape (1, 3, 640, 640)\n",
      "\n",
      "image 1/1 e:\\Data5M\\NYC_500\\right\\103332303102131002_x2.jpg: 640x640 1 car, 1 clock, 16.5ms\n",
      "Speed: 3.5ms preprocess, 16.5ms inference, 2.5ms postprocess per image at shape (1, 3, 640, 640)\n",
      "\n",
      "image 1/1 e:\\Data5M\\NYC_500\\front\\103330322133303201_x2.jpg: 640x640 1 person, 4 cars, 1 toilet, 21.0ms\n",
      "Speed: 6.0ms preprocess, 21.0ms inference, 3.5ms postprocess per image at shape (1, 3, 640, 640)\n",
      "\n",
      "image 1/1 e:\\Data5M\\NYC_500\\left\\103330322133303210_x2.jpg: 640x640 1 person, 5 cars, 21.0ms\n",
      "Speed: 6.5ms preprocess, 21.0ms inference, 3.0ms postprocess per image at shape (1, 3, 640, 640)\n",
      "\n",
      "image 1/1 e:\\Data5M\\NYC_500\\back\\103330322133303203_x2.jpg: 640x640 2 bicycles, 5 cars, 26.6ms\n",
      "Speed: 6.0ms preprocess, 26.6ms inference, 2.0ms postprocess per image at shape (1, 3, 640, 640)\n",
      "\n",
      "image 1/1 e:\\Data5M\\NYC_500\\right\\103330322133303202_x2.jpg: 640x640 2 cars, 1 truck, 1 fire hydrant, 20.0ms\n",
      "Speed: 5.0ms preprocess, 20.0ms inference, 1.5ms postprocess per image at shape (1, 3, 640, 640)\n",
      "\n",
      "image 1/1 e:\\Data5M\\NYC_500\\front\\103331302230102301_x2.jpg: 640x640 2 persons, 4 cars, 1 backpack, 1 umbrella, 19.9ms\n",
      "Speed: 5.0ms preprocess, 19.9ms inference, 2.4ms postprocess per image at shape (1, 3, 640, 640)\n",
      "\n",
      "image 1/1 e:\\Data5M\\NYC_500\\left\\103331302230102310_x2.jpg: 640x640 3 cars, 54.7ms\n",
      "Speed: 5.5ms preprocess, 54.7ms inference, 4.5ms postprocess per image at shape (1, 3, 640, 640)\n",
      "\n",
      "image 1/1 e:\\Data5M\\NYC_500\\back\\103331302230102303_x2.jpg: 640x640 3 persons, 2 cars, 48.2ms\n",
      "Speed: 7.5ms preprocess, 48.2ms inference, 3.0ms postprocess per image at shape (1, 3, 640, 640)\n",
      "\n",
      "image 1/1 e:\\Data5M\\NYC_500\\right\\103331302230102302_x2.jpg: 640x640 1 person, 1 handbag, 18.8ms\n",
      "Speed: 5.0ms preprocess, 18.8ms inference, 3.0ms postprocess per image at shape (1, 3, 640, 640)\n",
      "\n",
      "image 1/1 e:\\Data5M\\NYC_500\\front\\103331233200302201_x2.jpg: 640x640 3 cars, 1 toilet, 23.7ms\n",
      "Speed: 6.0ms preprocess, 23.7ms inference, 3.5ms postprocess per image at shape (1, 3, 640, 640)\n",
      "\n",
      "image 1/1 e:\\Data5M\\NYC_500\\left\\103331233200302210_x2.jpg: 640x640 1 car, 21.8ms\n",
      "Speed: 6.5ms preprocess, 21.8ms inference, 3.0ms postprocess per image at shape (1, 3, 640, 640)\n",
      "\n",
      "image 1/1 e:\\Data5M\\NYC_500\\back\\103331233200302203_x2.jpg: 640x640 4 cars, 1 bus, 1 truck, 1 frisbee, 19.0ms\n",
      "Speed: 6.0ms preprocess, 19.0ms inference, 3.0ms postprocess per image at shape (1, 3, 640, 640)\n",
      "\n",
      "image 1/1 e:\\Data5M\\NYC_500\\right\\103331233200302202_x2.jpg: 640x640 3 cars, 27.1ms\n",
      "Speed: 6.5ms preprocess, 27.1ms inference, 3.5ms postprocess per image at shape (1, 3, 640, 640)\n",
      "\n",
      "image 1/1 e:\\Data5M\\NYC_500\\front\\103332103031311001_x2.jpg: 640x640 1 bicycle, 3 cars, 1 truck, 19.9ms\n",
      "Speed: 5.0ms preprocess, 19.9ms inference, 4.0ms postprocess per image at shape (1, 3, 640, 640)\n",
      "\n",
      "image 1/1 e:\\Data5M\\NYC_500\\left\\103332103031311010_x2.jpg: 640x640 1 person, 1 car, 1 bus, 1 truck, 23.0ms\n",
      "Speed: 6.0ms preprocess, 23.0ms inference, 5.2ms postprocess per image at shape (1, 3, 640, 640)\n",
      "\n",
      "image 1/1 e:\\Data5M\\NYC_500\\back\\103332103031311003_x2.jpg: 640x640 1 person, 1 car, 1 bus, 1 traffic light, 23.0ms\n",
      "Speed: 5.5ms preprocess, 23.0ms inference, 3.5ms postprocess per image at shape (1, 3, 640, 640)\n",
      "\n",
      "image 1/1 e:\\Data5M\\NYC_500\\right\\103332103031311002_x2.jpg: 640x640 3 persons, 2 cars, 1 motorcycle, 21.1ms\n",
      "Speed: 5.0ms preprocess, 21.1ms inference, 4.0ms postprocess per image at shape (1, 3, 640, 640)\n",
      "\n",
      "image 1/1 e:\\Data5M\\NYC_500\\front\\103332303122032301_x2.jpg: 640x640 6 cars, 30.6ms\n",
      "Speed: 7.0ms preprocess, 30.6ms inference, 3.5ms postprocess per image at shape (1, 3, 640, 640)\n",
      "\n",
      "image 1/1 e:\\Data5M\\NYC_500\\left\\103332303122032310_x2.jpg: 640x640 3 cars, 33.6ms\n",
      "Speed: 12.5ms preprocess, 33.6ms inference, 2.0ms postprocess per image at shape (1, 3, 640, 640)\n",
      "\n",
      "image 1/1 e:\\Data5M\\NYC_500\\back\\103332303122032303_x2.jpg: 640x640 6 cars, 1 frisbee, 24.6ms\n",
      "Speed: 5.0ms preprocess, 24.6ms inference, 3.0ms postprocess per image at shape (1, 3, 640, 640)\n",
      "\n",
      "image 1/1 e:\\Data5M\\NYC_500\\right\\103332303122032302_x2.jpg: 640x640 3 cars, 25.1ms\n",
      "Speed: 4.0ms preprocess, 25.1ms inference, 3.0ms postprocess per image at shape (1, 3, 640, 640)\n",
      "\n",
      "image 1/1 e:\\Data5M\\NYC_500\\front\\103330313111032001_x2.jpg: 640x640 3 cars, 2 trucks, 1 toilet, 19.0ms\n",
      "Speed: 6.0ms preprocess, 19.0ms inference, 4.5ms postprocess per image at shape (1, 3, 640, 640)\n",
      "\n",
      "image 1/1 e:\\Data5M\\NYC_500\\left\\103330313111032010_x2.jpg: 640x640 1 car, 19.8ms\n",
      "Speed: 6.5ms preprocess, 19.8ms inference, 2.0ms postprocess per image at shape (1, 3, 640, 640)\n",
      "\n",
      "image 1/1 e:\\Data5M\\NYC_500\\back\\103330313111032003_x2.jpg: 640x640 2 persons, 1 bicycle, 2 cars, 25.0ms\n",
      "Speed: 5.5ms preprocess, 25.0ms inference, 4.5ms postprocess per image at shape (1, 3, 640, 640)\n",
      "\n",
      "image 1/1 e:\\Data5M\\NYC_500\\right\\103330313111032002_x2.jpg: 640x640 2 persons, 1 car, 19.1ms\n",
      "Speed: 7.0ms preprocess, 19.1ms inference, 3.5ms postprocess per image at shape (1, 3, 640, 640)\n",
      "\n",
      "image 1/1 e:\\Data5M\\NYC_500\\front\\103331302210030001_x2.jpg: 640x640 2 cars, 1 truck, 1 toilet, 19.0ms\n",
      "Speed: 5.5ms preprocess, 19.0ms inference, 2.0ms postprocess per image at shape (1, 3, 640, 640)\n",
      "\n",
      "image 1/1 e:\\Data5M\\NYC_500\\left\\103331302210030010_x2.jpg: 640x640 2 persons, 1 car, 69.2ms\n",
      "Speed: 6.5ms preprocess, 69.2ms inference, 3.0ms postprocess per image at shape (1, 3, 640, 640)\n",
      "\n",
      "image 1/1 e:\\Data5M\\NYC_500\\back\\103331302210030003_x2.jpg: 640x640 3 persons, 2 cars, 1 handbag, 25.1ms\n",
      "Speed: 11.5ms preprocess, 25.1ms inference, 5.5ms postprocess per image at shape (1, 3, 640, 640)\n",
      "\n",
      "image 1/1 e:\\Data5M\\NYC_500\\right\\103331302210030002_x2.jpg: 640x640 1 person, 1 car, 1 fire hydrant, 21.9ms\n",
      "Speed: 4.0ms preprocess, 21.9ms inference, 2.5ms postprocess per image at shape (1, 3, 640, 640)\n",
      "\n",
      "image 1/1 e:\\Data5M\\NYC_500\\front\\103332323020101001_x2.jpg: 640x640 2 persons, 4 cars, 1 bus, 1 truck, 1 traffic light, 1 potted plant, 20.7ms\n",
      "Speed: 6.0ms preprocess, 20.7ms inference, 2.0ms postprocess per image at shape (1, 3, 640, 640)\n",
      "\n",
      "image 1/1 e:\\Data5M\\NYC_500\\left\\103332323020101010_x2.jpg: 640x640 4 persons, 1 bicycle, 20.6ms\n",
      "Speed: 5.5ms preprocess, 20.6ms inference, 4.0ms postprocess per image at shape (1, 3, 640, 640)\n",
      "\n",
      "image 1/1 e:\\Data5M\\NYC_500\\back\\103332323020101003_x2.jpg: 640x640 4 cars, 1 fire hydrant, 1 potted plant, 22.1ms\n",
      "Speed: 5.0ms preprocess, 22.1ms inference, 3.5ms postprocess per image at shape (1, 3, 640, 640)\n",
      "\n",
      "image 1/1 e:\\Data5M\\NYC_500\\right\\103332323020101002_x2.jpg: 640x640 4 cars, 21.6ms\n",
      "Speed: 5.0ms preprocess, 21.6ms inference, 2.3ms postprocess per image at shape (1, 3, 640, 640)\n",
      "\n",
      "image 1/1 e:\\Data5M\\NYC_500\\front\\103331233123033201_x2.jpg: 640x640 2 cars, 2 buss, 1 truck, 22.1ms\n",
      "Speed: 4.0ms preprocess, 22.1ms inference, 5.1ms postprocess per image at shape (1, 3, 640, 640)\n",
      "\n",
      "image 1/1 e:\\Data5M\\NYC_500\\left\\103331233123033210_x2.jpg: 640x640 3 cars, 26.7ms\n",
      "Speed: 5.2ms preprocess, 26.7ms inference, 3.0ms postprocess per image at shape (1, 3, 640, 640)\n",
      "\n",
      "image 1/1 e:\\Data5M\\NYC_500\\back\\103331233123033203_x2.jpg: 640x640 2 persons, 3 cars, 2 trucks, 2 traffic lights, 1 frisbee, 26.6ms\n",
      "Speed: 34.6ms preprocess, 26.6ms inference, 3.0ms postprocess per image at shape (1, 3, 640, 640)\n",
      "\n",
      "image 1/1 e:\\Data5M\\NYC_500\\right\\103331233123033202_x2.jpg: 640x640 2 persons, 1 bicycle, 1 car, 1 motorcycle, 1 truck, 16.5ms\n",
      "Speed: 4.5ms preprocess, 16.5ms inference, 4.5ms postprocess per image at shape (1, 3, 640, 640)\n",
      "\n",
      "image 1/1 e:\\Data5M\\NYC_500\\front\\103331231320010301_x2.jpg: 640x640 1 car, 1 toilet, 23.6ms\n",
      "Speed: 7.3ms preprocess, 23.6ms inference, 3.5ms postprocess per image at shape (1, 3, 640, 640)\n",
      "\n",
      "image 1/1 e:\\Data5M\\NYC_500\\left\\103331231320010310_x2.jpg: 640x640 (no detections), 24.0ms\n",
      "Speed: 5.0ms preprocess, 24.0ms inference, 2.0ms postprocess per image at shape (1, 3, 640, 640)\n",
      "\n",
      "image 1/1 e:\\Data5M\\NYC_500\\back\\103331231320010303_x2.jpg: 640x640 2 cars, 21.6ms\n",
      "Speed: 5.0ms preprocess, 21.6ms inference, 3.5ms postprocess per image at shape (1, 3, 640, 640)\n",
      "\n",
      "image 1/1 e:\\Data5M\\NYC_500\\right\\103331231320010302_x2.jpg: 640x640 1 car, 1 bottle, 18.5ms\n",
      "Speed: 6.5ms preprocess, 18.5ms inference, 4.5ms postprocess per image at shape (1, 3, 640, 640)\n",
      "\n",
      "image 1/1 e:\\Data5M\\NYC_500\\front\\110120222333331201_x2.jpg: 640x640 1 bus, 1 stop sign, 25.1ms\n",
      "Speed: 5.5ms preprocess, 25.1ms inference, 3.0ms postprocess per image at shape (1, 3, 640, 640)\n",
      "\n",
      "image 1/1 e:\\Data5M\\NYC_500\\left\\110120222333331210_x2.jpg: 640x640 4 persons, 1 car, 2 traffic lights, 1 umbrella, 24.1ms\n",
      "Speed: 5.5ms preprocess, 24.1ms inference, 2.0ms postprocess per image at shape (1, 3, 640, 640)\n",
      "\n",
      "image 1/1 e:\\Data5M\\NYC_500\\back\\110120222333331203_x2.jpg: 640x640 2 persons, 1 car, 1 traffic light, 1 umbrella, 1 frisbee, 19.8ms\n",
      "Speed: 5.0ms preprocess, 19.8ms inference, 2.0ms postprocess per image at shape (1, 3, 640, 640)\n",
      "\n",
      "image 1/1 e:\\Data5M\\NYC_500\\right\\110120222333331202_x2.jpg: 640x640 7 persons, 1 traffic light, 1 stop sign, 78.8ms\n",
      "Speed: 6.5ms preprocess, 78.8ms inference, 4.0ms postprocess per image at shape (1, 3, 640, 640)\n",
      "\n",
      "image 1/1 e:\\Data5M\\NYC_500\\front\\103331223123233101_x2.jpg: 640x640 4 cars, 1 truck, 1 toilet, 26.6ms\n",
      "Speed: 5.5ms preprocess, 26.6ms inference, 2.5ms postprocess per image at shape (1, 3, 640, 640)\n",
      "\n",
      "image 1/1 e:\\Data5M\\NYC_500\\left\\103331223123233110_x2.jpg: 640x640 2 cars, 25.4ms\n",
      "Speed: 5.0ms preprocess, 25.4ms inference, 2.0ms postprocess per image at shape (1, 3, 640, 640)\n",
      "\n",
      "image 1/1 e:\\Data5M\\NYC_500\\back\\103331223123233103_x2.jpg: 640x640 3 cars, 37.7ms\n",
      "Speed: 5.5ms preprocess, 37.7ms inference, 2.0ms postprocess per image at shape (1, 3, 640, 640)\n",
      "\n",
      "image 1/1 e:\\Data5M\\NYC_500\\right\\103331223123233102_x2.jpg: 640x640 1 car, 19.0ms\n",
      "Speed: 5.5ms preprocess, 19.0ms inference, 5.0ms postprocess per image at shape (1, 3, 640, 640)\n",
      "\n",
      "image 1/1 e:\\Data5M\\NYC_500\\front\\103330322121122301_x2.jpg: 640x640 4 cars, 1 toilet, 26.0ms\n",
      "Speed: 7.5ms preprocess, 26.0ms inference, 3.0ms postprocess per image at shape (1, 3, 640, 640)\n",
      "\n",
      "image 1/1 e:\\Data5M\\NYC_500\\left\\103330322121122310_x2.jpg: 640x640 1 person, 5 cars, 22.1ms\n",
      "Speed: 4.5ms preprocess, 22.1ms inference, 4.0ms postprocess per image at shape (1, 3, 640, 640)\n",
      "\n",
      "image 1/1 e:\\Data5M\\NYC_500\\back\\103330322121122303_x2.jpg: 640x640 2 cars, 25.6ms\n",
      "Speed: 5.0ms preprocess, 25.6ms inference, 3.0ms postprocess per image at shape (1, 3, 640, 640)\n",
      "\n",
      "image 1/1 e:\\Data5M\\NYC_500\\right\\103330322121122302_x2.jpg: 640x640 2 persons, 6 cars, 21.1ms\n",
      "Speed: 5.5ms preprocess, 21.1ms inference, 2.0ms postprocess per image at shape (1, 3, 640, 640)\n",
      "\n",
      "image 1/1 e:\\Data5M\\NYC_500\\front\\103330331032010201_x2.jpg: 640x640 1 person, 4 cars, 1 truck, 1 toilet, 20.0ms\n",
      "Speed: 5.5ms preprocess, 20.0ms inference, 4.0ms postprocess per image at shape (1, 3, 640, 640)\n",
      "\n",
      "image 1/1 e:\\Data5M\\NYC_500\\left\\103330331032010210_x2.jpg: 640x640 1 person, 1 car, 23.2ms\n",
      "Speed: 6.0ms preprocess, 23.2ms inference, 3.0ms postprocess per image at shape (1, 3, 640, 640)\n",
      "\n",
      "image 1/1 e:\\Data5M\\NYC_500\\back\\103330331032010203_x2.jpg: 640x640 1 bicycle, 1 car, 1 motorcycle, 1 fire hydrant, 65.2ms\n",
      "Speed: 7.0ms preprocess, 65.2ms inference, 3.0ms postprocess per image at shape (1, 3, 640, 640)\n",
      "\n",
      "image 1/1 e:\\Data5M\\NYC_500\\right\\103330331032010202_x2.jpg: 640x640 1 person, 28.6ms\n",
      "Speed: 10.5ms preprocess, 28.6ms inference, 3.0ms postprocess per image at shape (1, 3, 640, 640)\n",
      "\n",
      "image 1/1 e:\\Data5M\\NYC_500\\front\\103330233201112101_x2.jpg: 640x640 1 person, 2 bicycles, 6 cars, 1 truck, 21.1ms\n",
      "Speed: 5.0ms preprocess, 21.1ms inference, 2.0ms postprocess per image at shape (1, 3, 640, 640)\n",
      "\n",
      "image 1/1 e:\\Data5M\\NYC_500\\left\\103330233201112110_x2.jpg: 640x640 1 person, 3 cars, 20.0ms\n",
      "Speed: 5.5ms preprocess, 20.0ms inference, 3.0ms postprocess per image at shape (1, 3, 640, 640)\n",
      "\n",
      "image 1/1 e:\\Data5M\\NYC_500\\back\\103330233201112103_x2.jpg: 640x640 6 cars, 1 motorcycle, 21.4ms\n",
      "Speed: 7.0ms preprocess, 21.4ms inference, 3.5ms postprocess per image at shape (1, 3, 640, 640)\n",
      "\n",
      "image 1/1 e:\\Data5M\\NYC_500\\right\\103330233201112102_x2.jpg: 640x640 1 person, 2 cars, 20.1ms\n",
      "Speed: 6.2ms preprocess, 20.1ms inference, 3.0ms postprocess per image at shape (1, 3, 640, 640)\n",
      "\n",
      "image 1/1 e:\\Data5M\\NYC_500\\front\\103331220023133201_x2.jpg: 640x640 2 persons, 2 cars, 1 truck, 1 toilet, 19.4ms\n",
      "Speed: 6.2ms preprocess, 19.4ms inference, 3.0ms postprocess per image at shape (1, 3, 640, 640)\n",
      "\n",
      "image 1/1 e:\\Data5M\\NYC_500\\left\\103331220023133210_x2.jpg: 640x640 1 person, 1 car, 2 potted plants, 20.7ms\n",
      "Speed: 6.5ms preprocess, 20.7ms inference, 3.5ms postprocess per image at shape (1, 3, 640, 640)\n",
      "\n",
      "image 1/1 e:\\Data5M\\NYC_500\\back\\103331220023133203_x2.jpg: 640x640 1 bicycle, 2 cars, 1 motorcycle, 1 traffic light, 24.1ms\n",
      "Speed: 6.5ms preprocess, 24.1ms inference, 4.6ms postprocess per image at shape (1, 3, 640, 640)\n",
      "\n",
      "image 1/1 e:\\Data5M\\NYC_500\\right\\103331220023133202_x2.jpg: 640x640 (no detections), 32.1ms\n",
      "Speed: 10.5ms preprocess, 32.1ms inference, 4.0ms postprocess per image at shape (1, 3, 640, 640)\n",
      "\n",
      "image 1/1 e:\\Data5M\\NYC_500\\front\\103331103322012201_x2.jpg: 640x640 1 truck, 97.0ms\n",
      "Speed: 9.5ms preprocess, 97.0ms inference, 5.5ms postprocess per image at shape (1, 3, 640, 640)\n",
      "\n",
      "image 1/1 e:\\Data5M\\NYC_500\\left\\103331103322012210_x2.jpg: 640x640 (no detections), 39.1ms\n",
      "Speed: 8.5ms preprocess, 39.1ms inference, 2.0ms postprocess per image at shape (1, 3, 640, 640)\n",
      "\n",
      "image 1/1 e:\\Data5M\\NYC_500\\back\\103331103322012203_x2.jpg: 640x640 2 cars, 1 frisbee, 31.1ms\n",
      "Speed: 5.5ms preprocess, 31.1ms inference, 4.0ms postprocess per image at shape (1, 3, 640, 640)\n",
      "\n",
      "image 1/1 e:\\Data5M\\NYC_500\\right\\103331103322012202_x2.jpg: 640x640 1 person, 3 cars, 33.2ms\n",
      "Speed: 11.0ms preprocess, 33.2ms inference, 4.0ms postprocess per image at shape (1, 3, 640, 640)\n",
      "\n",
      "image 1/1 e:\\Data5M\\NYC_500\\front\\103330323100113301_x2.jpg: 640x640 3 cars, 1 toilet, 29.6ms\n",
      "Speed: 6.5ms preprocess, 29.6ms inference, 5.0ms postprocess per image at shape (1, 3, 640, 640)\n",
      "\n",
      "image 1/1 e:\\Data5M\\NYC_500\\left\\103330323100113310_x2.jpg: 640x640 1 person, 2 cars, 1 motorcycle, 57.2ms\n",
      "Speed: 11.1ms preprocess, 57.2ms inference, 5.5ms postprocess per image at shape (1, 3, 640, 640)\n",
      "\n",
      "image 1/1 e:\\Data5M\\NYC_500\\back\\103330323100113303_x2.jpg: 640x640 5 cars, 1 traffic light, 49.7ms\n",
      "Speed: 6.0ms preprocess, 49.7ms inference, 7.5ms postprocess per image at shape (1, 3, 640, 640)\n",
      "\n",
      "image 1/1 e:\\Data5M\\NYC_500\\right\\103330323100113302_x2.jpg: 640x640 1 person, 2 cars, 1 umbrella, 24.6ms\n",
      "Speed: 6.0ms preprocess, 24.6ms inference, 3.0ms postprocess per image at shape (1, 3, 640, 640)\n",
      "\n",
      "image 1/1 e:\\Data5M\\NYC_500\\front\\103331222102002101_x2.jpg: 640x640 5 cars, 1 truck, 1 toilet, 51.2ms\n",
      "Speed: 6.2ms preprocess, 51.2ms inference, 2.0ms postprocess per image at shape (1, 3, 640, 640)\n",
      "\n",
      "image 1/1 e:\\Data5M\\NYC_500\\left\\103331222102002110_x2.jpg: 640x640 1 car, 31.7ms\n",
      "Speed: 10.5ms preprocess, 31.7ms inference, 4.0ms postprocess per image at shape (1, 3, 640, 640)\n",
      "\n",
      "image 1/1 e:\\Data5M\\NYC_500\\back\\103331222102002103_x2.jpg: 640x640 4 persons, 2 cars, 1 motorcycle, 1 truck, 78.3ms\n",
      "Speed: 71.3ms preprocess, 78.3ms inference, 6.5ms postprocess per image at shape (1, 3, 640, 640)\n",
      "\n",
      "image 1/1 e:\\Data5M\\NYC_500\\right\\103331222102002102_x2.jpg: 640x640 5 persons, 4 umbrellas, 5 potted plants, 26.6ms\n",
      "Speed: 11.5ms preprocess, 26.6ms inference, 7.0ms postprocess per image at shape (1, 3, 640, 640)\n",
      "\n",
      "image 1/1 e:\\Data5M\\NYC_500\\front\\110112331233223101_x2.jpg: 640x640 4 persons, 1 bicycle, 3 cars, 1 clock, 30.6ms\n",
      "Speed: 12.0ms preprocess, 30.6ms inference, 4.5ms postprocess per image at shape (1, 3, 640, 640)\n",
      "\n",
      "image 1/1 e:\\Data5M\\NYC_500\\left\\110112331233223110_x2.jpg: 640x640 1 person, 1 bicycle, 1 motorcycle, 36.7ms\n",
      "Speed: 9.0ms preprocess, 36.7ms inference, 3.5ms postprocess per image at shape (1, 3, 640, 640)\n",
      "\n",
      "image 1/1 e:\\Data5M\\NYC_500\\back\\110112331233223103_x2.jpg: 640x640 4 cars, 32.6ms\n",
      "Speed: 11.0ms preprocess, 32.6ms inference, 4.0ms postprocess per image at shape (1, 3, 640, 640)\n",
      "\n",
      "image 1/1 e:\\Data5M\\NYC_500\\right\\110112331233223102_x2.jpg: 640x640 6 persons, 3 cars, 26.1ms\n",
      "Speed: 9.0ms preprocess, 26.1ms inference, 6.2ms postprocess per image at shape (1, 3, 640, 640)\n",
      "\n",
      "image 1/1 e:\\Data5M\\NYC_500\\front\\103331013031200101_x2.jpg: 640x640 8 cars, 25.9ms\n",
      "Speed: 5.0ms preprocess, 25.9ms inference, 2.0ms postprocess per image at shape (1, 3, 640, 640)\n",
      "\n",
      "image 1/1 e:\\Data5M\\NYC_500\\left\\103331013031200110_x2.jpg: 640x640 1 person, 2 cars, 34.4ms\n",
      "Speed: 11.0ms preprocess, 34.4ms inference, 2.0ms postprocess per image at shape (1, 3, 640, 640)\n",
      "\n",
      "image 1/1 e:\\Data5M\\NYC_500\\back\\103331013031200103_x2.jpg: 640x640 5 cars, 1 boat, 39.2ms\n",
      "Speed: 9.5ms preprocess, 39.2ms inference, 3.0ms postprocess per image at shape (1, 3, 640, 640)\n",
      "\n",
      "image 1/1 e:\\Data5M\\NYC_500\\right\\103331013031200102_x2.jpg: 640x640 2 cars, 28.6ms\n",
      "Speed: 9.5ms preprocess, 28.6ms inference, 3.0ms postprocess per image at shape (1, 3, 640, 640)\n",
      "\n",
      "image 1/1 e:\\Data5M\\NYC_500\\front\\110120301031031301_x2.jpg: 640x640 1 bus, 1 truck, 2 fire hydrants, 1 umbrella, 82.8ms\n",
      "Speed: 7.5ms preprocess, 82.8ms inference, 10.5ms postprocess per image at shape (1, 3, 640, 640)\n",
      "\n",
      "image 1/1 e:\\Data5M\\NYC_500\\left\\110120301031031310_x2.jpg: 640x640 1 car, 2 potted plants, 32.6ms\n",
      "Speed: 7.5ms preprocess, 32.6ms inference, 2.0ms postprocess per image at shape (1, 3, 640, 640)\n",
      "\n",
      "image 1/1 e:\\Data5M\\NYC_500\\back\\110120301031031303_x2.jpg: 640x640 1 car, 27.6ms\n",
      "Speed: 4.5ms preprocess, 27.6ms inference, 4.5ms postprocess per image at shape (1, 3, 640, 640)\n",
      "\n",
      "image 1/1 e:\\Data5M\\NYC_500\\right\\110120301031031302_x2.jpg: 640x640 (no detections), 38.1ms\n",
      "Speed: 8.5ms preprocess, 38.1ms inference, 3.0ms postprocess per image at shape (1, 3, 640, 640)\n",
      "\n",
      "image 1/1 e:\\Data5M\\NYC_500\\front\\103330233121312301_x2.jpg: 640x640 1 person, 4 cars, 26.2ms\n",
      "Speed: 5.5ms preprocess, 26.2ms inference, 2.0ms postprocess per image at shape (1, 3, 640, 640)\n",
      "\n",
      "image 1/1 e:\\Data5M\\NYC_500\\left\\103330233121312310_x2.jpg: 640x640 5 persons, 1 bicycle, 2 cars, 25.1ms\n",
      "Speed: 4.5ms preprocess, 25.1ms inference, 4.5ms postprocess per image at shape (1, 3, 640, 640)\n",
      "\n",
      "image 1/1 e:\\Data5M\\NYC_500\\back\\103330233121312303_x2.jpg: 640x640 3 persons, 1 bicycle, 4 cars, 2 buss, 29.4ms\n",
      "Speed: 7.5ms preprocess, 29.4ms inference, 4.0ms postprocess per image at shape (1, 3, 640, 640)\n",
      "\n",
      "image 1/1 e:\\Data5M\\NYC_500\\right\\103330233121312302_x2.jpg: 640x640 1 person, 3 bicycles, 45.1ms\n",
      "Speed: 6.5ms preprocess, 45.1ms inference, 14.1ms postprocess per image at shape (1, 3, 640, 640)\n",
      "\n",
      "image 1/1 e:\\Data5M\\NYC_500\\front\\103330333133202101_x2.jpg: 640x640 2 cars, 1 bus, 1 frisbee, 1 toilet, 52.7ms\n",
      "Speed: 7.5ms preprocess, 52.7ms inference, 3.5ms postprocess per image at shape (1, 3, 640, 640)\n",
      "\n",
      "image 1/1 e:\\Data5M\\NYC_500\\left\\103330333133202110_x2.jpg: 640x640 4 persons, 1 bicycle, 3 cars, 2 motorcycles, 24.1ms\n",
      "Speed: 6.3ms preprocess, 24.1ms inference, 2.5ms postprocess per image at shape (1, 3, 640, 640)\n",
      "\n",
      "image 1/1 e:\\Data5M\\NYC_500\\back\\103330333133202103_x2.jpg: 640x640 6 cars, 24.9ms\n",
      "Speed: 6.5ms preprocess, 24.9ms inference, 5.5ms postprocess per image at shape (1, 3, 640, 640)\n",
      "\n",
      "image 1/1 e:\\Data5M\\NYC_500\\right\\103330333133202102_x2.jpg: 640x640 2 persons, 2 cars, 1 traffic light, 25.1ms\n",
      "Speed: 5.5ms preprocess, 25.1ms inference, 4.0ms postprocess per image at shape (1, 3, 640, 640)\n",
      "\n",
      "image 1/1 e:\\Data5M\\NYC_500\\front\\103331013000201101_x2.jpg: 640x640 6 cars, 1 bus, 1 toilet, 26.6ms\n",
      "Speed: 7.7ms preprocess, 26.6ms inference, 5.0ms postprocess per image at shape (1, 3, 640, 640)\n",
      "\n",
      "image 1/1 e:\\Data5M\\NYC_500\\left\\103331013000201110_x2.jpg: 640x640 1 car, 24.1ms\n",
      "Speed: 11.5ms preprocess, 24.1ms inference, 2.0ms postprocess per image at shape (1, 3, 640, 640)\n",
      "\n",
      "image 1/1 e:\\Data5M\\NYC_500\\back\\103331013000201103_x2.jpg: 640x640 2 persons, 5 cars, 1 motorcycle, 24.8ms\n",
      "Speed: 7.0ms preprocess, 24.8ms inference, 4.0ms postprocess per image at shape (1, 3, 640, 640)\n",
      "\n",
      "image 1/1 e:\\Data5M\\NYC_500\\right\\103331013000201102_x2.jpg: 640x640 2 cars, 25.1ms\n",
      "Speed: 6.0ms preprocess, 25.1ms inference, 4.0ms postprocess per image at shape (1, 3, 640, 640)\n",
      "\n",
      "image 1/1 e:\\Data5M\\NYC_500\\front\\110120213230210301_x2.jpg: 640x640 2 cars, 23.1ms\n",
      "Speed: 5.5ms preprocess, 23.1ms inference, 3.5ms postprocess per image at shape (1, 3, 640, 640)\n",
      "\n",
      "image 1/1 e:\\Data5M\\NYC_500\\left\\110120213230210310_x2.jpg: 640x640 1 bicycle, 2 cars, 1 potted plant, 107.4ms\n",
      "Speed: 5.5ms preprocess, 107.4ms inference, 6.0ms postprocess per image at shape (1, 3, 640, 640)\n",
      "\n",
      "image 1/1 e:\\Data5M\\NYC_500\\back\\110120213230210303_x2.jpg: 640x640 1 potted plant, 23.1ms\n",
      "Speed: 5.5ms preprocess, 23.1ms inference, 2.0ms postprocess per image at shape (1, 3, 640, 640)\n",
      "\n",
      "image 1/1 e:\\Data5M\\NYC_500\\right\\110120213230210302_x2.jpg: 640x640 (no detections), 21.0ms\n",
      "Speed: 6.5ms preprocess, 21.0ms inference, 1.0ms postprocess per image at shape (1, 3, 640, 640)\n",
      "\n",
      "image 1/1 e:\\Data5M\\NYC_500\\front\\103332323012130301_x2.jpg: 640x640 3 persons, 2 bicycles, 4 cars, 1 traffic light, 1 potted plant, 27.2ms\n",
      "Speed: 4.5ms preprocess, 27.2ms inference, 4.0ms postprocess per image at shape (1, 3, 640, 640)\n",
      "\n",
      "image 1/1 e:\\Data5M\\NYC_500\\left\\103332323012130310_x2.jpg: 640x640 2 persons, 2 bicycles, 1 motorcycle, 1 truck, 1 traffic light, 2 potted plants, 34.6ms\n",
      "Speed: 7.0ms preprocess, 34.6ms inference, 3.0ms postprocess per image at shape (1, 3, 640, 640)\n",
      "\n",
      "image 1/1 e:\\Data5M\\NYC_500\\back\\103332323012130303_x2.jpg: 640x640 4 cars, 21.1ms\n",
      "Speed: 4.5ms preprocess, 21.1ms inference, 2.0ms postprocess per image at shape (1, 3, 640, 640)\n",
      "\n",
      "image 1/1 e:\\Data5M\\NYC_500\\right\\103332323012130302_x2.jpg: 640x640 4 persons, 3 cars, 1 fire hydrant, 20.1ms\n",
      "Speed: 7.0ms preprocess, 20.1ms inference, 5.0ms postprocess per image at shape (1, 3, 640, 640)\n",
      "\n",
      "image 1/1 e:\\Data5M\\NYC_500\\front\\110112233311212301_x2.jpg: 640x640 6 cars, 21.9ms\n",
      "Speed: 6.5ms preprocess, 21.9ms inference, 4.0ms postprocess per image at shape (1, 3, 640, 640)\n",
      "\n",
      "image 1/1 e:\\Data5M\\NYC_500\\left\\110112233311212310_x2.jpg: 640x640 4 cars, 29.6ms\n",
      "Speed: 5.0ms preprocess, 29.6ms inference, 4.0ms postprocess per image at shape (1, 3, 640, 640)\n",
      "\n",
      "image 1/1 e:\\Data5M\\NYC_500\\back\\110112233311212303_x2.jpg: 640x640 8 cars, 28.6ms\n",
      "Speed: 8.5ms preprocess, 28.6ms inference, 3.0ms postprocess per image at shape (1, 3, 640, 640)\n",
      "\n",
      "image 1/1 e:\\Data5M\\NYC_500\\right\\110112233311212302_x2.jpg: 640x640 2 persons, 1 car, 133.0ms\n",
      "Speed: 12.5ms preprocess, 133.0ms inference, 13.1ms postprocess per image at shape (1, 3, 640, 640)\n",
      "\n",
      "image 1/1 e:\\Data5M\\NYC_500\\front\\110120231211122201_x2.jpg: 640x640 3 persons, 2 cars, 20.6ms\n",
      "Speed: 8.5ms preprocess, 20.6ms inference, 5.0ms postprocess per image at shape (1, 3, 640, 640)\n",
      "\n",
      "image 1/1 e:\\Data5M\\NYC_500\\left\\110120231211122210_x2.jpg: 640x640 2 persons, 1 bicycle, 1 potted plant, 28.6ms\n",
      "Speed: 7.5ms preprocess, 28.6ms inference, 5.5ms postprocess per image at shape (1, 3, 640, 640)\n",
      "\n",
      "image 1/1 e:\\Data5M\\NYC_500\\back\\110120231211122203_x2.jpg: 640x640 2 persons, 1 bicycle, 3 cars, 1 fire hydrant, 28.3ms\n",
      "Speed: 5.5ms preprocess, 28.3ms inference, 4.0ms postprocess per image at shape (1, 3, 640, 640)\n",
      "\n",
      "image 1/1 e:\\Data5M\\NYC_500\\right\\110120231211122202_x2.jpg: 640x640 (no detections), 24.6ms\n",
      "Speed: 6.5ms preprocess, 24.6ms inference, 1.0ms postprocess per image at shape (1, 3, 640, 640)\n",
      "\n",
      "image 1/1 e:\\Data5M\\NYC_500\\front\\103330322131320001_x2.jpg: 640x640 2 cars, 1 toilet, 22.9ms\n",
      "Speed: 8.5ms preprocess, 22.9ms inference, 7.5ms postprocess per image at shape (1, 3, 640, 640)\n",
      "\n",
      "image 1/1 e:\\Data5M\\NYC_500\\left\\103330322131320010_x2.jpg: 640x640 (no detections), 24.6ms\n",
      "Speed: 5.0ms preprocess, 24.6ms inference, 1.0ms postprocess per image at shape (1, 3, 640, 640)\n",
      "\n",
      "image 1/1 e:\\Data5M\\NYC_500\\back\\103330322131320003_x2.jpg: 640x640 2 cars, 60.7ms\n",
      "Speed: 6.5ms preprocess, 60.7ms inference, 3.0ms postprocess per image at shape (1, 3, 640, 640)\n",
      "\n",
      "image 1/1 e:\\Data5M\\NYC_500\\right\\103330322131320002_x2.jpg: 640x640 5 persons, 1 backpack, 1 handbag, 24.1ms\n",
      "Speed: 5.1ms preprocess, 24.1ms inference, 4.0ms postprocess per image at shape (1, 3, 640, 640)\n",
      "\n",
      "image 1/1 e:\\Data5M\\NYC_500\\front\\103330322201121101_x2.jpg: 640x640 3 persons, 1 car, 1 motorcycle, 1 bus, 1 traffic light, 1 toilet, 53.2ms\n",
      "Speed: 5.5ms preprocess, 53.2ms inference, 4.0ms postprocess per image at shape (1, 3, 640, 640)\n",
      "\n",
      "image 1/1 e:\\Data5M\\NYC_500\\left\\103330322201121110_x2.jpg: 640x640 3 persons, 2 cars, 1 motorcycle, 1 traffic light, 38.6ms\n",
      "Speed: 7.5ms preprocess, 38.6ms inference, 5.0ms postprocess per image at shape (1, 3, 640, 640)\n",
      "\n",
      "image 1/1 e:\\Data5M\\NYC_500\\back\\103330322201121103_x2.jpg: 640x640 5 persons, 1 bicycle, 3 cars, 18.1ms\n",
      "Speed: 5.0ms preprocess, 18.1ms inference, 3.5ms postprocess per image at shape (1, 3, 640, 640)\n",
      "\n",
      "image 1/1 e:\\Data5M\\NYC_500\\right\\103330322201121102_x2.jpg: 640x640 4 persons, 1 car, 1 bus, 1 truck, 1 traffic light, 26.6ms\n",
      "Speed: 7.5ms preprocess, 26.6ms inference, 3.0ms postprocess per image at shape (1, 3, 640, 640)\n",
      "\n",
      "image 1/1 e:\\Data5M\\NYC_500\\front\\103332313021012001_x2.jpg: 640x640 2 cars, 1 truck, 23.0ms\n",
      "Speed: 6.5ms preprocess, 23.0ms inference, 2.0ms postprocess per image at shape (1, 3, 640, 640)\n",
      "\n",
      "image 1/1 e:\\Data5M\\NYC_500\\left\\103332313021012010_x2.jpg: 640x640 1 car, 26.5ms\n",
      "Speed: 5.5ms preprocess, 26.5ms inference, 4.3ms postprocess per image at shape (1, 3, 640, 640)\n",
      "\n",
      "image 1/1 e:\\Data5M\\NYC_500\\back\\103332313021012003_x2.jpg: 640x640 1 car, 2 buss, 1 train, 26.3ms\n",
      "Speed: 6.5ms preprocess, 26.3ms inference, 2.0ms postprocess per image at shape (1, 3, 640, 640)\n",
      "\n",
      "image 1/1 e:\\Data5M\\NYC_500\\right\\103332313021012002_x2.jpg: 640x640 1 car, 21.0ms\n",
      "Speed: 6.5ms preprocess, 21.0ms inference, 4.0ms postprocess per image at shape (1, 3, 640, 640)\n",
      "\n",
      "image 1/1 e:\\Data5M\\NYC_500\\front\\103330230310221101_x2.jpg: 640x640 1 person, 9 cars, 1 boat, 23.0ms\n",
      "Speed: 6.0ms preprocess, 23.0ms inference, 4.4ms postprocess per image at shape (1, 3, 640, 640)\n",
      "\n",
      "image 1/1 e:\\Data5M\\NYC_500\\left\\103330230310221110_x2.jpg: 640x640 1 person, 4 cars, 49.2ms\n",
      "Speed: 4.5ms preprocess, 49.2ms inference, 9.5ms postprocess per image at shape (1, 3, 640, 640)\n",
      "\n",
      "image 1/1 e:\\Data5M\\NYC_500\\back\\103330230310221103_x2.jpg: 640x640 5 persons, 4 cars, 1 truck, 1 traffic light, 34.1ms\n",
      "Speed: 28.6ms preprocess, 34.1ms inference, 2.0ms postprocess per image at shape (1, 3, 640, 640)\n",
      "\n",
      "image 1/1 e:\\Data5M\\NYC_500\\right\\103330230310221102_x2.jpg: 640x640 1 person, 4 cars, 20.5ms\n",
      "Speed: 5.0ms preprocess, 20.5ms inference, 2.5ms postprocess per image at shape (1, 3, 640, 640)\n",
      "\n",
      "image 1/1 e:\\Data5M\\NYC_500\\front\\103332303120302301_x2.jpg: 640x640 5 cars, 21.0ms\n",
      "Speed: 6.5ms preprocess, 21.0ms inference, 1.0ms postprocess per image at shape (1, 3, 640, 640)\n",
      "\n",
      "image 1/1 e:\\Data5M\\NYC_500\\left\\103332303120302310_x2.jpg: 640x640 1 person, 5 cars, 19.5ms\n",
      "Speed: 5.5ms preprocess, 19.5ms inference, 3.3ms postprocess per image at shape (1, 3, 640, 640)\n",
      "\n",
      "image 1/1 e:\\Data5M\\NYC_500\\back\\103332303120302303_x2.jpg: 640x640 3 persons, 3 cars, 1 traffic light, 1 clock, 20.9ms\n",
      "Speed: 5.0ms preprocess, 20.9ms inference, 5.0ms postprocess per image at shape (1, 3, 640, 640)\n",
      "\n",
      "image 1/1 e:\\Data5M\\NYC_500\\right\\103332303120302302_x2.jpg: 640x640 3 cars, 26.6ms\n",
      "Speed: 7.5ms preprocess, 26.6ms inference, 4.3ms postprocess per image at shape (1, 3, 640, 640)\n",
      "\n",
      "image 1/1 e:\\Data5M\\NYC_500\\front\\103331222103223001_x2.jpg: 640x640 2 persons, 4 cars, 1 bus, 23.0ms\n",
      "Speed: 8.3ms preprocess, 23.0ms inference, 3.5ms postprocess per image at shape (1, 3, 640, 640)\n",
      "\n",
      "image 1/1 e:\\Data5M\\NYC_500\\left\\103331222103223010_x2.jpg: 640x640 1 person, 2 cars, 24.6ms\n",
      "Speed: 5.5ms preprocess, 24.6ms inference, 4.0ms postprocess per image at shape (1, 3, 640, 640)\n",
      "\n",
      "image 1/1 e:\\Data5M\\NYC_500\\back\\103331222103223003_x2.jpg: 640x640 1 person, 4 cars, 1 truck, 1 chair, 23.1ms\n",
      "Speed: 6.0ms preprocess, 23.1ms inference, 2.0ms postprocess per image at shape (1, 3, 640, 640)\n",
      "\n",
      "image 1/1 e:\\Data5M\\NYC_500\\right\\103331222103223002_x2.jpg: 640x640 2 persons, 1 car, 1 bench, 1 backpack, 2 potted plants, 18.6ms\n",
      "Speed: 6.5ms preprocess, 18.6ms inference, 2.0ms postprocess per image at shape (1, 3, 640, 640)\n",
      "\n",
      "image 1/1 e:\\Data5M\\NYC_500\\front\\103330300132103101_x2.jpg: 640x640 3 persons, 2 bicycles, 1 car, 1 bus, 3 trucks, 102.4ms\n",
      "Speed: 8.0ms preprocess, 102.4ms inference, 7.0ms postprocess per image at shape (1, 3, 640, 640)\n",
      "\n",
      "image 1/1 e:\\Data5M\\NYC_500\\left\\103330300132103110_x2.jpg: 640x640 1 person, 1 bicycle, 1 motorcycle, 19.1ms\n",
      "Speed: 5.5ms preprocess, 19.1ms inference, 3.0ms postprocess per image at shape (1, 3, 640, 640)\n",
      "\n",
      "image 1/1 e:\\Data5M\\NYC_500\\back\\103330300132103103_x2.jpg: 640x640 2 persons, 1 bicycle, 1 car, 1 motorcycle, 1 bus, 1 clock, 19.1ms\n",
      "Speed: 6.5ms preprocess, 19.1ms inference, 5.0ms postprocess per image at shape (1, 3, 640, 640)\n",
      "\n",
      "image 1/1 e:\\Data5M\\NYC_500\\right\\103330300132103102_x2.jpg: 640x640 2 persons, 1 bus, 25.6ms\n",
      "Speed: 7.0ms preprocess, 25.6ms inference, 4.0ms postprocess per image at shape (1, 3, 640, 640)\n",
      "\n",
      "image 1/1 e:\\Data5M\\NYC_500\\front\\110120301030101201_x2.jpg: 640x640 1 bicycle, 5 cars, 1 toilet, 21.1ms\n",
      "Speed: 5.5ms preprocess, 21.1ms inference, 2.0ms postprocess per image at shape (1, 3, 640, 640)\n",
      "\n",
      "image 1/1 e:\\Data5M\\NYC_500\\left\\110120301030101210_x2.jpg: 640x640 1 person, 3 cars, 1 traffic light, 25.0ms\n",
      "Speed: 4.5ms preprocess, 25.0ms inference, 3.0ms postprocess per image at shape (1, 3, 640, 640)\n",
      "\n",
      "image 1/1 e:\\Data5M\\NYC_500\\back\\110120301030101203_x2.jpg: 640x640 2 persons, 3 cars, 1 traffic light, 1 fire hydrant, 1 backpack, 1 surfboard, 36.1ms\n",
      "Speed: 3.0ms preprocess, 36.1ms inference, 9.5ms postprocess per image at shape (1, 3, 640, 640)\n",
      "\n",
      "image 1/1 e:\\Data5M\\NYC_500\\right\\110120301030101202_x2.jpg: 640x640 1 person, 1 clock, 25.1ms\n",
      "Speed: 8.0ms preprocess, 25.1ms inference, 3.0ms postprocess per image at shape (1, 3, 640, 640)\n",
      "\n",
      "image 1/1 e:\\Data5M\\NYC_500\\front\\103330231002322101_x2.jpg: 640x640 (no detections), 21.8ms\n",
      "Speed: 6.0ms preprocess, 21.8ms inference, 1.0ms postprocess per image at shape (1, 3, 640, 640)\n",
      "\n",
      "image 1/1 e:\\Data5M\\NYC_500\\left\\103330231002322110_x2.jpg: 640x640 (no detections), 81.8ms\n",
      "Speed: 9.5ms preprocess, 81.8ms inference, 4.0ms postprocess per image at shape (1, 3, 640, 640)\n",
      "\n",
      "image 1/1 e:\\Data5M\\NYC_500\\back\\103330231002322103_x2.jpg: 640x640 (no detections), 27.6ms\n",
      "Speed: 14.6ms preprocess, 27.6ms inference, 1.0ms postprocess per image at shape (1, 3, 640, 640)\n",
      "\n",
      "image 1/1 e:\\Data5M\\NYC_500\\right\\103330231002322102_x2.jpg: 640x640 (no detections), 25.1ms\n",
      "Speed: 7.2ms preprocess, 25.1ms inference, 2.0ms postprocess per image at shape (1, 3, 640, 640)\n",
      "\n",
      "image 1/1 e:\\Data5M\\NYC_500\\front\\103330322132313201_x2.jpg: 640x640 2 cars, 1 toilet, 25.7ms\n",
      "Speed: 5.5ms preprocess, 25.7ms inference, 4.0ms postprocess per image at shape (1, 3, 640, 640)\n",
      "\n",
      "image 1/1 e:\\Data5M\\NYC_500\\left\\103330322132313210_x2.jpg: 640x640 1 car, 23.0ms\n",
      "Speed: 7.5ms preprocess, 23.0ms inference, 4.5ms postprocess per image at shape (1, 3, 640, 640)\n",
      "\n",
      "image 1/1 e:\\Data5M\\NYC_500\\back\\103330322132313203_x2.jpg: 640x640 3 cars, 21.5ms\n",
      "Speed: 4.5ms preprocess, 21.5ms inference, 4.0ms postprocess per image at shape (1, 3, 640, 640)\n",
      "\n",
      "image 1/1 e:\\Data5M\\NYC_500\\right\\103330322132313202_x2.jpg: 640x640 2 persons, 1 bicycle, 1 car, 26.1ms\n",
      "Speed: 9.5ms preprocess, 26.1ms inference, 3.5ms postprocess per image at shape (1, 3, 640, 640)\n",
      "\n",
      "image 1/1 e:\\Data5M\\NYC_500\\front\\103330323013213101_x2.jpg: 640x640 5 cars, 24.6ms\n",
      "Speed: 5.5ms preprocess, 24.6ms inference, 4.5ms postprocess per image at shape (1, 3, 640, 640)\n",
      "\n",
      "image 1/1 e:\\Data5M\\NYC_500\\left\\103330323013213110_x2.jpg: 640x640 1 car, 19.6ms\n",
      "Speed: 5.0ms preprocess, 19.6ms inference, 7.5ms postprocess per image at shape (1, 3, 640, 640)\n",
      "\n",
      "image 1/1 e:\\Data5M\\NYC_500\\back\\103330323013213103_x2.jpg: 640x640 1 person, 6 cars, 60.7ms\n",
      "Speed: 8.5ms preprocess, 60.7ms inference, 5.5ms postprocess per image at shape (1, 3, 640, 640)\n",
      "\n",
      "image 1/1 e:\\Data5M\\NYC_500\\right\\103330323013213102_x2.jpg: 640x640 1 car, 1 potted plant, 49.2ms\n",
      "Speed: 7.5ms preprocess, 49.2ms inference, 3.0ms postprocess per image at shape (1, 3, 640, 640)\n",
      "\n",
      "image 1/1 e:\\Data5M\\NYC_500\\front\\103331233121312101_x2.jpg: 640x640 2 cars, 37.1ms\n",
      "Speed: 7.5ms preprocess, 37.1ms inference, 4.0ms postprocess per image at shape (1, 3, 640, 640)\n",
      "\n",
      "image 1/1 e:\\Data5M\\NYC_500\\left\\103331233121312110_x2.jpg: 640x640 1 bicycle, 1 car, 42.6ms\n",
      "Speed: 5.0ms preprocess, 42.6ms inference, 4.0ms postprocess per image at shape (1, 3, 640, 640)\n",
      "\n",
      "image 1/1 e:\\Data5M\\NYC_500\\back\\103331233121312103_x2.jpg: 640x640 2 cars, 21.6ms\n",
      "Speed: 7.5ms preprocess, 21.6ms inference, 3.0ms postprocess per image at shape (1, 3, 640, 640)\n",
      "\n",
      "image 1/1 e:\\Data5M\\NYC_500\\right\\103331233121312102_x2.jpg: 640x640 2 cars, 22.8ms\n",
      "Speed: 4.5ms preprocess, 22.8ms inference, 3.0ms postprocess per image at shape (1, 3, 640, 640)\n",
      "\n",
      "image 1/1 e:\\Data5M\\NYC_500\\front\\103331131133011301_x2.jpg: 640x640 1 person, 2 cars, 2 traffic lights, 25.6ms\n",
      "Speed: 5.0ms preprocess, 25.6ms inference, 5.0ms postprocess per image at shape (1, 3, 640, 640)\n",
      "\n",
      "image 1/1 e:\\Data5M\\NYC_500\\left\\103331131133011310_x2.jpg: 640x640 1 person, 2 cars, 1 truck, 25.6ms\n",
      "Speed: 5.0ms preprocess, 25.6ms inference, 2.0ms postprocess per image at shape (1, 3, 640, 640)\n",
      "\n",
      "image 1/1 e:\\Data5M\\NYC_500\\back\\103331131133011303_x2.jpg: 640x640 1 person, 2 cars, 1 bus, 3 trucks, 2 umbrellas, 1 frisbee, 22.1ms\n",
      "Speed: 6.5ms preprocess, 22.1ms inference, 4.5ms postprocess per image at shape (1, 3, 640, 640)\n",
      "\n",
      "image 1/1 e:\\Data5M\\NYC_500\\right\\103331131133011302_x2.jpg: 640x640 2 persons, 1 car, 1 traffic light, 1 handbag, 24.0ms\n",
      "Speed: 5.5ms preprocess, 24.0ms inference, 4.4ms postprocess per image at shape (1, 3, 640, 640)\n",
      "\n",
      "image 1/1 e:\\Data5M\\NYC_500\\front\\103330323002121301_x2.jpg: 640x640 4 cars, 1 bus, 1 toilet, 55.2ms\n",
      "Speed: 6.5ms preprocess, 55.2ms inference, 5.5ms postprocess per image at shape (1, 3, 640, 640)\n",
      "\n",
      "image 1/1 e:\\Data5M\\NYC_500\\left\\103330323002121310_x2.jpg: 640x640 2 persons, 3 cars, 56.7ms\n",
      "Speed: 9.0ms preprocess, 56.7ms inference, 2.0ms postprocess per image at shape (1, 3, 640, 640)\n",
      "\n",
      "image 1/1 e:\\Data5M\\NYC_500\\back\\103330323002121303_x2.jpg: 640x640 3 cars, 22.8ms\n",
      "Speed: 8.5ms preprocess, 22.8ms inference, 2.0ms postprocess per image at shape (1, 3, 640, 640)\n",
      "\n",
      "image 1/1 e:\\Data5M\\NYC_500\\right\\103330323002121302_x2.jpg: 640x640 1 car, 19.0ms\n",
      "Speed: 5.5ms preprocess, 19.0ms inference, 2.0ms postprocess per image at shape (1, 3, 640, 640)\n",
      "\n",
      "image 1/1 e:\\Data5M\\NYC_500\\front\\103330322132012001_x2.jpg: 640x640 1 person, 2 cars, 1 motorcycle, 1 potted plant, 1 toilet, 23.1ms\n",
      "Speed: 7.4ms preprocess, 23.1ms inference, 3.0ms postprocess per image at shape (1, 3, 640, 640)\n",
      "\n",
      "image 1/1 e:\\Data5M\\NYC_500\\left\\103330322132012010_x2.jpg: 640x640 1 person, 3 cars, 1 traffic light, 24.5ms\n",
      "Speed: 7.5ms preprocess, 24.5ms inference, 4.0ms postprocess per image at shape (1, 3, 640, 640)\n",
      "\n",
      "image 1/1 e:\\Data5M\\NYC_500\\back\\103330322132012003_x2.jpg: 640x640 1 bicycle, 2 cars, 1 motorcycle, 1 bus, 18.0ms\n",
      "Speed: 5.5ms preprocess, 18.0ms inference, 3.0ms postprocess per image at shape (1, 3, 640, 640)\n",
      "\n",
      "image 1/1 e:\\Data5M\\NYC_500\\right\\103330322132012002_x2.jpg: 640x640 3 persons, 2 cars, 24.6ms\n",
      "Speed: 7.0ms preprocess, 24.6ms inference, 4.0ms postprocess per image at shape (1, 3, 640, 640)\n",
      "\n",
      "image 1/1 e:\\Data5M\\NYC_500\\front\\103331222103331301_x2.jpg: 640x640 2 cars, 32.1ms\n",
      "Speed: 7.5ms preprocess, 32.1ms inference, 4.0ms postprocess per image at shape (1, 3, 640, 640)\n",
      "\n",
      "image 1/1 e:\\Data5M\\NYC_500\\left\\103331222103331310_x2.jpg: 640x640 1 person, 1 car, 28.5ms\n",
      "Speed: 7.3ms preprocess, 28.5ms inference, 3.0ms postprocess per image at shape (1, 3, 640, 640)\n",
      "\n",
      "image 1/1 e:\\Data5M\\NYC_500\\back\\103331222103331303_x2.jpg: 640x640 2 persons, 2 cars, 47.2ms\n",
      "Speed: 16.5ms preprocess, 47.2ms inference, 2.0ms postprocess per image at shape (1, 3, 640, 640)\n",
      "\n",
      "image 1/1 e:\\Data5M\\NYC_500\\right\\103331222103331302_x2.jpg: 640x640 (no detections), 44.9ms\n",
      "Speed: 4.5ms preprocess, 44.9ms inference, 1.6ms postprocess per image at shape (1, 3, 640, 640)\n",
      "\n",
      "image 1/1 e:\\Data5M\\NYC_500\\front\\103330323002201201_x2.jpg: 640x640 1 person, 3 cars, 1 bus, 1 truck, 1 umbrella, 1 toilet, 22.1ms\n",
      "Speed: 7.5ms preprocess, 22.1ms inference, 4.0ms postprocess per image at shape (1, 3, 640, 640)\n",
      "\n",
      "image 1/1 e:\\Data5M\\NYC_500\\left\\103330323002201210_x2.jpg: 640x640 2 cars, 22.6ms\n",
      "Speed: 5.0ms preprocess, 22.6ms inference, 3.0ms postprocess per image at shape (1, 3, 640, 640)\n",
      "\n",
      "image 1/1 e:\\Data5M\\NYC_500\\back\\103330323002201203_x2.jpg: 640x640 1 person, 3 cars, 25.1ms\n",
      "Speed: 7.5ms preprocess, 25.1ms inference, 2.5ms postprocess per image at shape (1, 3, 640, 640)\n",
      "\n",
      "image 1/1 e:\\Data5M\\NYC_500\\right\\103330323002201202_x2.jpg: 640x640 1 car, 24.6ms\n",
      "Speed: 5.0ms preprocess, 24.6ms inference, 4.0ms postprocess per image at shape (1, 3, 640, 640)\n",
      "\n",
      "image 1/1 e:\\Data5M\\NYC_500\\front\\103330323023231001_x2.jpg: 640x640 2 cars, 1 toilet, 22.9ms\n",
      "Speed: 6.0ms preprocess, 22.9ms inference, 3.0ms postprocess per image at shape (1, 3, 640, 640)\n",
      "\n",
      "image 1/1 e:\\Data5M\\NYC_500\\left\\103330323023231010_x2.jpg: 640x640 (no detections), 26.9ms\n",
      "Speed: 5.5ms preprocess, 26.9ms inference, 2.5ms postprocess per image at shape (1, 3, 640, 640)\n",
      "\n",
      "image 1/1 e:\\Data5M\\NYC_500\\back\\103330323023231003_x2.jpg: 640x640 2 cars, 1 motorcycle, 1 boat, 29.1ms\n",
      "Speed: 8.0ms preprocess, 29.1ms inference, 2.5ms postprocess per image at shape (1, 3, 640, 640)\n",
      "\n",
      "image 1/1 e:\\Data5M\\NYC_500\\right\\103330323023231002_x2.jpg: 640x640 (no detections), 50.2ms\n",
      "Speed: 8.0ms preprocess, 50.2ms inference, 12.0ms postprocess per image at shape (1, 3, 640, 640)\n",
      "\n",
      "image 1/1 e:\\Data5M\\NYC_500\\front\\103330323100203101_x2.jpg: 640x640 2 cars, 1 toilet, 38.1ms\n",
      "Speed: 10.5ms preprocess, 38.1ms inference, 1.5ms postprocess per image at shape (1, 3, 640, 640)\n",
      "\n",
      "image 1/1 e:\\Data5M\\NYC_500\\left\\103330323100203110_x2.jpg: 640x640 2 bicycles, 3 cars, 1 motorcycle, 19.0ms\n",
      "Speed: 5.5ms preprocess, 19.0ms inference, 5.0ms postprocess per image at shape (1, 3, 640, 640)\n",
      "\n",
      "image 1/1 e:\\Data5M\\NYC_500\\back\\103330323100203103_x2.jpg: 640x640 5 cars, 1 motorcycle, 26.3ms\n",
      "Speed: 7.0ms preprocess, 26.3ms inference, 2.0ms postprocess per image at shape (1, 3, 640, 640)\n",
      "\n",
      "image 1/1 e:\\Data5M\\NYC_500\\right\\103330323100203102_x2.jpg: 640x640 3 cars, 24.0ms\n",
      "Speed: 4.2ms preprocess, 24.0ms inference, 3.3ms postprocess per image at shape (1, 3, 640, 640)\n",
      "\n",
      "image 1/1 e:\\Data5M\\NYC_500\\front\\110120301013023101_x2.jpg: 640x640 1 car, 1 umbrella, 26.1ms\n",
      "Speed: 6.0ms preprocess, 26.1ms inference, 3.0ms postprocess per image at shape (1, 3, 640, 640)\n",
      "\n",
      "image 1/1 e:\\Data5M\\NYC_500\\left\\110120301013023110_x2.jpg: 640x640 3 cars, 23.6ms\n",
      "Speed: 4.5ms preprocess, 23.6ms inference, 5.0ms postprocess per image at shape (1, 3, 640, 640)\n",
      "\n",
      "image 1/1 e:\\Data5M\\NYC_500\\back\\110120301013023103_x2.jpg: 640x640 3 cars, 19.7ms\n",
      "Speed: 6.5ms preprocess, 19.7ms inference, 4.0ms postprocess per image at shape (1, 3, 640, 640)\n",
      "\n",
      "image 1/1 e:\\Data5M\\NYC_500\\right\\110120301013023102_x2.jpg: 640x640 2 cars, 23.1ms\n",
      "Speed: 5.5ms preprocess, 23.1ms inference, 4.0ms postprocess per image at shape (1, 3, 640, 640)\n",
      "\n",
      "image 1/1 e:\\Data5M\\NYC_500\\front\\103332303123011301_x2.jpg: 640x640 1 person, 1 bicycle, 3 cars, 26.5ms\n",
      "Speed: 6.0ms preprocess, 26.5ms inference, 3.0ms postprocess per image at shape (1, 3, 640, 640)\n",
      "\n",
      "image 1/1 e:\\Data5M\\NYC_500\\left\\103332303123011310_x2.jpg: 640x640 4 cars, 2 trucks, 2 traffic lights, 49.7ms\n",
      "Speed: 17.1ms preprocess, 49.7ms inference, 5.5ms postprocess per image at shape (1, 3, 640, 640)\n",
      "\n",
      "image 1/1 e:\\Data5M\\NYC_500\\back\\103332303123011303_x2.jpg: 640x640 5 cars, 1 bus, 1 truck, 49.6ms\n",
      "Speed: 14.1ms preprocess, 49.6ms inference, 3.0ms postprocess per image at shape (1, 3, 640, 640)\n",
      "\n",
      "image 1/1 e:\\Data5M\\NYC_500\\right\\103332303123011302_x2.jpg: 640x640 4 persons, 2 cars, 1 fire hydrant, 24.1ms\n",
      "Speed: 4.0ms preprocess, 24.1ms inference, 3.0ms postprocess per image at shape (1, 3, 640, 640)\n",
      "\n",
      "image 1/1 e:\\Data5M\\NYC_500\\front\\103333121200020101_x2.jpg: 640x640 1 person, 1 car, 1 truck, 1 traffic light, 22.1ms\n",
      "Speed: 4.5ms preprocess, 22.1ms inference, 5.0ms postprocess per image at shape (1, 3, 640, 640)\n",
      "\n",
      "image 1/1 e:\\Data5M\\NYC_500\\left\\103333121200020110_x2.jpg: 640x640 1 car, 22.0ms\n",
      "Speed: 6.5ms preprocess, 22.0ms inference, 3.5ms postprocess per image at shape (1, 3, 640, 640)\n",
      "\n",
      "image 1/1 e:\\Data5M\\NYC_500\\back\\103333121200020103_x2.jpg: 640x640 4 cars, 23.0ms\n",
      "Speed: 5.5ms preprocess, 23.0ms inference, 3.0ms postprocess per image at shape (1, 3, 640, 640)\n",
      "\n",
      "image 1/1 e:\\Data5M\\NYC_500\\right\\103333121200020102_x2.jpg: 640x640 1 person, 1 car, 22.6ms\n",
      "Speed: 6.0ms preprocess, 22.6ms inference, 3.0ms postprocess per image at shape (1, 3, 640, 640)\n",
      "\n",
      "image 1/1 e:\\Data5M\\NYC_500\\front\\103330233002222201_x2.jpg: 640x640 2 persons, 4 cars, 3 trucks, 25.0ms\n",
      "Speed: 7.0ms preprocess, 25.0ms inference, 3.5ms postprocess per image at shape (1, 3, 640, 640)\n",
      "\n",
      "image 1/1 e:\\Data5M\\NYC_500\\left\\103330233002222210_x2.jpg: 640x640 2 persons, 1 car, 24.6ms\n",
      "Speed: 5.0ms preprocess, 24.6ms inference, 3.0ms postprocess per image at shape (1, 3, 640, 640)\n",
      "\n",
      "image 1/1 e:\\Data5M\\NYC_500\\back\\103330233002222203_x2.jpg: 640x640 3 persons, 7 cars, 2 buss, 2 trucks, 84.3ms\n",
      "Speed: 8.5ms preprocess, 84.3ms inference, 4.5ms postprocess per image at shape (1, 3, 640, 640)\n",
      "\n",
      "image 1/1 e:\\Data5M\\NYC_500\\right\\103330233002222202_x2.jpg: 640x640 1 person, 1 car, 1 truck, 29.7ms\n",
      "Speed: 9.5ms preprocess, 29.7ms inference, 4.0ms postprocess per image at shape (1, 3, 640, 640)\n",
      "\n",
      "image 1/1 e:\\Data5M\\NYC_500\\front\\103331223122033301_x2.jpg: 640x640 3 cars, 34.6ms\n",
      "Speed: 7.5ms preprocess, 34.6ms inference, 4.5ms postprocess per image at shape (1, 3, 640, 640)\n",
      "\n",
      "image 1/1 e:\\Data5M\\NYC_500\\left\\103331223122033310_x2.jpg: 640x640 (no detections), 41.2ms\n",
      "Speed: 7.0ms preprocess, 41.2ms inference, 1.0ms postprocess per image at shape (1, 3, 640, 640)\n",
      "\n",
      "image 1/1 e:\\Data5M\\NYC_500\\back\\103331223122033303_x2.jpg: 640x640 2 cars, 28.6ms\n",
      "Speed: 5.0ms preprocess, 28.6ms inference, 3.0ms postprocess per image at shape (1, 3, 640, 640)\n",
      "\n",
      "image 1/1 e:\\Data5M\\NYC_500\\right\\103331223122033302_x2.jpg: 640x640 1 car, 20.6ms\n",
      "Speed: 6.5ms preprocess, 20.6ms inference, 2.0ms postprocess per image at shape (1, 3, 640, 640)\n",
      "\n",
      "image 1/1 e:\\Data5M\\NYC_500\\front\\103332323013123201_x2.jpg: 640x640 1 bicycle, 1 car, 24.5ms\n",
      "Speed: 6.5ms preprocess, 24.5ms inference, 4.0ms postprocess per image at shape (1, 3, 640, 640)\n",
      "\n",
      "image 1/1 e:\\Data5M\\NYC_500\\left\\103332323013123210_x2.jpg: 640x640 6 persons, 1 bicycle, 1 car, 2 traffic lights, 1 stop sign, 1 potted plant, 24.0ms\n",
      "Speed: 4.5ms preprocess, 24.0ms inference, 4.5ms postprocess per image at shape (1, 3, 640, 640)\n",
      "\n",
      "image 1/1 e:\\Data5M\\NYC_500\\back\\103332323013123203_x2.jpg: 640x640 1 person, 1 car, 2 potted plants, 32.6ms\n",
      "Speed: 6.2ms preprocess, 32.6ms inference, 2.0ms postprocess per image at shape (1, 3, 640, 640)\n",
      "\n",
      "image 1/1 e:\\Data5M\\NYC_500\\right\\103332323013123202_x2.jpg: 640x640 1 car, 1 truck, 99.4ms\n",
      "Speed: 8.0ms preprocess, 99.4ms inference, 5.5ms postprocess per image at shape (1, 3, 640, 640)\n",
      "\n",
      "image 1/1 e:\\Data5M\\NYC_500\\front\\110120121222232001_x2.jpg: 640x640 (no detections), 25.0ms\n",
      "Speed: 5.5ms preprocess, 25.0ms inference, 2.5ms postprocess per image at shape (1, 3, 640, 640)\n",
      "\n",
      "image 1/1 e:\\Data5M\\NYC_500\\left\\110120121222232010_x2.jpg: 640x640 (no detections), 26.6ms\n",
      "Speed: 7.5ms preprocess, 26.6ms inference, 1.0ms postprocess per image at shape (1, 3, 640, 640)\n",
      "\n",
      "image 1/1 e:\\Data5M\\NYC_500\\back\\110120121222232003_x2.jpg: 640x640 (no detections), 26.9ms\n",
      "Speed: 7.5ms preprocess, 26.9ms inference, 2.0ms postprocess per image at shape (1, 3, 640, 640)\n",
      "\n",
      "image 1/1 e:\\Data5M\\NYC_500\\right\\110120121222232002_x2.jpg: 640x640 (no detections), 30.1ms\n",
      "Speed: 7.5ms preprocess, 30.1ms inference, 1.0ms postprocess per image at shape (1, 3, 640, 640)\n",
      "\n",
      "image 1/1 e:\\Data5M\\NYC_500\\front\\103333120100120001_x2.jpg: 640x640 3 cars, 1 bus, 21.1ms\n",
      "Speed: 6.0ms preprocess, 21.1ms inference, 3.0ms postprocess per image at shape (1, 3, 640, 640)\n",
      "\n",
      "image 1/1 e:\\Data5M\\NYC_500\\left\\103333120100120010_x2.jpg: 640x640 1 car, 38.6ms\n",
      "Speed: 6.5ms preprocess, 38.6ms inference, 4.0ms postprocess per image at shape (1, 3, 640, 640)\n",
      "\n",
      "image 1/1 e:\\Data5M\\NYC_500\\back\\103333120100120003_x2.jpg: 640x640 1 person, 4 cars, 1 motorcycle, 1 airplane, 1 frisbee, 28.6ms\n",
      "Speed: 9.5ms preprocess, 28.6ms inference, 5.5ms postprocess per image at shape (1, 3, 640, 640)\n",
      "\n",
      "image 1/1 e:\\Data5M\\NYC_500\\right\\103333120100120002_x2.jpg: 640x640 4 persons, 1 bicycle, 1 car, 26.6ms\n",
      "Speed: 8.0ms preprocess, 26.6ms inference, 3.0ms postprocess per image at shape (1, 3, 640, 640)\n",
      "\n",
      "image 1/1 e:\\Data5M\\NYC_500\\front\\103331012332301201_x2.jpg: 640x640 3 persons, 3 cars, 2 trucks, 1 toilet, 56.7ms\n",
      "Speed: 10.5ms preprocess, 56.7ms inference, 5.0ms postprocess per image at shape (1, 3, 640, 640)\n",
      "\n",
      "image 1/1 e:\\Data5M\\NYC_500\\left\\103331012332301210_x2.jpg: 640x640 2 persons, 1 car, 34.1ms\n",
      "Speed: 7.0ms preprocess, 34.1ms inference, 2.0ms postprocess per image at shape (1, 3, 640, 640)\n",
      "\n",
      "image 1/1 e:\\Data5M\\NYC_500\\back\\103331012332301203_x2.jpg: 640x640 3 cars, 1 bus, 1 bottle, 21.5ms\n",
      "Speed: 4.5ms preprocess, 21.5ms inference, 4.0ms postprocess per image at shape (1, 3, 640, 640)\n",
      "\n",
      "image 1/1 e:\\Data5M\\NYC_500\\right\\103331012332301202_x2.jpg: 640x640 1 bicycle, 1 car, 1 motorcycle, 20.7ms\n",
      "Speed: 5.5ms preprocess, 20.7ms inference, 5.0ms postprocess per image at shape (1, 3, 640, 640)\n",
      "\n",
      "image 1/1 e:\\Data5M\\NYC_500\\front\\103331012000321301_x2.jpg: 640x640 3 persons, 5 cars, 1 truck, 1 toilet, 24.1ms\n",
      "Speed: 5.0ms preprocess, 24.1ms inference, 3.0ms postprocess per image at shape (1, 3, 640, 640)\n",
      "\n",
      "image 1/1 e:\\Data5M\\NYC_500\\left\\103331012000321310_x2.jpg: 640x640 4 persons, 1 dog, 1 handbag, 25.0ms\n",
      "Speed: 6.2ms preprocess, 25.0ms inference, 2.5ms postprocess per image at shape (1, 3, 640, 640)\n",
      "\n",
      "image 1/1 e:\\Data5M\\NYC_500\\back\\103331012000321303_x2.jpg: 640x640 4 persons, 5 cars, 1 boat, 23.6ms\n",
      "Speed: 6.5ms preprocess, 23.6ms inference, 2.5ms postprocess per image at shape (1, 3, 640, 640)\n",
      "\n",
      "image 1/1 e:\\Data5M\\NYC_500\\right\\103331012000321302_x2.jpg: 640x640 2 persons, 1 handbag, 25.6ms\n",
      "Speed: 6.0ms preprocess, 25.6ms inference, 3.0ms postprocess per image at shape (1, 3, 640, 640)\n",
      "\n",
      "image 1/1 e:\\Data5M\\NYC_500\\front\\110120301031101101_x2.jpg: 640x640 4 persons, 2 cars, 1 truck, 21.6ms\n",
      "Speed: 6.5ms preprocess, 21.6ms inference, 2.0ms postprocess per image at shape (1, 3, 640, 640)\n",
      "\n",
      "image 1/1 e:\\Data5M\\NYC_500\\left\\110120301031101110_x2.jpg: 640x640 1 car, 66.7ms\n",
      "Speed: 9.5ms preprocess, 66.7ms inference, 3.5ms postprocess per image at shape (1, 3, 640, 640)\n",
      "\n",
      "image 1/1 e:\\Data5M\\NYC_500\\back\\110120301031101103_x2.jpg: 640x640 1 person, 2 cars, 25.6ms\n",
      "Speed: 6.0ms preprocess, 25.6ms inference, 3.0ms postprocess per image at shape (1, 3, 640, 640)\n",
      "\n",
      "image 1/1 e:\\Data5M\\NYC_500\\right\\110120301031101102_x2.jpg: 640x640 1 person, 4 cars, 1 traffic light, 1 bench, 23.5ms\n",
      "Speed: 4.0ms preprocess, 23.5ms inference, 2.0ms postprocess per image at shape (1, 3, 640, 640)\n",
      "\n",
      "image 1/1 e:\\Data5M\\NYC_500\\front\\110120301013020301_x2.jpg: 640x640 1 person, 1 bicycle, 4 cars, 1 bus, 26.6ms\n",
      "Speed: 6.5ms preprocess, 26.6ms inference, 2.0ms postprocess per image at shape (1, 3, 640, 640)\n",
      "\n",
      "image 1/1 e:\\Data5M\\NYC_500\\left\\110120301013020310_x2.jpg: 640x640 2 cars, 19.3ms\n",
      "Speed: 5.5ms preprocess, 19.3ms inference, 6.0ms postprocess per image at shape (1, 3, 640, 640)\n",
      "\n",
      "image 1/1 e:\\Data5M\\NYC_500\\back\\110120301013020303_x2.jpg: 640x640 2 persons, 6 cars, 1 bus, 25.6ms\n",
      "Speed: 6.0ms preprocess, 25.6ms inference, 3.0ms postprocess per image at shape (1, 3, 640, 640)\n",
      "\n",
      "image 1/1 e:\\Data5M\\NYC_500\\right\\110120301013020302_x2.jpg: 640x640 2 persons, 2 cars, 26.6ms\n",
      "Speed: 4.5ms preprocess, 26.6ms inference, 1.0ms postprocess per image at shape (1, 3, 640, 640)\n",
      "\n",
      "image 1/1 e:\\Data5M\\NYC_500\\front\\103330233121232101_x2.jpg: 640x640 1 person, 4 cars, 1 toilet, 22.5ms\n",
      "Speed: 5.0ms preprocess, 22.5ms inference, 5.0ms postprocess per image at shape (1, 3, 640, 640)\n",
      "\n",
      "image 1/1 e:\\Data5M\\NYC_500\\left\\103330233121232110_x2.jpg: 640x640 1 person, 26.6ms\n",
      "Speed: 5.0ms preprocess, 26.6ms inference, 2.0ms postprocess per image at shape (1, 3, 640, 640)\n",
      "\n",
      "image 1/1 e:\\Data5M\\NYC_500\\back\\103330233121232103_x2.jpg: 640x640 2 persons, 1 bicycle, 6 cars, 55.8ms\n",
      "Speed: 7.0ms preprocess, 55.8ms inference, 40.7ms postprocess per image at shape (1, 3, 640, 640)\n",
      "\n",
      "image 1/1 e:\\Data5M\\NYC_500\\right\\103330233121232102_x2.jpg: 640x640 2 persons, 1 bicycle, 21.6ms\n",
      "Speed: 7.0ms preprocess, 21.6ms inference, 3.5ms postprocess per image at shape (1, 3, 640, 640)\n",
      "\n",
      "image 1/1 e:\\Data5M\\NYC_500\\front\\103333133332033001_x2.jpg: 640x640 1 car, 21.6ms\n",
      "Speed: 5.0ms preprocess, 21.6ms inference, 2.5ms postprocess per image at shape (1, 3, 640, 640)\n",
      "\n",
      "image 1/1 e:\\Data5M\\NYC_500\\left\\103333133332033010_x2.jpg: 640x640 1 car, 1 bus, 21.0ms\n",
      "Speed: 7.5ms preprocess, 21.0ms inference, 4.0ms postprocess per image at shape (1, 3, 640, 640)\n",
      "\n",
      "image 1/1 e:\\Data5M\\NYC_500\\back\\103333133332033003_x2.jpg: 640x640 1 car, 22.0ms\n",
      "Speed: 6.0ms preprocess, 22.0ms inference, 3.5ms postprocess per image at shape (1, 3, 640, 640)\n",
      "\n",
      "image 1/1 e:\\Data5M\\NYC_500\\right\\103333133332033002_x2.jpg: 640x640 1 car, 24.5ms\n",
      "Speed: 4.0ms preprocess, 24.5ms inference, 3.0ms postprocess per image at shape (1, 3, 640, 640)\n",
      "\n",
      "image 1/1 e:\\Data5M\\NYC_500\\front\\103331013002332201_x2.jpg: 640x640 5 cars, 1 traffic light, 24.1ms\n",
      "Speed: 5.5ms preprocess, 24.1ms inference, 2.0ms postprocess per image at shape (1, 3, 640, 640)\n",
      "\n",
      "image 1/1 e:\\Data5M\\NYC_500\\left\\103331013002332210_x2.jpg: 640x640 1 person, 5 cars, 20.0ms\n",
      "Speed: 7.5ms preprocess, 20.0ms inference, 6.0ms postprocess per image at shape (1, 3, 640, 640)\n",
      "\n",
      "image 1/1 e:\\Data5M\\NYC_500\\back\\103331013002332203_x2.jpg: 640x640 2 persons, 5 cars, 1 truck, 22.8ms\n",
      "Speed: 6.5ms preprocess, 22.8ms inference, 3.0ms postprocess per image at shape (1, 3, 640, 640)\n",
      "\n",
      "image 1/1 e:\\Data5M\\NYC_500\\right\\103331013002332202_x2.jpg: 640x640 1 person, 103.9ms\n",
      "Speed: 7.5ms preprocess, 103.9ms inference, 2.5ms postprocess per image at shape (1, 3, 640, 640)\n",
      "\n",
      "image 1/1 e:\\Data5M\\NYC_500\\front\\103331131133123301_x2.jpg: 640x640 2 persons, 1 bicycle, 2 cars, 20.1ms\n",
      "Speed: 7.0ms preprocess, 20.1ms inference, 3.5ms postprocess per image at shape (1, 3, 640, 640)\n",
      "\n",
      "image 1/1 e:\\Data5M\\NYC_500\\left\\103331131133123310_x2.jpg: 640x640 1 car, 28.5ms\n",
      "Speed: 7.5ms preprocess, 28.5ms inference, 2.0ms postprocess per image at shape (1, 3, 640, 640)\n",
      "\n",
      "image 1/1 e:\\Data5M\\NYC_500\\back\\103331131133123303_x2.jpg: 640x640 4 cars, 1 frisbee, 22.0ms\n",
      "Speed: 5.5ms preprocess, 22.0ms inference, 2.0ms postprocess per image at shape (1, 3, 640, 640)\n",
      "\n",
      "image 1/1 e:\\Data5M\\NYC_500\\right\\103331131133123302_x2.jpg: 640x640 2 persons, 1 car, 1 bench, 28.1ms\n",
      "Speed: 5.1ms preprocess, 28.1ms inference, 5.0ms postprocess per image at shape (1, 3, 640, 640)\n",
      "\n",
      "image 1/1 e:\\Data5M\\NYC_500\\front\\103330310000321101_x2.jpg: 640x640 2 cars, 28.1ms\n",
      "Speed: 5.5ms preprocess, 28.1ms inference, 3.5ms postprocess per image at shape (1, 3, 640, 640)\n",
      "\n",
      "image 1/1 e:\\Data5M\\NYC_500\\left\\103330310000321110_x2.jpg: 640x640 1 person, 2 cars, 1 motorcycle, 21.6ms\n",
      "Speed: 8.5ms preprocess, 21.6ms inference, 4.5ms postprocess per image at shape (1, 3, 640, 640)\n",
      "\n",
      "image 1/1 e:\\Data5M\\NYC_500\\back\\103330310000321103_x2.jpg: 640x640 2 persons, 4 cars, 26.1ms\n",
      "Speed: 6.5ms preprocess, 26.1ms inference, 2.5ms postprocess per image at shape (1, 3, 640, 640)\n",
      "\n",
      "image 1/1 e:\\Data5M\\NYC_500\\right\\103330310000321102_x2.jpg: 640x640 2 persons, 1 bench, 21.6ms\n",
      "Speed: 5.0ms preprocess, 21.6ms inference, 4.5ms postprocess per image at shape (1, 3, 640, 640)\n",
      "\n",
      "image 1/1 e:\\Data5M\\NYC_500\\front\\103331222033201001_x2.jpg: 640x640 1 person, 3 cars, 1 truck, 64.7ms\n",
      "Speed: 45.6ms preprocess, 64.7ms inference, 4.5ms postprocess per image at shape (1, 3, 640, 640)\n",
      "\n",
      "image 1/1 e:\\Data5M\\NYC_500\\left\\103331222033201010_x2.jpg: 640x640 1 car, 23.6ms\n",
      "Speed: 7.5ms preprocess, 23.6ms inference, 6.5ms postprocess per image at shape (1, 3, 640, 640)\n",
      "\n",
      "image 1/1 e:\\Data5M\\NYC_500\\back\\103331222033201003_x2.jpg: 640x640 1 bus, 1 train, 26.3ms\n",
      "Speed: 8.0ms preprocess, 26.3ms inference, 3.0ms postprocess per image at shape (1, 3, 640, 640)\n",
      "\n",
      "image 1/1 e:\\Data5M\\NYC_500\\right\\103331222033201002_x2.jpg: 640x640 (no detections), 28.1ms\n",
      "Speed: 7.0ms preprocess, 28.1ms inference, 2.5ms postprocess per image at shape (1, 3, 640, 640)\n",
      "\n",
      "image 1/1 e:\\Data5M\\NYC_500\\front\\110120231212013301_x2.jpg: 640x640 3 cars, 1 truck, 1 fire hydrant, 24.1ms\n",
      "Speed: 5.0ms preprocess, 24.1ms inference, 2.0ms postprocess per image at shape (1, 3, 640, 640)\n",
      "\n",
      "image 1/1 e:\\Data5M\\NYC_500\\left\\110120231212013310_x2.jpg: 640x640 4 persons, 3 cars, 24.6ms\n",
      "Speed: 5.0ms preprocess, 24.6ms inference, 3.0ms postprocess per image at shape (1, 3, 640, 640)\n",
      "\n",
      "image 1/1 e:\\Data5M\\NYC_500\\back\\110120231212013303_x2.jpg: 640x640 3 cars, 1 fire hydrant, 1 frisbee, 24.6ms\n",
      "Speed: 8.0ms preprocess, 24.6ms inference, 3.0ms postprocess per image at shape (1, 3, 640, 640)\n",
      "\n",
      "image 1/1 e:\\Data5M\\NYC_500\\right\\110120231212013302_x2.jpg: 640x640 3 persons, 2 cars, 1 handbag, 57.7ms\n",
      "Speed: 4.5ms preprocess, 57.7ms inference, 5.0ms postprocess per image at shape (1, 3, 640, 640)\n",
      "Empty DataFrame\n",
      "Columns: []\n",
      "Index: []\n"
     ]
    }
   ],
   "source": [
    "from ultralytics import YOLO\n",
    "import pandas as pd\n",
    "import os\n",
    "import json\n",
    "\n",
    "# Load the YOLO model\n",
    "model = YOLO('yolov8s-worldv2.pt')  # Use the specialized model\n",
    "\n",
    "#Load Dataset\n",
    "\n",
    "\n",
    "# Paths to folders\n",
    "folders = ['front', 'left', 'back', 'right']\n",
    "base_folder = \"./NYC_500/\"  # Adjust this to your folder structure\n",
    "folder_paths = {f: os.path.join(base_folder, f) for f in folders}\n",
    "\n",
    "# Define suffixes for each folder\n",
    "suffixes = {\n",
    "    'front': '01_x2.jpg',\n",
    "    'left': '10_x2.jpg',\n",
    "    'back': '03_x2.jpg',\n",
    "    'right': '02_x2.jpg'\n",
    "}\n",
    "\n",
    "# # Target amenities\n",
    "target_amenities = {'post_box', 'bicycle_parking', 'fast_food', 'waste_basket'}\n",
    "\n",
    "# Results storage\n",
    "detection_results = []\n",
    "\n",
    "# Iterate over IDs in the dataset\n",
    "for _, row in amenities_df.iterrows():\n",
    "    image_id = row['ID']\n",
    "    \n",
    "    # Iterate over the four folders\n",
    "    for folder, suffix in suffixes.items():\n",
    "        # Construct the image filename with suffix\n",
    "        image_filename = f\"{image_id}{suffix}\"\n",
    "        image_path = os.path.join(folder_paths[folder], image_filename)  # Path to the image\n",
    "        \n",
    "        # Check if the image exists\n",
    "        if os.path.exists(image_path):\n",
    "            # Run YOLO inference\n",
    "            results = model(image_path)\n",
    "            \n",
    "            # Process detection results\n",
    "            for result in results:\n",
    "                for box in result.boxes.data.tolist():\n",
    "                    class_id = int(box[5])  # Class ID\n",
    "                    label = model.names[class_id]  # Get label from class ID\n",
    "                    \n",
    "                    if label in target_amenities:\n",
    "                        detection_results.append({\n",
    "                            'id': image_id,\n",
    "                            'folder': folder,  # Indicate the source folder\n",
    "                            'label': label,\n",
    "                            'confidence': box[4],  # Confidence score\n",
    "                            'x_min': box[0],\n",
    "                            'y_min': box[1],\n",
    "                            'x_max': box[2],\n",
    "                            'y_max': box[3]\n",
    "                        })\n",
    "\n",
    "# Convert results to a DataFrame\n",
    "detection_df = pd.DataFrame(detection_results)\n",
    "\n",
    "# Save or display the results\n",
    "print(detection_df)"
   ]
  },
  {
   "cell_type": "code",
   "execution_count": null,
   "metadata": {},
   "outputs": [
    {
     "data": {
      "application/vnd.jupyter.widget-view+json": {
       "model_id": "fc1cc5e35d1f4df08b36f1236dd54d22",
       "version_major": 2,
       "version_minor": 0
      },
      "text/plain": [
       "preprocessor_config.json:   0%|          | 0.00/806 [00:00<?, ?B/s]"
      ]
     },
     "metadata": {},
     "output_type": "display_data"
    },
    {
     "name": "stderr",
     "output_type": "stream",
     "text": [
      "c:\\Users\\rudra\\AppData\\Local\\Programs\\Python\\Python311\\Lib\\site-packages\\huggingface_hub\\file_download.py:139: UserWarning: `huggingface_hub` cache-system uses symlinks by default to efficiently store duplicated files but your machine does not support them in C:\\Users\\rudra\\.cache\\huggingface\\hub\\models--microsoft--Florence-2-large. Caching files will still work but in a degraded version that might require more space on your disk. This warning can be disabled by setting the `HF_HUB_DISABLE_SYMLINKS_WARNING` environment variable. For more details, see https://huggingface.co/docs/huggingface_hub/how-to-cache#limitations.\n",
      "To support symlinks on Windows, you either need to activate Developer Mode or to run Python as an administrator. In order to activate developer mode, see this article: https://docs.microsoft.com/en-us/windows/apps/get-started/enable-your-device-for-development\n",
      "  warnings.warn(message)\n"
     ]
    },
    {
     "data": {
      "application/vnd.jupyter.widget-view+json": {
       "model_id": "c0a123ad2bc542a1ba7750e5c193e3ad",
       "version_major": 2,
       "version_minor": 0
      },
      "text/plain": [
       "config.json:   0%|          | 0.00/2.44k [00:00<?, ?B/s]"
      ]
     },
     "metadata": {},
     "output_type": "display_data"
    },
    {
     "ename": "ValueError",
     "evalue": "The repository for microsoft/Florence-2-large contains custom code which must be executed to correctly load the model. You can inspect the repository content at https://hf.co/microsoft/Florence-2-large.\nPlease pass the argument `trust_remote_code=True` to allow custom code to be run.",
     "output_type": "error",
     "traceback": [
      "\u001b[1;31m---------------------------------------------------------------------------\u001b[0m",
      "\u001b[1;31mAttributeError\u001b[0m                            Traceback (most recent call last)",
      "File \u001b[1;32mc:\\Users\\rudra\\AppData\\Local\\Programs\\Python\\Python311\\Lib\\site-packages\\transformers\\dynamic_module_utils.py:648\u001b[0m, in \u001b[0;36mresolve_trust_remote_code\u001b[1;34m(trust_remote_code, model_name, has_local_code, has_remote_code)\u001b[0m\n\u001b[0;32m    647\u001b[0m \u001b[38;5;28;01mtry\u001b[39;00m:\n\u001b[1;32m--> 648\u001b[0m     prev_sig_handler \u001b[38;5;241m=\u001b[39m signal\u001b[38;5;241m.\u001b[39msignal(\u001b[43msignal\u001b[49m\u001b[38;5;241;43m.\u001b[39;49m\u001b[43mSIGALRM\u001b[49m, _raise_timeout_error)\n\u001b[0;32m    649\u001b[0m     signal\u001b[38;5;241m.\u001b[39malarm(TIME_OUT_REMOTE_CODE)\n",
      "\u001b[1;31mAttributeError\u001b[0m: module 'signal' has no attribute 'SIGALRM'",
      "\nDuring handling of the above exception, another exception occurred:\n",
      "\u001b[1;31mValueError\u001b[0m                                Traceback (most recent call last)",
      "Cell \u001b[1;32mIn[1], line 10\u001b[0m\n\u001b[0;32m      8\u001b[0m \u001b[38;5;66;03m# Load the Florence-2-large model and its processor\u001b[39;00m\n\u001b[0;32m      9\u001b[0m processor \u001b[38;5;241m=\u001b[39m AutoImageProcessor\u001b[38;5;241m.\u001b[39mfrom_pretrained(\u001b[38;5;124m\"\u001b[39m\u001b[38;5;124mmicrosoft/Florence-2-large\u001b[39m\u001b[38;5;124m\"\u001b[39m)\n\u001b[1;32m---> 10\u001b[0m model \u001b[38;5;241m=\u001b[39m \u001b[43mAutoModelForObjectDetection\u001b[49m\u001b[38;5;241;43m.\u001b[39;49m\u001b[43mfrom_pretrained\u001b[49m\u001b[43m(\u001b[49m\u001b[38;5;124;43m\"\u001b[39;49m\u001b[38;5;124;43mmicrosoft/Florence-2-large\u001b[39;49m\u001b[38;5;124;43m\"\u001b[39;49m\u001b[43m)\u001b[49m\n\u001b[0;32m     12\u001b[0m \u001b[38;5;66;03m# Paths to folders\u001b[39;00m\n\u001b[0;32m     13\u001b[0m folders \u001b[38;5;241m=\u001b[39m [\u001b[38;5;124m'\u001b[39m\u001b[38;5;124mfront\u001b[39m\u001b[38;5;124m'\u001b[39m, \u001b[38;5;124m'\u001b[39m\u001b[38;5;124mleft\u001b[39m\u001b[38;5;124m'\u001b[39m, \u001b[38;5;124m'\u001b[39m\u001b[38;5;124mback\u001b[39m\u001b[38;5;124m'\u001b[39m, \u001b[38;5;124m'\u001b[39m\u001b[38;5;124mright\u001b[39m\u001b[38;5;124m'\u001b[39m]\n",
      "File \u001b[1;32mc:\\Users\\rudra\\AppData\\Local\\Programs\\Python\\Python311\\Lib\\site-packages\\transformers\\models\\auto\\auto_factory.py:526\u001b[0m, in \u001b[0;36m_BaseAutoModelClass.from_pretrained\u001b[1;34m(cls, pretrained_model_name_or_path, *model_args, **kwargs)\u001b[0m\n\u001b[0;32m    523\u001b[0m \u001b[38;5;28;01mif\u001b[39;00m kwargs\u001b[38;5;241m.\u001b[39mget(\u001b[38;5;124m\"\u001b[39m\u001b[38;5;124mquantization_config\u001b[39m\u001b[38;5;124m\"\u001b[39m, \u001b[38;5;28;01mNone\u001b[39;00m) \u001b[38;5;129;01mis\u001b[39;00m \u001b[38;5;129;01mnot\u001b[39;00m \u001b[38;5;28;01mNone\u001b[39;00m:\n\u001b[0;32m    524\u001b[0m     _ \u001b[38;5;241m=\u001b[39m kwargs\u001b[38;5;241m.\u001b[39mpop(\u001b[38;5;124m\"\u001b[39m\u001b[38;5;124mquantization_config\u001b[39m\u001b[38;5;124m\"\u001b[39m)\n\u001b[1;32m--> 526\u001b[0m config, kwargs \u001b[38;5;241m=\u001b[39m \u001b[43mAutoConfig\u001b[49m\u001b[38;5;241;43m.\u001b[39;49m\u001b[43mfrom_pretrained\u001b[49m\u001b[43m(\u001b[49m\n\u001b[0;32m    527\u001b[0m \u001b[43m    \u001b[49m\u001b[43mpretrained_model_name_or_path\u001b[49m\u001b[43m,\u001b[49m\n\u001b[0;32m    528\u001b[0m \u001b[43m    \u001b[49m\u001b[43mreturn_unused_kwargs\u001b[49m\u001b[38;5;241;43m=\u001b[39;49m\u001b[38;5;28;43;01mTrue\u001b[39;49;00m\u001b[43m,\u001b[49m\n\u001b[0;32m    529\u001b[0m \u001b[43m    \u001b[49m\u001b[43mtrust_remote_code\u001b[49m\u001b[38;5;241;43m=\u001b[39;49m\u001b[43mtrust_remote_code\u001b[49m\u001b[43m,\u001b[49m\n\u001b[0;32m    530\u001b[0m \u001b[43m    \u001b[49m\u001b[43mcode_revision\u001b[49m\u001b[38;5;241;43m=\u001b[39;49m\u001b[43mcode_revision\u001b[49m\u001b[43m,\u001b[49m\n\u001b[0;32m    531\u001b[0m \u001b[43m    \u001b[49m\u001b[43m_commit_hash\u001b[49m\u001b[38;5;241;43m=\u001b[39;49m\u001b[43mcommit_hash\u001b[49m\u001b[43m,\u001b[49m\n\u001b[0;32m    532\u001b[0m \u001b[43m    \u001b[49m\u001b[38;5;241;43m*\u001b[39;49m\u001b[38;5;241;43m*\u001b[39;49m\u001b[43mhub_kwargs\u001b[49m\u001b[43m,\u001b[49m\n\u001b[0;32m    533\u001b[0m \u001b[43m    \u001b[49m\u001b[38;5;241;43m*\u001b[39;49m\u001b[38;5;241;43m*\u001b[39;49m\u001b[43mkwargs\u001b[49m\u001b[43m,\u001b[49m\n\u001b[0;32m    534\u001b[0m \u001b[43m\u001b[49m\u001b[43m)\u001b[49m\n\u001b[0;32m    536\u001b[0m \u001b[38;5;66;03m# if torch_dtype=auto was passed here, ensure to pass it on\u001b[39;00m\n\u001b[0;32m    537\u001b[0m \u001b[38;5;28;01mif\u001b[39;00m kwargs_orig\u001b[38;5;241m.\u001b[39mget(\u001b[38;5;124m\"\u001b[39m\u001b[38;5;124mtorch_dtype\u001b[39m\u001b[38;5;124m\"\u001b[39m, \u001b[38;5;28;01mNone\u001b[39;00m) \u001b[38;5;241m==\u001b[39m \u001b[38;5;124m\"\u001b[39m\u001b[38;5;124mauto\u001b[39m\u001b[38;5;124m\"\u001b[39m:\n",
      "File \u001b[1;32mc:\\Users\\rudra\\AppData\\Local\\Programs\\Python\\Python311\\Lib\\site-packages\\transformers\\models\\auto\\configuration_auto.py:1020\u001b[0m, in \u001b[0;36mAutoConfig.from_pretrained\u001b[1;34m(cls, pretrained_model_name_or_path, **kwargs)\u001b[0m\n\u001b[0;32m   1018\u001b[0m has_remote_code \u001b[38;5;241m=\u001b[39m \u001b[38;5;124m\"\u001b[39m\u001b[38;5;124mauto_map\u001b[39m\u001b[38;5;124m\"\u001b[39m \u001b[38;5;129;01min\u001b[39;00m config_dict \u001b[38;5;129;01mand\u001b[39;00m \u001b[38;5;124m\"\u001b[39m\u001b[38;5;124mAutoConfig\u001b[39m\u001b[38;5;124m\"\u001b[39m \u001b[38;5;129;01min\u001b[39;00m config_dict[\u001b[38;5;124m\"\u001b[39m\u001b[38;5;124mauto_map\u001b[39m\u001b[38;5;124m\"\u001b[39m]\n\u001b[0;32m   1019\u001b[0m has_local_code \u001b[38;5;241m=\u001b[39m \u001b[38;5;124m\"\u001b[39m\u001b[38;5;124mmodel_type\u001b[39m\u001b[38;5;124m\"\u001b[39m \u001b[38;5;129;01min\u001b[39;00m config_dict \u001b[38;5;129;01mand\u001b[39;00m config_dict[\u001b[38;5;124m\"\u001b[39m\u001b[38;5;124mmodel_type\u001b[39m\u001b[38;5;124m\"\u001b[39m] \u001b[38;5;129;01min\u001b[39;00m CONFIG_MAPPING\n\u001b[1;32m-> 1020\u001b[0m trust_remote_code \u001b[38;5;241m=\u001b[39m \u001b[43mresolve_trust_remote_code\u001b[49m\u001b[43m(\u001b[49m\n\u001b[0;32m   1021\u001b[0m \u001b[43m    \u001b[49m\u001b[43mtrust_remote_code\u001b[49m\u001b[43m,\u001b[49m\u001b[43m \u001b[49m\u001b[43mpretrained_model_name_or_path\u001b[49m\u001b[43m,\u001b[49m\u001b[43m \u001b[49m\u001b[43mhas_local_code\u001b[49m\u001b[43m,\u001b[49m\u001b[43m \u001b[49m\u001b[43mhas_remote_code\u001b[49m\n\u001b[0;32m   1022\u001b[0m \u001b[43m\u001b[49m\u001b[43m)\u001b[49m\n\u001b[0;32m   1024\u001b[0m \u001b[38;5;28;01mif\u001b[39;00m has_remote_code \u001b[38;5;129;01mand\u001b[39;00m trust_remote_code:\n\u001b[0;32m   1025\u001b[0m     class_ref \u001b[38;5;241m=\u001b[39m config_dict[\u001b[38;5;124m\"\u001b[39m\u001b[38;5;124mauto_map\u001b[39m\u001b[38;5;124m\"\u001b[39m][\u001b[38;5;124m\"\u001b[39m\u001b[38;5;124mAutoConfig\u001b[39m\u001b[38;5;124m\"\u001b[39m]\n",
      "File \u001b[1;32mc:\\Users\\rudra\\AppData\\Local\\Programs\\Python\\Python311\\Lib\\site-packages\\transformers\\dynamic_module_utils.py:664\u001b[0m, in \u001b[0;36mresolve_trust_remote_code\u001b[1;34m(trust_remote_code, model_name, has_local_code, has_remote_code)\u001b[0m\n\u001b[0;32m    661\u001b[0m     signal\u001b[38;5;241m.\u001b[39malarm(\u001b[38;5;241m0\u001b[39m)\n\u001b[0;32m    662\u001b[0m \u001b[38;5;28;01mexcept\u001b[39;00m \u001b[38;5;167;01mException\u001b[39;00m:\n\u001b[0;32m    663\u001b[0m     \u001b[38;5;66;03m# OS which does not support signal.SIGALRM\u001b[39;00m\n\u001b[1;32m--> 664\u001b[0m     \u001b[38;5;28;01mraise\u001b[39;00m \u001b[38;5;167;01mValueError\u001b[39;00m(\n\u001b[0;32m    665\u001b[0m         \u001b[38;5;124mf\u001b[39m\u001b[38;5;124m\"\u001b[39m\u001b[38;5;124mThe repository for \u001b[39m\u001b[38;5;132;01m{\u001b[39;00mmodel_name\u001b[38;5;132;01m}\u001b[39;00m\u001b[38;5;124m contains custom code which must be executed to correctly \u001b[39m\u001b[38;5;124m\"\u001b[39m\n\u001b[0;32m    666\u001b[0m         \u001b[38;5;124mf\u001b[39m\u001b[38;5;124m\"\u001b[39m\u001b[38;5;124mload the model. You can inspect the repository content at https://hf.co/\u001b[39m\u001b[38;5;132;01m{\u001b[39;00mmodel_name\u001b[38;5;132;01m}\u001b[39;00m\u001b[38;5;124m.\u001b[39m\u001b[38;5;130;01m\\n\u001b[39;00m\u001b[38;5;124m\"\u001b[39m\n\u001b[0;32m    667\u001b[0m         \u001b[38;5;124mf\u001b[39m\u001b[38;5;124m\"\u001b[39m\u001b[38;5;124mPlease pass the argument `trust_remote_code=True` to allow custom code to be run.\u001b[39m\u001b[38;5;124m\"\u001b[39m\n\u001b[0;32m    668\u001b[0m     )\n\u001b[0;32m    669\u001b[0m \u001b[38;5;28;01mfinally\u001b[39;00m:\n\u001b[0;32m    670\u001b[0m     \u001b[38;5;28;01mif\u001b[39;00m prev_sig_handler \u001b[38;5;129;01mis\u001b[39;00m \u001b[38;5;129;01mnot\u001b[39;00m \u001b[38;5;28;01mNone\u001b[39;00m:\n",
      "\u001b[1;31mValueError\u001b[0m: The repository for microsoft/Florence-2-large contains custom code which must be executed to correctly load the model. You can inspect the repository content at https://hf.co/microsoft/Florence-2-large.\nPlease pass the argument `trust_remote_code=True` to allow custom code to be run."
     ]
    }
   ],
   "source": [
    "import os\n",
    "import torch\n",
    "from transformers import AutoImageProcessor, AutoModelForObjectDetection\n",
    "from PIL import Image\n",
    "import matplotlib.pyplot as plt\n",
    "import matplotlib.patches as patches\n",
    "\n",
    "# Load the Florence-2-large model and its processor\n",
    "processor = AutoImageProcessor.from_pretrained(\"microsoft/Florence-2-large\",trust_remote_code=True)\n",
    "model = AutoModelForObjectDetection.from_pretrained(\"microsoft/Florence-2-large\")\n",
    "\n",
    "# Paths to folders\n",
    "folders = ['front', 'left', 'back', 'right']\n",
    "base_folder = \"images/\"  # Adjust to your folder structure\n",
    "folder_paths = {f: os.path.join(base_folder, f) for f in folders}\n",
    "\n",
    "# Define suffixes for each folder\n",
    "suffixes = {\n",
    "    'front': '_front.jpg',\n",
    "    'left': '_left.jpg',\n",
    "    'back': '_back.jpg',\n",
    "    'right': '_right.jpg'\n",
    "}\n",
    "\n",
    "# Iterate over IDs in the dataset\n",
    "for _, row in final_with_distances_df.iterrows():\n",
    "    image_id = row['id']\n",
    "    target_amenities = {amenity['amenity'] for amenity in row['amenities']}\n",
    "\n",
    "    # Process each folder for the current ID\n",
    "    for folder, suffix in suffixes.items():\n",
    "        image_filename = f\"{image_id}{suffix}\"\n",
    "        image_path = os.path.join(folder_paths[folder], image_filename)\n",
    "\n",
    "        # Check if the image exists\n",
    "        if os.path.exists(image_path):\n",
    "            # Load the image\n",
    "            image = Image.open(image_path).convert(\"RGB\")\n",
    "\n",
    "            # Preprocess the image\n",
    "            inputs = processor(images=image, return_tensors=\"pt\")\n",
    "\n",
    "            # Perform object detection\n",
    "            outputs = model(**inputs)\n",
    "\n",
    "            # Extract predictions\n",
    "            logits = outputs.logits\n",
    "            target_sizes = torch.tensor([image.size[::-1]])\n",
    "            results = processor.post_process_object_detection(\n",
    "                outputs, target_sizes=target_sizes, threshold=0.25\n",
    "            )[0]\n",
    "\n",
    "            # Draw the image with bounding boxes\n",
    "            fig, ax = plt.subplots(1, figsize=(12, 12))\n",
    "            ax.imshow(image)\n",
    "\n",
    "            for box, label, score in zip(results[\"boxes\"], results[\"labels\"], results[\"scores\"]):\n",
    "                box = box.tolist()\n",
    "                label = model.config.id2label[label.item()]  # Convert label ID to class name\n",
    "                if label in target_amenities:  # Only consider target amenities\n",
    "                    confidence = score.item()\n",
    "                    x_min, y_min, x_max, y_max = box\n",
    "\n",
    "                    # Draw bounding box\n",
    "                    rect = patches.Rectangle(\n",
    "                        (x_min, y_min),\n",
    "                        x_max - x_min,\n",
    "                        y_max - y_min,\n",
    "                        linewidth=2,\n",
    "                        edgecolor=\"red\",\n",
    "                        facecolor=\"none\"\n",
    "                    )\n",
    "                    ax.add_patch(rect)\n",
    "\n",
    "                    # Add label and confidence\n",
    "                    ax.text(\n",
    "                        x_min,\n",
    "                        y_min - 10,\n",
    "                        f\"{label} ({confidence:.2f})\",\n",
    "                        color=\"red\",\n",
    "                        fontsize=12,\n",
    "                        weight=\"bold\",\n",
    "                        bbox=dict(facecolor=\"white\", alpha=0.7)\n",
    "                    )\n",
    "\n",
    "            # Title and display\n",
    "            ax.set_title(f\"Detections in {folder} for ID {image_id}\", fontsize=16)\n",
    "            plt.axis(\"off\")\n",
    "            plt.show()\n"
   ]
  },
  {
   "cell_type": "code",
   "execution_count": null,
   "metadata": {},
   "outputs": [],
   "source": []
  }
 ],
 "metadata": {
  "kernelspec": {
   "display_name": "Python 3",
   "language": "python",
   "name": "python3"
  },
  "language_info": {
   "codemirror_mode": {
    "name": "ipython",
    "version": 3
   },
   "file_extension": ".py",
   "mimetype": "text/x-python",
   "name": "python",
   "nbconvert_exporter": "python",
   "pygments_lexer": "ipython3",
   "version": "3.11.0"
  }
 },
 "nbformat": 4,
 "nbformat_minor": 2
}
