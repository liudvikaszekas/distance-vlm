{
 "cells": [
  {
   "cell_type": "code",
   "execution_count": 1,
   "id": "d3493a0c-92da-4a73-a050-adaf7276f345",
   "metadata": {},
   "outputs": [
    {
     "name": "stderr",
     "output_type": "stream",
     "text": [
      "/hpi/fs00/home/liudvikas.zekas/miniconda3/envs/lmms-finetune/lib/python3.10/site-packages/tqdm/auto.py:21: TqdmWarning: IProgress not found. Please update jupyter and ipywidgets. See https://ipywidgets.readthedocs.io/en/stable/user_install.html\n",
      "  from .autonotebook import tqdm as notebook_tqdm\n"
     ]
    }
   ],
   "source": [
    "import os\n",
    "import re\n",
    "import json\n",
    "import torch\n",
    "import pandas as pd\n",
    "from PIL import Image\n",
    "from transformers import AutoProcessor, LlavaOnevisionForConditionalGeneration\n",
    "\n",
    "# Function to extract a number (optionally followed by meter units) from text.\n",
    "def extract_meter(text):\n",
    "    \"\"\"\n",
    "    Extracts the first occurrence of a number (optionally followed by 'meters', 'meter', or 'm')\n",
    "    from the given text and returns it as a float.\n",
    "    \"\"\"\n",
    "    match = re.search(r\"(\\d+(?:\\.\\d+)?)\\s*(?:meters?|m)?\", text, re.IGNORECASE)\n",
    "    if match:\n",
    "        try:\n",
    "            return float(match.group(1))\n",
    "        except Exception as e:\n",
    "            print(\"Error converting extracted value:\", e)\n",
    "    return None\n",
    "\n",
    "def inference_llava_image(model, processor, image_source, human_text, use_url=False):\n",
    "    \"\"\"\n",
    "    Run inference on a single image using Llava Onevision.\n",
    "    \n",
    "    Args:\n",
    "        model: The Llava Onevision model.\n",
    "        processor: The processor for formatting the prompt and image.\n",
    "        image_source (str): If use_url is True, this is the image URL; otherwise, it's the local image file path.\n",
    "        human_text (str): The text prompt (with any \"<image>\" marker removed).\n",
    "        use_url (bool): Whether the image_source is a URL.\n",
    "    \n",
    "    Returns:\n",
    "        output_text (str): The generated answer from the model.\n",
    "    \"\"\"\n",
    "    print(human_text)\n",
    "    # For a local image, load it and use an image placeholder.\n",
    "    image = Image.open(image_source).convert(\"RGB\")\n",
    "    conversation = [\n",
    "        {\n",
    "            \"role\": \"user\",\n",
    "            \"content\": [\n",
    "                {\"type\": \"image\"},\n",
    "                {\"type\": \"text\", \"text\": human_text},\n",
    "            ],\n",
    "        },\n",
    "    ]\n",
    "    # First, build the text prompt with tokenization.\n",
    "    inputs = processor.apply_chat_template(\n",
    "        conversation,\n",
    "        add_generation_prompt=True,\n",
    "    )\n",
    "    # Then, pass the loaded image along with the prompt.\n",
    "    inputs = processor(\n",
    "        text=inputs,\n",
    "        images=image,\n",
    "        return_tensors=\"pt\"\n",
    "    ).to(0, torch.float16)\n",
    "    \n",
    "    # Generate the model output.\n",
    "    output_ids = model.generate(**inputs, max_new_tokens=100, do_sample=False)\n",
    "    \n",
    "    print(\"HALLO\")\n",
    "    output_text = processor.decode(output_ids[0], skip_special_tokens=True)\n",
    "    return output_text\n",
    "\n",
    "def run_llava_inference_on_dataset(model, processor, dataset_path, image_root, save_name, use_url=False):\n",
    "    \"\"\"\n",
    "    Iterate over items in the test JSON file, run inference, extract meter values,\n",
    "    compute the absolute error against the ground truth, and save results.\n",
    "    \n",
    "    Args:\n",
    "        model: The Llava Onevision model.\n",
    "        processor: The processor.\n",
    "        dataset_path (str): Path to the JSON file (e.g., \"./dataset_new/test.json\").\n",
    "        image_root (str): Root directory for images (if not using URL).\n",
    "        save_name (str): Base name for the output CSV file.\n",
    "        use_url (bool): Whether the image paths in the dataset are URLs.\n",
    "    \n",
    "    Returns:\n",
    "        df: A pandas DataFrame with columns: id, predicted_meter, ground_truth_meter, and error.\n",
    "    \"\"\"\n",
    "    results = []\n",
    "    \n",
    "    with open(dataset_path, \"r\") as f:\n",
    "        data = json.load(f)\n",
    "    \n",
    "    for item in data:\n",
    "        item_id = item.get(\"id\")\n",
    "        image_file = item[\"image\"]\n",
    "        image_source = image_file if use_url else os.path.join(image_root, image_file.lstrip(\"/\"))\n",
    "        \n",
    "        # Extract the human prompt.\n",
    "        human_text = \"\"\n",
    "        for conv in item.get(\"conversations\", []):\n",
    "            if conv.get(\"from\", \"\").lower() == \"human\":\n",
    "                human_text = conv.get(\"value\", \"\")\n",
    "                break\n",
    "        if human_text.startswith(\"<image>\"):\n",
    "            human_text = human_text[len(\"<image>\"):].strip()\n",
    "        \n",
    "        # Extract the ground truth answer from the first GPT message.\n",
    "        ground_truth_str = \"\"\n",
    "        for conv in item.get(\"conversations\", []):\n",
    "            if conv.get(\"from\", \"\").lower() == \"gpt\":\n",
    "                ground_truth_str = conv.get(\"value\", \"\")\n",
    "                break\n",
    "        \n",
    "        \n",
    "        model_output = inference_llava_image(model, processor, image_source, human_text, use_url=use_url)\n",
    "\n",
    "        \n",
    "        pred_meter = extract_meter(model_output)\n",
    "        gt_meter = extract_meter(ground_truth_str)\n",
    "        error = abs(pred_meter - gt_meter) if (pred_meter is not None and gt_meter is not None) else None\n",
    "        \n",
    "        print(f\"Item ID: {item_id}\")\n",
    "        print(\"Predicted Meter:\", pred_meter)\n",
    "        print(\"Ground Truth:\", gt_meter)\n",
    "        print(\"Error:\", error)\n",
    "        print(\"=\" * 50)\n",
    "        \n",
    "        results.append({\n",
    "            \"id\": item_id,\n",
    "            \"predicted_meter\": pred_meter,\n",
    "            \"ground_truth_meter\": gt_meter,\n",
    "            \"error\": error\n",
    "        })\n",
    "    \n",
    "    # Save the results to a CSV file.\n",
    "    df = pd.DataFrame(results)\n",
    "    csv_filename = f\"res/{save_name}.csv\"\n",
    "    df.to_csv(csv_filename, index=False)\n",
    "    print(f\"Results saved to {csv_filename}\")\n",
    "    \n",
    "    return df\n",
    "\n"
   ]
  },
  {
   "cell_type": "code",
   "execution_count": 2,
   "id": "252b3a46-bc93-4dcd-974e-8b8d77b6da49",
   "metadata": {},
   "outputs": [],
   "source": [
    "test_json_path = \"./dataset_new/test.json\"\n",
    "image_root = \"/\"\n",
    "processor = AutoProcessor.from_pretrained(\"llava-hf/llava-onevision-qwen2-7b-ov-hf\")"
   ]
  },
  {
   "cell_type": "code",
   "execution_count": 3,
   "id": "3ed90b34-eea8-4387-82fa-a1532d08f1b9",
   "metadata": {
    "scrolled": true
   },
   "outputs": [
    {
     "name": "stderr",
     "output_type": "stream",
     "text": [
      "Loading checkpoint shards: 100%|██████████████████████████████████████████████████████████████████████████████████████████████████████████████████████████████████████████████████████| 4/4 [00:29<00:00,  7.42s/it]\n"
     ]
    },
    {
     "name": "stdout",
     "output_type": "stream",
     "text": [
      "=== Inference using the Base onevision Model ===\n",
      "How far is the gas station away from the camera in meters, rounded to the next meter?\n"
     ]
    },
    {
     "name": "stderr",
     "output_type": "stream",
     "text": [
      "Setting `pad_token_id` to `eos_token_id`:None for open-end generation.\n",
      "Starting from v4.46, the `logits` model output will have the same type as the model (except at train time, where it will always be FP32)\n",
      "Setting `pad_token_id` to `eos_token_id`:None for open-end generation.\n"
     ]
    },
    {
     "name": "stdout",
     "output_type": "stream",
     "text": [
      "HALLO\n",
      "Item ID: ugebwzaohO3D7XbW343_qA_back\n",
      "Predicted Meter: None\n",
      "Ground Truth: 30.0\n",
      "Error: None\n",
      "==================================================\n",
      "How far is the post box away from the camera in meters, rounded to the next meter?\n"
     ]
    },
    {
     "name": "stderr",
     "output_type": "stream",
     "text": [
      "Setting `pad_token_id` to `eos_token_id`:None for open-end generation.\n"
     ]
    },
    {
     "name": "stdout",
     "output_type": "stream",
     "text": [
      "HALLO\n",
      "Item ID: qz33ZhqXW5DY-2hPzv2CMQ_back\n",
      "Predicted Meter: 10.0\n",
      "Ground Truth: 10.0\n",
      "Error: 0.0\n",
      "==================================================\n",
      "How far is the gas station away from the camera in meters, rounded to the next meter?\n"
     ]
    },
    {
     "name": "stderr",
     "output_type": "stream",
     "text": [
      "Setting `pad_token_id` to `eos_token_id`:None for open-end generation.\n"
     ]
    },
    {
     "name": "stdout",
     "output_type": "stream",
     "text": [
      "HALLO\n",
      "Item ID: z3ndUO5NBsQdcR6Onfs8kw_right\n",
      "Predicted Meter: 100.0\n",
      "Ground Truth: 27.0\n",
      "Error: 73.0\n",
      "==================================================\n",
      "How far is the gas station away from the camera in meters, rounded to the next meter?\n"
     ]
    },
    {
     "name": "stderr",
     "output_type": "stream",
     "text": [
      "Setting `pad_token_id` to `eos_token_id`:None for open-end generation.\n"
     ]
    },
    {
     "name": "stdout",
     "output_type": "stream",
     "text": [
      "HALLO\n",
      "Item ID: Tx4CWkxiDU1xV7-uZ6lLrw_right\n",
      "Predicted Meter: None\n",
      "Ground Truth: 25.0\n",
      "Error: None\n",
      "==================================================\n",
      "How far is the gas station away from the camera in meters, rounded to the next meter?\n"
     ]
    },
    {
     "name": "stderr",
     "output_type": "stream",
     "text": [
      "Setting `pad_token_id` to `eos_token_id`:None for open-end generation.\n"
     ]
    },
    {
     "name": "stdout",
     "output_type": "stream",
     "text": [
      "HALLO\n",
      "Item ID: 8QVoY6NmGZBiZz1qi5irCQ_left\n",
      "Predicted Meter: 150.0\n",
      "Ground Truth: 25.0\n",
      "Error: 125.0\n",
      "==================================================\n",
      "How far is the gas station away from the camera in meters, rounded to the next meter?\n"
     ]
    },
    {
     "name": "stderr",
     "output_type": "stream",
     "text": [
      "Setting `pad_token_id` to `eos_token_id`:None for open-end generation.\n"
     ]
    },
    {
     "name": "stdout",
     "output_type": "stream",
     "text": [
      "HALLO\n",
      "Item ID: BBpzL8ql3kRAEMJpc1_HGw_right\n",
      "Predicted Meter: 100.0\n",
      "Ground Truth: 24.0\n",
      "Error: 76.0\n",
      "==================================================\n",
      "How far is the gas station away from the camera in meters, rounded to the next meter?\n"
     ]
    },
    {
     "name": "stderr",
     "output_type": "stream",
     "text": [
      "Setting `pad_token_id` to `eos_token_id`:None for open-end generation.\n"
     ]
    },
    {
     "name": "stdout",
     "output_type": "stream",
     "text": [
      "HALLO\n",
      "Item ID: r-yGTE7GDoTFE49DyCJOQw_front\n",
      "Predicted Meter: 100.0\n",
      "Ground Truth: 25.0\n",
      "Error: 75.0\n",
      "==================================================\n",
      "How far is the gas station away from the camera in meters, rounded to the next meter?\n"
     ]
    },
    {
     "name": "stderr",
     "output_type": "stream",
     "text": [
      "Setting `pad_token_id` to `eos_token_id`:None for open-end generation.\n"
     ]
    },
    {
     "name": "stdout",
     "output_type": "stream",
     "text": [
      "HALLO\n",
      "Item ID: eC7O22NYV9d6KWGMa4vR7A_front\n",
      "Predicted Meter: None\n",
      "Ground Truth: 21.0\n",
      "Error: None\n",
      "==================================================\n",
      "How far is the gas station away from the camera in meters, rounded to the next meter?\n"
     ]
    },
    {
     "name": "stderr",
     "output_type": "stream",
     "text": [
      "Setting `pad_token_id` to `eos_token_id`:None for open-end generation.\n"
     ]
    },
    {
     "name": "stdout",
     "output_type": "stream",
     "text": [
      "HALLO\n",
      "Item ID: mGq1XR8eBPbK9_J0gOAOlQ_back\n",
      "Predicted Meter: 100.0\n",
      "Ground Truth: 26.0\n",
      "Error: 74.0\n",
      "==================================================\n",
      "How far is the gas station away from the camera in meters, rounded to the next meter?\n"
     ]
    },
    {
     "name": "stderr",
     "output_type": "stream",
     "text": [
      "Setting `pad_token_id` to `eos_token_id`:None for open-end generation.\n"
     ]
    },
    {
     "name": "stdout",
     "output_type": "stream",
     "text": [
      "HALLO\n",
      "Item ID: 8oe-e2AHXuj3E1JMMp7LUQ_back\n",
      "Predicted Meter: 150.0\n",
      "Ground Truth: 20.0\n",
      "Error: 130.0\n",
      "==================================================\n",
      "How far is the gas station away from the camera in meters, rounded to the next meter?\n"
     ]
    },
    {
     "name": "stderr",
     "output_type": "stream",
     "text": [
      "Setting `pad_token_id` to `eos_token_id`:None for open-end generation.\n"
     ]
    },
    {
     "name": "stdout",
     "output_type": "stream",
     "text": [
      "HALLO\n",
      "Item ID: Aita8sR2NtHUJE-mmnR5eA_right\n",
      "Predicted Meter: 100.0\n",
      "Ground Truth: 26.0\n",
      "Error: 74.0\n",
      "==================================================\n",
      "How far is the gas station away from the camera in meters, rounded to the next meter?\n"
     ]
    },
    {
     "name": "stderr",
     "output_type": "stream",
     "text": [
      "Setting `pad_token_id` to `eos_token_id`:None for open-end generation.\n"
     ]
    },
    {
     "name": "stdout",
     "output_type": "stream",
     "text": [
      "HALLO\n",
      "Item ID: UFsdG3hTkVymziyC-ZxMYQ_left\n",
      "Predicted Meter: None\n",
      "Ground Truth: 29.0\n",
      "Error: None\n",
      "==================================================\n",
      "How far is the post box away from the camera in meters, rounded to the next meter?\n"
     ]
    },
    {
     "name": "stderr",
     "output_type": "stream",
     "text": [
      "Setting `pad_token_id` to `eos_token_id`:None for open-end generation.\n"
     ]
    },
    {
     "name": "stdout",
     "output_type": "stream",
     "text": [
      "HALLO\n",
      "Item ID: R9dD-rTZG17YN-mnL9kvpQ_right\n",
      "Predicted Meter: 2.0\n",
      "Ground Truth: 28.0\n",
      "Error: 26.0\n",
      "==================================================\n",
      "How far is the large waste dumpster away from the camera in meters, rounded to the next meter?\n"
     ]
    },
    {
     "name": "stderr",
     "output_type": "stream",
     "text": [
      "Setting `pad_token_id` to `eos_token_id`:None for open-end generation.\n"
     ]
    },
    {
     "name": "stdout",
     "output_type": "stream",
     "text": [
      "HALLO\n",
      "Item ID: iGoMMW3J_lxftnHeOXACmA_front\n",
      "Predicted Meter: 10.0\n",
      "Ground Truth: 24.0\n",
      "Error: 14.0\n",
      "==================================================\n",
      "How far is the gas station away from the camera in meters, rounded to the next meter?\n"
     ]
    },
    {
     "name": "stderr",
     "output_type": "stream",
     "text": [
      "Setting `pad_token_id` to `eos_token_id`:None for open-end generation.\n"
     ]
    },
    {
     "name": "stdout",
     "output_type": "stream",
     "text": [
      "HALLO\n",
      "Item ID: YJHBrKidMhT7l8QarqnQiQ_right\n",
      "Predicted Meter: 100.0\n",
      "Ground Truth: 28.0\n",
      "Error: 72.0\n",
      "==================================================\n",
      "How far is the vending machine away from the camera in meters, rounded to the next meter?\n"
     ]
    },
    {
     "name": "stderr",
     "output_type": "stream",
     "text": [
      "Setting `pad_token_id` to `eos_token_id`:None for open-end generation.\n"
     ]
    },
    {
     "name": "stdout",
     "output_type": "stream",
     "text": [
      "HALLO\n",
      "Item ID: Q5uPvNi_9o7WZoOzLpPs3A_right\n",
      "Predicted Meter: 10.0\n",
      "Ground Truth: 25.0\n",
      "Error: 15.0\n",
      "==================================================\n",
      "How far is the gas station away from the camera in meters, rounded to the next meter?\n"
     ]
    },
    {
     "name": "stderr",
     "output_type": "stream",
     "text": [
      "Setting `pad_token_id` to `eos_token_id`:None for open-end generation.\n"
     ]
    },
    {
     "name": "stdout",
     "output_type": "stream",
     "text": [
      "HALLO\n",
      "Item ID: 2k_tvKZMASA2E5VbB0GaXQ_back\n",
      "Predicted Meter: None\n",
      "Ground Truth: 29.0\n",
      "Error: None\n",
      "==================================================\n",
      "How far is the gas station away from the camera in meters, rounded to the next meter?\n"
     ]
    },
    {
     "name": "stderr",
     "output_type": "stream",
     "text": [
      "Setting `pad_token_id` to `eos_token_id`:None for open-end generation.\n"
     ]
    },
    {
     "name": "stdout",
     "output_type": "stream",
     "text": [
      "HALLO\n",
      "Item ID: eQ-gEUsyOXA85uoFC-ftWQ_right\n",
      "Predicted Meter: None\n",
      "Ground Truth: 28.0\n",
      "Error: None\n",
      "==================================================\n",
      "How far is the gas station away from the camera in meters, rounded to the next meter?\n"
     ]
    },
    {
     "name": "stderr",
     "output_type": "stream",
     "text": [
      "Setting `pad_token_id` to `eos_token_id`:None for open-end generation.\n"
     ]
    },
    {
     "name": "stdout",
     "output_type": "stream",
     "text": [
      "HALLO\n",
      "Item ID: BCLppoUZzUo1hHwOXlMFdw_right\n",
      "Predicted Meter: 100.0\n",
      "Ground Truth: 24.0\n",
      "Error: 76.0\n",
      "==================================================\n",
      "How far is the large waste dumpster away from the camera in meters, rounded to the next meter?\n"
     ]
    },
    {
     "name": "stderr",
     "output_type": "stream",
     "text": [
      "Setting `pad_token_id` to `eos_token_id`:None for open-end generation.\n"
     ]
    },
    {
     "name": "stdout",
     "output_type": "stream",
     "text": [
      "HALLO\n",
      "Item ID: -3SAmGjbIQXzZTfUtGeakw_right\n",
      "Predicted Meter: 20.0\n",
      "Ground Truth: 22.0\n",
      "Error: 2.0\n",
      "==================================================\n",
      "How far is the post box away from the camera in meters, rounded to the next meter?\n"
     ]
    },
    {
     "name": "stderr",
     "output_type": "stream",
     "text": [
      "Setting `pad_token_id` to `eos_token_id`:None for open-end generation.\n"
     ]
    },
    {
     "name": "stdout",
     "output_type": "stream",
     "text": [
      "HALLO\n",
      "Item ID: WSAWFRhBUpcfb5K_IyDjmQ_right\n",
      "Predicted Meter: 10.0\n",
      "Ground Truth: 15.0\n",
      "Error: 5.0\n",
      "==================================================\n",
      "How far is the gas station away from the camera in meters, rounded to the next meter?\n"
     ]
    },
    {
     "name": "stderr",
     "output_type": "stream",
     "text": [
      "Setting `pad_token_id` to `eos_token_id`:None for open-end generation.\n"
     ]
    },
    {
     "name": "stdout",
     "output_type": "stream",
     "text": [
      "HALLO\n",
      "Item ID: 34rhcF7_5z_xCF7rHKL4Ug_back\n",
      "Predicted Meter: 150.0\n",
      "Ground Truth: 25.0\n",
      "Error: 125.0\n",
      "==================================================\n",
      "How far is the gas station away from the camera in meters, rounded to the next meter?\n"
     ]
    },
    {
     "name": "stderr",
     "output_type": "stream",
     "text": [
      "Setting `pad_token_id` to `eos_token_id`:None for open-end generation.\n"
     ]
    },
    {
     "name": "stdout",
     "output_type": "stream",
     "text": [
      "HALLO\n",
      "Item ID: ls5vsLksz2FGrtiX4pXcjw_back\n",
      "Predicted Meter: None\n",
      "Ground Truth: 22.0\n",
      "Error: None\n",
      "==================================================\n",
      "How far is the gas station away from the camera in meters, rounded to the next meter?\n"
     ]
    },
    {
     "name": "stderr",
     "output_type": "stream",
     "text": [
      "Setting `pad_token_id` to `eos_token_id`:None for open-end generation.\n"
     ]
    },
    {
     "name": "stdout",
     "output_type": "stream",
     "text": [
      "HALLO\n",
      "Item ID: _G_-fkVxInuOL_gh1TCkAw_right\n",
      "Predicted Meter: 100.0\n",
      "Ground Truth: 19.0\n",
      "Error: 81.0\n",
      "==================================================\n",
      "How far is the post box away from the camera in meters, rounded to the next meter?\n"
     ]
    },
    {
     "name": "stderr",
     "output_type": "stream",
     "text": [
      "Setting `pad_token_id` to `eos_token_id`:None for open-end generation.\n"
     ]
    },
    {
     "name": "stdout",
     "output_type": "stream",
     "text": [
      "HALLO\n",
      "Item ID: KsAhdawvyYxlqfej-gzUsA_front\n",
      "Predicted Meter: 20.0\n",
      "Ground Truth: 11.0\n",
      "Error: 9.0\n",
      "==================================================\n",
      "How far is the gas station away from the camera in meters, rounded to the next meter?\n"
     ]
    },
    {
     "name": "stderr",
     "output_type": "stream",
     "text": [
      "Setting `pad_token_id` to `eos_token_id`:None for open-end generation.\n"
     ]
    },
    {
     "name": "stdout",
     "output_type": "stream",
     "text": [
      "HALLO\n",
      "Item ID: lIJcDFhNquz9zvnRLHqWbA_back\n",
      "Predicted Meter: 150.0\n",
      "Ground Truth: 22.0\n",
      "Error: 128.0\n",
      "==================================================\n",
      "How far is the gas station away from the camera in meters, rounded to the next meter?\n"
     ]
    },
    {
     "name": "stderr",
     "output_type": "stream",
     "text": [
      "Setting `pad_token_id` to `eos_token_id`:None for open-end generation.\n"
     ]
    },
    {
     "name": "stdout",
     "output_type": "stream",
     "text": [
      "HALLO\n",
      "Item ID: 72ebTpipZnU1ZlSBp2nSuQ_right\n",
      "Predicted Meter: 100.0\n",
      "Ground Truth: 23.0\n",
      "Error: 77.0\n",
      "==================================================\n",
      "How far is the gas station away from the camera in meters, rounded to the next meter?\n"
     ]
    },
    {
     "name": "stderr",
     "output_type": "stream",
     "text": [
      "Setting `pad_token_id` to `eos_token_id`:None for open-end generation.\n"
     ]
    },
    {
     "name": "stdout",
     "output_type": "stream",
     "text": [
      "HALLO\n",
      "Item ID: A3DdT3R0Me5Thr0jZ3vqbA_right\n",
      "Predicted Meter: 100.0\n",
      "Ground Truth: 21.0\n",
      "Error: 79.0\n",
      "==================================================\n",
      "How far is the gas station away from the camera in meters, rounded to the next meter?\n"
     ]
    },
    {
     "name": "stderr",
     "output_type": "stream",
     "text": [
      "Setting `pad_token_id` to `eos_token_id`:None for open-end generation.\n"
     ]
    },
    {
     "name": "stdout",
     "output_type": "stream",
     "text": [
      "HALLO\n",
      "Item ID: s8b27kdyBAl_sotzHJ5wYA_right\n",
      "Predicted Meter: 150.0\n",
      "Ground Truth: 26.0\n",
      "Error: 124.0\n",
      "==================================================\n",
      "How far is the gas station away from the camera in meters, rounded to the next meter?\n"
     ]
    },
    {
     "name": "stderr",
     "output_type": "stream",
     "text": [
      "Setting `pad_token_id` to `eos_token_id`:None for open-end generation.\n"
     ]
    },
    {
     "name": "stdout",
     "output_type": "stream",
     "text": [
      "HALLO\n",
      "Item ID: 1TTgoWtPcUDu1ii-0vUysA_right\n",
      "Predicted Meter: 100.0\n",
      "Ground Truth: 25.0\n",
      "Error: 75.0\n",
      "==================================================\n",
      "How far is the gas station away from the camera in meters, rounded to the next meter?\n"
     ]
    },
    {
     "name": "stderr",
     "output_type": "stream",
     "text": [
      "Setting `pad_token_id` to `eos_token_id`:None for open-end generation.\n"
     ]
    },
    {
     "name": "stdout",
     "output_type": "stream",
     "text": [
      "HALLO\n",
      "Item ID: xNuPeVv3Ean47MOZXJzdgQ_left\n",
      "Predicted Meter: 150.0\n",
      "Ground Truth: 17.0\n",
      "Error: 133.0\n",
      "==================================================\n",
      "How far is the gas station away from the camera in meters, rounded to the next meter?\n"
     ]
    },
    {
     "name": "stderr",
     "output_type": "stream",
     "text": [
      "Setting `pad_token_id` to `eos_token_id`:None for open-end generation.\n"
     ]
    },
    {
     "name": "stdout",
     "output_type": "stream",
     "text": [
      "HALLO\n",
      "Item ID: IM5Tg5Vs_XNKPB0Y6bXQJA_right\n",
      "Predicted Meter: 100.0\n",
      "Ground Truth: 24.0\n",
      "Error: 76.0\n",
      "==================================================\n",
      "How far is the gas station away from the camera in meters, rounded to the next meter?\n"
     ]
    },
    {
     "name": "stderr",
     "output_type": "stream",
     "text": [
      "Setting `pad_token_id` to `eos_token_id`:None for open-end generation.\n"
     ]
    },
    {
     "name": "stdout",
     "output_type": "stream",
     "text": [
      "HALLO\n",
      "Item ID: wnCjh-4PWBDlednovnwurQ_front\n",
      "Predicted Meter: None\n",
      "Ground Truth: 20.0\n",
      "Error: None\n",
      "==================================================\n",
      "How far is the gas station away from the camera in meters, rounded to the next meter?\n"
     ]
    },
    {
     "name": "stderr",
     "output_type": "stream",
     "text": [
      "Setting `pad_token_id` to `eos_token_id`:None for open-end generation.\n"
     ]
    },
    {
     "name": "stdout",
     "output_type": "stream",
     "text": [
      "HALLO\n",
      "Item ID: UQu9TdfMPsz6HgCBXwm_OA_right\n",
      "Predicted Meter: 150.0\n",
      "Ground Truth: 28.0\n",
      "Error: 122.0\n",
      "==================================================\n",
      "How far is the vending machine away from the camera in meters, rounded to the next meter?\n"
     ]
    },
    {
     "name": "stderr",
     "output_type": "stream",
     "text": [
      "Setting `pad_token_id` to `eos_token_id`:None for open-end generation.\n"
     ]
    },
    {
     "name": "stdout",
     "output_type": "stream",
     "text": [
      "HALLO\n",
      "Item ID: JralPklJ9gCp4EA_RyeWRA_front\n",
      "Predicted Meter: 100.0\n",
      "Ground Truth: 22.0\n",
      "Error: 78.0\n",
      "==================================================\n",
      "How far is the gas station away from the camera in meters, rounded to the next meter?\n"
     ]
    },
    {
     "name": "stderr",
     "output_type": "stream",
     "text": [
      "Setting `pad_token_id` to `eos_token_id`:None for open-end generation.\n"
     ]
    },
    {
     "name": "stdout",
     "output_type": "stream",
     "text": [
      "HALLO\n",
      "Item ID: M9wYWkddYwPsS8bOAAnVQA_front\n",
      "Predicted Meter: 150.0\n",
      "Ground Truth: 30.0\n",
      "Error: 120.0\n",
      "==================================================\n",
      "How far is the gas station away from the camera in meters, rounded to the next meter?\n"
     ]
    },
    {
     "name": "stderr",
     "output_type": "stream",
     "text": [
      "Setting `pad_token_id` to `eos_token_id`:None for open-end generation.\n"
     ]
    },
    {
     "name": "stdout",
     "output_type": "stream",
     "text": [
      "HALLO\n",
      "Item ID: 3cTQXFxHQ4AaC7aogs4uKg_front\n",
      "Predicted Meter: 80.0\n",
      "Ground Truth: 29.0\n",
      "Error: 51.0\n",
      "==================================================\n",
      "How far is the gas station away from the camera in meters, rounded to the next meter?\n"
     ]
    },
    {
     "name": "stderr",
     "output_type": "stream",
     "text": [
      "Setting `pad_token_id` to `eos_token_id`:None for open-end generation.\n"
     ]
    },
    {
     "name": "stdout",
     "output_type": "stream",
     "text": [
      "HALLO\n",
      "Item ID: rdd9lAv469KKItvAGNOOJg_right\n",
      "Predicted Meter: 100.0\n",
      "Ground Truth: 25.0\n",
      "Error: 75.0\n",
      "==================================================\n",
      "How far is the post box away from the camera in meters, rounded to the next meter?\n"
     ]
    },
    {
     "name": "stderr",
     "output_type": "stream",
     "text": [
      "Setting `pad_token_id` to `eos_token_id`:None for open-end generation.\n"
     ]
    },
    {
     "name": "stdout",
     "output_type": "stream",
     "text": [
      "HALLO\n",
      "Item ID: XIaYmJKv1Oh2TzOBENycvA_right\n",
      "Predicted Meter: None\n",
      "Ground Truth: 28.0\n",
      "Error: None\n",
      "==================================================\n",
      "How far is the gas station away from the camera in meters, rounded to the next meter?\n"
     ]
    },
    {
     "name": "stderr",
     "output_type": "stream",
     "text": [
      "Setting `pad_token_id` to `eos_token_id`:None for open-end generation.\n"
     ]
    },
    {
     "name": "stdout",
     "output_type": "stream",
     "text": [
      "HALLO\n",
      "Item ID: DGpCRwXAFtuzOCxiC3AJXQ_right\n",
      "Predicted Meter: 100.0\n",
      "Ground Truth: 20.0\n",
      "Error: 80.0\n",
      "==================================================\n",
      "How far is the gas station away from the camera in meters, rounded to the next meter?\n"
     ]
    },
    {
     "name": "stderr",
     "output_type": "stream",
     "text": [
      "Setting `pad_token_id` to `eos_token_id`:None for open-end generation.\n"
     ]
    },
    {
     "name": "stdout",
     "output_type": "stream",
     "text": [
      "HALLO\n",
      "Item ID: Z_0D8JCx3LqmbelS6LwBlg_right\n",
      "Predicted Meter: 100.0\n",
      "Ground Truth: 21.0\n",
      "Error: 79.0\n",
      "==================================================\n",
      "How far is the gas station away from the camera in meters, rounded to the next meter?\n"
     ]
    },
    {
     "name": "stderr",
     "output_type": "stream",
     "text": [
      "Setting `pad_token_id` to `eos_token_id`:None for open-end generation.\n"
     ]
    },
    {
     "name": "stdout",
     "output_type": "stream",
     "text": [
      "HALLO\n",
      "Item ID: pvgzxAkbpGBsYQInYsWhgg_right\n",
      "Predicted Meter: 100.0\n",
      "Ground Truth: 27.0\n",
      "Error: 73.0\n",
      "==================================================\n",
      "How far is the gas station away from the camera in meters, rounded to the next meter?\n"
     ]
    },
    {
     "name": "stderr",
     "output_type": "stream",
     "text": [
      "Setting `pad_token_id` to `eos_token_id`:None for open-end generation.\n"
     ]
    },
    {
     "name": "stdout",
     "output_type": "stream",
     "text": [
      "HALLO\n",
      "Item ID: 2lGYlEsaQ03StY5XLBIJlQ_right\n",
      "Predicted Meter: 100.0\n",
      "Ground Truth: 26.0\n",
      "Error: 74.0\n",
      "==================================================\n",
      "How far is the gas station away from the camera in meters, rounded to the next meter?\n"
     ]
    },
    {
     "name": "stderr",
     "output_type": "stream",
     "text": [
      "Setting `pad_token_id` to `eos_token_id`:None for open-end generation.\n"
     ]
    },
    {
     "name": "stdout",
     "output_type": "stream",
     "text": [
      "HALLO\n",
      "Item ID: YSHVBBGad1bvL78FosZqIw_left\n",
      "Predicted Meter: 15.0\n",
      "Ground Truth: 27.0\n",
      "Error: 12.0\n",
      "==================================================\n",
      "How far is the gas station away from the camera in meters, rounded to the next meter?\n"
     ]
    },
    {
     "name": "stderr",
     "output_type": "stream",
     "text": [
      "Setting `pad_token_id` to `eos_token_id`:None for open-end generation.\n"
     ]
    },
    {
     "name": "stdout",
     "output_type": "stream",
     "text": [
      "HALLO\n",
      "Item ID: eb8MU6EB-Ab6zkw8w6l07Q_right\n",
      "Predicted Meter: 10.0\n",
      "Ground Truth: 22.0\n",
      "Error: 12.0\n",
      "==================================================\n",
      "How far is the gas station away from the camera in meters, rounded to the next meter?\n"
     ]
    },
    {
     "name": "stderr",
     "output_type": "stream",
     "text": [
      "Setting `pad_token_id` to `eos_token_id`:None for open-end generation.\n"
     ]
    },
    {
     "name": "stdout",
     "output_type": "stream",
     "text": [
      "HALLO\n",
      "Item ID: LHSWcIZo86wt0-3Axz6h_g_right\n",
      "Predicted Meter: 150.0\n",
      "Ground Truth: 20.0\n",
      "Error: 130.0\n",
      "==================================================\n",
      "How far is the gas station away from the camera in meters, rounded to the next meter?\n"
     ]
    },
    {
     "name": "stderr",
     "output_type": "stream",
     "text": [
      "Setting `pad_token_id` to `eos_token_id`:None for open-end generation.\n"
     ]
    },
    {
     "name": "stdout",
     "output_type": "stream",
     "text": [
      "HALLO\n",
      "Item ID: lUCB-zSdG5v8e7f6yo9hFw_right\n",
      "Predicted Meter: 100.0\n",
      "Ground Truth: 26.0\n",
      "Error: 74.0\n",
      "==================================================\n",
      "How far is the gas station away from the camera in meters, rounded to the next meter?\n"
     ]
    },
    {
     "name": "stderr",
     "output_type": "stream",
     "text": [
      "Setting `pad_token_id` to `eos_token_id`:None for open-end generation.\n"
     ]
    },
    {
     "name": "stdout",
     "output_type": "stream",
     "text": [
      "HALLO\n",
      "Item ID: mc_oZOlXyr9sItAXp-EEFQ_right\n",
      "Predicted Meter: 150.0\n",
      "Ground Truth: 21.0\n",
      "Error: 129.0\n",
      "==================================================\n",
      "How far is the gas station away from the camera in meters, rounded to the next meter?\n"
     ]
    },
    {
     "name": "stderr",
     "output_type": "stream",
     "text": [
      "Setting `pad_token_id` to `eos_token_id`:None for open-end generation.\n"
     ]
    },
    {
     "name": "stdout",
     "output_type": "stream",
     "text": [
      "HALLO\n",
      "Item ID: Qo2aUtgdEnZ96pkpYNEmAg_front\n",
      "Predicted Meter: 150.0\n",
      "Ground Truth: 28.0\n",
      "Error: 122.0\n",
      "==================================================\n",
      "How far is the gas station away from the camera in meters, rounded to the next meter?\n"
     ]
    },
    {
     "name": "stderr",
     "output_type": "stream",
     "text": [
      "Setting `pad_token_id` to `eos_token_id`:None for open-end generation.\n"
     ]
    },
    {
     "name": "stdout",
     "output_type": "stream",
     "text": [
      "HALLO\n",
      "Item ID: W1GOhAzbdnwjlJ-RrP8UDg_back\n",
      "Predicted Meter: None\n",
      "Ground Truth: 21.0\n",
      "Error: None\n",
      "==================================================\n",
      "How far is the post box away from the camera in meters, rounded to the next meter?\n"
     ]
    },
    {
     "name": "stderr",
     "output_type": "stream",
     "text": [
      "Setting `pad_token_id` to `eos_token_id`:None for open-end generation.\n"
     ]
    },
    {
     "name": "stdout",
     "output_type": "stream",
     "text": [
      "HALLO\n",
      "Item ID: lRA5rE4hSeIS8cLCmczXQw_right\n",
      "Predicted Meter: 15.0\n",
      "Ground Truth: 11.0\n",
      "Error: 4.0\n",
      "==================================================\n",
      "How far is the gas station away from the camera in meters, rounded to the next meter?\n"
     ]
    },
    {
     "name": "stderr",
     "output_type": "stream",
     "text": [
      "Setting `pad_token_id` to `eos_token_id`:None for open-end generation.\n"
     ]
    },
    {
     "name": "stdout",
     "output_type": "stream",
     "text": [
      "HALLO\n",
      "Item ID: TmAJ0zQ2uIyhpj81qDsyHg_right\n",
      "Predicted Meter: None\n",
      "Ground Truth: 23.0\n",
      "Error: None\n",
      "==================================================\n",
      "How far is the large waste dumpster away from the camera in meters, rounded to the next meter?\n"
     ]
    },
    {
     "name": "stderr",
     "output_type": "stream",
     "text": [
      "Setting `pad_token_id` to `eos_token_id`:None for open-end generation.\n"
     ]
    },
    {
     "name": "stdout",
     "output_type": "stream",
     "text": [
      "HALLO\n",
      "Item ID: OaoCpdsxh259v77mvTPhLQ_front\n",
      "Predicted Meter: None\n",
      "Ground Truth: 22.0\n",
      "Error: None\n",
      "==================================================\n",
      "How far is the gas station away from the camera in meters, rounded to the next meter?\n"
     ]
    },
    {
     "name": "stderr",
     "output_type": "stream",
     "text": [
      "Setting `pad_token_id` to `eos_token_id`:None for open-end generation.\n"
     ]
    },
    {
     "name": "stdout",
     "output_type": "stream",
     "text": [
      "HALLO\n",
      "Item ID: wc0EvjsWIVV8WUXMYA9u4Q_left\n",
      "Predicted Meter: 100.0\n",
      "Ground Truth: 26.0\n",
      "Error: 74.0\n",
      "==================================================\n",
      "How far is the gas station away from the camera in meters, rounded to the next meter?\n"
     ]
    },
    {
     "name": "stderr",
     "output_type": "stream",
     "text": [
      "Setting `pad_token_id` to `eos_token_id`:None for open-end generation.\n"
     ]
    },
    {
     "name": "stdout",
     "output_type": "stream",
     "text": [
      "HALLO\n",
      "Item ID: 5Rl3jytWkaTOiWLr7PDwdQ_left\n",
      "Predicted Meter: None\n",
      "Ground Truth: 26.0\n",
      "Error: None\n",
      "==================================================\n",
      "How far is the gas station away from the camera in meters, rounded to the next meter?\n"
     ]
    },
    {
     "name": "stderr",
     "output_type": "stream",
     "text": [
      "Setting `pad_token_id` to `eos_token_id`:None for open-end generation.\n"
     ]
    },
    {
     "name": "stdout",
     "output_type": "stream",
     "text": [
      "HALLO\n",
      "Item ID: cf8_ef6XCqNOI3lj5KzjOA_right\n",
      "Predicted Meter: 150.0\n",
      "Ground Truth: 23.0\n",
      "Error: 127.0\n",
      "==================================================\n",
      "How far is the gas station away from the camera in meters, rounded to the next meter?\n"
     ]
    },
    {
     "name": "stderr",
     "output_type": "stream",
     "text": [
      "Setting `pad_token_id` to `eos_token_id`:None for open-end generation.\n"
     ]
    },
    {
     "name": "stdout",
     "output_type": "stream",
     "text": [
      "HALLO\n",
      "Item ID: AWdJTbKEf5HBdRXHzGGC3A_left\n",
      "Predicted Meter: 100.0\n",
      "Ground Truth: 24.0\n",
      "Error: 76.0\n",
      "==================================================\n",
      "How far is the post box away from the camera in meters, rounded to the next meter?\n"
     ]
    },
    {
     "name": "stderr",
     "output_type": "stream",
     "text": [
      "Setting `pad_token_id` to `eos_token_id`:None for open-end generation.\n"
     ]
    },
    {
     "name": "stdout",
     "output_type": "stream",
     "text": [
      "HALLO\n",
      "Item ID: eJIgtiIzNQ7478dhnPH2lQ_back\n",
      "Predicted Meter: 10.0\n",
      "Ground Truth: 28.0\n",
      "Error: 18.0\n",
      "==================================================\n",
      "How far is the gas station away from the camera in meters, rounded to the next meter?\n"
     ]
    },
    {
     "name": "stderr",
     "output_type": "stream",
     "text": [
      "Setting `pad_token_id` to `eos_token_id`:None for open-end generation.\n"
     ]
    },
    {
     "name": "stdout",
     "output_type": "stream",
     "text": [
      "HALLO\n",
      "Item ID: Cx59xrGyKeRhAqomop17yg_left\n",
      "Predicted Meter: 150.0\n",
      "Ground Truth: 25.0\n",
      "Error: 125.0\n",
      "==================================================\n",
      "How far is the gas station away from the camera in meters, rounded to the next meter?\n"
     ]
    },
    {
     "name": "stderr",
     "output_type": "stream",
     "text": [
      "Setting `pad_token_id` to `eos_token_id`:None for open-end generation.\n"
     ]
    },
    {
     "name": "stdout",
     "output_type": "stream",
     "text": [
      "HALLO\n",
      "Item ID: qn-fWttcGKIJ7Zc4c1pkqw_left\n",
      "Predicted Meter: 100.0\n",
      "Ground Truth: 27.0\n",
      "Error: 73.0\n",
      "==================================================\n",
      "How far is the vending machine away from the camera in meters, rounded to the next meter?\n"
     ]
    },
    {
     "name": "stderr",
     "output_type": "stream",
     "text": [
      "Setting `pad_token_id` to `eos_token_id`:None for open-end generation.\n"
     ]
    },
    {
     "name": "stdout",
     "output_type": "stream",
     "text": [
      "HALLO\n",
      "Item ID: zSP4L1e2ilC2jV9kuwrNaw_right\n",
      "Predicted Meter: 2.0\n",
      "Ground Truth: 20.0\n",
      "Error: 18.0\n",
      "==================================================\n",
      "How far is the post box away from the camera in meters, rounded to the next meter?\n"
     ]
    },
    {
     "name": "stderr",
     "output_type": "stream",
     "text": [
      "Setting `pad_token_id` to `eos_token_id`:None for open-end generation.\n"
     ]
    },
    {
     "name": "stdout",
     "output_type": "stream",
     "text": [
      "HALLO\n",
      "Item ID: jbUqNAyorVVwMczpYlOnug_left\n",
      "Predicted Meter: 20.0\n",
      "Ground Truth: 7.0\n",
      "Error: 13.0\n",
      "==================================================\n",
      "How far is the gas station away from the camera in meters, rounded to the next meter?\n"
     ]
    },
    {
     "name": "stderr",
     "output_type": "stream",
     "text": [
      "Setting `pad_token_id` to `eos_token_id`:None for open-end generation.\n"
     ]
    },
    {
     "name": "stdout",
     "output_type": "stream",
     "text": [
      "HALLO\n",
      "Item ID: jfz76Ye8P1tRIX5j6Y_MFw_left\n",
      "Predicted Meter: 150.0\n",
      "Ground Truth: 27.0\n",
      "Error: 123.0\n",
      "==================================================\n",
      "How far is the gas station away from the camera in meters, rounded to the next meter?\n"
     ]
    },
    {
     "name": "stderr",
     "output_type": "stream",
     "text": [
      "Setting `pad_token_id` to `eos_token_id`:None for open-end generation.\n"
     ]
    },
    {
     "name": "stdout",
     "output_type": "stream",
     "text": [
      "HALLO\n",
      "Item ID: d4hQ_xl8nHeMaP6R97uNgg_right\n",
      "Predicted Meter: 150.0\n",
      "Ground Truth: 25.0\n",
      "Error: 125.0\n",
      "==================================================\n",
      "How far is the gas station away from the camera in meters, rounded to the next meter?\n"
     ]
    },
    {
     "name": "stderr",
     "output_type": "stream",
     "text": [
      "Setting `pad_token_id` to `eos_token_id`:None for open-end generation.\n"
     ]
    },
    {
     "name": "stdout",
     "output_type": "stream",
     "text": [
      "HALLO\n",
      "Item ID: n8NSRWP5PY_ECNUo4guX3g_right\n",
      "Predicted Meter: 100.0\n",
      "Ground Truth: 29.0\n",
      "Error: 71.0\n",
      "==================================================\n",
      "How far is the gas station away from the camera in meters, rounded to the next meter?\n"
     ]
    },
    {
     "name": "stderr",
     "output_type": "stream",
     "text": [
      "Setting `pad_token_id` to `eos_token_id`:None for open-end generation.\n"
     ]
    },
    {
     "name": "stdout",
     "output_type": "stream",
     "text": [
      "HALLO\n",
      "Item ID: J0RU4yu-NC93sJo4XZ20qw_back\n",
      "Predicted Meter: 10.0\n",
      "Ground Truth: 29.0\n",
      "Error: 19.0\n",
      "==================================================\n",
      "How far is the gas station away from the camera in meters, rounded to the next meter?\n"
     ]
    },
    {
     "name": "stderr",
     "output_type": "stream",
     "text": [
      "Setting `pad_token_id` to `eos_token_id`:None for open-end generation.\n"
     ]
    },
    {
     "name": "stdout",
     "output_type": "stream",
     "text": [
      "HALLO\n",
      "Item ID: 9WZaNAcZKK0CG_6Ti6MOBw_front\n",
      "Predicted Meter: 150.0\n",
      "Ground Truth: 21.0\n",
      "Error: 129.0\n",
      "==================================================\n",
      "How far is the gas station away from the camera in meters, rounded to the next meter?\n"
     ]
    },
    {
     "name": "stderr",
     "output_type": "stream",
     "text": [
      "Setting `pad_token_id` to `eos_token_id`:None for open-end generation.\n"
     ]
    },
    {
     "name": "stdout",
     "output_type": "stream",
     "text": [
      "HALLO\n",
      "Item ID: kzpGP0MnxjLXTR0OLJsUWg_back\n",
      "Predicted Meter: None\n",
      "Ground Truth: 28.0\n",
      "Error: None\n",
      "==================================================\n",
      "How far is the gas station away from the camera in meters, rounded to the next meter?\n"
     ]
    },
    {
     "name": "stderr",
     "output_type": "stream",
     "text": [
      "Setting `pad_token_id` to `eos_token_id`:None for open-end generation.\n"
     ]
    },
    {
     "name": "stdout",
     "output_type": "stream",
     "text": [
      "HALLO\n",
      "Item ID: u9Kokx_8X1UHcThQufdKBQ_right\n",
      "Predicted Meter: 100.0\n",
      "Ground Truth: 16.0\n",
      "Error: 84.0\n",
      "==================================================\n",
      "How far is the gas station away from the camera in meters, rounded to the next meter?\n"
     ]
    },
    {
     "name": "stderr",
     "output_type": "stream",
     "text": [
      "Setting `pad_token_id` to `eos_token_id`:None for open-end generation.\n"
     ]
    },
    {
     "name": "stdout",
     "output_type": "stream",
     "text": [
      "HALLO\n",
      "Item ID: JtyeoGH-BUUewIwbHElEew_right\n",
      "Predicted Meter: 100.0\n",
      "Ground Truth: 22.0\n",
      "Error: 78.0\n",
      "==================================================\n",
      "How far is the gas station away from the camera in meters, rounded to the next meter?\n"
     ]
    },
    {
     "name": "stderr",
     "output_type": "stream",
     "text": [
      "Setting `pad_token_id` to `eos_token_id`:None for open-end generation.\n"
     ]
    },
    {
     "name": "stdout",
     "output_type": "stream",
     "text": [
      "HALLO\n",
      "Item ID: N32bZK7jAraafCM7dRXRVg_front\n",
      "Predicted Meter: None\n",
      "Ground Truth: 27.0\n",
      "Error: None\n",
      "==================================================\n",
      "How far is the gas station away from the camera in meters, rounded to the next meter?\n"
     ]
    },
    {
     "name": "stderr",
     "output_type": "stream",
     "text": [
      "Setting `pad_token_id` to `eos_token_id`:None for open-end generation.\n"
     ]
    },
    {
     "name": "stdout",
     "output_type": "stream",
     "text": [
      "HALLO\n",
      "Item ID: q4OI0Scwi1i0HkqRTAJKKA_front\n",
      "Predicted Meter: None\n",
      "Ground Truth: 12.0\n",
      "Error: None\n",
      "==================================================\n",
      "How far is the gas station away from the camera in meters, rounded to the next meter?\n"
     ]
    },
    {
     "name": "stderr",
     "output_type": "stream",
     "text": [
      "Setting `pad_token_id` to `eos_token_id`:None for open-end generation.\n"
     ]
    },
    {
     "name": "stdout",
     "output_type": "stream",
     "text": [
      "HALLO\n",
      "Item ID: hx5M3hRQSuMVV3BzCAegCg_left\n",
      "Predicted Meter: 150.0\n",
      "Ground Truth: 30.0\n",
      "Error: 120.0\n",
      "==================================================\n",
      "How far is the gas station away from the camera in meters, rounded to the next meter?\n"
     ]
    },
    {
     "name": "stderr",
     "output_type": "stream",
     "text": [
      "Setting `pad_token_id` to `eos_token_id`:None for open-end generation.\n"
     ]
    },
    {
     "name": "stdout",
     "output_type": "stream",
     "text": [
      "HALLO\n",
      "Item ID: 3ixcETgziLCGAjvOEqWM7g_back\n",
      "Predicted Meter: 100.0\n",
      "Ground Truth: 23.0\n",
      "Error: 77.0\n",
      "==================================================\n",
      "How far is the gas station away from the camera in meters, rounded to the next meter?\n"
     ]
    },
    {
     "name": "stderr",
     "output_type": "stream",
     "text": [
      "Setting `pad_token_id` to `eos_token_id`:None for open-end generation.\n"
     ]
    },
    {
     "name": "stdout",
     "output_type": "stream",
     "text": [
      "HALLO\n",
      "Item ID: OArBY4CDcYgtKL89eIzkWw_right\n",
      "Predicted Meter: 150.0\n",
      "Ground Truth: 18.0\n",
      "Error: 132.0\n",
      "==================================================\n",
      "How far is the gas station away from the camera in meters, rounded to the next meter?\n"
     ]
    },
    {
     "name": "stderr",
     "output_type": "stream",
     "text": [
      "Setting `pad_token_id` to `eos_token_id`:None for open-end generation.\n"
     ]
    },
    {
     "name": "stdout",
     "output_type": "stream",
     "text": [
      "HALLO\n",
      "Item ID: jxLJB3l_o_cvFGl6JM__wQ_back\n",
      "Predicted Meter: 100.0\n",
      "Ground Truth: 18.0\n",
      "Error: 82.0\n",
      "==================================================\n",
      "How far is the gas station away from the camera in meters, rounded to the next meter?\n"
     ]
    },
    {
     "name": "stderr",
     "output_type": "stream",
     "text": [
      "Setting `pad_token_id` to `eos_token_id`:None for open-end generation.\n"
     ]
    },
    {
     "name": "stdout",
     "output_type": "stream",
     "text": [
      "HALLO\n",
      "Item ID: xb9LiT2Y_dUww_PC0NOLOQ_right\n",
      "Predicted Meter: 100.0\n",
      "Ground Truth: 15.0\n",
      "Error: 85.0\n",
      "==================================================\n",
      "How far is the gas station away from the camera in meters, rounded to the next meter?\n"
     ]
    },
    {
     "name": "stderr",
     "output_type": "stream",
     "text": [
      "Setting `pad_token_id` to `eos_token_id`:None for open-end generation.\n"
     ]
    },
    {
     "name": "stdout",
     "output_type": "stream",
     "text": [
      "HALLO\n",
      "Item ID: iib8V4vSPpts_FtmuxH4tg_right\n",
      "Predicted Meter: None\n",
      "Ground Truth: 30.0\n",
      "Error: None\n",
      "==================================================\n",
      "How far is the post box away from the camera in meters, rounded to the next meter?\n"
     ]
    },
    {
     "name": "stderr",
     "output_type": "stream",
     "text": [
      "Setting `pad_token_id` to `eos_token_id`:None for open-end generation.\n"
     ]
    },
    {
     "name": "stdout",
     "output_type": "stream",
     "text": [
      "HALLO\n",
      "Item ID: 6v1-hhiayJy7DoBpfpN6wA_front\n",
      "Predicted Meter: 10.0\n",
      "Ground Truth: 18.0\n",
      "Error: 8.0\n",
      "==================================================\n",
      "How far is the gas station away from the camera in meters, rounded to the next meter?\n"
     ]
    },
    {
     "name": "stderr",
     "output_type": "stream",
     "text": [
      "Setting `pad_token_id` to `eos_token_id`:None for open-end generation.\n"
     ]
    },
    {
     "name": "stdout",
     "output_type": "stream",
     "text": [
      "HALLO\n",
      "Item ID: _vO63qpalTD-pyBTLFdy1g_left\n",
      "Predicted Meter: 100.0\n",
      "Ground Truth: 25.0\n",
      "Error: 75.0\n",
      "==================================================\n",
      "How far is the gas station away from the camera in meters, rounded to the next meter?\n"
     ]
    },
    {
     "name": "stderr",
     "output_type": "stream",
     "text": [
      "Setting `pad_token_id` to `eos_token_id`:None for open-end generation.\n"
     ]
    },
    {
     "name": "stdout",
     "output_type": "stream",
     "text": [
      "HALLO\n",
      "Item ID: qq8iXTbkO_iEK4mJLC1xgA_right\n",
      "Predicted Meter: None\n",
      "Ground Truth: 30.0\n",
      "Error: None\n",
      "==================================================\n",
      "How far is the gas station away from the camera in meters, rounded to the next meter?\n"
     ]
    },
    {
     "name": "stderr",
     "output_type": "stream",
     "text": [
      "Setting `pad_token_id` to `eos_token_id`:None for open-end generation.\n"
     ]
    },
    {
     "name": "stdout",
     "output_type": "stream",
     "text": [
      "HALLO\n",
      "Item ID: SIQOuGqlTXsiqwfDq6zoCg_back\n",
      "Predicted Meter: 150.0\n",
      "Ground Truth: 20.0\n",
      "Error: 130.0\n",
      "==================================================\n",
      "How far is the vending machine away from the camera in meters, rounded to the next meter?\n"
     ]
    },
    {
     "name": "stderr",
     "output_type": "stream",
     "text": [
      "Setting `pad_token_id` to `eos_token_id`:None for open-end generation.\n"
     ]
    },
    {
     "name": "stdout",
     "output_type": "stream",
     "text": [
      "HALLO\n",
      "Item ID: eRQ_lSJa8rZ3LFZ9s36v7A_back\n",
      "Predicted Meter: 10.0\n",
      "Ground Truth: 12.0\n",
      "Error: 2.0\n",
      "==================================================\n",
      "How far is the gas station away from the camera in meters, rounded to the next meter?\n"
     ]
    },
    {
     "name": "stderr",
     "output_type": "stream",
     "text": [
      "Setting `pad_token_id` to `eos_token_id`:None for open-end generation.\n"
     ]
    },
    {
     "name": "stdout",
     "output_type": "stream",
     "text": [
      "HALLO\n",
      "Item ID: ODpq7KBrQltTE1PM9XsymA_right\n",
      "Predicted Meter: 100.0\n",
      "Ground Truth: 27.0\n",
      "Error: 73.0\n",
      "==================================================\n",
      "How far is the gas station away from the camera in meters, rounded to the next meter?\n"
     ]
    },
    {
     "name": "stderr",
     "output_type": "stream",
     "text": [
      "Setting `pad_token_id` to `eos_token_id`:None for open-end generation.\n"
     ]
    },
    {
     "name": "stdout",
     "output_type": "stream",
     "text": [
      "HALLO\n",
      "Item ID: JtyeoGH-BUUewIwbHElEew_back\n",
      "Predicted Meter: 100.0\n",
      "Ground Truth: 22.0\n",
      "Error: 78.0\n",
      "==================================================\n",
      "How far is the large waste dumpster away from the camera in meters, rounded to the next meter?\n"
     ]
    },
    {
     "name": "stderr",
     "output_type": "stream",
     "text": [
      "Setting `pad_token_id` to `eos_token_id`:None for open-end generation.\n"
     ]
    },
    {
     "name": "stdout",
     "output_type": "stream",
     "text": [
      "HALLO\n",
      "Item ID: Uo4CGPMzPzMx-A8Mjp6ziw_left\n",
      "Predicted Meter: None\n",
      "Ground Truth: 25.0\n",
      "Error: None\n",
      "==================================================\n",
      "How far is the gas station away from the camera in meters, rounded to the next meter?\n"
     ]
    },
    {
     "name": "stderr",
     "output_type": "stream",
     "text": [
      "Setting `pad_token_id` to `eos_token_id`:None for open-end generation.\n"
     ]
    },
    {
     "name": "stdout",
     "output_type": "stream",
     "text": [
      "HALLO\n",
      "Item ID: a3CD8WKIaMh74X_w1hp7sQ_right\n",
      "Predicted Meter: 150.0\n",
      "Ground Truth: 28.0\n",
      "Error: 122.0\n",
      "==================================================\n",
      "How far is the post box away from the camera in meters, rounded to the next meter?\n"
     ]
    },
    {
     "name": "stderr",
     "output_type": "stream",
     "text": [
      "Setting `pad_token_id` to `eos_token_id`:None for open-end generation.\n"
     ]
    },
    {
     "name": "stdout",
     "output_type": "stream",
     "text": [
      "HALLO\n",
      "Item ID: dcRWrKzhakwQYNJVjRTTDw_left\n",
      "Predicted Meter: 20.0\n",
      "Ground Truth: 25.0\n",
      "Error: 5.0\n",
      "==================================================\n",
      "How far is the gas station away from the camera in meters, rounded to the next meter?\n"
     ]
    },
    {
     "name": "stderr",
     "output_type": "stream",
     "text": [
      "Setting `pad_token_id` to `eos_token_id`:None for open-end generation.\n"
     ]
    },
    {
     "name": "stdout",
     "output_type": "stream",
     "text": [
      "HALLO\n",
      "Item ID: ggLlWlPCXTY3fRqkhBUoLw_back\n",
      "Predicted Meter: 100.0\n",
      "Ground Truth: 29.0\n",
      "Error: 71.0\n",
      "==================================================\n",
      "How far is the gas station away from the camera in meters, rounded to the next meter?\n"
     ]
    },
    {
     "name": "stderr",
     "output_type": "stream",
     "text": [
      "Setting `pad_token_id` to `eos_token_id`:None for open-end generation.\n"
     ]
    },
    {
     "name": "stdout",
     "output_type": "stream",
     "text": [
      "HALLO\n",
      "Item ID: I4dohtV49xeb159_Ng8Umw_left\n",
      "Predicted Meter: 100.0\n",
      "Ground Truth: 27.0\n",
      "Error: 73.0\n",
      "==================================================\n",
      "How far is the gas station away from the camera in meters, rounded to the next meter?\n"
     ]
    },
    {
     "name": "stderr",
     "output_type": "stream",
     "text": [
      "Setting `pad_token_id` to `eos_token_id`:None for open-end generation.\n"
     ]
    },
    {
     "name": "stdout",
     "output_type": "stream",
     "text": [
      "HALLO\n",
      "Item ID: W-gBkV3CvuaiXTp8ypzwJA_left\n",
      "Predicted Meter: None\n",
      "Ground Truth: 28.0\n",
      "Error: None\n",
      "==================================================\n",
      "How far is the gas station away from the camera in meters, rounded to the next meter?\n"
     ]
    },
    {
     "name": "stderr",
     "output_type": "stream",
     "text": [
      "Setting `pad_token_id` to `eos_token_id`:None for open-end generation.\n"
     ]
    },
    {
     "name": "stdout",
     "output_type": "stream",
     "text": [
      "HALLO\n",
      "Item ID: QrzepgRmPP6RvB-5DCKDOw_right\n",
      "Predicted Meter: 100.0\n",
      "Ground Truth: 21.0\n",
      "Error: 79.0\n",
      "==================================================\n",
      "How far is the post box away from the camera in meters, rounded to the next meter?\n"
     ]
    },
    {
     "name": "stderr",
     "output_type": "stream",
     "text": [
      "Setting `pad_token_id` to `eos_token_id`:None for open-end generation.\n"
     ]
    },
    {
     "name": "stdout",
     "output_type": "stream",
     "text": [
      "HALLO\n",
      "Item ID: KuSK5cvU7kUtZVVnQmfMMQ_right\n",
      "Predicted Meter: 10.0\n",
      "Ground Truth: 29.0\n",
      "Error: 19.0\n",
      "==================================================\n",
      "How far is the post box away from the camera in meters, rounded to the next meter?\n"
     ]
    },
    {
     "name": "stderr",
     "output_type": "stream",
     "text": [
      "Setting `pad_token_id` to `eos_token_id`:None for open-end generation.\n"
     ]
    },
    {
     "name": "stdout",
     "output_type": "stream",
     "text": [
      "HALLO\n",
      "Item ID: jn4zEaguUF85vtddS9591A_front\n",
      "Predicted Meter: 100.0\n",
      "Ground Truth: 16.0\n",
      "Error: 84.0\n",
      "==================================================\n",
      "How far is the post box away from the camera in meters, rounded to the next meter?\n"
     ]
    },
    {
     "name": "stderr",
     "output_type": "stream",
     "text": [
      "Setting `pad_token_id` to `eos_token_id`:None for open-end generation.\n"
     ]
    },
    {
     "name": "stdout",
     "output_type": "stream",
     "text": [
      "HALLO\n",
      "Item ID: 2-FSObqDy2OGHRS-oLXpIA_front\n",
      "Predicted Meter: 10.0\n",
      "Ground Truth: 9.0\n",
      "Error: 1.0\n",
      "==================================================\n",
      "How far is the gas station away from the camera in meters, rounded to the next meter?\n"
     ]
    },
    {
     "name": "stderr",
     "output_type": "stream",
     "text": [
      "Setting `pad_token_id` to `eos_token_id`:None for open-end generation.\n"
     ]
    },
    {
     "name": "stdout",
     "output_type": "stream",
     "text": [
      "HALLO\n",
      "Item ID: KxKRZzRg654ggxD9Un5qhw_right\n",
      "Predicted Meter: 100.0\n",
      "Ground Truth: 20.0\n",
      "Error: 80.0\n",
      "==================================================\n",
      "How far is the gas station away from the camera in meters, rounded to the next meter?\n"
     ]
    },
    {
     "name": "stderr",
     "output_type": "stream",
     "text": [
      "Setting `pad_token_id` to `eos_token_id`:None for open-end generation.\n"
     ]
    },
    {
     "name": "stdout",
     "output_type": "stream",
     "text": [
      "HALLO\n",
      "Item ID: pvA1fuCApUKCE1EAb1Xgig_back\n",
      "Predicted Meter: 4.5\n",
      "Ground Truth: 30.0\n",
      "Error: 25.5\n",
      "==================================================\n",
      "How far is the gas station away from the camera in meters, rounded to the next meter?\n"
     ]
    },
    {
     "name": "stderr",
     "output_type": "stream",
     "text": [
      "Setting `pad_token_id` to `eos_token_id`:None for open-end generation.\n"
     ]
    },
    {
     "name": "stdout",
     "output_type": "stream",
     "text": [
      "HALLO\n",
      "Item ID: z3ndUO5NBsQdcR6Onfs8kw_front\n",
      "Predicted Meter: 100.0\n",
      "Ground Truth: 27.0\n",
      "Error: 73.0\n",
      "==================================================\n",
      "How far is the gas station away from the camera in meters, rounded to the next meter?\n"
     ]
    },
    {
     "name": "stderr",
     "output_type": "stream",
     "text": [
      "Setting `pad_token_id` to `eos_token_id`:None for open-end generation.\n"
     ]
    },
    {
     "name": "stdout",
     "output_type": "stream",
     "text": [
      "HALLO\n",
      "Item ID: Rv3VUBBBNctDraTzS2RI3g_right\n",
      "Predicted Meter: 100.0\n",
      "Ground Truth: 26.0\n",
      "Error: 74.0\n",
      "==================================================\n",
      "How far is the atm away from the camera in meters, rounded to the next meter?\n"
     ]
    },
    {
     "name": "stderr",
     "output_type": "stream",
     "text": [
      "Setting `pad_token_id` to `eos_token_id`:None for open-end generation.\n"
     ]
    },
    {
     "name": "stdout",
     "output_type": "stream",
     "text": [
      "HALLO\n",
      "Item ID: 19vgVzfNilUW-ZOFDTBU3w_left\n",
      "Predicted Meter: 100.0\n",
      "Ground Truth: 19.0\n",
      "Error: 81.0\n",
      "==================================================\n",
      "How far is the gas station away from the camera in meters, rounded to the next meter?\n"
     ]
    },
    {
     "name": "stderr",
     "output_type": "stream",
     "text": [
      "Setting `pad_token_id` to `eos_token_id`:None for open-end generation.\n"
     ]
    },
    {
     "name": "stdout",
     "output_type": "stream",
     "text": [
      "HALLO\n",
      "Item ID: sW81gMtDmZH5rH6dKD2Kgg_right\n",
      "Predicted Meter: 100.0\n",
      "Ground Truth: 26.0\n",
      "Error: 74.0\n",
      "==================================================\n",
      "How far is the gas station away from the camera in meters, rounded to the next meter?\n"
     ]
    },
    {
     "name": "stderr",
     "output_type": "stream",
     "text": [
      "Setting `pad_token_id` to `eos_token_id`:None for open-end generation.\n"
     ]
    },
    {
     "name": "stdout",
     "output_type": "stream",
     "text": [
      "HALLO\n",
      "Item ID: e72VAs__5et9iblG7Jzbkg_front\n",
      "Predicted Meter: 100.0\n",
      "Ground Truth: 22.0\n",
      "Error: 78.0\n",
      "==================================================\n",
      "How far is the gas station away from the camera in meters, rounded to the next meter?\n"
     ]
    },
    {
     "name": "stderr",
     "output_type": "stream",
     "text": [
      "Setting `pad_token_id` to `eos_token_id`:None for open-end generation.\n"
     ]
    },
    {
     "name": "stdout",
     "output_type": "stream",
     "text": [
      "HALLO\n",
      "Item ID: JBh4Q90EGzF9bfNWNEx_yQ_right\n",
      "Predicted Meter: 100.0\n",
      "Ground Truth: 25.0\n",
      "Error: 75.0\n",
      "==================================================\n",
      "How far is the gas station away from the camera in meters, rounded to the next meter?\n"
     ]
    },
    {
     "name": "stderr",
     "output_type": "stream",
     "text": [
      "Setting `pad_token_id` to `eos_token_id`:None for open-end generation.\n"
     ]
    },
    {
     "name": "stdout",
     "output_type": "stream",
     "text": [
      "HALLO\n",
      "Item ID: UK2rWp3Bd4YrFtzB7sqlvA_front\n",
      "Predicted Meter: None\n",
      "Ground Truth: 29.0\n",
      "Error: None\n",
      "==================================================\n",
      "How far is the gas station away from the camera in meters, rounded to the next meter?\n"
     ]
    },
    {
     "name": "stderr",
     "output_type": "stream",
     "text": [
      "Setting `pad_token_id` to `eos_token_id`:None for open-end generation.\n"
     ]
    },
    {
     "name": "stdout",
     "output_type": "stream",
     "text": [
      "HALLO\n",
      "Item ID: _O0jxrZYJf_QSDnbrH3_2g_front\n",
      "Predicted Meter: 100.0\n",
      "Ground Truth: 26.0\n",
      "Error: 74.0\n",
      "==================================================\n",
      "How far is the gas station away from the camera in meters, rounded to the next meter?\n"
     ]
    },
    {
     "name": "stderr",
     "output_type": "stream",
     "text": [
      "Setting `pad_token_id` to `eos_token_id`:None for open-end generation.\n"
     ]
    },
    {
     "name": "stdout",
     "output_type": "stream",
     "text": [
      "HALLO\n",
      "Item ID: Ym3CPMFWgLQgwLP7MoZerw_right\n",
      "Predicted Meter: 100.0\n",
      "Ground Truth: 25.0\n",
      "Error: 75.0\n",
      "==================================================\n",
      "How far is the post box away from the camera in meters, rounded to the next meter?\n"
     ]
    },
    {
     "name": "stderr",
     "output_type": "stream",
     "text": [
      "Setting `pad_token_id` to `eos_token_id`:None for open-end generation.\n"
     ]
    },
    {
     "name": "stdout",
     "output_type": "stream",
     "text": [
      "HALLO\n",
      "Item ID: 8naUjoF8o0pkX_YlDQHcCQ_left\n",
      "Predicted Meter: 10.0\n",
      "Ground Truth: 7.0\n",
      "Error: 3.0\n",
      "==================================================\n",
      "How far is the gas station away from the camera in meters, rounded to the next meter?\n"
     ]
    },
    {
     "name": "stderr",
     "output_type": "stream",
     "text": [
      "Setting `pad_token_id` to `eos_token_id`:None for open-end generation.\n"
     ]
    },
    {
     "name": "stdout",
     "output_type": "stream",
     "text": [
      "HALLO\n",
      "Item ID: P46zszgViyt-C8o6lET3Ow_left\n",
      "Predicted Meter: 150.0\n",
      "Ground Truth: 25.0\n",
      "Error: 125.0\n",
      "==================================================\n",
      "How far is the gas station away from the camera in meters, rounded to the next meter?\n"
     ]
    },
    {
     "name": "stderr",
     "output_type": "stream",
     "text": [
      "Setting `pad_token_id` to `eos_token_id`:None for open-end generation.\n"
     ]
    },
    {
     "name": "stdout",
     "output_type": "stream",
     "text": [
      "HALLO\n",
      "Item ID: 3owL9LAboiuqRM_8xI8c5w_left\n",
      "Predicted Meter: None\n",
      "Ground Truth: 29.0\n",
      "Error: None\n",
      "==================================================\n",
      "How far is the gas station away from the camera in meters, rounded to the next meter?\n"
     ]
    },
    {
     "name": "stderr",
     "output_type": "stream",
     "text": [
      "Setting `pad_token_id` to `eos_token_id`:None for open-end generation.\n"
     ]
    },
    {
     "name": "stdout",
     "output_type": "stream",
     "text": [
      "HALLO\n",
      "Item ID: a4pv7J1rC3HwrnQWaugEAA_left\n",
      "Predicted Meter: 150.0\n",
      "Ground Truth: 20.0\n",
      "Error: 130.0\n",
      "==================================================\n",
      "How far is the gas station away from the camera in meters, rounded to the next meter?\n"
     ]
    },
    {
     "name": "stderr",
     "output_type": "stream",
     "text": [
      "Setting `pad_token_id` to `eos_token_id`:None for open-end generation.\n"
     ]
    },
    {
     "name": "stdout",
     "output_type": "stream",
     "text": [
      "HALLO\n",
      "Item ID: pahz2YZlAB_f80CoGzLtSA_left\n",
      "Predicted Meter: 100.0\n",
      "Ground Truth: 30.0\n",
      "Error: 70.0\n",
      "==================================================\n",
      "How far is the gas station away from the camera in meters, rounded to the next meter?\n"
     ]
    },
    {
     "name": "stderr",
     "output_type": "stream",
     "text": [
      "Setting `pad_token_id` to `eos_token_id`:None for open-end generation.\n"
     ]
    },
    {
     "name": "stdout",
     "output_type": "stream",
     "text": [
      "HALLO\n",
      "Item ID: aniYGD6kiz9Gtf0l-70f2Q_left\n",
      "Predicted Meter: 150.0\n",
      "Ground Truth: 25.0\n",
      "Error: 125.0\n",
      "==================================================\n",
      "How far is the gas station away from the camera in meters, rounded to the next meter?\n"
     ]
    },
    {
     "name": "stderr",
     "output_type": "stream",
     "text": [
      "Setting `pad_token_id` to `eos_token_id`:None for open-end generation.\n"
     ]
    },
    {
     "name": "stdout",
     "output_type": "stream",
     "text": [
      "HALLO\n",
      "Item ID: TTV6SfcooODCtltjtgSdSg_left\n",
      "Predicted Meter: 150.0\n",
      "Ground Truth: 25.0\n",
      "Error: 125.0\n",
      "==================================================\n",
      "How far is the gas station away from the camera in meters, rounded to the next meter?\n"
     ]
    },
    {
     "name": "stderr",
     "output_type": "stream",
     "text": [
      "Setting `pad_token_id` to `eos_token_id`:None for open-end generation.\n"
     ]
    },
    {
     "name": "stdout",
     "output_type": "stream",
     "text": [
      "HALLO\n",
      "Item ID: vcaFbHdSXrGksEiMGrQLrQ_right\n",
      "Predicted Meter: 100.0\n",
      "Ground Truth: 21.0\n",
      "Error: 79.0\n",
      "==================================================\n",
      "How far is the gas station away from the camera in meters, rounded to the next meter?\n"
     ]
    },
    {
     "name": "stderr",
     "output_type": "stream",
     "text": [
      "Setting `pad_token_id` to `eos_token_id`:None for open-end generation.\n"
     ]
    },
    {
     "name": "stdout",
     "output_type": "stream",
     "text": [
      "HALLO\n",
      "Item ID: dWF-5O9XfAEky8SiZKOgRg_front\n",
      "Predicted Meter: None\n",
      "Ground Truth: 29.0\n",
      "Error: None\n",
      "==================================================\n",
      "How far is the post box away from the camera in meters, rounded to the next meter?\n"
     ]
    },
    {
     "name": "stderr",
     "output_type": "stream",
     "text": [
      "Setting `pad_token_id` to `eos_token_id`:None for open-end generation.\n"
     ]
    },
    {
     "name": "stdout",
     "output_type": "stream",
     "text": [
      "HALLO\n",
      "Item ID: MPBnrxKHyNuVDqVLQuyG9g_front\n",
      "Predicted Meter: 10.0\n",
      "Ground Truth: 20.0\n",
      "Error: 10.0\n",
      "==================================================\n",
      "How far is the gas station away from the camera in meters, rounded to the next meter?\n"
     ]
    },
    {
     "name": "stderr",
     "output_type": "stream",
     "text": [
      "Setting `pad_token_id` to `eos_token_id`:None for open-end generation.\n"
     ]
    },
    {
     "name": "stdout",
     "output_type": "stream",
     "text": [
      "HALLO\n",
      "Item ID: k2YBj5MKBV4ZN_iwZ4aCEQ_back\n",
      "Predicted Meter: 100.0\n",
      "Ground Truth: 13.0\n",
      "Error: 87.0\n",
      "==================================================\n",
      "How far is the gas station away from the camera in meters, rounded to the next meter?\n"
     ]
    },
    {
     "name": "stderr",
     "output_type": "stream",
     "text": [
      "Setting `pad_token_id` to `eos_token_id`:None for open-end generation.\n"
     ]
    },
    {
     "name": "stdout",
     "output_type": "stream",
     "text": [
      "HALLO\n",
      "Item ID: QsUUe_r6kLQGpz0mMQJItQ_back\n",
      "Predicted Meter: 100.0\n",
      "Ground Truth: 14.0\n",
      "Error: 86.0\n",
      "==================================================\n",
      "How far is the gas station away from the camera in meters, rounded to the next meter?\n"
     ]
    },
    {
     "name": "stderr",
     "output_type": "stream",
     "text": [
      "Setting `pad_token_id` to `eos_token_id`:None for open-end generation.\n"
     ]
    },
    {
     "name": "stdout",
     "output_type": "stream",
     "text": [
      "HALLO\n",
      "Item ID: cAjf-qb2WlKMgLqdL9nDKg_back\n",
      "Predicted Meter: 150.0\n",
      "Ground Truth: 20.0\n",
      "Error: 130.0\n",
      "==================================================\n",
      "How far is the gas station away from the camera in meters, rounded to the next meter?\n"
     ]
    },
    {
     "name": "stderr",
     "output_type": "stream",
     "text": [
      "Setting `pad_token_id` to `eos_token_id`:None for open-end generation.\n"
     ]
    },
    {
     "name": "stdout",
     "output_type": "stream",
     "text": [
      "HALLO\n",
      "Item ID: Z53S5bnyH7mNGBg_vJQcmA_left\n",
      "Predicted Meter: 100.0\n",
      "Ground Truth: 23.0\n",
      "Error: 77.0\n",
      "==================================================\n",
      "How far is the gas station away from the camera in meters, rounded to the next meter?\n"
     ]
    },
    {
     "name": "stderr",
     "output_type": "stream",
     "text": [
      "Setting `pad_token_id` to `eos_token_id`:None for open-end generation.\n"
     ]
    },
    {
     "name": "stdout",
     "output_type": "stream",
     "text": [
      "HALLO\n",
      "Item ID: k2bp2EYvD4dBPteB1oLO8A_right\n",
      "Predicted Meter: 150.0\n",
      "Ground Truth: 22.0\n",
      "Error: 128.0\n",
      "==================================================\n",
      "How far is the gas station away from the camera in meters, rounded to the next meter?\n"
     ]
    },
    {
     "name": "stderr",
     "output_type": "stream",
     "text": [
      "Setting `pad_token_id` to `eos_token_id`:None for open-end generation.\n"
     ]
    },
    {
     "name": "stdout",
     "output_type": "stream",
     "text": [
      "HALLO\n",
      "Item ID: F5BsVFC7xaJOKxCpu8yTPw_right\n",
      "Predicted Meter: 100.0\n",
      "Ground Truth: 18.0\n",
      "Error: 82.0\n",
      "==================================================\n",
      "How far is the gas station away from the camera in meters, rounded to the next meter?\n"
     ]
    },
    {
     "name": "stderr",
     "output_type": "stream",
     "text": [
      "Setting `pad_token_id` to `eos_token_id`:None for open-end generation.\n"
     ]
    },
    {
     "name": "stdout",
     "output_type": "stream",
     "text": [
      "HALLO\n",
      "Item ID: WwPPUkMasXt-Z4ABU64n5Q_left\n",
      "Predicted Meter: 150.0\n",
      "Ground Truth: 27.0\n",
      "Error: 123.0\n",
      "==================================================\n",
      "How far is the gas station away from the camera in meters, rounded to the next meter?\n"
     ]
    },
    {
     "name": "stderr",
     "output_type": "stream",
     "text": [
      "Setting `pad_token_id` to `eos_token_id`:None for open-end generation.\n"
     ]
    },
    {
     "name": "stdout",
     "output_type": "stream",
     "text": [
      "HALLO\n",
      "Item ID: Y-tv1UuQOqcdTwdkKu3ynA_back\n",
      "Predicted Meter: None\n",
      "Ground Truth: 27.0\n",
      "Error: None\n",
      "==================================================\n",
      "How far is the gas station away from the camera in meters, rounded to the next meter?\n"
     ]
    },
    {
     "name": "stderr",
     "output_type": "stream",
     "text": [
      "Setting `pad_token_id` to `eos_token_id`:None for open-end generation.\n"
     ]
    },
    {
     "name": "stdout",
     "output_type": "stream",
     "text": [
      "HALLO\n",
      "Item ID: WEoRVaCevfKMUZ-ZrcT7cg_front\n",
      "Predicted Meter: None\n",
      "Ground Truth: 30.0\n",
      "Error: None\n",
      "==================================================\n",
      "How far is the gas station away from the camera in meters, rounded to the next meter?\n"
     ]
    },
    {
     "name": "stderr",
     "output_type": "stream",
     "text": [
      "Setting `pad_token_id` to `eos_token_id`:None for open-end generation.\n"
     ]
    },
    {
     "name": "stdout",
     "output_type": "stream",
     "text": [
      "HALLO\n",
      "Item ID: DvhPeyRQJhMg3UHrlbW2-w_right\n",
      "Predicted Meter: 150.0\n",
      "Ground Truth: 22.0\n",
      "Error: 128.0\n",
      "==================================================\n",
      "How far is the gas station away from the camera in meters, rounded to the next meter?\n"
     ]
    },
    {
     "name": "stderr",
     "output_type": "stream",
     "text": [
      "Setting `pad_token_id` to `eos_token_id`:None for open-end generation.\n"
     ]
    },
    {
     "name": "stdout",
     "output_type": "stream",
     "text": [
      "HALLO\n",
      "Item ID: Q2OBeuPzC1Q72afMqUePsg_front\n",
      "Predicted Meter: 15.0\n",
      "Ground Truth: 26.0\n",
      "Error: 11.0\n",
      "==================================================\n",
      "How far is the gas station away from the camera in meters, rounded to the next meter?\n"
     ]
    },
    {
     "name": "stderr",
     "output_type": "stream",
     "text": [
      "Setting `pad_token_id` to `eos_token_id`:None for open-end generation.\n"
     ]
    },
    {
     "name": "stdout",
     "output_type": "stream",
     "text": [
      "HALLO\n",
      "Item ID: JE2OCpze2DtiqLnRi5HHJg_right\n",
      "Predicted Meter: 100.0\n",
      "Ground Truth: 16.0\n",
      "Error: 84.0\n",
      "==================================================\n",
      "How far is the gas station away from the camera in meters, rounded to the next meter?\n"
     ]
    },
    {
     "name": "stderr",
     "output_type": "stream",
     "text": [
      "Setting `pad_token_id` to `eos_token_id`:None for open-end generation.\n"
     ]
    },
    {
     "name": "stdout",
     "output_type": "stream",
     "text": [
      "HALLO\n",
      "Item ID: vTWkIglCRmG2TnGkIFHM7Q_front\n",
      "Predicted Meter: 200.0\n",
      "Ground Truth: 26.0\n",
      "Error: 174.0\n",
      "==================================================\n",
      "How far is the gas station away from the camera in meters, rounded to the next meter?\n"
     ]
    },
    {
     "name": "stderr",
     "output_type": "stream",
     "text": [
      "Setting `pad_token_id` to `eos_token_id`:None for open-end generation.\n"
     ]
    },
    {
     "name": "stdout",
     "output_type": "stream",
     "text": [
      "HALLO\n",
      "Item ID: jvZukHq03jbMHllXrubKrg_left\n",
      "Predicted Meter: 150.0\n",
      "Ground Truth: 18.0\n",
      "Error: 132.0\n",
      "==================================================\n",
      "How far is the gas station away from the camera in meters, rounded to the next meter?\n"
     ]
    },
    {
     "name": "stderr",
     "output_type": "stream",
     "text": [
      "Setting `pad_token_id` to `eos_token_id`:None for open-end generation.\n"
     ]
    },
    {
     "name": "stdout",
     "output_type": "stream",
     "text": [
      "HALLO\n",
      "Item ID: XW-9W9p2AVcQ77RIlngbtw_right\n",
      "Predicted Meter: 10.0\n",
      "Ground Truth: 27.0\n",
      "Error: 17.0\n",
      "==================================================\n",
      "How far is the gas station away from the camera in meters, rounded to the next meter?\n"
     ]
    },
    {
     "name": "stderr",
     "output_type": "stream",
     "text": [
      "Setting `pad_token_id` to `eos_token_id`:None for open-end generation.\n"
     ]
    },
    {
     "name": "stdout",
     "output_type": "stream",
     "text": [
      "HALLO\n",
      "Item ID: cFIOqI5tHirjVFr43ORP9A_front\n",
      "Predicted Meter: 100.0\n",
      "Ground Truth: 25.0\n",
      "Error: 75.0\n",
      "==================================================\n",
      "How far is the gas station away from the camera in meters, rounded to the next meter?\n"
     ]
    },
    {
     "name": "stderr",
     "output_type": "stream",
     "text": [
      "Setting `pad_token_id` to `eos_token_id`:None for open-end generation.\n"
     ]
    },
    {
     "name": "stdout",
     "output_type": "stream",
     "text": [
      "HALLO\n",
      "Item ID: zlVVWK2209dwiSv-jkQ7mA_front\n",
      "Predicted Meter: 150.0\n",
      "Ground Truth: 18.0\n",
      "Error: 132.0\n",
      "==================================================\n",
      "How far is the gas station away from the camera in meters, rounded to the next meter?\n"
     ]
    },
    {
     "name": "stderr",
     "output_type": "stream",
     "text": [
      "Setting `pad_token_id` to `eos_token_id`:None for open-end generation.\n"
     ]
    },
    {
     "name": "stdout",
     "output_type": "stream",
     "text": [
      "HALLO\n",
      "Item ID: 3bxRhzHjh-cWBHE3fS-JcA_right\n",
      "Predicted Meter: 100.0\n",
      "Ground Truth: 19.0\n",
      "Error: 81.0\n",
      "==================================================\n",
      "How far is the post box away from the camera in meters, rounded to the next meter?\n"
     ]
    },
    {
     "name": "stderr",
     "output_type": "stream",
     "text": [
      "Setting `pad_token_id` to `eos_token_id`:None for open-end generation.\n"
     ]
    },
    {
     "name": "stdout",
     "output_type": "stream",
     "text": [
      "HALLO\n",
      "Item ID: 7XSkktf9ACvkRIyMeQc03Q_front\n",
      "Predicted Meter: 15.0\n",
      "Ground Truth: 8.0\n",
      "Error: 7.0\n",
      "==================================================\n",
      "How far is the large waste dumpster away from the camera in meters, rounded to the next meter?\n"
     ]
    },
    {
     "name": "stderr",
     "output_type": "stream",
     "text": [
      "Setting `pad_token_id` to `eos_token_id`:None for open-end generation.\n"
     ]
    },
    {
     "name": "stdout",
     "output_type": "stream",
     "text": [
      "HALLO\n",
      "Item ID: AT91nZn9t9ftyX4ZUaT7ig_back\n",
      "Predicted Meter: 1.5\n",
      "Ground Truth: 19.0\n",
      "Error: 17.5\n",
      "==================================================\n",
      "How far is the gas station away from the camera in meters, rounded to the next meter?\n"
     ]
    },
    {
     "name": "stderr",
     "output_type": "stream",
     "text": [
      "Setting `pad_token_id` to `eos_token_id`:None for open-end generation.\n"
     ]
    },
    {
     "name": "stdout",
     "output_type": "stream",
     "text": [
      "HALLO\n",
      "Item ID: Rrfkhr-SlT5F6hHpq4CLPQ_right\n",
      "Predicted Meter: 100.0\n",
      "Ground Truth: 29.0\n",
      "Error: 71.0\n",
      "==================================================\n",
      "How far is the gas station away from the camera in meters, rounded to the next meter?\n"
     ]
    },
    {
     "name": "stderr",
     "output_type": "stream",
     "text": [
      "Setting `pad_token_id` to `eos_token_id`:None for open-end generation.\n"
     ]
    },
    {
     "name": "stdout",
     "output_type": "stream",
     "text": [
      "HALLO\n",
      "Item ID: 5Ey4TG-gAsmi1ua7pm6wkg_front\n",
      "Predicted Meter: 100.0\n",
      "Ground Truth: 24.0\n",
      "Error: 76.0\n",
      "==================================================\n",
      "How far is the gas station away from the camera in meters, rounded to the next meter?\n"
     ]
    },
    {
     "name": "stderr",
     "output_type": "stream",
     "text": [
      "Setting `pad_token_id` to `eos_token_id`:None for open-end generation.\n"
     ]
    },
    {
     "name": "stdout",
     "output_type": "stream",
     "text": [
      "HALLO\n",
      "Item ID: Z4Mm-TnKHDlaZxWdKO_1hg_right\n",
      "Predicted Meter: 100.0\n",
      "Ground Truth: 19.0\n",
      "Error: 81.0\n",
      "==================================================\n",
      "How far is the gas station away from the camera in meters, rounded to the next meter?\n"
     ]
    },
    {
     "name": "stderr",
     "output_type": "stream",
     "text": [
      "Setting `pad_token_id` to `eos_token_id`:None for open-end generation.\n"
     ]
    },
    {
     "name": "stdout",
     "output_type": "stream",
     "text": [
      "HALLO\n",
      "Item ID: 5l1iitQtnhauPWpB68_jFQ_left\n",
      "Predicted Meter: 100.0\n",
      "Ground Truth: 27.0\n",
      "Error: 73.0\n",
      "==================================================\n",
      "How far is the gas station away from the camera in meters, rounded to the next meter?\n"
     ]
    },
    {
     "name": "stderr",
     "output_type": "stream",
     "text": [
      "Setting `pad_token_id` to `eos_token_id`:None for open-end generation.\n"
     ]
    },
    {
     "name": "stdout",
     "output_type": "stream",
     "text": [
      "HALLO\n",
      "Item ID: 7FeZIFjcQAL-3ci60J3EFQ_left\n",
      "Predicted Meter: None\n",
      "Ground Truth: 21.0\n",
      "Error: None\n",
      "==================================================\n",
      "How far is the gas station away from the camera in meters, rounded to the next meter?\n"
     ]
    },
    {
     "name": "stderr",
     "output_type": "stream",
     "text": [
      "Setting `pad_token_id` to `eos_token_id`:None for open-end generation.\n"
     ]
    },
    {
     "name": "stdout",
     "output_type": "stream",
     "text": [
      "HALLO\n",
      "Item ID: 8HdhRsrE8MmqEgcq3vttxw_right\n",
      "Predicted Meter: 100.0\n",
      "Ground Truth: 28.0\n",
      "Error: 72.0\n",
      "==================================================\n",
      "How far is the post box away from the camera in meters, rounded to the next meter?\n"
     ]
    },
    {
     "name": "stderr",
     "output_type": "stream",
     "text": [
      "Setting `pad_token_id` to `eos_token_id`:None for open-end generation.\n"
     ]
    },
    {
     "name": "stdout",
     "output_type": "stream",
     "text": [
      "HALLO\n",
      "Item ID: JwmZvLLBilTA-5jI2gTazw_front\n",
      "Predicted Meter: 10.0\n",
      "Ground Truth: 19.0\n",
      "Error: 9.0\n",
      "==================================================\n",
      "How far is the gas station away from the camera in meters, rounded to the next meter?\n"
     ]
    },
    {
     "name": "stderr",
     "output_type": "stream",
     "text": [
      "Setting `pad_token_id` to `eos_token_id`:None for open-end generation.\n"
     ]
    },
    {
     "name": "stdout",
     "output_type": "stream",
     "text": [
      "HALLO\n",
      "Item ID: NqpFTRtqj2fUyQyQYhFSzQ_right\n",
      "Predicted Meter: 15.0\n",
      "Ground Truth: 29.0\n",
      "Error: 14.0\n",
      "==================================================\n",
      "How far is the gas station away from the camera in meters, rounded to the next meter?\n"
     ]
    },
    {
     "name": "stderr",
     "output_type": "stream",
     "text": [
      "Setting `pad_token_id` to `eos_token_id`:None for open-end generation.\n"
     ]
    },
    {
     "name": "stdout",
     "output_type": "stream",
     "text": [
      "HALLO\n",
      "Item ID: Ce0tHCxNMDi6wPRp-s47jw_right\n",
      "Predicted Meter: 100.0\n",
      "Ground Truth: 23.0\n",
      "Error: 77.0\n",
      "==================================================\n",
      "How far is the gas station away from the camera in meters, rounded to the next meter?\n"
     ]
    },
    {
     "name": "stderr",
     "output_type": "stream",
     "text": [
      "Setting `pad_token_id` to `eos_token_id`:None for open-end generation.\n"
     ]
    },
    {
     "name": "stdout",
     "output_type": "stream",
     "text": [
      "HALLO\n",
      "Item ID: nVAA5-GdotO9RbO9NjI-qw_right\n",
      "Predicted Meter: 100.0\n",
      "Ground Truth: 20.0\n",
      "Error: 80.0\n",
      "==================================================\n",
      "How far is the gas station away from the camera in meters, rounded to the next meter?\n"
     ]
    },
    {
     "name": "stderr",
     "output_type": "stream",
     "text": [
      "Setting `pad_token_id` to `eos_token_id`:None for open-end generation.\n"
     ]
    },
    {
     "name": "stdout",
     "output_type": "stream",
     "text": [
      "HALLO\n",
      "Item ID: QrMeDQ9jdGJJ0rV2PVJEiw_back\n",
      "Predicted Meter: 150.0\n",
      "Ground Truth: 20.0\n",
      "Error: 130.0\n",
      "==================================================\n",
      "How far is the gas station away from the camera in meters, rounded to the next meter?\n"
     ]
    },
    {
     "name": "stderr",
     "output_type": "stream",
     "text": [
      "Setting `pad_token_id` to `eos_token_id`:None for open-end generation.\n"
     ]
    },
    {
     "name": "stdout",
     "output_type": "stream",
     "text": [
      "HALLO\n",
      "Item ID: 8pEZHqbN5u8_yG8_dfXbwg_front\n",
      "Predicted Meter: 200.0\n",
      "Ground Truth: 27.0\n",
      "Error: 173.0\n",
      "==================================================\n",
      "How far is the post box away from the camera in meters, rounded to the next meter?\n"
     ]
    },
    {
     "name": "stderr",
     "output_type": "stream",
     "text": [
      "Setting `pad_token_id` to `eos_token_id`:None for open-end generation.\n"
     ]
    },
    {
     "name": "stdout",
     "output_type": "stream",
     "text": [
      "HALLO\n",
      "Item ID: 6-mgzznPhuvGSSjQkq6Jcw_right\n",
      "Predicted Meter: 1.7\n",
      "Ground Truth: 13.0\n",
      "Error: 11.3\n",
      "==================================================\n",
      "How far is the gas station away from the camera in meters, rounded to the next meter?\n"
     ]
    },
    {
     "name": "stderr",
     "output_type": "stream",
     "text": [
      "Setting `pad_token_id` to `eos_token_id`:None for open-end generation.\n"
     ]
    },
    {
     "name": "stdout",
     "output_type": "stream",
     "text": [
      "HALLO\n",
      "Item ID: Pfii6WqCwWdlp5FC-V4-tg_right\n",
      "Predicted Meter: 150.0\n",
      "Ground Truth: 28.0\n",
      "Error: 122.0\n",
      "==================================================\n",
      "How far is the gas station away from the camera in meters, rounded to the next meter?\n"
     ]
    },
    {
     "name": "stderr",
     "output_type": "stream",
     "text": [
      "Setting `pad_token_id` to `eos_token_id`:None for open-end generation.\n"
     ]
    },
    {
     "name": "stdout",
     "output_type": "stream",
     "text": [
      "HALLO\n",
      "Item ID: 8b9HdmvIET8ZzN25BPoAqg_right\n",
      "Predicted Meter: 100.0\n",
      "Ground Truth: 26.0\n",
      "Error: 74.0\n",
      "==================================================\n",
      "How far is the post box away from the camera in meters, rounded to the next meter?\n"
     ]
    },
    {
     "name": "stderr",
     "output_type": "stream",
     "text": [
      "Setting `pad_token_id` to `eos_token_id`:None for open-end generation.\n"
     ]
    },
    {
     "name": "stdout",
     "output_type": "stream",
     "text": [
      "HALLO\n",
      "Item ID: XBZ7vig2eHnbKujbK0YrKw_right\n",
      "Predicted Meter: 10.0\n",
      "Ground Truth: 3.0\n",
      "Error: 7.0\n",
      "==================================================\n",
      "How far is the gas station away from the camera in meters, rounded to the next meter?\n"
     ]
    },
    {
     "name": "stderr",
     "output_type": "stream",
     "text": [
      "Setting `pad_token_id` to `eos_token_id`:None for open-end generation.\n"
     ]
    },
    {
     "name": "stdout",
     "output_type": "stream",
     "text": [
      "HALLO\n",
      "Item ID: 7ek2uD1SadiiO7S_CiCaFQ_right\n",
      "Predicted Meter: 150.0\n",
      "Ground Truth: 25.0\n",
      "Error: 125.0\n",
      "==================================================\n",
      "How far is the gas station away from the camera in meters, rounded to the next meter?\n"
     ]
    },
    {
     "name": "stderr",
     "output_type": "stream",
     "text": [
      "Setting `pad_token_id` to `eos_token_id`:None for open-end generation.\n"
     ]
    },
    {
     "name": "stdout",
     "output_type": "stream",
     "text": [
      "HALLO\n",
      "Item ID: h_pdMobutR1b38Ek1Yf24Q_right\n",
      "Predicted Meter: None\n",
      "Ground Truth: 18.0\n",
      "Error: None\n",
      "==================================================\n",
      "How far is the gas station away from the camera in meters, rounded to the next meter?\n"
     ]
    },
    {
     "name": "stderr",
     "output_type": "stream",
     "text": [
      "Setting `pad_token_id` to `eos_token_id`:None for open-end generation.\n"
     ]
    },
    {
     "name": "stdout",
     "output_type": "stream",
     "text": [
      "HALLO\n",
      "Item ID: zSYaKhsUunxd2HieLw--Bw_back\n",
      "Predicted Meter: 200.0\n",
      "Ground Truth: 23.0\n",
      "Error: 177.0\n",
      "==================================================\n",
      "How far is the gas station away from the camera in meters, rounded to the next meter?\n"
     ]
    },
    {
     "name": "stderr",
     "output_type": "stream",
     "text": [
      "Setting `pad_token_id` to `eos_token_id`:None for open-end generation.\n"
     ]
    },
    {
     "name": "stdout",
     "output_type": "stream",
     "text": [
      "HALLO\n",
      "Item ID: ooonkaHPxwqhujFUqM5pxw_back\n",
      "Predicted Meter: 50.0\n",
      "Ground Truth: 27.0\n",
      "Error: 23.0\n",
      "==================================================\n",
      "How far is the gas station away from the camera in meters, rounded to the next meter?\n"
     ]
    },
    {
     "name": "stderr",
     "output_type": "stream",
     "text": [
      "Setting `pad_token_id` to `eos_token_id`:None for open-end generation.\n"
     ]
    },
    {
     "name": "stdout",
     "output_type": "stream",
     "text": [
      "HALLO\n",
      "Item ID: jxLJB3l_o_cvFGl6JM__wQ_right\n",
      "Predicted Meter: 100.0\n",
      "Ground Truth: 18.0\n",
      "Error: 82.0\n",
      "==================================================\n",
      "How far is the gas station away from the camera in meters, rounded to the next meter?\n"
     ]
    },
    {
     "name": "stderr",
     "output_type": "stream",
     "text": [
      "Setting `pad_token_id` to `eos_token_id`:None for open-end generation.\n"
     ]
    },
    {
     "name": "stdout",
     "output_type": "stream",
     "text": [
      "HALLO\n",
      "Item ID: euF84E5dXEqouOs2QXcQvw_right\n",
      "Predicted Meter: 150.0\n",
      "Ground Truth: 25.0\n",
      "Error: 125.0\n",
      "==================================================\n",
      "How far is the gas station away from the camera in meters, rounded to the next meter?\n"
     ]
    },
    {
     "name": "stderr",
     "output_type": "stream",
     "text": [
      "Setting `pad_token_id` to `eos_token_id`:None for open-end generation.\n"
     ]
    },
    {
     "name": "stdout",
     "output_type": "stream",
     "text": [
      "HALLO\n",
      "Item ID: sBvClBUQk7xVDK-zZ7cJsg_left\n",
      "Predicted Meter: 100.0\n",
      "Ground Truth: 24.0\n",
      "Error: 76.0\n",
      "==================================================\n",
      "How far is the gas station away from the camera in meters, rounded to the next meter?\n"
     ]
    },
    {
     "name": "stderr",
     "output_type": "stream",
     "text": [
      "Setting `pad_token_id` to `eos_token_id`:None for open-end generation.\n"
     ]
    },
    {
     "name": "stdout",
     "output_type": "stream",
     "text": [
      "HALLO\n",
      "Item ID: 6nJTO2TykG9p_u6nqNIDfw_left\n",
      "Predicted Meter: 100.0\n",
      "Ground Truth: 30.0\n",
      "Error: 70.0\n",
      "==================================================\n",
      "How far is the gas station away from the camera in meters, rounded to the next meter?\n"
     ]
    },
    {
     "name": "stderr",
     "output_type": "stream",
     "text": [
      "Setting `pad_token_id` to `eos_token_id`:None for open-end generation.\n"
     ]
    },
    {
     "name": "stdout",
     "output_type": "stream",
     "text": [
      "HALLO\n",
      "Item ID: vIIbBr4Zyvw5iE2qnXkDFw_right\n",
      "Predicted Meter: 100.0\n",
      "Ground Truth: 24.0\n",
      "Error: 76.0\n",
      "==================================================\n",
      "How far is the post box away from the camera in meters, rounded to the next meter?\n"
     ]
    },
    {
     "name": "stderr",
     "output_type": "stream",
     "text": [
      "Setting `pad_token_id` to `eos_token_id`:None for open-end generation.\n"
     ]
    },
    {
     "name": "stdout",
     "output_type": "stream",
     "text": [
      "HALLO\n",
      "Item ID: QjGIJdW81n-QPSYKVx9yeg_left\n",
      "Predicted Meter: 100.0\n",
      "Ground Truth: 28.0\n",
      "Error: 72.0\n",
      "==================================================\n",
      "How far is the gas station away from the camera in meters, rounded to the next meter?\n"
     ]
    },
    {
     "name": "stderr",
     "output_type": "stream",
     "text": [
      "Setting `pad_token_id` to `eos_token_id`:None for open-end generation.\n"
     ]
    },
    {
     "name": "stdout",
     "output_type": "stream",
     "text": [
      "HALLO\n",
      "Item ID: Tn4uYOv0Lgp7BJQXxWgu0A_right\n",
      "Predicted Meter: 100.0\n",
      "Ground Truth: 30.0\n",
      "Error: 70.0\n",
      "==================================================\n",
      "How far is the atm away from the camera in meters, rounded to the next meter?\n"
     ]
    },
    {
     "name": "stderr",
     "output_type": "stream",
     "text": [
      "Setting `pad_token_id` to `eos_token_id`:None for open-end generation.\n"
     ]
    },
    {
     "name": "stdout",
     "output_type": "stream",
     "text": [
      "HALLO\n",
      "Item ID: eK6GR-zlSKodjUThcJH4UA_left\n",
      "Predicted Meter: 100.0\n",
      "Ground Truth: 18.0\n",
      "Error: 82.0\n",
      "==================================================\n",
      "How far is the gas station away from the camera in meters, rounded to the next meter?\n"
     ]
    },
    {
     "name": "stderr",
     "output_type": "stream",
     "text": [
      "Setting `pad_token_id` to `eos_token_id`:None for open-end generation.\n"
     ]
    },
    {
     "name": "stdout",
     "output_type": "stream",
     "text": [
      "HALLO\n",
      "Item ID: MCsrah6QrlrSsMR4q-bdrg_right\n",
      "Predicted Meter: 150.0\n",
      "Ground Truth: 29.0\n",
      "Error: 121.0\n",
      "==================================================\n",
      "How far is the gas station away from the camera in meters, rounded to the next meter?\n"
     ]
    },
    {
     "name": "stderr",
     "output_type": "stream",
     "text": [
      "Setting `pad_token_id` to `eos_token_id`:None for open-end generation.\n"
     ]
    },
    {
     "name": "stdout",
     "output_type": "stream",
     "text": [
      "HALLO\n",
      "Item ID: gyO5-qLWE4VT16crnReokw_front\n",
      "Predicted Meter: 10.0\n",
      "Ground Truth: 30.0\n",
      "Error: 20.0\n",
      "==================================================\n",
      "How far is the gas station away from the camera in meters, rounded to the next meter?\n"
     ]
    },
    {
     "name": "stderr",
     "output_type": "stream",
     "text": [
      "Setting `pad_token_id` to `eos_token_id`:None for open-end generation.\n"
     ]
    },
    {
     "name": "stdout",
     "output_type": "stream",
     "text": [
      "HALLO\n",
      "Item ID: gcev0hxtltoqCuqDffc1Ig_left\n",
      "Predicted Meter: 100.0\n",
      "Ground Truth: 22.0\n",
      "Error: 78.0\n",
      "==================================================\n",
      "How far is the vending machine away from the camera in meters, rounded to the next meter?\n"
     ]
    },
    {
     "name": "stderr",
     "output_type": "stream",
     "text": [
      "Setting `pad_token_id` to `eos_token_id`:None for open-end generation.\n"
     ]
    },
    {
     "name": "stdout",
     "output_type": "stream",
     "text": [
      "HALLO\n",
      "Item ID: QarynNyW6wNqfaYJwWl8mw_left\n",
      "Predicted Meter: 2.0\n",
      "Ground Truth: 24.0\n",
      "Error: 22.0\n",
      "==================================================\n",
      "How far is the gas station away from the camera in meters, rounded to the next meter?\n"
     ]
    },
    {
     "name": "stderr",
     "output_type": "stream",
     "text": [
      "Setting `pad_token_id` to `eos_token_id`:None for open-end generation.\n"
     ]
    },
    {
     "name": "stdout",
     "output_type": "stream",
     "text": [
      "HALLO\n",
      "Item ID: vqLP0uk2AgSU1smrbC9Kvg_right\n",
      "Predicted Meter: None\n",
      "Ground Truth: 12.0\n",
      "Error: None\n",
      "==================================================\n",
      "How far is the vending machine away from the camera in meters, rounded to the next meter?\n"
     ]
    },
    {
     "name": "stderr",
     "output_type": "stream",
     "text": [
      "Setting `pad_token_id` to `eos_token_id`:None for open-end generation.\n"
     ]
    },
    {
     "name": "stdout",
     "output_type": "stream",
     "text": [
      "HALLO\n",
      "Item ID: KcU4SrBPYpdOKOg1GG6tLQ_left\n",
      "Predicted Meter: 10.0\n",
      "Ground Truth: 7.0\n",
      "Error: 3.0\n",
      "==================================================\n",
      "How far is the gas station away from the camera in meters, rounded to the next meter?\n"
     ]
    },
    {
     "name": "stderr",
     "output_type": "stream",
     "text": [
      "Setting `pad_token_id` to `eos_token_id`:None for open-end generation.\n"
     ]
    },
    {
     "name": "stdout",
     "output_type": "stream",
     "text": [
      "HALLO\n",
      "Item ID: fq9dHETPobs-9ThuB39XIA_left\n",
      "Predicted Meter: 150.0\n",
      "Ground Truth: 28.0\n",
      "Error: 122.0\n",
      "==================================================\n",
      "How far is the gas station away from the camera in meters, rounded to the next meter?\n"
     ]
    },
    {
     "name": "stderr",
     "output_type": "stream",
     "text": [
      "Setting `pad_token_id` to `eos_token_id`:None for open-end generation.\n"
     ]
    },
    {
     "name": "stdout",
     "output_type": "stream",
     "text": [
      "HALLO\n",
      "Item ID: De-ve_jLpQ2Qtp8TdV1B7w_back\n",
      "Predicted Meter: 150.0\n",
      "Ground Truth: 26.0\n",
      "Error: 124.0\n",
      "==================================================\n",
      "How far is the gas station away from the camera in meters, rounded to the next meter?\n"
     ]
    },
    {
     "name": "stderr",
     "output_type": "stream",
     "text": [
      "Setting `pad_token_id` to `eos_token_id`:None for open-end generation.\n"
     ]
    },
    {
     "name": "stdout",
     "output_type": "stream",
     "text": [
      "HALLO\n",
      "Item ID: 0zUQyjBxNCgr2m5DcaFD7g_left\n",
      "Predicted Meter: None\n",
      "Ground Truth: 22.0\n",
      "Error: None\n",
      "==================================================\n",
      "How far is the gas station away from the camera in meters, rounded to the next meter?\n"
     ]
    },
    {
     "name": "stderr",
     "output_type": "stream",
     "text": [
      "Setting `pad_token_id` to `eos_token_id`:None for open-end generation.\n"
     ]
    },
    {
     "name": "stdout",
     "output_type": "stream",
     "text": [
      "HALLO\n",
      "Item ID: 9aAQN3uUShfw9hrpyhlJPQ_right\n",
      "Predicted Meter: 150.0\n",
      "Ground Truth: 19.0\n",
      "Error: 131.0\n",
      "==================================================\n",
      "How far is the gas station away from the camera in meters, rounded to the next meter?\n"
     ]
    },
    {
     "name": "stderr",
     "output_type": "stream",
     "text": [
      "Setting `pad_token_id` to `eos_token_id`:None for open-end generation.\n"
     ]
    },
    {
     "name": "stdout",
     "output_type": "stream",
     "text": [
      "HALLO\n",
      "Item ID: 23K2mFVzbr6lgTCY23RSyA_left\n",
      "Predicted Meter: 150.0\n",
      "Ground Truth: 26.0\n",
      "Error: 124.0\n",
      "==================================================\n",
      "How far is the post box away from the camera in meters, rounded to the next meter?\n"
     ]
    },
    {
     "name": "stderr",
     "output_type": "stream",
     "text": [
      "Setting `pad_token_id` to `eos_token_id`:None for open-end generation.\n"
     ]
    },
    {
     "name": "stdout",
     "output_type": "stream",
     "text": [
      "HALLO\n",
      "Item ID: ZtEPmOuKRrXgxN530WjKcQ_left\n",
      "Predicted Meter: 10.0\n",
      "Ground Truth: 25.0\n",
      "Error: 15.0\n",
      "==================================================\n",
      "How far is the gas station away from the camera in meters, rounded to the next meter?\n"
     ]
    },
    {
     "name": "stderr",
     "output_type": "stream",
     "text": [
      "Setting `pad_token_id` to `eos_token_id`:None for open-end generation.\n"
     ]
    },
    {
     "name": "stdout",
     "output_type": "stream",
     "text": [
      "HALLO\n",
      "Item ID: MCT0I-phnpTIdJSHxPtY-g_right\n",
      "Predicted Meter: 100.0\n",
      "Ground Truth: 27.0\n",
      "Error: 73.0\n",
      "==================================================\n",
      "How far is the gas station away from the camera in meters, rounded to the next meter?\n"
     ]
    },
    {
     "name": "stderr",
     "output_type": "stream",
     "text": [
      "Setting `pad_token_id` to `eos_token_id`:None for open-end generation.\n"
     ]
    },
    {
     "name": "stdout",
     "output_type": "stream",
     "text": [
      "HALLO\n",
      "Item ID: mgrFIGd_29iyc-W2Ss-5jw_right\n",
      "Predicted Meter: 100.0\n",
      "Ground Truth: 28.0\n",
      "Error: 72.0\n",
      "==================================================\n",
      "How far is the gas station away from the camera in meters, rounded to the next meter?\n"
     ]
    },
    {
     "name": "stderr",
     "output_type": "stream",
     "text": [
      "Setting `pad_token_id` to `eos_token_id`:None for open-end generation.\n"
     ]
    },
    {
     "name": "stdout",
     "output_type": "stream",
     "text": [
      "HALLO\n",
      "Item ID: mlYvnxD8afYF5Nk-OF586Q_back\n",
      "Predicted Meter: None\n",
      "Ground Truth: 27.0\n",
      "Error: None\n",
      "==================================================\n",
      "How far is the gas station away from the camera in meters, rounded to the next meter?\n"
     ]
    },
    {
     "name": "stderr",
     "output_type": "stream",
     "text": [
      "Setting `pad_token_id` to `eos_token_id`:None for open-end generation.\n"
     ]
    },
    {
     "name": "stdout",
     "output_type": "stream",
     "text": [
      "HALLO\n",
      "Item ID: TiowKAVmIDB9vomUrCEavA_back\n",
      "Predicted Meter: None\n",
      "Ground Truth: 27.0\n",
      "Error: None\n",
      "==================================================\n",
      "How far is the gas station away from the camera in meters, rounded to the next meter?\n"
     ]
    },
    {
     "name": "stderr",
     "output_type": "stream",
     "text": [
      "Setting `pad_token_id` to `eos_token_id`:None for open-end generation.\n"
     ]
    },
    {
     "name": "stdout",
     "output_type": "stream",
     "text": [
      "HALLO\n",
      "Item ID: 5SVYauUAV9ZXo2j86RG9Nw_right\n",
      "Predicted Meter: 100.0\n",
      "Ground Truth: 19.0\n",
      "Error: 81.0\n",
      "==================================================\n",
      "How far is the gas station away from the camera in meters, rounded to the next meter?\n"
     ]
    },
    {
     "name": "stderr",
     "output_type": "stream",
     "text": [
      "Setting `pad_token_id` to `eos_token_id`:None for open-end generation.\n"
     ]
    },
    {
     "name": "stdout",
     "output_type": "stream",
     "text": [
      "HALLO\n",
      "Item ID: Hb7GT5BfydzVAky33nEYWw_right\n",
      "Predicted Meter: 10.0\n",
      "Ground Truth: 28.0\n",
      "Error: 18.0\n",
      "==================================================\n",
      "How far is the gas station away from the camera in meters, rounded to the next meter?\n"
     ]
    },
    {
     "name": "stderr",
     "output_type": "stream",
     "text": [
      "Setting `pad_token_id` to `eos_token_id`:None for open-end generation.\n"
     ]
    },
    {
     "name": "stdout",
     "output_type": "stream",
     "text": [
      "HALLO\n",
      "Item ID: n_-sAWzo-dL9XYZ3UzaYqA_front\n",
      "Predicted Meter: 100.0\n",
      "Ground Truth: 26.0\n",
      "Error: 74.0\n",
      "==================================================\n",
      "How far is the gas station away from the camera in meters, rounded to the next meter?\n"
     ]
    },
    {
     "name": "stderr",
     "output_type": "stream",
     "text": [
      "Setting `pad_token_id` to `eos_token_id`:None for open-end generation.\n"
     ]
    },
    {
     "name": "stdout",
     "output_type": "stream",
     "text": [
      "HALLO\n",
      "Item ID: 8IFkUwxQ62DDv-tOHhqTQg_right\n",
      "Predicted Meter: 100.0\n",
      "Ground Truth: 23.0\n",
      "Error: 77.0\n",
      "==================================================\n",
      "How far is the gas station away from the camera in meters, rounded to the next meter?\n"
     ]
    },
    {
     "name": "stderr",
     "output_type": "stream",
     "text": [
      "Setting `pad_token_id` to `eos_token_id`:None for open-end generation.\n"
     ]
    },
    {
     "name": "stdout",
     "output_type": "stream",
     "text": [
      "HALLO\n",
      "Item ID: t-ObecRVp4gxHXU-c2LqWA_right\n",
      "Predicted Meter: 150.0\n",
      "Ground Truth: 19.0\n",
      "Error: 131.0\n",
      "==================================================\n",
      "How far is the gas station away from the camera in meters, rounded to the next meter?\n"
     ]
    },
    {
     "name": "stderr",
     "output_type": "stream",
     "text": [
      "Setting `pad_token_id` to `eos_token_id`:None for open-end generation.\n"
     ]
    },
    {
     "name": "stdout",
     "output_type": "stream",
     "text": [
      "HALLO\n",
      "Item ID: yX3nYikBoHLy4CRAPIzBug_left\n",
      "Predicted Meter: 150.0\n",
      "Ground Truth: 25.0\n",
      "Error: 125.0\n",
      "==================================================\n",
      "How far is the gas station away from the camera in meters, rounded to the next meter?\n"
     ]
    },
    {
     "name": "stderr",
     "output_type": "stream",
     "text": [
      "Setting `pad_token_id` to `eos_token_id`:None for open-end generation.\n"
     ]
    },
    {
     "name": "stdout",
     "output_type": "stream",
     "text": [
      "HALLO\n",
      "Item ID: 34rhcF7_5z_xCF7rHKL4Ug_left\n",
      "Predicted Meter: 150.0\n",
      "Ground Truth: 25.0\n",
      "Error: 125.0\n",
      "==================================================\n",
      "How far is the gas station away from the camera in meters, rounded to the next meter?\n"
     ]
    },
    {
     "name": "stderr",
     "output_type": "stream",
     "text": [
      "Setting `pad_token_id` to `eos_token_id`:None for open-end generation.\n"
     ]
    },
    {
     "name": "stdout",
     "output_type": "stream",
     "text": [
      "HALLO\n",
      "Item ID: nwRZPegKQEcE9K_vk69Z9Q_left\n",
      "Predicted Meter: None\n",
      "Ground Truth: 29.0\n",
      "Error: None\n",
      "==================================================\n",
      "How far is the gas station away from the camera in meters, rounded to the next meter?\n"
     ]
    },
    {
     "name": "stderr",
     "output_type": "stream",
     "text": [
      "Setting `pad_token_id` to `eos_token_id`:None for open-end generation.\n"
     ]
    },
    {
     "name": "stdout",
     "output_type": "stream",
     "text": [
      "HALLO\n",
      "Item ID: ysT0A7MmG8MHyY5MFjgfzg_left\n",
      "Predicted Meter: 150.0\n",
      "Ground Truth: 30.0\n",
      "Error: 120.0\n",
      "==================================================\n",
      "How far is the gas station away from the camera in meters, rounded to the next meter?\n"
     ]
    },
    {
     "name": "stderr",
     "output_type": "stream",
     "text": [
      "Setting `pad_token_id` to `eos_token_id`:None for open-end generation.\n"
     ]
    },
    {
     "name": "stdout",
     "output_type": "stream",
     "text": [
      "HALLO\n",
      "Item ID: hUKSWoNyPXipTtKRMMVNpw_left\n",
      "Predicted Meter: 100.0\n",
      "Ground Truth: 22.0\n",
      "Error: 78.0\n",
      "==================================================\n",
      "How far is the post box away from the camera in meters, rounded to the next meter?\n"
     ]
    },
    {
     "name": "stderr",
     "output_type": "stream",
     "text": [
      "Setting `pad_token_id` to `eos_token_id`:None for open-end generation.\n"
     ]
    },
    {
     "name": "stdout",
     "output_type": "stream",
     "text": [
      "HALLO\n",
      "Item ID: P11gxo_aHViVXuN2TI1OHg_back\n",
      "Predicted Meter: 10.0\n",
      "Ground Truth: 20.0\n",
      "Error: 10.0\n",
      "==================================================\n",
      "How far is the gas station away from the camera in meters, rounded to the next meter?\n"
     ]
    },
    {
     "name": "stderr",
     "output_type": "stream",
     "text": [
      "Setting `pad_token_id` to `eos_token_id`:None for open-end generation.\n"
     ]
    },
    {
     "name": "stdout",
     "output_type": "stream",
     "text": [
      "HALLO\n",
      "Item ID: yk32zNW_DJiLkXyl-tAW1Q_front\n",
      "Predicted Meter: 150.0\n",
      "Ground Truth: 30.0\n",
      "Error: 120.0\n",
      "==================================================\n",
      "How far is the gas station away from the camera in meters, rounded to the next meter?\n"
     ]
    },
    {
     "name": "stderr",
     "output_type": "stream",
     "text": [
      "Setting `pad_token_id` to `eos_token_id`:None for open-end generation.\n"
     ]
    },
    {
     "name": "stdout",
     "output_type": "stream",
     "text": [
      "HALLO\n",
      "Item ID: rn5P8mSyhi_XnmRqx6nBKQ_left\n",
      "Predicted Meter: 150.0\n",
      "Ground Truth: 23.0\n",
      "Error: 127.0\n",
      "==================================================\n",
      "How far is the gas station away from the camera in meters, rounded to the next meter?\n"
     ]
    },
    {
     "name": "stderr",
     "output_type": "stream",
     "text": [
      "Setting `pad_token_id` to `eos_token_id`:None for open-end generation.\n"
     ]
    },
    {
     "name": "stdout",
     "output_type": "stream",
     "text": [
      "HALLO\n",
      "Item ID: f6f84yNmkf8dSKmA1WLL7g_right\n",
      "Predicted Meter: 100.0\n",
      "Ground Truth: 21.0\n",
      "Error: 79.0\n",
      "==================================================\n",
      "How far is the gas station away from the camera in meters, rounded to the next meter?\n"
     ]
    },
    {
     "name": "stderr",
     "output_type": "stream",
     "text": [
      "Setting `pad_token_id` to `eos_token_id`:None for open-end generation.\n"
     ]
    },
    {
     "name": "stdout",
     "output_type": "stream",
     "text": [
      "HALLO\n",
      "Item ID: 6rMd7Pu3dPDxfKH2hLr2cg_back\n",
      "Predicted Meter: 150.0\n",
      "Ground Truth: 13.0\n",
      "Error: 137.0\n",
      "==================================================\n",
      "How far is the vending machine away from the camera in meters, rounded to the next meter?\n"
     ]
    },
    {
     "name": "stderr",
     "output_type": "stream",
     "text": [
      "Setting `pad_token_id` to `eos_token_id`:None for open-end generation.\n"
     ]
    },
    {
     "name": "stdout",
     "output_type": "stream",
     "text": [
      "HALLO\n",
      "Item ID: gfnR0b6W1zb84NAfdD8sLQ_right\n",
      "Predicted Meter: 11.0\n",
      "Ground Truth: 21.0\n",
      "Error: 10.0\n",
      "==================================================\n",
      "How far is the gas station away from the camera in meters, rounded to the next meter?\n"
     ]
    },
    {
     "name": "stderr",
     "output_type": "stream",
     "text": [
      "Setting `pad_token_id` to `eos_token_id`:None for open-end generation.\n"
     ]
    },
    {
     "name": "stdout",
     "output_type": "stream",
     "text": [
      "HALLO\n",
      "Item ID: IC6kW3S7XTym0qyTt0JbHQ_left\n",
      "Predicted Meter: 30.0\n",
      "Ground Truth: 30.0\n",
      "Error: 0.0\n",
      "==================================================\n",
      "How far is the gas station away from the camera in meters, rounded to the next meter?\n"
     ]
    },
    {
     "name": "stderr",
     "output_type": "stream",
     "text": [
      "Setting `pad_token_id` to `eos_token_id`:None for open-end generation.\n"
     ]
    },
    {
     "name": "stdout",
     "output_type": "stream",
     "text": [
      "HALLO\n",
      "Item ID: dONIwocp2GAJUXZYYG83Kw_right\n",
      "Predicted Meter: None\n",
      "Ground Truth: 26.0\n",
      "Error: None\n",
      "==================================================\n",
      "How far is the gas station away from the camera in meters, rounded to the next meter?\n"
     ]
    },
    {
     "name": "stderr",
     "output_type": "stream",
     "text": [
      "Setting `pad_token_id` to `eos_token_id`:None for open-end generation.\n"
     ]
    },
    {
     "name": "stdout",
     "output_type": "stream",
     "text": [
      "HALLO\n",
      "Item ID: jzPv_XRZOHrODSl7I9CQ3g_right\n",
      "Predicted Meter: 100.0\n",
      "Ground Truth: 26.0\n",
      "Error: 74.0\n",
      "==================================================\n",
      "How far is the gas station away from the camera in meters, rounded to the next meter?\n"
     ]
    },
    {
     "name": "stderr",
     "output_type": "stream",
     "text": [
      "Setting `pad_token_id` to `eos_token_id`:None for open-end generation.\n"
     ]
    },
    {
     "name": "stdout",
     "output_type": "stream",
     "text": [
      "HALLO\n",
      "Item ID: 3DIZja3YjsiL-kIvWohenw_right\n",
      "Predicted Meter: 100.0\n",
      "Ground Truth: 26.0\n",
      "Error: 74.0\n",
      "==================================================\n",
      "How far is the gas station away from the camera in meters, rounded to the next meter?\n"
     ]
    },
    {
     "name": "stderr",
     "output_type": "stream",
     "text": [
      "Setting `pad_token_id` to `eos_token_id`:None for open-end generation.\n"
     ]
    },
    {
     "name": "stdout",
     "output_type": "stream",
     "text": [
      "HALLO\n",
      "Item ID: fPyAVSl8mmbPEKbvzZXbtQ_right\n",
      "Predicted Meter: 100.0\n",
      "Ground Truth: 18.0\n",
      "Error: 82.0\n",
      "==================================================\n",
      "How far is the gas station away from the camera in meters, rounded to the next meter?\n"
     ]
    },
    {
     "name": "stderr",
     "output_type": "stream",
     "text": [
      "Setting `pad_token_id` to `eos_token_id`:None for open-end generation.\n"
     ]
    },
    {
     "name": "stdout",
     "output_type": "stream",
     "text": [
      "HALLO\n",
      "Item ID: mjFLZisPjatDeki9c5acEg_back\n",
      "Predicted Meter: 150.0\n",
      "Ground Truth: 20.0\n",
      "Error: 130.0\n",
      "==================================================\n",
      "How far is the gas station away from the camera in meters, rounded to the next meter?\n"
     ]
    },
    {
     "name": "stderr",
     "output_type": "stream",
     "text": [
      "Setting `pad_token_id` to `eos_token_id`:None for open-end generation.\n"
     ]
    },
    {
     "name": "stdout",
     "output_type": "stream",
     "text": [
      "HALLO\n",
      "Item ID: SA7K9gTIMdwmXDTsDcBM6Q_right\n",
      "Predicted Meter: 150.0\n",
      "Ground Truth: 19.0\n",
      "Error: 131.0\n",
      "==================================================\n",
      "How far is the gas station away from the camera in meters, rounded to the next meter?\n"
     ]
    },
    {
     "name": "stderr",
     "output_type": "stream",
     "text": [
      "Setting `pad_token_id` to `eos_token_id`:None for open-end generation.\n"
     ]
    },
    {
     "name": "stdout",
     "output_type": "stream",
     "text": [
      "HALLO\n",
      "Item ID: ELejaWw7AULkc0v0Of43yQ_left\n",
      "Predicted Meter: 150.0\n",
      "Ground Truth: 22.0\n",
      "Error: 128.0\n",
      "==================================================\n",
      "How far is the gas station away from the camera in meters, rounded to the next meter?\n"
     ]
    },
    {
     "name": "stderr",
     "output_type": "stream",
     "text": [
      "Setting `pad_token_id` to `eos_token_id`:None for open-end generation.\n"
     ]
    },
    {
     "name": "stdout",
     "output_type": "stream",
     "text": [
      "HALLO\n",
      "Item ID: bIHH-_IXF2ik1ynh9n06zQ_right\n",
      "Predicted Meter: 100.0\n",
      "Ground Truth: 22.0\n",
      "Error: 78.0\n",
      "==================================================\n",
      "How far is the gas station away from the camera in meters, rounded to the next meter?\n"
     ]
    },
    {
     "name": "stderr",
     "output_type": "stream",
     "text": [
      "Setting `pad_token_id` to `eos_token_id`:None for open-end generation.\n"
     ]
    },
    {
     "name": "stdout",
     "output_type": "stream",
     "text": [
      "HALLO\n",
      "Item ID: mzltktb5OGPPKPAWlC_fCA_back\n",
      "Predicted Meter: None\n",
      "Ground Truth: 23.0\n",
      "Error: None\n",
      "==================================================\n",
      "How far is the gas station away from the camera in meters, rounded to the next meter?\n"
     ]
    },
    {
     "name": "stderr",
     "output_type": "stream",
     "text": [
      "Setting `pad_token_id` to `eos_token_id`:None for open-end generation.\n"
     ]
    },
    {
     "name": "stdout",
     "output_type": "stream",
     "text": [
      "HALLO\n",
      "Item ID: BBpzL8ql3kRAEMJpc1_HGw_right\n",
      "Predicted Meter: 100.0\n",
      "Ground Truth: 24.0\n",
      "Error: 76.0\n",
      "==================================================\n",
      "How far is the gas station away from the camera in meters, rounded to the next meter?\n"
     ]
    },
    {
     "name": "stderr",
     "output_type": "stream",
     "text": [
      "Setting `pad_token_id` to `eos_token_id`:None for open-end generation.\n"
     ]
    },
    {
     "name": "stdout",
     "output_type": "stream",
     "text": [
      "HALLO\n",
      "Item ID: A9S-KxBLUmMgIGQZMvhxBw_front\n",
      "Predicted Meter: 150.0\n",
      "Ground Truth: 28.0\n",
      "Error: 122.0\n",
      "==================================================\n",
      "How far is the gas station away from the camera in meters, rounded to the next meter?\n"
     ]
    },
    {
     "name": "stderr",
     "output_type": "stream",
     "text": [
      "Setting `pad_token_id` to `eos_token_id`:None for open-end generation.\n"
     ]
    },
    {
     "name": "stdout",
     "output_type": "stream",
     "text": [
      "HALLO\n",
      "Item ID: gmliVFMV0b8_cmZ-QyDEAQ_front\n",
      "Predicted Meter: 100.0\n",
      "Ground Truth: 19.0\n",
      "Error: 81.0\n",
      "==================================================\n",
      "How far is the gas station away from the camera in meters, rounded to the next meter?\n"
     ]
    },
    {
     "name": "stderr",
     "output_type": "stream",
     "text": [
      "Setting `pad_token_id` to `eos_token_id`:None for open-end generation.\n"
     ]
    },
    {
     "name": "stdout",
     "output_type": "stream",
     "text": [
      "HALLO\n",
      "Item ID: 7gGp2SI0dsnSkN-JuQiesw_back\n",
      "Predicted Meter: 100.0\n",
      "Ground Truth: 25.0\n",
      "Error: 75.0\n",
      "==================================================\n",
      "How far is the gas station away from the camera in meters, rounded to the next meter?\n"
     ]
    },
    {
     "name": "stderr",
     "output_type": "stream",
     "text": [
      "Setting `pad_token_id` to `eos_token_id`:None for open-end generation.\n"
     ]
    },
    {
     "name": "stdout",
     "output_type": "stream",
     "text": [
      "HALLO\n",
      "Item ID: 4UYo98GXL__fsXn5Hx4CPQ_back\n",
      "Predicted Meter: None\n",
      "Ground Truth: 26.0\n",
      "Error: None\n",
      "==================================================\n",
      "How far is the post box away from the camera in meters, rounded to the next meter?\n"
     ]
    },
    {
     "name": "stderr",
     "output_type": "stream",
     "text": [
      "Setting `pad_token_id` to `eos_token_id`:None for open-end generation.\n"
     ]
    },
    {
     "name": "stdout",
     "output_type": "stream",
     "text": [
      "HALLO\n",
      "Item ID: QArcg6Bp7lO81QVYjAfhPg_front\n",
      "Predicted Meter: 100.0\n",
      "Ground Truth: 16.0\n",
      "Error: 84.0\n",
      "==================================================\n",
      "How far is the gas station away from the camera in meters, rounded to the next meter?\n"
     ]
    },
    {
     "name": "stderr",
     "output_type": "stream",
     "text": [
      "Setting `pad_token_id` to `eos_token_id`:None for open-end generation.\n"
     ]
    },
    {
     "name": "stdout",
     "output_type": "stream",
     "text": [
      "HALLO\n",
      "Item ID: O45aphvvSoBaD8agtIVz7w_right\n",
      "Predicted Meter: 150.0\n",
      "Ground Truth: 21.0\n",
      "Error: 129.0\n",
      "==================================================\n",
      "How far is the gas station away from the camera in meters, rounded to the next meter?\n"
     ]
    },
    {
     "name": "stderr",
     "output_type": "stream",
     "text": [
      "Setting `pad_token_id` to `eos_token_id`:None for open-end generation.\n"
     ]
    },
    {
     "name": "stdout",
     "output_type": "stream",
     "text": [
      "HALLO\n",
      "Item ID: _nYEhvKAIDtrvoRFpCSuBQ_front\n",
      "Predicted Meter: 100.0\n",
      "Ground Truth: 29.0\n",
      "Error: 71.0\n",
      "==================================================\n",
      "How far is the gas station away from the camera in meters, rounded to the next meter?\n"
     ]
    },
    {
     "name": "stderr",
     "output_type": "stream",
     "text": [
      "Setting `pad_token_id` to `eos_token_id`:None for open-end generation.\n"
     ]
    },
    {
     "name": "stdout",
     "output_type": "stream",
     "text": [
      "HALLO\n",
      "Item ID: gLMnHJfMVfS176MkMVYWxA_left\n",
      "Predicted Meter: 100.0\n",
      "Ground Truth: 24.0\n",
      "Error: 76.0\n",
      "==================================================\n",
      "How far is the gas station away from the camera in meters, rounded to the next meter?\n"
     ]
    },
    {
     "name": "stderr",
     "output_type": "stream",
     "text": [
      "Setting `pad_token_id` to `eos_token_id`:None for open-end generation.\n"
     ]
    },
    {
     "name": "stdout",
     "output_type": "stream",
     "text": [
      "HALLO\n",
      "Item ID: uixXcPpyT06jWktX7LvdUg_right\n",
      "Predicted Meter: 100.0\n",
      "Ground Truth: 22.0\n",
      "Error: 78.0\n",
      "==================================================\n",
      "How far is the gas station away from the camera in meters, rounded to the next meter?\n"
     ]
    },
    {
     "name": "stderr",
     "output_type": "stream",
     "text": [
      "Setting `pad_token_id` to `eos_token_id`:None for open-end generation.\n"
     ]
    },
    {
     "name": "stdout",
     "output_type": "stream",
     "text": [
      "HALLO\n",
      "Item ID: 2qEcuuJ-XtAJsGDEnh0VYg_right\n",
      "Predicted Meter: 150.0\n",
      "Ground Truth: 23.0\n",
      "Error: 127.0\n",
      "==================================================\n",
      "How far is the gas station away from the camera in meters, rounded to the next meter?\n"
     ]
    },
    {
     "name": "stderr",
     "output_type": "stream",
     "text": [
      "Setting `pad_token_id` to `eos_token_id`:None for open-end generation.\n"
     ]
    },
    {
     "name": "stdout",
     "output_type": "stream",
     "text": [
      "HALLO\n",
      "Item ID: kzpGP0MnxjLXTR0OLJsUWg_left\n",
      "Predicted Meter: 100.0\n",
      "Ground Truth: 28.0\n",
      "Error: 72.0\n",
      "==================================================\n",
      "How far is the gas station away from the camera in meters, rounded to the next meter?\n"
     ]
    },
    {
     "name": "stderr",
     "output_type": "stream",
     "text": [
      "Setting `pad_token_id` to `eos_token_id`:None for open-end generation.\n"
     ]
    },
    {
     "name": "stdout",
     "output_type": "stream",
     "text": [
      "HALLO\n",
      "Item ID: h_pdMobutR1b38Ek1Yf24Q_front\n",
      "Predicted Meter: None\n",
      "Ground Truth: 18.0\n",
      "Error: None\n",
      "==================================================\n",
      "How far is the gas station away from the camera in meters, rounded to the next meter?\n"
     ]
    },
    {
     "name": "stderr",
     "output_type": "stream",
     "text": [
      "Setting `pad_token_id` to `eos_token_id`:None for open-end generation.\n"
     ]
    },
    {
     "name": "stdout",
     "output_type": "stream",
     "text": [
      "HALLO\n",
      "Item ID: 1CFhl2zw8_wpjV8SaYekZA_right\n",
      "Predicted Meter: 100.0\n",
      "Ground Truth: 27.0\n",
      "Error: 73.0\n",
      "==================================================\n",
      "How far is the gas station away from the camera in meters, rounded to the next meter?\n"
     ]
    },
    {
     "name": "stderr",
     "output_type": "stream",
     "text": [
      "Setting `pad_token_id` to `eos_token_id`:None for open-end generation.\n"
     ]
    },
    {
     "name": "stdout",
     "output_type": "stream",
     "text": [
      "HALLO\n",
      "Item ID: jU6X-KpYz18pt96XJ-YoeQ_right\n",
      "Predicted Meter: 100.0\n",
      "Ground Truth: 25.0\n",
      "Error: 75.0\n",
      "==================================================\n",
      "How far is the gas station away from the camera in meters, rounded to the next meter?\n"
     ]
    },
    {
     "name": "stderr",
     "output_type": "stream",
     "text": [
      "Setting `pad_token_id` to `eos_token_id`:None for open-end generation.\n"
     ]
    },
    {
     "name": "stdout",
     "output_type": "stream",
     "text": [
      "HALLO\n",
      "Item ID: TrZtzGlvyG_QmyhBJBma4A_right\n",
      "Predicted Meter: 150.0\n",
      "Ground Truth: 21.0\n",
      "Error: 129.0\n",
      "==================================================\n",
      "How far is the gas station away from the camera in meters, rounded to the next meter?\n"
     ]
    },
    {
     "name": "stderr",
     "output_type": "stream",
     "text": [
      "Setting `pad_token_id` to `eos_token_id`:None for open-end generation.\n"
     ]
    },
    {
     "name": "stdout",
     "output_type": "stream",
     "text": [
      "HALLO\n",
      "Item ID: Y1OMmLWmRqjyAP7zn4TGNA_right\n",
      "Predicted Meter: 100.0\n",
      "Ground Truth: 20.0\n",
      "Error: 80.0\n",
      "==================================================\n",
      "How far is the gas station away from the camera in meters, rounded to the next meter?\n"
     ]
    },
    {
     "name": "stderr",
     "output_type": "stream",
     "text": [
      "Setting `pad_token_id` to `eos_token_id`:None for open-end generation.\n"
     ]
    },
    {
     "name": "stdout",
     "output_type": "stream",
     "text": [
      "HALLO\n",
      "Item ID: CzHuqJTBB29Mj10Tf-vG_A_left\n",
      "Predicted Meter: 100.0\n",
      "Ground Truth: 24.0\n",
      "Error: 76.0\n",
      "==================================================\n",
      "How far is the gas station away from the camera in meters, rounded to the next meter?\n"
     ]
    },
    {
     "name": "stderr",
     "output_type": "stream",
     "text": [
      "Setting `pad_token_id` to `eos_token_id`:None for open-end generation.\n"
     ]
    },
    {
     "name": "stdout",
     "output_type": "stream",
     "text": [
      "HALLO\n",
      "Item ID: 3k16AWQgqv40UC3T2pxpRA_right\n",
      "Predicted Meter: None\n",
      "Ground Truth: 25.0\n",
      "Error: None\n",
      "==================================================\n",
      "How far is the gas station away from the camera in meters, rounded to the next meter?\n"
     ]
    },
    {
     "name": "stderr",
     "output_type": "stream",
     "text": [
      "Setting `pad_token_id` to `eos_token_id`:None for open-end generation.\n"
     ]
    },
    {
     "name": "stdout",
     "output_type": "stream",
     "text": [
      "HALLO\n",
      "Item ID: pksYc6IzkoN8GUhDj0LDpQ_right\n",
      "Predicted Meter: None\n",
      "Ground Truth: 27.0\n",
      "Error: None\n",
      "==================================================\n",
      "How far is the gas station away from the camera in meters, rounded to the next meter?\n"
     ]
    },
    {
     "name": "stderr",
     "output_type": "stream",
     "text": [
      "Setting `pad_token_id` to `eos_token_id`:None for open-end generation.\n"
     ]
    },
    {
     "name": "stdout",
     "output_type": "stream",
     "text": [
      "HALLO\n",
      "Item ID: 9vadzEjIYIdbpVS1SXgiuA_front\n",
      "Predicted Meter: 15.0\n",
      "Ground Truth: 26.0\n",
      "Error: 11.0\n",
      "==================================================\n",
      "How far is the gas station away from the camera in meters, rounded to the next meter?\n"
     ]
    },
    {
     "name": "stderr",
     "output_type": "stream",
     "text": [
      "Setting `pad_token_id` to `eos_token_id`:None for open-end generation.\n"
     ]
    },
    {
     "name": "stdout",
     "output_type": "stream",
     "text": [
      "HALLO\n",
      "Item ID: 4K-t0ms7NlOyQIs6n4V0hg_right\n",
      "Predicted Meter: 150.0\n",
      "Ground Truth: 30.0\n",
      "Error: 120.0\n",
      "==================================================\n",
      "How far is the gas station away from the camera in meters, rounded to the next meter?\n"
     ]
    },
    {
     "name": "stderr",
     "output_type": "stream",
     "text": [
      "Setting `pad_token_id` to `eos_token_id`:None for open-end generation.\n"
     ]
    },
    {
     "name": "stdout",
     "output_type": "stream",
     "text": [
      "HALLO\n",
      "Item ID: 5NGOlsI3ydBDw0VOZ79c2A_right\n",
      "Predicted Meter: 100.0\n",
      "Ground Truth: 24.0\n",
      "Error: 76.0\n",
      "==================================================\n",
      "How far is the gas station away from the camera in meters, rounded to the next meter?\n"
     ]
    },
    {
     "name": "stderr",
     "output_type": "stream",
     "text": [
      "Setting `pad_token_id` to `eos_token_id`:None for open-end generation.\n"
     ]
    },
    {
     "name": "stdout",
     "output_type": "stream",
     "text": [
      "HALLO\n",
      "Item ID: 9jetR7KxoqyH2uA45eUhZA_right\n",
      "Predicted Meter: 100.0\n",
      "Ground Truth: 13.0\n",
      "Error: 87.0\n",
      "==================================================\n",
      "How far is the atm away from the camera in meters, rounded to the next meter?\n"
     ]
    },
    {
     "name": "stderr",
     "output_type": "stream",
     "text": [
      "Setting `pad_token_id` to `eos_token_id`:None for open-end generation.\n"
     ]
    },
    {
     "name": "stdout",
     "output_type": "stream",
     "text": [
      "HALLO\n",
      "Item ID: fNup96_l6Q9_7sMN3jSYSA_back\n",
      "Predicted Meter: 100.0\n",
      "Ground Truth: 17.0\n",
      "Error: 83.0\n",
      "==================================================\n",
      "How far is the gas station away from the camera in meters, rounded to the next meter?\n"
     ]
    },
    {
     "name": "stderr",
     "output_type": "stream",
     "text": [
      "Setting `pad_token_id` to `eos_token_id`:None for open-end generation.\n"
     ]
    },
    {
     "name": "stdout",
     "output_type": "stream",
     "text": [
      "HALLO\n",
      "Item ID: StE2fFKWlxq5oOY9TLzqaQ_right\n",
      "Predicted Meter: 100.0\n",
      "Ground Truth: 14.0\n",
      "Error: 86.0\n",
      "==================================================\n",
      "How far is the gas station away from the camera in meters, rounded to the next meter?\n"
     ]
    },
    {
     "name": "stderr",
     "output_type": "stream",
     "text": [
      "Setting `pad_token_id` to `eos_token_id`:None for open-end generation.\n"
     ]
    },
    {
     "name": "stdout",
     "output_type": "stream",
     "text": [
      "HALLO\n",
      "Item ID: Qz18uRHUrVtSIBcwaI6big_right\n",
      "Predicted Meter: 100.0\n",
      "Ground Truth: 26.0\n",
      "Error: 74.0\n",
      "==================================================\n",
      "How far is the post box away from the camera in meters, rounded to the next meter?\n"
     ]
    },
    {
     "name": "stderr",
     "output_type": "stream",
     "text": [
      "Setting `pad_token_id` to `eos_token_id`:None for open-end generation.\n"
     ]
    },
    {
     "name": "stdout",
     "output_type": "stream",
     "text": [
      "HALLO\n",
      "Item ID: 1N4oepZ2Tdx0RiMNW70Emg_right\n",
      "Predicted Meter: 10.0\n",
      "Ground Truth: 7.0\n",
      "Error: 3.0\n",
      "==================================================\n",
      "How far is the post box away from the camera in meters, rounded to the next meter?\n"
     ]
    },
    {
     "name": "stderr",
     "output_type": "stream",
     "text": [
      "Setting `pad_token_id` to `eos_token_id`:None for open-end generation.\n"
     ]
    },
    {
     "name": "stdout",
     "output_type": "stream",
     "text": [
      "HALLO\n",
      "Item ID: Wwz8TuQs25BR7pV6ZLxHIA_left\n",
      "Predicted Meter: 10.0\n",
      "Ground Truth: 21.0\n",
      "Error: 11.0\n",
      "==================================================\n",
      "How far is the large waste dumpster away from the camera in meters, rounded to the next meter?\n"
     ]
    },
    {
     "name": "stderr",
     "output_type": "stream",
     "text": [
      "Setting `pad_token_id` to `eos_token_id`:None for open-end generation.\n"
     ]
    },
    {
     "name": "stdout",
     "output_type": "stream",
     "text": [
      "HALLO\n",
      "Item ID: w7E4-o_FBl46aJR4nygWKA_left\n",
      "Predicted Meter: 15.0\n",
      "Ground Truth: 27.0\n",
      "Error: 12.0\n",
      "==================================================\n",
      "How far is the gas station away from the camera in meters, rounded to the next meter?\n"
     ]
    },
    {
     "name": "stderr",
     "output_type": "stream",
     "text": [
      "Setting `pad_token_id` to `eos_token_id`:None for open-end generation.\n"
     ]
    },
    {
     "name": "stdout",
     "output_type": "stream",
     "text": [
      "HALLO\n",
      "Item ID: EJyxn_BdvstB7aQW5qtXHA_right\n",
      "Predicted Meter: 100.0\n",
      "Ground Truth: 29.0\n",
      "Error: 71.0\n",
      "==================================================\n",
      "How far is the gas station away from the camera in meters, rounded to the next meter?\n"
     ]
    },
    {
     "name": "stderr",
     "output_type": "stream",
     "text": [
      "Setting `pad_token_id` to `eos_token_id`:None for open-end generation.\n"
     ]
    },
    {
     "name": "stdout",
     "output_type": "stream",
     "text": [
      "HALLO\n",
      "Item ID: hPHfaOJAMuZoaAeHKwGt0Q_right\n",
      "Predicted Meter: 100.0\n",
      "Ground Truth: 23.0\n",
      "Error: 77.0\n",
      "==================================================\n",
      "How far is the gas station away from the camera in meters, rounded to the next meter?\n"
     ]
    },
    {
     "name": "stderr",
     "output_type": "stream",
     "text": [
      "Setting `pad_token_id` to `eos_token_id`:None for open-end generation.\n"
     ]
    },
    {
     "name": "stdout",
     "output_type": "stream",
     "text": [
      "HALLO\n",
      "Item ID: Y2LqquXdxkG6CERz_G6Nlg_left\n",
      "Predicted Meter: 150.0\n",
      "Ground Truth: 25.0\n",
      "Error: 125.0\n",
      "==================================================\n",
      "How far is the gas station away from the camera in meters, rounded to the next meter?\n"
     ]
    },
    {
     "name": "stderr",
     "output_type": "stream",
     "text": [
      "Setting `pad_token_id` to `eos_token_id`:None for open-end generation.\n"
     ]
    },
    {
     "name": "stdout",
     "output_type": "stream",
     "text": [
      "HALLO\n",
      "Item ID: VKDduK1sl3OF7ekMGjEI_Q_right\n",
      "Predicted Meter: 100.0\n",
      "Ground Truth: 25.0\n",
      "Error: 75.0\n",
      "==================================================\n",
      "How far is the gas station away from the camera in meters, rounded to the next meter?\n"
     ]
    },
    {
     "name": "stderr",
     "output_type": "stream",
     "text": [
      "Setting `pad_token_id` to `eos_token_id`:None for open-end generation.\n"
     ]
    },
    {
     "name": "stdout",
     "output_type": "stream",
     "text": [
      "HALLO\n",
      "Item ID: pVT3i-VC8DKKHxxGzGM1Gw_front\n",
      "Predicted Meter: None\n",
      "Ground Truth: 22.0\n",
      "Error: None\n",
      "==================================================\n",
      "How far is the gas station away from the camera in meters, rounded to the next meter?\n"
     ]
    },
    {
     "name": "stderr",
     "output_type": "stream",
     "text": [
      "Setting `pad_token_id` to `eos_token_id`:None for open-end generation.\n"
     ]
    },
    {
     "name": "stdout",
     "output_type": "stream",
     "text": [
      "HALLO\n",
      "Item ID: QByx_5dPkZWspXNMrVlJCQ_left\n",
      "Predicted Meter: 150.0\n",
      "Ground Truth: 28.0\n",
      "Error: 122.0\n",
      "==================================================\n",
      "How far is the gas station away from the camera in meters, rounded to the next meter?\n"
     ]
    },
    {
     "name": "stderr",
     "output_type": "stream",
     "text": [
      "Setting `pad_token_id` to `eos_token_id`:None for open-end generation.\n"
     ]
    },
    {
     "name": "stdout",
     "output_type": "stream",
     "text": [
      "HALLO\n",
      "Item ID: sAX1efN-2Q1WTVF2Slt0Vg_right\n",
      "Predicted Meter: 100.0\n",
      "Ground Truth: 16.0\n",
      "Error: 84.0\n",
      "==================================================\n",
      "How far is the gas station away from the camera in meters, rounded to the next meter?\n"
     ]
    },
    {
     "name": "stderr",
     "output_type": "stream",
     "text": [
      "Setting `pad_token_id` to `eos_token_id`:None for open-end generation.\n"
     ]
    },
    {
     "name": "stdout",
     "output_type": "stream",
     "text": [
      "HALLO\n",
      "Item ID: B2xQQNnGkZTxyQWXhWUjjA_right\n",
      "Predicted Meter: 100.0\n",
      "Ground Truth: 18.0\n",
      "Error: 82.0\n",
      "==================================================\n",
      "How far is the gas station away from the camera in meters, rounded to the next meter?\n"
     ]
    },
    {
     "name": "stderr",
     "output_type": "stream",
     "text": [
      "Setting `pad_token_id` to `eos_token_id`:None for open-end generation.\n"
     ]
    },
    {
     "name": "stdout",
     "output_type": "stream",
     "text": [
      "HALLO\n",
      "Item ID: zlVVWK2209dwiSv-jkQ7mA_right\n",
      "Predicted Meter: 100.0\n",
      "Ground Truth: 18.0\n",
      "Error: 82.0\n",
      "==================================================\n",
      "How far is the gas station away from the camera in meters, rounded to the next meter?\n"
     ]
    },
    {
     "name": "stderr",
     "output_type": "stream",
     "text": [
      "Setting `pad_token_id` to `eos_token_id`:None for open-end generation.\n"
     ]
    },
    {
     "name": "stdout",
     "output_type": "stream",
     "text": [
      "HALLO\n",
      "Item ID: PSXKhfo_2-cixnRnrkWgug_right\n",
      "Predicted Meter: 100.0\n",
      "Ground Truth: 20.0\n",
      "Error: 80.0\n",
      "==================================================\n",
      "How far is the gas station away from the camera in meters, rounded to the next meter?\n"
     ]
    },
    {
     "name": "stderr",
     "output_type": "stream",
     "text": [
      "Setting `pad_token_id` to `eos_token_id`:None for open-end generation.\n"
     ]
    },
    {
     "name": "stdout",
     "output_type": "stream",
     "text": [
      "HALLO\n",
      "Item ID: 60vORc94qejRLoePlhyhoA_left\n",
      "Predicted Meter: 100.0\n",
      "Ground Truth: 27.0\n",
      "Error: 73.0\n",
      "==================================================\n",
      "How far is the gas station away from the camera in meters, rounded to the next meter?\n"
     ]
    },
    {
     "name": "stderr",
     "output_type": "stream",
     "text": [
      "Setting `pad_token_id` to `eos_token_id`:None for open-end generation.\n"
     ]
    },
    {
     "name": "stdout",
     "output_type": "stream",
     "text": [
      "HALLO\n",
      "Item ID: trCU9ky8rsxm4mMv4NGTxg_left\n",
      "Predicted Meter: None\n",
      "Ground Truth: 19.0\n",
      "Error: None\n",
      "==================================================\n",
      "How far is the gas station away from the camera in meters, rounded to the next meter?\n"
     ]
    },
    {
     "name": "stderr",
     "output_type": "stream",
     "text": [
      "Setting `pad_token_id` to `eos_token_id`:None for open-end generation.\n"
     ]
    },
    {
     "name": "stdout",
     "output_type": "stream",
     "text": [
      "HALLO\n",
      "Item ID: yqPszzxqxHCcIjL-v3WSWA_right\n",
      "Predicted Meter: 100.0\n",
      "Ground Truth: 24.0\n",
      "Error: 76.0\n",
      "==================================================\n",
      "How far is the gas station away from the camera in meters, rounded to the next meter?\n"
     ]
    },
    {
     "name": "stderr",
     "output_type": "stream",
     "text": [
      "Setting `pad_token_id` to `eos_token_id`:None for open-end generation.\n"
     ]
    },
    {
     "name": "stdout",
     "output_type": "stream",
     "text": [
      "HALLO\n",
      "Item ID: LpCUToI7Cvgkq0ILdMjfqQ_right\n",
      "Predicted Meter: 100.0\n",
      "Ground Truth: 24.0\n",
      "Error: 76.0\n",
      "==================================================\n",
      "How far is the gas station away from the camera in meters, rounded to the next meter?\n"
     ]
    },
    {
     "name": "stderr",
     "output_type": "stream",
     "text": [
      "Setting `pad_token_id` to `eos_token_id`:None for open-end generation.\n"
     ]
    },
    {
     "name": "stdout",
     "output_type": "stream",
     "text": [
      "HALLO\n",
      "Item ID: h9fvBHcx4BJ4zNUEwixmOw_back\n",
      "Predicted Meter: 100.0\n",
      "Ground Truth: 29.0\n",
      "Error: 71.0\n",
      "==================================================\n",
      "How far is the gas station away from the camera in meters, rounded to the next meter?\n"
     ]
    },
    {
     "name": "stderr",
     "output_type": "stream",
     "text": [
      "Setting `pad_token_id` to `eos_token_id`:None for open-end generation.\n"
     ]
    },
    {
     "name": "stdout",
     "output_type": "stream",
     "text": [
      "HALLO\n",
      "Item ID: AJz20_6wSjeKoUZmfq-X2A_right\n",
      "Predicted Meter: 150.0\n",
      "Ground Truth: 18.0\n",
      "Error: 132.0\n",
      "==================================================\n",
      "How far is the gas station away from the camera in meters, rounded to the next meter?\n"
     ]
    },
    {
     "name": "stderr",
     "output_type": "stream",
     "text": [
      "Setting `pad_token_id` to `eos_token_id`:None for open-end generation.\n"
     ]
    },
    {
     "name": "stdout",
     "output_type": "stream",
     "text": [
      "HALLO\n",
      "Item ID: i5WVC6hZreMrj25W7QzYRw_back\n",
      "Predicted Meter: 10.0\n",
      "Ground Truth: 23.0\n",
      "Error: 13.0\n",
      "==================================================\n",
      "How far is the gas station away from the camera in meters, rounded to the next meter?\n"
     ]
    },
    {
     "name": "stderr",
     "output_type": "stream",
     "text": [
      "Setting `pad_token_id` to `eos_token_id`:None for open-end generation.\n"
     ]
    },
    {
     "name": "stdout",
     "output_type": "stream",
     "text": [
      "HALLO\n",
      "Item ID: ZdiVojc1dtotNExOp58x5A_left\n",
      "Predicted Meter: 100.0\n",
      "Ground Truth: 26.0\n",
      "Error: 74.0\n",
      "==================================================\n",
      "How far is the gas station away from the camera in meters, rounded to the next meter?\n"
     ]
    },
    {
     "name": "stderr",
     "output_type": "stream",
     "text": [
      "Setting `pad_token_id` to `eos_token_id`:None for open-end generation.\n"
     ]
    },
    {
     "name": "stdout",
     "output_type": "stream",
     "text": [
      "HALLO\n",
      "Item ID: 60vORc94qejRLoePlhyhoA_right\n",
      "Predicted Meter: 100.0\n",
      "Ground Truth: 27.0\n",
      "Error: 73.0\n",
      "==================================================\n",
      "How far is the gas station away from the camera in meters, rounded to the next meter?\n"
     ]
    },
    {
     "name": "stderr",
     "output_type": "stream",
     "text": [
      "Setting `pad_token_id` to `eos_token_id`:None for open-end generation.\n"
     ]
    },
    {
     "name": "stdout",
     "output_type": "stream",
     "text": [
      "HALLO\n",
      "Item ID: 8vYyJMHE_ay2QBvq6RIX5g_back\n",
      "Predicted Meter: 100.0\n",
      "Ground Truth: 28.0\n",
      "Error: 72.0\n",
      "==================================================\n",
      "How far is the electric charging station away from the camera in meters, rounded to the next meter?\n"
     ]
    },
    {
     "name": "stderr",
     "output_type": "stream",
     "text": [
      "Setting `pad_token_id` to `eos_token_id`:None for open-end generation.\n"
     ]
    },
    {
     "name": "stdout",
     "output_type": "stream",
     "text": [
      "HALLO\n",
      "Item ID: ycFZ9QwrUeciEE2HSrFAeQ_right\n",
      "Predicted Meter: 100.0\n",
      "Ground Truth: 12.0\n",
      "Error: 88.0\n",
      "==================================================\n",
      "How far is the gas station away from the camera in meters, rounded to the next meter?\n"
     ]
    },
    {
     "name": "stderr",
     "output_type": "stream",
     "text": [
      "Setting `pad_token_id` to `eos_token_id`:None for open-end generation.\n"
     ]
    },
    {
     "name": "stdout",
     "output_type": "stream",
     "text": [
      "HALLO\n",
      "Item ID: 1Y7B1JQtBHVe2iPrAiM-eg_front\n",
      "Predicted Meter: None\n",
      "Ground Truth: 29.0\n",
      "Error: None\n",
      "==================================================\n",
      "How far is the gas station away from the camera in meters, rounded to the next meter?\n"
     ]
    },
    {
     "name": "stderr",
     "output_type": "stream",
     "text": [
      "Setting `pad_token_id` to `eos_token_id`:None for open-end generation.\n"
     ]
    },
    {
     "name": "stdout",
     "output_type": "stream",
     "text": [
      "HALLO\n",
      "Item ID: 7UXQIVV4UHo3-oDPm7qELQ_right\n",
      "Predicted Meter: 100.0\n",
      "Ground Truth: 22.0\n",
      "Error: 78.0\n",
      "==================================================\n",
      "How far is the gas station away from the camera in meters, rounded to the next meter?\n"
     ]
    },
    {
     "name": "stderr",
     "output_type": "stream",
     "text": [
      "Setting `pad_token_id` to `eos_token_id`:None for open-end generation.\n"
     ]
    },
    {
     "name": "stdout",
     "output_type": "stream",
     "text": [
      "HALLO\n",
      "Item ID: axGFVJ1krhsn6mC28ooKVA_front\n",
      "Predicted Meter: 100.0\n",
      "Ground Truth: 29.0\n",
      "Error: 71.0\n",
      "==================================================\n",
      "How far is the gas station away from the camera in meters, rounded to the next meter?\n"
     ]
    },
    {
     "name": "stderr",
     "output_type": "stream",
     "text": [
      "Setting `pad_token_id` to `eos_token_id`:None for open-end generation.\n"
     ]
    },
    {
     "name": "stdout",
     "output_type": "stream",
     "text": [
      "HALLO\n",
      "Item ID: 2M7SYVOfLnMuDXYnW8FfEQ_back\n",
      "Predicted Meter: 100.0\n",
      "Ground Truth: 24.0\n",
      "Error: 76.0\n",
      "==================================================\n",
      "How far is the gas station away from the camera in meters, rounded to the next meter?\n"
     ]
    },
    {
     "name": "stderr",
     "output_type": "stream",
     "text": [
      "Setting `pad_token_id` to `eos_token_id`:None for open-end generation.\n"
     ]
    },
    {
     "name": "stdout",
     "output_type": "stream",
     "text": [
      "HALLO\n",
      "Item ID: 4K-t0ms7NlOyQIs6n4V0hg_back\n",
      "Predicted Meter: 150.0\n",
      "Ground Truth: 30.0\n",
      "Error: 120.0\n",
      "==================================================\n",
      "How far is the gas station away from the camera in meters, rounded to the next meter?\n"
     ]
    },
    {
     "name": "stderr",
     "output_type": "stream",
     "text": [
      "Setting `pad_token_id` to `eos_token_id`:None for open-end generation.\n"
     ]
    },
    {
     "name": "stdout",
     "output_type": "stream",
     "text": [
      "HALLO\n",
      "Item ID: MS8ZruXv6pKGYFtg62uMpg_back\n",
      "Predicted Meter: 150.0\n",
      "Ground Truth: 27.0\n",
      "Error: 123.0\n",
      "==================================================\n",
      "How far is the gas station away from the camera in meters, rounded to the next meter?\n"
     ]
    },
    {
     "name": "stderr",
     "output_type": "stream",
     "text": [
      "Setting `pad_token_id` to `eos_token_id`:None for open-end generation.\n"
     ]
    },
    {
     "name": "stdout",
     "output_type": "stream",
     "text": [
      "HALLO\n",
      "Item ID: q57H2cmymr1Ixjb9MbCfPQ_right\n",
      "Predicted Meter: 100.0\n",
      "Ground Truth: 23.0\n",
      "Error: 77.0\n",
      "==================================================\n",
      "How far is the gas station away from the camera in meters, rounded to the next meter?\n"
     ]
    },
    {
     "name": "stderr",
     "output_type": "stream",
     "text": [
      "Setting `pad_token_id` to `eos_token_id`:None for open-end generation.\n"
     ]
    },
    {
     "name": "stdout",
     "output_type": "stream",
     "text": [
      "HALLO\n",
      "Item ID: EdEUoTTAcuM9cNcu08a1nw_left\n",
      "Predicted Meter: 150.0\n",
      "Ground Truth: 19.0\n",
      "Error: 131.0\n",
      "==================================================\n",
      "How far is the gas station away from the camera in meters, rounded to the next meter?\n"
     ]
    },
    {
     "name": "stderr",
     "output_type": "stream",
     "text": [
      "Setting `pad_token_id` to `eos_token_id`:None for open-end generation.\n"
     ]
    },
    {
     "name": "stdout",
     "output_type": "stream",
     "text": [
      "HALLO\n",
      "Item ID: NkjfX-IG5Qw8M_p_clCO4A_left\n",
      "Predicted Meter: 150.0\n",
      "Ground Truth: 28.0\n",
      "Error: 122.0\n",
      "==================================================\n",
      "How far is the gas station away from the camera in meters, rounded to the next meter?\n"
     ]
    },
    {
     "name": "stderr",
     "output_type": "stream",
     "text": [
      "Setting `pad_token_id` to `eos_token_id`:None for open-end generation.\n"
     ]
    },
    {
     "name": "stdout",
     "output_type": "stream",
     "text": [
      "HALLO\n",
      "Item ID: dInyxmFH1E4YJXjzmHFDHg_left\n",
      "Predicted Meter: 150.0\n",
      "Ground Truth: 29.0\n",
      "Error: 121.0\n",
      "==================================================\n",
      "How far is the gas station away from the camera in meters, rounded to the next meter?\n"
     ]
    },
    {
     "name": "stderr",
     "output_type": "stream",
     "text": [
      "Setting `pad_token_id` to `eos_token_id`:None for open-end generation.\n"
     ]
    },
    {
     "name": "stdout",
     "output_type": "stream",
     "text": [
      "HALLO\n",
      "Item ID: cTPFfgZ4KkUXKHzMddF7Bg_left\n",
      "Predicted Meter: 100.0\n",
      "Ground Truth: 22.0\n",
      "Error: 78.0\n",
      "==================================================\n",
      "How far is the gas station away from the camera in meters, rounded to the next meter?\n"
     ]
    },
    {
     "name": "stderr",
     "output_type": "stream",
     "text": [
      "Setting `pad_token_id` to `eos_token_id`:None for open-end generation.\n"
     ]
    },
    {
     "name": "stdout",
     "output_type": "stream",
     "text": [
      "HALLO\n",
      "Item ID: 1LGPz7B3vJ2IT1Qm_2nytw_front\n",
      "Predicted Meter: 200.0\n",
      "Ground Truth: 22.0\n",
      "Error: 178.0\n",
      "==================================================\n",
      "How far is the gas station away from the camera in meters, rounded to the next meter?\n"
     ]
    },
    {
     "name": "stderr",
     "output_type": "stream",
     "text": [
      "Setting `pad_token_id` to `eos_token_id`:None for open-end generation.\n"
     ]
    },
    {
     "name": "stdout",
     "output_type": "stream",
     "text": [
      "HALLO\n",
      "Item ID: JpCaP2v70FtqJJGeXyjDdw_front\n",
      "Predicted Meter: 150.0\n",
      "Ground Truth: 19.0\n",
      "Error: 131.0\n",
      "==================================================\n",
      "How far is the gas station away from the camera in meters, rounded to the next meter?\n"
     ]
    },
    {
     "name": "stderr",
     "output_type": "stream",
     "text": [
      "Setting `pad_token_id` to `eos_token_id`:None for open-end generation.\n"
     ]
    },
    {
     "name": "stdout",
     "output_type": "stream",
     "text": [
      "HALLO\n",
      "Item ID: KP7OmYZuuX5T0O8CQGFFWg_back\n",
      "Predicted Meter: 200.0\n",
      "Ground Truth: 15.0\n",
      "Error: 185.0\n",
      "==================================================\n",
      "How far is the gas station away from the camera in meters, rounded to the next meter?\n"
     ]
    },
    {
     "name": "stderr",
     "output_type": "stream",
     "text": [
      "Setting `pad_token_id` to `eos_token_id`:None for open-end generation.\n"
     ]
    },
    {
     "name": "stdout",
     "output_type": "stream",
     "text": [
      "HALLO\n",
      "Item ID: KtvPeGrsVIBkeHq8DsJfhQ_right\n",
      "Predicted Meter: 100.0\n",
      "Ground Truth: 28.0\n",
      "Error: 72.0\n",
      "==================================================\n",
      "How far is the gas station away from the camera in meters, rounded to the next meter?\n"
     ]
    },
    {
     "name": "stderr",
     "output_type": "stream",
     "text": [
      "Setting `pad_token_id` to `eos_token_id`:None for open-end generation.\n"
     ]
    },
    {
     "name": "stdout",
     "output_type": "stream",
     "text": [
      "HALLO\n",
      "Item ID: 2pj56we2AFhPUcV36gq4dw_left\n",
      "Predicted Meter: 100.0\n",
      "Ground Truth: 22.0\n",
      "Error: 78.0\n",
      "==================================================\n",
      "How far is the gas station away from the camera in meters, rounded to the next meter?\n"
     ]
    },
    {
     "name": "stderr",
     "output_type": "stream",
     "text": [
      "Setting `pad_token_id` to `eos_token_id`:None for open-end generation.\n"
     ]
    },
    {
     "name": "stdout",
     "output_type": "stream",
     "text": [
      "HALLO\n",
      "Item ID: yKjJVY-QcL8B72FWucki9A_back\n",
      "Predicted Meter: 10.0\n",
      "Ground Truth: 7.0\n",
      "Error: 3.0\n",
      "==================================================\n",
      "How far is the gas station away from the camera in meters, rounded to the next meter?\n"
     ]
    },
    {
     "name": "stderr",
     "output_type": "stream",
     "text": [
      "Setting `pad_token_id` to `eos_token_id`:None for open-end generation.\n"
     ]
    },
    {
     "name": "stdout",
     "output_type": "stream",
     "text": [
      "HALLO\n",
      "Item ID: X7F2k-IYYxWQONqJvKFAUA_right\n",
      "Predicted Meter: 150.0\n",
      "Ground Truth: 26.0\n",
      "Error: 124.0\n",
      "==================================================\n",
      "How far is the post box away from the camera in meters, rounded to the next meter?\n"
     ]
    },
    {
     "name": "stderr",
     "output_type": "stream",
     "text": [
      "Setting `pad_token_id` to `eos_token_id`:None for open-end generation.\n"
     ]
    },
    {
     "name": "stdout",
     "output_type": "stream",
     "text": [
      "HALLO\n",
      "Item ID: D-QBRj4cortWyDiYEUHvsw_right\n",
      "Predicted Meter: 10.0\n",
      "Ground Truth: 6.0\n",
      "Error: 4.0\n",
      "==================================================\n",
      "How far is the gas station away from the camera in meters, rounded to the next meter?\n"
     ]
    },
    {
     "name": "stderr",
     "output_type": "stream",
     "text": [
      "Setting `pad_token_id` to `eos_token_id`:None for open-end generation.\n"
     ]
    },
    {
     "name": "stdout",
     "output_type": "stream",
     "text": [
      "HALLO\n",
      "Item ID: b9NFY5tRuunJ3jBmVf7UBA_right\n",
      "Predicted Meter: 150.0\n",
      "Ground Truth: 21.0\n",
      "Error: 129.0\n",
      "==================================================\n",
      "How far is the gas station away from the camera in meters, rounded to the next meter?\n"
     ]
    },
    {
     "name": "stderr",
     "output_type": "stream",
     "text": [
      "Setting `pad_token_id` to `eos_token_id`:None for open-end generation.\n"
     ]
    },
    {
     "name": "stdout",
     "output_type": "stream",
     "text": [
      "HALLO\n",
      "Item ID: dGxsDZMbA6DXA4d1Pq0Bjg_front\n",
      "Predicted Meter: 50.0\n",
      "Ground Truth: 22.0\n",
      "Error: 28.0\n",
      "==================================================\n",
      "How far is the gas station away from the camera in meters, rounded to the next meter?\n"
     ]
    },
    {
     "name": "stderr",
     "output_type": "stream",
     "text": [
      "Setting `pad_token_id` to `eos_token_id`:None for open-end generation.\n"
     ]
    },
    {
     "name": "stdout",
     "output_type": "stream",
     "text": [
      "HALLO\n",
      "Item ID: ZpIKRM0lVXkIYHKNeJ-PSw_right\n",
      "Predicted Meter: 150.0\n",
      "Ground Truth: 24.0\n",
      "Error: 126.0\n",
      "==================================================\n",
      "How far is the gas station away from the camera in meters, rounded to the next meter?\n"
     ]
    },
    {
     "name": "stderr",
     "output_type": "stream",
     "text": [
      "Setting `pad_token_id` to `eos_token_id`:None for open-end generation.\n"
     ]
    },
    {
     "name": "stdout",
     "output_type": "stream",
     "text": [
      "HALLO\n",
      "Item ID: Pplmiyt2a4ebn8hP0nc70A_right\n",
      "Predicted Meter: 100.0\n",
      "Ground Truth: 21.0\n",
      "Error: 79.0\n",
      "==================================================\n",
      "How far is the post box away from the camera in meters, rounded to the next meter?\n"
     ]
    },
    {
     "name": "stderr",
     "output_type": "stream",
     "text": [
      "Setting `pad_token_id` to `eos_token_id`:None for open-end generation.\n"
     ]
    },
    {
     "name": "stdout",
     "output_type": "stream",
     "text": [
      "HALLO\n",
      "Item ID: 1C1eS9jrHwDToiIteIZqgQ_right\n",
      "Predicted Meter: 10.0\n",
      "Ground Truth: 17.0\n",
      "Error: 7.0\n",
      "==================================================\n",
      "How far is the large waste dumpster away from the camera in meters, rounded to the next meter?\n"
     ]
    },
    {
     "name": "stderr",
     "output_type": "stream",
     "text": [
      "Setting `pad_token_id` to `eos_token_id`:None for open-end generation.\n"
     ]
    },
    {
     "name": "stdout",
     "output_type": "stream",
     "text": [
      "HALLO\n",
      "Item ID: luxAA4b_ND2ueb7anI88BA_back\n",
      "Predicted Meter: 15.0\n",
      "Ground Truth: 16.0\n",
      "Error: 1.0\n",
      "==================================================\n",
      "How far is the gas station away from the camera in meters, rounded to the next meter?\n"
     ]
    },
    {
     "name": "stderr",
     "output_type": "stream",
     "text": [
      "Setting `pad_token_id` to `eos_token_id`:None for open-end generation.\n"
     ]
    },
    {
     "name": "stdout",
     "output_type": "stream",
     "text": [
      "HALLO\n",
      "Item ID: Pplmiyt2a4ebn8hP0nc70A_back\n",
      "Predicted Meter: 100.0\n",
      "Ground Truth: 21.0\n",
      "Error: 79.0\n",
      "==================================================\n",
      "How far is the gas station away from the camera in meters, rounded to the next meter?\n"
     ]
    },
    {
     "name": "stderr",
     "output_type": "stream",
     "text": [
      "Setting `pad_token_id` to `eos_token_id`:None for open-end generation.\n"
     ]
    },
    {
     "name": "stdout",
     "output_type": "stream",
     "text": [
      "HALLO\n",
      "Item ID: Qy7K-TboLcgUyUupDtMgKQ_right\n",
      "Predicted Meter: 100.0\n",
      "Ground Truth: 26.0\n",
      "Error: 74.0\n",
      "==================================================\n",
      "How far is the gas station away from the camera in meters, rounded to the next meter?\n"
     ]
    },
    {
     "name": "stderr",
     "output_type": "stream",
     "text": [
      "Setting `pad_token_id` to `eos_token_id`:None for open-end generation.\n"
     ]
    },
    {
     "name": "stdout",
     "output_type": "stream",
     "text": [
      "HALLO\n",
      "Item ID: mqpRUiJoeyjpoVAjiEiKMQ_front\n",
      "Predicted Meter: None\n",
      "Ground Truth: 22.0\n",
      "Error: None\n",
      "==================================================\n",
      "How far is the gas station away from the camera in meters, rounded to the next meter?\n"
     ]
    },
    {
     "name": "stderr",
     "output_type": "stream",
     "text": [
      "Setting `pad_token_id` to `eos_token_id`:None for open-end generation.\n"
     ]
    },
    {
     "name": "stdout",
     "output_type": "stream",
     "text": [
      "HALLO\n",
      "Item ID: cE0sa5qCriI6GUBYMcyKeg_right\n",
      "Predicted Meter: 100.0\n",
      "Ground Truth: 25.0\n",
      "Error: 75.0\n",
      "==================================================\n",
      "How far is the gas station away from the camera in meters, rounded to the next meter?\n"
     ]
    },
    {
     "name": "stderr",
     "output_type": "stream",
     "text": [
      "Setting `pad_token_id` to `eos_token_id`:None for open-end generation.\n"
     ]
    },
    {
     "name": "stdout",
     "output_type": "stream",
     "text": [
      "HALLO\n",
      "Item ID: jU6X-KpYz18pt96XJ-YoeQ_back\n",
      "Predicted Meter: 100.0\n",
      "Ground Truth: 25.0\n",
      "Error: 75.0\n",
      "==================================================\n",
      "How far is the gas station away from the camera in meters, rounded to the next meter?\n"
     ]
    },
    {
     "name": "stderr",
     "output_type": "stream",
     "text": [
      "Setting `pad_token_id` to `eos_token_id`:None for open-end generation.\n"
     ]
    },
    {
     "name": "stdout",
     "output_type": "stream",
     "text": [
      "HALLO\n",
      "Item ID: sw8Il_kg3VTkg4hfRAqhgg_left\n",
      "Predicted Meter: 150.0\n",
      "Ground Truth: 29.0\n",
      "Error: 121.0\n",
      "==================================================\n",
      "How far is the gas station away from the camera in meters, rounded to the next meter?\n"
     ]
    },
    {
     "name": "stderr",
     "output_type": "stream",
     "text": [
      "Setting `pad_token_id` to `eos_token_id`:None for open-end generation.\n"
     ]
    },
    {
     "name": "stdout",
     "output_type": "stream",
     "text": [
      "HALLO\n",
      "Item ID: wNMjdSqgpzj6j72V6oMMUg_right\n",
      "Predicted Meter: None\n",
      "Ground Truth: 29.0\n",
      "Error: None\n",
      "==================================================\n",
      "How far is the post box away from the camera in meters, rounded to the next meter?\n"
     ]
    },
    {
     "name": "stderr",
     "output_type": "stream",
     "text": [
      "Setting `pad_token_id` to `eos_token_id`:None for open-end generation.\n"
     ]
    },
    {
     "name": "stdout",
     "output_type": "stream",
     "text": [
      "HALLO\n",
      "Item ID: C72ymm34PyRc2OruySafpQ_left\n",
      "Predicted Meter: 10.0\n",
      "Ground Truth: 15.0\n",
      "Error: 5.0\n",
      "==================================================\n",
      "How far is the gas station away from the camera in meters, rounded to the next meter?\n"
     ]
    },
    {
     "name": "stderr",
     "output_type": "stream",
     "text": [
      "Setting `pad_token_id` to `eos_token_id`:None for open-end generation.\n"
     ]
    },
    {
     "name": "stdout",
     "output_type": "stream",
     "text": [
      "HALLO\n",
      "Item ID: tL1cMj27xoKEUPU8emSdSQ_right\n",
      "Predicted Meter: 100.0\n",
      "Ground Truth: 22.0\n",
      "Error: 78.0\n",
      "==================================================\n",
      "How far is the gas station away from the camera in meters, rounded to the next meter?\n"
     ]
    },
    {
     "name": "stderr",
     "output_type": "stream",
     "text": [
      "Setting `pad_token_id` to `eos_token_id`:None for open-end generation.\n"
     ]
    },
    {
     "name": "stdout",
     "output_type": "stream",
     "text": [
      "HALLO\n",
      "Item ID: 1KKSCQJLKYDDK3KSdFkHdw_right\n",
      "Predicted Meter: 150.0\n",
      "Ground Truth: 23.0\n",
      "Error: 127.0\n",
      "==================================================\n",
      "How far is the gas station away from the camera in meters, rounded to the next meter?\n",
      "HALLO\n",
      "Item ID: l7wQW6Nrj2lN4nrgHrVA0g_left\n",
      "Predicted Meter: 100.0\n",
      "Ground Truth: 26.0\n",
      "Error: 74.0\n",
      "==================================================\n",
      "Results saved to res/llava_onevision_7b_no_inference.csv\n"
     ]
    }
   ],
   "source": [
    "base_model = LlavaOnevisionForConditionalGeneration.from_pretrained(\n",
    "    \"llava-hf/llava-onevision-qwen2-7b-ov-hf\",\n",
    "    torch_dtype=\"auto\",\n",
    "    device_map=\"auto\",\n",
    "    cache_dir=\"/hpi/fs00/scratch/liudvikas.zekas/.cache\"\n",
    ")\n",
    "\n",
    "print(\"=== Inference using the Base onevision Model ===\")\n",
    "df_base = run_llava_inference_on_dataset(base_model, processor, test_json_path, image_root, \"llava_onevision_7b_no_inference\")\n",
    "\n",
    "# Optionally, delete the model to free GPU memory.\n",
    "del base_model"
   ]
  },
  {
   "cell_type": "code",
   "execution_count": 7,
   "id": "bec6b96d-9ff0-4651-935c-a99ccd222dd5",
   "metadata": {},
   "outputs": [],
   "source": [
    "del finetuned_model"
   ]
  },
  {
   "cell_type": "code",
   "execution_count": 9,
   "id": "5b781adc-4484-4a5c-b19f-7121849bbfc8",
   "metadata": {},
   "outputs": [
    {
     "name": "stderr",
     "output_type": "stream",
     "text": [
      "Loading checkpoint shards: 100%|██████████████████████████████████████████████████████████████████████████████████████████████████████████████████████████████████████████████████████| 4/4 [00:01<00:00,  2.06it/s]\n"
     ]
    },
    {
     "name": "stdout",
     "output_type": "stream",
     "text": [
      "=== Inference using the Finetuned Qwen Model ===\n",
      "How far is the gas station away from the camera in meters, rounded to the next meter?\n"
     ]
    },
    {
     "name": "stderr",
     "output_type": "stream",
     "text": [
      "Setting `pad_token_id` to `eos_token_id`:None for open-end generation.\n",
      "Setting `pad_token_id` to `eos_token_id`:None for open-end generation.\n"
     ]
    },
    {
     "name": "stdout",
     "output_type": "stream",
     "text": [
      "HALLO\n",
      "Item ID: ugebwzaohO3D7XbW343_qA_back\n",
      "Predicted Meter: 29.0\n",
      "Ground Truth: 30.0\n",
      "Error: 1.0\n",
      "==================================================\n",
      "How far is the post box away from the camera in meters, rounded to the next meter?\n"
     ]
    },
    {
     "name": "stderr",
     "output_type": "stream",
     "text": [
      "Setting `pad_token_id` to `eos_token_id`:None for open-end generation.\n"
     ]
    },
    {
     "name": "stdout",
     "output_type": "stream",
     "text": [
      "HALLO\n",
      "Item ID: qz33ZhqXW5DY-2hPzv2CMQ_back\n",
      "Predicted Meter: 11.0\n",
      "Ground Truth: 10.0\n",
      "Error: 1.0\n",
      "==================================================\n",
      "How far is the gas station away from the camera in meters, rounded to the next meter?\n"
     ]
    },
    {
     "name": "stderr",
     "output_type": "stream",
     "text": [
      "Setting `pad_token_id` to `eos_token_id`:None for open-end generation.\n"
     ]
    },
    {
     "name": "stdout",
     "output_type": "stream",
     "text": [
      "HALLO\n",
      "Item ID: z3ndUO5NBsQdcR6Onfs8kw_right\n",
      "Predicted Meter: 22.0\n",
      "Ground Truth: 27.0\n",
      "Error: 5.0\n",
      "==================================================\n",
      "How far is the gas station away from the camera in meters, rounded to the next meter?\n"
     ]
    },
    {
     "name": "stderr",
     "output_type": "stream",
     "text": [
      "Setting `pad_token_id` to `eos_token_id`:None for open-end generation.\n"
     ]
    },
    {
     "name": "stdout",
     "output_type": "stream",
     "text": [
      "HALLO\n",
      "Item ID: Tx4CWkxiDU1xV7-uZ6lLrw_right\n",
      "Predicted Meter: 29.0\n",
      "Ground Truth: 25.0\n",
      "Error: 4.0\n",
      "==================================================\n",
      "How far is the gas station away from the camera in meters, rounded to the next meter?\n"
     ]
    },
    {
     "name": "stderr",
     "output_type": "stream",
     "text": [
      "Setting `pad_token_id` to `eos_token_id`:None for open-end generation.\n"
     ]
    },
    {
     "name": "stdout",
     "output_type": "stream",
     "text": [
      "HALLO\n",
      "Item ID: 8QVoY6NmGZBiZz1qi5irCQ_left\n",
      "Predicted Meter: 29.0\n",
      "Ground Truth: 25.0\n",
      "Error: 4.0\n",
      "==================================================\n",
      "How far is the gas station away from the camera in meters, rounded to the next meter?\n"
     ]
    },
    {
     "name": "stderr",
     "output_type": "stream",
     "text": [
      "Setting `pad_token_id` to `eos_token_id`:None for open-end generation.\n"
     ]
    },
    {
     "name": "stdout",
     "output_type": "stream",
     "text": [
      "HALLO\n",
      "Item ID: BBpzL8ql3kRAEMJpc1_HGw_right\n",
      "Predicted Meter: 29.0\n",
      "Ground Truth: 24.0\n",
      "Error: 5.0\n",
      "==================================================\n",
      "How far is the gas station away from the camera in meters, rounded to the next meter?\n"
     ]
    },
    {
     "name": "stderr",
     "output_type": "stream",
     "text": [
      "Setting `pad_token_id` to `eos_token_id`:None for open-end generation.\n"
     ]
    },
    {
     "name": "stdout",
     "output_type": "stream",
     "text": [
      "HALLO\n",
      "Item ID: r-yGTE7GDoTFE49DyCJOQw_front\n",
      "Predicted Meter: 27.0\n",
      "Ground Truth: 25.0\n",
      "Error: 2.0\n",
      "==================================================\n",
      "How far is the gas station away from the camera in meters, rounded to the next meter?\n"
     ]
    },
    {
     "name": "stderr",
     "output_type": "stream",
     "text": [
      "Setting `pad_token_id` to `eos_token_id`:None for open-end generation.\n"
     ]
    },
    {
     "name": "stdout",
     "output_type": "stream",
     "text": [
      "HALLO\n",
      "Item ID: eC7O22NYV9d6KWGMa4vR7A_front\n",
      "Predicted Meter: 29.0\n",
      "Ground Truth: 21.0\n",
      "Error: 8.0\n",
      "==================================================\n",
      "How far is the gas station away from the camera in meters, rounded to the next meter?\n"
     ]
    },
    {
     "name": "stderr",
     "output_type": "stream",
     "text": [
      "Setting `pad_token_id` to `eos_token_id`:None for open-end generation.\n"
     ]
    },
    {
     "name": "stdout",
     "output_type": "stream",
     "text": [
      "HALLO\n",
      "Item ID: mGq1XR8eBPbK9_J0gOAOlQ_back\n",
      "Predicted Meter: 28.0\n",
      "Ground Truth: 26.0\n",
      "Error: 2.0\n",
      "==================================================\n",
      "How far is the gas station away from the camera in meters, rounded to the next meter?\n"
     ]
    },
    {
     "name": "stderr",
     "output_type": "stream",
     "text": [
      "Setting `pad_token_id` to `eos_token_id`:None for open-end generation.\n"
     ]
    },
    {
     "name": "stdout",
     "output_type": "stream",
     "text": [
      "HALLO\n",
      "Item ID: 8oe-e2AHXuj3E1JMMp7LUQ_back\n",
      "Predicted Meter: 27.0\n",
      "Ground Truth: 20.0\n",
      "Error: 7.0\n",
      "==================================================\n",
      "How far is the gas station away from the camera in meters, rounded to the next meter?\n"
     ]
    },
    {
     "name": "stderr",
     "output_type": "stream",
     "text": [
      "Setting `pad_token_id` to `eos_token_id`:None for open-end generation.\n"
     ]
    },
    {
     "name": "stdout",
     "output_type": "stream",
     "text": [
      "HALLO\n",
      "Item ID: Aita8sR2NtHUJE-mmnR5eA_right\n",
      "Predicted Meter: 27.0\n",
      "Ground Truth: 26.0\n",
      "Error: 1.0\n",
      "==================================================\n",
      "How far is the gas station away from the camera in meters, rounded to the next meter?\n"
     ]
    },
    {
     "name": "stderr",
     "output_type": "stream",
     "text": [
      "Setting `pad_token_id` to `eos_token_id`:None for open-end generation.\n"
     ]
    },
    {
     "name": "stdout",
     "output_type": "stream",
     "text": [
      "HALLO\n",
      "Item ID: UFsdG3hTkVymziyC-ZxMYQ_left\n",
      "Predicted Meter: 29.0\n",
      "Ground Truth: 29.0\n",
      "Error: 0.0\n",
      "==================================================\n",
      "How far is the post box away from the camera in meters, rounded to the next meter?\n"
     ]
    },
    {
     "name": "stderr",
     "output_type": "stream",
     "text": [
      "Setting `pad_token_id` to `eos_token_id`:None for open-end generation.\n"
     ]
    },
    {
     "name": "stdout",
     "output_type": "stream",
     "text": [
      "HALLO\n",
      "Item ID: R9dD-rTZG17YN-mnL9kvpQ_right\n",
      "Predicted Meter: 14.0\n",
      "Ground Truth: 28.0\n",
      "Error: 14.0\n",
      "==================================================\n",
      "How far is the large waste dumpster away from the camera in meters, rounded to the next meter?\n"
     ]
    },
    {
     "name": "stderr",
     "output_type": "stream",
     "text": [
      "Setting `pad_token_id` to `eos_token_id`:None for open-end generation.\n"
     ]
    },
    {
     "name": "stdout",
     "output_type": "stream",
     "text": [
      "HALLO\n",
      "Item ID: iGoMMW3J_lxftnHeOXACmA_front\n",
      "Predicted Meter: 28.0\n",
      "Ground Truth: 24.0\n",
      "Error: 4.0\n",
      "==================================================\n",
      "How far is the gas station away from the camera in meters, rounded to the next meter?\n"
     ]
    },
    {
     "name": "stderr",
     "output_type": "stream",
     "text": [
      "Setting `pad_token_id` to `eos_token_id`:None for open-end generation.\n"
     ]
    },
    {
     "name": "stdout",
     "output_type": "stream",
     "text": [
      "HALLO\n",
      "Item ID: YJHBrKidMhT7l8QarqnQiQ_right\n",
      "Predicted Meter: 29.0\n",
      "Ground Truth: 28.0\n",
      "Error: 1.0\n",
      "==================================================\n",
      "How far is the vending machine away from the camera in meters, rounded to the next meter?\n"
     ]
    },
    {
     "name": "stderr",
     "output_type": "stream",
     "text": [
      "Setting `pad_token_id` to `eos_token_id`:None for open-end generation.\n"
     ]
    },
    {
     "name": "stdout",
     "output_type": "stream",
     "text": [
      "HALLO\n",
      "Item ID: Q5uPvNi_9o7WZoOzLpPs3A_right\n",
      "Predicted Meter: 28.0\n",
      "Ground Truth: 25.0\n",
      "Error: 3.0\n",
      "==================================================\n",
      "How far is the gas station away from the camera in meters, rounded to the next meter?\n"
     ]
    },
    {
     "name": "stderr",
     "output_type": "stream",
     "text": [
      "Setting `pad_token_id` to `eos_token_id`:None for open-end generation.\n"
     ]
    },
    {
     "name": "stdout",
     "output_type": "stream",
     "text": [
      "HALLO\n",
      "Item ID: 2k_tvKZMASA2E5VbB0GaXQ_back\n",
      "Predicted Meter: 28.0\n",
      "Ground Truth: 29.0\n",
      "Error: 1.0\n",
      "==================================================\n",
      "How far is the gas station away from the camera in meters, rounded to the next meter?\n"
     ]
    },
    {
     "name": "stderr",
     "output_type": "stream",
     "text": [
      "Setting `pad_token_id` to `eos_token_id`:None for open-end generation.\n"
     ]
    },
    {
     "name": "stdout",
     "output_type": "stream",
     "text": [
      "HALLO\n",
      "Item ID: eQ-gEUsyOXA85uoFC-ftWQ_right\n",
      "Predicted Meter: 22.0\n",
      "Ground Truth: 28.0\n",
      "Error: 6.0\n",
      "==================================================\n",
      "How far is the gas station away from the camera in meters, rounded to the next meter?\n"
     ]
    },
    {
     "name": "stderr",
     "output_type": "stream",
     "text": [
      "Setting `pad_token_id` to `eos_token_id`:None for open-end generation.\n"
     ]
    },
    {
     "name": "stdout",
     "output_type": "stream",
     "text": [
      "HALLO\n",
      "Item ID: BCLppoUZzUo1hHwOXlMFdw_right\n",
      "Predicted Meter: 22.0\n",
      "Ground Truth: 24.0\n",
      "Error: 2.0\n",
      "==================================================\n",
      "How far is the large waste dumpster away from the camera in meters, rounded to the next meter?\n"
     ]
    },
    {
     "name": "stderr",
     "output_type": "stream",
     "text": [
      "Setting `pad_token_id` to `eos_token_id`:None for open-end generation.\n"
     ]
    },
    {
     "name": "stdout",
     "output_type": "stream",
     "text": [
      "HALLO\n",
      "Item ID: -3SAmGjbIQXzZTfUtGeakw_right\n",
      "Predicted Meter: 28.0\n",
      "Ground Truth: 22.0\n",
      "Error: 6.0\n",
      "==================================================\n",
      "How far is the post box away from the camera in meters, rounded to the next meter?\n"
     ]
    },
    {
     "name": "stderr",
     "output_type": "stream",
     "text": [
      "Setting `pad_token_id` to `eos_token_id`:None for open-end generation.\n"
     ]
    },
    {
     "name": "stdout",
     "output_type": "stream",
     "text": [
      "HALLO\n",
      "Item ID: WSAWFRhBUpcfb5K_IyDjmQ_right\n",
      "Predicted Meter: 11.0\n",
      "Ground Truth: 15.0\n",
      "Error: 4.0\n",
      "==================================================\n",
      "How far is the gas station away from the camera in meters, rounded to the next meter?\n"
     ]
    },
    {
     "name": "stderr",
     "output_type": "stream",
     "text": [
      "Setting `pad_token_id` to `eos_token_id`:None for open-end generation.\n"
     ]
    },
    {
     "name": "stdout",
     "output_type": "stream",
     "text": [
      "HALLO\n",
      "Item ID: 34rhcF7_5z_xCF7rHKL4Ug_back\n",
      "Predicted Meter: 29.0\n",
      "Ground Truth: 25.0\n",
      "Error: 4.0\n",
      "==================================================\n",
      "How far is the gas station away from the camera in meters, rounded to the next meter?\n"
     ]
    },
    {
     "name": "stderr",
     "output_type": "stream",
     "text": [
      "Setting `pad_token_id` to `eos_token_id`:None for open-end generation.\n"
     ]
    },
    {
     "name": "stdout",
     "output_type": "stream",
     "text": [
      "HALLO\n",
      "Item ID: ls5vsLksz2FGrtiX4pXcjw_back\n",
      "Predicted Meter: 29.0\n",
      "Ground Truth: 22.0\n",
      "Error: 7.0\n",
      "==================================================\n",
      "How far is the gas station away from the camera in meters, rounded to the next meter?\n"
     ]
    },
    {
     "name": "stderr",
     "output_type": "stream",
     "text": [
      "Setting `pad_token_id` to `eos_token_id`:None for open-end generation.\n"
     ]
    },
    {
     "name": "stdout",
     "output_type": "stream",
     "text": [
      "HALLO\n",
      "Item ID: _G_-fkVxInuOL_gh1TCkAw_right\n",
      "Predicted Meter: 27.0\n",
      "Ground Truth: 19.0\n",
      "Error: 8.0\n",
      "==================================================\n",
      "How far is the post box away from the camera in meters, rounded to the next meter?\n"
     ]
    },
    {
     "name": "stderr",
     "output_type": "stream",
     "text": [
      "Setting `pad_token_id` to `eos_token_id`:None for open-end generation.\n"
     ]
    },
    {
     "name": "stdout",
     "output_type": "stream",
     "text": [
      "HALLO\n",
      "Item ID: KsAhdawvyYxlqfej-gzUsA_front\n",
      "Predicted Meter: 19.0\n",
      "Ground Truth: 11.0\n",
      "Error: 8.0\n",
      "==================================================\n",
      "How far is the gas station away from the camera in meters, rounded to the next meter?\n"
     ]
    },
    {
     "name": "stderr",
     "output_type": "stream",
     "text": [
      "Setting `pad_token_id` to `eos_token_id`:None for open-end generation.\n"
     ]
    },
    {
     "name": "stdout",
     "output_type": "stream",
     "text": [
      "HALLO\n",
      "Item ID: lIJcDFhNquz9zvnRLHqWbA_back\n",
      "Predicted Meter: 27.0\n",
      "Ground Truth: 22.0\n",
      "Error: 5.0\n",
      "==================================================\n",
      "How far is the gas station away from the camera in meters, rounded to the next meter?\n"
     ]
    },
    {
     "name": "stderr",
     "output_type": "stream",
     "text": [
      "Setting `pad_token_id` to `eos_token_id`:None for open-end generation.\n"
     ]
    },
    {
     "name": "stdout",
     "output_type": "stream",
     "text": [
      "HALLO\n",
      "Item ID: 72ebTpipZnU1ZlSBp2nSuQ_right\n",
      "Predicted Meter: 27.0\n",
      "Ground Truth: 23.0\n",
      "Error: 4.0\n",
      "==================================================\n",
      "How far is the gas station away from the camera in meters, rounded to the next meter?\n"
     ]
    },
    {
     "name": "stderr",
     "output_type": "stream",
     "text": [
      "Setting `pad_token_id` to `eos_token_id`:None for open-end generation.\n"
     ]
    },
    {
     "name": "stdout",
     "output_type": "stream",
     "text": [
      "HALLO\n",
      "Item ID: A3DdT3R0Me5Thr0jZ3vqbA_right\n",
      "Predicted Meter: 27.0\n",
      "Ground Truth: 21.0\n",
      "Error: 6.0\n",
      "==================================================\n",
      "How far is the gas station away from the camera in meters, rounded to the next meter?\n"
     ]
    },
    {
     "name": "stderr",
     "output_type": "stream",
     "text": [
      "Setting `pad_token_id` to `eos_token_id`:None for open-end generation.\n"
     ]
    },
    {
     "name": "stdout",
     "output_type": "stream",
     "text": [
      "HALLO\n",
      "Item ID: s8b27kdyBAl_sotzHJ5wYA_right\n",
      "Predicted Meter: 29.0\n",
      "Ground Truth: 26.0\n",
      "Error: 3.0\n",
      "==================================================\n",
      "How far is the gas station away from the camera in meters, rounded to the next meter?\n"
     ]
    },
    {
     "name": "stderr",
     "output_type": "stream",
     "text": [
      "Setting `pad_token_id` to `eos_token_id`:None for open-end generation.\n"
     ]
    },
    {
     "name": "stdout",
     "output_type": "stream",
     "text": [
      "HALLO\n",
      "Item ID: 1TTgoWtPcUDu1ii-0vUysA_right\n",
      "Predicted Meter: 28.0\n",
      "Ground Truth: 25.0\n",
      "Error: 3.0\n",
      "==================================================\n",
      "How far is the gas station away from the camera in meters, rounded to the next meter?\n"
     ]
    },
    {
     "name": "stderr",
     "output_type": "stream",
     "text": [
      "Setting `pad_token_id` to `eos_token_id`:None for open-end generation.\n"
     ]
    },
    {
     "name": "stdout",
     "output_type": "stream",
     "text": [
      "HALLO\n",
      "Item ID: xNuPeVv3Ean47MOZXJzdgQ_left\n",
      "Predicted Meter: 29.0\n",
      "Ground Truth: 17.0\n",
      "Error: 12.0\n",
      "==================================================\n",
      "How far is the gas station away from the camera in meters, rounded to the next meter?\n"
     ]
    },
    {
     "name": "stderr",
     "output_type": "stream",
     "text": [
      "Setting `pad_token_id` to `eos_token_id`:None for open-end generation.\n"
     ]
    },
    {
     "name": "stdout",
     "output_type": "stream",
     "text": [
      "HALLO\n",
      "Item ID: IM5Tg5Vs_XNKPB0Y6bXQJA_right\n",
      "Predicted Meter: 27.0\n",
      "Ground Truth: 24.0\n",
      "Error: 3.0\n",
      "==================================================\n",
      "How far is the gas station away from the camera in meters, rounded to the next meter?\n"
     ]
    },
    {
     "name": "stderr",
     "output_type": "stream",
     "text": [
      "Setting `pad_token_id` to `eos_token_id`:None for open-end generation.\n"
     ]
    },
    {
     "name": "stdout",
     "output_type": "stream",
     "text": [
      "HALLO\n",
      "Item ID: wnCjh-4PWBDlednovnwurQ_front\n",
      "Predicted Meter: 29.0\n",
      "Ground Truth: 20.0\n",
      "Error: 9.0\n",
      "==================================================\n",
      "How far is the gas station away from the camera in meters, rounded to the next meter?\n"
     ]
    },
    {
     "name": "stderr",
     "output_type": "stream",
     "text": [
      "Setting `pad_token_id` to `eos_token_id`:None for open-end generation.\n"
     ]
    },
    {
     "name": "stdout",
     "output_type": "stream",
     "text": [
      "HALLO\n",
      "Item ID: UQu9TdfMPsz6HgCBXwm_OA_right\n",
      "Predicted Meter: 27.0\n",
      "Ground Truth: 28.0\n",
      "Error: 1.0\n",
      "==================================================\n",
      "How far is the vending machine away from the camera in meters, rounded to the next meter?\n"
     ]
    },
    {
     "name": "stderr",
     "output_type": "stream",
     "text": [
      "Setting `pad_token_id` to `eos_token_id`:None for open-end generation.\n"
     ]
    },
    {
     "name": "stdout",
     "output_type": "stream",
     "text": [
      "HALLO\n",
      "Item ID: JralPklJ9gCp4EA_RyeWRA_front\n",
      "Predicted Meter: 14.0\n",
      "Ground Truth: 22.0\n",
      "Error: 8.0\n",
      "==================================================\n",
      "How far is the gas station away from the camera in meters, rounded to the next meter?\n"
     ]
    },
    {
     "name": "stderr",
     "output_type": "stream",
     "text": [
      "Setting `pad_token_id` to `eos_token_id`:None for open-end generation.\n"
     ]
    },
    {
     "name": "stdout",
     "output_type": "stream",
     "text": [
      "HALLO\n",
      "Item ID: M9wYWkddYwPsS8bOAAnVQA_front\n",
      "Predicted Meter: 29.0\n",
      "Ground Truth: 30.0\n",
      "Error: 1.0\n",
      "==================================================\n",
      "How far is the gas station away from the camera in meters, rounded to the next meter?\n"
     ]
    },
    {
     "name": "stderr",
     "output_type": "stream",
     "text": [
      "Setting `pad_token_id` to `eos_token_id`:None for open-end generation.\n"
     ]
    },
    {
     "name": "stdout",
     "output_type": "stream",
     "text": [
      "HALLO\n",
      "Item ID: 3cTQXFxHQ4AaC7aogs4uKg_front\n",
      "Predicted Meter: 29.0\n",
      "Ground Truth: 29.0\n",
      "Error: 0.0\n",
      "==================================================\n",
      "How far is the gas station away from the camera in meters, rounded to the next meter?\n"
     ]
    },
    {
     "name": "stderr",
     "output_type": "stream",
     "text": [
      "Setting `pad_token_id` to `eos_token_id`:None for open-end generation.\n"
     ]
    },
    {
     "name": "stdout",
     "output_type": "stream",
     "text": [
      "HALLO\n",
      "Item ID: rdd9lAv469KKItvAGNOOJg_right\n",
      "Predicted Meter: 27.0\n",
      "Ground Truth: 25.0\n",
      "Error: 2.0\n",
      "==================================================\n",
      "How far is the post box away from the camera in meters, rounded to the next meter?\n"
     ]
    },
    {
     "name": "stderr",
     "output_type": "stream",
     "text": [
      "Setting `pad_token_id` to `eos_token_id`:None for open-end generation.\n"
     ]
    },
    {
     "name": "stdout",
     "output_type": "stream",
     "text": [
      "HALLO\n",
      "Item ID: XIaYmJKv1Oh2TzOBENycvA_right\n",
      "Predicted Meter: 15.0\n",
      "Ground Truth: 28.0\n",
      "Error: 13.0\n",
      "==================================================\n",
      "How far is the gas station away from the camera in meters, rounded to the next meter?\n"
     ]
    },
    {
     "name": "stderr",
     "output_type": "stream",
     "text": [
      "Setting `pad_token_id` to `eos_token_id`:None for open-end generation.\n"
     ]
    },
    {
     "name": "stdout",
     "output_type": "stream",
     "text": [
      "HALLO\n",
      "Item ID: DGpCRwXAFtuzOCxiC3AJXQ_right\n",
      "Predicted Meter: 27.0\n",
      "Ground Truth: 20.0\n",
      "Error: 7.0\n",
      "==================================================\n",
      "How far is the gas station away from the camera in meters, rounded to the next meter?\n"
     ]
    },
    {
     "name": "stderr",
     "output_type": "stream",
     "text": [
      "Setting `pad_token_id` to `eos_token_id`:None for open-end generation.\n"
     ]
    },
    {
     "name": "stdout",
     "output_type": "stream",
     "text": [
      "HALLO\n",
      "Item ID: Z_0D8JCx3LqmbelS6LwBlg_right\n",
      "Predicted Meter: 27.0\n",
      "Ground Truth: 21.0\n",
      "Error: 6.0\n",
      "==================================================\n",
      "How far is the gas station away from the camera in meters, rounded to the next meter?\n"
     ]
    },
    {
     "name": "stderr",
     "output_type": "stream",
     "text": [
      "Setting `pad_token_id` to `eos_token_id`:None for open-end generation.\n"
     ]
    },
    {
     "name": "stdout",
     "output_type": "stream",
     "text": [
      "HALLO\n",
      "Item ID: pvgzxAkbpGBsYQInYsWhgg_right\n",
      "Predicted Meter: 29.0\n",
      "Ground Truth: 27.0\n",
      "Error: 2.0\n",
      "==================================================\n",
      "How far is the gas station away from the camera in meters, rounded to the next meter?\n"
     ]
    },
    {
     "name": "stderr",
     "output_type": "stream",
     "text": [
      "Setting `pad_token_id` to `eos_token_id`:None for open-end generation.\n"
     ]
    },
    {
     "name": "stdout",
     "output_type": "stream",
     "text": [
      "HALLO\n",
      "Item ID: 2lGYlEsaQ03StY5XLBIJlQ_right\n",
      "Predicted Meter: 29.0\n",
      "Ground Truth: 26.0\n",
      "Error: 3.0\n",
      "==================================================\n",
      "How far is the gas station away from the camera in meters, rounded to the next meter?\n"
     ]
    },
    {
     "name": "stderr",
     "output_type": "stream",
     "text": [
      "Setting `pad_token_id` to `eos_token_id`:None for open-end generation.\n"
     ]
    },
    {
     "name": "stdout",
     "output_type": "stream",
     "text": [
      "HALLO\n",
      "Item ID: YSHVBBGad1bvL78FosZqIw_left\n",
      "Predicted Meter: 29.0\n",
      "Ground Truth: 27.0\n",
      "Error: 2.0\n",
      "==================================================\n",
      "How far is the gas station away from the camera in meters, rounded to the next meter?\n"
     ]
    },
    {
     "name": "stderr",
     "output_type": "stream",
     "text": [
      "Setting `pad_token_id` to `eos_token_id`:None for open-end generation.\n"
     ]
    },
    {
     "name": "stdout",
     "output_type": "stream",
     "text": [
      "HALLO\n",
      "Item ID: eb8MU6EB-Ab6zkw8w6l07Q_right\n",
      "Predicted Meter: 20.0\n",
      "Ground Truth: 22.0\n",
      "Error: 2.0\n",
      "==================================================\n",
      "How far is the gas station away from the camera in meters, rounded to the next meter?\n"
     ]
    },
    {
     "name": "stderr",
     "output_type": "stream",
     "text": [
      "Setting `pad_token_id` to `eos_token_id`:None for open-end generation.\n"
     ]
    },
    {
     "name": "stdout",
     "output_type": "stream",
     "text": [
      "HALLO\n",
      "Item ID: LHSWcIZo86wt0-3Axz6h_g_right\n",
      "Predicted Meter: 27.0\n",
      "Ground Truth: 20.0\n",
      "Error: 7.0\n",
      "==================================================\n",
      "How far is the gas station away from the camera in meters, rounded to the next meter?\n"
     ]
    },
    {
     "name": "stderr",
     "output_type": "stream",
     "text": [
      "Setting `pad_token_id` to `eos_token_id`:None for open-end generation.\n"
     ]
    },
    {
     "name": "stdout",
     "output_type": "stream",
     "text": [
      "HALLO\n",
      "Item ID: lUCB-zSdG5v8e7f6yo9hFw_right\n",
      "Predicted Meter: 27.0\n",
      "Ground Truth: 26.0\n",
      "Error: 1.0\n",
      "==================================================\n",
      "How far is the gas station away from the camera in meters, rounded to the next meter?\n"
     ]
    },
    {
     "name": "stderr",
     "output_type": "stream",
     "text": [
      "Setting `pad_token_id` to `eos_token_id`:None for open-end generation.\n"
     ]
    },
    {
     "name": "stdout",
     "output_type": "stream",
     "text": [
      "HALLO\n",
      "Item ID: mc_oZOlXyr9sItAXp-EEFQ_right\n",
      "Predicted Meter: 27.0\n",
      "Ground Truth: 21.0\n",
      "Error: 6.0\n",
      "==================================================\n",
      "How far is the gas station away from the camera in meters, rounded to the next meter?\n"
     ]
    },
    {
     "name": "stderr",
     "output_type": "stream",
     "text": [
      "Setting `pad_token_id` to `eos_token_id`:None for open-end generation.\n"
     ]
    },
    {
     "name": "stdout",
     "output_type": "stream",
     "text": [
      "HALLO\n",
      "Item ID: Qo2aUtgdEnZ96pkpYNEmAg_front\n",
      "Predicted Meter: 29.0\n",
      "Ground Truth: 28.0\n",
      "Error: 1.0\n",
      "==================================================\n",
      "How far is the gas station away from the camera in meters, rounded to the next meter?\n"
     ]
    },
    {
     "name": "stderr",
     "output_type": "stream",
     "text": [
      "Setting `pad_token_id` to `eos_token_id`:None for open-end generation.\n"
     ]
    },
    {
     "name": "stdout",
     "output_type": "stream",
     "text": [
      "HALLO\n",
      "Item ID: W1GOhAzbdnwjlJ-RrP8UDg_back\n",
      "Predicted Meter: 29.0\n",
      "Ground Truth: 21.0\n",
      "Error: 8.0\n",
      "==================================================\n",
      "How far is the post box away from the camera in meters, rounded to the next meter?\n"
     ]
    },
    {
     "name": "stderr",
     "output_type": "stream",
     "text": [
      "Setting `pad_token_id` to `eos_token_id`:None for open-end generation.\n"
     ]
    },
    {
     "name": "stdout",
     "output_type": "stream",
     "text": [
      "HALLO\n",
      "Item ID: lRA5rE4hSeIS8cLCmczXQw_right\n",
      "Predicted Meter: 7.0\n",
      "Ground Truth: 11.0\n",
      "Error: 4.0\n",
      "==================================================\n",
      "How far is the gas station away from the camera in meters, rounded to the next meter?\n"
     ]
    },
    {
     "name": "stderr",
     "output_type": "stream",
     "text": [
      "Setting `pad_token_id` to `eos_token_id`:None for open-end generation.\n"
     ]
    },
    {
     "name": "stdout",
     "output_type": "stream",
     "text": [
      "HALLO\n",
      "Item ID: TmAJ0zQ2uIyhpj81qDsyHg_right\n",
      "Predicted Meter: 27.0\n",
      "Ground Truth: 23.0\n",
      "Error: 4.0\n",
      "==================================================\n",
      "How far is the large waste dumpster away from the camera in meters, rounded to the next meter?\n"
     ]
    },
    {
     "name": "stderr",
     "output_type": "stream",
     "text": [
      "Setting `pad_token_id` to `eos_token_id`:None for open-end generation.\n"
     ]
    },
    {
     "name": "stdout",
     "output_type": "stream",
     "text": [
      "HALLO\n",
      "Item ID: OaoCpdsxh259v77mvTPhLQ_front\n",
      "Predicted Meter: 27.0\n",
      "Ground Truth: 22.0\n",
      "Error: 5.0\n",
      "==================================================\n",
      "How far is the gas station away from the camera in meters, rounded to the next meter?\n"
     ]
    },
    {
     "name": "stderr",
     "output_type": "stream",
     "text": [
      "Setting `pad_token_id` to `eos_token_id`:None for open-end generation.\n"
     ]
    },
    {
     "name": "stdout",
     "output_type": "stream",
     "text": [
      "HALLO\n",
      "Item ID: wc0EvjsWIVV8WUXMYA9u4Q_left\n",
      "Predicted Meter: 29.0\n",
      "Ground Truth: 26.0\n",
      "Error: 3.0\n",
      "==================================================\n",
      "How far is the gas station away from the camera in meters, rounded to the next meter?\n"
     ]
    },
    {
     "name": "stderr",
     "output_type": "stream",
     "text": [
      "Setting `pad_token_id` to `eos_token_id`:None for open-end generation.\n"
     ]
    },
    {
     "name": "stdout",
     "output_type": "stream",
     "text": [
      "HALLO\n",
      "Item ID: 5Rl3jytWkaTOiWLr7PDwdQ_left\n",
      "Predicted Meter: 29.0\n",
      "Ground Truth: 26.0\n",
      "Error: 3.0\n",
      "==================================================\n",
      "How far is the gas station away from the camera in meters, rounded to the next meter?\n"
     ]
    },
    {
     "name": "stderr",
     "output_type": "stream",
     "text": [
      "Setting `pad_token_id` to `eos_token_id`:None for open-end generation.\n"
     ]
    },
    {
     "name": "stdout",
     "output_type": "stream",
     "text": [
      "HALLO\n",
      "Item ID: cf8_ef6XCqNOI3lj5KzjOA_right\n",
      "Predicted Meter: 27.0\n",
      "Ground Truth: 23.0\n",
      "Error: 4.0\n",
      "==================================================\n",
      "How far is the gas station away from the camera in meters, rounded to the next meter?\n"
     ]
    },
    {
     "name": "stderr",
     "output_type": "stream",
     "text": [
      "Setting `pad_token_id` to `eos_token_id`:None for open-end generation.\n"
     ]
    },
    {
     "name": "stdout",
     "output_type": "stream",
     "text": [
      "HALLO\n",
      "Item ID: AWdJTbKEf5HBdRXHzGGC3A_left\n",
      "Predicted Meter: 29.0\n",
      "Ground Truth: 24.0\n",
      "Error: 5.0\n",
      "==================================================\n",
      "How far is the post box away from the camera in meters, rounded to the next meter?\n"
     ]
    },
    {
     "name": "stderr",
     "output_type": "stream",
     "text": [
      "Setting `pad_token_id` to `eos_token_id`:None for open-end generation.\n"
     ]
    },
    {
     "name": "stdout",
     "output_type": "stream",
     "text": [
      "HALLO\n",
      "Item ID: eJIgtiIzNQ7478dhnPH2lQ_back\n",
      "Predicted Meter: 28.0\n",
      "Ground Truth: 28.0\n",
      "Error: 0.0\n",
      "==================================================\n",
      "How far is the gas station away from the camera in meters, rounded to the next meter?\n"
     ]
    },
    {
     "name": "stderr",
     "output_type": "stream",
     "text": [
      "Setting `pad_token_id` to `eos_token_id`:None for open-end generation.\n"
     ]
    },
    {
     "name": "stdout",
     "output_type": "stream",
     "text": [
      "HALLO\n",
      "Item ID: Cx59xrGyKeRhAqomop17yg_left\n",
      "Predicted Meter: 27.0\n",
      "Ground Truth: 25.0\n",
      "Error: 2.0\n",
      "==================================================\n",
      "How far is the gas station away from the camera in meters, rounded to the next meter?\n"
     ]
    },
    {
     "name": "stderr",
     "output_type": "stream",
     "text": [
      "Setting `pad_token_id` to `eos_token_id`:None for open-end generation.\n"
     ]
    },
    {
     "name": "stdout",
     "output_type": "stream",
     "text": [
      "HALLO\n",
      "Item ID: qn-fWttcGKIJ7Zc4c1pkqw_left\n",
      "Predicted Meter: 29.0\n",
      "Ground Truth: 27.0\n",
      "Error: 2.0\n",
      "==================================================\n",
      "How far is the vending machine away from the camera in meters, rounded to the next meter?\n"
     ]
    },
    {
     "name": "stderr",
     "output_type": "stream",
     "text": [
      "Setting `pad_token_id` to `eos_token_id`:None for open-end generation.\n"
     ]
    },
    {
     "name": "stdout",
     "output_type": "stream",
     "text": [
      "HALLO\n",
      "Item ID: zSP4L1e2ilC2jV9kuwrNaw_right\n",
      "Predicted Meter: 14.0\n",
      "Ground Truth: 20.0\n",
      "Error: 6.0\n",
      "==================================================\n",
      "How far is the post box away from the camera in meters, rounded to the next meter?\n"
     ]
    },
    {
     "name": "stderr",
     "output_type": "stream",
     "text": [
      "Setting `pad_token_id` to `eos_token_id`:None for open-end generation.\n"
     ]
    },
    {
     "name": "stdout",
     "output_type": "stream",
     "text": [
      "HALLO\n",
      "Item ID: jbUqNAyorVVwMczpYlOnug_left\n",
      "Predicted Meter: 4.0\n",
      "Ground Truth: 7.0\n",
      "Error: 3.0\n",
      "==================================================\n",
      "How far is the gas station away from the camera in meters, rounded to the next meter?\n"
     ]
    },
    {
     "name": "stderr",
     "output_type": "stream",
     "text": [
      "Setting `pad_token_id` to `eos_token_id`:None for open-end generation.\n"
     ]
    },
    {
     "name": "stdout",
     "output_type": "stream",
     "text": [
      "HALLO\n",
      "Item ID: jfz76Ye8P1tRIX5j6Y_MFw_left\n",
      "Predicted Meter: 27.0\n",
      "Ground Truth: 27.0\n",
      "Error: 0.0\n",
      "==================================================\n",
      "How far is the gas station away from the camera in meters, rounded to the next meter?\n"
     ]
    },
    {
     "name": "stderr",
     "output_type": "stream",
     "text": [
      "Setting `pad_token_id` to `eos_token_id`:None for open-end generation.\n"
     ]
    },
    {
     "name": "stdout",
     "output_type": "stream",
     "text": [
      "HALLO\n",
      "Item ID: d4hQ_xl8nHeMaP6R97uNgg_right\n",
      "Predicted Meter: 27.0\n",
      "Ground Truth: 25.0\n",
      "Error: 2.0\n",
      "==================================================\n",
      "How far is the gas station away from the camera in meters, rounded to the next meter?\n"
     ]
    },
    {
     "name": "stderr",
     "output_type": "stream",
     "text": [
      "Setting `pad_token_id` to `eos_token_id`:None for open-end generation.\n"
     ]
    },
    {
     "name": "stdout",
     "output_type": "stream",
     "text": [
      "HALLO\n",
      "Item ID: n8NSRWP5PY_ECNUo4guX3g_right\n",
      "Predicted Meter: 29.0\n",
      "Ground Truth: 29.0\n",
      "Error: 0.0\n",
      "==================================================\n",
      "How far is the gas station away from the camera in meters, rounded to the next meter?\n"
     ]
    },
    {
     "name": "stderr",
     "output_type": "stream",
     "text": [
      "Setting `pad_token_id` to `eos_token_id`:None for open-end generation.\n"
     ]
    },
    {
     "name": "stdout",
     "output_type": "stream",
     "text": [
      "HALLO\n",
      "Item ID: J0RU4yu-NC93sJo4XZ20qw_back\n",
      "Predicted Meter: 29.0\n",
      "Ground Truth: 29.0\n",
      "Error: 0.0\n",
      "==================================================\n",
      "How far is the gas station away from the camera in meters, rounded to the next meter?\n"
     ]
    },
    {
     "name": "stderr",
     "output_type": "stream",
     "text": [
      "Setting `pad_token_id` to `eos_token_id`:None for open-end generation.\n"
     ]
    },
    {
     "name": "stdout",
     "output_type": "stream",
     "text": [
      "HALLO\n",
      "Item ID: 9WZaNAcZKK0CG_6Ti6MOBw_front\n",
      "Predicted Meter: 29.0\n",
      "Ground Truth: 21.0\n",
      "Error: 8.0\n",
      "==================================================\n",
      "How far is the gas station away from the camera in meters, rounded to the next meter?\n"
     ]
    },
    {
     "name": "stderr",
     "output_type": "stream",
     "text": [
      "Setting `pad_token_id` to `eos_token_id`:None for open-end generation.\n"
     ]
    },
    {
     "name": "stdout",
     "output_type": "stream",
     "text": [
      "HALLO\n",
      "Item ID: kzpGP0MnxjLXTR0OLJsUWg_back\n",
      "Predicted Meter: 29.0\n",
      "Ground Truth: 28.0\n",
      "Error: 1.0\n",
      "==================================================\n",
      "How far is the gas station away from the camera in meters, rounded to the next meter?\n"
     ]
    },
    {
     "name": "stderr",
     "output_type": "stream",
     "text": [
      "Setting `pad_token_id` to `eos_token_id`:None for open-end generation.\n"
     ]
    },
    {
     "name": "stdout",
     "output_type": "stream",
     "text": [
      "HALLO\n",
      "Item ID: u9Kokx_8X1UHcThQufdKBQ_right\n",
      "Predicted Meter: 27.0\n",
      "Ground Truth: 16.0\n",
      "Error: 11.0\n",
      "==================================================\n",
      "How far is the gas station away from the camera in meters, rounded to the next meter?\n"
     ]
    },
    {
     "name": "stderr",
     "output_type": "stream",
     "text": [
      "Setting `pad_token_id` to `eos_token_id`:None for open-end generation.\n"
     ]
    },
    {
     "name": "stdout",
     "output_type": "stream",
     "text": [
      "HALLO\n",
      "Item ID: JtyeoGH-BUUewIwbHElEew_right\n",
      "Predicted Meter: 27.0\n",
      "Ground Truth: 22.0\n",
      "Error: 5.0\n",
      "==================================================\n",
      "How far is the gas station away from the camera in meters, rounded to the next meter?\n"
     ]
    },
    {
     "name": "stderr",
     "output_type": "stream",
     "text": [
      "Setting `pad_token_id` to `eos_token_id`:None for open-end generation.\n"
     ]
    },
    {
     "name": "stdout",
     "output_type": "stream",
     "text": [
      "HALLO\n",
      "Item ID: N32bZK7jAraafCM7dRXRVg_front\n",
      "Predicted Meter: 29.0\n",
      "Ground Truth: 27.0\n",
      "Error: 2.0\n",
      "==================================================\n",
      "How far is the gas station away from the camera in meters, rounded to the next meter?\n"
     ]
    },
    {
     "name": "stderr",
     "output_type": "stream",
     "text": [
      "Setting `pad_token_id` to `eos_token_id`:None for open-end generation.\n"
     ]
    },
    {
     "name": "stdout",
     "output_type": "stream",
     "text": [
      "HALLO\n",
      "Item ID: q4OI0Scwi1i0HkqRTAJKKA_front\n",
      "Predicted Meter: 29.0\n",
      "Ground Truth: 12.0\n",
      "Error: 17.0\n",
      "==================================================\n",
      "How far is the gas station away from the camera in meters, rounded to the next meter?\n"
     ]
    },
    {
     "name": "stderr",
     "output_type": "stream",
     "text": [
      "Setting `pad_token_id` to `eos_token_id`:None for open-end generation.\n"
     ]
    },
    {
     "name": "stdout",
     "output_type": "stream",
     "text": [
      "HALLO\n",
      "Item ID: hx5M3hRQSuMVV3BzCAegCg_left\n",
      "Predicted Meter: 29.0\n",
      "Ground Truth: 30.0\n",
      "Error: 1.0\n",
      "==================================================\n",
      "How far is the gas station away from the camera in meters, rounded to the next meter?\n"
     ]
    },
    {
     "name": "stderr",
     "output_type": "stream",
     "text": [
      "Setting `pad_token_id` to `eos_token_id`:None for open-end generation.\n"
     ]
    },
    {
     "name": "stdout",
     "output_type": "stream",
     "text": [
      "HALLO\n",
      "Item ID: 3ixcETgziLCGAjvOEqWM7g_back\n",
      "Predicted Meter: 29.0\n",
      "Ground Truth: 23.0\n",
      "Error: 6.0\n",
      "==================================================\n",
      "How far is the gas station away from the camera in meters, rounded to the next meter?\n"
     ]
    },
    {
     "name": "stderr",
     "output_type": "stream",
     "text": [
      "Setting `pad_token_id` to `eos_token_id`:None for open-end generation.\n"
     ]
    },
    {
     "name": "stdout",
     "output_type": "stream",
     "text": [
      "HALLO\n",
      "Item ID: OArBY4CDcYgtKL89eIzkWw_right\n",
      "Predicted Meter: 27.0\n",
      "Ground Truth: 18.0\n",
      "Error: 9.0\n",
      "==================================================\n",
      "How far is the gas station away from the camera in meters, rounded to the next meter?\n"
     ]
    },
    {
     "name": "stderr",
     "output_type": "stream",
     "text": [
      "Setting `pad_token_id` to `eos_token_id`:None for open-end generation.\n"
     ]
    },
    {
     "name": "stdout",
     "output_type": "stream",
     "text": [
      "HALLO\n",
      "Item ID: jxLJB3l_o_cvFGl6JM__wQ_back\n",
      "Predicted Meter: 27.0\n",
      "Ground Truth: 18.0\n",
      "Error: 9.0\n",
      "==================================================\n",
      "How far is the gas station away from the camera in meters, rounded to the next meter?\n"
     ]
    },
    {
     "name": "stderr",
     "output_type": "stream",
     "text": [
      "Setting `pad_token_id` to `eos_token_id`:None for open-end generation.\n"
     ]
    },
    {
     "name": "stdout",
     "output_type": "stream",
     "text": [
      "HALLO\n",
      "Item ID: xb9LiT2Y_dUww_PC0NOLOQ_right\n",
      "Predicted Meter: 27.0\n",
      "Ground Truth: 15.0\n",
      "Error: 12.0\n",
      "==================================================\n",
      "How far is the gas station away from the camera in meters, rounded to the next meter?\n"
     ]
    },
    {
     "name": "stderr",
     "output_type": "stream",
     "text": [
      "Setting `pad_token_id` to `eos_token_id`:None for open-end generation.\n"
     ]
    },
    {
     "name": "stdout",
     "output_type": "stream",
     "text": [
      "HALLO\n",
      "Item ID: iib8V4vSPpts_FtmuxH4tg_right\n",
      "Predicted Meter: 29.0\n",
      "Ground Truth: 30.0\n",
      "Error: 1.0\n",
      "==================================================\n",
      "How far is the post box away from the camera in meters, rounded to the next meter?\n"
     ]
    },
    {
     "name": "stderr",
     "output_type": "stream",
     "text": [
      "Setting `pad_token_id` to `eos_token_id`:None for open-end generation.\n"
     ]
    },
    {
     "name": "stdout",
     "output_type": "stream",
     "text": [
      "HALLO\n",
      "Item ID: 6v1-hhiayJy7DoBpfpN6wA_front\n",
      "Predicted Meter: 29.0\n",
      "Ground Truth: 18.0\n",
      "Error: 11.0\n",
      "==================================================\n",
      "How far is the gas station away from the camera in meters, rounded to the next meter?\n"
     ]
    },
    {
     "name": "stderr",
     "output_type": "stream",
     "text": [
      "Setting `pad_token_id` to `eos_token_id`:None for open-end generation.\n"
     ]
    },
    {
     "name": "stdout",
     "output_type": "stream",
     "text": [
      "HALLO\n",
      "Item ID: _vO63qpalTD-pyBTLFdy1g_left\n",
      "Predicted Meter: 29.0\n",
      "Ground Truth: 25.0\n",
      "Error: 4.0\n",
      "==================================================\n",
      "How far is the gas station away from the camera in meters, rounded to the next meter?\n"
     ]
    },
    {
     "name": "stderr",
     "output_type": "stream",
     "text": [
      "Setting `pad_token_id` to `eos_token_id`:None for open-end generation.\n"
     ]
    },
    {
     "name": "stdout",
     "output_type": "stream",
     "text": [
      "HALLO\n",
      "Item ID: qq8iXTbkO_iEK4mJLC1xgA_right\n",
      "Predicted Meter: 29.0\n",
      "Ground Truth: 30.0\n",
      "Error: 1.0\n",
      "==================================================\n",
      "How far is the gas station away from the camera in meters, rounded to the next meter?\n"
     ]
    },
    {
     "name": "stderr",
     "output_type": "stream",
     "text": [
      "Setting `pad_token_id` to `eos_token_id`:None for open-end generation.\n"
     ]
    },
    {
     "name": "stdout",
     "output_type": "stream",
     "text": [
      "HALLO\n",
      "Item ID: SIQOuGqlTXsiqwfDq6zoCg_back\n",
      "Predicted Meter: 29.0\n",
      "Ground Truth: 20.0\n",
      "Error: 9.0\n",
      "==================================================\n",
      "How far is the vending machine away from the camera in meters, rounded to the next meter?\n"
     ]
    },
    {
     "name": "stderr",
     "output_type": "stream",
     "text": [
      "Setting `pad_token_id` to `eos_token_id`:None for open-end generation.\n"
     ]
    },
    {
     "name": "stdout",
     "output_type": "stream",
     "text": [
      "HALLO\n",
      "Item ID: eRQ_lSJa8rZ3LFZ9s36v7A_back\n",
      "Predicted Meter: 14.0\n",
      "Ground Truth: 12.0\n",
      "Error: 2.0\n",
      "==================================================\n",
      "How far is the gas station away from the camera in meters, rounded to the next meter?\n"
     ]
    },
    {
     "name": "stderr",
     "output_type": "stream",
     "text": [
      "Setting `pad_token_id` to `eos_token_id`:None for open-end generation.\n"
     ]
    },
    {
     "name": "stdout",
     "output_type": "stream",
     "text": [
      "HALLO\n",
      "Item ID: ODpq7KBrQltTE1PM9XsymA_right\n",
      "Predicted Meter: 27.0\n",
      "Ground Truth: 27.0\n",
      "Error: 0.0\n",
      "==================================================\n",
      "How far is the gas station away from the camera in meters, rounded to the next meter?\n"
     ]
    },
    {
     "name": "stderr",
     "output_type": "stream",
     "text": [
      "Setting `pad_token_id` to `eos_token_id`:None for open-end generation.\n"
     ]
    },
    {
     "name": "stdout",
     "output_type": "stream",
     "text": [
      "HALLO\n",
      "Item ID: JtyeoGH-BUUewIwbHElEew_back\n",
      "Predicted Meter: 29.0\n",
      "Ground Truth: 22.0\n",
      "Error: 7.0\n",
      "==================================================\n",
      "How far is the large waste dumpster away from the camera in meters, rounded to the next meter?\n"
     ]
    },
    {
     "name": "stderr",
     "output_type": "stream",
     "text": [
      "Setting `pad_token_id` to `eos_token_id`:None for open-end generation.\n"
     ]
    },
    {
     "name": "stdout",
     "output_type": "stream",
     "text": [
      "HALLO\n",
      "Item ID: Uo4CGPMzPzMx-A8Mjp6ziw_left\n",
      "Predicted Meter: 28.0\n",
      "Ground Truth: 25.0\n",
      "Error: 3.0\n",
      "==================================================\n",
      "How far is the gas station away from the camera in meters, rounded to the next meter?\n"
     ]
    },
    {
     "name": "stderr",
     "output_type": "stream",
     "text": [
      "Setting `pad_token_id` to `eos_token_id`:None for open-end generation.\n"
     ]
    },
    {
     "name": "stdout",
     "output_type": "stream",
     "text": [
      "HALLO\n",
      "Item ID: a3CD8WKIaMh74X_w1hp7sQ_right\n",
      "Predicted Meter: 29.0\n",
      "Ground Truth: 28.0\n",
      "Error: 1.0\n",
      "==================================================\n",
      "How far is the post box away from the camera in meters, rounded to the next meter?\n"
     ]
    },
    {
     "name": "stderr",
     "output_type": "stream",
     "text": [
      "Setting `pad_token_id` to `eos_token_id`:None for open-end generation.\n"
     ]
    },
    {
     "name": "stdout",
     "output_type": "stream",
     "text": [
      "HALLO\n",
      "Item ID: dcRWrKzhakwQYNJVjRTTDw_left\n",
      "Predicted Meter: 28.0\n",
      "Ground Truth: 25.0\n",
      "Error: 3.0\n",
      "==================================================\n",
      "How far is the gas station away from the camera in meters, rounded to the next meter?\n"
     ]
    },
    {
     "name": "stderr",
     "output_type": "stream",
     "text": [
      "Setting `pad_token_id` to `eos_token_id`:None for open-end generation.\n"
     ]
    },
    {
     "name": "stdout",
     "output_type": "stream",
     "text": [
      "HALLO\n",
      "Item ID: ggLlWlPCXTY3fRqkhBUoLw_back\n",
      "Predicted Meter: 27.0\n",
      "Ground Truth: 29.0\n",
      "Error: 2.0\n",
      "==================================================\n",
      "How far is the gas station away from the camera in meters, rounded to the next meter?\n"
     ]
    },
    {
     "name": "stderr",
     "output_type": "stream",
     "text": [
      "Setting `pad_token_id` to `eos_token_id`:None for open-end generation.\n"
     ]
    },
    {
     "name": "stdout",
     "output_type": "stream",
     "text": [
      "HALLO\n",
      "Item ID: I4dohtV49xeb159_Ng8Umw_left\n",
      "Predicted Meter: 27.0\n",
      "Ground Truth: 27.0\n",
      "Error: 0.0\n",
      "==================================================\n",
      "How far is the gas station away from the camera in meters, rounded to the next meter?\n"
     ]
    },
    {
     "name": "stderr",
     "output_type": "stream",
     "text": [
      "Setting `pad_token_id` to `eos_token_id`:None for open-end generation.\n"
     ]
    },
    {
     "name": "stdout",
     "output_type": "stream",
     "text": [
      "HALLO\n",
      "Item ID: W-gBkV3CvuaiXTp8ypzwJA_left\n",
      "Predicted Meter: 29.0\n",
      "Ground Truth: 28.0\n",
      "Error: 1.0\n",
      "==================================================\n",
      "How far is the gas station away from the camera in meters, rounded to the next meter?\n"
     ]
    },
    {
     "name": "stderr",
     "output_type": "stream",
     "text": [
      "Setting `pad_token_id` to `eos_token_id`:None for open-end generation.\n"
     ]
    },
    {
     "name": "stdout",
     "output_type": "stream",
     "text": [
      "HALLO\n",
      "Item ID: QrzepgRmPP6RvB-5DCKDOw_right\n",
      "Predicted Meter: 14.0\n",
      "Ground Truth: 21.0\n",
      "Error: 7.0\n",
      "==================================================\n",
      "How far is the post box away from the camera in meters, rounded to the next meter?\n"
     ]
    },
    {
     "name": "stderr",
     "output_type": "stream",
     "text": [
      "Setting `pad_token_id` to `eos_token_id`:None for open-end generation.\n"
     ]
    },
    {
     "name": "stdout",
     "output_type": "stream",
     "text": [
      "HALLO\n",
      "Item ID: KuSK5cvU7kUtZVVnQmfMMQ_right\n",
      "Predicted Meter: 15.0\n",
      "Ground Truth: 29.0\n",
      "Error: 14.0\n",
      "==================================================\n",
      "How far is the post box away from the camera in meters, rounded to the next meter?\n"
     ]
    },
    {
     "name": "stderr",
     "output_type": "stream",
     "text": [
      "Setting `pad_token_id` to `eos_token_id`:None for open-end generation.\n"
     ]
    },
    {
     "name": "stdout",
     "output_type": "stream",
     "text": [
      "HALLO\n",
      "Item ID: jn4zEaguUF85vtddS9591A_front\n",
      "Predicted Meter: 19.0\n",
      "Ground Truth: 16.0\n",
      "Error: 3.0\n",
      "==================================================\n",
      "How far is the post box away from the camera in meters, rounded to the next meter?\n"
     ]
    },
    {
     "name": "stderr",
     "output_type": "stream",
     "text": [
      "Setting `pad_token_id` to `eos_token_id`:None for open-end generation.\n"
     ]
    },
    {
     "name": "stdout",
     "output_type": "stream",
     "text": [
      "HALLO\n",
      "Item ID: 2-FSObqDy2OGHRS-oLXpIA_front\n",
      "Predicted Meter: 14.0\n",
      "Ground Truth: 9.0\n",
      "Error: 5.0\n",
      "==================================================\n",
      "How far is the gas station away from the camera in meters, rounded to the next meter?\n"
     ]
    },
    {
     "name": "stderr",
     "output_type": "stream",
     "text": [
      "Setting `pad_token_id` to `eos_token_id`:None for open-end generation.\n"
     ]
    },
    {
     "name": "stdout",
     "output_type": "stream",
     "text": [
      "HALLO\n",
      "Item ID: KxKRZzRg654ggxD9Un5qhw_right\n",
      "Predicted Meter: 27.0\n",
      "Ground Truth: 20.0\n",
      "Error: 7.0\n",
      "==================================================\n",
      "How far is the gas station away from the camera in meters, rounded to the next meter?\n"
     ]
    },
    {
     "name": "stderr",
     "output_type": "stream",
     "text": [
      "Setting `pad_token_id` to `eos_token_id`:None for open-end generation.\n"
     ]
    },
    {
     "name": "stdout",
     "output_type": "stream",
     "text": [
      "HALLO\n",
      "Item ID: pvA1fuCApUKCE1EAb1Xgig_back\n",
      "Predicted Meter: 29.0\n",
      "Ground Truth: 30.0\n",
      "Error: 1.0\n",
      "==================================================\n",
      "How far is the gas station away from the camera in meters, rounded to the next meter?\n"
     ]
    },
    {
     "name": "stderr",
     "output_type": "stream",
     "text": [
      "Setting `pad_token_id` to `eos_token_id`:None for open-end generation.\n"
     ]
    },
    {
     "name": "stdout",
     "output_type": "stream",
     "text": [
      "HALLO\n",
      "Item ID: z3ndUO5NBsQdcR6Onfs8kw_front\n",
      "Predicted Meter: 29.0\n",
      "Ground Truth: 27.0\n",
      "Error: 2.0\n",
      "==================================================\n",
      "How far is the gas station away from the camera in meters, rounded to the next meter?\n"
     ]
    },
    {
     "name": "stderr",
     "output_type": "stream",
     "text": [
      "Setting `pad_token_id` to `eos_token_id`:None for open-end generation.\n"
     ]
    },
    {
     "name": "stdout",
     "output_type": "stream",
     "text": [
      "HALLO\n",
      "Item ID: Rv3VUBBBNctDraTzS2RI3g_right\n",
      "Predicted Meter: 29.0\n",
      "Ground Truth: 26.0\n",
      "Error: 3.0\n",
      "==================================================\n",
      "How far is the atm away from the camera in meters, rounded to the next meter?\n"
     ]
    },
    {
     "name": "stderr",
     "output_type": "stream",
     "text": [
      "Setting `pad_token_id` to `eos_token_id`:None for open-end generation.\n"
     ]
    },
    {
     "name": "stdout",
     "output_type": "stream",
     "text": [
      "HALLO\n",
      "Item ID: 19vgVzfNilUW-ZOFDTBU3w_left\n",
      "Predicted Meter: 28.0\n",
      "Ground Truth: 19.0\n",
      "Error: 9.0\n",
      "==================================================\n",
      "How far is the gas station away from the camera in meters, rounded to the next meter?\n"
     ]
    },
    {
     "name": "stderr",
     "output_type": "stream",
     "text": [
      "Setting `pad_token_id` to `eos_token_id`:None for open-end generation.\n"
     ]
    },
    {
     "name": "stdout",
     "output_type": "stream",
     "text": [
      "HALLO\n",
      "Item ID: sW81gMtDmZH5rH6dKD2Kgg_right\n",
      "Predicted Meter: 29.0\n",
      "Ground Truth: 26.0\n",
      "Error: 3.0\n",
      "==================================================\n",
      "How far is the gas station away from the camera in meters, rounded to the next meter?\n"
     ]
    },
    {
     "name": "stderr",
     "output_type": "stream",
     "text": [
      "Setting `pad_token_id` to `eos_token_id`:None for open-end generation.\n"
     ]
    },
    {
     "name": "stdout",
     "output_type": "stream",
     "text": [
      "HALLO\n",
      "Item ID: e72VAs__5et9iblG7Jzbkg_front\n",
      "Predicted Meter: 29.0\n",
      "Ground Truth: 22.0\n",
      "Error: 7.0\n",
      "==================================================\n",
      "How far is the gas station away from the camera in meters, rounded to the next meter?\n"
     ]
    },
    {
     "name": "stderr",
     "output_type": "stream",
     "text": [
      "Setting `pad_token_id` to `eos_token_id`:None for open-end generation.\n"
     ]
    },
    {
     "name": "stdout",
     "output_type": "stream",
     "text": [
      "HALLO\n",
      "Item ID: JBh4Q90EGzF9bfNWNEx_yQ_right\n",
      "Predicted Meter: 27.0\n",
      "Ground Truth: 25.0\n",
      "Error: 2.0\n",
      "==================================================\n",
      "How far is the gas station away from the camera in meters, rounded to the next meter?\n"
     ]
    },
    {
     "name": "stderr",
     "output_type": "stream",
     "text": [
      "Setting `pad_token_id` to `eos_token_id`:None for open-end generation.\n"
     ]
    },
    {
     "name": "stdout",
     "output_type": "stream",
     "text": [
      "HALLO\n",
      "Item ID: UK2rWp3Bd4YrFtzB7sqlvA_front\n",
      "Predicted Meter: 28.0\n",
      "Ground Truth: 29.0\n",
      "Error: 1.0\n",
      "==================================================\n",
      "How far is the gas station away from the camera in meters, rounded to the next meter?\n"
     ]
    },
    {
     "name": "stderr",
     "output_type": "stream",
     "text": [
      "Setting `pad_token_id` to `eos_token_id`:None for open-end generation.\n"
     ]
    },
    {
     "name": "stdout",
     "output_type": "stream",
     "text": [
      "HALLO\n",
      "Item ID: _O0jxrZYJf_QSDnbrH3_2g_front\n",
      "Predicted Meter: 29.0\n",
      "Ground Truth: 26.0\n",
      "Error: 3.0\n",
      "==================================================\n",
      "How far is the gas station away from the camera in meters, rounded to the next meter?\n"
     ]
    },
    {
     "name": "stderr",
     "output_type": "stream",
     "text": [
      "Setting `pad_token_id` to `eos_token_id`:None for open-end generation.\n"
     ]
    },
    {
     "name": "stdout",
     "output_type": "stream",
     "text": [
      "HALLO\n",
      "Item ID: Ym3CPMFWgLQgwLP7MoZerw_right\n",
      "Predicted Meter: 27.0\n",
      "Ground Truth: 25.0\n",
      "Error: 2.0\n",
      "==================================================\n",
      "How far is the post box away from the camera in meters, rounded to the next meter?\n"
     ]
    },
    {
     "name": "stderr",
     "output_type": "stream",
     "text": [
      "Setting `pad_token_id` to `eos_token_id`:None for open-end generation.\n"
     ]
    },
    {
     "name": "stdout",
     "output_type": "stream",
     "text": [
      "HALLO\n",
      "Item ID: 8naUjoF8o0pkX_YlDQHcCQ_left\n",
      "Predicted Meter: 10.0\n",
      "Ground Truth: 7.0\n",
      "Error: 3.0\n",
      "==================================================\n",
      "How far is the gas station away from the camera in meters, rounded to the next meter?\n"
     ]
    },
    {
     "name": "stderr",
     "output_type": "stream",
     "text": [
      "Setting `pad_token_id` to `eos_token_id`:None for open-end generation.\n"
     ]
    },
    {
     "name": "stdout",
     "output_type": "stream",
     "text": [
      "HALLO\n",
      "Item ID: P46zszgViyt-C8o6lET3Ow_left\n",
      "Predicted Meter: 27.0\n",
      "Ground Truth: 25.0\n",
      "Error: 2.0\n",
      "==================================================\n",
      "How far is the gas station away from the camera in meters, rounded to the next meter?\n"
     ]
    },
    {
     "name": "stderr",
     "output_type": "stream",
     "text": [
      "Setting `pad_token_id` to `eos_token_id`:None for open-end generation.\n"
     ]
    },
    {
     "name": "stdout",
     "output_type": "stream",
     "text": [
      "HALLO\n",
      "Item ID: 3owL9LAboiuqRM_8xI8c5w_left\n",
      "Predicted Meter: 29.0\n",
      "Ground Truth: 29.0\n",
      "Error: 0.0\n",
      "==================================================\n",
      "How far is the gas station away from the camera in meters, rounded to the next meter?\n"
     ]
    },
    {
     "name": "stderr",
     "output_type": "stream",
     "text": [
      "Setting `pad_token_id` to `eos_token_id`:None for open-end generation.\n"
     ]
    },
    {
     "name": "stdout",
     "output_type": "stream",
     "text": [
      "HALLO\n",
      "Item ID: a4pv7J1rC3HwrnQWaugEAA_left\n",
      "Predicted Meter: 27.0\n",
      "Ground Truth: 20.0\n",
      "Error: 7.0\n",
      "==================================================\n",
      "How far is the gas station away from the camera in meters, rounded to the next meter?\n"
     ]
    },
    {
     "name": "stderr",
     "output_type": "stream",
     "text": [
      "Setting `pad_token_id` to `eos_token_id`:None for open-end generation.\n"
     ]
    },
    {
     "name": "stdout",
     "output_type": "stream",
     "text": [
      "HALLO\n",
      "Item ID: pahz2YZlAB_f80CoGzLtSA_left\n",
      "Predicted Meter: 29.0\n",
      "Ground Truth: 30.0\n",
      "Error: 1.0\n",
      "==================================================\n",
      "How far is the gas station away from the camera in meters, rounded to the next meter?\n"
     ]
    },
    {
     "name": "stderr",
     "output_type": "stream",
     "text": [
      "Setting `pad_token_id` to `eos_token_id`:None for open-end generation.\n"
     ]
    },
    {
     "name": "stdout",
     "output_type": "stream",
     "text": [
      "HALLO\n",
      "Item ID: aniYGD6kiz9Gtf0l-70f2Q_left\n",
      "Predicted Meter: 29.0\n",
      "Ground Truth: 25.0\n",
      "Error: 4.0\n",
      "==================================================\n",
      "How far is the gas station away from the camera in meters, rounded to the next meter?\n"
     ]
    },
    {
     "name": "stderr",
     "output_type": "stream",
     "text": [
      "Setting `pad_token_id` to `eos_token_id`:None for open-end generation.\n"
     ]
    },
    {
     "name": "stdout",
     "output_type": "stream",
     "text": [
      "HALLO\n",
      "Item ID: TTV6SfcooODCtltjtgSdSg_left\n",
      "Predicted Meter: 27.0\n",
      "Ground Truth: 25.0\n",
      "Error: 2.0\n",
      "==================================================\n",
      "How far is the gas station away from the camera in meters, rounded to the next meter?\n"
     ]
    },
    {
     "name": "stderr",
     "output_type": "stream",
     "text": [
      "Setting `pad_token_id` to `eos_token_id`:None for open-end generation.\n"
     ]
    },
    {
     "name": "stdout",
     "output_type": "stream",
     "text": [
      "HALLO\n",
      "Item ID: vcaFbHdSXrGksEiMGrQLrQ_right\n",
      "Predicted Meter: 27.0\n",
      "Ground Truth: 21.0\n",
      "Error: 6.0\n",
      "==================================================\n",
      "How far is the gas station away from the camera in meters, rounded to the next meter?\n"
     ]
    },
    {
     "name": "stderr",
     "output_type": "stream",
     "text": [
      "Setting `pad_token_id` to `eos_token_id`:None for open-end generation.\n"
     ]
    },
    {
     "name": "stdout",
     "output_type": "stream",
     "text": [
      "HALLO\n",
      "Item ID: dWF-5O9XfAEky8SiZKOgRg_front\n",
      "Predicted Meter: 27.0\n",
      "Ground Truth: 29.0\n",
      "Error: 2.0\n",
      "==================================================\n",
      "How far is the post box away from the camera in meters, rounded to the next meter?\n"
     ]
    },
    {
     "name": "stderr",
     "output_type": "stream",
     "text": [
      "Setting `pad_token_id` to `eos_token_id`:None for open-end generation.\n"
     ]
    },
    {
     "name": "stdout",
     "output_type": "stream",
     "text": [
      "HALLO\n",
      "Item ID: MPBnrxKHyNuVDqVLQuyG9g_front\n",
      "Predicted Meter: 19.0\n",
      "Ground Truth: 20.0\n",
      "Error: 1.0\n",
      "==================================================\n",
      "How far is the gas station away from the camera in meters, rounded to the next meter?\n"
     ]
    },
    {
     "name": "stderr",
     "output_type": "stream",
     "text": [
      "Setting `pad_token_id` to `eos_token_id`:None for open-end generation.\n"
     ]
    },
    {
     "name": "stdout",
     "output_type": "stream",
     "text": [
      "HALLO\n",
      "Item ID: k2YBj5MKBV4ZN_iwZ4aCEQ_back\n",
      "Predicted Meter: 14.0\n",
      "Ground Truth: 13.0\n",
      "Error: 1.0\n",
      "==================================================\n",
      "How far is the gas station away from the camera in meters, rounded to the next meter?\n"
     ]
    },
    {
     "name": "stderr",
     "output_type": "stream",
     "text": [
      "Setting `pad_token_id` to `eos_token_id`:None for open-end generation.\n"
     ]
    },
    {
     "name": "stdout",
     "output_type": "stream",
     "text": [
      "HALLO\n",
      "Item ID: QsUUe_r6kLQGpz0mMQJItQ_back\n",
      "Predicted Meter: 29.0\n",
      "Ground Truth: 14.0\n",
      "Error: 15.0\n",
      "==================================================\n",
      "How far is the gas station away from the camera in meters, rounded to the next meter?\n"
     ]
    },
    {
     "name": "stderr",
     "output_type": "stream",
     "text": [
      "Setting `pad_token_id` to `eos_token_id`:None for open-end generation.\n"
     ]
    },
    {
     "name": "stdout",
     "output_type": "stream",
     "text": [
      "HALLO\n",
      "Item ID: cAjf-qb2WlKMgLqdL9nDKg_back\n",
      "Predicted Meter: 27.0\n",
      "Ground Truth: 20.0\n",
      "Error: 7.0\n",
      "==================================================\n",
      "How far is the gas station away from the camera in meters, rounded to the next meter?\n"
     ]
    },
    {
     "name": "stderr",
     "output_type": "stream",
     "text": [
      "Setting `pad_token_id` to `eos_token_id`:None for open-end generation.\n"
     ]
    },
    {
     "name": "stdout",
     "output_type": "stream",
     "text": [
      "HALLO\n",
      "Item ID: Z53S5bnyH7mNGBg_vJQcmA_left\n",
      "Predicted Meter: 27.0\n",
      "Ground Truth: 23.0\n",
      "Error: 4.0\n",
      "==================================================\n",
      "How far is the gas station away from the camera in meters, rounded to the next meter?\n"
     ]
    },
    {
     "name": "stderr",
     "output_type": "stream",
     "text": [
      "Setting `pad_token_id` to `eos_token_id`:None for open-end generation.\n"
     ]
    },
    {
     "name": "stdout",
     "output_type": "stream",
     "text": [
      "HALLO\n",
      "Item ID: k2bp2EYvD4dBPteB1oLO8A_right\n",
      "Predicted Meter: 27.0\n",
      "Ground Truth: 22.0\n",
      "Error: 5.0\n",
      "==================================================\n",
      "How far is the gas station away from the camera in meters, rounded to the next meter?\n"
     ]
    },
    {
     "name": "stderr",
     "output_type": "stream",
     "text": [
      "Setting `pad_token_id` to `eos_token_id`:None for open-end generation.\n"
     ]
    },
    {
     "name": "stdout",
     "output_type": "stream",
     "text": [
      "HALLO\n",
      "Item ID: F5BsVFC7xaJOKxCpu8yTPw_right\n",
      "Predicted Meter: 27.0\n",
      "Ground Truth: 18.0\n",
      "Error: 9.0\n",
      "==================================================\n",
      "How far is the gas station away from the camera in meters, rounded to the next meter?\n"
     ]
    },
    {
     "name": "stderr",
     "output_type": "stream",
     "text": [
      "Setting `pad_token_id` to `eos_token_id`:None for open-end generation.\n"
     ]
    },
    {
     "name": "stdout",
     "output_type": "stream",
     "text": [
      "HALLO\n",
      "Item ID: WwPPUkMasXt-Z4ABU64n5Q_left\n",
      "Predicted Meter: 29.0\n",
      "Ground Truth: 27.0\n",
      "Error: 2.0\n",
      "==================================================\n",
      "How far is the gas station away from the camera in meters, rounded to the next meter?\n"
     ]
    },
    {
     "name": "stderr",
     "output_type": "stream",
     "text": [
      "Setting `pad_token_id` to `eos_token_id`:None for open-end generation.\n"
     ]
    },
    {
     "name": "stdout",
     "output_type": "stream",
     "text": [
      "HALLO\n",
      "Item ID: Y-tv1UuQOqcdTwdkKu3ynA_back\n",
      "Predicted Meter: 29.0\n",
      "Ground Truth: 27.0\n",
      "Error: 2.0\n",
      "==================================================\n",
      "How far is the gas station away from the camera in meters, rounded to the next meter?\n"
     ]
    },
    {
     "name": "stderr",
     "output_type": "stream",
     "text": [
      "Setting `pad_token_id` to `eos_token_id`:None for open-end generation.\n"
     ]
    },
    {
     "name": "stdout",
     "output_type": "stream",
     "text": [
      "HALLO\n",
      "Item ID: WEoRVaCevfKMUZ-ZrcT7cg_front\n",
      "Predicted Meter: 29.0\n",
      "Ground Truth: 30.0\n",
      "Error: 1.0\n",
      "==================================================\n",
      "How far is the gas station away from the camera in meters, rounded to the next meter?\n"
     ]
    },
    {
     "name": "stderr",
     "output_type": "stream",
     "text": [
      "Setting `pad_token_id` to `eos_token_id`:None for open-end generation.\n"
     ]
    },
    {
     "name": "stdout",
     "output_type": "stream",
     "text": [
      "HALLO\n",
      "Item ID: DvhPeyRQJhMg3UHrlbW2-w_right\n",
      "Predicted Meter: 27.0\n",
      "Ground Truth: 22.0\n",
      "Error: 5.0\n",
      "==================================================\n",
      "How far is the gas station away from the camera in meters, rounded to the next meter?\n"
     ]
    },
    {
     "name": "stderr",
     "output_type": "stream",
     "text": [
      "Setting `pad_token_id` to `eos_token_id`:None for open-end generation.\n"
     ]
    },
    {
     "name": "stdout",
     "output_type": "stream",
     "text": [
      "HALLO\n",
      "Item ID: Q2OBeuPzC1Q72afMqUePsg_front\n",
      "Predicted Meter: 29.0\n",
      "Ground Truth: 26.0\n",
      "Error: 3.0\n",
      "==================================================\n",
      "How far is the gas station away from the camera in meters, rounded to the next meter?\n"
     ]
    },
    {
     "name": "stderr",
     "output_type": "stream",
     "text": [
      "Setting `pad_token_id` to `eos_token_id`:None for open-end generation.\n"
     ]
    },
    {
     "name": "stdout",
     "output_type": "stream",
     "text": [
      "HALLO\n",
      "Item ID: JE2OCpze2DtiqLnRi5HHJg_right\n",
      "Predicted Meter: 21.0\n",
      "Ground Truth: 16.0\n",
      "Error: 5.0\n",
      "==================================================\n",
      "How far is the gas station away from the camera in meters, rounded to the next meter?\n"
     ]
    },
    {
     "name": "stderr",
     "output_type": "stream",
     "text": [
      "Setting `pad_token_id` to `eos_token_id`:None for open-end generation.\n"
     ]
    },
    {
     "name": "stdout",
     "output_type": "stream",
     "text": [
      "HALLO\n",
      "Item ID: vTWkIglCRmG2TnGkIFHM7Q_front\n",
      "Predicted Meter: 29.0\n",
      "Ground Truth: 26.0\n",
      "Error: 3.0\n",
      "==================================================\n",
      "How far is the gas station away from the camera in meters, rounded to the next meter?\n"
     ]
    },
    {
     "name": "stderr",
     "output_type": "stream",
     "text": [
      "Setting `pad_token_id` to `eos_token_id`:None for open-end generation.\n"
     ]
    },
    {
     "name": "stdout",
     "output_type": "stream",
     "text": [
      "HALLO\n",
      "Item ID: jvZukHq03jbMHllXrubKrg_left\n",
      "Predicted Meter: 29.0\n",
      "Ground Truth: 18.0\n",
      "Error: 11.0\n",
      "==================================================\n",
      "How far is the gas station away from the camera in meters, rounded to the next meter?\n"
     ]
    },
    {
     "name": "stderr",
     "output_type": "stream",
     "text": [
      "Setting `pad_token_id` to `eos_token_id`:None for open-end generation.\n"
     ]
    },
    {
     "name": "stdout",
     "output_type": "stream",
     "text": [
      "HALLO\n",
      "Item ID: XW-9W9p2AVcQ77RIlngbtw_right\n",
      "Predicted Meter: 27.0\n",
      "Ground Truth: 27.0\n",
      "Error: 0.0\n",
      "==================================================\n",
      "How far is the gas station away from the camera in meters, rounded to the next meter?\n"
     ]
    },
    {
     "name": "stderr",
     "output_type": "stream",
     "text": [
      "Setting `pad_token_id` to `eos_token_id`:None for open-end generation.\n"
     ]
    },
    {
     "name": "stdout",
     "output_type": "stream",
     "text": [
      "HALLO\n",
      "Item ID: cFIOqI5tHirjVFr43ORP9A_front\n",
      "Predicted Meter: 29.0\n",
      "Ground Truth: 25.0\n",
      "Error: 4.0\n",
      "==================================================\n",
      "How far is the gas station away from the camera in meters, rounded to the next meter?\n"
     ]
    },
    {
     "name": "stderr",
     "output_type": "stream",
     "text": [
      "Setting `pad_token_id` to `eos_token_id`:None for open-end generation.\n"
     ]
    },
    {
     "name": "stdout",
     "output_type": "stream",
     "text": [
      "HALLO\n",
      "Item ID: zlVVWK2209dwiSv-jkQ7mA_front\n",
      "Predicted Meter: 29.0\n",
      "Ground Truth: 18.0\n",
      "Error: 11.0\n",
      "==================================================\n",
      "How far is the gas station away from the camera in meters, rounded to the next meter?\n"
     ]
    },
    {
     "name": "stderr",
     "output_type": "stream",
     "text": [
      "Setting `pad_token_id` to `eos_token_id`:None for open-end generation.\n"
     ]
    },
    {
     "name": "stdout",
     "output_type": "stream",
     "text": [
      "HALLO\n",
      "Item ID: 3bxRhzHjh-cWBHE3fS-JcA_right\n",
      "Predicted Meter: 22.0\n",
      "Ground Truth: 19.0\n",
      "Error: 3.0\n",
      "==================================================\n",
      "How far is the post box away from the camera in meters, rounded to the next meter?\n"
     ]
    },
    {
     "name": "stderr",
     "output_type": "stream",
     "text": [
      "Setting `pad_token_id` to `eos_token_id`:None for open-end generation.\n"
     ]
    },
    {
     "name": "stdout",
     "output_type": "stream",
     "text": [
      "HALLO\n",
      "Item ID: 7XSkktf9ACvkRIyMeQc03Q_front\n",
      "Predicted Meter: 11.0\n",
      "Ground Truth: 8.0\n",
      "Error: 3.0\n",
      "==================================================\n",
      "How far is the large waste dumpster away from the camera in meters, rounded to the next meter?\n"
     ]
    },
    {
     "name": "stderr",
     "output_type": "stream",
     "text": [
      "Setting `pad_token_id` to `eos_token_id`:None for open-end generation.\n"
     ]
    },
    {
     "name": "stdout",
     "output_type": "stream",
     "text": [
      "HALLO\n",
      "Item ID: AT91nZn9t9ftyX4ZUaT7ig_back\n",
      "Predicted Meter: 28.0\n",
      "Ground Truth: 19.0\n",
      "Error: 9.0\n",
      "==================================================\n",
      "How far is the gas station away from the camera in meters, rounded to the next meter?\n"
     ]
    },
    {
     "name": "stderr",
     "output_type": "stream",
     "text": [
      "Setting `pad_token_id` to `eos_token_id`:None for open-end generation.\n"
     ]
    },
    {
     "name": "stdout",
     "output_type": "stream",
     "text": [
      "HALLO\n",
      "Item ID: Rrfkhr-SlT5F6hHpq4CLPQ_right\n",
      "Predicted Meter: 27.0\n",
      "Ground Truth: 29.0\n",
      "Error: 2.0\n",
      "==================================================\n",
      "How far is the gas station away from the camera in meters, rounded to the next meter?\n"
     ]
    },
    {
     "name": "stderr",
     "output_type": "stream",
     "text": [
      "Setting `pad_token_id` to `eos_token_id`:None for open-end generation.\n"
     ]
    },
    {
     "name": "stdout",
     "output_type": "stream",
     "text": [
      "HALLO\n",
      "Item ID: 5Ey4TG-gAsmi1ua7pm6wkg_front\n",
      "Predicted Meter: 29.0\n",
      "Ground Truth: 24.0\n",
      "Error: 5.0\n",
      "==================================================\n",
      "How far is the gas station away from the camera in meters, rounded to the next meter?\n"
     ]
    },
    {
     "name": "stderr",
     "output_type": "stream",
     "text": [
      "Setting `pad_token_id` to `eos_token_id`:None for open-end generation.\n"
     ]
    },
    {
     "name": "stdout",
     "output_type": "stream",
     "text": [
      "HALLO\n",
      "Item ID: Z4Mm-TnKHDlaZxWdKO_1hg_right\n",
      "Predicted Meter: 27.0\n",
      "Ground Truth: 19.0\n",
      "Error: 8.0\n",
      "==================================================\n",
      "How far is the gas station away from the camera in meters, rounded to the next meter?\n"
     ]
    },
    {
     "name": "stderr",
     "output_type": "stream",
     "text": [
      "Setting `pad_token_id` to `eos_token_id`:None for open-end generation.\n"
     ]
    },
    {
     "name": "stdout",
     "output_type": "stream",
     "text": [
      "HALLO\n",
      "Item ID: 5l1iitQtnhauPWpB68_jFQ_left\n",
      "Predicted Meter: 29.0\n",
      "Ground Truth: 27.0\n",
      "Error: 2.0\n",
      "==================================================\n",
      "How far is the gas station away from the camera in meters, rounded to the next meter?\n"
     ]
    },
    {
     "name": "stderr",
     "output_type": "stream",
     "text": [
      "Setting `pad_token_id` to `eos_token_id`:None for open-end generation.\n"
     ]
    },
    {
     "name": "stdout",
     "output_type": "stream",
     "text": [
      "HALLO\n",
      "Item ID: 7FeZIFjcQAL-3ci60J3EFQ_left\n",
      "Predicted Meter: 29.0\n",
      "Ground Truth: 21.0\n",
      "Error: 8.0\n",
      "==================================================\n",
      "How far is the gas station away from the camera in meters, rounded to the next meter?\n"
     ]
    },
    {
     "name": "stderr",
     "output_type": "stream",
     "text": [
      "Setting `pad_token_id` to `eos_token_id`:None for open-end generation.\n"
     ]
    },
    {
     "name": "stdout",
     "output_type": "stream",
     "text": [
      "HALLO\n",
      "Item ID: 8HdhRsrE8MmqEgcq3vttxw_right\n",
      "Predicted Meter: 29.0\n",
      "Ground Truth: 28.0\n",
      "Error: 1.0\n",
      "==================================================\n",
      "How far is the post box away from the camera in meters, rounded to the next meter?\n"
     ]
    },
    {
     "name": "stderr",
     "output_type": "stream",
     "text": [
      "Setting `pad_token_id` to `eos_token_id`:None for open-end generation.\n"
     ]
    },
    {
     "name": "stdout",
     "output_type": "stream",
     "text": [
      "HALLO\n",
      "Item ID: JwmZvLLBilTA-5jI2gTazw_front\n",
      "Predicted Meter: 28.0\n",
      "Ground Truth: 19.0\n",
      "Error: 9.0\n",
      "==================================================\n",
      "How far is the gas station away from the camera in meters, rounded to the next meter?\n"
     ]
    },
    {
     "name": "stderr",
     "output_type": "stream",
     "text": [
      "Setting `pad_token_id` to `eos_token_id`:None for open-end generation.\n"
     ]
    },
    {
     "name": "stdout",
     "output_type": "stream",
     "text": [
      "HALLO\n",
      "Item ID: NqpFTRtqj2fUyQyQYhFSzQ_right\n",
      "Predicted Meter: 29.0\n",
      "Ground Truth: 29.0\n",
      "Error: 0.0\n",
      "==================================================\n",
      "How far is the gas station away from the camera in meters, rounded to the next meter?\n"
     ]
    },
    {
     "name": "stderr",
     "output_type": "stream",
     "text": [
      "Setting `pad_token_id` to `eos_token_id`:None for open-end generation.\n"
     ]
    },
    {
     "name": "stdout",
     "output_type": "stream",
     "text": [
      "HALLO\n",
      "Item ID: Ce0tHCxNMDi6wPRp-s47jw_right\n",
      "Predicted Meter: 27.0\n",
      "Ground Truth: 23.0\n",
      "Error: 4.0\n",
      "==================================================\n",
      "How far is the gas station away from the camera in meters, rounded to the next meter?\n"
     ]
    },
    {
     "name": "stderr",
     "output_type": "stream",
     "text": [
      "Setting `pad_token_id` to `eos_token_id`:None for open-end generation.\n"
     ]
    },
    {
     "name": "stdout",
     "output_type": "stream",
     "text": [
      "HALLO\n",
      "Item ID: nVAA5-GdotO9RbO9NjI-qw_right\n",
      "Predicted Meter: 27.0\n",
      "Ground Truth: 20.0\n",
      "Error: 7.0\n",
      "==================================================\n",
      "How far is the gas station away from the camera in meters, rounded to the next meter?\n"
     ]
    },
    {
     "name": "stderr",
     "output_type": "stream",
     "text": [
      "Setting `pad_token_id` to `eos_token_id`:None for open-end generation.\n"
     ]
    },
    {
     "name": "stdout",
     "output_type": "stream",
     "text": [
      "HALLO\n",
      "Item ID: QrMeDQ9jdGJJ0rV2PVJEiw_back\n",
      "Predicted Meter: 29.0\n",
      "Ground Truth: 20.0\n",
      "Error: 9.0\n",
      "==================================================\n",
      "How far is the gas station away from the camera in meters, rounded to the next meter?\n"
     ]
    },
    {
     "name": "stderr",
     "output_type": "stream",
     "text": [
      "Setting `pad_token_id` to `eos_token_id`:None for open-end generation.\n"
     ]
    },
    {
     "name": "stdout",
     "output_type": "stream",
     "text": [
      "HALLO\n",
      "Item ID: 8pEZHqbN5u8_yG8_dfXbwg_front\n",
      "Predicted Meter: 29.0\n",
      "Ground Truth: 27.0\n",
      "Error: 2.0\n",
      "==================================================\n",
      "How far is the post box away from the camera in meters, rounded to the next meter?\n"
     ]
    },
    {
     "name": "stderr",
     "output_type": "stream",
     "text": [
      "Setting `pad_token_id` to `eos_token_id`:None for open-end generation.\n"
     ]
    },
    {
     "name": "stdout",
     "output_type": "stream",
     "text": [
      "HALLO\n",
      "Item ID: 6-mgzznPhuvGSSjQkq6Jcw_right\n",
      "Predicted Meter: 15.0\n",
      "Ground Truth: 13.0\n",
      "Error: 2.0\n",
      "==================================================\n",
      "How far is the gas station away from the camera in meters, rounded to the next meter?\n"
     ]
    },
    {
     "name": "stderr",
     "output_type": "stream",
     "text": [
      "Setting `pad_token_id` to `eos_token_id`:None for open-end generation.\n"
     ]
    },
    {
     "name": "stdout",
     "output_type": "stream",
     "text": [
      "HALLO\n",
      "Item ID: Pfii6WqCwWdlp5FC-V4-tg_right\n",
      "Predicted Meter: 27.0\n",
      "Ground Truth: 28.0\n",
      "Error: 1.0\n",
      "==================================================\n",
      "How far is the gas station away from the camera in meters, rounded to the next meter?\n"
     ]
    },
    {
     "name": "stderr",
     "output_type": "stream",
     "text": [
      "Setting `pad_token_id` to `eos_token_id`:None for open-end generation.\n"
     ]
    },
    {
     "name": "stdout",
     "output_type": "stream",
     "text": [
      "HALLO\n",
      "Item ID: 8b9HdmvIET8ZzN25BPoAqg_right\n",
      "Predicted Meter: 27.0\n",
      "Ground Truth: 26.0\n",
      "Error: 1.0\n",
      "==================================================\n",
      "How far is the post box away from the camera in meters, rounded to the next meter?\n"
     ]
    },
    {
     "name": "stderr",
     "output_type": "stream",
     "text": [
      "Setting `pad_token_id` to `eos_token_id`:None for open-end generation.\n"
     ]
    },
    {
     "name": "stdout",
     "output_type": "stream",
     "text": [
      "HALLO\n",
      "Item ID: XBZ7vig2eHnbKujbK0YrKw_right\n",
      "Predicted Meter: 5.0\n",
      "Ground Truth: 3.0\n",
      "Error: 2.0\n",
      "==================================================\n",
      "How far is the gas station away from the camera in meters, rounded to the next meter?\n"
     ]
    },
    {
     "name": "stderr",
     "output_type": "stream",
     "text": [
      "Setting `pad_token_id` to `eos_token_id`:None for open-end generation.\n"
     ]
    },
    {
     "name": "stdout",
     "output_type": "stream",
     "text": [
      "HALLO\n",
      "Item ID: 7ek2uD1SadiiO7S_CiCaFQ_right\n",
      "Predicted Meter: 29.0\n",
      "Ground Truth: 25.0\n",
      "Error: 4.0\n",
      "==================================================\n",
      "How far is the gas station away from the camera in meters, rounded to the next meter?\n"
     ]
    },
    {
     "name": "stderr",
     "output_type": "stream",
     "text": [
      "Setting `pad_token_id` to `eos_token_id`:None for open-end generation.\n"
     ]
    },
    {
     "name": "stdout",
     "output_type": "stream",
     "text": [
      "HALLO\n",
      "Item ID: h_pdMobutR1b38Ek1Yf24Q_right\n",
      "Predicted Meter: 27.0\n",
      "Ground Truth: 18.0\n",
      "Error: 9.0\n",
      "==================================================\n",
      "How far is the gas station away from the camera in meters, rounded to the next meter?\n"
     ]
    },
    {
     "name": "stderr",
     "output_type": "stream",
     "text": [
      "Setting `pad_token_id` to `eos_token_id`:None for open-end generation.\n"
     ]
    },
    {
     "name": "stdout",
     "output_type": "stream",
     "text": [
      "HALLO\n",
      "Item ID: zSYaKhsUunxd2HieLw--Bw_back\n",
      "Predicted Meter: 29.0\n",
      "Ground Truth: 23.0\n",
      "Error: 6.0\n",
      "==================================================\n",
      "How far is the gas station away from the camera in meters, rounded to the next meter?\n"
     ]
    },
    {
     "name": "stderr",
     "output_type": "stream",
     "text": [
      "Setting `pad_token_id` to `eos_token_id`:None for open-end generation.\n"
     ]
    },
    {
     "name": "stdout",
     "output_type": "stream",
     "text": [
      "HALLO\n",
      "Item ID: ooonkaHPxwqhujFUqM5pxw_back\n",
      "Predicted Meter: 29.0\n",
      "Ground Truth: 27.0\n",
      "Error: 2.0\n",
      "==================================================\n",
      "How far is the gas station away from the camera in meters, rounded to the next meter?\n"
     ]
    },
    {
     "name": "stderr",
     "output_type": "stream",
     "text": [
      "Setting `pad_token_id` to `eos_token_id`:None for open-end generation.\n"
     ]
    },
    {
     "name": "stdout",
     "output_type": "stream",
     "text": [
      "HALLO\n",
      "Item ID: jxLJB3l_o_cvFGl6JM__wQ_right\n",
      "Predicted Meter: 27.0\n",
      "Ground Truth: 18.0\n",
      "Error: 9.0\n",
      "==================================================\n",
      "How far is the gas station away from the camera in meters, rounded to the next meter?\n"
     ]
    },
    {
     "name": "stderr",
     "output_type": "stream",
     "text": [
      "Setting `pad_token_id` to `eos_token_id`:None for open-end generation.\n"
     ]
    },
    {
     "name": "stdout",
     "output_type": "stream",
     "text": [
      "HALLO\n",
      "Item ID: euF84E5dXEqouOs2QXcQvw_right\n",
      "Predicted Meter: 27.0\n",
      "Ground Truth: 25.0\n",
      "Error: 2.0\n",
      "==================================================\n",
      "How far is the gas station away from the camera in meters, rounded to the next meter?\n"
     ]
    },
    {
     "name": "stderr",
     "output_type": "stream",
     "text": [
      "Setting `pad_token_id` to `eos_token_id`:None for open-end generation.\n"
     ]
    },
    {
     "name": "stdout",
     "output_type": "stream",
     "text": [
      "HALLO\n",
      "Item ID: sBvClBUQk7xVDK-zZ7cJsg_left\n",
      "Predicted Meter: 27.0\n",
      "Ground Truth: 24.0\n",
      "Error: 3.0\n",
      "==================================================\n",
      "How far is the gas station away from the camera in meters, rounded to the next meter?\n"
     ]
    },
    {
     "name": "stderr",
     "output_type": "stream",
     "text": [
      "Setting `pad_token_id` to `eos_token_id`:None for open-end generation.\n"
     ]
    },
    {
     "name": "stdout",
     "output_type": "stream",
     "text": [
      "HALLO\n",
      "Item ID: 6nJTO2TykG9p_u6nqNIDfw_left\n",
      "Predicted Meter: 27.0\n",
      "Ground Truth: 30.0\n",
      "Error: 3.0\n",
      "==================================================\n",
      "How far is the gas station away from the camera in meters, rounded to the next meter?\n"
     ]
    },
    {
     "name": "stderr",
     "output_type": "stream",
     "text": [
      "Setting `pad_token_id` to `eos_token_id`:None for open-end generation.\n"
     ]
    },
    {
     "name": "stdout",
     "output_type": "stream",
     "text": [
      "HALLO\n",
      "Item ID: vIIbBr4Zyvw5iE2qnXkDFw_right\n",
      "Predicted Meter: 27.0\n",
      "Ground Truth: 24.0\n",
      "Error: 3.0\n",
      "==================================================\n",
      "How far is the post box away from the camera in meters, rounded to the next meter?\n"
     ]
    },
    {
     "name": "stderr",
     "output_type": "stream",
     "text": [
      "Setting `pad_token_id` to `eos_token_id`:None for open-end generation.\n"
     ]
    },
    {
     "name": "stdout",
     "output_type": "stream",
     "text": [
      "HALLO\n",
      "Item ID: QjGIJdW81n-QPSYKVx9yeg_left\n",
      "Predicted Meter: 26.0\n",
      "Ground Truth: 28.0\n",
      "Error: 2.0\n",
      "==================================================\n",
      "How far is the gas station away from the camera in meters, rounded to the next meter?\n"
     ]
    },
    {
     "name": "stderr",
     "output_type": "stream",
     "text": [
      "Setting `pad_token_id` to `eos_token_id`:None for open-end generation.\n"
     ]
    },
    {
     "name": "stdout",
     "output_type": "stream",
     "text": [
      "HALLO\n",
      "Item ID: Tn4uYOv0Lgp7BJQXxWgu0A_right\n",
      "Predicted Meter: 27.0\n",
      "Ground Truth: 30.0\n",
      "Error: 3.0\n",
      "==================================================\n",
      "How far is the atm away from the camera in meters, rounded to the next meter?\n"
     ]
    },
    {
     "name": "stderr",
     "output_type": "stream",
     "text": [
      "Setting `pad_token_id` to `eos_token_id`:None for open-end generation.\n"
     ]
    },
    {
     "name": "stdout",
     "output_type": "stream",
     "text": [
      "HALLO\n",
      "Item ID: eK6GR-zlSKodjUThcJH4UA_left\n",
      "Predicted Meter: 19.0\n",
      "Ground Truth: 18.0\n",
      "Error: 1.0\n",
      "==================================================\n",
      "How far is the gas station away from the camera in meters, rounded to the next meter?\n"
     ]
    },
    {
     "name": "stderr",
     "output_type": "stream",
     "text": [
      "Setting `pad_token_id` to `eos_token_id`:None for open-end generation.\n"
     ]
    },
    {
     "name": "stdout",
     "output_type": "stream",
     "text": [
      "HALLO\n",
      "Item ID: MCsrah6QrlrSsMR4q-bdrg_right\n",
      "Predicted Meter: 29.0\n",
      "Ground Truth: 29.0\n",
      "Error: 0.0\n",
      "==================================================\n",
      "How far is the gas station away from the camera in meters, rounded to the next meter?\n"
     ]
    },
    {
     "name": "stderr",
     "output_type": "stream",
     "text": [
      "Setting `pad_token_id` to `eos_token_id`:None for open-end generation.\n"
     ]
    },
    {
     "name": "stdout",
     "output_type": "stream",
     "text": [
      "HALLO\n",
      "Item ID: gyO5-qLWE4VT16crnReokw_front\n",
      "Predicted Meter: 29.0\n",
      "Ground Truth: 30.0\n",
      "Error: 1.0\n",
      "==================================================\n",
      "How far is the gas station away from the camera in meters, rounded to the next meter?\n"
     ]
    },
    {
     "name": "stderr",
     "output_type": "stream",
     "text": [
      "Setting `pad_token_id` to `eos_token_id`:None for open-end generation.\n"
     ]
    },
    {
     "name": "stdout",
     "output_type": "stream",
     "text": [
      "HALLO\n",
      "Item ID: gcev0hxtltoqCuqDffc1Ig_left\n",
      "Predicted Meter: 27.0\n",
      "Ground Truth: 22.0\n",
      "Error: 5.0\n",
      "==================================================\n",
      "How far is the vending machine away from the camera in meters, rounded to the next meter?\n"
     ]
    },
    {
     "name": "stderr",
     "output_type": "stream",
     "text": [
      "Setting `pad_token_id` to `eos_token_id`:None for open-end generation.\n"
     ]
    },
    {
     "name": "stdout",
     "output_type": "stream",
     "text": [
      "HALLO\n",
      "Item ID: QarynNyW6wNqfaYJwWl8mw_left\n",
      "Predicted Meter: 14.0\n",
      "Ground Truth: 24.0\n",
      "Error: 10.0\n",
      "==================================================\n",
      "How far is the gas station away from the camera in meters, rounded to the next meter?\n"
     ]
    },
    {
     "name": "stderr",
     "output_type": "stream",
     "text": [
      "Setting `pad_token_id` to `eos_token_id`:None for open-end generation.\n"
     ]
    },
    {
     "name": "stdout",
     "output_type": "stream",
     "text": [
      "HALLO\n",
      "Item ID: vqLP0uk2AgSU1smrbC9Kvg_right\n",
      "Predicted Meter: 20.0\n",
      "Ground Truth: 12.0\n",
      "Error: 8.0\n",
      "==================================================\n",
      "How far is the vending machine away from the camera in meters, rounded to the next meter?\n"
     ]
    },
    {
     "name": "stderr",
     "output_type": "stream",
     "text": [
      "Setting `pad_token_id` to `eos_token_id`:None for open-end generation.\n"
     ]
    },
    {
     "name": "stdout",
     "output_type": "stream",
     "text": [
      "HALLO\n",
      "Item ID: KcU4SrBPYpdOKOg1GG6tLQ_left\n",
      "Predicted Meter: 14.0\n",
      "Ground Truth: 7.0\n",
      "Error: 7.0\n",
      "==================================================\n",
      "How far is the gas station away from the camera in meters, rounded to the next meter?\n"
     ]
    },
    {
     "name": "stderr",
     "output_type": "stream",
     "text": [
      "Setting `pad_token_id` to `eos_token_id`:None for open-end generation.\n"
     ]
    },
    {
     "name": "stdout",
     "output_type": "stream",
     "text": [
      "HALLO\n",
      "Item ID: fq9dHETPobs-9ThuB39XIA_left\n",
      "Predicted Meter: 27.0\n",
      "Ground Truth: 28.0\n",
      "Error: 1.0\n",
      "==================================================\n",
      "How far is the gas station away from the camera in meters, rounded to the next meter?\n"
     ]
    },
    {
     "name": "stderr",
     "output_type": "stream",
     "text": [
      "Setting `pad_token_id` to `eos_token_id`:None for open-end generation.\n"
     ]
    },
    {
     "name": "stdout",
     "output_type": "stream",
     "text": [
      "HALLO\n",
      "Item ID: De-ve_jLpQ2Qtp8TdV1B7w_back\n",
      "Predicted Meter: 29.0\n",
      "Ground Truth: 26.0\n",
      "Error: 3.0\n",
      "==================================================\n",
      "How far is the gas station away from the camera in meters, rounded to the next meter?\n"
     ]
    },
    {
     "name": "stderr",
     "output_type": "stream",
     "text": [
      "Setting `pad_token_id` to `eos_token_id`:None for open-end generation.\n"
     ]
    },
    {
     "name": "stdout",
     "output_type": "stream",
     "text": [
      "HALLO\n",
      "Item ID: 0zUQyjBxNCgr2m5DcaFD7g_left\n",
      "Predicted Meter: 29.0\n",
      "Ground Truth: 22.0\n",
      "Error: 7.0\n",
      "==================================================\n",
      "How far is the gas station away from the camera in meters, rounded to the next meter?\n"
     ]
    },
    {
     "name": "stderr",
     "output_type": "stream",
     "text": [
      "Setting `pad_token_id` to `eos_token_id`:None for open-end generation.\n"
     ]
    },
    {
     "name": "stdout",
     "output_type": "stream",
     "text": [
      "HALLO\n",
      "Item ID: 9aAQN3uUShfw9hrpyhlJPQ_right\n",
      "Predicted Meter: 27.0\n",
      "Ground Truth: 19.0\n",
      "Error: 8.0\n",
      "==================================================\n",
      "How far is the gas station away from the camera in meters, rounded to the next meter?\n"
     ]
    },
    {
     "name": "stderr",
     "output_type": "stream",
     "text": [
      "Setting `pad_token_id` to `eos_token_id`:None for open-end generation.\n"
     ]
    },
    {
     "name": "stdout",
     "output_type": "stream",
     "text": [
      "HALLO\n",
      "Item ID: 23K2mFVzbr6lgTCY23RSyA_left\n",
      "Predicted Meter: 27.0\n",
      "Ground Truth: 26.0\n",
      "Error: 1.0\n",
      "==================================================\n",
      "How far is the post box away from the camera in meters, rounded to the next meter?\n"
     ]
    },
    {
     "name": "stderr",
     "output_type": "stream",
     "text": [
      "Setting `pad_token_id` to `eos_token_id`:None for open-end generation.\n"
     ]
    },
    {
     "name": "stdout",
     "output_type": "stream",
     "text": [
      "HALLO\n",
      "Item ID: ZtEPmOuKRrXgxN530WjKcQ_left\n",
      "Predicted Meter: 19.0\n",
      "Ground Truth: 25.0\n",
      "Error: 6.0\n",
      "==================================================\n",
      "How far is the gas station away from the camera in meters, rounded to the next meter?\n"
     ]
    },
    {
     "name": "stderr",
     "output_type": "stream",
     "text": [
      "Setting `pad_token_id` to `eos_token_id`:None for open-end generation.\n"
     ]
    },
    {
     "name": "stdout",
     "output_type": "stream",
     "text": [
      "HALLO\n",
      "Item ID: MCT0I-phnpTIdJSHxPtY-g_right\n",
      "Predicted Meter: 27.0\n",
      "Ground Truth: 27.0\n",
      "Error: 0.0\n",
      "==================================================\n",
      "How far is the gas station away from the camera in meters, rounded to the next meter?\n"
     ]
    },
    {
     "name": "stderr",
     "output_type": "stream",
     "text": [
      "Setting `pad_token_id` to `eos_token_id`:None for open-end generation.\n"
     ]
    },
    {
     "name": "stdout",
     "output_type": "stream",
     "text": [
      "HALLO\n",
      "Item ID: mgrFIGd_29iyc-W2Ss-5jw_right\n",
      "Predicted Meter: 29.0\n",
      "Ground Truth: 28.0\n",
      "Error: 1.0\n",
      "==================================================\n",
      "How far is the gas station away from the camera in meters, rounded to the next meter?\n"
     ]
    },
    {
     "name": "stderr",
     "output_type": "stream",
     "text": [
      "Setting `pad_token_id` to `eos_token_id`:None for open-end generation.\n"
     ]
    },
    {
     "name": "stdout",
     "output_type": "stream",
     "text": [
      "HALLO\n",
      "Item ID: mlYvnxD8afYF5Nk-OF586Q_back\n",
      "Predicted Meter: 29.0\n",
      "Ground Truth: 27.0\n",
      "Error: 2.0\n",
      "==================================================\n",
      "How far is the gas station away from the camera in meters, rounded to the next meter?\n"
     ]
    },
    {
     "name": "stderr",
     "output_type": "stream",
     "text": [
      "Setting `pad_token_id` to `eos_token_id`:None for open-end generation.\n"
     ]
    },
    {
     "name": "stdout",
     "output_type": "stream",
     "text": [
      "HALLO\n",
      "Item ID: TiowKAVmIDB9vomUrCEavA_back\n",
      "Predicted Meter: 29.0\n",
      "Ground Truth: 27.0\n",
      "Error: 2.0\n",
      "==================================================\n",
      "How far is the gas station away from the camera in meters, rounded to the next meter?\n"
     ]
    },
    {
     "name": "stderr",
     "output_type": "stream",
     "text": [
      "Setting `pad_token_id` to `eos_token_id`:None for open-end generation.\n"
     ]
    },
    {
     "name": "stdout",
     "output_type": "stream",
     "text": [
      "HALLO\n",
      "Item ID: 5SVYauUAV9ZXo2j86RG9Nw_right\n",
      "Predicted Meter: 20.0\n",
      "Ground Truth: 19.0\n",
      "Error: 1.0\n",
      "==================================================\n",
      "How far is the gas station away from the camera in meters, rounded to the next meter?\n"
     ]
    },
    {
     "name": "stderr",
     "output_type": "stream",
     "text": [
      "Setting `pad_token_id` to `eos_token_id`:None for open-end generation.\n"
     ]
    },
    {
     "name": "stdout",
     "output_type": "stream",
     "text": [
      "HALLO\n",
      "Item ID: Hb7GT5BfydzVAky33nEYWw_right\n",
      "Predicted Meter: 27.0\n",
      "Ground Truth: 28.0\n",
      "Error: 1.0\n",
      "==================================================\n",
      "How far is the gas station away from the camera in meters, rounded to the next meter?\n"
     ]
    },
    {
     "name": "stderr",
     "output_type": "stream",
     "text": [
      "Setting `pad_token_id` to `eos_token_id`:None for open-end generation.\n"
     ]
    },
    {
     "name": "stdout",
     "output_type": "stream",
     "text": [
      "HALLO\n",
      "Item ID: n_-sAWzo-dL9XYZ3UzaYqA_front\n",
      "Predicted Meter: 29.0\n",
      "Ground Truth: 26.0\n",
      "Error: 3.0\n",
      "==================================================\n",
      "How far is the gas station away from the camera in meters, rounded to the next meter?\n"
     ]
    },
    {
     "name": "stderr",
     "output_type": "stream",
     "text": [
      "Setting `pad_token_id` to `eos_token_id`:None for open-end generation.\n"
     ]
    },
    {
     "name": "stdout",
     "output_type": "stream",
     "text": [
      "HALLO\n",
      "Item ID: 8IFkUwxQ62DDv-tOHhqTQg_right\n",
      "Predicted Meter: 28.0\n",
      "Ground Truth: 23.0\n",
      "Error: 5.0\n",
      "==================================================\n",
      "How far is the gas station away from the camera in meters, rounded to the next meter?\n"
     ]
    },
    {
     "name": "stderr",
     "output_type": "stream",
     "text": [
      "Setting `pad_token_id` to `eos_token_id`:None for open-end generation.\n"
     ]
    },
    {
     "name": "stdout",
     "output_type": "stream",
     "text": [
      "HALLO\n",
      "Item ID: t-ObecRVp4gxHXU-c2LqWA_right\n",
      "Predicted Meter: 29.0\n",
      "Ground Truth: 19.0\n",
      "Error: 10.0\n",
      "==================================================\n",
      "How far is the gas station away from the camera in meters, rounded to the next meter?\n"
     ]
    },
    {
     "name": "stderr",
     "output_type": "stream",
     "text": [
      "Setting `pad_token_id` to `eos_token_id`:None for open-end generation.\n"
     ]
    },
    {
     "name": "stdout",
     "output_type": "stream",
     "text": [
      "HALLO\n",
      "Item ID: yX3nYikBoHLy4CRAPIzBug_left\n",
      "Predicted Meter: 29.0\n",
      "Ground Truth: 25.0\n",
      "Error: 4.0\n",
      "==================================================\n",
      "How far is the gas station away from the camera in meters, rounded to the next meter?\n"
     ]
    },
    {
     "name": "stderr",
     "output_type": "stream",
     "text": [
      "Setting `pad_token_id` to `eos_token_id`:None for open-end generation.\n"
     ]
    },
    {
     "name": "stdout",
     "output_type": "stream",
     "text": [
      "HALLO\n",
      "Item ID: 34rhcF7_5z_xCF7rHKL4Ug_left\n",
      "Predicted Meter: 27.0\n",
      "Ground Truth: 25.0\n",
      "Error: 2.0\n",
      "==================================================\n",
      "How far is the gas station away from the camera in meters, rounded to the next meter?\n"
     ]
    },
    {
     "name": "stderr",
     "output_type": "stream",
     "text": [
      "Setting `pad_token_id` to `eos_token_id`:None for open-end generation.\n"
     ]
    },
    {
     "name": "stdout",
     "output_type": "stream",
     "text": [
      "HALLO\n",
      "Item ID: nwRZPegKQEcE9K_vk69Z9Q_left\n",
      "Predicted Meter: 28.0\n",
      "Ground Truth: 29.0\n",
      "Error: 1.0\n",
      "==================================================\n",
      "How far is the gas station away from the camera in meters, rounded to the next meter?\n"
     ]
    },
    {
     "name": "stderr",
     "output_type": "stream",
     "text": [
      "Setting `pad_token_id` to `eos_token_id`:None for open-end generation.\n"
     ]
    },
    {
     "name": "stdout",
     "output_type": "stream",
     "text": [
      "HALLO\n",
      "Item ID: ysT0A7MmG8MHyY5MFjgfzg_left\n",
      "Predicted Meter: 27.0\n",
      "Ground Truth: 30.0\n",
      "Error: 3.0\n",
      "==================================================\n",
      "How far is the gas station away from the camera in meters, rounded to the next meter?\n"
     ]
    },
    {
     "name": "stderr",
     "output_type": "stream",
     "text": [
      "Setting `pad_token_id` to `eos_token_id`:None for open-end generation.\n"
     ]
    },
    {
     "name": "stdout",
     "output_type": "stream",
     "text": [
      "HALLO\n",
      "Item ID: hUKSWoNyPXipTtKRMMVNpw_left\n",
      "Predicted Meter: 29.0\n",
      "Ground Truth: 22.0\n",
      "Error: 7.0\n",
      "==================================================\n",
      "How far is the post box away from the camera in meters, rounded to the next meter?\n"
     ]
    },
    {
     "name": "stderr",
     "output_type": "stream",
     "text": [
      "Setting `pad_token_id` to `eos_token_id`:None for open-end generation.\n"
     ]
    },
    {
     "name": "stdout",
     "output_type": "stream",
     "text": [
      "HALLO\n",
      "Item ID: P11gxo_aHViVXuN2TI1OHg_back\n",
      "Predicted Meter: 15.0\n",
      "Ground Truth: 20.0\n",
      "Error: 5.0\n",
      "==================================================\n",
      "How far is the gas station away from the camera in meters, rounded to the next meter?\n"
     ]
    },
    {
     "name": "stderr",
     "output_type": "stream",
     "text": [
      "Setting `pad_token_id` to `eos_token_id`:None for open-end generation.\n"
     ]
    },
    {
     "name": "stdout",
     "output_type": "stream",
     "text": [
      "HALLO\n",
      "Item ID: yk32zNW_DJiLkXyl-tAW1Q_front\n",
      "Predicted Meter: 29.0\n",
      "Ground Truth: 30.0\n",
      "Error: 1.0\n",
      "==================================================\n",
      "How far is the gas station away from the camera in meters, rounded to the next meter?\n"
     ]
    },
    {
     "name": "stderr",
     "output_type": "stream",
     "text": [
      "Setting `pad_token_id` to `eos_token_id`:None for open-end generation.\n"
     ]
    },
    {
     "name": "stdout",
     "output_type": "stream",
     "text": [
      "HALLO\n",
      "Item ID: rn5P8mSyhi_XnmRqx6nBKQ_left\n",
      "Predicted Meter: 27.0\n",
      "Ground Truth: 23.0\n",
      "Error: 4.0\n",
      "==================================================\n",
      "How far is the gas station away from the camera in meters, rounded to the next meter?\n"
     ]
    },
    {
     "name": "stderr",
     "output_type": "stream",
     "text": [
      "Setting `pad_token_id` to `eos_token_id`:None for open-end generation.\n"
     ]
    },
    {
     "name": "stdout",
     "output_type": "stream",
     "text": [
      "HALLO\n",
      "Item ID: f6f84yNmkf8dSKmA1WLL7g_right\n",
      "Predicted Meter: 27.0\n",
      "Ground Truth: 21.0\n",
      "Error: 6.0\n",
      "==================================================\n",
      "How far is the gas station away from the camera in meters, rounded to the next meter?\n"
     ]
    },
    {
     "name": "stderr",
     "output_type": "stream",
     "text": [
      "Setting `pad_token_id` to `eos_token_id`:None for open-end generation.\n"
     ]
    },
    {
     "name": "stdout",
     "output_type": "stream",
     "text": [
      "HALLO\n",
      "Item ID: 6rMd7Pu3dPDxfKH2hLr2cg_back\n",
      "Predicted Meter: 29.0\n",
      "Ground Truth: 13.0\n",
      "Error: 16.0\n",
      "==================================================\n",
      "How far is the vending machine away from the camera in meters, rounded to the next meter?\n"
     ]
    },
    {
     "name": "stderr",
     "output_type": "stream",
     "text": [
      "Setting `pad_token_id` to `eos_token_id`:None for open-end generation.\n"
     ]
    },
    {
     "name": "stdout",
     "output_type": "stream",
     "text": [
      "HALLO\n",
      "Item ID: gfnR0b6W1zb84NAfdD8sLQ_right\n",
      "Predicted Meter: 14.0\n",
      "Ground Truth: 21.0\n",
      "Error: 7.0\n",
      "==================================================\n",
      "How far is the gas station away from the camera in meters, rounded to the next meter?\n"
     ]
    },
    {
     "name": "stderr",
     "output_type": "stream",
     "text": [
      "Setting `pad_token_id` to `eos_token_id`:None for open-end generation.\n"
     ]
    },
    {
     "name": "stdout",
     "output_type": "stream",
     "text": [
      "HALLO\n",
      "Item ID: IC6kW3S7XTym0qyTt0JbHQ_left\n",
      "Predicted Meter: 29.0\n",
      "Ground Truth: 30.0\n",
      "Error: 1.0\n",
      "==================================================\n",
      "How far is the gas station away from the camera in meters, rounded to the next meter?\n"
     ]
    },
    {
     "name": "stderr",
     "output_type": "stream",
     "text": [
      "Setting `pad_token_id` to `eos_token_id`:None for open-end generation.\n"
     ]
    },
    {
     "name": "stdout",
     "output_type": "stream",
     "text": [
      "HALLO\n",
      "Item ID: dONIwocp2GAJUXZYYG83Kw_right\n",
      "Predicted Meter: 27.0\n",
      "Ground Truth: 26.0\n",
      "Error: 1.0\n",
      "==================================================\n",
      "How far is the gas station away from the camera in meters, rounded to the next meter?\n"
     ]
    },
    {
     "name": "stderr",
     "output_type": "stream",
     "text": [
      "Setting `pad_token_id` to `eos_token_id`:None for open-end generation.\n"
     ]
    },
    {
     "name": "stdout",
     "output_type": "stream",
     "text": [
      "HALLO\n",
      "Item ID: jzPv_XRZOHrODSl7I9CQ3g_right\n",
      "Predicted Meter: 22.0\n",
      "Ground Truth: 26.0\n",
      "Error: 4.0\n",
      "==================================================\n",
      "How far is the gas station away from the camera in meters, rounded to the next meter?\n"
     ]
    },
    {
     "name": "stderr",
     "output_type": "stream",
     "text": [
      "Setting `pad_token_id` to `eos_token_id`:None for open-end generation.\n"
     ]
    },
    {
     "name": "stdout",
     "output_type": "stream",
     "text": [
      "HALLO\n",
      "Item ID: 3DIZja3YjsiL-kIvWohenw_right\n",
      "Predicted Meter: 27.0\n",
      "Ground Truth: 26.0\n",
      "Error: 1.0\n",
      "==================================================\n",
      "How far is the gas station away from the camera in meters, rounded to the next meter?\n"
     ]
    },
    {
     "name": "stderr",
     "output_type": "stream",
     "text": [
      "Setting `pad_token_id` to `eos_token_id`:None for open-end generation.\n"
     ]
    },
    {
     "name": "stdout",
     "output_type": "stream",
     "text": [
      "HALLO\n",
      "Item ID: fPyAVSl8mmbPEKbvzZXbtQ_right\n",
      "Predicted Meter: 27.0\n",
      "Ground Truth: 18.0\n",
      "Error: 9.0\n",
      "==================================================\n",
      "How far is the gas station away from the camera in meters, rounded to the next meter?\n"
     ]
    },
    {
     "name": "stderr",
     "output_type": "stream",
     "text": [
      "Setting `pad_token_id` to `eos_token_id`:None for open-end generation.\n"
     ]
    },
    {
     "name": "stdout",
     "output_type": "stream",
     "text": [
      "HALLO\n",
      "Item ID: mjFLZisPjatDeki9c5acEg_back\n",
      "Predicted Meter: 29.0\n",
      "Ground Truth: 20.0\n",
      "Error: 9.0\n",
      "==================================================\n",
      "How far is the gas station away from the camera in meters, rounded to the next meter?\n"
     ]
    },
    {
     "name": "stderr",
     "output_type": "stream",
     "text": [
      "Setting `pad_token_id` to `eos_token_id`:None for open-end generation.\n"
     ]
    },
    {
     "name": "stdout",
     "output_type": "stream",
     "text": [
      "HALLO\n",
      "Item ID: SA7K9gTIMdwmXDTsDcBM6Q_right\n",
      "Predicted Meter: 27.0\n",
      "Ground Truth: 19.0\n",
      "Error: 8.0\n",
      "==================================================\n",
      "How far is the gas station away from the camera in meters, rounded to the next meter?\n"
     ]
    },
    {
     "name": "stderr",
     "output_type": "stream",
     "text": [
      "Setting `pad_token_id` to `eos_token_id`:None for open-end generation.\n"
     ]
    },
    {
     "name": "stdout",
     "output_type": "stream",
     "text": [
      "HALLO\n",
      "Item ID: ELejaWw7AULkc0v0Of43yQ_left\n",
      "Predicted Meter: 27.0\n",
      "Ground Truth: 22.0\n",
      "Error: 5.0\n",
      "==================================================\n",
      "How far is the gas station away from the camera in meters, rounded to the next meter?\n"
     ]
    },
    {
     "name": "stderr",
     "output_type": "stream",
     "text": [
      "Setting `pad_token_id` to `eos_token_id`:None for open-end generation.\n"
     ]
    },
    {
     "name": "stdout",
     "output_type": "stream",
     "text": [
      "HALLO\n",
      "Item ID: bIHH-_IXF2ik1ynh9n06zQ_right\n",
      "Predicted Meter: 22.0\n",
      "Ground Truth: 22.0\n",
      "Error: 0.0\n",
      "==================================================\n",
      "How far is the gas station away from the camera in meters, rounded to the next meter?\n"
     ]
    },
    {
     "name": "stderr",
     "output_type": "stream",
     "text": [
      "Setting `pad_token_id` to `eos_token_id`:None for open-end generation.\n"
     ]
    },
    {
     "name": "stdout",
     "output_type": "stream",
     "text": [
      "HALLO\n",
      "Item ID: mzltktb5OGPPKPAWlC_fCA_back\n",
      "Predicted Meter: 29.0\n",
      "Ground Truth: 23.0\n",
      "Error: 6.0\n",
      "==================================================\n",
      "How far is the gas station away from the camera in meters, rounded to the next meter?\n"
     ]
    },
    {
     "name": "stderr",
     "output_type": "stream",
     "text": [
      "Setting `pad_token_id` to `eos_token_id`:None for open-end generation.\n"
     ]
    },
    {
     "name": "stdout",
     "output_type": "stream",
     "text": [
      "HALLO\n",
      "Item ID: BBpzL8ql3kRAEMJpc1_HGw_right\n",
      "Predicted Meter: 29.0\n",
      "Ground Truth: 24.0\n",
      "Error: 5.0\n",
      "==================================================\n",
      "How far is the gas station away from the camera in meters, rounded to the next meter?\n"
     ]
    },
    {
     "name": "stderr",
     "output_type": "stream",
     "text": [
      "Setting `pad_token_id` to `eos_token_id`:None for open-end generation.\n"
     ]
    },
    {
     "name": "stdout",
     "output_type": "stream",
     "text": [
      "HALLO\n",
      "Item ID: A9S-KxBLUmMgIGQZMvhxBw_front\n",
      "Predicted Meter: 29.0\n",
      "Ground Truth: 28.0\n",
      "Error: 1.0\n",
      "==================================================\n",
      "How far is the gas station away from the camera in meters, rounded to the next meter?\n"
     ]
    },
    {
     "name": "stderr",
     "output_type": "stream",
     "text": [
      "Setting `pad_token_id` to `eos_token_id`:None for open-end generation.\n"
     ]
    },
    {
     "name": "stdout",
     "output_type": "stream",
     "text": [
      "HALLO\n",
      "Item ID: gmliVFMV0b8_cmZ-QyDEAQ_front\n",
      "Predicted Meter: 29.0\n",
      "Ground Truth: 19.0\n",
      "Error: 10.0\n",
      "==================================================\n",
      "How far is the gas station away from the camera in meters, rounded to the next meter?\n"
     ]
    },
    {
     "name": "stderr",
     "output_type": "stream",
     "text": [
      "Setting `pad_token_id` to `eos_token_id`:None for open-end generation.\n"
     ]
    },
    {
     "name": "stdout",
     "output_type": "stream",
     "text": [
      "HALLO\n",
      "Item ID: 7gGp2SI0dsnSkN-JuQiesw_back\n",
      "Predicted Meter: 29.0\n",
      "Ground Truth: 25.0\n",
      "Error: 4.0\n",
      "==================================================\n",
      "How far is the gas station away from the camera in meters, rounded to the next meter?\n"
     ]
    },
    {
     "name": "stderr",
     "output_type": "stream",
     "text": [
      "Setting `pad_token_id` to `eos_token_id`:None for open-end generation.\n"
     ]
    },
    {
     "name": "stdout",
     "output_type": "stream",
     "text": [
      "HALLO\n",
      "Item ID: 4UYo98GXL__fsXn5Hx4CPQ_back\n",
      "Predicted Meter: 29.0\n",
      "Ground Truth: 26.0\n",
      "Error: 3.0\n",
      "==================================================\n",
      "How far is the post box away from the camera in meters, rounded to the next meter?\n"
     ]
    },
    {
     "name": "stderr",
     "output_type": "stream",
     "text": [
      "Setting `pad_token_id` to `eos_token_id`:None for open-end generation.\n"
     ]
    },
    {
     "name": "stdout",
     "output_type": "stream",
     "text": [
      "HALLO\n",
      "Item ID: QArcg6Bp7lO81QVYjAfhPg_front\n",
      "Predicted Meter: 17.0\n",
      "Ground Truth: 16.0\n",
      "Error: 1.0\n",
      "==================================================\n",
      "How far is the gas station away from the camera in meters, rounded to the next meter?\n"
     ]
    },
    {
     "name": "stderr",
     "output_type": "stream",
     "text": [
      "Setting `pad_token_id` to `eos_token_id`:None for open-end generation.\n"
     ]
    },
    {
     "name": "stdout",
     "output_type": "stream",
     "text": [
      "HALLO\n",
      "Item ID: O45aphvvSoBaD8agtIVz7w_right\n",
      "Predicted Meter: 28.0\n",
      "Ground Truth: 21.0\n",
      "Error: 7.0\n",
      "==================================================\n",
      "How far is the gas station away from the camera in meters, rounded to the next meter?\n"
     ]
    },
    {
     "name": "stderr",
     "output_type": "stream",
     "text": [
      "Setting `pad_token_id` to `eos_token_id`:None for open-end generation.\n"
     ]
    },
    {
     "name": "stdout",
     "output_type": "stream",
     "text": [
      "HALLO\n",
      "Item ID: _nYEhvKAIDtrvoRFpCSuBQ_front\n",
      "Predicted Meter: 29.0\n",
      "Ground Truth: 29.0\n",
      "Error: 0.0\n",
      "==================================================\n",
      "How far is the gas station away from the camera in meters, rounded to the next meter?\n"
     ]
    },
    {
     "name": "stderr",
     "output_type": "stream",
     "text": [
      "Setting `pad_token_id` to `eos_token_id`:None for open-end generation.\n"
     ]
    },
    {
     "name": "stdout",
     "output_type": "stream",
     "text": [
      "HALLO\n",
      "Item ID: gLMnHJfMVfS176MkMVYWxA_left\n",
      "Predicted Meter: 27.0\n",
      "Ground Truth: 24.0\n",
      "Error: 3.0\n",
      "==================================================\n",
      "How far is the gas station away from the camera in meters, rounded to the next meter?\n"
     ]
    },
    {
     "name": "stderr",
     "output_type": "stream",
     "text": [
      "Setting `pad_token_id` to `eos_token_id`:None for open-end generation.\n"
     ]
    },
    {
     "name": "stdout",
     "output_type": "stream",
     "text": [
      "HALLO\n",
      "Item ID: uixXcPpyT06jWktX7LvdUg_right\n",
      "Predicted Meter: 29.0\n",
      "Ground Truth: 22.0\n",
      "Error: 7.0\n",
      "==================================================\n",
      "How far is the gas station away from the camera in meters, rounded to the next meter?\n"
     ]
    },
    {
     "name": "stderr",
     "output_type": "stream",
     "text": [
      "Setting `pad_token_id` to `eos_token_id`:None for open-end generation.\n"
     ]
    },
    {
     "name": "stdout",
     "output_type": "stream",
     "text": [
      "HALLO\n",
      "Item ID: 2qEcuuJ-XtAJsGDEnh0VYg_right\n",
      "Predicted Meter: 27.0\n",
      "Ground Truth: 23.0\n",
      "Error: 4.0\n",
      "==================================================\n",
      "How far is the gas station away from the camera in meters, rounded to the next meter?\n"
     ]
    },
    {
     "name": "stderr",
     "output_type": "stream",
     "text": [
      "Setting `pad_token_id` to `eos_token_id`:None for open-end generation.\n"
     ]
    },
    {
     "name": "stdout",
     "output_type": "stream",
     "text": [
      "HALLO\n",
      "Item ID: kzpGP0MnxjLXTR0OLJsUWg_left\n",
      "Predicted Meter: 27.0\n",
      "Ground Truth: 28.0\n",
      "Error: 1.0\n",
      "==================================================\n",
      "How far is the gas station away from the camera in meters, rounded to the next meter?\n"
     ]
    },
    {
     "name": "stderr",
     "output_type": "stream",
     "text": [
      "Setting `pad_token_id` to `eos_token_id`:None for open-end generation.\n"
     ]
    },
    {
     "name": "stdout",
     "output_type": "stream",
     "text": [
      "HALLO\n",
      "Item ID: h_pdMobutR1b38Ek1Yf24Q_front\n",
      "Predicted Meter: 29.0\n",
      "Ground Truth: 18.0\n",
      "Error: 11.0\n",
      "==================================================\n",
      "How far is the gas station away from the camera in meters, rounded to the next meter?\n"
     ]
    },
    {
     "name": "stderr",
     "output_type": "stream",
     "text": [
      "Setting `pad_token_id` to `eos_token_id`:None for open-end generation.\n"
     ]
    },
    {
     "name": "stdout",
     "output_type": "stream",
     "text": [
      "HALLO\n",
      "Item ID: 1CFhl2zw8_wpjV8SaYekZA_right\n",
      "Predicted Meter: 29.0\n",
      "Ground Truth: 27.0\n",
      "Error: 2.0\n",
      "==================================================\n",
      "How far is the gas station away from the camera in meters, rounded to the next meter?\n"
     ]
    },
    {
     "name": "stderr",
     "output_type": "stream",
     "text": [
      "Setting `pad_token_id` to `eos_token_id`:None for open-end generation.\n"
     ]
    },
    {
     "name": "stdout",
     "output_type": "stream",
     "text": [
      "HALLO\n",
      "Item ID: jU6X-KpYz18pt96XJ-YoeQ_right\n",
      "Predicted Meter: 14.0\n",
      "Ground Truth: 25.0\n",
      "Error: 11.0\n",
      "==================================================\n",
      "How far is the gas station away from the camera in meters, rounded to the next meter?\n"
     ]
    },
    {
     "name": "stderr",
     "output_type": "stream",
     "text": [
      "Setting `pad_token_id` to `eos_token_id`:None for open-end generation.\n"
     ]
    },
    {
     "name": "stdout",
     "output_type": "stream",
     "text": [
      "HALLO\n",
      "Item ID: TrZtzGlvyG_QmyhBJBma4A_right\n",
      "Predicted Meter: 29.0\n",
      "Ground Truth: 21.0\n",
      "Error: 8.0\n",
      "==================================================\n",
      "How far is the gas station away from the camera in meters, rounded to the next meter?\n"
     ]
    },
    {
     "name": "stderr",
     "output_type": "stream",
     "text": [
      "Setting `pad_token_id` to `eos_token_id`:None for open-end generation.\n"
     ]
    },
    {
     "name": "stdout",
     "output_type": "stream",
     "text": [
      "HALLO\n",
      "Item ID: Y1OMmLWmRqjyAP7zn4TGNA_right\n",
      "Predicted Meter: 28.0\n",
      "Ground Truth: 20.0\n",
      "Error: 8.0\n",
      "==================================================\n",
      "How far is the gas station away from the camera in meters, rounded to the next meter?\n"
     ]
    },
    {
     "name": "stderr",
     "output_type": "stream",
     "text": [
      "Setting `pad_token_id` to `eos_token_id`:None for open-end generation.\n"
     ]
    },
    {
     "name": "stdout",
     "output_type": "stream",
     "text": [
      "HALLO\n",
      "Item ID: CzHuqJTBB29Mj10Tf-vG_A_left\n",
      "Predicted Meter: 27.0\n",
      "Ground Truth: 24.0\n",
      "Error: 3.0\n",
      "==================================================\n",
      "How far is the gas station away from the camera in meters, rounded to the next meter?\n"
     ]
    },
    {
     "name": "stderr",
     "output_type": "stream",
     "text": [
      "Setting `pad_token_id` to `eos_token_id`:None for open-end generation.\n"
     ]
    },
    {
     "name": "stdout",
     "output_type": "stream",
     "text": [
      "HALLO\n",
      "Item ID: 3k16AWQgqv40UC3T2pxpRA_right\n",
      "Predicted Meter: 29.0\n",
      "Ground Truth: 25.0\n",
      "Error: 4.0\n",
      "==================================================\n",
      "How far is the gas station away from the camera in meters, rounded to the next meter?\n"
     ]
    },
    {
     "name": "stderr",
     "output_type": "stream",
     "text": [
      "Setting `pad_token_id` to `eos_token_id`:None for open-end generation.\n"
     ]
    },
    {
     "name": "stdout",
     "output_type": "stream",
     "text": [
      "HALLO\n",
      "Item ID: pksYc6IzkoN8GUhDj0LDpQ_right\n",
      "Predicted Meter: 27.0\n",
      "Ground Truth: 27.0\n",
      "Error: 0.0\n",
      "==================================================\n",
      "How far is the gas station away from the camera in meters, rounded to the next meter?\n"
     ]
    },
    {
     "name": "stderr",
     "output_type": "stream",
     "text": [
      "Setting `pad_token_id` to `eos_token_id`:None for open-end generation.\n"
     ]
    },
    {
     "name": "stdout",
     "output_type": "stream",
     "text": [
      "HALLO\n",
      "Item ID: 9vadzEjIYIdbpVS1SXgiuA_front\n",
      "Predicted Meter: 29.0\n",
      "Ground Truth: 26.0\n",
      "Error: 3.0\n",
      "==================================================\n",
      "How far is the gas station away from the camera in meters, rounded to the next meter?\n"
     ]
    },
    {
     "name": "stderr",
     "output_type": "stream",
     "text": [
      "Setting `pad_token_id` to `eos_token_id`:None for open-end generation.\n"
     ]
    },
    {
     "name": "stdout",
     "output_type": "stream",
     "text": [
      "HALLO\n",
      "Item ID: 4K-t0ms7NlOyQIs6n4V0hg_right\n",
      "Predicted Meter: 29.0\n",
      "Ground Truth: 30.0\n",
      "Error: 1.0\n",
      "==================================================\n",
      "How far is the gas station away from the camera in meters, rounded to the next meter?\n"
     ]
    },
    {
     "name": "stderr",
     "output_type": "stream",
     "text": [
      "Setting `pad_token_id` to `eos_token_id`:None for open-end generation.\n"
     ]
    },
    {
     "name": "stdout",
     "output_type": "stream",
     "text": [
      "HALLO\n",
      "Item ID: 5NGOlsI3ydBDw0VOZ79c2A_right\n",
      "Predicted Meter: 22.0\n",
      "Ground Truth: 24.0\n",
      "Error: 2.0\n",
      "==================================================\n",
      "How far is the gas station away from the camera in meters, rounded to the next meter?\n"
     ]
    },
    {
     "name": "stderr",
     "output_type": "stream",
     "text": [
      "Setting `pad_token_id` to `eos_token_id`:None for open-end generation.\n"
     ]
    },
    {
     "name": "stdout",
     "output_type": "stream",
     "text": [
      "HALLO\n",
      "Item ID: 9jetR7KxoqyH2uA45eUhZA_right\n",
      "Predicted Meter: 22.0\n",
      "Ground Truth: 13.0\n",
      "Error: 9.0\n",
      "==================================================\n",
      "How far is the atm away from the camera in meters, rounded to the next meter?\n"
     ]
    },
    {
     "name": "stderr",
     "output_type": "stream",
     "text": [
      "Setting `pad_token_id` to `eos_token_id`:None for open-end generation.\n"
     ]
    },
    {
     "name": "stdout",
     "output_type": "stream",
     "text": [
      "HALLO\n",
      "Item ID: fNup96_l6Q9_7sMN3jSYSA_back\n",
      "Predicted Meter: 15.0\n",
      "Ground Truth: 17.0\n",
      "Error: 2.0\n",
      "==================================================\n",
      "How far is the gas station away from the camera in meters, rounded to the next meter?\n"
     ]
    },
    {
     "name": "stderr",
     "output_type": "stream",
     "text": [
      "Setting `pad_token_id` to `eos_token_id`:None for open-end generation.\n"
     ]
    },
    {
     "name": "stdout",
     "output_type": "stream",
     "text": [
      "HALLO\n",
      "Item ID: StE2fFKWlxq5oOY9TLzqaQ_right\n",
      "Predicted Meter: 27.0\n",
      "Ground Truth: 14.0\n",
      "Error: 13.0\n",
      "==================================================\n",
      "How far is the gas station away from the camera in meters, rounded to the next meter?\n"
     ]
    },
    {
     "name": "stderr",
     "output_type": "stream",
     "text": [
      "Setting `pad_token_id` to `eos_token_id`:None for open-end generation.\n"
     ]
    },
    {
     "name": "stdout",
     "output_type": "stream",
     "text": [
      "HALLO\n",
      "Item ID: Qz18uRHUrVtSIBcwaI6big_right\n",
      "Predicted Meter: 29.0\n",
      "Ground Truth: 26.0\n",
      "Error: 3.0\n",
      "==================================================\n",
      "How far is the post box away from the camera in meters, rounded to the next meter?\n"
     ]
    },
    {
     "name": "stderr",
     "output_type": "stream",
     "text": [
      "Setting `pad_token_id` to `eos_token_id`:None for open-end generation.\n"
     ]
    },
    {
     "name": "stdout",
     "output_type": "stream",
     "text": [
      "HALLO\n",
      "Item ID: 1N4oepZ2Tdx0RiMNW70Emg_right\n",
      "Predicted Meter: 6.0\n",
      "Ground Truth: 7.0\n",
      "Error: 1.0\n",
      "==================================================\n",
      "How far is the post box away from the camera in meters, rounded to the next meter?\n"
     ]
    },
    {
     "name": "stderr",
     "output_type": "stream",
     "text": [
      "Setting `pad_token_id` to `eos_token_id`:None for open-end generation.\n"
     ]
    },
    {
     "name": "stdout",
     "output_type": "stream",
     "text": [
      "HALLO\n",
      "Item ID: Wwz8TuQs25BR7pV6ZLxHIA_left\n",
      "Predicted Meter: 15.0\n",
      "Ground Truth: 21.0\n",
      "Error: 6.0\n",
      "==================================================\n",
      "How far is the large waste dumpster away from the camera in meters, rounded to the next meter?\n"
     ]
    },
    {
     "name": "stderr",
     "output_type": "stream",
     "text": [
      "Setting `pad_token_id` to `eos_token_id`:None for open-end generation.\n"
     ]
    },
    {
     "name": "stdout",
     "output_type": "stream",
     "text": [
      "HALLO\n",
      "Item ID: w7E4-o_FBl46aJR4nygWKA_left\n",
      "Predicted Meter: 28.0\n",
      "Ground Truth: 27.0\n",
      "Error: 1.0\n",
      "==================================================\n",
      "How far is the gas station away from the camera in meters, rounded to the next meter?\n"
     ]
    },
    {
     "name": "stderr",
     "output_type": "stream",
     "text": [
      "Setting `pad_token_id` to `eos_token_id`:None for open-end generation.\n"
     ]
    },
    {
     "name": "stdout",
     "output_type": "stream",
     "text": [
      "HALLO\n",
      "Item ID: EJyxn_BdvstB7aQW5qtXHA_right\n",
      "Predicted Meter: 27.0\n",
      "Ground Truth: 29.0\n",
      "Error: 2.0\n",
      "==================================================\n",
      "How far is the gas station away from the camera in meters, rounded to the next meter?\n"
     ]
    },
    {
     "name": "stderr",
     "output_type": "stream",
     "text": [
      "Setting `pad_token_id` to `eos_token_id`:None for open-end generation.\n"
     ]
    },
    {
     "name": "stdout",
     "output_type": "stream",
     "text": [
      "HALLO\n",
      "Item ID: hPHfaOJAMuZoaAeHKwGt0Q_right\n",
      "Predicted Meter: 27.0\n",
      "Ground Truth: 23.0\n",
      "Error: 4.0\n",
      "==================================================\n",
      "How far is the gas station away from the camera in meters, rounded to the next meter?\n"
     ]
    },
    {
     "name": "stderr",
     "output_type": "stream",
     "text": [
      "Setting `pad_token_id` to `eos_token_id`:None for open-end generation.\n"
     ]
    },
    {
     "name": "stdout",
     "output_type": "stream",
     "text": [
      "HALLO\n",
      "Item ID: Y2LqquXdxkG6CERz_G6Nlg_left\n",
      "Predicted Meter: 27.0\n",
      "Ground Truth: 25.0\n",
      "Error: 2.0\n",
      "==================================================\n",
      "How far is the gas station away from the camera in meters, rounded to the next meter?\n"
     ]
    },
    {
     "name": "stderr",
     "output_type": "stream",
     "text": [
      "Setting `pad_token_id` to `eos_token_id`:None for open-end generation.\n"
     ]
    },
    {
     "name": "stdout",
     "output_type": "stream",
     "text": [
      "HALLO\n",
      "Item ID: VKDduK1sl3OF7ekMGjEI_Q_right\n",
      "Predicted Meter: 27.0\n",
      "Ground Truth: 25.0\n",
      "Error: 2.0\n",
      "==================================================\n",
      "How far is the gas station away from the camera in meters, rounded to the next meter?\n"
     ]
    },
    {
     "name": "stderr",
     "output_type": "stream",
     "text": [
      "Setting `pad_token_id` to `eos_token_id`:None for open-end generation.\n"
     ]
    },
    {
     "name": "stdout",
     "output_type": "stream",
     "text": [
      "HALLO\n",
      "Item ID: pVT3i-VC8DKKHxxGzGM1Gw_front\n",
      "Predicted Meter: 29.0\n",
      "Ground Truth: 22.0\n",
      "Error: 7.0\n",
      "==================================================\n",
      "How far is the gas station away from the camera in meters, rounded to the next meter?\n"
     ]
    },
    {
     "name": "stderr",
     "output_type": "stream",
     "text": [
      "Setting `pad_token_id` to `eos_token_id`:None for open-end generation.\n"
     ]
    },
    {
     "name": "stdout",
     "output_type": "stream",
     "text": [
      "HALLO\n",
      "Item ID: QByx_5dPkZWspXNMrVlJCQ_left\n",
      "Predicted Meter: 27.0\n",
      "Ground Truth: 28.0\n",
      "Error: 1.0\n",
      "==================================================\n",
      "How far is the gas station away from the camera in meters, rounded to the next meter?\n"
     ]
    },
    {
     "name": "stderr",
     "output_type": "stream",
     "text": [
      "Setting `pad_token_id` to `eos_token_id`:None for open-end generation.\n"
     ]
    },
    {
     "name": "stdout",
     "output_type": "stream",
     "text": [
      "HALLO\n",
      "Item ID: sAX1efN-2Q1WTVF2Slt0Vg_right\n",
      "Predicted Meter: 14.0\n",
      "Ground Truth: 16.0\n",
      "Error: 2.0\n",
      "==================================================\n",
      "How far is the gas station away from the camera in meters, rounded to the next meter?\n"
     ]
    },
    {
     "name": "stderr",
     "output_type": "stream",
     "text": [
      "Setting `pad_token_id` to `eos_token_id`:None for open-end generation.\n"
     ]
    },
    {
     "name": "stdout",
     "output_type": "stream",
     "text": [
      "HALLO\n",
      "Item ID: B2xQQNnGkZTxyQWXhWUjjA_right\n",
      "Predicted Meter: 22.0\n",
      "Ground Truth: 18.0\n",
      "Error: 4.0\n",
      "==================================================\n",
      "How far is the gas station away from the camera in meters, rounded to the next meter?\n"
     ]
    },
    {
     "name": "stderr",
     "output_type": "stream",
     "text": [
      "Setting `pad_token_id` to `eos_token_id`:None for open-end generation.\n"
     ]
    },
    {
     "name": "stdout",
     "output_type": "stream",
     "text": [
      "HALLO\n",
      "Item ID: zlVVWK2209dwiSv-jkQ7mA_right\n",
      "Predicted Meter: 22.0\n",
      "Ground Truth: 18.0\n",
      "Error: 4.0\n",
      "==================================================\n",
      "How far is the gas station away from the camera in meters, rounded to the next meter?\n"
     ]
    },
    {
     "name": "stderr",
     "output_type": "stream",
     "text": [
      "Setting `pad_token_id` to `eos_token_id`:None for open-end generation.\n"
     ]
    },
    {
     "name": "stdout",
     "output_type": "stream",
     "text": [
      "HALLO\n",
      "Item ID: PSXKhfo_2-cixnRnrkWgug_right\n",
      "Predicted Meter: 27.0\n",
      "Ground Truth: 20.0\n",
      "Error: 7.0\n",
      "==================================================\n",
      "How far is the gas station away from the camera in meters, rounded to the next meter?\n"
     ]
    },
    {
     "name": "stderr",
     "output_type": "stream",
     "text": [
      "Setting `pad_token_id` to `eos_token_id`:None for open-end generation.\n"
     ]
    },
    {
     "name": "stdout",
     "output_type": "stream",
     "text": [
      "HALLO\n",
      "Item ID: 60vORc94qejRLoePlhyhoA_left\n",
      "Predicted Meter: 29.0\n",
      "Ground Truth: 27.0\n",
      "Error: 2.0\n",
      "==================================================\n",
      "How far is the gas station away from the camera in meters, rounded to the next meter?\n"
     ]
    },
    {
     "name": "stderr",
     "output_type": "stream",
     "text": [
      "Setting `pad_token_id` to `eos_token_id`:None for open-end generation.\n"
     ]
    },
    {
     "name": "stdout",
     "output_type": "stream",
     "text": [
      "HALLO\n",
      "Item ID: trCU9ky8rsxm4mMv4NGTxg_left\n",
      "Predicted Meter: 28.0\n",
      "Ground Truth: 19.0\n",
      "Error: 9.0\n",
      "==================================================\n",
      "How far is the gas station away from the camera in meters, rounded to the next meter?\n"
     ]
    },
    {
     "name": "stderr",
     "output_type": "stream",
     "text": [
      "Setting `pad_token_id` to `eos_token_id`:None for open-end generation.\n"
     ]
    },
    {
     "name": "stdout",
     "output_type": "stream",
     "text": [
      "HALLO\n",
      "Item ID: yqPszzxqxHCcIjL-v3WSWA_right\n",
      "Predicted Meter: 29.0\n",
      "Ground Truth: 24.0\n",
      "Error: 5.0\n",
      "==================================================\n",
      "How far is the gas station away from the camera in meters, rounded to the next meter?\n"
     ]
    },
    {
     "name": "stderr",
     "output_type": "stream",
     "text": [
      "Setting `pad_token_id` to `eos_token_id`:None for open-end generation.\n"
     ]
    },
    {
     "name": "stdout",
     "output_type": "stream",
     "text": [
      "HALLO\n",
      "Item ID: LpCUToI7Cvgkq0ILdMjfqQ_right\n",
      "Predicted Meter: 28.0\n",
      "Ground Truth: 24.0\n",
      "Error: 4.0\n",
      "==================================================\n",
      "How far is the gas station away from the camera in meters, rounded to the next meter?\n"
     ]
    },
    {
     "name": "stderr",
     "output_type": "stream",
     "text": [
      "Setting `pad_token_id` to `eos_token_id`:None for open-end generation.\n"
     ]
    },
    {
     "name": "stdout",
     "output_type": "stream",
     "text": [
      "HALLO\n",
      "Item ID: h9fvBHcx4BJ4zNUEwixmOw_back\n",
      "Predicted Meter: 27.0\n",
      "Ground Truth: 29.0\n",
      "Error: 2.0\n",
      "==================================================\n",
      "How far is the gas station away from the camera in meters, rounded to the next meter?\n"
     ]
    },
    {
     "name": "stderr",
     "output_type": "stream",
     "text": [
      "Setting `pad_token_id` to `eos_token_id`:None for open-end generation.\n"
     ]
    },
    {
     "name": "stdout",
     "output_type": "stream",
     "text": [
      "HALLO\n",
      "Item ID: AJz20_6wSjeKoUZmfq-X2A_right\n",
      "Predicted Meter: 29.0\n",
      "Ground Truth: 18.0\n",
      "Error: 11.0\n",
      "==================================================\n",
      "How far is the gas station away from the camera in meters, rounded to the next meter?\n"
     ]
    },
    {
     "name": "stderr",
     "output_type": "stream",
     "text": [
      "Setting `pad_token_id` to `eos_token_id`:None for open-end generation.\n"
     ]
    },
    {
     "name": "stdout",
     "output_type": "stream",
     "text": [
      "HALLO\n",
      "Item ID: i5WVC6hZreMrj25W7QzYRw_back\n",
      "Predicted Meter: 29.0\n",
      "Ground Truth: 23.0\n",
      "Error: 6.0\n",
      "==================================================\n",
      "How far is the gas station away from the camera in meters, rounded to the next meter?\n"
     ]
    },
    {
     "name": "stderr",
     "output_type": "stream",
     "text": [
      "Setting `pad_token_id` to `eos_token_id`:None for open-end generation.\n"
     ]
    },
    {
     "name": "stdout",
     "output_type": "stream",
     "text": [
      "HALLO\n",
      "Item ID: ZdiVojc1dtotNExOp58x5A_left\n",
      "Predicted Meter: 27.0\n",
      "Ground Truth: 26.0\n",
      "Error: 1.0\n",
      "==================================================\n",
      "How far is the gas station away from the camera in meters, rounded to the next meter?\n"
     ]
    },
    {
     "name": "stderr",
     "output_type": "stream",
     "text": [
      "Setting `pad_token_id` to `eos_token_id`:None for open-end generation.\n"
     ]
    },
    {
     "name": "stdout",
     "output_type": "stream",
     "text": [
      "HALLO\n",
      "Item ID: 60vORc94qejRLoePlhyhoA_right\n",
      "Predicted Meter: 27.0\n",
      "Ground Truth: 27.0\n",
      "Error: 0.0\n",
      "==================================================\n",
      "How far is the gas station away from the camera in meters, rounded to the next meter?\n"
     ]
    },
    {
     "name": "stderr",
     "output_type": "stream",
     "text": [
      "Setting `pad_token_id` to `eos_token_id`:None for open-end generation.\n"
     ]
    },
    {
     "name": "stdout",
     "output_type": "stream",
     "text": [
      "HALLO\n",
      "Item ID: 8vYyJMHE_ay2QBvq6RIX5g_back\n",
      "Predicted Meter: 29.0\n",
      "Ground Truth: 28.0\n",
      "Error: 1.0\n",
      "==================================================\n",
      "How far is the electric charging station away from the camera in meters, rounded to the next meter?\n"
     ]
    },
    {
     "name": "stderr",
     "output_type": "stream",
     "text": [
      "Setting `pad_token_id` to `eos_token_id`:None for open-end generation.\n"
     ]
    },
    {
     "name": "stdout",
     "output_type": "stream",
     "text": [
      "HALLO\n",
      "Item ID: ycFZ9QwrUeciEE2HSrFAeQ_right\n",
      "Predicted Meter: 28.0\n",
      "Ground Truth: 12.0\n",
      "Error: 16.0\n",
      "==================================================\n",
      "How far is the gas station away from the camera in meters, rounded to the next meter?\n"
     ]
    },
    {
     "name": "stderr",
     "output_type": "stream",
     "text": [
      "Setting `pad_token_id` to `eos_token_id`:None for open-end generation.\n"
     ]
    },
    {
     "name": "stdout",
     "output_type": "stream",
     "text": [
      "HALLO\n",
      "Item ID: 1Y7B1JQtBHVe2iPrAiM-eg_front\n",
      "Predicted Meter: 29.0\n",
      "Ground Truth: 29.0\n",
      "Error: 0.0\n",
      "==================================================\n",
      "How far is the gas station away from the camera in meters, rounded to the next meter?\n"
     ]
    },
    {
     "name": "stderr",
     "output_type": "stream",
     "text": [
      "Setting `pad_token_id` to `eos_token_id`:None for open-end generation.\n"
     ]
    },
    {
     "name": "stdout",
     "output_type": "stream",
     "text": [
      "HALLO\n",
      "Item ID: 7UXQIVV4UHo3-oDPm7qELQ_right\n",
      "Predicted Meter: 27.0\n",
      "Ground Truth: 22.0\n",
      "Error: 5.0\n",
      "==================================================\n",
      "How far is the gas station away from the camera in meters, rounded to the next meter?\n"
     ]
    },
    {
     "name": "stderr",
     "output_type": "stream",
     "text": [
      "Setting `pad_token_id` to `eos_token_id`:None for open-end generation.\n"
     ]
    },
    {
     "name": "stdout",
     "output_type": "stream",
     "text": [
      "HALLO\n",
      "Item ID: axGFVJ1krhsn6mC28ooKVA_front\n",
      "Predicted Meter: 27.0\n",
      "Ground Truth: 29.0\n",
      "Error: 2.0\n",
      "==================================================\n",
      "How far is the gas station away from the camera in meters, rounded to the next meter?\n"
     ]
    },
    {
     "name": "stderr",
     "output_type": "stream",
     "text": [
      "Setting `pad_token_id` to `eos_token_id`:None for open-end generation.\n"
     ]
    },
    {
     "name": "stdout",
     "output_type": "stream",
     "text": [
      "HALLO\n",
      "Item ID: 2M7SYVOfLnMuDXYnW8FfEQ_back\n",
      "Predicted Meter: 29.0\n",
      "Ground Truth: 24.0\n",
      "Error: 5.0\n",
      "==================================================\n",
      "How far is the gas station away from the camera in meters, rounded to the next meter?\n"
     ]
    },
    {
     "name": "stderr",
     "output_type": "stream",
     "text": [
      "Setting `pad_token_id` to `eos_token_id`:None for open-end generation.\n"
     ]
    },
    {
     "name": "stdout",
     "output_type": "stream",
     "text": [
      "HALLO\n",
      "Item ID: 4K-t0ms7NlOyQIs6n4V0hg_back\n",
      "Predicted Meter: 29.0\n",
      "Ground Truth: 30.0\n",
      "Error: 1.0\n",
      "==================================================\n",
      "How far is the gas station away from the camera in meters, rounded to the next meter?\n"
     ]
    },
    {
     "name": "stderr",
     "output_type": "stream",
     "text": [
      "Setting `pad_token_id` to `eos_token_id`:None for open-end generation.\n"
     ]
    },
    {
     "name": "stdout",
     "output_type": "stream",
     "text": [
      "HALLO\n",
      "Item ID: MS8ZruXv6pKGYFtg62uMpg_back\n",
      "Predicted Meter: 27.0\n",
      "Ground Truth: 27.0\n",
      "Error: 0.0\n",
      "==================================================\n",
      "How far is the gas station away from the camera in meters, rounded to the next meter?\n"
     ]
    },
    {
     "name": "stderr",
     "output_type": "stream",
     "text": [
      "Setting `pad_token_id` to `eos_token_id`:None for open-end generation.\n"
     ]
    },
    {
     "name": "stdout",
     "output_type": "stream",
     "text": [
      "HALLO\n",
      "Item ID: q57H2cmymr1Ixjb9MbCfPQ_right\n",
      "Predicted Meter: 27.0\n",
      "Ground Truth: 23.0\n",
      "Error: 4.0\n",
      "==================================================\n",
      "How far is the gas station away from the camera in meters, rounded to the next meter?\n"
     ]
    },
    {
     "name": "stderr",
     "output_type": "stream",
     "text": [
      "Setting `pad_token_id` to `eos_token_id`:None for open-end generation.\n"
     ]
    },
    {
     "name": "stdout",
     "output_type": "stream",
     "text": [
      "HALLO\n",
      "Item ID: EdEUoTTAcuM9cNcu08a1nw_left\n",
      "Predicted Meter: 27.0\n",
      "Ground Truth: 19.0\n",
      "Error: 8.0\n",
      "==================================================\n",
      "How far is the gas station away from the camera in meters, rounded to the next meter?\n"
     ]
    },
    {
     "name": "stderr",
     "output_type": "stream",
     "text": [
      "Setting `pad_token_id` to `eos_token_id`:None for open-end generation.\n"
     ]
    },
    {
     "name": "stdout",
     "output_type": "stream",
     "text": [
      "HALLO\n",
      "Item ID: NkjfX-IG5Qw8M_p_clCO4A_left\n",
      "Predicted Meter: 29.0\n",
      "Ground Truth: 28.0\n",
      "Error: 1.0\n",
      "==================================================\n",
      "How far is the gas station away from the camera in meters, rounded to the next meter?\n"
     ]
    },
    {
     "name": "stderr",
     "output_type": "stream",
     "text": [
      "Setting `pad_token_id` to `eos_token_id`:None for open-end generation.\n"
     ]
    },
    {
     "name": "stdout",
     "output_type": "stream",
     "text": [
      "HALLO\n",
      "Item ID: dInyxmFH1E4YJXjzmHFDHg_left\n",
      "Predicted Meter: 27.0\n",
      "Ground Truth: 29.0\n",
      "Error: 2.0\n",
      "==================================================\n",
      "How far is the gas station away from the camera in meters, rounded to the next meter?\n"
     ]
    },
    {
     "name": "stderr",
     "output_type": "stream",
     "text": [
      "Setting `pad_token_id` to `eos_token_id`:None for open-end generation.\n"
     ]
    },
    {
     "name": "stdout",
     "output_type": "stream",
     "text": [
      "HALLO\n",
      "Item ID: cTPFfgZ4KkUXKHzMddF7Bg_left\n",
      "Predicted Meter: 27.0\n",
      "Ground Truth: 22.0\n",
      "Error: 5.0\n",
      "==================================================\n",
      "How far is the gas station away from the camera in meters, rounded to the next meter?\n"
     ]
    },
    {
     "name": "stderr",
     "output_type": "stream",
     "text": [
      "Setting `pad_token_id` to `eos_token_id`:None for open-end generation.\n"
     ]
    },
    {
     "name": "stdout",
     "output_type": "stream",
     "text": [
      "HALLO\n",
      "Item ID: 1LGPz7B3vJ2IT1Qm_2nytw_front\n",
      "Predicted Meter: 29.0\n",
      "Ground Truth: 22.0\n",
      "Error: 7.0\n",
      "==================================================\n",
      "How far is the gas station away from the camera in meters, rounded to the next meter?\n"
     ]
    },
    {
     "name": "stderr",
     "output_type": "stream",
     "text": [
      "Setting `pad_token_id` to `eos_token_id`:None for open-end generation.\n"
     ]
    },
    {
     "name": "stdout",
     "output_type": "stream",
     "text": [
      "HALLO\n",
      "Item ID: JpCaP2v70FtqJJGeXyjDdw_front\n",
      "Predicted Meter: 29.0\n",
      "Ground Truth: 19.0\n",
      "Error: 10.0\n",
      "==================================================\n",
      "How far is the gas station away from the camera in meters, rounded to the next meter?\n"
     ]
    },
    {
     "name": "stderr",
     "output_type": "stream",
     "text": [
      "Setting `pad_token_id` to `eos_token_id`:None for open-end generation.\n"
     ]
    },
    {
     "name": "stdout",
     "output_type": "stream",
     "text": [
      "HALLO\n",
      "Item ID: KP7OmYZuuX5T0O8CQGFFWg_back\n",
      "Predicted Meter: 29.0\n",
      "Ground Truth: 15.0\n",
      "Error: 14.0\n",
      "==================================================\n",
      "How far is the gas station away from the camera in meters, rounded to the next meter?\n"
     ]
    },
    {
     "name": "stderr",
     "output_type": "stream",
     "text": [
      "Setting `pad_token_id` to `eos_token_id`:None for open-end generation.\n"
     ]
    },
    {
     "name": "stdout",
     "output_type": "stream",
     "text": [
      "HALLO\n",
      "Item ID: KtvPeGrsVIBkeHq8DsJfhQ_right\n",
      "Predicted Meter: 29.0\n",
      "Ground Truth: 28.0\n",
      "Error: 1.0\n",
      "==================================================\n",
      "How far is the gas station away from the camera in meters, rounded to the next meter?\n"
     ]
    },
    {
     "name": "stderr",
     "output_type": "stream",
     "text": [
      "Setting `pad_token_id` to `eos_token_id`:None for open-end generation.\n"
     ]
    },
    {
     "name": "stdout",
     "output_type": "stream",
     "text": [
      "HALLO\n",
      "Item ID: 2pj56we2AFhPUcV36gq4dw_left\n",
      "Predicted Meter: 27.0\n",
      "Ground Truth: 22.0\n",
      "Error: 5.0\n",
      "==================================================\n",
      "How far is the gas station away from the camera in meters, rounded to the next meter?\n"
     ]
    },
    {
     "name": "stderr",
     "output_type": "stream",
     "text": [
      "Setting `pad_token_id` to `eos_token_id`:None for open-end generation.\n"
     ]
    },
    {
     "name": "stdout",
     "output_type": "stream",
     "text": [
      "HALLO\n",
      "Item ID: yKjJVY-QcL8B72FWucki9A_back\n",
      "Predicted Meter: 14.0\n",
      "Ground Truth: 7.0\n",
      "Error: 7.0\n",
      "==================================================\n",
      "How far is the gas station away from the camera in meters, rounded to the next meter?\n"
     ]
    },
    {
     "name": "stderr",
     "output_type": "stream",
     "text": [
      "Setting `pad_token_id` to `eos_token_id`:None for open-end generation.\n"
     ]
    },
    {
     "name": "stdout",
     "output_type": "stream",
     "text": [
      "HALLO\n",
      "Item ID: X7F2k-IYYxWQONqJvKFAUA_right\n",
      "Predicted Meter: 27.0\n",
      "Ground Truth: 26.0\n",
      "Error: 1.0\n",
      "==================================================\n",
      "How far is the post box away from the camera in meters, rounded to the next meter?\n"
     ]
    },
    {
     "name": "stderr",
     "output_type": "stream",
     "text": [
      "Setting `pad_token_id` to `eos_token_id`:None for open-end generation.\n"
     ]
    },
    {
     "name": "stdout",
     "output_type": "stream",
     "text": [
      "HALLO\n",
      "Item ID: D-QBRj4cortWyDiYEUHvsw_right\n",
      "Predicted Meter: 10.0\n",
      "Ground Truth: 6.0\n",
      "Error: 4.0\n",
      "==================================================\n",
      "How far is the gas station away from the camera in meters, rounded to the next meter?\n"
     ]
    },
    {
     "name": "stderr",
     "output_type": "stream",
     "text": [
      "Setting `pad_token_id` to `eos_token_id`:None for open-end generation.\n"
     ]
    },
    {
     "name": "stdout",
     "output_type": "stream",
     "text": [
      "HALLO\n",
      "Item ID: b9NFY5tRuunJ3jBmVf7UBA_right\n",
      "Predicted Meter: 27.0\n",
      "Ground Truth: 21.0\n",
      "Error: 6.0\n",
      "==================================================\n",
      "How far is the gas station away from the camera in meters, rounded to the next meter?\n"
     ]
    },
    {
     "name": "stderr",
     "output_type": "stream",
     "text": [
      "Setting `pad_token_id` to `eos_token_id`:None for open-end generation.\n"
     ]
    },
    {
     "name": "stdout",
     "output_type": "stream",
     "text": [
      "HALLO\n",
      "Item ID: dGxsDZMbA6DXA4d1Pq0Bjg_front\n",
      "Predicted Meter: 29.0\n",
      "Ground Truth: 22.0\n",
      "Error: 7.0\n",
      "==================================================\n",
      "How far is the gas station away from the camera in meters, rounded to the next meter?\n"
     ]
    },
    {
     "name": "stderr",
     "output_type": "stream",
     "text": [
      "Setting `pad_token_id` to `eos_token_id`:None for open-end generation.\n"
     ]
    },
    {
     "name": "stdout",
     "output_type": "stream",
     "text": [
      "HALLO\n",
      "Item ID: ZpIKRM0lVXkIYHKNeJ-PSw_right\n",
      "Predicted Meter: 27.0\n",
      "Ground Truth: 24.0\n",
      "Error: 3.0\n",
      "==================================================\n",
      "How far is the gas station away from the camera in meters, rounded to the next meter?\n"
     ]
    },
    {
     "name": "stderr",
     "output_type": "stream",
     "text": [
      "Setting `pad_token_id` to `eos_token_id`:None for open-end generation.\n"
     ]
    },
    {
     "name": "stdout",
     "output_type": "stream",
     "text": [
      "HALLO\n",
      "Item ID: Pplmiyt2a4ebn8hP0nc70A_right\n",
      "Predicted Meter: 20.0\n",
      "Ground Truth: 21.0\n",
      "Error: 1.0\n",
      "==================================================\n",
      "How far is the post box away from the camera in meters, rounded to the next meter?\n"
     ]
    },
    {
     "name": "stderr",
     "output_type": "stream",
     "text": [
      "Setting `pad_token_id` to `eos_token_id`:None for open-end generation.\n"
     ]
    },
    {
     "name": "stdout",
     "output_type": "stream",
     "text": [
      "HALLO\n",
      "Item ID: 1C1eS9jrHwDToiIteIZqgQ_right\n",
      "Predicted Meter: 15.0\n",
      "Ground Truth: 17.0\n",
      "Error: 2.0\n",
      "==================================================\n",
      "How far is the large waste dumpster away from the camera in meters, rounded to the next meter?\n"
     ]
    },
    {
     "name": "stderr",
     "output_type": "stream",
     "text": [
      "Setting `pad_token_id` to `eos_token_id`:None for open-end generation.\n"
     ]
    },
    {
     "name": "stdout",
     "output_type": "stream",
     "text": [
      "HALLO\n",
      "Item ID: luxAA4b_ND2ueb7anI88BA_back\n",
      "Predicted Meter: 28.0\n",
      "Ground Truth: 16.0\n",
      "Error: 12.0\n",
      "==================================================\n",
      "How far is the gas station away from the camera in meters, rounded to the next meter?\n"
     ]
    },
    {
     "name": "stderr",
     "output_type": "stream",
     "text": [
      "Setting `pad_token_id` to `eos_token_id`:None for open-end generation.\n"
     ]
    },
    {
     "name": "stdout",
     "output_type": "stream",
     "text": [
      "HALLO\n",
      "Item ID: Pplmiyt2a4ebn8hP0nc70A_back\n",
      "Predicted Meter: 29.0\n",
      "Ground Truth: 21.0\n",
      "Error: 8.0\n",
      "==================================================\n",
      "How far is the gas station away from the camera in meters, rounded to the next meter?\n"
     ]
    },
    {
     "name": "stderr",
     "output_type": "stream",
     "text": [
      "Setting `pad_token_id` to `eos_token_id`:None for open-end generation.\n"
     ]
    },
    {
     "name": "stdout",
     "output_type": "stream",
     "text": [
      "HALLO\n",
      "Item ID: Qy7K-TboLcgUyUupDtMgKQ_right\n",
      "Predicted Meter: 27.0\n",
      "Ground Truth: 26.0\n",
      "Error: 1.0\n",
      "==================================================\n",
      "How far is the gas station away from the camera in meters, rounded to the next meter?\n"
     ]
    },
    {
     "name": "stderr",
     "output_type": "stream",
     "text": [
      "Setting `pad_token_id` to `eos_token_id`:None for open-end generation.\n"
     ]
    },
    {
     "name": "stdout",
     "output_type": "stream",
     "text": [
      "HALLO\n",
      "Item ID: mqpRUiJoeyjpoVAjiEiKMQ_front\n",
      "Predicted Meter: 29.0\n",
      "Ground Truth: 22.0\n",
      "Error: 7.0\n",
      "==================================================\n",
      "How far is the gas station away from the camera in meters, rounded to the next meter?\n"
     ]
    },
    {
     "name": "stderr",
     "output_type": "stream",
     "text": [
      "Setting `pad_token_id` to `eos_token_id`:None for open-end generation.\n"
     ]
    },
    {
     "name": "stdout",
     "output_type": "stream",
     "text": [
      "HALLO\n",
      "Item ID: cE0sa5qCriI6GUBYMcyKeg_right\n",
      "Predicted Meter: 29.0\n",
      "Ground Truth: 25.0\n",
      "Error: 4.0\n",
      "==================================================\n",
      "How far is the gas station away from the camera in meters, rounded to the next meter?\n"
     ]
    },
    {
     "name": "stderr",
     "output_type": "stream",
     "text": [
      "Setting `pad_token_id` to `eos_token_id`:None for open-end generation.\n"
     ]
    },
    {
     "name": "stdout",
     "output_type": "stream",
     "text": [
      "HALLO\n",
      "Item ID: jU6X-KpYz18pt96XJ-YoeQ_back\n",
      "Predicted Meter: 29.0\n",
      "Ground Truth: 25.0\n",
      "Error: 4.0\n",
      "==================================================\n",
      "How far is the gas station away from the camera in meters, rounded to the next meter?\n"
     ]
    },
    {
     "name": "stderr",
     "output_type": "stream",
     "text": [
      "Setting `pad_token_id` to `eos_token_id`:None for open-end generation.\n"
     ]
    },
    {
     "name": "stdout",
     "output_type": "stream",
     "text": [
      "HALLO\n",
      "Item ID: sw8Il_kg3VTkg4hfRAqhgg_left\n",
      "Predicted Meter: 29.0\n",
      "Ground Truth: 29.0\n",
      "Error: 0.0\n",
      "==================================================\n",
      "How far is the gas station away from the camera in meters, rounded to the next meter?\n"
     ]
    },
    {
     "name": "stderr",
     "output_type": "stream",
     "text": [
      "Setting `pad_token_id` to `eos_token_id`:None for open-end generation.\n"
     ]
    },
    {
     "name": "stdout",
     "output_type": "stream",
     "text": [
      "HALLO\n",
      "Item ID: wNMjdSqgpzj6j72V6oMMUg_right\n",
      "Predicted Meter: 27.0\n",
      "Ground Truth: 29.0\n",
      "Error: 2.0\n",
      "==================================================\n",
      "How far is the post box away from the camera in meters, rounded to the next meter?\n"
     ]
    },
    {
     "name": "stderr",
     "output_type": "stream",
     "text": [
      "Setting `pad_token_id` to `eos_token_id`:None for open-end generation.\n"
     ]
    },
    {
     "name": "stdout",
     "output_type": "stream",
     "text": [
      "HALLO\n",
      "Item ID: C72ymm34PyRc2OruySafpQ_left\n",
      "Predicted Meter: 14.0\n",
      "Ground Truth: 15.0\n",
      "Error: 1.0\n",
      "==================================================\n",
      "How far is the gas station away from the camera in meters, rounded to the next meter?\n"
     ]
    },
    {
     "name": "stderr",
     "output_type": "stream",
     "text": [
      "Setting `pad_token_id` to `eos_token_id`:None for open-end generation.\n"
     ]
    },
    {
     "name": "stdout",
     "output_type": "stream",
     "text": [
      "HALLO\n",
      "Item ID: tL1cMj27xoKEUPU8emSdSQ_right\n",
      "Predicted Meter: 20.0\n",
      "Ground Truth: 22.0\n",
      "Error: 2.0\n",
      "==================================================\n",
      "How far is the gas station away from the camera in meters, rounded to the next meter?\n"
     ]
    },
    {
     "name": "stderr",
     "output_type": "stream",
     "text": [
      "Setting `pad_token_id` to `eos_token_id`:None for open-end generation.\n"
     ]
    },
    {
     "name": "stdout",
     "output_type": "stream",
     "text": [
      "HALLO\n",
      "Item ID: 1KKSCQJLKYDDK3KSdFkHdw_right\n",
      "Predicted Meter: 27.0\n",
      "Ground Truth: 23.0\n",
      "Error: 4.0\n",
      "==================================================\n",
      "How far is the gas station away from the camera in meters, rounded to the next meter?\n",
      "HALLO\n",
      "Item ID: l7wQW6Nrj2lN4nrgHrVA0g_left\n",
      "Predicted Meter: 29.0\n",
      "Ground Truth: 26.0\n",
      "Error: 3.0\n",
      "==================================================\n",
      "Results saved to res/llava_onevision_7b_inference.csv\n"
     ]
    }
   ],
   "source": [
    "finetuned_model = LlavaOnevisionForConditionalGeneration.from_pretrained(\n",
    "    \"/hpi/fs00/scratch/liudvikas.zekas/checkpoints/llava-onevision-7b-ov_lora-True_qlora-False-custom\", \n",
    "    torch_dtype=\"auto\",\n",
    "    low_cpu_mem_usage=True, \n",
    "    cache_dir=\"/hpi/fs00/scratch/liudvikas.zekas/.cache\"\n",
    ").to(0)\n",
    "\n",
    "print(\"=== Inference using the Finetuned Qwen Model ===\")\n",
    "df_finetuned = run_llava_inference_on_dataset(finetuned_model, processor, test_json_path, image_root, \"llava_onevision_7b_inference\")\n",
    "\n",
    "# Clean up.\n",
    "del finetuned_model"
   ]
  },
  {
   "cell_type": "code",
   "execution_count": 10,
   "id": "4a9f0602-a222-4ab8-9185-1484cd2021b1",
   "metadata": {},
   "outputs": [
    {
     "name": "stderr",
     "output_type": "stream",
     "text": [
      "Setting `pad_token_id` to `eos_token_id`:None for open-end generation.\n"
     ]
    },
    {
     "name": "stdout",
     "output_type": "stream",
     "text": [
      "=== Inference using the Base onevision Model ===\n",
      "How far is the gas station away from the camera in meters, rounded to the next meter?\n"
     ]
    },
    {
     "name": "stderr",
     "output_type": "stream",
     "text": [
      "Setting `pad_token_id` to `eos_token_id`:None for open-end generation.\n"
     ]
    },
    {
     "name": "stdout",
     "output_type": "stream",
     "text": [
      "HALLO\n",
      "Item ID: ugebwzaohO3D7XbW343_qA_back\n",
      "Predicted Meter: 1.0\n",
      "Ground Truth: 30.0\n",
      "Error: 29.0\n",
      "==================================================\n",
      "How far is the post box away from the camera in meters, rounded to the next meter?\n"
     ]
    },
    {
     "name": "stderr",
     "output_type": "stream",
     "text": [
      "Setting `pad_token_id` to `eos_token_id`:None for open-end generation.\n"
     ]
    },
    {
     "name": "stdout",
     "output_type": "stream",
     "text": [
      "HALLO\n",
      "Item ID: qz33ZhqXW5DY-2hPzv2CMQ_back\n",
      "Predicted Meter: 1.0\n",
      "Ground Truth: 10.0\n",
      "Error: 9.0\n",
      "==================================================\n",
      "How far is the gas station away from the camera in meters, rounded to the next meter?\n"
     ]
    },
    {
     "name": "stderr",
     "output_type": "stream",
     "text": [
      "Setting `pad_token_id` to `eos_token_id`:None for open-end generation.\n"
     ]
    },
    {
     "name": "stdout",
     "output_type": "stream",
     "text": [
      "HALLO\n",
      "Item ID: z3ndUO5NBsQdcR6Onfs8kw_right\n",
      "Predicted Meter: 1.0\n",
      "Ground Truth: 27.0\n",
      "Error: 26.0\n",
      "==================================================\n",
      "How far is the gas station away from the camera in meters, rounded to the next meter?\n"
     ]
    },
    {
     "name": "stderr",
     "output_type": "stream",
     "text": [
      "Setting `pad_token_id` to `eos_token_id`:None for open-end generation.\n"
     ]
    },
    {
     "name": "stdout",
     "output_type": "stream",
     "text": [
      "HALLO\n",
      "Item ID: Tx4CWkxiDU1xV7-uZ6lLrw_right\n",
      "Predicted Meter: 1.0\n",
      "Ground Truth: 25.0\n",
      "Error: 24.0\n",
      "==================================================\n",
      "How far is the gas station away from the camera in meters, rounded to the next meter?\n"
     ]
    },
    {
     "name": "stderr",
     "output_type": "stream",
     "text": [
      "Setting `pad_token_id` to `eos_token_id`:None for open-end generation.\n"
     ]
    },
    {
     "name": "stdout",
     "output_type": "stream",
     "text": [
      "HALLO\n",
      "Item ID: 8QVoY6NmGZBiZz1qi5irCQ_left\n",
      "Predicted Meter: 1.0\n",
      "Ground Truth: 25.0\n",
      "Error: 24.0\n",
      "==================================================\n",
      "How far is the gas station away from the camera in meters, rounded to the next meter?\n"
     ]
    },
    {
     "name": "stderr",
     "output_type": "stream",
     "text": [
      "Setting `pad_token_id` to `eos_token_id`:None for open-end generation.\n"
     ]
    },
    {
     "name": "stdout",
     "output_type": "stream",
     "text": [
      "HALLO\n",
      "Item ID: BBpzL8ql3kRAEMJpc1_HGw_right\n",
      "Predicted Meter: 1.0\n",
      "Ground Truth: 24.0\n",
      "Error: 23.0\n",
      "==================================================\n",
      "How far is the gas station away from the camera in meters, rounded to the next meter?\n"
     ]
    },
    {
     "name": "stderr",
     "output_type": "stream",
     "text": [
      "Setting `pad_token_id` to `eos_token_id`:None for open-end generation.\n"
     ]
    },
    {
     "name": "stdout",
     "output_type": "stream",
     "text": [
      "HALLO\n",
      "Item ID: r-yGTE7GDoTFE49DyCJOQw_front\n",
      "Predicted Meter: 1.0\n",
      "Ground Truth: 25.0\n",
      "Error: 24.0\n",
      "==================================================\n",
      "How far is the gas station away from the camera in meters, rounded to the next meter?\n"
     ]
    },
    {
     "name": "stderr",
     "output_type": "stream",
     "text": [
      "Setting `pad_token_id` to `eos_token_id`:None for open-end generation.\n"
     ]
    },
    {
     "name": "stdout",
     "output_type": "stream",
     "text": [
      "HALLO\n",
      "Item ID: eC7O22NYV9d6KWGMa4vR7A_front\n",
      "Predicted Meter: 329.0\n",
      "Ground Truth: 21.0\n",
      "Error: 308.0\n",
      "==================================================\n",
      "How far is the gas station away from the camera in meters, rounded to the next meter?\n"
     ]
    },
    {
     "name": "stderr",
     "output_type": "stream",
     "text": [
      "Setting `pad_token_id` to `eos_token_id`:None for open-end generation.\n"
     ]
    },
    {
     "name": "stdout",
     "output_type": "stream",
     "text": [
      "HALLO\n",
      "Item ID: mGq1XR8eBPbK9_J0gOAOlQ_back\n",
      "Predicted Meter: 1.0\n",
      "Ground Truth: 26.0\n",
      "Error: 25.0\n",
      "==================================================\n",
      "How far is the gas station away from the camera in meters, rounded to the next meter?\n"
     ]
    },
    {
     "name": "stderr",
     "output_type": "stream",
     "text": [
      "Setting `pad_token_id` to `eos_token_id`:None for open-end generation.\n"
     ]
    },
    {
     "name": "stdout",
     "output_type": "stream",
     "text": [
      "HALLO\n",
      "Item ID: 8oe-e2AHXuj3E1JMMp7LUQ_back\n",
      "Predicted Meter: 1.0\n",
      "Ground Truth: 20.0\n",
      "Error: 19.0\n",
      "==================================================\n",
      "How far is the gas station away from the camera in meters, rounded to the next meter?\n"
     ]
    },
    {
     "name": "stderr",
     "output_type": "stream",
     "text": [
      "Setting `pad_token_id` to `eos_token_id`:None for open-end generation.\n"
     ]
    },
    {
     "name": "stdout",
     "output_type": "stream",
     "text": [
      "HALLO\n",
      "Item ID: Aita8sR2NtHUJE-mmnR5eA_right\n",
      "Predicted Meter: 1.0\n",
      "Ground Truth: 26.0\n",
      "Error: 25.0\n",
      "==================================================\n",
      "How far is the gas station away from the camera in meters, rounded to the next meter?\n"
     ]
    },
    {
     "name": "stderr",
     "output_type": "stream",
     "text": [
      "Setting `pad_token_id` to `eos_token_id`:None for open-end generation.\n"
     ]
    },
    {
     "name": "stdout",
     "output_type": "stream",
     "text": [
      "HALLO\n",
      "Item ID: UFsdG3hTkVymziyC-ZxMYQ_left\n",
      "Predicted Meter: 1.0\n",
      "Ground Truth: 29.0\n",
      "Error: 28.0\n",
      "==================================================\n",
      "How far is the post box away from the camera in meters, rounded to the next meter?\n"
     ]
    },
    {
     "name": "stderr",
     "output_type": "stream",
     "text": [
      "Setting `pad_token_id` to `eos_token_id`:None for open-end generation.\n"
     ]
    },
    {
     "name": "stdout",
     "output_type": "stream",
     "text": [
      "HALLO\n",
      "Item ID: R9dD-rTZG17YN-mnL9kvpQ_right\n",
      "Predicted Meter: 1.0\n",
      "Ground Truth: 28.0\n",
      "Error: 27.0\n",
      "==================================================\n",
      "How far is the large waste dumpster away from the camera in meters, rounded to the next meter?\n"
     ]
    },
    {
     "name": "stderr",
     "output_type": "stream",
     "text": [
      "Setting `pad_token_id` to `eos_token_id`:None for open-end generation.\n"
     ]
    },
    {
     "name": "stdout",
     "output_type": "stream",
     "text": [
      "HALLO\n",
      "Item ID: iGoMMW3J_lxftnHeOXACmA_front\n",
      "Predicted Meter: 1.0\n",
      "Ground Truth: 24.0\n",
      "Error: 23.0\n",
      "==================================================\n",
      "How far is the gas station away from the camera in meters, rounded to the next meter?\n"
     ]
    },
    {
     "name": "stderr",
     "output_type": "stream",
     "text": [
      "Setting `pad_token_id` to `eos_token_id`:None for open-end generation.\n"
     ]
    },
    {
     "name": "stdout",
     "output_type": "stream",
     "text": [
      "HALLO\n",
      "Item ID: YJHBrKidMhT7l8QarqnQiQ_right\n",
      "Predicted Meter: 1.0\n",
      "Ground Truth: 28.0\n",
      "Error: 27.0\n",
      "==================================================\n",
      "How far is the vending machine away from the camera in meters, rounded to the next meter?\n"
     ]
    },
    {
     "name": "stderr",
     "output_type": "stream",
     "text": [
      "Setting `pad_token_id` to `eos_token_id`:None for open-end generation.\n"
     ]
    },
    {
     "name": "stdout",
     "output_type": "stream",
     "text": [
      "HALLO\n",
      "Item ID: Q5uPvNi_9o7WZoOzLpPs3A_right\n",
      "Predicted Meter: 1.0\n",
      "Ground Truth: 25.0\n",
      "Error: 24.0\n",
      "==================================================\n",
      "How far is the gas station away from the camera in meters, rounded to the next meter?\n"
     ]
    },
    {
     "name": "stderr",
     "output_type": "stream",
     "text": [
      "Setting `pad_token_id` to `eos_token_id`:None for open-end generation.\n"
     ]
    },
    {
     "name": "stdout",
     "output_type": "stream",
     "text": [
      "HALLO\n",
      "Item ID: 2k_tvKZMASA2E5VbB0GaXQ_back\n",
      "Predicted Meter: 1.0\n",
      "Ground Truth: 29.0\n",
      "Error: 28.0\n",
      "==================================================\n",
      "How far is the gas station away from the camera in meters, rounded to the next meter?\n"
     ]
    },
    {
     "name": "stderr",
     "output_type": "stream",
     "text": [
      "Setting `pad_token_id` to `eos_token_id`:None for open-end generation.\n"
     ]
    },
    {
     "name": "stdout",
     "output_type": "stream",
     "text": [
      "HALLO\n",
      "Item ID: eQ-gEUsyOXA85uoFC-ftWQ_right\n",
      "Predicted Meter: 1.0\n",
      "Ground Truth: 28.0\n",
      "Error: 27.0\n",
      "==================================================\n",
      "How far is the gas station away from the camera in meters, rounded to the next meter?\n"
     ]
    },
    {
     "name": "stderr",
     "output_type": "stream",
     "text": [
      "Setting `pad_token_id` to `eos_token_id`:None for open-end generation.\n"
     ]
    },
    {
     "name": "stdout",
     "output_type": "stream",
     "text": [
      "HALLO\n",
      "Item ID: BCLppoUZzUo1hHwOXlMFdw_right\n",
      "Predicted Meter: 1.0\n",
      "Ground Truth: 24.0\n",
      "Error: 23.0\n",
      "==================================================\n",
      "How far is the large waste dumpster away from the camera in meters, rounded to the next meter?\n"
     ]
    },
    {
     "name": "stderr",
     "output_type": "stream",
     "text": [
      "Setting `pad_token_id` to `eos_token_id`:None for open-end generation.\n"
     ]
    },
    {
     "name": "stdout",
     "output_type": "stream",
     "text": [
      "HALLO\n",
      "Item ID: -3SAmGjbIQXzZTfUtGeakw_right\n",
      "Predicted Meter: 1.0\n",
      "Ground Truth: 22.0\n",
      "Error: 21.0\n",
      "==================================================\n",
      "How far is the post box away from the camera in meters, rounded to the next meter?\n"
     ]
    },
    {
     "name": "stderr",
     "output_type": "stream",
     "text": [
      "Setting `pad_token_id` to `eos_token_id`:None for open-end generation.\n"
     ]
    },
    {
     "name": "stdout",
     "output_type": "stream",
     "text": [
      "HALLO\n",
      "Item ID: WSAWFRhBUpcfb5K_IyDjmQ_right\n",
      "Predicted Meter: 1.0\n",
      "Ground Truth: 15.0\n",
      "Error: 14.0\n",
      "==================================================\n",
      "How far is the gas station away from the camera in meters, rounded to the next meter?\n"
     ]
    },
    {
     "name": "stderr",
     "output_type": "stream",
     "text": [
      "Setting `pad_token_id` to `eos_token_id`:None for open-end generation.\n"
     ]
    },
    {
     "name": "stdout",
     "output_type": "stream",
     "text": [
      "HALLO\n",
      "Item ID: 34rhcF7_5z_xCF7rHKL4Ug_back\n",
      "Predicted Meter: 1.0\n",
      "Ground Truth: 25.0\n",
      "Error: 24.0\n",
      "==================================================\n",
      "How far is the gas station away from the camera in meters, rounded to the next meter?\n"
     ]
    },
    {
     "name": "stderr",
     "output_type": "stream",
     "text": [
      "Setting `pad_token_id` to `eos_token_id`:None for open-end generation.\n"
     ]
    },
    {
     "name": "stdout",
     "output_type": "stream",
     "text": [
      "HALLO\n",
      "Item ID: ls5vsLksz2FGrtiX4pXcjw_back\n",
      "Predicted Meter: 1.0\n",
      "Ground Truth: 22.0\n",
      "Error: 21.0\n",
      "==================================================\n",
      "How far is the gas station away from the camera in meters, rounded to the next meter?\n"
     ]
    },
    {
     "name": "stderr",
     "output_type": "stream",
     "text": [
      "Setting `pad_token_id` to `eos_token_id`:None for open-end generation.\n"
     ]
    },
    {
     "name": "stdout",
     "output_type": "stream",
     "text": [
      "HALLO\n",
      "Item ID: _G_-fkVxInuOL_gh1TCkAw_right\n",
      "Predicted Meter: 1.0\n",
      "Ground Truth: 19.0\n",
      "Error: 18.0\n",
      "==================================================\n",
      "How far is the post box away from the camera in meters, rounded to the next meter?\n"
     ]
    },
    {
     "name": "stderr",
     "output_type": "stream",
     "text": [
      "Setting `pad_token_id` to `eos_token_id`:None for open-end generation.\n"
     ]
    },
    {
     "name": "stdout",
     "output_type": "stream",
     "text": [
      "HALLO\n",
      "Item ID: KsAhdawvyYxlqfej-gzUsA_front\n",
      "Predicted Meter: 1.0\n",
      "Ground Truth: 11.0\n",
      "Error: 10.0\n",
      "==================================================\n",
      "How far is the gas station away from the camera in meters, rounded to the next meter?\n"
     ]
    },
    {
     "name": "stderr",
     "output_type": "stream",
     "text": [
      "Setting `pad_token_id` to `eos_token_id`:None for open-end generation.\n"
     ]
    },
    {
     "name": "stdout",
     "output_type": "stream",
     "text": [
      "HALLO\n",
      "Item ID: lIJcDFhNquz9zvnRLHqWbA_back\n",
      "Predicted Meter: 1.0\n",
      "Ground Truth: 22.0\n",
      "Error: 21.0\n",
      "==================================================\n",
      "How far is the gas station away from the camera in meters, rounded to the next meter?\n"
     ]
    },
    {
     "name": "stderr",
     "output_type": "stream",
     "text": [
      "Setting `pad_token_id` to `eos_token_id`:None for open-end generation.\n"
     ]
    },
    {
     "name": "stdout",
     "output_type": "stream",
     "text": [
      "HALLO\n",
      "Item ID: 72ebTpipZnU1ZlSBp2nSuQ_right\n",
      "Predicted Meter: 1.0\n",
      "Ground Truth: 23.0\n",
      "Error: 22.0\n",
      "==================================================\n",
      "How far is the gas station away from the camera in meters, rounded to the next meter?\n"
     ]
    },
    {
     "name": "stderr",
     "output_type": "stream",
     "text": [
      "Setting `pad_token_id` to `eos_token_id`:None for open-end generation.\n"
     ]
    },
    {
     "name": "stdout",
     "output_type": "stream",
     "text": [
      "HALLO\n",
      "Item ID: A3DdT3R0Me5Thr0jZ3vqbA_right\n",
      "Predicted Meter: 1.0\n",
      "Ground Truth: 21.0\n",
      "Error: 20.0\n",
      "==================================================\n",
      "How far is the gas station away from the camera in meters, rounded to the next meter?\n"
     ]
    },
    {
     "name": "stderr",
     "output_type": "stream",
     "text": [
      "Setting `pad_token_id` to `eos_token_id`:None for open-end generation.\n"
     ]
    },
    {
     "name": "stdout",
     "output_type": "stream",
     "text": [
      "HALLO\n",
      "Item ID: s8b27kdyBAl_sotzHJ5wYA_right\n",
      "Predicted Meter: 180.0\n",
      "Ground Truth: 26.0\n",
      "Error: 154.0\n",
      "==================================================\n",
      "How far is the gas station away from the camera in meters, rounded to the next meter?\n"
     ]
    },
    {
     "name": "stderr",
     "output_type": "stream",
     "text": [
      "Setting `pad_token_id` to `eos_token_id`:None for open-end generation.\n"
     ]
    },
    {
     "name": "stdout",
     "output_type": "stream",
     "text": [
      "HALLO\n",
      "Item ID: 1TTgoWtPcUDu1ii-0vUysA_right\n",
      "Predicted Meter: 1.0\n",
      "Ground Truth: 25.0\n",
      "Error: 24.0\n",
      "==================================================\n",
      "How far is the gas station away from the camera in meters, rounded to the next meter?\n"
     ]
    },
    {
     "name": "stderr",
     "output_type": "stream",
     "text": [
      "Setting `pad_token_id` to `eos_token_id`:None for open-end generation.\n"
     ]
    },
    {
     "name": "stdout",
     "output_type": "stream",
     "text": [
      "HALLO\n",
      "Item ID: xNuPeVv3Ean47MOZXJzdgQ_left\n",
      "Predicted Meter: 1.0\n",
      "Ground Truth: 17.0\n",
      "Error: 16.0\n",
      "==================================================\n",
      "How far is the gas station away from the camera in meters, rounded to the next meter?\n"
     ]
    },
    {
     "name": "stderr",
     "output_type": "stream",
     "text": [
      "Setting `pad_token_id` to `eos_token_id`:None for open-end generation.\n"
     ]
    },
    {
     "name": "stdout",
     "output_type": "stream",
     "text": [
      "HALLO\n",
      "Item ID: IM5Tg5Vs_XNKPB0Y6bXQJA_right\n",
      "Predicted Meter: 1.0\n",
      "Ground Truth: 24.0\n",
      "Error: 23.0\n",
      "==================================================\n",
      "How far is the gas station away from the camera in meters, rounded to the next meter?\n"
     ]
    },
    {
     "name": "stderr",
     "output_type": "stream",
     "text": [
      "Setting `pad_token_id` to `eos_token_id`:None for open-end generation.\n"
     ]
    },
    {
     "name": "stdout",
     "output_type": "stream",
     "text": [
      "HALLO\n",
      "Item ID: wnCjh-4PWBDlednovnwurQ_front\n",
      "Predicted Meter: 1.0\n",
      "Ground Truth: 20.0\n",
      "Error: 19.0\n",
      "==================================================\n",
      "How far is the gas station away from the camera in meters, rounded to the next meter?\n"
     ]
    },
    {
     "name": "stderr",
     "output_type": "stream",
     "text": [
      "Setting `pad_token_id` to `eos_token_id`:None for open-end generation.\n"
     ]
    },
    {
     "name": "stdout",
     "output_type": "stream",
     "text": [
      "HALLO\n",
      "Item ID: UQu9TdfMPsz6HgCBXwm_OA_right\n",
      "Predicted Meter: 1.0\n",
      "Ground Truth: 28.0\n",
      "Error: 27.0\n",
      "==================================================\n",
      "How far is the vending machine away from the camera in meters, rounded to the next meter?\n"
     ]
    },
    {
     "name": "stderr",
     "output_type": "stream",
     "text": [
      "Setting `pad_token_id` to `eos_token_id`:None for open-end generation.\n"
     ]
    },
    {
     "name": "stdout",
     "output_type": "stream",
     "text": [
      "HALLO\n",
      "Item ID: JralPklJ9gCp4EA_RyeWRA_front\n",
      "Predicted Meter: 1.0\n",
      "Ground Truth: 22.0\n",
      "Error: 21.0\n",
      "==================================================\n",
      "How far is the gas station away from the camera in meters, rounded to the next meter?\n"
     ]
    },
    {
     "name": "stderr",
     "output_type": "stream",
     "text": [
      "Setting `pad_token_id` to `eos_token_id`:None for open-end generation.\n"
     ]
    },
    {
     "name": "stdout",
     "output_type": "stream",
     "text": [
      "HALLO\n",
      "Item ID: M9wYWkddYwPsS8bOAAnVQA_front\n",
      "Predicted Meter: 1.0\n",
      "Ground Truth: 30.0\n",
      "Error: 29.0\n",
      "==================================================\n",
      "How far is the gas station away from the camera in meters, rounded to the next meter?\n"
     ]
    },
    {
     "name": "stderr",
     "output_type": "stream",
     "text": [
      "Setting `pad_token_id` to `eos_token_id`:None for open-end generation.\n"
     ]
    },
    {
     "name": "stdout",
     "output_type": "stream",
     "text": [
      "HALLO\n",
      "Item ID: 3cTQXFxHQ4AaC7aogs4uKg_front\n",
      "Predicted Meter: 1.0\n",
      "Ground Truth: 29.0\n",
      "Error: 28.0\n",
      "==================================================\n",
      "How far is the gas station away from the camera in meters, rounded to the next meter?\n"
     ]
    },
    {
     "name": "stderr",
     "output_type": "stream",
     "text": [
      "Setting `pad_token_id` to `eos_token_id`:None for open-end generation.\n"
     ]
    },
    {
     "name": "stdout",
     "output_type": "stream",
     "text": [
      "HALLO\n",
      "Item ID: rdd9lAv469KKItvAGNOOJg_right\n",
      "Predicted Meter: 1.0\n",
      "Ground Truth: 25.0\n",
      "Error: 24.0\n",
      "==================================================\n",
      "How far is the post box away from the camera in meters, rounded to the next meter?\n"
     ]
    },
    {
     "name": "stderr",
     "output_type": "stream",
     "text": [
      "Setting `pad_token_id` to `eos_token_id`:None for open-end generation.\n"
     ]
    },
    {
     "name": "stdout",
     "output_type": "stream",
     "text": [
      "HALLO\n",
      "Item ID: XIaYmJKv1Oh2TzOBENycvA_right\n",
      "Predicted Meter: 1.0\n",
      "Ground Truth: 28.0\n",
      "Error: 27.0\n",
      "==================================================\n",
      "How far is the gas station away from the camera in meters, rounded to the next meter?\n"
     ]
    },
    {
     "name": "stderr",
     "output_type": "stream",
     "text": [
      "Setting `pad_token_id` to `eos_token_id`:None for open-end generation.\n"
     ]
    },
    {
     "name": "stdout",
     "output_type": "stream",
     "text": [
      "HALLO\n",
      "Item ID: DGpCRwXAFtuzOCxiC3AJXQ_right\n",
      "Predicted Meter: 1.0\n",
      "Ground Truth: 20.0\n",
      "Error: 19.0\n",
      "==================================================\n",
      "How far is the gas station away from the camera in meters, rounded to the next meter?\n"
     ]
    },
    {
     "name": "stderr",
     "output_type": "stream",
     "text": [
      "Setting `pad_token_id` to `eos_token_id`:None for open-end generation.\n"
     ]
    },
    {
     "name": "stdout",
     "output_type": "stream",
     "text": [
      "HALLO\n",
      "Item ID: Z_0D8JCx3LqmbelS6LwBlg_right\n",
      "Predicted Meter: 1.0\n",
      "Ground Truth: 21.0\n",
      "Error: 20.0\n",
      "==================================================\n",
      "How far is the gas station away from the camera in meters, rounded to the next meter?\n"
     ]
    },
    {
     "name": "stderr",
     "output_type": "stream",
     "text": [
      "Setting `pad_token_id` to `eos_token_id`:None for open-end generation.\n"
     ]
    },
    {
     "name": "stdout",
     "output_type": "stream",
     "text": [
      "HALLO\n",
      "Item ID: pvgzxAkbpGBsYQInYsWhgg_right\n",
      "Predicted Meter: 1.0\n",
      "Ground Truth: 27.0\n",
      "Error: 26.0\n",
      "==================================================\n",
      "How far is the gas station away from the camera in meters, rounded to the next meter?\n"
     ]
    },
    {
     "name": "stderr",
     "output_type": "stream",
     "text": [
      "Setting `pad_token_id` to `eos_token_id`:None for open-end generation.\n"
     ]
    },
    {
     "name": "stdout",
     "output_type": "stream",
     "text": [
      "HALLO\n",
      "Item ID: 2lGYlEsaQ03StY5XLBIJlQ_right\n",
      "Predicted Meter: 1.0\n",
      "Ground Truth: 26.0\n",
      "Error: 25.0\n",
      "==================================================\n",
      "How far is the gas station away from the camera in meters, rounded to the next meter?\n"
     ]
    },
    {
     "name": "stderr",
     "output_type": "stream",
     "text": [
      "Setting `pad_token_id` to `eos_token_id`:None for open-end generation.\n"
     ]
    },
    {
     "name": "stdout",
     "output_type": "stream",
     "text": [
      "HALLO\n",
      "Item ID: YSHVBBGad1bvL78FosZqIw_left\n",
      "Predicted Meter: 1.0\n",
      "Ground Truth: 27.0\n",
      "Error: 26.0\n",
      "==================================================\n",
      "How far is the gas station away from the camera in meters, rounded to the next meter?\n"
     ]
    },
    {
     "name": "stderr",
     "output_type": "stream",
     "text": [
      "Setting `pad_token_id` to `eos_token_id`:None for open-end generation.\n"
     ]
    },
    {
     "name": "stdout",
     "output_type": "stream",
     "text": [
      "HALLO\n",
      "Item ID: eb8MU6EB-Ab6zkw8w6l07Q_right\n",
      "Predicted Meter: 1.0\n",
      "Ground Truth: 22.0\n",
      "Error: 21.0\n",
      "==================================================\n",
      "How far is the gas station away from the camera in meters, rounded to the next meter?\n"
     ]
    },
    {
     "name": "stderr",
     "output_type": "stream",
     "text": [
      "Setting `pad_token_id` to `eos_token_id`:None for open-end generation.\n"
     ]
    },
    {
     "name": "stdout",
     "output_type": "stream",
     "text": [
      "HALLO\n",
      "Item ID: LHSWcIZo86wt0-3Axz6h_g_right\n",
      "Predicted Meter: 1.0\n",
      "Ground Truth: 20.0\n",
      "Error: 19.0\n",
      "==================================================\n",
      "How far is the gas station away from the camera in meters, rounded to the next meter?\n"
     ]
    },
    {
     "name": "stderr",
     "output_type": "stream",
     "text": [
      "Setting `pad_token_id` to `eos_token_id`:None for open-end generation.\n"
     ]
    },
    {
     "name": "stdout",
     "output_type": "stream",
     "text": [
      "HALLO\n",
      "Item ID: lUCB-zSdG5v8e7f6yo9hFw_right\n",
      "Predicted Meter: 1.0\n",
      "Ground Truth: 26.0\n",
      "Error: 25.0\n",
      "==================================================\n",
      "How far is the gas station away from the camera in meters, rounded to the next meter?\n"
     ]
    },
    {
     "name": "stderr",
     "output_type": "stream",
     "text": [
      "Setting `pad_token_id` to `eos_token_id`:None for open-end generation.\n"
     ]
    },
    {
     "name": "stdout",
     "output_type": "stream",
     "text": [
      "HALLO\n",
      "Item ID: mc_oZOlXyr9sItAXp-EEFQ_right\n",
      "Predicted Meter: 1.0\n",
      "Ground Truth: 21.0\n",
      "Error: 20.0\n",
      "==================================================\n",
      "How far is the gas station away from the camera in meters, rounded to the next meter?\n"
     ]
    },
    {
     "name": "stderr",
     "output_type": "stream",
     "text": [
      "Setting `pad_token_id` to `eos_token_id`:None for open-end generation.\n"
     ]
    },
    {
     "name": "stdout",
     "output_type": "stream",
     "text": [
      "HALLO\n",
      "Item ID: Qo2aUtgdEnZ96pkpYNEmAg_front\n",
      "Predicted Meter: 1.0\n",
      "Ground Truth: 28.0\n",
      "Error: 27.0\n",
      "==================================================\n",
      "How far is the gas station away from the camera in meters, rounded to the next meter?\n"
     ]
    },
    {
     "name": "stderr",
     "output_type": "stream",
     "text": [
      "Setting `pad_token_id` to `eos_token_id`:None for open-end generation.\n"
     ]
    },
    {
     "name": "stdout",
     "output_type": "stream",
     "text": [
      "HALLO\n",
      "Item ID: W1GOhAzbdnwjlJ-RrP8UDg_back\n",
      "Predicted Meter: 1.0\n",
      "Ground Truth: 21.0\n",
      "Error: 20.0\n",
      "==================================================\n",
      "How far is the post box away from the camera in meters, rounded to the next meter?\n"
     ]
    },
    {
     "name": "stderr",
     "output_type": "stream",
     "text": [
      "Setting `pad_token_id` to `eos_token_id`:None for open-end generation.\n"
     ]
    },
    {
     "name": "stdout",
     "output_type": "stream",
     "text": [
      "HALLO\n",
      "Item ID: lRA5rE4hSeIS8cLCmczXQw_right\n",
      "Predicted Meter: 1.0\n",
      "Ground Truth: 11.0\n",
      "Error: 10.0\n",
      "==================================================\n",
      "How far is the gas station away from the camera in meters, rounded to the next meter?\n"
     ]
    },
    {
     "name": "stderr",
     "output_type": "stream",
     "text": [
      "Setting `pad_token_id` to `eos_token_id`:None for open-end generation.\n"
     ]
    },
    {
     "name": "stdout",
     "output_type": "stream",
     "text": [
      "HALLO\n",
      "Item ID: TmAJ0zQ2uIyhpj81qDsyHg_right\n",
      "Predicted Meter: 1.0\n",
      "Ground Truth: 23.0\n",
      "Error: 22.0\n",
      "==================================================\n",
      "How far is the large waste dumpster away from the camera in meters, rounded to the next meter?\n"
     ]
    },
    {
     "name": "stderr",
     "output_type": "stream",
     "text": [
      "Setting `pad_token_id` to `eos_token_id`:None for open-end generation.\n"
     ]
    },
    {
     "name": "stdout",
     "output_type": "stream",
     "text": [
      "HALLO\n",
      "Item ID: OaoCpdsxh259v77mvTPhLQ_front\n",
      "Predicted Meter: 1.0\n",
      "Ground Truth: 22.0\n",
      "Error: 21.0\n",
      "==================================================\n",
      "How far is the gas station away from the camera in meters, rounded to the next meter?\n"
     ]
    },
    {
     "name": "stderr",
     "output_type": "stream",
     "text": [
      "Setting `pad_token_id` to `eos_token_id`:None for open-end generation.\n"
     ]
    },
    {
     "name": "stdout",
     "output_type": "stream",
     "text": [
      "HALLO\n",
      "Item ID: wc0EvjsWIVV8WUXMYA9u4Q_left\n",
      "Predicted Meter: 1.0\n",
      "Ground Truth: 26.0\n",
      "Error: 25.0\n",
      "==================================================\n",
      "How far is the gas station away from the camera in meters, rounded to the next meter?\n"
     ]
    },
    {
     "name": "stderr",
     "output_type": "stream",
     "text": [
      "Setting `pad_token_id` to `eos_token_id`:None for open-end generation.\n"
     ]
    },
    {
     "name": "stdout",
     "output_type": "stream",
     "text": [
      "HALLO\n",
      "Item ID: 5Rl3jytWkaTOiWLr7PDwdQ_left\n",
      "Predicted Meter: 1.0\n",
      "Ground Truth: 26.0\n",
      "Error: 25.0\n",
      "==================================================\n",
      "How far is the gas station away from the camera in meters, rounded to the next meter?\n"
     ]
    },
    {
     "name": "stderr",
     "output_type": "stream",
     "text": [
      "Setting `pad_token_id` to `eos_token_id`:None for open-end generation.\n"
     ]
    },
    {
     "name": "stdout",
     "output_type": "stream",
     "text": [
      "HALLO\n",
      "Item ID: cf8_ef6XCqNOI3lj5KzjOA_right\n",
      "Predicted Meter: 1.0\n",
      "Ground Truth: 23.0\n",
      "Error: 22.0\n",
      "==================================================\n",
      "How far is the gas station away from the camera in meters, rounded to the next meter?\n"
     ]
    },
    {
     "name": "stderr",
     "output_type": "stream",
     "text": [
      "Setting `pad_token_id` to `eos_token_id`:None for open-end generation.\n"
     ]
    },
    {
     "name": "stdout",
     "output_type": "stream",
     "text": [
      "HALLO\n",
      "Item ID: AWdJTbKEf5HBdRXHzGGC3A_left\n",
      "Predicted Meter: 1.0\n",
      "Ground Truth: 24.0\n",
      "Error: 23.0\n",
      "==================================================\n",
      "How far is the post box away from the camera in meters, rounded to the next meter?\n"
     ]
    },
    {
     "name": "stderr",
     "output_type": "stream",
     "text": [
      "Setting `pad_token_id` to `eos_token_id`:None for open-end generation.\n"
     ]
    },
    {
     "name": "stdout",
     "output_type": "stream",
     "text": [
      "HALLO\n",
      "Item ID: eJIgtiIzNQ7478dhnPH2lQ_back\n",
      "Predicted Meter: 1.0\n",
      "Ground Truth: 28.0\n",
      "Error: 27.0\n",
      "==================================================\n",
      "How far is the gas station away from the camera in meters, rounded to the next meter?\n"
     ]
    },
    {
     "name": "stderr",
     "output_type": "stream",
     "text": [
      "Setting `pad_token_id` to `eos_token_id`:None for open-end generation.\n"
     ]
    },
    {
     "name": "stdout",
     "output_type": "stream",
     "text": [
      "HALLO\n",
      "Item ID: Cx59xrGyKeRhAqomop17yg_left\n",
      "Predicted Meter: 1.0\n",
      "Ground Truth: 25.0\n",
      "Error: 24.0\n",
      "==================================================\n",
      "How far is the gas station away from the camera in meters, rounded to the next meter?\n"
     ]
    },
    {
     "name": "stderr",
     "output_type": "stream",
     "text": [
      "Setting `pad_token_id` to `eos_token_id`:None for open-end generation.\n"
     ]
    },
    {
     "name": "stdout",
     "output_type": "stream",
     "text": [
      "HALLO\n",
      "Item ID: qn-fWttcGKIJ7Zc4c1pkqw_left\n",
      "Predicted Meter: 1.0\n",
      "Ground Truth: 27.0\n",
      "Error: 26.0\n",
      "==================================================\n",
      "How far is the vending machine away from the camera in meters, rounded to the next meter?\n"
     ]
    },
    {
     "name": "stderr",
     "output_type": "stream",
     "text": [
      "Setting `pad_token_id` to `eos_token_id`:None for open-end generation.\n"
     ]
    },
    {
     "name": "stdout",
     "output_type": "stream",
     "text": [
      "HALLO\n",
      "Item ID: zSP4L1e2ilC2jV9kuwrNaw_right\n",
      "Predicted Meter: 1.0\n",
      "Ground Truth: 20.0\n",
      "Error: 19.0\n",
      "==================================================\n",
      "How far is the post box away from the camera in meters, rounded to the next meter?\n"
     ]
    },
    {
     "name": "stderr",
     "output_type": "stream",
     "text": [
      "Setting `pad_token_id` to `eos_token_id`:None for open-end generation.\n"
     ]
    },
    {
     "name": "stdout",
     "output_type": "stream",
     "text": [
      "HALLO\n",
      "Item ID: jbUqNAyorVVwMczpYlOnug_left\n",
      "Predicted Meter: 1.0\n",
      "Ground Truth: 7.0\n",
      "Error: 6.0\n",
      "==================================================\n",
      "How far is the gas station away from the camera in meters, rounded to the next meter?\n"
     ]
    },
    {
     "name": "stderr",
     "output_type": "stream",
     "text": [
      "Setting `pad_token_id` to `eos_token_id`:None for open-end generation.\n"
     ]
    },
    {
     "name": "stdout",
     "output_type": "stream",
     "text": [
      "HALLO\n",
      "Item ID: jfz76Ye8P1tRIX5j6Y_MFw_left\n",
      "Predicted Meter: 1.0\n",
      "Ground Truth: 27.0\n",
      "Error: 26.0\n",
      "==================================================\n",
      "How far is the gas station away from the camera in meters, rounded to the next meter?\n"
     ]
    },
    {
     "name": "stderr",
     "output_type": "stream",
     "text": [
      "Setting `pad_token_id` to `eos_token_id`:None for open-end generation.\n"
     ]
    },
    {
     "name": "stdout",
     "output_type": "stream",
     "text": [
      "HALLO\n",
      "Item ID: d4hQ_xl8nHeMaP6R97uNgg_right\n",
      "Predicted Meter: 1.0\n",
      "Ground Truth: 25.0\n",
      "Error: 24.0\n",
      "==================================================\n",
      "How far is the gas station away from the camera in meters, rounded to the next meter?\n"
     ]
    },
    {
     "name": "stderr",
     "output_type": "stream",
     "text": [
      "Setting `pad_token_id` to `eos_token_id`:None for open-end generation.\n"
     ]
    },
    {
     "name": "stdout",
     "output_type": "stream",
     "text": [
      "HALLO\n",
      "Item ID: n8NSRWP5PY_ECNUo4guX3g_right\n",
      "Predicted Meter: 1.0\n",
      "Ground Truth: 29.0\n",
      "Error: 28.0\n",
      "==================================================\n",
      "How far is the gas station away from the camera in meters, rounded to the next meter?\n"
     ]
    },
    {
     "name": "stderr",
     "output_type": "stream",
     "text": [
      "Setting `pad_token_id` to `eos_token_id`:None for open-end generation.\n"
     ]
    },
    {
     "name": "stdout",
     "output_type": "stream",
     "text": [
      "HALLO\n",
      "Item ID: J0RU4yu-NC93sJo4XZ20qw_back\n",
      "Predicted Meter: 1.0\n",
      "Ground Truth: 29.0\n",
      "Error: 28.0\n",
      "==================================================\n",
      "How far is the gas station away from the camera in meters, rounded to the next meter?\n"
     ]
    },
    {
     "name": "stderr",
     "output_type": "stream",
     "text": [
      "Setting `pad_token_id` to `eos_token_id`:None for open-end generation.\n"
     ]
    },
    {
     "name": "stdout",
     "output_type": "stream",
     "text": [
      "HALLO\n",
      "Item ID: 9WZaNAcZKK0CG_6Ti6MOBw_front\n",
      "Predicted Meter: 1.0\n",
      "Ground Truth: 21.0\n",
      "Error: 20.0\n",
      "==================================================\n",
      "How far is the gas station away from the camera in meters, rounded to the next meter?\n"
     ]
    },
    {
     "name": "stderr",
     "output_type": "stream",
     "text": [
      "Setting `pad_token_id` to `eos_token_id`:None for open-end generation.\n"
     ]
    },
    {
     "name": "stdout",
     "output_type": "stream",
     "text": [
      "HALLO\n",
      "Item ID: kzpGP0MnxjLXTR0OLJsUWg_back\n",
      "Predicted Meter: 1.0\n",
      "Ground Truth: 28.0\n",
      "Error: 27.0\n",
      "==================================================\n",
      "How far is the gas station away from the camera in meters, rounded to the next meter?\n"
     ]
    },
    {
     "name": "stderr",
     "output_type": "stream",
     "text": [
      "Setting `pad_token_id` to `eos_token_id`:None for open-end generation.\n"
     ]
    },
    {
     "name": "stdout",
     "output_type": "stream",
     "text": [
      "HALLO\n",
      "Item ID: u9Kokx_8X1UHcThQufdKBQ_right\n",
      "Predicted Meter: 1.0\n",
      "Ground Truth: 16.0\n",
      "Error: 15.0\n",
      "==================================================\n",
      "How far is the gas station away from the camera in meters, rounded to the next meter?\n"
     ]
    },
    {
     "name": "stderr",
     "output_type": "stream",
     "text": [
      "Setting `pad_token_id` to `eos_token_id`:None for open-end generation.\n"
     ]
    },
    {
     "name": "stdout",
     "output_type": "stream",
     "text": [
      "HALLO\n",
      "Item ID: JtyeoGH-BUUewIwbHElEew_right\n",
      "Predicted Meter: 1.0\n",
      "Ground Truth: 22.0\n",
      "Error: 21.0\n",
      "==================================================\n",
      "How far is the gas station away from the camera in meters, rounded to the next meter?\n"
     ]
    },
    {
     "name": "stderr",
     "output_type": "stream",
     "text": [
      "Setting `pad_token_id` to `eos_token_id`:None for open-end generation.\n"
     ]
    },
    {
     "name": "stdout",
     "output_type": "stream",
     "text": [
      "HALLO\n",
      "Item ID: N32bZK7jAraafCM7dRXRVg_front\n",
      "Predicted Meter: 1.0\n",
      "Ground Truth: 27.0\n",
      "Error: 26.0\n",
      "==================================================\n",
      "How far is the gas station away from the camera in meters, rounded to the next meter?\n"
     ]
    },
    {
     "name": "stderr",
     "output_type": "stream",
     "text": [
      "Setting `pad_token_id` to `eos_token_id`:None for open-end generation.\n"
     ]
    },
    {
     "name": "stdout",
     "output_type": "stream",
     "text": [
      "HALLO\n",
      "Item ID: q4OI0Scwi1i0HkqRTAJKKA_front\n",
      "Predicted Meter: 1.0\n",
      "Ground Truth: 12.0\n",
      "Error: 11.0\n",
      "==================================================\n",
      "How far is the gas station away from the camera in meters, rounded to the next meter?\n"
     ]
    },
    {
     "name": "stderr",
     "output_type": "stream",
     "text": [
      "Setting `pad_token_id` to `eos_token_id`:None for open-end generation.\n"
     ]
    },
    {
     "name": "stdout",
     "output_type": "stream",
     "text": [
      "HALLO\n",
      "Item ID: hx5M3hRQSuMVV3BzCAegCg_left\n",
      "Predicted Meter: 1.0\n",
      "Ground Truth: 30.0\n",
      "Error: 29.0\n",
      "==================================================\n",
      "How far is the gas station away from the camera in meters, rounded to the next meter?\n"
     ]
    },
    {
     "name": "stderr",
     "output_type": "stream",
     "text": [
      "Setting `pad_token_id` to `eos_token_id`:None for open-end generation.\n"
     ]
    },
    {
     "name": "stdout",
     "output_type": "stream",
     "text": [
      "HALLO\n",
      "Item ID: 3ixcETgziLCGAjvOEqWM7g_back\n",
      "Predicted Meter: 1.0\n",
      "Ground Truth: 23.0\n",
      "Error: 22.0\n",
      "==================================================\n",
      "How far is the gas station away from the camera in meters, rounded to the next meter?\n"
     ]
    },
    {
     "name": "stderr",
     "output_type": "stream",
     "text": [
      "Setting `pad_token_id` to `eos_token_id`:None for open-end generation.\n"
     ]
    },
    {
     "name": "stdout",
     "output_type": "stream",
     "text": [
      "HALLO\n",
      "Item ID: OArBY4CDcYgtKL89eIzkWw_right\n",
      "Predicted Meter: 1.0\n",
      "Ground Truth: 18.0\n",
      "Error: 17.0\n",
      "==================================================\n",
      "How far is the gas station away from the camera in meters, rounded to the next meter?\n"
     ]
    },
    {
     "name": "stderr",
     "output_type": "stream",
     "text": [
      "Setting `pad_token_id` to `eos_token_id`:None for open-end generation.\n"
     ]
    },
    {
     "name": "stdout",
     "output_type": "stream",
     "text": [
      "HALLO\n",
      "Item ID: jxLJB3l_o_cvFGl6JM__wQ_back\n",
      "Predicted Meter: 1.0\n",
      "Ground Truth: 18.0\n",
      "Error: 17.0\n",
      "==================================================\n",
      "How far is the gas station away from the camera in meters, rounded to the next meter?\n"
     ]
    },
    {
     "name": "stderr",
     "output_type": "stream",
     "text": [
      "Setting `pad_token_id` to `eos_token_id`:None for open-end generation.\n"
     ]
    },
    {
     "name": "stdout",
     "output_type": "stream",
     "text": [
      "HALLO\n",
      "Item ID: xb9LiT2Y_dUww_PC0NOLOQ_right\n",
      "Predicted Meter: 1.0\n",
      "Ground Truth: 15.0\n",
      "Error: 14.0\n",
      "==================================================\n",
      "How far is the gas station away from the camera in meters, rounded to the next meter?\n"
     ]
    },
    {
     "name": "stderr",
     "output_type": "stream",
     "text": [
      "Setting `pad_token_id` to `eos_token_id`:None for open-end generation.\n"
     ]
    },
    {
     "name": "stdout",
     "output_type": "stream",
     "text": [
      "HALLO\n",
      "Item ID: iib8V4vSPpts_FtmuxH4tg_right\n",
      "Predicted Meter: 1.0\n",
      "Ground Truth: 30.0\n",
      "Error: 29.0\n",
      "==================================================\n",
      "How far is the post box away from the camera in meters, rounded to the next meter?\n"
     ]
    },
    {
     "name": "stderr",
     "output_type": "stream",
     "text": [
      "Setting `pad_token_id` to `eos_token_id`:None for open-end generation.\n"
     ]
    },
    {
     "name": "stdout",
     "output_type": "stream",
     "text": [
      "HALLO\n",
      "Item ID: 6v1-hhiayJy7DoBpfpN6wA_front\n",
      "Predicted Meter: 2.0\n",
      "Ground Truth: 18.0\n",
      "Error: 16.0\n",
      "==================================================\n",
      "How far is the gas station away from the camera in meters, rounded to the next meter?\n"
     ]
    },
    {
     "name": "stderr",
     "output_type": "stream",
     "text": [
      "Setting `pad_token_id` to `eos_token_id`:None for open-end generation.\n"
     ]
    },
    {
     "name": "stdout",
     "output_type": "stream",
     "text": [
      "HALLO\n",
      "Item ID: _vO63qpalTD-pyBTLFdy1g_left\n",
      "Predicted Meter: 1.0\n",
      "Ground Truth: 25.0\n",
      "Error: 24.0\n",
      "==================================================\n",
      "How far is the gas station away from the camera in meters, rounded to the next meter?\n"
     ]
    },
    {
     "name": "stderr",
     "output_type": "stream",
     "text": [
      "Setting `pad_token_id` to `eos_token_id`:None for open-end generation.\n"
     ]
    },
    {
     "name": "stdout",
     "output_type": "stream",
     "text": [
      "HALLO\n",
      "Item ID: qq8iXTbkO_iEK4mJLC1xgA_right\n",
      "Predicted Meter: 1.0\n",
      "Ground Truth: 30.0\n",
      "Error: 29.0\n",
      "==================================================\n",
      "How far is the gas station away from the camera in meters, rounded to the next meter?\n"
     ]
    },
    {
     "name": "stderr",
     "output_type": "stream",
     "text": [
      "Setting `pad_token_id` to `eos_token_id`:None for open-end generation.\n"
     ]
    },
    {
     "name": "stdout",
     "output_type": "stream",
     "text": [
      "HALLO\n",
      "Item ID: SIQOuGqlTXsiqwfDq6zoCg_back\n",
      "Predicted Meter: 1.0\n",
      "Ground Truth: 20.0\n",
      "Error: 19.0\n",
      "==================================================\n",
      "How far is the vending machine away from the camera in meters, rounded to the next meter?\n"
     ]
    },
    {
     "name": "stderr",
     "output_type": "stream",
     "text": [
      "Setting `pad_token_id` to `eos_token_id`:None for open-end generation.\n"
     ]
    },
    {
     "name": "stdout",
     "output_type": "stream",
     "text": [
      "HALLO\n",
      "Item ID: eRQ_lSJa8rZ3LFZ9s36v7A_back\n",
      "Predicted Meter: 1.0\n",
      "Ground Truth: 12.0\n",
      "Error: 11.0\n",
      "==================================================\n",
      "How far is the gas station away from the camera in meters, rounded to the next meter?\n"
     ]
    },
    {
     "name": "stderr",
     "output_type": "stream",
     "text": [
      "Setting `pad_token_id` to `eos_token_id`:None for open-end generation.\n"
     ]
    },
    {
     "name": "stdout",
     "output_type": "stream",
     "text": [
      "HALLO\n",
      "Item ID: ODpq7KBrQltTE1PM9XsymA_right\n",
      "Predicted Meter: 1.0\n",
      "Ground Truth: 27.0\n",
      "Error: 26.0\n",
      "==================================================\n",
      "How far is the gas station away from the camera in meters, rounded to the next meter?\n"
     ]
    },
    {
     "name": "stderr",
     "output_type": "stream",
     "text": [
      "Setting `pad_token_id` to `eos_token_id`:None for open-end generation.\n"
     ]
    },
    {
     "name": "stdout",
     "output_type": "stream",
     "text": [
      "HALLO\n",
      "Item ID: JtyeoGH-BUUewIwbHElEew_back\n",
      "Predicted Meter: 1.0\n",
      "Ground Truth: 22.0\n",
      "Error: 21.0\n",
      "==================================================\n",
      "How far is the large waste dumpster away from the camera in meters, rounded to the next meter?\n"
     ]
    },
    {
     "name": "stderr",
     "output_type": "stream",
     "text": [
      "Setting `pad_token_id` to `eos_token_id`:None for open-end generation.\n"
     ]
    },
    {
     "name": "stdout",
     "output_type": "stream",
     "text": [
      "HALLO\n",
      "Item ID: Uo4CGPMzPzMx-A8Mjp6ziw_left\n",
      "Predicted Meter: 1.0\n",
      "Ground Truth: 25.0\n",
      "Error: 24.0\n",
      "==================================================\n",
      "How far is the gas station away from the camera in meters, rounded to the next meter?\n"
     ]
    },
    {
     "name": "stderr",
     "output_type": "stream",
     "text": [
      "Setting `pad_token_id` to `eos_token_id`:None for open-end generation.\n"
     ]
    },
    {
     "name": "stdout",
     "output_type": "stream",
     "text": [
      "HALLO\n",
      "Item ID: a3CD8WKIaMh74X_w1hp7sQ_right\n",
      "Predicted Meter: 1.0\n",
      "Ground Truth: 28.0\n",
      "Error: 27.0\n",
      "==================================================\n",
      "How far is the post box away from the camera in meters, rounded to the next meter?\n"
     ]
    },
    {
     "name": "stderr",
     "output_type": "stream",
     "text": [
      "Setting `pad_token_id` to `eos_token_id`:None for open-end generation.\n"
     ]
    },
    {
     "name": "stdout",
     "output_type": "stream",
     "text": [
      "HALLO\n",
      "Item ID: dcRWrKzhakwQYNJVjRTTDw_left\n",
      "Predicted Meter: 1.0\n",
      "Ground Truth: 25.0\n",
      "Error: 24.0\n",
      "==================================================\n",
      "How far is the gas station away from the camera in meters, rounded to the next meter?\n"
     ]
    },
    {
     "name": "stderr",
     "output_type": "stream",
     "text": [
      "Setting `pad_token_id` to `eos_token_id`:None for open-end generation.\n"
     ]
    },
    {
     "name": "stdout",
     "output_type": "stream",
     "text": [
      "HALLO\n",
      "Item ID: ggLlWlPCXTY3fRqkhBUoLw_back\n",
      "Predicted Meter: 1.0\n",
      "Ground Truth: 29.0\n",
      "Error: 28.0\n",
      "==================================================\n",
      "How far is the gas station away from the camera in meters, rounded to the next meter?\n"
     ]
    },
    {
     "name": "stderr",
     "output_type": "stream",
     "text": [
      "Setting `pad_token_id` to `eos_token_id`:None for open-end generation.\n"
     ]
    },
    {
     "name": "stdout",
     "output_type": "stream",
     "text": [
      "HALLO\n",
      "Item ID: I4dohtV49xeb159_Ng8Umw_left\n",
      "Predicted Meter: 1.0\n",
      "Ground Truth: 27.0\n",
      "Error: 26.0\n",
      "==================================================\n",
      "How far is the gas station away from the camera in meters, rounded to the next meter?\n"
     ]
    },
    {
     "name": "stderr",
     "output_type": "stream",
     "text": [
      "Setting `pad_token_id` to `eos_token_id`:None for open-end generation.\n"
     ]
    },
    {
     "name": "stdout",
     "output_type": "stream",
     "text": [
      "HALLO\n",
      "Item ID: W-gBkV3CvuaiXTp8ypzwJA_left\n",
      "Predicted Meter: 1.0\n",
      "Ground Truth: 28.0\n",
      "Error: 27.0\n",
      "==================================================\n",
      "How far is the gas station away from the camera in meters, rounded to the next meter?\n"
     ]
    },
    {
     "name": "stderr",
     "output_type": "stream",
     "text": [
      "Setting `pad_token_id` to `eos_token_id`:None for open-end generation.\n"
     ]
    },
    {
     "name": "stdout",
     "output_type": "stream",
     "text": [
      "HALLO\n",
      "Item ID: QrzepgRmPP6RvB-5DCKDOw_right\n",
      "Predicted Meter: 1.0\n",
      "Ground Truth: 21.0\n",
      "Error: 20.0\n",
      "==================================================\n",
      "How far is the post box away from the camera in meters, rounded to the next meter?\n"
     ]
    },
    {
     "name": "stderr",
     "output_type": "stream",
     "text": [
      "Setting `pad_token_id` to `eos_token_id`:None for open-end generation.\n"
     ]
    },
    {
     "name": "stdout",
     "output_type": "stream",
     "text": [
      "HALLO\n",
      "Item ID: KuSK5cvU7kUtZVVnQmfMMQ_right\n",
      "Predicted Meter: 1.0\n",
      "Ground Truth: 29.0\n",
      "Error: 28.0\n",
      "==================================================\n",
      "How far is the post box away from the camera in meters, rounded to the next meter?\n"
     ]
    },
    {
     "name": "stderr",
     "output_type": "stream",
     "text": [
      "Setting `pad_token_id` to `eos_token_id`:None for open-end generation.\n"
     ]
    },
    {
     "name": "stdout",
     "output_type": "stream",
     "text": [
      "HALLO\n",
      "Item ID: jn4zEaguUF85vtddS9591A_front\n",
      "Predicted Meter: 1.0\n",
      "Ground Truth: 16.0\n",
      "Error: 15.0\n",
      "==================================================\n",
      "How far is the post box away from the camera in meters, rounded to the next meter?\n"
     ]
    },
    {
     "name": "stderr",
     "output_type": "stream",
     "text": [
      "Setting `pad_token_id` to `eos_token_id`:None for open-end generation.\n"
     ]
    },
    {
     "name": "stdout",
     "output_type": "stream",
     "text": [
      "HALLO\n",
      "Item ID: 2-FSObqDy2OGHRS-oLXpIA_front\n",
      "Predicted Meter: 1.0\n",
      "Ground Truth: 9.0\n",
      "Error: 8.0\n",
      "==================================================\n",
      "How far is the gas station away from the camera in meters, rounded to the next meter?\n"
     ]
    },
    {
     "name": "stderr",
     "output_type": "stream",
     "text": [
      "Setting `pad_token_id` to `eos_token_id`:None for open-end generation.\n"
     ]
    },
    {
     "name": "stdout",
     "output_type": "stream",
     "text": [
      "HALLO\n",
      "Item ID: KxKRZzRg654ggxD9Un5qhw_right\n",
      "Predicted Meter: 1.0\n",
      "Ground Truth: 20.0\n",
      "Error: 19.0\n",
      "==================================================\n",
      "How far is the gas station away from the camera in meters, rounded to the next meter?\n"
     ]
    },
    {
     "name": "stderr",
     "output_type": "stream",
     "text": [
      "Setting `pad_token_id` to `eos_token_id`:None for open-end generation.\n"
     ]
    },
    {
     "name": "stdout",
     "output_type": "stream",
     "text": [
      "HALLO\n",
      "Item ID: pvA1fuCApUKCE1EAb1Xgig_back\n",
      "Predicted Meter: 1.0\n",
      "Ground Truth: 30.0\n",
      "Error: 29.0\n",
      "==================================================\n",
      "How far is the gas station away from the camera in meters, rounded to the next meter?\n"
     ]
    },
    {
     "name": "stderr",
     "output_type": "stream",
     "text": [
      "Setting `pad_token_id` to `eos_token_id`:None for open-end generation.\n"
     ]
    },
    {
     "name": "stdout",
     "output_type": "stream",
     "text": [
      "HALLO\n",
      "Item ID: z3ndUO5NBsQdcR6Onfs8kw_front\n",
      "Predicted Meter: 1.0\n",
      "Ground Truth: 27.0\n",
      "Error: 26.0\n",
      "==================================================\n",
      "How far is the gas station away from the camera in meters, rounded to the next meter?\n"
     ]
    },
    {
     "name": "stderr",
     "output_type": "stream",
     "text": [
      "Setting `pad_token_id` to `eos_token_id`:None for open-end generation.\n"
     ]
    },
    {
     "name": "stdout",
     "output_type": "stream",
     "text": [
      "HALLO\n",
      "Item ID: Rv3VUBBBNctDraTzS2RI3g_right\n",
      "Predicted Meter: 1.0\n",
      "Ground Truth: 26.0\n",
      "Error: 25.0\n",
      "==================================================\n",
      "How far is the atm away from the camera in meters, rounded to the next meter?\n"
     ]
    },
    {
     "name": "stderr",
     "output_type": "stream",
     "text": [
      "Setting `pad_token_id` to `eos_token_id`:None for open-end generation.\n"
     ]
    },
    {
     "name": "stdout",
     "output_type": "stream",
     "text": [
      "HALLO\n",
      "Item ID: 19vgVzfNilUW-ZOFDTBU3w_left\n",
      "Predicted Meter: 1.0\n",
      "Ground Truth: 19.0\n",
      "Error: 18.0\n",
      "==================================================\n",
      "How far is the gas station away from the camera in meters, rounded to the next meter?\n"
     ]
    },
    {
     "name": "stderr",
     "output_type": "stream",
     "text": [
      "Setting `pad_token_id` to `eos_token_id`:None for open-end generation.\n"
     ]
    },
    {
     "name": "stdout",
     "output_type": "stream",
     "text": [
      "HALLO\n",
      "Item ID: sW81gMtDmZH5rH6dKD2Kgg_right\n",
      "Predicted Meter: 100.0\n",
      "Ground Truth: 26.0\n",
      "Error: 74.0\n",
      "==================================================\n",
      "How far is the gas station away from the camera in meters, rounded to the next meter?\n"
     ]
    },
    {
     "name": "stderr",
     "output_type": "stream",
     "text": [
      "Setting `pad_token_id` to `eos_token_id`:None for open-end generation.\n"
     ]
    },
    {
     "name": "stdout",
     "output_type": "stream",
     "text": [
      "HALLO\n",
      "Item ID: e72VAs__5et9iblG7Jzbkg_front\n",
      "Predicted Meter: 1.0\n",
      "Ground Truth: 22.0\n",
      "Error: 21.0\n",
      "==================================================\n",
      "How far is the gas station away from the camera in meters, rounded to the next meter?\n"
     ]
    },
    {
     "name": "stderr",
     "output_type": "stream",
     "text": [
      "Setting `pad_token_id` to `eos_token_id`:None for open-end generation.\n"
     ]
    },
    {
     "name": "stdout",
     "output_type": "stream",
     "text": [
      "HALLO\n",
      "Item ID: JBh4Q90EGzF9bfNWNEx_yQ_right\n",
      "Predicted Meter: 1.0\n",
      "Ground Truth: 25.0\n",
      "Error: 24.0\n",
      "==================================================\n",
      "How far is the gas station away from the camera in meters, rounded to the next meter?\n"
     ]
    },
    {
     "name": "stderr",
     "output_type": "stream",
     "text": [
      "Setting `pad_token_id` to `eos_token_id`:None for open-end generation.\n"
     ]
    },
    {
     "name": "stdout",
     "output_type": "stream",
     "text": [
      "HALLO\n",
      "Item ID: UK2rWp3Bd4YrFtzB7sqlvA_front\n",
      "Predicted Meter: 1.0\n",
      "Ground Truth: 29.0\n",
      "Error: 28.0\n",
      "==================================================\n",
      "How far is the gas station away from the camera in meters, rounded to the next meter?\n"
     ]
    },
    {
     "name": "stderr",
     "output_type": "stream",
     "text": [
      "Setting `pad_token_id` to `eos_token_id`:None for open-end generation.\n"
     ]
    },
    {
     "name": "stdout",
     "output_type": "stream",
     "text": [
      "HALLO\n",
      "Item ID: _O0jxrZYJf_QSDnbrH3_2g_front\n",
      "Predicted Meter: 100.0\n",
      "Ground Truth: 26.0\n",
      "Error: 74.0\n",
      "==================================================\n",
      "How far is the gas station away from the camera in meters, rounded to the next meter?\n"
     ]
    },
    {
     "name": "stderr",
     "output_type": "stream",
     "text": [
      "Setting `pad_token_id` to `eos_token_id`:None for open-end generation.\n"
     ]
    },
    {
     "name": "stdout",
     "output_type": "stream",
     "text": [
      "HALLO\n",
      "Item ID: Ym3CPMFWgLQgwLP7MoZerw_right\n",
      "Predicted Meter: 1.0\n",
      "Ground Truth: 25.0\n",
      "Error: 24.0\n",
      "==================================================\n",
      "How far is the post box away from the camera in meters, rounded to the next meter?\n"
     ]
    },
    {
     "name": "stderr",
     "output_type": "stream",
     "text": [
      "Setting `pad_token_id` to `eos_token_id`:None for open-end generation.\n"
     ]
    },
    {
     "name": "stdout",
     "output_type": "stream",
     "text": [
      "HALLO\n",
      "Item ID: 8naUjoF8o0pkX_YlDQHcCQ_left\n",
      "Predicted Meter: 1.0\n",
      "Ground Truth: 7.0\n",
      "Error: 6.0\n",
      "==================================================\n",
      "How far is the gas station away from the camera in meters, rounded to the next meter?\n"
     ]
    },
    {
     "name": "stderr",
     "output_type": "stream",
     "text": [
      "Setting `pad_token_id` to `eos_token_id`:None for open-end generation.\n"
     ]
    },
    {
     "name": "stdout",
     "output_type": "stream",
     "text": [
      "HALLO\n",
      "Item ID: P46zszgViyt-C8o6lET3Ow_left\n",
      "Predicted Meter: 1.0\n",
      "Ground Truth: 25.0\n",
      "Error: 24.0\n",
      "==================================================\n",
      "How far is the gas station away from the camera in meters, rounded to the next meter?\n"
     ]
    },
    {
     "name": "stderr",
     "output_type": "stream",
     "text": [
      "Setting `pad_token_id` to `eos_token_id`:None for open-end generation.\n"
     ]
    },
    {
     "name": "stdout",
     "output_type": "stream",
     "text": [
      "HALLO\n",
      "Item ID: 3owL9LAboiuqRM_8xI8c5w_left\n",
      "Predicted Meter: 1.0\n",
      "Ground Truth: 29.0\n",
      "Error: 28.0\n",
      "==================================================\n",
      "How far is the gas station away from the camera in meters, rounded to the next meter?\n"
     ]
    },
    {
     "name": "stderr",
     "output_type": "stream",
     "text": [
      "Setting `pad_token_id` to `eos_token_id`:None for open-end generation.\n"
     ]
    },
    {
     "name": "stdout",
     "output_type": "stream",
     "text": [
      "HALLO\n",
      "Item ID: a4pv7J1rC3HwrnQWaugEAA_left\n",
      "Predicted Meter: 1.0\n",
      "Ground Truth: 20.0\n",
      "Error: 19.0\n",
      "==================================================\n",
      "How far is the gas station away from the camera in meters, rounded to the next meter?\n"
     ]
    },
    {
     "name": "stderr",
     "output_type": "stream",
     "text": [
      "Setting `pad_token_id` to `eos_token_id`:None for open-end generation.\n"
     ]
    },
    {
     "name": "stdout",
     "output_type": "stream",
     "text": [
      "HALLO\n",
      "Item ID: pahz2YZlAB_f80CoGzLtSA_left\n",
      "Predicted Meter: 1.0\n",
      "Ground Truth: 30.0\n",
      "Error: 29.0\n",
      "==================================================\n",
      "How far is the gas station away from the camera in meters, rounded to the next meter?\n"
     ]
    },
    {
     "name": "stderr",
     "output_type": "stream",
     "text": [
      "Setting `pad_token_id` to `eos_token_id`:None for open-end generation.\n"
     ]
    },
    {
     "name": "stdout",
     "output_type": "stream",
     "text": [
      "HALLO\n",
      "Item ID: aniYGD6kiz9Gtf0l-70f2Q_left\n",
      "Predicted Meter: 1.0\n",
      "Ground Truth: 25.0\n",
      "Error: 24.0\n",
      "==================================================\n",
      "How far is the gas station away from the camera in meters, rounded to the next meter?\n"
     ]
    },
    {
     "name": "stderr",
     "output_type": "stream",
     "text": [
      "Setting `pad_token_id` to `eos_token_id`:None for open-end generation.\n"
     ]
    },
    {
     "name": "stdout",
     "output_type": "stream",
     "text": [
      "HALLO\n",
      "Item ID: TTV6SfcooODCtltjtgSdSg_left\n",
      "Predicted Meter: 1.0\n",
      "Ground Truth: 25.0\n",
      "Error: 24.0\n",
      "==================================================\n",
      "How far is the gas station away from the camera in meters, rounded to the next meter?\n"
     ]
    },
    {
     "name": "stderr",
     "output_type": "stream",
     "text": [
      "Setting `pad_token_id` to `eos_token_id`:None for open-end generation.\n"
     ]
    },
    {
     "name": "stdout",
     "output_type": "stream",
     "text": [
      "HALLO\n",
      "Item ID: vcaFbHdSXrGksEiMGrQLrQ_right\n",
      "Predicted Meter: 1.0\n",
      "Ground Truth: 21.0\n",
      "Error: 20.0\n",
      "==================================================\n",
      "How far is the gas station away from the camera in meters, rounded to the next meter?\n"
     ]
    },
    {
     "name": "stderr",
     "output_type": "stream",
     "text": [
      "Setting `pad_token_id` to `eos_token_id`:None for open-end generation.\n"
     ]
    },
    {
     "name": "stdout",
     "output_type": "stream",
     "text": [
      "HALLO\n",
      "Item ID: dWF-5O9XfAEky8SiZKOgRg_front\n",
      "Predicted Meter: 1.0\n",
      "Ground Truth: 29.0\n",
      "Error: 28.0\n",
      "==================================================\n",
      "How far is the post box away from the camera in meters, rounded to the next meter?\n"
     ]
    },
    {
     "name": "stderr",
     "output_type": "stream",
     "text": [
      "Setting `pad_token_id` to `eos_token_id`:None for open-end generation.\n"
     ]
    },
    {
     "name": "stdout",
     "output_type": "stream",
     "text": [
      "HALLO\n",
      "Item ID: MPBnrxKHyNuVDqVLQuyG9g_front\n",
      "Predicted Meter: 1.0\n",
      "Ground Truth: 20.0\n",
      "Error: 19.0\n",
      "==================================================\n",
      "How far is the gas station away from the camera in meters, rounded to the next meter?\n"
     ]
    },
    {
     "name": "stderr",
     "output_type": "stream",
     "text": [
      "Setting `pad_token_id` to `eos_token_id`:None for open-end generation.\n"
     ]
    },
    {
     "name": "stdout",
     "output_type": "stream",
     "text": [
      "HALLO\n",
      "Item ID: k2YBj5MKBV4ZN_iwZ4aCEQ_back\n",
      "Predicted Meter: 1.0\n",
      "Ground Truth: 13.0\n",
      "Error: 12.0\n",
      "==================================================\n",
      "How far is the gas station away from the camera in meters, rounded to the next meter?\n"
     ]
    },
    {
     "name": "stderr",
     "output_type": "stream",
     "text": [
      "Setting `pad_token_id` to `eos_token_id`:None for open-end generation.\n"
     ]
    },
    {
     "name": "stdout",
     "output_type": "stream",
     "text": [
      "HALLO\n",
      "Item ID: QsUUe_r6kLQGpz0mMQJItQ_back\n",
      "Predicted Meter: 1.0\n",
      "Ground Truth: 14.0\n",
      "Error: 13.0\n",
      "==================================================\n",
      "How far is the gas station away from the camera in meters, rounded to the next meter?\n"
     ]
    },
    {
     "name": "stderr",
     "output_type": "stream",
     "text": [
      "Setting `pad_token_id` to `eos_token_id`:None for open-end generation.\n"
     ]
    },
    {
     "name": "stdout",
     "output_type": "stream",
     "text": [
      "HALLO\n",
      "Item ID: cAjf-qb2WlKMgLqdL9nDKg_back\n",
      "Predicted Meter: 1.0\n",
      "Ground Truth: 20.0\n",
      "Error: 19.0\n",
      "==================================================\n",
      "How far is the gas station away from the camera in meters, rounded to the next meter?\n"
     ]
    },
    {
     "name": "stderr",
     "output_type": "stream",
     "text": [
      "Setting `pad_token_id` to `eos_token_id`:None for open-end generation.\n"
     ]
    },
    {
     "name": "stdout",
     "output_type": "stream",
     "text": [
      "HALLO\n",
      "Item ID: Z53S5bnyH7mNGBg_vJQcmA_left\n",
      "Predicted Meter: 1.0\n",
      "Ground Truth: 23.0\n",
      "Error: 22.0\n",
      "==================================================\n",
      "How far is the gas station away from the camera in meters, rounded to the next meter?\n"
     ]
    },
    {
     "name": "stderr",
     "output_type": "stream",
     "text": [
      "Setting `pad_token_id` to `eos_token_id`:None for open-end generation.\n"
     ]
    },
    {
     "name": "stdout",
     "output_type": "stream",
     "text": [
      "HALLO\n",
      "Item ID: k2bp2EYvD4dBPteB1oLO8A_right\n",
      "Predicted Meter: 1.0\n",
      "Ground Truth: 22.0\n",
      "Error: 21.0\n",
      "==================================================\n",
      "How far is the gas station away from the camera in meters, rounded to the next meter?\n"
     ]
    },
    {
     "name": "stderr",
     "output_type": "stream",
     "text": [
      "Setting `pad_token_id` to `eos_token_id`:None for open-end generation.\n"
     ]
    },
    {
     "name": "stdout",
     "output_type": "stream",
     "text": [
      "HALLO\n",
      "Item ID: F5BsVFC7xaJOKxCpu8yTPw_right\n",
      "Predicted Meter: 1.0\n",
      "Ground Truth: 18.0\n",
      "Error: 17.0\n",
      "==================================================\n",
      "How far is the gas station away from the camera in meters, rounded to the next meter?\n"
     ]
    },
    {
     "name": "stderr",
     "output_type": "stream",
     "text": [
      "Setting `pad_token_id` to `eos_token_id`:None for open-end generation.\n"
     ]
    },
    {
     "name": "stdout",
     "output_type": "stream",
     "text": [
      "HALLO\n",
      "Item ID: WwPPUkMasXt-Z4ABU64n5Q_left\n",
      "Predicted Meter: 1.0\n",
      "Ground Truth: 27.0\n",
      "Error: 26.0\n",
      "==================================================\n",
      "How far is the gas station away from the camera in meters, rounded to the next meter?\n"
     ]
    },
    {
     "name": "stderr",
     "output_type": "stream",
     "text": [
      "Setting `pad_token_id` to `eos_token_id`:None for open-end generation.\n"
     ]
    },
    {
     "name": "stdout",
     "output_type": "stream",
     "text": [
      "HALLO\n",
      "Item ID: Y-tv1UuQOqcdTwdkKu3ynA_back\n",
      "Predicted Meter: 1.0\n",
      "Ground Truth: 27.0\n",
      "Error: 26.0\n",
      "==================================================\n",
      "How far is the gas station away from the camera in meters, rounded to the next meter?\n"
     ]
    },
    {
     "name": "stderr",
     "output_type": "stream",
     "text": [
      "Setting `pad_token_id` to `eos_token_id`:None for open-end generation.\n"
     ]
    },
    {
     "name": "stdout",
     "output_type": "stream",
     "text": [
      "HALLO\n",
      "Item ID: WEoRVaCevfKMUZ-ZrcT7cg_front\n",
      "Predicted Meter: 1.0\n",
      "Ground Truth: 30.0\n",
      "Error: 29.0\n",
      "==================================================\n",
      "How far is the gas station away from the camera in meters, rounded to the next meter?\n"
     ]
    },
    {
     "name": "stderr",
     "output_type": "stream",
     "text": [
      "Setting `pad_token_id` to `eos_token_id`:None for open-end generation.\n"
     ]
    },
    {
     "name": "stdout",
     "output_type": "stream",
     "text": [
      "HALLO\n",
      "Item ID: DvhPeyRQJhMg3UHrlbW2-w_right\n",
      "Predicted Meter: 1.0\n",
      "Ground Truth: 22.0\n",
      "Error: 21.0\n",
      "==================================================\n",
      "How far is the gas station away from the camera in meters, rounded to the next meter?\n"
     ]
    },
    {
     "name": "stderr",
     "output_type": "stream",
     "text": [
      "Setting `pad_token_id` to `eos_token_id`:None for open-end generation.\n"
     ]
    },
    {
     "name": "stdout",
     "output_type": "stream",
     "text": [
      "HALLO\n",
      "Item ID: Q2OBeuPzC1Q72afMqUePsg_front\n",
      "Predicted Meter: 1.0\n",
      "Ground Truth: 26.0\n",
      "Error: 25.0\n",
      "==================================================\n",
      "How far is the gas station away from the camera in meters, rounded to the next meter?\n"
     ]
    },
    {
     "name": "stderr",
     "output_type": "stream",
     "text": [
      "Setting `pad_token_id` to `eos_token_id`:None for open-end generation.\n"
     ]
    },
    {
     "name": "stdout",
     "output_type": "stream",
     "text": [
      "HALLO\n",
      "Item ID: JE2OCpze2DtiqLnRi5HHJg_right\n",
      "Predicted Meter: 1.0\n",
      "Ground Truth: 16.0\n",
      "Error: 15.0\n",
      "==================================================\n",
      "How far is the gas station away from the camera in meters, rounded to the next meter?\n"
     ]
    },
    {
     "name": "stderr",
     "output_type": "stream",
     "text": [
      "Setting `pad_token_id` to `eos_token_id`:None for open-end generation.\n"
     ]
    },
    {
     "name": "stdout",
     "output_type": "stream",
     "text": [
      "HALLO\n",
      "Item ID: vTWkIglCRmG2TnGkIFHM7Q_front\n",
      "Predicted Meter: 1.0\n",
      "Ground Truth: 26.0\n",
      "Error: 25.0\n",
      "==================================================\n",
      "How far is the gas station away from the camera in meters, rounded to the next meter?\n"
     ]
    },
    {
     "name": "stderr",
     "output_type": "stream",
     "text": [
      "Setting `pad_token_id` to `eos_token_id`:None for open-end generation.\n"
     ]
    },
    {
     "name": "stdout",
     "output_type": "stream",
     "text": [
      "HALLO\n",
      "Item ID: jvZukHq03jbMHllXrubKrg_left\n",
      "Predicted Meter: 1.0\n",
      "Ground Truth: 18.0\n",
      "Error: 17.0\n",
      "==================================================\n",
      "How far is the gas station away from the camera in meters, rounded to the next meter?\n"
     ]
    },
    {
     "name": "stderr",
     "output_type": "stream",
     "text": [
      "Setting `pad_token_id` to `eos_token_id`:None for open-end generation.\n"
     ]
    },
    {
     "name": "stdout",
     "output_type": "stream",
     "text": [
      "HALLO\n",
      "Item ID: XW-9W9p2AVcQ77RIlngbtw_right\n",
      "Predicted Meter: 1.0\n",
      "Ground Truth: 27.0\n",
      "Error: 26.0\n",
      "==================================================\n",
      "How far is the gas station away from the camera in meters, rounded to the next meter?\n"
     ]
    },
    {
     "name": "stderr",
     "output_type": "stream",
     "text": [
      "Setting `pad_token_id` to `eos_token_id`:None for open-end generation.\n"
     ]
    },
    {
     "name": "stdout",
     "output_type": "stream",
     "text": [
      "HALLO\n",
      "Item ID: cFIOqI5tHirjVFr43ORP9A_front\n",
      "Predicted Meter: 1.0\n",
      "Ground Truth: 25.0\n",
      "Error: 24.0\n",
      "==================================================\n",
      "How far is the gas station away from the camera in meters, rounded to the next meter?\n"
     ]
    },
    {
     "name": "stderr",
     "output_type": "stream",
     "text": [
      "Setting `pad_token_id` to `eos_token_id`:None for open-end generation.\n"
     ]
    },
    {
     "name": "stdout",
     "output_type": "stream",
     "text": [
      "HALLO\n",
      "Item ID: zlVVWK2209dwiSv-jkQ7mA_front\n",
      "Predicted Meter: 1.0\n",
      "Ground Truth: 18.0\n",
      "Error: 17.0\n",
      "==================================================\n",
      "How far is the gas station away from the camera in meters, rounded to the next meter?\n"
     ]
    },
    {
     "name": "stderr",
     "output_type": "stream",
     "text": [
      "Setting `pad_token_id` to `eos_token_id`:None for open-end generation.\n"
     ]
    },
    {
     "name": "stdout",
     "output_type": "stream",
     "text": [
      "HALLO\n",
      "Item ID: 3bxRhzHjh-cWBHE3fS-JcA_right\n",
      "Predicted Meter: 1.0\n",
      "Ground Truth: 19.0\n",
      "Error: 18.0\n",
      "==================================================\n",
      "How far is the post box away from the camera in meters, rounded to the next meter?\n"
     ]
    },
    {
     "name": "stderr",
     "output_type": "stream",
     "text": [
      "Setting `pad_token_id` to `eos_token_id`:None for open-end generation.\n"
     ]
    },
    {
     "name": "stdout",
     "output_type": "stream",
     "text": [
      "HALLO\n",
      "Item ID: 7XSkktf9ACvkRIyMeQc03Q_front\n",
      "Predicted Meter: 1.0\n",
      "Ground Truth: 8.0\n",
      "Error: 7.0\n",
      "==================================================\n",
      "How far is the large waste dumpster away from the camera in meters, rounded to the next meter?\n"
     ]
    },
    {
     "name": "stderr",
     "output_type": "stream",
     "text": [
      "Setting `pad_token_id` to `eos_token_id`:None for open-end generation.\n"
     ]
    },
    {
     "name": "stdout",
     "output_type": "stream",
     "text": [
      "HALLO\n",
      "Item ID: AT91nZn9t9ftyX4ZUaT7ig_back\n",
      "Predicted Meter: 1.0\n",
      "Ground Truth: 19.0\n",
      "Error: 18.0\n",
      "==================================================\n",
      "How far is the gas station away from the camera in meters, rounded to the next meter?\n"
     ]
    },
    {
     "name": "stderr",
     "output_type": "stream",
     "text": [
      "Setting `pad_token_id` to `eos_token_id`:None for open-end generation.\n"
     ]
    },
    {
     "name": "stdout",
     "output_type": "stream",
     "text": [
      "HALLO\n",
      "Item ID: Rrfkhr-SlT5F6hHpq4CLPQ_right\n",
      "Predicted Meter: 1.0\n",
      "Ground Truth: 29.0\n",
      "Error: 28.0\n",
      "==================================================\n",
      "How far is the gas station away from the camera in meters, rounded to the next meter?\n"
     ]
    },
    {
     "name": "stderr",
     "output_type": "stream",
     "text": [
      "Setting `pad_token_id` to `eos_token_id`:None for open-end generation.\n"
     ]
    },
    {
     "name": "stdout",
     "output_type": "stream",
     "text": [
      "HALLO\n",
      "Item ID: 5Ey4TG-gAsmi1ua7pm6wkg_front\n",
      "Predicted Meter: 1.0\n",
      "Ground Truth: 24.0\n",
      "Error: 23.0\n",
      "==================================================\n",
      "How far is the gas station away from the camera in meters, rounded to the next meter?\n"
     ]
    },
    {
     "name": "stderr",
     "output_type": "stream",
     "text": [
      "Setting `pad_token_id` to `eos_token_id`:None for open-end generation.\n"
     ]
    },
    {
     "name": "stdout",
     "output_type": "stream",
     "text": [
      "HALLO\n",
      "Item ID: Z4Mm-TnKHDlaZxWdKO_1hg_right\n",
      "Predicted Meter: 1.0\n",
      "Ground Truth: 19.0\n",
      "Error: 18.0\n",
      "==================================================\n",
      "How far is the gas station away from the camera in meters, rounded to the next meter?\n"
     ]
    },
    {
     "name": "stderr",
     "output_type": "stream",
     "text": [
      "Setting `pad_token_id` to `eos_token_id`:None for open-end generation.\n"
     ]
    },
    {
     "name": "stdout",
     "output_type": "stream",
     "text": [
      "HALLO\n",
      "Item ID: 5l1iitQtnhauPWpB68_jFQ_left\n",
      "Predicted Meter: 1.0\n",
      "Ground Truth: 27.0\n",
      "Error: 26.0\n",
      "==================================================\n",
      "How far is the gas station away from the camera in meters, rounded to the next meter?\n"
     ]
    },
    {
     "name": "stderr",
     "output_type": "stream",
     "text": [
      "Setting `pad_token_id` to `eos_token_id`:None for open-end generation.\n"
     ]
    },
    {
     "name": "stdout",
     "output_type": "stream",
     "text": [
      "HALLO\n",
      "Item ID: 7FeZIFjcQAL-3ci60J3EFQ_left\n",
      "Predicted Meter: 1.0\n",
      "Ground Truth: 21.0\n",
      "Error: 20.0\n",
      "==================================================\n",
      "How far is the gas station away from the camera in meters, rounded to the next meter?\n"
     ]
    },
    {
     "name": "stderr",
     "output_type": "stream",
     "text": [
      "Setting `pad_token_id` to `eos_token_id`:None for open-end generation.\n"
     ]
    },
    {
     "name": "stdout",
     "output_type": "stream",
     "text": [
      "HALLO\n",
      "Item ID: 8HdhRsrE8MmqEgcq3vttxw_right\n",
      "Predicted Meter: 1.0\n",
      "Ground Truth: 28.0\n",
      "Error: 27.0\n",
      "==================================================\n",
      "How far is the post box away from the camera in meters, rounded to the next meter?\n"
     ]
    },
    {
     "name": "stderr",
     "output_type": "stream",
     "text": [
      "Setting `pad_token_id` to `eos_token_id`:None for open-end generation.\n"
     ]
    },
    {
     "name": "stdout",
     "output_type": "stream",
     "text": [
      "HALLO\n",
      "Item ID: JwmZvLLBilTA-5jI2gTazw_front\n",
      "Predicted Meter: 1.0\n",
      "Ground Truth: 19.0\n",
      "Error: 18.0\n",
      "==================================================\n",
      "How far is the gas station away from the camera in meters, rounded to the next meter?\n"
     ]
    },
    {
     "name": "stderr",
     "output_type": "stream",
     "text": [
      "Setting `pad_token_id` to `eos_token_id`:None for open-end generation.\n"
     ]
    },
    {
     "name": "stdout",
     "output_type": "stream",
     "text": [
      "HALLO\n",
      "Item ID: NqpFTRtqj2fUyQyQYhFSzQ_right\n",
      "Predicted Meter: 1.0\n",
      "Ground Truth: 29.0\n",
      "Error: 28.0\n",
      "==================================================\n",
      "How far is the gas station away from the camera in meters, rounded to the next meter?\n"
     ]
    },
    {
     "name": "stderr",
     "output_type": "stream",
     "text": [
      "Setting `pad_token_id` to `eos_token_id`:None for open-end generation.\n"
     ]
    },
    {
     "name": "stdout",
     "output_type": "stream",
     "text": [
      "HALLO\n",
      "Item ID: Ce0tHCxNMDi6wPRp-s47jw_right\n",
      "Predicted Meter: 1.0\n",
      "Ground Truth: 23.0\n",
      "Error: 22.0\n",
      "==================================================\n",
      "How far is the gas station away from the camera in meters, rounded to the next meter?\n"
     ]
    },
    {
     "name": "stderr",
     "output_type": "stream",
     "text": [
      "Setting `pad_token_id` to `eos_token_id`:None for open-end generation.\n"
     ]
    },
    {
     "name": "stdout",
     "output_type": "stream",
     "text": [
      "HALLO\n",
      "Item ID: nVAA5-GdotO9RbO9NjI-qw_right\n",
      "Predicted Meter: 1.0\n",
      "Ground Truth: 20.0\n",
      "Error: 19.0\n",
      "==================================================\n",
      "How far is the gas station away from the camera in meters, rounded to the next meter?\n"
     ]
    },
    {
     "name": "stderr",
     "output_type": "stream",
     "text": [
      "Setting `pad_token_id` to `eos_token_id`:None for open-end generation.\n"
     ]
    },
    {
     "name": "stdout",
     "output_type": "stream",
     "text": [
      "HALLO\n",
      "Item ID: QrMeDQ9jdGJJ0rV2PVJEiw_back\n",
      "Predicted Meter: 1.0\n",
      "Ground Truth: 20.0\n",
      "Error: 19.0\n",
      "==================================================\n",
      "How far is the gas station away from the camera in meters, rounded to the next meter?\n"
     ]
    },
    {
     "name": "stderr",
     "output_type": "stream",
     "text": [
      "Setting `pad_token_id` to `eos_token_id`:None for open-end generation.\n"
     ]
    },
    {
     "name": "stdout",
     "output_type": "stream",
     "text": [
      "HALLO\n",
      "Item ID: 8pEZHqbN5u8_yG8_dfXbwg_front\n",
      "Predicted Meter: 1.0\n",
      "Ground Truth: 27.0\n",
      "Error: 26.0\n",
      "==================================================\n",
      "How far is the post box away from the camera in meters, rounded to the next meter?\n"
     ]
    },
    {
     "name": "stderr",
     "output_type": "stream",
     "text": [
      "Setting `pad_token_id` to `eos_token_id`:None for open-end generation.\n"
     ]
    },
    {
     "name": "stdout",
     "output_type": "stream",
     "text": [
      "HALLO\n",
      "Item ID: 6-mgzznPhuvGSSjQkq6Jcw_right\n",
      "Predicted Meter: 1.0\n",
      "Ground Truth: 13.0\n",
      "Error: 12.0\n",
      "==================================================\n",
      "How far is the gas station away from the camera in meters, rounded to the next meter?\n"
     ]
    },
    {
     "name": "stderr",
     "output_type": "stream",
     "text": [
      "Setting `pad_token_id` to `eos_token_id`:None for open-end generation.\n"
     ]
    },
    {
     "name": "stdout",
     "output_type": "stream",
     "text": [
      "HALLO\n",
      "Item ID: Pfii6WqCwWdlp5FC-V4-tg_right\n",
      "Predicted Meter: 1.0\n",
      "Ground Truth: 28.0\n",
      "Error: 27.0\n",
      "==================================================\n",
      "How far is the gas station away from the camera in meters, rounded to the next meter?\n"
     ]
    },
    {
     "name": "stderr",
     "output_type": "stream",
     "text": [
      "Setting `pad_token_id` to `eos_token_id`:None for open-end generation.\n"
     ]
    },
    {
     "name": "stdout",
     "output_type": "stream",
     "text": [
      "HALLO\n",
      "Item ID: 8b9HdmvIET8ZzN25BPoAqg_right\n",
      "Predicted Meter: 1.0\n",
      "Ground Truth: 26.0\n",
      "Error: 25.0\n",
      "==================================================\n",
      "How far is the post box away from the camera in meters, rounded to the next meter?\n"
     ]
    },
    {
     "name": "stderr",
     "output_type": "stream",
     "text": [
      "Setting `pad_token_id` to `eos_token_id`:None for open-end generation.\n"
     ]
    },
    {
     "name": "stdout",
     "output_type": "stream",
     "text": [
      "HALLO\n",
      "Item ID: XBZ7vig2eHnbKujbK0YrKw_right\n",
      "Predicted Meter: 1.0\n",
      "Ground Truth: 3.0\n",
      "Error: 2.0\n",
      "==================================================\n",
      "How far is the gas station away from the camera in meters, rounded to the next meter?\n"
     ]
    },
    {
     "name": "stderr",
     "output_type": "stream",
     "text": [
      "Setting `pad_token_id` to `eos_token_id`:None for open-end generation.\n"
     ]
    },
    {
     "name": "stdout",
     "output_type": "stream",
     "text": [
      "HALLO\n",
      "Item ID: 7ek2uD1SadiiO7S_CiCaFQ_right\n",
      "Predicted Meter: 1.0\n",
      "Ground Truth: 25.0\n",
      "Error: 24.0\n",
      "==================================================\n",
      "How far is the gas station away from the camera in meters, rounded to the next meter?\n"
     ]
    },
    {
     "name": "stderr",
     "output_type": "stream",
     "text": [
      "Setting `pad_token_id` to `eos_token_id`:None for open-end generation.\n"
     ]
    },
    {
     "name": "stdout",
     "output_type": "stream",
     "text": [
      "HALLO\n",
      "Item ID: h_pdMobutR1b38Ek1Yf24Q_right\n",
      "Predicted Meter: 1.0\n",
      "Ground Truth: 18.0\n",
      "Error: 17.0\n",
      "==================================================\n",
      "How far is the gas station away from the camera in meters, rounded to the next meter?\n"
     ]
    },
    {
     "name": "stderr",
     "output_type": "stream",
     "text": [
      "Setting `pad_token_id` to `eos_token_id`:None for open-end generation.\n"
     ]
    },
    {
     "name": "stdout",
     "output_type": "stream",
     "text": [
      "HALLO\n",
      "Item ID: zSYaKhsUunxd2HieLw--Bw_back\n",
      "Predicted Meter: 1.0\n",
      "Ground Truth: 23.0\n",
      "Error: 22.0\n",
      "==================================================\n",
      "How far is the gas station away from the camera in meters, rounded to the next meter?\n"
     ]
    },
    {
     "name": "stderr",
     "output_type": "stream",
     "text": [
      "Setting `pad_token_id` to `eos_token_id`:None for open-end generation.\n"
     ]
    },
    {
     "name": "stdout",
     "output_type": "stream",
     "text": [
      "HALLO\n",
      "Item ID: ooonkaHPxwqhujFUqM5pxw_back\n",
      "Predicted Meter: 1.0\n",
      "Ground Truth: 27.0\n",
      "Error: 26.0\n",
      "==================================================\n",
      "How far is the gas station away from the camera in meters, rounded to the next meter?\n"
     ]
    },
    {
     "name": "stderr",
     "output_type": "stream",
     "text": [
      "Setting `pad_token_id` to `eos_token_id`:None for open-end generation.\n"
     ]
    },
    {
     "name": "stdout",
     "output_type": "stream",
     "text": [
      "HALLO\n",
      "Item ID: jxLJB3l_o_cvFGl6JM__wQ_right\n",
      "Predicted Meter: 1.0\n",
      "Ground Truth: 18.0\n",
      "Error: 17.0\n",
      "==================================================\n",
      "How far is the gas station away from the camera in meters, rounded to the next meter?\n"
     ]
    },
    {
     "name": "stderr",
     "output_type": "stream",
     "text": [
      "Setting `pad_token_id` to `eos_token_id`:None for open-end generation.\n"
     ]
    },
    {
     "name": "stdout",
     "output_type": "stream",
     "text": [
      "HALLO\n",
      "Item ID: euF84E5dXEqouOs2QXcQvw_right\n",
      "Predicted Meter: 1.0\n",
      "Ground Truth: 25.0\n",
      "Error: 24.0\n",
      "==================================================\n",
      "How far is the gas station away from the camera in meters, rounded to the next meter?\n"
     ]
    },
    {
     "name": "stderr",
     "output_type": "stream",
     "text": [
      "Setting `pad_token_id` to `eos_token_id`:None for open-end generation.\n"
     ]
    },
    {
     "name": "stdout",
     "output_type": "stream",
     "text": [
      "HALLO\n",
      "Item ID: sBvClBUQk7xVDK-zZ7cJsg_left\n",
      "Predicted Meter: 1.0\n",
      "Ground Truth: 24.0\n",
      "Error: 23.0\n",
      "==================================================\n",
      "How far is the gas station away from the camera in meters, rounded to the next meter?\n"
     ]
    },
    {
     "name": "stderr",
     "output_type": "stream",
     "text": [
      "Setting `pad_token_id` to `eos_token_id`:None for open-end generation.\n"
     ]
    },
    {
     "name": "stdout",
     "output_type": "stream",
     "text": [
      "HALLO\n",
      "Item ID: 6nJTO2TykG9p_u6nqNIDfw_left\n",
      "Predicted Meter: 1.0\n",
      "Ground Truth: 30.0\n",
      "Error: 29.0\n",
      "==================================================\n",
      "How far is the gas station away from the camera in meters, rounded to the next meter?\n"
     ]
    },
    {
     "name": "stderr",
     "output_type": "stream",
     "text": [
      "Setting `pad_token_id` to `eos_token_id`:None for open-end generation.\n"
     ]
    },
    {
     "name": "stdout",
     "output_type": "stream",
     "text": [
      "HALLO\n",
      "Item ID: vIIbBr4Zyvw5iE2qnXkDFw_right\n",
      "Predicted Meter: 1.0\n",
      "Ground Truth: 24.0\n",
      "Error: 23.0\n",
      "==================================================\n",
      "How far is the post box away from the camera in meters, rounded to the next meter?\n"
     ]
    },
    {
     "name": "stderr",
     "output_type": "stream",
     "text": [
      "Setting `pad_token_id` to `eos_token_id`:None for open-end generation.\n"
     ]
    },
    {
     "name": "stdout",
     "output_type": "stream",
     "text": [
      "HALLO\n",
      "Item ID: QjGIJdW81n-QPSYKVx9yeg_left\n",
      "Predicted Meter: 1.0\n",
      "Ground Truth: 28.0\n",
      "Error: 27.0\n",
      "==================================================\n",
      "How far is the gas station away from the camera in meters, rounded to the next meter?\n"
     ]
    },
    {
     "name": "stderr",
     "output_type": "stream",
     "text": [
      "Setting `pad_token_id` to `eos_token_id`:None for open-end generation.\n"
     ]
    },
    {
     "name": "stdout",
     "output_type": "stream",
     "text": [
      "HALLO\n",
      "Item ID: Tn4uYOv0Lgp7BJQXxWgu0A_right\n",
      "Predicted Meter: 1.0\n",
      "Ground Truth: 30.0\n",
      "Error: 29.0\n",
      "==================================================\n",
      "How far is the atm away from the camera in meters, rounded to the next meter?\n"
     ]
    },
    {
     "name": "stderr",
     "output_type": "stream",
     "text": [
      "Setting `pad_token_id` to `eos_token_id`:None for open-end generation.\n"
     ]
    },
    {
     "name": "stdout",
     "output_type": "stream",
     "text": [
      "HALLO\n",
      "Item ID: eK6GR-zlSKodjUThcJH4UA_left\n",
      "Predicted Meter: 1.0\n",
      "Ground Truth: 18.0\n",
      "Error: 17.0\n",
      "==================================================\n",
      "How far is the gas station away from the camera in meters, rounded to the next meter?\n"
     ]
    },
    {
     "name": "stderr",
     "output_type": "stream",
     "text": [
      "Setting `pad_token_id` to `eos_token_id`:None for open-end generation.\n"
     ]
    },
    {
     "name": "stdout",
     "output_type": "stream",
     "text": [
      "HALLO\n",
      "Item ID: MCsrah6QrlrSsMR4q-bdrg_right\n",
      "Predicted Meter: 1.0\n",
      "Ground Truth: 29.0\n",
      "Error: 28.0\n",
      "==================================================\n",
      "How far is the gas station away from the camera in meters, rounded to the next meter?\n"
     ]
    },
    {
     "name": "stderr",
     "output_type": "stream",
     "text": [
      "Setting `pad_token_id` to `eos_token_id`:None for open-end generation.\n"
     ]
    },
    {
     "name": "stdout",
     "output_type": "stream",
     "text": [
      "HALLO\n",
      "Item ID: gyO5-qLWE4VT16crnReokw_front\n",
      "Predicted Meter: 1.0\n",
      "Ground Truth: 30.0\n",
      "Error: 29.0\n",
      "==================================================\n",
      "How far is the gas station away from the camera in meters, rounded to the next meter?\n"
     ]
    },
    {
     "name": "stderr",
     "output_type": "stream",
     "text": [
      "Setting `pad_token_id` to `eos_token_id`:None for open-end generation.\n"
     ]
    },
    {
     "name": "stdout",
     "output_type": "stream",
     "text": [
      "HALLO\n",
      "Item ID: gcev0hxtltoqCuqDffc1Ig_left\n",
      "Predicted Meter: 1.0\n",
      "Ground Truth: 22.0\n",
      "Error: 21.0\n",
      "==================================================\n",
      "How far is the vending machine away from the camera in meters, rounded to the next meter?\n"
     ]
    },
    {
     "name": "stderr",
     "output_type": "stream",
     "text": [
      "Setting `pad_token_id` to `eos_token_id`:None for open-end generation.\n"
     ]
    },
    {
     "name": "stdout",
     "output_type": "stream",
     "text": [
      "HALLO\n",
      "Item ID: QarynNyW6wNqfaYJwWl8mw_left\n",
      "Predicted Meter: 1.0\n",
      "Ground Truth: 24.0\n",
      "Error: 23.0\n",
      "==================================================\n",
      "How far is the gas station away from the camera in meters, rounded to the next meter?\n"
     ]
    },
    {
     "name": "stderr",
     "output_type": "stream",
     "text": [
      "Setting `pad_token_id` to `eos_token_id`:None for open-end generation.\n"
     ]
    },
    {
     "name": "stdout",
     "output_type": "stream",
     "text": [
      "HALLO\n",
      "Item ID: vqLP0uk2AgSU1smrbC9Kvg_right\n",
      "Predicted Meter: 1.0\n",
      "Ground Truth: 12.0\n",
      "Error: 11.0\n",
      "==================================================\n",
      "How far is the vending machine away from the camera in meters, rounded to the next meter?\n"
     ]
    },
    {
     "name": "stderr",
     "output_type": "stream",
     "text": [
      "Setting `pad_token_id` to `eos_token_id`:None for open-end generation.\n"
     ]
    },
    {
     "name": "stdout",
     "output_type": "stream",
     "text": [
      "HALLO\n",
      "Item ID: KcU4SrBPYpdOKOg1GG6tLQ_left\n",
      "Predicted Meter: 1.0\n",
      "Ground Truth: 7.0\n",
      "Error: 6.0\n",
      "==================================================\n",
      "How far is the gas station away from the camera in meters, rounded to the next meter?\n"
     ]
    },
    {
     "name": "stderr",
     "output_type": "stream",
     "text": [
      "Setting `pad_token_id` to `eos_token_id`:None for open-end generation.\n"
     ]
    },
    {
     "name": "stdout",
     "output_type": "stream",
     "text": [
      "HALLO\n",
      "Item ID: fq9dHETPobs-9ThuB39XIA_left\n",
      "Predicted Meter: 1.0\n",
      "Ground Truth: 28.0\n",
      "Error: 27.0\n",
      "==================================================\n",
      "How far is the gas station away from the camera in meters, rounded to the next meter?\n"
     ]
    },
    {
     "name": "stderr",
     "output_type": "stream",
     "text": [
      "Setting `pad_token_id` to `eos_token_id`:None for open-end generation.\n"
     ]
    },
    {
     "name": "stdout",
     "output_type": "stream",
     "text": [
      "HALLO\n",
      "Item ID: De-ve_jLpQ2Qtp8TdV1B7w_back\n",
      "Predicted Meter: 1.0\n",
      "Ground Truth: 26.0\n",
      "Error: 25.0\n",
      "==================================================\n",
      "How far is the gas station away from the camera in meters, rounded to the next meter?\n"
     ]
    },
    {
     "name": "stderr",
     "output_type": "stream",
     "text": [
      "Setting `pad_token_id` to `eos_token_id`:None for open-end generation.\n"
     ]
    },
    {
     "name": "stdout",
     "output_type": "stream",
     "text": [
      "HALLO\n",
      "Item ID: 0zUQyjBxNCgr2m5DcaFD7g_left\n",
      "Predicted Meter: 1.0\n",
      "Ground Truth: 22.0\n",
      "Error: 21.0\n",
      "==================================================\n",
      "How far is the gas station away from the camera in meters, rounded to the next meter?\n"
     ]
    },
    {
     "name": "stderr",
     "output_type": "stream",
     "text": [
      "Setting `pad_token_id` to `eos_token_id`:None for open-end generation.\n"
     ]
    },
    {
     "name": "stdout",
     "output_type": "stream",
     "text": [
      "HALLO\n",
      "Item ID: 9aAQN3uUShfw9hrpyhlJPQ_right\n",
      "Predicted Meter: 1.0\n",
      "Ground Truth: 19.0\n",
      "Error: 18.0\n",
      "==================================================\n",
      "How far is the gas station away from the camera in meters, rounded to the next meter?\n"
     ]
    },
    {
     "name": "stderr",
     "output_type": "stream",
     "text": [
      "Setting `pad_token_id` to `eos_token_id`:None for open-end generation.\n"
     ]
    },
    {
     "name": "stdout",
     "output_type": "stream",
     "text": [
      "HALLO\n",
      "Item ID: 23K2mFVzbr6lgTCY23RSyA_left\n",
      "Predicted Meter: 1.0\n",
      "Ground Truth: 26.0\n",
      "Error: 25.0\n",
      "==================================================\n",
      "How far is the post box away from the camera in meters, rounded to the next meter?\n"
     ]
    },
    {
     "name": "stderr",
     "output_type": "stream",
     "text": [
      "Setting `pad_token_id` to `eos_token_id`:None for open-end generation.\n"
     ]
    },
    {
     "name": "stdout",
     "output_type": "stream",
     "text": [
      "HALLO\n",
      "Item ID: ZtEPmOuKRrXgxN530WjKcQ_left\n",
      "Predicted Meter: 1.0\n",
      "Ground Truth: 25.0\n",
      "Error: 24.0\n",
      "==================================================\n",
      "How far is the gas station away from the camera in meters, rounded to the next meter?\n"
     ]
    },
    {
     "name": "stderr",
     "output_type": "stream",
     "text": [
      "Setting `pad_token_id` to `eos_token_id`:None for open-end generation.\n"
     ]
    },
    {
     "name": "stdout",
     "output_type": "stream",
     "text": [
      "HALLO\n",
      "Item ID: MCT0I-phnpTIdJSHxPtY-g_right\n",
      "Predicted Meter: 1.0\n",
      "Ground Truth: 27.0\n",
      "Error: 26.0\n",
      "==================================================\n",
      "How far is the gas station away from the camera in meters, rounded to the next meter?\n"
     ]
    },
    {
     "name": "stderr",
     "output_type": "stream",
     "text": [
      "Setting `pad_token_id` to `eos_token_id`:None for open-end generation.\n"
     ]
    },
    {
     "name": "stdout",
     "output_type": "stream",
     "text": [
      "HALLO\n",
      "Item ID: mgrFIGd_29iyc-W2Ss-5jw_right\n",
      "Predicted Meter: 1.0\n",
      "Ground Truth: 28.0\n",
      "Error: 27.0\n",
      "==================================================\n",
      "How far is the gas station away from the camera in meters, rounded to the next meter?\n"
     ]
    },
    {
     "name": "stderr",
     "output_type": "stream",
     "text": [
      "Setting `pad_token_id` to `eos_token_id`:None for open-end generation.\n"
     ]
    },
    {
     "name": "stdout",
     "output_type": "stream",
     "text": [
      "HALLO\n",
      "Item ID: mlYvnxD8afYF5Nk-OF586Q_back\n",
      "Predicted Meter: 1.0\n",
      "Ground Truth: 27.0\n",
      "Error: 26.0\n",
      "==================================================\n",
      "How far is the gas station away from the camera in meters, rounded to the next meter?\n"
     ]
    },
    {
     "name": "stderr",
     "output_type": "stream",
     "text": [
      "Setting `pad_token_id` to `eos_token_id`:None for open-end generation.\n"
     ]
    },
    {
     "name": "stdout",
     "output_type": "stream",
     "text": [
      "HALLO\n",
      "Item ID: TiowKAVmIDB9vomUrCEavA_back\n",
      "Predicted Meter: 1.0\n",
      "Ground Truth: 27.0\n",
      "Error: 26.0\n",
      "==================================================\n",
      "How far is the gas station away from the camera in meters, rounded to the next meter?\n"
     ]
    },
    {
     "name": "stderr",
     "output_type": "stream",
     "text": [
      "Setting `pad_token_id` to `eos_token_id`:None for open-end generation.\n"
     ]
    },
    {
     "name": "stdout",
     "output_type": "stream",
     "text": [
      "HALLO\n",
      "Item ID: 5SVYauUAV9ZXo2j86RG9Nw_right\n",
      "Predicted Meter: 1.0\n",
      "Ground Truth: 19.0\n",
      "Error: 18.0\n",
      "==================================================\n",
      "How far is the gas station away from the camera in meters, rounded to the next meter?\n"
     ]
    },
    {
     "name": "stderr",
     "output_type": "stream",
     "text": [
      "Setting `pad_token_id` to `eos_token_id`:None for open-end generation.\n"
     ]
    },
    {
     "name": "stdout",
     "output_type": "stream",
     "text": [
      "HALLO\n",
      "Item ID: Hb7GT5BfydzVAky33nEYWw_right\n",
      "Predicted Meter: 1.0\n",
      "Ground Truth: 28.0\n",
      "Error: 27.0\n",
      "==================================================\n",
      "How far is the gas station away from the camera in meters, rounded to the next meter?\n"
     ]
    },
    {
     "name": "stderr",
     "output_type": "stream",
     "text": [
      "Setting `pad_token_id` to `eos_token_id`:None for open-end generation.\n"
     ]
    },
    {
     "name": "stdout",
     "output_type": "stream",
     "text": [
      "HALLO\n",
      "Item ID: n_-sAWzo-dL9XYZ3UzaYqA_front\n",
      "Predicted Meter: 1.0\n",
      "Ground Truth: 26.0\n",
      "Error: 25.0\n",
      "==================================================\n",
      "How far is the gas station away from the camera in meters, rounded to the next meter?\n"
     ]
    },
    {
     "name": "stderr",
     "output_type": "stream",
     "text": [
      "Setting `pad_token_id` to `eos_token_id`:None for open-end generation.\n"
     ]
    },
    {
     "name": "stdout",
     "output_type": "stream",
     "text": [
      "HALLO\n",
      "Item ID: 8IFkUwxQ62DDv-tOHhqTQg_right\n",
      "Predicted Meter: 1.0\n",
      "Ground Truth: 23.0\n",
      "Error: 22.0\n",
      "==================================================\n",
      "How far is the gas station away from the camera in meters, rounded to the next meter?\n"
     ]
    },
    {
     "name": "stderr",
     "output_type": "stream",
     "text": [
      "Setting `pad_token_id` to `eos_token_id`:None for open-end generation.\n"
     ]
    },
    {
     "name": "stdout",
     "output_type": "stream",
     "text": [
      "HALLO\n",
      "Item ID: t-ObecRVp4gxHXU-c2LqWA_right\n",
      "Predicted Meter: 1.0\n",
      "Ground Truth: 19.0\n",
      "Error: 18.0\n",
      "==================================================\n",
      "How far is the gas station away from the camera in meters, rounded to the next meter?\n"
     ]
    },
    {
     "name": "stderr",
     "output_type": "stream",
     "text": [
      "Setting `pad_token_id` to `eos_token_id`:None for open-end generation.\n"
     ]
    },
    {
     "name": "stdout",
     "output_type": "stream",
     "text": [
      "HALLO\n",
      "Item ID: yX3nYikBoHLy4CRAPIzBug_left\n",
      "Predicted Meter: 1.0\n",
      "Ground Truth: 25.0\n",
      "Error: 24.0\n",
      "==================================================\n",
      "How far is the gas station away from the camera in meters, rounded to the next meter?\n"
     ]
    },
    {
     "name": "stderr",
     "output_type": "stream",
     "text": [
      "Setting `pad_token_id` to `eos_token_id`:None for open-end generation.\n"
     ]
    },
    {
     "name": "stdout",
     "output_type": "stream",
     "text": [
      "HALLO\n",
      "Item ID: 34rhcF7_5z_xCF7rHKL4Ug_left\n",
      "Predicted Meter: 1.0\n",
      "Ground Truth: 25.0\n",
      "Error: 24.0\n",
      "==================================================\n",
      "How far is the gas station away from the camera in meters, rounded to the next meter?\n"
     ]
    },
    {
     "name": "stderr",
     "output_type": "stream",
     "text": [
      "Setting `pad_token_id` to `eos_token_id`:None for open-end generation.\n"
     ]
    },
    {
     "name": "stdout",
     "output_type": "stream",
     "text": [
      "HALLO\n",
      "Item ID: nwRZPegKQEcE9K_vk69Z9Q_left\n",
      "Predicted Meter: 1.0\n",
      "Ground Truth: 29.0\n",
      "Error: 28.0\n",
      "==================================================\n",
      "How far is the gas station away from the camera in meters, rounded to the next meter?\n"
     ]
    },
    {
     "name": "stderr",
     "output_type": "stream",
     "text": [
      "Setting `pad_token_id` to `eos_token_id`:None for open-end generation.\n"
     ]
    },
    {
     "name": "stdout",
     "output_type": "stream",
     "text": [
      "HALLO\n",
      "Item ID: ysT0A7MmG8MHyY5MFjgfzg_left\n",
      "Predicted Meter: 1.0\n",
      "Ground Truth: 30.0\n",
      "Error: 29.0\n",
      "==================================================\n",
      "How far is the gas station away from the camera in meters, rounded to the next meter?\n"
     ]
    },
    {
     "name": "stderr",
     "output_type": "stream",
     "text": [
      "Setting `pad_token_id` to `eos_token_id`:None for open-end generation.\n"
     ]
    },
    {
     "name": "stdout",
     "output_type": "stream",
     "text": [
      "HALLO\n",
      "Item ID: hUKSWoNyPXipTtKRMMVNpw_left\n",
      "Predicted Meter: 1.0\n",
      "Ground Truth: 22.0\n",
      "Error: 21.0\n",
      "==================================================\n",
      "How far is the post box away from the camera in meters, rounded to the next meter?\n"
     ]
    },
    {
     "name": "stderr",
     "output_type": "stream",
     "text": [
      "Setting `pad_token_id` to `eos_token_id`:None for open-end generation.\n"
     ]
    },
    {
     "name": "stdout",
     "output_type": "stream",
     "text": [
      "HALLO\n",
      "Item ID: P11gxo_aHViVXuN2TI1OHg_back\n",
      "Predicted Meter: 1.0\n",
      "Ground Truth: 20.0\n",
      "Error: 19.0\n",
      "==================================================\n",
      "How far is the gas station away from the camera in meters, rounded to the next meter?\n"
     ]
    },
    {
     "name": "stderr",
     "output_type": "stream",
     "text": [
      "Setting `pad_token_id` to `eos_token_id`:None for open-end generation.\n"
     ]
    },
    {
     "name": "stdout",
     "output_type": "stream",
     "text": [
      "HALLO\n",
      "Item ID: yk32zNW_DJiLkXyl-tAW1Q_front\n",
      "Predicted Meter: 1.0\n",
      "Ground Truth: 30.0\n",
      "Error: 29.0\n",
      "==================================================\n",
      "How far is the gas station away from the camera in meters, rounded to the next meter?\n"
     ]
    },
    {
     "name": "stderr",
     "output_type": "stream",
     "text": [
      "Setting `pad_token_id` to `eos_token_id`:None for open-end generation.\n"
     ]
    },
    {
     "name": "stdout",
     "output_type": "stream",
     "text": [
      "HALLO\n",
      "Item ID: rn5P8mSyhi_XnmRqx6nBKQ_left\n",
      "Predicted Meter: 1.0\n",
      "Ground Truth: 23.0\n",
      "Error: 22.0\n",
      "==================================================\n",
      "How far is the gas station away from the camera in meters, rounded to the next meter?\n"
     ]
    },
    {
     "name": "stderr",
     "output_type": "stream",
     "text": [
      "Setting `pad_token_id` to `eos_token_id`:None for open-end generation.\n"
     ]
    },
    {
     "name": "stdout",
     "output_type": "stream",
     "text": [
      "HALLO\n",
      "Item ID: f6f84yNmkf8dSKmA1WLL7g_right\n",
      "Predicted Meter: 1.0\n",
      "Ground Truth: 21.0\n",
      "Error: 20.0\n",
      "==================================================\n",
      "How far is the gas station away from the camera in meters, rounded to the next meter?\n"
     ]
    },
    {
     "name": "stderr",
     "output_type": "stream",
     "text": [
      "Setting `pad_token_id` to `eos_token_id`:None for open-end generation.\n"
     ]
    },
    {
     "name": "stdout",
     "output_type": "stream",
     "text": [
      "HALLO\n",
      "Item ID: 6rMd7Pu3dPDxfKH2hLr2cg_back\n",
      "Predicted Meter: 1.0\n",
      "Ground Truth: 13.0\n",
      "Error: 12.0\n",
      "==================================================\n",
      "How far is the vending machine away from the camera in meters, rounded to the next meter?\n"
     ]
    },
    {
     "name": "stderr",
     "output_type": "stream",
     "text": [
      "Setting `pad_token_id` to `eos_token_id`:None for open-end generation.\n"
     ]
    },
    {
     "name": "stdout",
     "output_type": "stream",
     "text": [
      "HALLO\n",
      "Item ID: gfnR0b6W1zb84NAfdD8sLQ_right\n",
      "Predicted Meter: 1.0\n",
      "Ground Truth: 21.0\n",
      "Error: 20.0\n",
      "==================================================\n",
      "How far is the gas station away from the camera in meters, rounded to the next meter?\n"
     ]
    },
    {
     "name": "stderr",
     "output_type": "stream",
     "text": [
      "Setting `pad_token_id` to `eos_token_id`:None for open-end generation.\n"
     ]
    },
    {
     "name": "stdout",
     "output_type": "stream",
     "text": [
      "HALLO\n",
      "Item ID: IC6kW3S7XTym0qyTt0JbHQ_left\n",
      "Predicted Meter: 1.0\n",
      "Ground Truth: 30.0\n",
      "Error: 29.0\n",
      "==================================================\n",
      "How far is the gas station away from the camera in meters, rounded to the next meter?\n"
     ]
    },
    {
     "name": "stderr",
     "output_type": "stream",
     "text": [
      "Setting `pad_token_id` to `eos_token_id`:None for open-end generation.\n"
     ]
    },
    {
     "name": "stdout",
     "output_type": "stream",
     "text": [
      "HALLO\n",
      "Item ID: dONIwocp2GAJUXZYYG83Kw_right\n",
      "Predicted Meter: 1.0\n",
      "Ground Truth: 26.0\n",
      "Error: 25.0\n",
      "==================================================\n",
      "How far is the gas station away from the camera in meters, rounded to the next meter?\n"
     ]
    },
    {
     "name": "stderr",
     "output_type": "stream",
     "text": [
      "Setting `pad_token_id` to `eos_token_id`:None for open-end generation.\n"
     ]
    },
    {
     "name": "stdout",
     "output_type": "stream",
     "text": [
      "HALLO\n",
      "Item ID: jzPv_XRZOHrODSl7I9CQ3g_right\n",
      "Predicted Meter: 1.0\n",
      "Ground Truth: 26.0\n",
      "Error: 25.0\n",
      "==================================================\n",
      "How far is the gas station away from the camera in meters, rounded to the next meter?\n"
     ]
    },
    {
     "name": "stderr",
     "output_type": "stream",
     "text": [
      "Setting `pad_token_id` to `eos_token_id`:None for open-end generation.\n"
     ]
    },
    {
     "name": "stdout",
     "output_type": "stream",
     "text": [
      "HALLO\n",
      "Item ID: 3DIZja3YjsiL-kIvWohenw_right\n",
      "Predicted Meter: 278.0\n",
      "Ground Truth: 26.0\n",
      "Error: 252.0\n",
      "==================================================\n",
      "How far is the gas station away from the camera in meters, rounded to the next meter?\n"
     ]
    },
    {
     "name": "stderr",
     "output_type": "stream",
     "text": [
      "Setting `pad_token_id` to `eos_token_id`:None for open-end generation.\n"
     ]
    },
    {
     "name": "stdout",
     "output_type": "stream",
     "text": [
      "HALLO\n",
      "Item ID: fPyAVSl8mmbPEKbvzZXbtQ_right\n",
      "Predicted Meter: 1.0\n",
      "Ground Truth: 18.0\n",
      "Error: 17.0\n",
      "==================================================\n",
      "How far is the gas station away from the camera in meters, rounded to the next meter?\n"
     ]
    },
    {
     "name": "stderr",
     "output_type": "stream",
     "text": [
      "Setting `pad_token_id` to `eos_token_id`:None for open-end generation.\n"
     ]
    },
    {
     "name": "stdout",
     "output_type": "stream",
     "text": [
      "HALLO\n",
      "Item ID: mjFLZisPjatDeki9c5acEg_back\n",
      "Predicted Meter: 1.0\n",
      "Ground Truth: 20.0\n",
      "Error: 19.0\n",
      "==================================================\n",
      "How far is the gas station away from the camera in meters, rounded to the next meter?\n"
     ]
    },
    {
     "name": "stderr",
     "output_type": "stream",
     "text": [
      "Setting `pad_token_id` to `eos_token_id`:None for open-end generation.\n"
     ]
    },
    {
     "name": "stdout",
     "output_type": "stream",
     "text": [
      "HALLO\n",
      "Item ID: SA7K9gTIMdwmXDTsDcBM6Q_right\n",
      "Predicted Meter: 1.0\n",
      "Ground Truth: 19.0\n",
      "Error: 18.0\n",
      "==================================================\n",
      "How far is the gas station away from the camera in meters, rounded to the next meter?\n"
     ]
    },
    {
     "name": "stderr",
     "output_type": "stream",
     "text": [
      "Setting `pad_token_id` to `eos_token_id`:None for open-end generation.\n"
     ]
    },
    {
     "name": "stdout",
     "output_type": "stream",
     "text": [
      "HALLO\n",
      "Item ID: ELejaWw7AULkc0v0Of43yQ_left\n",
      "Predicted Meter: 1.0\n",
      "Ground Truth: 22.0\n",
      "Error: 21.0\n",
      "==================================================\n",
      "How far is the gas station away from the camera in meters, rounded to the next meter?\n"
     ]
    },
    {
     "name": "stderr",
     "output_type": "stream",
     "text": [
      "Setting `pad_token_id` to `eos_token_id`:None for open-end generation.\n"
     ]
    },
    {
     "name": "stdout",
     "output_type": "stream",
     "text": [
      "HALLO\n",
      "Item ID: bIHH-_IXF2ik1ynh9n06zQ_right\n",
      "Predicted Meter: 1.0\n",
      "Ground Truth: 22.0\n",
      "Error: 21.0\n",
      "==================================================\n",
      "How far is the gas station away from the camera in meters, rounded to the next meter?\n"
     ]
    },
    {
     "name": "stderr",
     "output_type": "stream",
     "text": [
      "Setting `pad_token_id` to `eos_token_id`:None for open-end generation.\n"
     ]
    },
    {
     "name": "stdout",
     "output_type": "stream",
     "text": [
      "HALLO\n",
      "Item ID: mzltktb5OGPPKPAWlC_fCA_back\n",
      "Predicted Meter: 1.0\n",
      "Ground Truth: 23.0\n",
      "Error: 22.0\n",
      "==================================================\n",
      "How far is the gas station away from the camera in meters, rounded to the next meter?\n"
     ]
    },
    {
     "name": "stderr",
     "output_type": "stream",
     "text": [
      "Setting `pad_token_id` to `eos_token_id`:None for open-end generation.\n"
     ]
    },
    {
     "name": "stdout",
     "output_type": "stream",
     "text": [
      "HALLO\n",
      "Item ID: BBpzL8ql3kRAEMJpc1_HGw_right\n",
      "Predicted Meter: 1.0\n",
      "Ground Truth: 24.0\n",
      "Error: 23.0\n",
      "==================================================\n",
      "How far is the gas station away from the camera in meters, rounded to the next meter?\n"
     ]
    },
    {
     "name": "stderr",
     "output_type": "stream",
     "text": [
      "Setting `pad_token_id` to `eos_token_id`:None for open-end generation.\n"
     ]
    },
    {
     "name": "stdout",
     "output_type": "stream",
     "text": [
      "HALLO\n",
      "Item ID: A9S-KxBLUmMgIGQZMvhxBw_front\n",
      "Predicted Meter: 1.0\n",
      "Ground Truth: 28.0\n",
      "Error: 27.0\n",
      "==================================================\n",
      "How far is the gas station away from the camera in meters, rounded to the next meter?\n"
     ]
    },
    {
     "name": "stderr",
     "output_type": "stream",
     "text": [
      "Setting `pad_token_id` to `eos_token_id`:None for open-end generation.\n"
     ]
    },
    {
     "name": "stdout",
     "output_type": "stream",
     "text": [
      "HALLO\n",
      "Item ID: gmliVFMV0b8_cmZ-QyDEAQ_front\n",
      "Predicted Meter: 1.0\n",
      "Ground Truth: 19.0\n",
      "Error: 18.0\n",
      "==================================================\n",
      "How far is the gas station away from the camera in meters, rounded to the next meter?\n"
     ]
    },
    {
     "name": "stderr",
     "output_type": "stream",
     "text": [
      "Setting `pad_token_id` to `eos_token_id`:None for open-end generation.\n"
     ]
    },
    {
     "name": "stdout",
     "output_type": "stream",
     "text": [
      "HALLO\n",
      "Item ID: 7gGp2SI0dsnSkN-JuQiesw_back\n",
      "Predicted Meter: 1.0\n",
      "Ground Truth: 25.0\n",
      "Error: 24.0\n",
      "==================================================\n",
      "How far is the gas station away from the camera in meters, rounded to the next meter?\n"
     ]
    },
    {
     "name": "stderr",
     "output_type": "stream",
     "text": [
      "Setting `pad_token_id` to `eos_token_id`:None for open-end generation.\n"
     ]
    },
    {
     "name": "stdout",
     "output_type": "stream",
     "text": [
      "HALLO\n",
      "Item ID: 4UYo98GXL__fsXn5Hx4CPQ_back\n",
      "Predicted Meter: 1.0\n",
      "Ground Truth: 26.0\n",
      "Error: 25.0\n",
      "==================================================\n",
      "How far is the post box away from the camera in meters, rounded to the next meter?\n"
     ]
    },
    {
     "name": "stderr",
     "output_type": "stream",
     "text": [
      "Setting `pad_token_id` to `eos_token_id`:None for open-end generation.\n"
     ]
    },
    {
     "name": "stdout",
     "output_type": "stream",
     "text": [
      "HALLO\n",
      "Item ID: QArcg6Bp7lO81QVYjAfhPg_front\n",
      "Predicted Meter: 1.0\n",
      "Ground Truth: 16.0\n",
      "Error: 15.0\n",
      "==================================================\n",
      "How far is the gas station away from the camera in meters, rounded to the next meter?\n"
     ]
    },
    {
     "name": "stderr",
     "output_type": "stream",
     "text": [
      "Setting `pad_token_id` to `eos_token_id`:None for open-end generation.\n"
     ]
    },
    {
     "name": "stdout",
     "output_type": "stream",
     "text": [
      "HALLO\n",
      "Item ID: O45aphvvSoBaD8agtIVz7w_right\n",
      "Predicted Meter: 1.0\n",
      "Ground Truth: 21.0\n",
      "Error: 20.0\n",
      "==================================================\n",
      "How far is the gas station away from the camera in meters, rounded to the next meter?\n"
     ]
    },
    {
     "name": "stderr",
     "output_type": "stream",
     "text": [
      "Setting `pad_token_id` to `eos_token_id`:None for open-end generation.\n"
     ]
    },
    {
     "name": "stdout",
     "output_type": "stream",
     "text": [
      "HALLO\n",
      "Item ID: _nYEhvKAIDtrvoRFpCSuBQ_front\n",
      "Predicted Meter: 1.0\n",
      "Ground Truth: 29.0\n",
      "Error: 28.0\n",
      "==================================================\n",
      "How far is the gas station away from the camera in meters, rounded to the next meter?\n"
     ]
    },
    {
     "name": "stderr",
     "output_type": "stream",
     "text": [
      "Setting `pad_token_id` to `eos_token_id`:None for open-end generation.\n"
     ]
    },
    {
     "name": "stdout",
     "output_type": "stream",
     "text": [
      "HALLO\n",
      "Item ID: gLMnHJfMVfS176MkMVYWxA_left\n",
      "Predicted Meter: 1.0\n",
      "Ground Truth: 24.0\n",
      "Error: 23.0\n",
      "==================================================\n",
      "How far is the gas station away from the camera in meters, rounded to the next meter?\n"
     ]
    },
    {
     "name": "stderr",
     "output_type": "stream",
     "text": [
      "Setting `pad_token_id` to `eos_token_id`:None for open-end generation.\n"
     ]
    },
    {
     "name": "stdout",
     "output_type": "stream",
     "text": [
      "HALLO\n",
      "Item ID: uixXcPpyT06jWktX7LvdUg_right\n",
      "Predicted Meter: 401.0\n",
      "Ground Truth: 22.0\n",
      "Error: 379.0\n",
      "==================================================\n",
      "How far is the gas station away from the camera in meters, rounded to the next meter?\n"
     ]
    },
    {
     "name": "stderr",
     "output_type": "stream",
     "text": [
      "Setting `pad_token_id` to `eos_token_id`:None for open-end generation.\n"
     ]
    },
    {
     "name": "stdout",
     "output_type": "stream",
     "text": [
      "HALLO\n",
      "Item ID: 2qEcuuJ-XtAJsGDEnh0VYg_right\n",
      "Predicted Meter: 1.0\n",
      "Ground Truth: 23.0\n",
      "Error: 22.0\n",
      "==================================================\n",
      "How far is the gas station away from the camera in meters, rounded to the next meter?\n"
     ]
    },
    {
     "name": "stderr",
     "output_type": "stream",
     "text": [
      "Setting `pad_token_id` to `eos_token_id`:None for open-end generation.\n"
     ]
    },
    {
     "name": "stdout",
     "output_type": "stream",
     "text": [
      "HALLO\n",
      "Item ID: kzpGP0MnxjLXTR0OLJsUWg_left\n",
      "Predicted Meter: 1.0\n",
      "Ground Truth: 28.0\n",
      "Error: 27.0\n",
      "==================================================\n",
      "How far is the gas station away from the camera in meters, rounded to the next meter?\n"
     ]
    },
    {
     "name": "stderr",
     "output_type": "stream",
     "text": [
      "Setting `pad_token_id` to `eos_token_id`:None for open-end generation.\n"
     ]
    },
    {
     "name": "stdout",
     "output_type": "stream",
     "text": [
      "HALLO\n",
      "Item ID: h_pdMobutR1b38Ek1Yf24Q_front\n",
      "Predicted Meter: 1.0\n",
      "Ground Truth: 18.0\n",
      "Error: 17.0\n",
      "==================================================\n",
      "How far is the gas station away from the camera in meters, rounded to the next meter?\n"
     ]
    },
    {
     "name": "stderr",
     "output_type": "stream",
     "text": [
      "Setting `pad_token_id` to `eos_token_id`:None for open-end generation.\n"
     ]
    },
    {
     "name": "stdout",
     "output_type": "stream",
     "text": [
      "HALLO\n",
      "Item ID: 1CFhl2zw8_wpjV8SaYekZA_right\n",
      "Predicted Meter: 1.0\n",
      "Ground Truth: 27.0\n",
      "Error: 26.0\n",
      "==================================================\n",
      "How far is the gas station away from the camera in meters, rounded to the next meter?\n"
     ]
    },
    {
     "name": "stderr",
     "output_type": "stream",
     "text": [
      "Setting `pad_token_id` to `eos_token_id`:None for open-end generation.\n"
     ]
    },
    {
     "name": "stdout",
     "output_type": "stream",
     "text": [
      "HALLO\n",
      "Item ID: jU6X-KpYz18pt96XJ-YoeQ_right\n",
      "Predicted Meter: 1.0\n",
      "Ground Truth: 25.0\n",
      "Error: 24.0\n",
      "==================================================\n",
      "How far is the gas station away from the camera in meters, rounded to the next meter?\n"
     ]
    },
    {
     "name": "stderr",
     "output_type": "stream",
     "text": [
      "Setting `pad_token_id` to `eos_token_id`:None for open-end generation.\n"
     ]
    },
    {
     "name": "stdout",
     "output_type": "stream",
     "text": [
      "HALLO\n",
      "Item ID: TrZtzGlvyG_QmyhBJBma4A_right\n",
      "Predicted Meter: 1.0\n",
      "Ground Truth: 21.0\n",
      "Error: 20.0\n",
      "==================================================\n",
      "How far is the gas station away from the camera in meters, rounded to the next meter?\n"
     ]
    },
    {
     "name": "stderr",
     "output_type": "stream",
     "text": [
      "Setting `pad_token_id` to `eos_token_id`:None for open-end generation.\n"
     ]
    },
    {
     "name": "stdout",
     "output_type": "stream",
     "text": [
      "HALLO\n",
      "Item ID: Y1OMmLWmRqjyAP7zn4TGNA_right\n",
      "Predicted Meter: 1.0\n",
      "Ground Truth: 20.0\n",
      "Error: 19.0\n",
      "==================================================\n",
      "How far is the gas station away from the camera in meters, rounded to the next meter?\n"
     ]
    },
    {
     "name": "stderr",
     "output_type": "stream",
     "text": [
      "Setting `pad_token_id` to `eos_token_id`:None for open-end generation.\n"
     ]
    },
    {
     "name": "stdout",
     "output_type": "stream",
     "text": [
      "HALLO\n",
      "Item ID: CzHuqJTBB29Mj10Tf-vG_A_left\n",
      "Predicted Meter: 1.0\n",
      "Ground Truth: 24.0\n",
      "Error: 23.0\n",
      "==================================================\n",
      "How far is the gas station away from the camera in meters, rounded to the next meter?\n"
     ]
    },
    {
     "name": "stderr",
     "output_type": "stream",
     "text": [
      "Setting `pad_token_id` to `eos_token_id`:None for open-end generation.\n"
     ]
    },
    {
     "name": "stdout",
     "output_type": "stream",
     "text": [
      "HALLO\n",
      "Item ID: 3k16AWQgqv40UC3T2pxpRA_right\n",
      "Predicted Meter: 1.0\n",
      "Ground Truth: 25.0\n",
      "Error: 24.0\n",
      "==================================================\n",
      "How far is the gas station away from the camera in meters, rounded to the next meter?\n"
     ]
    },
    {
     "name": "stderr",
     "output_type": "stream",
     "text": [
      "Setting `pad_token_id` to `eos_token_id`:None for open-end generation.\n"
     ]
    },
    {
     "name": "stdout",
     "output_type": "stream",
     "text": [
      "HALLO\n",
      "Item ID: pksYc6IzkoN8GUhDj0LDpQ_right\n",
      "Predicted Meter: 1.0\n",
      "Ground Truth: 27.0\n",
      "Error: 26.0\n",
      "==================================================\n",
      "How far is the gas station away from the camera in meters, rounded to the next meter?\n"
     ]
    },
    {
     "name": "stderr",
     "output_type": "stream",
     "text": [
      "Setting `pad_token_id` to `eos_token_id`:None for open-end generation.\n"
     ]
    },
    {
     "name": "stdout",
     "output_type": "stream",
     "text": [
      "HALLO\n",
      "Item ID: 9vadzEjIYIdbpVS1SXgiuA_front\n",
      "Predicted Meter: 1.0\n",
      "Ground Truth: 26.0\n",
      "Error: 25.0\n",
      "==================================================\n",
      "How far is the gas station away from the camera in meters, rounded to the next meter?\n"
     ]
    },
    {
     "name": "stderr",
     "output_type": "stream",
     "text": [
      "Setting `pad_token_id` to `eos_token_id`:None for open-end generation.\n"
     ]
    },
    {
     "name": "stdout",
     "output_type": "stream",
     "text": [
      "HALLO\n",
      "Item ID: 4K-t0ms7NlOyQIs6n4V0hg_right\n",
      "Predicted Meter: 1.0\n",
      "Ground Truth: 30.0\n",
      "Error: 29.0\n",
      "==================================================\n",
      "How far is the gas station away from the camera in meters, rounded to the next meter?\n"
     ]
    },
    {
     "name": "stderr",
     "output_type": "stream",
     "text": [
      "Setting `pad_token_id` to `eos_token_id`:None for open-end generation.\n"
     ]
    },
    {
     "name": "stdout",
     "output_type": "stream",
     "text": [
      "HALLO\n",
      "Item ID: 5NGOlsI3ydBDw0VOZ79c2A_right\n",
      "Predicted Meter: 1.0\n",
      "Ground Truth: 24.0\n",
      "Error: 23.0\n",
      "==================================================\n",
      "How far is the gas station away from the camera in meters, rounded to the next meter?\n"
     ]
    },
    {
     "name": "stderr",
     "output_type": "stream",
     "text": [
      "Setting `pad_token_id` to `eos_token_id`:None for open-end generation.\n"
     ]
    },
    {
     "name": "stdout",
     "output_type": "stream",
     "text": [
      "HALLO\n",
      "Item ID: 9jetR7KxoqyH2uA45eUhZA_right\n",
      "Predicted Meter: 1.0\n",
      "Ground Truth: 13.0\n",
      "Error: 12.0\n",
      "==================================================\n",
      "How far is the atm away from the camera in meters, rounded to the next meter?\n"
     ]
    },
    {
     "name": "stderr",
     "output_type": "stream",
     "text": [
      "Setting `pad_token_id` to `eos_token_id`:None for open-end generation.\n"
     ]
    },
    {
     "name": "stdout",
     "output_type": "stream",
     "text": [
      "HALLO\n",
      "Item ID: fNup96_l6Q9_7sMN3jSYSA_back\n",
      "Predicted Meter: 1.0\n",
      "Ground Truth: 17.0\n",
      "Error: 16.0\n",
      "==================================================\n",
      "How far is the gas station away from the camera in meters, rounded to the next meter?\n"
     ]
    },
    {
     "name": "stderr",
     "output_type": "stream",
     "text": [
      "Setting `pad_token_id` to `eos_token_id`:None for open-end generation.\n"
     ]
    },
    {
     "name": "stdout",
     "output_type": "stream",
     "text": [
      "HALLO\n",
      "Item ID: StE2fFKWlxq5oOY9TLzqaQ_right\n",
      "Predicted Meter: 1.0\n",
      "Ground Truth: 14.0\n",
      "Error: 13.0\n",
      "==================================================\n",
      "How far is the gas station away from the camera in meters, rounded to the next meter?\n"
     ]
    },
    {
     "name": "stderr",
     "output_type": "stream",
     "text": [
      "Setting `pad_token_id` to `eos_token_id`:None for open-end generation.\n"
     ]
    },
    {
     "name": "stdout",
     "output_type": "stream",
     "text": [
      "HALLO\n",
      "Item ID: Qz18uRHUrVtSIBcwaI6big_right\n",
      "Predicted Meter: 1.0\n",
      "Ground Truth: 26.0\n",
      "Error: 25.0\n",
      "==================================================\n",
      "How far is the post box away from the camera in meters, rounded to the next meter?\n"
     ]
    },
    {
     "name": "stderr",
     "output_type": "stream",
     "text": [
      "Setting `pad_token_id` to `eos_token_id`:None for open-end generation.\n"
     ]
    },
    {
     "name": "stdout",
     "output_type": "stream",
     "text": [
      "HALLO\n",
      "Item ID: 1N4oepZ2Tdx0RiMNW70Emg_right\n",
      "Predicted Meter: 1.0\n",
      "Ground Truth: 7.0\n",
      "Error: 6.0\n",
      "==================================================\n",
      "How far is the post box away from the camera in meters, rounded to the next meter?\n"
     ]
    },
    {
     "name": "stderr",
     "output_type": "stream",
     "text": [
      "Setting `pad_token_id` to `eos_token_id`:None for open-end generation.\n"
     ]
    },
    {
     "name": "stdout",
     "output_type": "stream",
     "text": [
      "HALLO\n",
      "Item ID: Wwz8TuQs25BR7pV6ZLxHIA_left\n",
      "Predicted Meter: 1.0\n",
      "Ground Truth: 21.0\n",
      "Error: 20.0\n",
      "==================================================\n",
      "How far is the large waste dumpster away from the camera in meters, rounded to the next meter?\n"
     ]
    },
    {
     "name": "stderr",
     "output_type": "stream",
     "text": [
      "Setting `pad_token_id` to `eos_token_id`:None for open-end generation.\n"
     ]
    },
    {
     "name": "stdout",
     "output_type": "stream",
     "text": [
      "HALLO\n",
      "Item ID: w7E4-o_FBl46aJR4nygWKA_left\n",
      "Predicted Meter: 1.0\n",
      "Ground Truth: 27.0\n",
      "Error: 26.0\n",
      "==================================================\n",
      "How far is the gas station away from the camera in meters, rounded to the next meter?\n"
     ]
    },
    {
     "name": "stderr",
     "output_type": "stream",
     "text": [
      "Setting `pad_token_id` to `eos_token_id`:None for open-end generation.\n"
     ]
    },
    {
     "name": "stdout",
     "output_type": "stream",
     "text": [
      "HALLO\n",
      "Item ID: EJyxn_BdvstB7aQW5qtXHA_right\n",
      "Predicted Meter: 1.0\n",
      "Ground Truth: 29.0\n",
      "Error: 28.0\n",
      "==================================================\n",
      "How far is the gas station away from the camera in meters, rounded to the next meter?\n"
     ]
    },
    {
     "name": "stderr",
     "output_type": "stream",
     "text": [
      "Setting `pad_token_id` to `eos_token_id`:None for open-end generation.\n"
     ]
    },
    {
     "name": "stdout",
     "output_type": "stream",
     "text": [
      "HALLO\n",
      "Item ID: hPHfaOJAMuZoaAeHKwGt0Q_right\n",
      "Predicted Meter: 1.0\n",
      "Ground Truth: 23.0\n",
      "Error: 22.0\n",
      "==================================================\n",
      "How far is the gas station away from the camera in meters, rounded to the next meter?\n"
     ]
    },
    {
     "name": "stderr",
     "output_type": "stream",
     "text": [
      "Setting `pad_token_id` to `eos_token_id`:None for open-end generation.\n"
     ]
    },
    {
     "name": "stdout",
     "output_type": "stream",
     "text": [
      "HALLO\n",
      "Item ID: Y2LqquXdxkG6CERz_G6Nlg_left\n",
      "Predicted Meter: 2.0\n",
      "Ground Truth: 25.0\n",
      "Error: 23.0\n",
      "==================================================\n",
      "How far is the gas station away from the camera in meters, rounded to the next meter?\n"
     ]
    },
    {
     "name": "stderr",
     "output_type": "stream",
     "text": [
      "Setting `pad_token_id` to `eos_token_id`:None for open-end generation.\n"
     ]
    },
    {
     "name": "stdout",
     "output_type": "stream",
     "text": [
      "HALLO\n",
      "Item ID: VKDduK1sl3OF7ekMGjEI_Q_right\n",
      "Predicted Meter: 1.0\n",
      "Ground Truth: 25.0\n",
      "Error: 24.0\n",
      "==================================================\n",
      "How far is the gas station away from the camera in meters, rounded to the next meter?\n"
     ]
    },
    {
     "name": "stderr",
     "output_type": "stream",
     "text": [
      "Setting `pad_token_id` to `eos_token_id`:None for open-end generation.\n"
     ]
    },
    {
     "name": "stdout",
     "output_type": "stream",
     "text": [
      "HALLO\n",
      "Item ID: pVT3i-VC8DKKHxxGzGM1Gw_front\n",
      "Predicted Meter: 1.0\n",
      "Ground Truth: 22.0\n",
      "Error: 21.0\n",
      "==================================================\n",
      "How far is the gas station away from the camera in meters, rounded to the next meter?\n"
     ]
    },
    {
     "name": "stderr",
     "output_type": "stream",
     "text": [
      "Setting `pad_token_id` to `eos_token_id`:None for open-end generation.\n"
     ]
    },
    {
     "name": "stdout",
     "output_type": "stream",
     "text": [
      "HALLO\n",
      "Item ID: QByx_5dPkZWspXNMrVlJCQ_left\n",
      "Predicted Meter: 1.0\n",
      "Ground Truth: 28.0\n",
      "Error: 27.0\n",
      "==================================================\n",
      "How far is the gas station away from the camera in meters, rounded to the next meter?\n"
     ]
    },
    {
     "name": "stderr",
     "output_type": "stream",
     "text": [
      "Setting `pad_token_id` to `eos_token_id`:None for open-end generation.\n"
     ]
    },
    {
     "name": "stdout",
     "output_type": "stream",
     "text": [
      "HALLO\n",
      "Item ID: sAX1efN-2Q1WTVF2Slt0Vg_right\n",
      "Predicted Meter: 1.0\n",
      "Ground Truth: 16.0\n",
      "Error: 15.0\n",
      "==================================================\n",
      "How far is the gas station away from the camera in meters, rounded to the next meter?\n"
     ]
    },
    {
     "name": "stderr",
     "output_type": "stream",
     "text": [
      "Setting `pad_token_id` to `eos_token_id`:None for open-end generation.\n"
     ]
    },
    {
     "name": "stdout",
     "output_type": "stream",
     "text": [
      "HALLO\n",
      "Item ID: B2xQQNnGkZTxyQWXhWUjjA_right\n",
      "Predicted Meter: 1.0\n",
      "Ground Truth: 18.0\n",
      "Error: 17.0\n",
      "==================================================\n",
      "How far is the gas station away from the camera in meters, rounded to the next meter?\n"
     ]
    },
    {
     "name": "stderr",
     "output_type": "stream",
     "text": [
      "Setting `pad_token_id` to `eos_token_id`:None for open-end generation.\n"
     ]
    },
    {
     "name": "stdout",
     "output_type": "stream",
     "text": [
      "HALLO\n",
      "Item ID: zlVVWK2209dwiSv-jkQ7mA_right\n",
      "Predicted Meter: 1.0\n",
      "Ground Truth: 18.0\n",
      "Error: 17.0\n",
      "==================================================\n",
      "How far is the gas station away from the camera in meters, rounded to the next meter?\n"
     ]
    },
    {
     "name": "stderr",
     "output_type": "stream",
     "text": [
      "Setting `pad_token_id` to `eos_token_id`:None for open-end generation.\n"
     ]
    },
    {
     "name": "stdout",
     "output_type": "stream",
     "text": [
      "HALLO\n",
      "Item ID: PSXKhfo_2-cixnRnrkWgug_right\n",
      "Predicted Meter: 1.0\n",
      "Ground Truth: 20.0\n",
      "Error: 19.0\n",
      "==================================================\n",
      "How far is the gas station away from the camera in meters, rounded to the next meter?\n"
     ]
    },
    {
     "name": "stderr",
     "output_type": "stream",
     "text": [
      "Setting `pad_token_id` to `eos_token_id`:None for open-end generation.\n"
     ]
    },
    {
     "name": "stdout",
     "output_type": "stream",
     "text": [
      "HALLO\n",
      "Item ID: 60vORc94qejRLoePlhyhoA_left\n",
      "Predicted Meter: 1.0\n",
      "Ground Truth: 27.0\n",
      "Error: 26.0\n",
      "==================================================\n",
      "How far is the gas station away from the camera in meters, rounded to the next meter?\n"
     ]
    },
    {
     "name": "stderr",
     "output_type": "stream",
     "text": [
      "Setting `pad_token_id` to `eos_token_id`:None for open-end generation.\n"
     ]
    },
    {
     "name": "stdout",
     "output_type": "stream",
     "text": [
      "HALLO\n",
      "Item ID: trCU9ky8rsxm4mMv4NGTxg_left\n",
      "Predicted Meter: 1.0\n",
      "Ground Truth: 19.0\n",
      "Error: 18.0\n",
      "==================================================\n",
      "How far is the gas station away from the camera in meters, rounded to the next meter?\n"
     ]
    },
    {
     "name": "stderr",
     "output_type": "stream",
     "text": [
      "Setting `pad_token_id` to `eos_token_id`:None for open-end generation.\n"
     ]
    },
    {
     "name": "stdout",
     "output_type": "stream",
     "text": [
      "HALLO\n",
      "Item ID: yqPszzxqxHCcIjL-v3WSWA_right\n",
      "Predicted Meter: 25.0\n",
      "Ground Truth: 24.0\n",
      "Error: 1.0\n",
      "==================================================\n",
      "How far is the gas station away from the camera in meters, rounded to the next meter?\n"
     ]
    },
    {
     "name": "stderr",
     "output_type": "stream",
     "text": [
      "Setting `pad_token_id` to `eos_token_id`:None for open-end generation.\n"
     ]
    },
    {
     "name": "stdout",
     "output_type": "stream",
     "text": [
      "HALLO\n",
      "Item ID: LpCUToI7Cvgkq0ILdMjfqQ_right\n",
      "Predicted Meter: 1.0\n",
      "Ground Truth: 24.0\n",
      "Error: 23.0\n",
      "==================================================\n",
      "How far is the gas station away from the camera in meters, rounded to the next meter?\n"
     ]
    },
    {
     "name": "stderr",
     "output_type": "stream",
     "text": [
      "Setting `pad_token_id` to `eos_token_id`:None for open-end generation.\n"
     ]
    },
    {
     "name": "stdout",
     "output_type": "stream",
     "text": [
      "HALLO\n",
      "Item ID: h9fvBHcx4BJ4zNUEwixmOw_back\n",
      "Predicted Meter: 1.0\n",
      "Ground Truth: 29.0\n",
      "Error: 28.0\n",
      "==================================================\n",
      "How far is the gas station away from the camera in meters, rounded to the next meter?\n"
     ]
    },
    {
     "name": "stderr",
     "output_type": "stream",
     "text": [
      "Setting `pad_token_id` to `eos_token_id`:None for open-end generation.\n"
     ]
    },
    {
     "name": "stdout",
     "output_type": "stream",
     "text": [
      "HALLO\n",
      "Item ID: AJz20_6wSjeKoUZmfq-X2A_right\n",
      "Predicted Meter: 1.0\n",
      "Ground Truth: 18.0\n",
      "Error: 17.0\n",
      "==================================================\n",
      "How far is the gas station away from the camera in meters, rounded to the next meter?\n"
     ]
    },
    {
     "name": "stderr",
     "output_type": "stream",
     "text": [
      "Setting `pad_token_id` to `eos_token_id`:None for open-end generation.\n"
     ]
    },
    {
     "name": "stdout",
     "output_type": "stream",
     "text": [
      "HALLO\n",
      "Item ID: i5WVC6hZreMrj25W7QzYRw_back\n",
      "Predicted Meter: 1.0\n",
      "Ground Truth: 23.0\n",
      "Error: 22.0\n",
      "==================================================\n",
      "How far is the gas station away from the camera in meters, rounded to the next meter?\n"
     ]
    },
    {
     "name": "stderr",
     "output_type": "stream",
     "text": [
      "Setting `pad_token_id` to `eos_token_id`:None for open-end generation.\n"
     ]
    },
    {
     "name": "stdout",
     "output_type": "stream",
     "text": [
      "HALLO\n",
      "Item ID: ZdiVojc1dtotNExOp58x5A_left\n",
      "Predicted Meter: 1.0\n",
      "Ground Truth: 26.0\n",
      "Error: 25.0\n",
      "==================================================\n",
      "How far is the gas station away from the camera in meters, rounded to the next meter?\n"
     ]
    },
    {
     "name": "stderr",
     "output_type": "stream",
     "text": [
      "Setting `pad_token_id` to `eos_token_id`:None for open-end generation.\n"
     ]
    },
    {
     "name": "stdout",
     "output_type": "stream",
     "text": [
      "HALLO\n",
      "Item ID: 60vORc94qejRLoePlhyhoA_right\n",
      "Predicted Meter: 1.0\n",
      "Ground Truth: 27.0\n",
      "Error: 26.0\n",
      "==================================================\n",
      "How far is the gas station away from the camera in meters, rounded to the next meter?\n"
     ]
    },
    {
     "name": "stderr",
     "output_type": "stream",
     "text": [
      "Setting `pad_token_id` to `eos_token_id`:None for open-end generation.\n"
     ]
    },
    {
     "name": "stdout",
     "output_type": "stream",
     "text": [
      "HALLO\n",
      "Item ID: 8vYyJMHE_ay2QBvq6RIX5g_back\n",
      "Predicted Meter: 1.0\n",
      "Ground Truth: 28.0\n",
      "Error: 27.0\n",
      "==================================================\n",
      "How far is the electric charging station away from the camera in meters, rounded to the next meter?\n"
     ]
    },
    {
     "name": "stderr",
     "output_type": "stream",
     "text": [
      "Setting `pad_token_id` to `eos_token_id`:None for open-end generation.\n"
     ]
    },
    {
     "name": "stdout",
     "output_type": "stream",
     "text": [
      "HALLO\n",
      "Item ID: ycFZ9QwrUeciEE2HSrFAeQ_right\n",
      "Predicted Meter: 1.0\n",
      "Ground Truth: 12.0\n",
      "Error: 11.0\n",
      "==================================================\n",
      "How far is the gas station away from the camera in meters, rounded to the next meter?\n"
     ]
    },
    {
     "name": "stderr",
     "output_type": "stream",
     "text": [
      "Setting `pad_token_id` to `eos_token_id`:None for open-end generation.\n"
     ]
    },
    {
     "name": "stdout",
     "output_type": "stream",
     "text": [
      "HALLO\n",
      "Item ID: 1Y7B1JQtBHVe2iPrAiM-eg_front\n",
      "Predicted Meter: 1.0\n",
      "Ground Truth: 29.0\n",
      "Error: 28.0\n",
      "==================================================\n",
      "How far is the gas station away from the camera in meters, rounded to the next meter?\n"
     ]
    },
    {
     "name": "stderr",
     "output_type": "stream",
     "text": [
      "Setting `pad_token_id` to `eos_token_id`:None for open-end generation.\n"
     ]
    },
    {
     "name": "stdout",
     "output_type": "stream",
     "text": [
      "HALLO\n",
      "Item ID: 7UXQIVV4UHo3-oDPm7qELQ_right\n",
      "Predicted Meter: 1.0\n",
      "Ground Truth: 22.0\n",
      "Error: 21.0\n",
      "==================================================\n",
      "How far is the gas station away from the camera in meters, rounded to the next meter?\n"
     ]
    },
    {
     "name": "stderr",
     "output_type": "stream",
     "text": [
      "Setting `pad_token_id` to `eos_token_id`:None for open-end generation.\n"
     ]
    },
    {
     "name": "stdout",
     "output_type": "stream",
     "text": [
      "HALLO\n",
      "Item ID: axGFVJ1krhsn6mC28ooKVA_front\n",
      "Predicted Meter: 1.0\n",
      "Ground Truth: 29.0\n",
      "Error: 28.0\n",
      "==================================================\n",
      "How far is the gas station away from the camera in meters, rounded to the next meter?\n"
     ]
    },
    {
     "name": "stderr",
     "output_type": "stream",
     "text": [
      "Setting `pad_token_id` to `eos_token_id`:None for open-end generation.\n"
     ]
    },
    {
     "name": "stdout",
     "output_type": "stream",
     "text": [
      "HALLO\n",
      "Item ID: 2M7SYVOfLnMuDXYnW8FfEQ_back\n",
      "Predicted Meter: 1.0\n",
      "Ground Truth: 24.0\n",
      "Error: 23.0\n",
      "==================================================\n",
      "How far is the gas station away from the camera in meters, rounded to the next meter?\n"
     ]
    },
    {
     "name": "stderr",
     "output_type": "stream",
     "text": [
      "Setting `pad_token_id` to `eos_token_id`:None for open-end generation.\n"
     ]
    },
    {
     "name": "stdout",
     "output_type": "stream",
     "text": [
      "HALLO\n",
      "Item ID: 4K-t0ms7NlOyQIs6n4V0hg_back\n",
      "Predicted Meter: 1.0\n",
      "Ground Truth: 30.0\n",
      "Error: 29.0\n",
      "==================================================\n",
      "How far is the gas station away from the camera in meters, rounded to the next meter?\n"
     ]
    },
    {
     "name": "stderr",
     "output_type": "stream",
     "text": [
      "Setting `pad_token_id` to `eos_token_id`:None for open-end generation.\n"
     ]
    },
    {
     "name": "stdout",
     "output_type": "stream",
     "text": [
      "HALLO\n",
      "Item ID: MS8ZruXv6pKGYFtg62uMpg_back\n",
      "Predicted Meter: 1.0\n",
      "Ground Truth: 27.0\n",
      "Error: 26.0\n",
      "==================================================\n",
      "How far is the gas station away from the camera in meters, rounded to the next meter?\n"
     ]
    },
    {
     "name": "stderr",
     "output_type": "stream",
     "text": [
      "Setting `pad_token_id` to `eos_token_id`:None for open-end generation.\n"
     ]
    },
    {
     "name": "stdout",
     "output_type": "stream",
     "text": [
      "HALLO\n",
      "Item ID: q57H2cmymr1Ixjb9MbCfPQ_right\n",
      "Predicted Meter: 1.0\n",
      "Ground Truth: 23.0\n",
      "Error: 22.0\n",
      "==================================================\n",
      "How far is the gas station away from the camera in meters, rounded to the next meter?\n"
     ]
    },
    {
     "name": "stderr",
     "output_type": "stream",
     "text": [
      "Setting `pad_token_id` to `eos_token_id`:None for open-end generation.\n"
     ]
    },
    {
     "name": "stdout",
     "output_type": "stream",
     "text": [
      "HALLO\n",
      "Item ID: EdEUoTTAcuM9cNcu08a1nw_left\n",
      "Predicted Meter: 1.0\n",
      "Ground Truth: 19.0\n",
      "Error: 18.0\n",
      "==================================================\n",
      "How far is the gas station away from the camera in meters, rounded to the next meter?\n"
     ]
    },
    {
     "name": "stderr",
     "output_type": "stream",
     "text": [
      "Setting `pad_token_id` to `eos_token_id`:None for open-end generation.\n"
     ]
    },
    {
     "name": "stdout",
     "output_type": "stream",
     "text": [
      "HALLO\n",
      "Item ID: NkjfX-IG5Qw8M_p_clCO4A_left\n",
      "Predicted Meter: 1.0\n",
      "Ground Truth: 28.0\n",
      "Error: 27.0\n",
      "==================================================\n",
      "How far is the gas station away from the camera in meters, rounded to the next meter?\n"
     ]
    },
    {
     "name": "stderr",
     "output_type": "stream",
     "text": [
      "Setting `pad_token_id` to `eos_token_id`:None for open-end generation.\n"
     ]
    },
    {
     "name": "stdout",
     "output_type": "stream",
     "text": [
      "HALLO\n",
      "Item ID: dInyxmFH1E4YJXjzmHFDHg_left\n",
      "Predicted Meter: 1.0\n",
      "Ground Truth: 29.0\n",
      "Error: 28.0\n",
      "==================================================\n",
      "How far is the gas station away from the camera in meters, rounded to the next meter?\n"
     ]
    },
    {
     "name": "stderr",
     "output_type": "stream",
     "text": [
      "Setting `pad_token_id` to `eos_token_id`:None for open-end generation.\n"
     ]
    },
    {
     "name": "stdout",
     "output_type": "stream",
     "text": [
      "HALLO\n",
      "Item ID: cTPFfgZ4KkUXKHzMddF7Bg_left\n",
      "Predicted Meter: 1.0\n",
      "Ground Truth: 22.0\n",
      "Error: 21.0\n",
      "==================================================\n",
      "How far is the gas station away from the camera in meters, rounded to the next meter?\n"
     ]
    },
    {
     "name": "stderr",
     "output_type": "stream",
     "text": [
      "Setting `pad_token_id` to `eos_token_id`:None for open-end generation.\n"
     ]
    },
    {
     "name": "stdout",
     "output_type": "stream",
     "text": [
      "HALLO\n",
      "Item ID: 1LGPz7B3vJ2IT1Qm_2nytw_front\n",
      "Predicted Meter: 1.0\n",
      "Ground Truth: 22.0\n",
      "Error: 21.0\n",
      "==================================================\n",
      "How far is the gas station away from the camera in meters, rounded to the next meter?\n"
     ]
    },
    {
     "name": "stderr",
     "output_type": "stream",
     "text": [
      "Setting `pad_token_id` to `eos_token_id`:None for open-end generation.\n"
     ]
    },
    {
     "name": "stdout",
     "output_type": "stream",
     "text": [
      "HALLO\n",
      "Item ID: JpCaP2v70FtqJJGeXyjDdw_front\n",
      "Predicted Meter: 1.0\n",
      "Ground Truth: 19.0\n",
      "Error: 18.0\n",
      "==================================================\n",
      "How far is the gas station away from the camera in meters, rounded to the next meter?\n"
     ]
    },
    {
     "name": "stderr",
     "output_type": "stream",
     "text": [
      "Setting `pad_token_id` to `eos_token_id`:None for open-end generation.\n"
     ]
    },
    {
     "name": "stdout",
     "output_type": "stream",
     "text": [
      "HALLO\n",
      "Item ID: KP7OmYZuuX5T0O8CQGFFWg_back\n",
      "Predicted Meter: 1.0\n",
      "Ground Truth: 15.0\n",
      "Error: 14.0\n",
      "==================================================\n",
      "How far is the gas station away from the camera in meters, rounded to the next meter?\n"
     ]
    },
    {
     "name": "stderr",
     "output_type": "stream",
     "text": [
      "Setting `pad_token_id` to `eos_token_id`:None for open-end generation.\n"
     ]
    },
    {
     "name": "stdout",
     "output_type": "stream",
     "text": [
      "HALLO\n",
      "Item ID: KtvPeGrsVIBkeHq8DsJfhQ_right\n",
      "Predicted Meter: 1.0\n",
      "Ground Truth: 28.0\n",
      "Error: 27.0\n",
      "==================================================\n",
      "How far is the gas station away from the camera in meters, rounded to the next meter?\n"
     ]
    },
    {
     "name": "stderr",
     "output_type": "stream",
     "text": [
      "Setting `pad_token_id` to `eos_token_id`:None for open-end generation.\n"
     ]
    },
    {
     "name": "stdout",
     "output_type": "stream",
     "text": [
      "HALLO\n",
      "Item ID: 2pj56we2AFhPUcV36gq4dw_left\n",
      "Predicted Meter: 1.0\n",
      "Ground Truth: 22.0\n",
      "Error: 21.0\n",
      "==================================================\n",
      "How far is the gas station away from the camera in meters, rounded to the next meter?\n"
     ]
    },
    {
     "name": "stderr",
     "output_type": "stream",
     "text": [
      "Setting `pad_token_id` to `eos_token_id`:None for open-end generation.\n"
     ]
    },
    {
     "name": "stdout",
     "output_type": "stream",
     "text": [
      "HALLO\n",
      "Item ID: yKjJVY-QcL8B72FWucki9A_back\n",
      "Predicted Meter: 1.0\n",
      "Ground Truth: 7.0\n",
      "Error: 6.0\n",
      "==================================================\n",
      "How far is the gas station away from the camera in meters, rounded to the next meter?\n"
     ]
    },
    {
     "name": "stderr",
     "output_type": "stream",
     "text": [
      "Setting `pad_token_id` to `eos_token_id`:None for open-end generation.\n"
     ]
    },
    {
     "name": "stdout",
     "output_type": "stream",
     "text": [
      "HALLO\n",
      "Item ID: X7F2k-IYYxWQONqJvKFAUA_right\n",
      "Predicted Meter: 1.0\n",
      "Ground Truth: 26.0\n",
      "Error: 25.0\n",
      "==================================================\n",
      "How far is the post box away from the camera in meters, rounded to the next meter?\n"
     ]
    },
    {
     "name": "stderr",
     "output_type": "stream",
     "text": [
      "Setting `pad_token_id` to `eos_token_id`:None for open-end generation.\n"
     ]
    },
    {
     "name": "stdout",
     "output_type": "stream",
     "text": [
      "HALLO\n",
      "Item ID: D-QBRj4cortWyDiYEUHvsw_right\n",
      "Predicted Meter: 1.0\n",
      "Ground Truth: 6.0\n",
      "Error: 5.0\n",
      "==================================================\n",
      "How far is the gas station away from the camera in meters, rounded to the next meter?\n"
     ]
    },
    {
     "name": "stderr",
     "output_type": "stream",
     "text": [
      "Setting `pad_token_id` to `eos_token_id`:None for open-end generation.\n"
     ]
    },
    {
     "name": "stdout",
     "output_type": "stream",
     "text": [
      "HALLO\n",
      "Item ID: b9NFY5tRuunJ3jBmVf7UBA_right\n",
      "Predicted Meter: 1.0\n",
      "Ground Truth: 21.0\n",
      "Error: 20.0\n",
      "==================================================\n",
      "How far is the gas station away from the camera in meters, rounded to the next meter?\n"
     ]
    },
    {
     "name": "stderr",
     "output_type": "stream",
     "text": [
      "Setting `pad_token_id` to `eos_token_id`:None for open-end generation.\n"
     ]
    },
    {
     "name": "stdout",
     "output_type": "stream",
     "text": [
      "HALLO\n",
      "Item ID: dGxsDZMbA6DXA4d1Pq0Bjg_front\n",
      "Predicted Meter: 1.0\n",
      "Ground Truth: 22.0\n",
      "Error: 21.0\n",
      "==================================================\n",
      "How far is the gas station away from the camera in meters, rounded to the next meter?\n"
     ]
    },
    {
     "name": "stderr",
     "output_type": "stream",
     "text": [
      "Setting `pad_token_id` to `eos_token_id`:None for open-end generation.\n"
     ]
    },
    {
     "name": "stdout",
     "output_type": "stream",
     "text": [
      "HALLO\n",
      "Item ID: ZpIKRM0lVXkIYHKNeJ-PSw_right\n",
      "Predicted Meter: 1.0\n",
      "Ground Truth: 24.0\n",
      "Error: 23.0\n",
      "==================================================\n",
      "How far is the gas station away from the camera in meters, rounded to the next meter?\n"
     ]
    },
    {
     "name": "stderr",
     "output_type": "stream",
     "text": [
      "Setting `pad_token_id` to `eos_token_id`:None for open-end generation.\n"
     ]
    },
    {
     "name": "stdout",
     "output_type": "stream",
     "text": [
      "HALLO\n",
      "Item ID: Pplmiyt2a4ebn8hP0nc70A_right\n",
      "Predicted Meter: 1.0\n",
      "Ground Truth: 21.0\n",
      "Error: 20.0\n",
      "==================================================\n",
      "How far is the post box away from the camera in meters, rounded to the next meter?\n"
     ]
    },
    {
     "name": "stderr",
     "output_type": "stream",
     "text": [
      "Setting `pad_token_id` to `eos_token_id`:None for open-end generation.\n"
     ]
    },
    {
     "name": "stdout",
     "output_type": "stream",
     "text": [
      "HALLO\n",
      "Item ID: 1C1eS9jrHwDToiIteIZqgQ_right\n",
      "Predicted Meter: 1.0\n",
      "Ground Truth: 17.0\n",
      "Error: 16.0\n",
      "==================================================\n",
      "How far is the large waste dumpster away from the camera in meters, rounded to the next meter?\n"
     ]
    },
    {
     "name": "stderr",
     "output_type": "stream",
     "text": [
      "Setting `pad_token_id` to `eos_token_id`:None for open-end generation.\n"
     ]
    },
    {
     "name": "stdout",
     "output_type": "stream",
     "text": [
      "HALLO\n",
      "Item ID: luxAA4b_ND2ueb7anI88BA_back\n",
      "Predicted Meter: 1.0\n",
      "Ground Truth: 16.0\n",
      "Error: 15.0\n",
      "==================================================\n",
      "How far is the gas station away from the camera in meters, rounded to the next meter?\n"
     ]
    },
    {
     "name": "stderr",
     "output_type": "stream",
     "text": [
      "Setting `pad_token_id` to `eos_token_id`:None for open-end generation.\n"
     ]
    },
    {
     "name": "stdout",
     "output_type": "stream",
     "text": [
      "HALLO\n",
      "Item ID: Pplmiyt2a4ebn8hP0nc70A_back\n",
      "Predicted Meter: 1.0\n",
      "Ground Truth: 21.0\n",
      "Error: 20.0\n",
      "==================================================\n",
      "How far is the gas station away from the camera in meters, rounded to the next meter?\n"
     ]
    },
    {
     "name": "stderr",
     "output_type": "stream",
     "text": [
      "Setting `pad_token_id` to `eos_token_id`:None for open-end generation.\n"
     ]
    },
    {
     "name": "stdout",
     "output_type": "stream",
     "text": [
      "HALLO\n",
      "Item ID: Qy7K-TboLcgUyUupDtMgKQ_right\n",
      "Predicted Meter: 1.0\n",
      "Ground Truth: 26.0\n",
      "Error: 25.0\n",
      "==================================================\n",
      "How far is the gas station away from the camera in meters, rounded to the next meter?\n"
     ]
    },
    {
     "name": "stderr",
     "output_type": "stream",
     "text": [
      "Setting `pad_token_id` to `eos_token_id`:None for open-end generation.\n"
     ]
    },
    {
     "name": "stdout",
     "output_type": "stream",
     "text": [
      "HALLO\n",
      "Item ID: mqpRUiJoeyjpoVAjiEiKMQ_front\n",
      "Predicted Meter: 1.0\n",
      "Ground Truth: 22.0\n",
      "Error: 21.0\n",
      "==================================================\n",
      "How far is the gas station away from the camera in meters, rounded to the next meter?\n"
     ]
    },
    {
     "name": "stderr",
     "output_type": "stream",
     "text": [
      "Setting `pad_token_id` to `eos_token_id`:None for open-end generation.\n"
     ]
    },
    {
     "name": "stdout",
     "output_type": "stream",
     "text": [
      "HALLO\n",
      "Item ID: cE0sa5qCriI6GUBYMcyKeg_right\n",
      "Predicted Meter: 1.0\n",
      "Ground Truth: 25.0\n",
      "Error: 24.0\n",
      "==================================================\n",
      "How far is the gas station away from the camera in meters, rounded to the next meter?\n"
     ]
    },
    {
     "name": "stderr",
     "output_type": "stream",
     "text": [
      "Setting `pad_token_id` to `eos_token_id`:None for open-end generation.\n"
     ]
    },
    {
     "name": "stdout",
     "output_type": "stream",
     "text": [
      "HALLO\n",
      "Item ID: jU6X-KpYz18pt96XJ-YoeQ_back\n",
      "Predicted Meter: 1.0\n",
      "Ground Truth: 25.0\n",
      "Error: 24.0\n",
      "==================================================\n",
      "How far is the gas station away from the camera in meters, rounded to the next meter?\n"
     ]
    },
    {
     "name": "stderr",
     "output_type": "stream",
     "text": [
      "Setting `pad_token_id` to `eos_token_id`:None for open-end generation.\n"
     ]
    },
    {
     "name": "stdout",
     "output_type": "stream",
     "text": [
      "HALLO\n",
      "Item ID: sw8Il_kg3VTkg4hfRAqhgg_left\n",
      "Predicted Meter: 1.0\n",
      "Ground Truth: 29.0\n",
      "Error: 28.0\n",
      "==================================================\n",
      "How far is the gas station away from the camera in meters, rounded to the next meter?\n"
     ]
    },
    {
     "name": "stderr",
     "output_type": "stream",
     "text": [
      "Setting `pad_token_id` to `eos_token_id`:None for open-end generation.\n"
     ]
    },
    {
     "name": "stdout",
     "output_type": "stream",
     "text": [
      "HALLO\n",
      "Item ID: wNMjdSqgpzj6j72V6oMMUg_right\n",
      "Predicted Meter: 1.0\n",
      "Ground Truth: 29.0\n",
      "Error: 28.0\n",
      "==================================================\n",
      "How far is the post box away from the camera in meters, rounded to the next meter?\n"
     ]
    },
    {
     "name": "stderr",
     "output_type": "stream",
     "text": [
      "Setting `pad_token_id` to `eos_token_id`:None for open-end generation.\n"
     ]
    },
    {
     "name": "stdout",
     "output_type": "stream",
     "text": [
      "HALLO\n",
      "Item ID: C72ymm34PyRc2OruySafpQ_left\n",
      "Predicted Meter: 1.0\n",
      "Ground Truth: 15.0\n",
      "Error: 14.0\n",
      "==================================================\n",
      "How far is the gas station away from the camera in meters, rounded to the next meter?\n"
     ]
    },
    {
     "name": "stderr",
     "output_type": "stream",
     "text": [
      "Setting `pad_token_id` to `eos_token_id`:None for open-end generation.\n"
     ]
    },
    {
     "name": "stdout",
     "output_type": "stream",
     "text": [
      "HALLO\n",
      "Item ID: tL1cMj27xoKEUPU8emSdSQ_right\n",
      "Predicted Meter: 1.0\n",
      "Ground Truth: 22.0\n",
      "Error: 21.0\n",
      "==================================================\n",
      "How far is the gas station away from the camera in meters, rounded to the next meter?\n"
     ]
    },
    {
     "name": "stderr",
     "output_type": "stream",
     "text": [
      "Setting `pad_token_id` to `eos_token_id`:None for open-end generation.\n"
     ]
    },
    {
     "name": "stdout",
     "output_type": "stream",
     "text": [
      "HALLO\n",
      "Item ID: 1KKSCQJLKYDDK3KSdFkHdw_right\n",
      "Predicted Meter: 1.0\n",
      "Ground Truth: 23.0\n",
      "Error: 22.0\n",
      "==================================================\n",
      "How far is the gas station away from the camera in meters, rounded to the next meter?\n",
      "HALLO\n",
      "Item ID: l7wQW6Nrj2lN4nrgHrVA0g_left\n",
      "Predicted Meter: 1.0\n",
      "Ground Truth: 26.0\n",
      "Error: 25.0\n",
      "==================================================\n",
      "Results saved to res/llava_onevision_0.5b_no_inference.csv\n"
     ]
    }
   ],
   "source": [
    "base_model = LlavaOnevisionForConditionalGeneration.from_pretrained(\n",
    "    \"llava-hf/llava-onevision-qwen2-0.5b-ov-hf\",\n",
    "    torch_dtype=\"auto\",\n",
    "    device_map=\"auto\",\n",
    "    cache_dir=\"/hpi/fs00/scratch/liudvikas.zekas/.cache\"\n",
    ")\n",
    "\n",
    "print(\"=== Inference using the Base onevision Model ===\")\n",
    "df_base = run_llava_inference_on_dataset(base_model, processor, test_json_path, image_root, \"llava_onevision_0.5b_no_inference\")\n",
    "\n",
    "# Optionally, delete the model to free GPU memory.\n",
    "del base_model"
   ]
  },
  {
   "cell_type": "code",
   "execution_count": 12,
   "id": "4b491e93-a959-4ae7-bfff-08bfe322cea2",
   "metadata": {},
   "outputs": [
    {
     "name": "stdout",
     "output_type": "stream",
     "text": [
      "=== Inference using the Finetuned Qwen Model ===\n",
      "How far is the gas station away from the camera in meters, rounded to the next meter?\n"
     ]
    },
    {
     "name": "stderr",
     "output_type": "stream",
     "text": [
      "Setting `pad_token_id` to `eos_token_id`:None for open-end generation.\n",
      "Setting `pad_token_id` to `eos_token_id`:None for open-end generation.\n"
     ]
    },
    {
     "name": "stdout",
     "output_type": "stream",
     "text": [
      "HALLO\n",
      "Item ID: ugebwzaohO3D7XbW343_qA_back\n",
      "Predicted Meter: 29.0\n",
      "Ground Truth: 30.0\n",
      "Error: 1.0\n",
      "==================================================\n",
      "How far is the post box away from the camera in meters, rounded to the next meter?\n"
     ]
    },
    {
     "name": "stderr",
     "output_type": "stream",
     "text": [
      "Setting `pad_token_id` to `eos_token_id`:None for open-end generation.\n"
     ]
    },
    {
     "name": "stdout",
     "output_type": "stream",
     "text": [
      "HALLO\n",
      "Item ID: qz33ZhqXW5DY-2hPzv2CMQ_back\n",
      "Predicted Meter: 12.0\n",
      "Ground Truth: 10.0\n",
      "Error: 2.0\n",
      "==================================================\n",
      "How far is the gas station away from the camera in meters, rounded to the next meter?\n"
     ]
    },
    {
     "name": "stderr",
     "output_type": "stream",
     "text": [
      "Setting `pad_token_id` to `eos_token_id`:None for open-end generation.\n"
     ]
    },
    {
     "name": "stdout",
     "output_type": "stream",
     "text": [
      "HALLO\n",
      "Item ID: z3ndUO5NBsQdcR6Onfs8kw_right\n",
      "Predicted Meter: 19.0\n",
      "Ground Truth: 27.0\n",
      "Error: 8.0\n",
      "==================================================\n",
      "How far is the gas station away from the camera in meters, rounded to the next meter?\n"
     ]
    },
    {
     "name": "stderr",
     "output_type": "stream",
     "text": [
      "Setting `pad_token_id` to `eos_token_id`:None for open-end generation.\n"
     ]
    },
    {
     "name": "stdout",
     "output_type": "stream",
     "text": [
      "HALLO\n",
      "Item ID: Tx4CWkxiDU1xV7-uZ6lLrw_right\n",
      "Predicted Meter: 26.0\n",
      "Ground Truth: 25.0\n",
      "Error: 1.0\n",
      "==================================================\n",
      "How far is the gas station away from the camera in meters, rounded to the next meter?\n"
     ]
    },
    {
     "name": "stderr",
     "output_type": "stream",
     "text": [
      "Setting `pad_token_id` to `eos_token_id`:None for open-end generation.\n"
     ]
    },
    {
     "name": "stdout",
     "output_type": "stream",
     "text": [
      "HALLO\n",
      "Item ID: 8QVoY6NmGZBiZz1qi5irCQ_left\n",
      "Predicted Meter: 29.0\n",
      "Ground Truth: 25.0\n",
      "Error: 4.0\n",
      "==================================================\n",
      "How far is the gas station away from the camera in meters, rounded to the next meter?\n"
     ]
    },
    {
     "name": "stderr",
     "output_type": "stream",
     "text": [
      "Setting `pad_token_id` to `eos_token_id`:None for open-end generation.\n"
     ]
    },
    {
     "name": "stdout",
     "output_type": "stream",
     "text": [
      "HALLO\n",
      "Item ID: BBpzL8ql3kRAEMJpc1_HGw_right\n",
      "Predicted Meter: 28.0\n",
      "Ground Truth: 24.0\n",
      "Error: 4.0\n",
      "==================================================\n",
      "How far is the gas station away from the camera in meters, rounded to the next meter?\n"
     ]
    },
    {
     "name": "stderr",
     "output_type": "stream",
     "text": [
      "Setting `pad_token_id` to `eos_token_id`:None for open-end generation.\n"
     ]
    },
    {
     "name": "stdout",
     "output_type": "stream",
     "text": [
      "HALLO\n",
      "Item ID: r-yGTE7GDoTFE49DyCJOQw_front\n",
      "Predicted Meter: 29.0\n",
      "Ground Truth: 25.0\n",
      "Error: 4.0\n",
      "==================================================\n",
      "How far is the gas station away from the camera in meters, rounded to the next meter?\n"
     ]
    },
    {
     "name": "stderr",
     "output_type": "stream",
     "text": [
      "Setting `pad_token_id` to `eos_token_id`:None for open-end generation.\n"
     ]
    },
    {
     "name": "stdout",
     "output_type": "stream",
     "text": [
      "HALLO\n",
      "Item ID: eC7O22NYV9d6KWGMa4vR7A_front\n",
      "Predicted Meter: 29.0\n",
      "Ground Truth: 21.0\n",
      "Error: 8.0\n",
      "==================================================\n",
      "How far is the gas station away from the camera in meters, rounded to the next meter?\n"
     ]
    },
    {
     "name": "stderr",
     "output_type": "stream",
     "text": [
      "Setting `pad_token_id` to `eos_token_id`:None for open-end generation.\n"
     ]
    },
    {
     "name": "stdout",
     "output_type": "stream",
     "text": [
      "HALLO\n",
      "Item ID: mGq1XR8eBPbK9_J0gOAOlQ_back\n",
      "Predicted Meter: 29.0\n",
      "Ground Truth: 26.0\n",
      "Error: 3.0\n",
      "==================================================\n",
      "How far is the gas station away from the camera in meters, rounded to the next meter?\n"
     ]
    },
    {
     "name": "stderr",
     "output_type": "stream",
     "text": [
      "Setting `pad_token_id` to `eos_token_id`:None for open-end generation.\n"
     ]
    },
    {
     "name": "stdout",
     "output_type": "stream",
     "text": [
      "HALLO\n",
      "Item ID: 8oe-e2AHXuj3E1JMMp7LUQ_back\n",
      "Predicted Meter: 26.0\n",
      "Ground Truth: 20.0\n",
      "Error: 6.0\n",
      "==================================================\n",
      "How far is the gas station away from the camera in meters, rounded to the next meter?\n"
     ]
    },
    {
     "name": "stderr",
     "output_type": "stream",
     "text": [
      "Setting `pad_token_id` to `eos_token_id`:None for open-end generation.\n"
     ]
    },
    {
     "name": "stdout",
     "output_type": "stream",
     "text": [
      "HALLO\n",
      "Item ID: Aita8sR2NtHUJE-mmnR5eA_right\n",
      "Predicted Meter: 26.0\n",
      "Ground Truth: 26.0\n",
      "Error: 0.0\n",
      "==================================================\n",
      "How far is the gas station away from the camera in meters, rounded to the next meter?\n"
     ]
    },
    {
     "name": "stderr",
     "output_type": "stream",
     "text": [
      "Setting `pad_token_id` to `eos_token_id`:None for open-end generation.\n"
     ]
    },
    {
     "name": "stdout",
     "output_type": "stream",
     "text": [
      "HALLO\n",
      "Item ID: UFsdG3hTkVymziyC-ZxMYQ_left\n",
      "Predicted Meter: 29.0\n",
      "Ground Truth: 29.0\n",
      "Error: 0.0\n",
      "==================================================\n",
      "How far is the post box away from the camera in meters, rounded to the next meter?\n"
     ]
    },
    {
     "name": "stderr",
     "output_type": "stream",
     "text": [
      "Setting `pad_token_id` to `eos_token_id`:None for open-end generation.\n"
     ]
    },
    {
     "name": "stdout",
     "output_type": "stream",
     "text": [
      "HALLO\n",
      "Item ID: R9dD-rTZG17YN-mnL9kvpQ_right\n",
      "Predicted Meter: 27.0\n",
      "Ground Truth: 28.0\n",
      "Error: 1.0\n",
      "==================================================\n",
      "How far is the large waste dumpster away from the camera in meters, rounded to the next meter?\n"
     ]
    },
    {
     "name": "stderr",
     "output_type": "stream",
     "text": [
      "Setting `pad_token_id` to `eos_token_id`:None for open-end generation.\n"
     ]
    },
    {
     "name": "stdout",
     "output_type": "stream",
     "text": [
      "HALLO\n",
      "Item ID: iGoMMW3J_lxftnHeOXACmA_front\n",
      "Predicted Meter: 27.0\n",
      "Ground Truth: 24.0\n",
      "Error: 3.0\n",
      "==================================================\n",
      "How far is the gas station away from the camera in meters, rounded to the next meter?\n"
     ]
    },
    {
     "name": "stderr",
     "output_type": "stream",
     "text": [
      "Setting `pad_token_id` to `eos_token_id`:None for open-end generation.\n"
     ]
    },
    {
     "name": "stdout",
     "output_type": "stream",
     "text": [
      "HALLO\n",
      "Item ID: YJHBrKidMhT7l8QarqnQiQ_right\n",
      "Predicted Meter: 28.0\n",
      "Ground Truth: 28.0\n",
      "Error: 0.0\n",
      "==================================================\n",
      "How far is the vending machine away from the camera in meters, rounded to the next meter?\n"
     ]
    },
    {
     "name": "stderr",
     "output_type": "stream",
     "text": [
      "Setting `pad_token_id` to `eos_token_id`:None for open-end generation.\n"
     ]
    },
    {
     "name": "stdout",
     "output_type": "stream",
     "text": [
      "HALLO\n",
      "Item ID: Q5uPvNi_9o7WZoOzLpPs3A_right\n",
      "Predicted Meter: 14.0\n",
      "Ground Truth: 25.0\n",
      "Error: 11.0\n",
      "==================================================\n",
      "How far is the gas station away from the camera in meters, rounded to the next meter?\n"
     ]
    },
    {
     "name": "stderr",
     "output_type": "stream",
     "text": [
      "Setting `pad_token_id` to `eos_token_id`:None for open-end generation.\n"
     ]
    },
    {
     "name": "stdout",
     "output_type": "stream",
     "text": [
      "HALLO\n",
      "Item ID: 2k_tvKZMASA2E5VbB0GaXQ_back\n",
      "Predicted Meter: 29.0\n",
      "Ground Truth: 29.0\n",
      "Error: 0.0\n",
      "==================================================\n",
      "How far is the gas station away from the camera in meters, rounded to the next meter?\n"
     ]
    },
    {
     "name": "stderr",
     "output_type": "stream",
     "text": [
      "Setting `pad_token_id` to `eos_token_id`:None for open-end generation.\n"
     ]
    },
    {
     "name": "stdout",
     "output_type": "stream",
     "text": [
      "HALLO\n",
      "Item ID: eQ-gEUsyOXA85uoFC-ftWQ_right\n",
      "Predicted Meter: 14.0\n",
      "Ground Truth: 28.0\n",
      "Error: 14.0\n",
      "==================================================\n",
      "How far is the gas station away from the camera in meters, rounded to the next meter?\n"
     ]
    },
    {
     "name": "stderr",
     "output_type": "stream",
     "text": [
      "Setting `pad_token_id` to `eos_token_id`:None for open-end generation.\n"
     ]
    },
    {
     "name": "stdout",
     "output_type": "stream",
     "text": [
      "HALLO\n",
      "Item ID: BCLppoUZzUo1hHwOXlMFdw_right\n",
      "Predicted Meter: 19.0\n",
      "Ground Truth: 24.0\n",
      "Error: 5.0\n",
      "==================================================\n",
      "How far is the large waste dumpster away from the camera in meters, rounded to the next meter?\n"
     ]
    },
    {
     "name": "stderr",
     "output_type": "stream",
     "text": [
      "Setting `pad_token_id` to `eos_token_id`:None for open-end generation.\n"
     ]
    },
    {
     "name": "stdout",
     "output_type": "stream",
     "text": [
      "HALLO\n",
      "Item ID: -3SAmGjbIQXzZTfUtGeakw_right\n",
      "Predicted Meter: 27.0\n",
      "Ground Truth: 22.0\n",
      "Error: 5.0\n",
      "==================================================\n",
      "How far is the post box away from the camera in meters, rounded to the next meter?\n"
     ]
    },
    {
     "name": "stderr",
     "output_type": "stream",
     "text": [
      "Setting `pad_token_id` to `eos_token_id`:None for open-end generation.\n"
     ]
    },
    {
     "name": "stdout",
     "output_type": "stream",
     "text": [
      "HALLO\n",
      "Item ID: WSAWFRhBUpcfb5K_IyDjmQ_right\n",
      "Predicted Meter: 27.0\n",
      "Ground Truth: 15.0\n",
      "Error: 12.0\n",
      "==================================================\n",
      "How far is the gas station away from the camera in meters, rounded to the next meter?\n"
     ]
    },
    {
     "name": "stderr",
     "output_type": "stream",
     "text": [
      "Setting `pad_token_id` to `eos_token_id`:None for open-end generation.\n"
     ]
    },
    {
     "name": "stdout",
     "output_type": "stream",
     "text": [
      "HALLO\n",
      "Item ID: 34rhcF7_5z_xCF7rHKL4Ug_back\n",
      "Predicted Meter: 29.0\n",
      "Ground Truth: 25.0\n",
      "Error: 4.0\n",
      "==================================================\n",
      "How far is the gas station away from the camera in meters, rounded to the next meter?\n"
     ]
    },
    {
     "name": "stderr",
     "output_type": "stream",
     "text": [
      "Setting `pad_token_id` to `eos_token_id`:None for open-end generation.\n"
     ]
    },
    {
     "name": "stdout",
     "output_type": "stream",
     "text": [
      "HALLO\n",
      "Item ID: ls5vsLksz2FGrtiX4pXcjw_back\n",
      "Predicted Meter: 26.0\n",
      "Ground Truth: 22.0\n",
      "Error: 4.0\n",
      "==================================================\n",
      "How far is the gas station away from the camera in meters, rounded to the next meter?\n"
     ]
    },
    {
     "name": "stderr",
     "output_type": "stream",
     "text": [
      "Setting `pad_token_id` to `eos_token_id`:None for open-end generation.\n"
     ]
    },
    {
     "name": "stdout",
     "output_type": "stream",
     "text": [
      "HALLO\n",
      "Item ID: _G_-fkVxInuOL_gh1TCkAw_right\n",
      "Predicted Meter: 19.0\n",
      "Ground Truth: 19.0\n",
      "Error: 0.0\n",
      "==================================================\n",
      "How far is the post box away from the camera in meters, rounded to the next meter?\n"
     ]
    },
    {
     "name": "stderr",
     "output_type": "stream",
     "text": [
      "Setting `pad_token_id` to `eos_token_id`:None for open-end generation.\n"
     ]
    },
    {
     "name": "stdout",
     "output_type": "stream",
     "text": [
      "HALLO\n",
      "Item ID: KsAhdawvyYxlqfej-gzUsA_front\n",
      "Predicted Meter: 11.0\n",
      "Ground Truth: 11.0\n",
      "Error: 0.0\n",
      "==================================================\n",
      "How far is the gas station away from the camera in meters, rounded to the next meter?\n"
     ]
    },
    {
     "name": "stderr",
     "output_type": "stream",
     "text": [
      "Setting `pad_token_id` to `eos_token_id`:None for open-end generation.\n"
     ]
    },
    {
     "name": "stdout",
     "output_type": "stream",
     "text": [
      "HALLO\n",
      "Item ID: lIJcDFhNquz9zvnRLHqWbA_back\n",
      "Predicted Meter: 28.0\n",
      "Ground Truth: 22.0\n",
      "Error: 6.0\n",
      "==================================================\n",
      "How far is the gas station away from the camera in meters, rounded to the next meter?\n"
     ]
    },
    {
     "name": "stderr",
     "output_type": "stream",
     "text": [
      "Setting `pad_token_id` to `eos_token_id`:None for open-end generation.\n"
     ]
    },
    {
     "name": "stdout",
     "output_type": "stream",
     "text": [
      "HALLO\n",
      "Item ID: 72ebTpipZnU1ZlSBp2nSuQ_right\n",
      "Predicted Meter: 19.0\n",
      "Ground Truth: 23.0\n",
      "Error: 4.0\n",
      "==================================================\n",
      "How far is the gas station away from the camera in meters, rounded to the next meter?\n"
     ]
    },
    {
     "name": "stderr",
     "output_type": "stream",
     "text": [
      "Setting `pad_token_id` to `eos_token_id`:None for open-end generation.\n"
     ]
    },
    {
     "name": "stdout",
     "output_type": "stream",
     "text": [
      "HALLO\n",
      "Item ID: A3DdT3R0Me5Thr0jZ3vqbA_right\n",
      "Predicted Meter: 19.0\n",
      "Ground Truth: 21.0\n",
      "Error: 2.0\n",
      "==================================================\n",
      "How far is the gas station away from the camera in meters, rounded to the next meter?\n"
     ]
    },
    {
     "name": "stderr",
     "output_type": "stream",
     "text": [
      "Setting `pad_token_id` to `eos_token_id`:None for open-end generation.\n"
     ]
    },
    {
     "name": "stdout",
     "output_type": "stream",
     "text": [
      "HALLO\n",
      "Item ID: s8b27kdyBAl_sotzHJ5wYA_right\n",
      "Predicted Meter: 28.0\n",
      "Ground Truth: 26.0\n",
      "Error: 2.0\n",
      "==================================================\n",
      "How far is the gas station away from the camera in meters, rounded to the next meter?\n"
     ]
    },
    {
     "name": "stderr",
     "output_type": "stream",
     "text": [
      "Setting `pad_token_id` to `eos_token_id`:None for open-end generation.\n"
     ]
    },
    {
     "name": "stdout",
     "output_type": "stream",
     "text": [
      "HALLO\n",
      "Item ID: 1TTgoWtPcUDu1ii-0vUysA_right\n",
      "Predicted Meter: 26.0\n",
      "Ground Truth: 25.0\n",
      "Error: 1.0\n",
      "==================================================\n",
      "How far is the gas station away from the camera in meters, rounded to the next meter?\n"
     ]
    },
    {
     "name": "stderr",
     "output_type": "stream",
     "text": [
      "Setting `pad_token_id` to `eos_token_id`:None for open-end generation.\n"
     ]
    },
    {
     "name": "stdout",
     "output_type": "stream",
     "text": [
      "HALLO\n",
      "Item ID: xNuPeVv3Ean47MOZXJzdgQ_left\n",
      "Predicted Meter: 26.0\n",
      "Ground Truth: 17.0\n",
      "Error: 9.0\n",
      "==================================================\n",
      "How far is the gas station away from the camera in meters, rounded to the next meter?\n"
     ]
    },
    {
     "name": "stderr",
     "output_type": "stream",
     "text": [
      "Setting `pad_token_id` to `eos_token_id`:None for open-end generation.\n"
     ]
    },
    {
     "name": "stdout",
     "output_type": "stream",
     "text": [
      "HALLO\n",
      "Item ID: IM5Tg5Vs_XNKPB0Y6bXQJA_right\n",
      "Predicted Meter: 26.0\n",
      "Ground Truth: 24.0\n",
      "Error: 2.0\n",
      "==================================================\n",
      "How far is the gas station away from the camera in meters, rounded to the next meter?\n"
     ]
    },
    {
     "name": "stderr",
     "output_type": "stream",
     "text": [
      "Setting `pad_token_id` to `eos_token_id`:None for open-end generation.\n"
     ]
    },
    {
     "name": "stdout",
     "output_type": "stream",
     "text": [
      "HALLO\n",
      "Item ID: wnCjh-4PWBDlednovnwurQ_front\n",
      "Predicted Meter: 29.0\n",
      "Ground Truth: 20.0\n",
      "Error: 9.0\n",
      "==================================================\n",
      "How far is the gas station away from the camera in meters, rounded to the next meter?\n"
     ]
    },
    {
     "name": "stderr",
     "output_type": "stream",
     "text": [
      "Setting `pad_token_id` to `eos_token_id`:None for open-end generation.\n"
     ]
    },
    {
     "name": "stdout",
     "output_type": "stream",
     "text": [
      "HALLO\n",
      "Item ID: UQu9TdfMPsz6HgCBXwm_OA_right\n",
      "Predicted Meter: 28.0\n",
      "Ground Truth: 28.0\n",
      "Error: 0.0\n",
      "==================================================\n",
      "How far is the vending machine away from the camera in meters, rounded to the next meter?\n"
     ]
    },
    {
     "name": "stderr",
     "output_type": "stream",
     "text": [
      "Setting `pad_token_id` to `eos_token_id`:None for open-end generation.\n"
     ]
    },
    {
     "name": "stdout",
     "output_type": "stream",
     "text": [
      "HALLO\n",
      "Item ID: JralPklJ9gCp4EA_RyeWRA_front\n",
      "Predicted Meter: 14.0\n",
      "Ground Truth: 22.0\n",
      "Error: 8.0\n",
      "==================================================\n",
      "How far is the gas station away from the camera in meters, rounded to the next meter?\n"
     ]
    },
    {
     "name": "stderr",
     "output_type": "stream",
     "text": [
      "Setting `pad_token_id` to `eos_token_id`:None for open-end generation.\n"
     ]
    },
    {
     "name": "stdout",
     "output_type": "stream",
     "text": [
      "HALLO\n",
      "Item ID: M9wYWkddYwPsS8bOAAnVQA_front\n",
      "Predicted Meter: 29.0\n",
      "Ground Truth: 30.0\n",
      "Error: 1.0\n",
      "==================================================\n",
      "How far is the gas station away from the camera in meters, rounded to the next meter?\n"
     ]
    },
    {
     "name": "stderr",
     "output_type": "stream",
     "text": [
      "Setting `pad_token_id` to `eos_token_id`:None for open-end generation.\n"
     ]
    },
    {
     "name": "stdout",
     "output_type": "stream",
     "text": [
      "HALLO\n",
      "Item ID: 3cTQXFxHQ4AaC7aogs4uKg_front\n",
      "Predicted Meter: 29.0\n",
      "Ground Truth: 29.0\n",
      "Error: 0.0\n",
      "==================================================\n",
      "How far is the gas station away from the camera in meters, rounded to the next meter?\n"
     ]
    },
    {
     "name": "stderr",
     "output_type": "stream",
     "text": [
      "Setting `pad_token_id` to `eos_token_id`:None for open-end generation.\n"
     ]
    },
    {
     "name": "stdout",
     "output_type": "stream",
     "text": [
      "HALLO\n",
      "Item ID: rdd9lAv469KKItvAGNOOJg_right\n",
      "Predicted Meter: 26.0\n",
      "Ground Truth: 25.0\n",
      "Error: 1.0\n",
      "==================================================\n",
      "How far is the post box away from the camera in meters, rounded to the next meter?\n"
     ]
    },
    {
     "name": "stderr",
     "output_type": "stream",
     "text": [
      "Setting `pad_token_id` to `eos_token_id`:None for open-end generation.\n"
     ]
    },
    {
     "name": "stdout",
     "output_type": "stream",
     "text": [
      "HALLO\n",
      "Item ID: XIaYmJKv1Oh2TzOBENycvA_right\n",
      "Predicted Meter: 29.0\n",
      "Ground Truth: 28.0\n",
      "Error: 1.0\n",
      "==================================================\n",
      "How far is the gas station away from the camera in meters, rounded to the next meter?\n"
     ]
    },
    {
     "name": "stderr",
     "output_type": "stream",
     "text": [
      "Setting `pad_token_id` to `eos_token_id`:None for open-end generation.\n"
     ]
    },
    {
     "name": "stdout",
     "output_type": "stream",
     "text": [
      "HALLO\n",
      "Item ID: DGpCRwXAFtuzOCxiC3AJXQ_right\n",
      "Predicted Meter: 19.0\n",
      "Ground Truth: 20.0\n",
      "Error: 1.0\n",
      "==================================================\n",
      "How far is the gas station away from the camera in meters, rounded to the next meter?\n"
     ]
    },
    {
     "name": "stderr",
     "output_type": "stream",
     "text": [
      "Setting `pad_token_id` to `eos_token_id`:None for open-end generation.\n"
     ]
    },
    {
     "name": "stdout",
     "output_type": "stream",
     "text": [
      "HALLO\n",
      "Item ID: Z_0D8JCx3LqmbelS6LwBlg_right\n",
      "Predicted Meter: 19.0\n",
      "Ground Truth: 21.0\n",
      "Error: 2.0\n",
      "==================================================\n",
      "How far is the gas station away from the camera in meters, rounded to the next meter?\n"
     ]
    },
    {
     "name": "stderr",
     "output_type": "stream",
     "text": [
      "Setting `pad_token_id` to `eos_token_id`:None for open-end generation.\n"
     ]
    },
    {
     "name": "stdout",
     "output_type": "stream",
     "text": [
      "HALLO\n",
      "Item ID: pvgzxAkbpGBsYQInYsWhgg_right\n",
      "Predicted Meter: 28.0\n",
      "Ground Truth: 27.0\n",
      "Error: 1.0\n",
      "==================================================\n",
      "How far is the gas station away from the camera in meters, rounded to the next meter?\n"
     ]
    },
    {
     "name": "stderr",
     "output_type": "stream",
     "text": [
      "Setting `pad_token_id` to `eos_token_id`:None for open-end generation.\n"
     ]
    },
    {
     "name": "stdout",
     "output_type": "stream",
     "text": [
      "HALLO\n",
      "Item ID: 2lGYlEsaQ03StY5XLBIJlQ_right\n",
      "Predicted Meter: 26.0\n",
      "Ground Truth: 26.0\n",
      "Error: 0.0\n",
      "==================================================\n",
      "How far is the gas station away from the camera in meters, rounded to the next meter?\n"
     ]
    },
    {
     "name": "stderr",
     "output_type": "stream",
     "text": [
      "Setting `pad_token_id` to `eos_token_id`:None for open-end generation.\n"
     ]
    },
    {
     "name": "stdout",
     "output_type": "stream",
     "text": [
      "HALLO\n",
      "Item ID: YSHVBBGad1bvL78FosZqIw_left\n",
      "Predicted Meter: 28.0\n",
      "Ground Truth: 27.0\n",
      "Error: 1.0\n",
      "==================================================\n",
      "How far is the gas station away from the camera in meters, rounded to the next meter?\n"
     ]
    },
    {
     "name": "stderr",
     "output_type": "stream",
     "text": [
      "Setting `pad_token_id` to `eos_token_id`:None for open-end generation.\n"
     ]
    },
    {
     "name": "stdout",
     "output_type": "stream",
     "text": [
      "HALLO\n",
      "Item ID: eb8MU6EB-Ab6zkw8w6l07Q_right\n",
      "Predicted Meter: 14.0\n",
      "Ground Truth: 22.0\n",
      "Error: 8.0\n",
      "==================================================\n",
      "How far is the gas station away from the camera in meters, rounded to the next meter?\n"
     ]
    },
    {
     "name": "stderr",
     "output_type": "stream",
     "text": [
      "Setting `pad_token_id` to `eos_token_id`:None for open-end generation.\n"
     ]
    },
    {
     "name": "stdout",
     "output_type": "stream",
     "text": [
      "HALLO\n",
      "Item ID: LHSWcIZo86wt0-3Axz6h_g_right\n",
      "Predicted Meter: 20.0\n",
      "Ground Truth: 20.0\n",
      "Error: 0.0\n",
      "==================================================\n",
      "How far is the gas station away from the camera in meters, rounded to the next meter?\n"
     ]
    },
    {
     "name": "stderr",
     "output_type": "stream",
     "text": [
      "Setting `pad_token_id` to `eos_token_id`:None for open-end generation.\n"
     ]
    },
    {
     "name": "stdout",
     "output_type": "stream",
     "text": [
      "HALLO\n",
      "Item ID: lUCB-zSdG5v8e7f6yo9hFw_right\n",
      "Predicted Meter: 19.0\n",
      "Ground Truth: 26.0\n",
      "Error: 7.0\n",
      "==================================================\n",
      "How far is the gas station away from the camera in meters, rounded to the next meter?\n"
     ]
    },
    {
     "name": "stderr",
     "output_type": "stream",
     "text": [
      "Setting `pad_token_id` to `eos_token_id`:None for open-end generation.\n"
     ]
    },
    {
     "name": "stdout",
     "output_type": "stream",
     "text": [
      "HALLO\n",
      "Item ID: mc_oZOlXyr9sItAXp-EEFQ_right\n",
      "Predicted Meter: 19.0\n",
      "Ground Truth: 21.0\n",
      "Error: 2.0\n",
      "==================================================\n",
      "How far is the gas station away from the camera in meters, rounded to the next meter?\n"
     ]
    },
    {
     "name": "stderr",
     "output_type": "stream",
     "text": [
      "Setting `pad_token_id` to `eos_token_id`:None for open-end generation.\n"
     ]
    },
    {
     "name": "stdout",
     "output_type": "stream",
     "text": [
      "HALLO\n",
      "Item ID: Qo2aUtgdEnZ96pkpYNEmAg_front\n",
      "Predicted Meter: 29.0\n",
      "Ground Truth: 28.0\n",
      "Error: 1.0\n",
      "==================================================\n",
      "How far is the gas station away from the camera in meters, rounded to the next meter?\n"
     ]
    },
    {
     "name": "stderr",
     "output_type": "stream",
     "text": [
      "Setting `pad_token_id` to `eos_token_id`:None for open-end generation.\n"
     ]
    },
    {
     "name": "stdout",
     "output_type": "stream",
     "text": [
      "HALLO\n",
      "Item ID: W1GOhAzbdnwjlJ-RrP8UDg_back\n",
      "Predicted Meter: 29.0\n",
      "Ground Truth: 21.0\n",
      "Error: 8.0\n",
      "==================================================\n",
      "How far is the post box away from the camera in meters, rounded to the next meter?\n"
     ]
    },
    {
     "name": "stderr",
     "output_type": "stream",
     "text": [
      "Setting `pad_token_id` to `eos_token_id`:None for open-end generation.\n"
     ]
    },
    {
     "name": "stdout",
     "output_type": "stream",
     "text": [
      "HALLO\n",
      "Item ID: lRA5rE4hSeIS8cLCmczXQw_right\n",
      "Predicted Meter: 12.0\n",
      "Ground Truth: 11.0\n",
      "Error: 1.0\n",
      "==================================================\n",
      "How far is the gas station away from the camera in meters, rounded to the next meter?\n"
     ]
    },
    {
     "name": "stderr",
     "output_type": "stream",
     "text": [
      "Setting `pad_token_id` to `eos_token_id`:None for open-end generation.\n"
     ]
    },
    {
     "name": "stdout",
     "output_type": "stream",
     "text": [
      "HALLO\n",
      "Item ID: TmAJ0zQ2uIyhpj81qDsyHg_right\n",
      "Predicted Meter: 26.0\n",
      "Ground Truth: 23.0\n",
      "Error: 3.0\n",
      "==================================================\n",
      "How far is the large waste dumpster away from the camera in meters, rounded to the next meter?\n"
     ]
    },
    {
     "name": "stderr",
     "output_type": "stream",
     "text": [
      "Setting `pad_token_id` to `eos_token_id`:None for open-end generation.\n"
     ]
    },
    {
     "name": "stdout",
     "output_type": "stream",
     "text": [
      "HALLO\n",
      "Item ID: OaoCpdsxh259v77mvTPhLQ_front\n",
      "Predicted Meter: 27.0\n",
      "Ground Truth: 22.0\n",
      "Error: 5.0\n",
      "==================================================\n",
      "How far is the gas station away from the camera in meters, rounded to the next meter?\n"
     ]
    },
    {
     "name": "stderr",
     "output_type": "stream",
     "text": [
      "Setting `pad_token_id` to `eos_token_id`:None for open-end generation.\n"
     ]
    },
    {
     "name": "stdout",
     "output_type": "stream",
     "text": [
      "HALLO\n",
      "Item ID: wc0EvjsWIVV8WUXMYA9u4Q_left\n",
      "Predicted Meter: 28.0\n",
      "Ground Truth: 26.0\n",
      "Error: 2.0\n",
      "==================================================\n",
      "How far is the gas station away from the camera in meters, rounded to the next meter?\n"
     ]
    },
    {
     "name": "stderr",
     "output_type": "stream",
     "text": [
      "Setting `pad_token_id` to `eos_token_id`:None for open-end generation.\n"
     ]
    },
    {
     "name": "stdout",
     "output_type": "stream",
     "text": [
      "HALLO\n",
      "Item ID: 5Rl3jytWkaTOiWLr7PDwdQ_left\n",
      "Predicted Meter: 26.0\n",
      "Ground Truth: 26.0\n",
      "Error: 0.0\n",
      "==================================================\n",
      "How far is the gas station away from the camera in meters, rounded to the next meter?\n"
     ]
    },
    {
     "name": "stderr",
     "output_type": "stream",
     "text": [
      "Setting `pad_token_id` to `eos_token_id`:None for open-end generation.\n"
     ]
    },
    {
     "name": "stdout",
     "output_type": "stream",
     "text": [
      "HALLO\n",
      "Item ID: cf8_ef6XCqNOI3lj5KzjOA_right\n",
      "Predicted Meter: 19.0\n",
      "Ground Truth: 23.0\n",
      "Error: 4.0\n",
      "==================================================\n",
      "How far is the gas station away from the camera in meters, rounded to the next meter?\n"
     ]
    },
    {
     "name": "stderr",
     "output_type": "stream",
     "text": [
      "Setting `pad_token_id` to `eos_token_id`:None for open-end generation.\n"
     ]
    },
    {
     "name": "stdout",
     "output_type": "stream",
     "text": [
      "HALLO\n",
      "Item ID: AWdJTbKEf5HBdRXHzGGC3A_left\n",
      "Predicted Meter: 26.0\n",
      "Ground Truth: 24.0\n",
      "Error: 2.0\n",
      "==================================================\n",
      "How far is the post box away from the camera in meters, rounded to the next meter?\n"
     ]
    },
    {
     "name": "stderr",
     "output_type": "stream",
     "text": [
      "Setting `pad_token_id` to `eos_token_id`:None for open-end generation.\n"
     ]
    },
    {
     "name": "stdout",
     "output_type": "stream",
     "text": [
      "HALLO\n",
      "Item ID: eJIgtiIzNQ7478dhnPH2lQ_back\n",
      "Predicted Meter: 12.0\n",
      "Ground Truth: 28.0\n",
      "Error: 16.0\n",
      "==================================================\n",
      "How far is the gas station away from the camera in meters, rounded to the next meter?\n"
     ]
    },
    {
     "name": "stderr",
     "output_type": "stream",
     "text": [
      "Setting `pad_token_id` to `eos_token_id`:None for open-end generation.\n"
     ]
    },
    {
     "name": "stdout",
     "output_type": "stream",
     "text": [
      "HALLO\n",
      "Item ID: Cx59xrGyKeRhAqomop17yg_left\n",
      "Predicted Meter: 26.0\n",
      "Ground Truth: 25.0\n",
      "Error: 1.0\n",
      "==================================================\n",
      "How far is the gas station away from the camera in meters, rounded to the next meter?\n"
     ]
    },
    {
     "name": "stderr",
     "output_type": "stream",
     "text": [
      "Setting `pad_token_id` to `eos_token_id`:None for open-end generation.\n"
     ]
    },
    {
     "name": "stdout",
     "output_type": "stream",
     "text": [
      "HALLO\n",
      "Item ID: qn-fWttcGKIJ7Zc4c1pkqw_left\n",
      "Predicted Meter: 29.0\n",
      "Ground Truth: 27.0\n",
      "Error: 2.0\n",
      "==================================================\n",
      "How far is the vending machine away from the camera in meters, rounded to the next meter?\n"
     ]
    },
    {
     "name": "stderr",
     "output_type": "stream",
     "text": [
      "Setting `pad_token_id` to `eos_token_id`:None for open-end generation.\n"
     ]
    },
    {
     "name": "stdout",
     "output_type": "stream",
     "text": [
      "HALLO\n",
      "Item ID: zSP4L1e2ilC2jV9kuwrNaw_right\n",
      "Predicted Meter: 14.0\n",
      "Ground Truth: 20.0\n",
      "Error: 6.0\n",
      "==================================================\n",
      "How far is the post box away from the camera in meters, rounded to the next meter?\n"
     ]
    },
    {
     "name": "stderr",
     "output_type": "stream",
     "text": [
      "Setting `pad_token_id` to `eos_token_id`:None for open-end generation.\n"
     ]
    },
    {
     "name": "stdout",
     "output_type": "stream",
     "text": [
      "HALLO\n",
      "Item ID: jbUqNAyorVVwMczpYlOnug_left\n",
      "Predicted Meter: 11.0\n",
      "Ground Truth: 7.0\n",
      "Error: 4.0\n",
      "==================================================\n",
      "How far is the gas station away from the camera in meters, rounded to the next meter?\n"
     ]
    },
    {
     "name": "stderr",
     "output_type": "stream",
     "text": [
      "Setting `pad_token_id` to `eos_token_id`:None for open-end generation.\n"
     ]
    },
    {
     "name": "stdout",
     "output_type": "stream",
     "text": [
      "HALLO\n",
      "Item ID: jfz76Ye8P1tRIX5j6Y_MFw_left\n",
      "Predicted Meter: 28.0\n",
      "Ground Truth: 27.0\n",
      "Error: 1.0\n",
      "==================================================\n",
      "How far is the gas station away from the camera in meters, rounded to the next meter?\n"
     ]
    },
    {
     "name": "stderr",
     "output_type": "stream",
     "text": [
      "Setting `pad_token_id` to `eos_token_id`:None for open-end generation.\n"
     ]
    },
    {
     "name": "stdout",
     "output_type": "stream",
     "text": [
      "HALLO\n",
      "Item ID: d4hQ_xl8nHeMaP6R97uNgg_right\n",
      "Predicted Meter: 29.0\n",
      "Ground Truth: 25.0\n",
      "Error: 4.0\n",
      "==================================================\n",
      "How far is the gas station away from the camera in meters, rounded to the next meter?\n"
     ]
    },
    {
     "name": "stderr",
     "output_type": "stream",
     "text": [
      "Setting `pad_token_id` to `eos_token_id`:None for open-end generation.\n"
     ]
    },
    {
     "name": "stdout",
     "output_type": "stream",
     "text": [
      "HALLO\n",
      "Item ID: n8NSRWP5PY_ECNUo4guX3g_right\n",
      "Predicted Meter: 28.0\n",
      "Ground Truth: 29.0\n",
      "Error: 1.0\n",
      "==================================================\n",
      "How far is the gas station away from the camera in meters, rounded to the next meter?\n"
     ]
    },
    {
     "name": "stderr",
     "output_type": "stream",
     "text": [
      "Setting `pad_token_id` to `eos_token_id`:None for open-end generation.\n"
     ]
    },
    {
     "name": "stdout",
     "output_type": "stream",
     "text": [
      "HALLO\n",
      "Item ID: J0RU4yu-NC93sJo4XZ20qw_back\n",
      "Predicted Meter: 29.0\n",
      "Ground Truth: 29.0\n",
      "Error: 0.0\n",
      "==================================================\n",
      "How far is the gas station away from the camera in meters, rounded to the next meter?\n"
     ]
    },
    {
     "name": "stderr",
     "output_type": "stream",
     "text": [
      "Setting `pad_token_id` to `eos_token_id`:None for open-end generation.\n"
     ]
    },
    {
     "name": "stdout",
     "output_type": "stream",
     "text": [
      "HALLO\n",
      "Item ID: 9WZaNAcZKK0CG_6Ti6MOBw_front\n",
      "Predicted Meter: 29.0\n",
      "Ground Truth: 21.0\n",
      "Error: 8.0\n",
      "==================================================\n",
      "How far is the gas station away from the camera in meters, rounded to the next meter?\n"
     ]
    },
    {
     "name": "stderr",
     "output_type": "stream",
     "text": [
      "Setting `pad_token_id` to `eos_token_id`:None for open-end generation.\n"
     ]
    },
    {
     "name": "stdout",
     "output_type": "stream",
     "text": [
      "HALLO\n",
      "Item ID: kzpGP0MnxjLXTR0OLJsUWg_back\n",
      "Predicted Meter: 29.0\n",
      "Ground Truth: 28.0\n",
      "Error: 1.0\n",
      "==================================================\n",
      "How far is the gas station away from the camera in meters, rounded to the next meter?\n"
     ]
    },
    {
     "name": "stderr",
     "output_type": "stream",
     "text": [
      "Setting `pad_token_id` to `eos_token_id`:None for open-end generation.\n"
     ]
    },
    {
     "name": "stdout",
     "output_type": "stream",
     "text": [
      "HALLO\n",
      "Item ID: u9Kokx_8X1UHcThQufdKBQ_right\n",
      "Predicted Meter: 26.0\n",
      "Ground Truth: 16.0\n",
      "Error: 10.0\n",
      "==================================================\n",
      "How far is the gas station away from the camera in meters, rounded to the next meter?\n"
     ]
    },
    {
     "name": "stderr",
     "output_type": "stream",
     "text": [
      "Setting `pad_token_id` to `eos_token_id`:None for open-end generation.\n"
     ]
    },
    {
     "name": "stdout",
     "output_type": "stream",
     "text": [
      "HALLO\n",
      "Item ID: JtyeoGH-BUUewIwbHElEew_right\n",
      "Predicted Meter: 29.0\n",
      "Ground Truth: 22.0\n",
      "Error: 7.0\n",
      "==================================================\n",
      "How far is the gas station away from the camera in meters, rounded to the next meter?\n"
     ]
    },
    {
     "name": "stderr",
     "output_type": "stream",
     "text": [
      "Setting `pad_token_id` to `eos_token_id`:None for open-end generation.\n"
     ]
    },
    {
     "name": "stdout",
     "output_type": "stream",
     "text": [
      "HALLO\n",
      "Item ID: N32bZK7jAraafCM7dRXRVg_front\n",
      "Predicted Meter: 29.0\n",
      "Ground Truth: 27.0\n",
      "Error: 2.0\n",
      "==================================================\n",
      "How far is the gas station away from the camera in meters, rounded to the next meter?\n"
     ]
    },
    {
     "name": "stderr",
     "output_type": "stream",
     "text": [
      "Setting `pad_token_id` to `eos_token_id`:None for open-end generation.\n"
     ]
    },
    {
     "name": "stdout",
     "output_type": "stream",
     "text": [
      "HALLO\n",
      "Item ID: q4OI0Scwi1i0HkqRTAJKKA_front\n",
      "Predicted Meter: 28.0\n",
      "Ground Truth: 12.0\n",
      "Error: 16.0\n",
      "==================================================\n",
      "How far is the gas station away from the camera in meters, rounded to the next meter?\n"
     ]
    },
    {
     "name": "stderr",
     "output_type": "stream",
     "text": [
      "Setting `pad_token_id` to `eos_token_id`:None for open-end generation.\n"
     ]
    },
    {
     "name": "stdout",
     "output_type": "stream",
     "text": [
      "HALLO\n",
      "Item ID: hx5M3hRQSuMVV3BzCAegCg_left\n",
      "Predicted Meter: 28.0\n",
      "Ground Truth: 30.0\n",
      "Error: 2.0\n",
      "==================================================\n",
      "How far is the gas station away from the camera in meters, rounded to the next meter?\n"
     ]
    },
    {
     "name": "stderr",
     "output_type": "stream",
     "text": [
      "Setting `pad_token_id` to `eos_token_id`:None for open-end generation.\n"
     ]
    },
    {
     "name": "stdout",
     "output_type": "stream",
     "text": [
      "HALLO\n",
      "Item ID: 3ixcETgziLCGAjvOEqWM7g_back\n",
      "Predicted Meter: 29.0\n",
      "Ground Truth: 23.0\n",
      "Error: 6.0\n",
      "==================================================\n",
      "How far is the gas station away from the camera in meters, rounded to the next meter?\n"
     ]
    },
    {
     "name": "stderr",
     "output_type": "stream",
     "text": [
      "Setting `pad_token_id` to `eos_token_id`:None for open-end generation.\n"
     ]
    },
    {
     "name": "stdout",
     "output_type": "stream",
     "text": [
      "HALLO\n",
      "Item ID: OArBY4CDcYgtKL89eIzkWw_right\n",
      "Predicted Meter: 27.0\n",
      "Ground Truth: 18.0\n",
      "Error: 9.0\n",
      "==================================================\n",
      "How far is the gas station away from the camera in meters, rounded to the next meter?\n"
     ]
    },
    {
     "name": "stderr",
     "output_type": "stream",
     "text": [
      "Setting `pad_token_id` to `eos_token_id`:None for open-end generation.\n"
     ]
    },
    {
     "name": "stdout",
     "output_type": "stream",
     "text": [
      "HALLO\n",
      "Item ID: jxLJB3l_o_cvFGl6JM__wQ_back\n",
      "Predicted Meter: 26.0\n",
      "Ground Truth: 18.0\n",
      "Error: 8.0\n",
      "==================================================\n",
      "How far is the gas station away from the camera in meters, rounded to the next meter?\n"
     ]
    },
    {
     "name": "stderr",
     "output_type": "stream",
     "text": [
      "Setting `pad_token_id` to `eos_token_id`:None for open-end generation.\n"
     ]
    },
    {
     "name": "stdout",
     "output_type": "stream",
     "text": [
      "HALLO\n",
      "Item ID: xb9LiT2Y_dUww_PC0NOLOQ_right\n",
      "Predicted Meter: 26.0\n",
      "Ground Truth: 15.0\n",
      "Error: 11.0\n",
      "==================================================\n",
      "How far is the gas station away from the camera in meters, rounded to the next meter?\n"
     ]
    },
    {
     "name": "stderr",
     "output_type": "stream",
     "text": [
      "Setting `pad_token_id` to `eos_token_id`:None for open-end generation.\n"
     ]
    },
    {
     "name": "stdout",
     "output_type": "stream",
     "text": [
      "HALLO\n",
      "Item ID: iib8V4vSPpts_FtmuxH4tg_right\n",
      "Predicted Meter: 29.0\n",
      "Ground Truth: 30.0\n",
      "Error: 1.0\n",
      "==================================================\n",
      "How far is the post box away from the camera in meters, rounded to the next meter?\n"
     ]
    },
    {
     "name": "stderr",
     "output_type": "stream",
     "text": [
      "Setting `pad_token_id` to `eos_token_id`:None for open-end generation.\n"
     ]
    },
    {
     "name": "stdout",
     "output_type": "stream",
     "text": [
      "HALLO\n",
      "Item ID: 6v1-hhiayJy7DoBpfpN6wA_front\n",
      "Predicted Meter: 12.0\n",
      "Ground Truth: 18.0\n",
      "Error: 6.0\n",
      "==================================================\n",
      "How far is the gas station away from the camera in meters, rounded to the next meter?\n"
     ]
    },
    {
     "name": "stderr",
     "output_type": "stream",
     "text": [
      "Setting `pad_token_id` to `eos_token_id`:None for open-end generation.\n"
     ]
    },
    {
     "name": "stdout",
     "output_type": "stream",
     "text": [
      "HALLO\n",
      "Item ID: _vO63qpalTD-pyBTLFdy1g_left\n",
      "Predicted Meter: 29.0\n",
      "Ground Truth: 25.0\n",
      "Error: 4.0\n",
      "==================================================\n",
      "How far is the gas station away from the camera in meters, rounded to the next meter?\n"
     ]
    },
    {
     "name": "stderr",
     "output_type": "stream",
     "text": [
      "Setting `pad_token_id` to `eos_token_id`:None for open-end generation.\n"
     ]
    },
    {
     "name": "stdout",
     "output_type": "stream",
     "text": [
      "HALLO\n",
      "Item ID: qq8iXTbkO_iEK4mJLC1xgA_right\n",
      "Predicted Meter: 28.0\n",
      "Ground Truth: 30.0\n",
      "Error: 2.0\n",
      "==================================================\n",
      "How far is the gas station away from the camera in meters, rounded to the next meter?\n"
     ]
    },
    {
     "name": "stderr",
     "output_type": "stream",
     "text": [
      "Setting `pad_token_id` to `eos_token_id`:None for open-end generation.\n"
     ]
    },
    {
     "name": "stdout",
     "output_type": "stream",
     "text": [
      "HALLO\n",
      "Item ID: SIQOuGqlTXsiqwfDq6zoCg_back\n",
      "Predicted Meter: 28.0\n",
      "Ground Truth: 20.0\n",
      "Error: 8.0\n",
      "==================================================\n",
      "How far is the vending machine away from the camera in meters, rounded to the next meter?\n"
     ]
    },
    {
     "name": "stderr",
     "output_type": "stream",
     "text": [
      "Setting `pad_token_id` to `eos_token_id`:None for open-end generation.\n"
     ]
    },
    {
     "name": "stdout",
     "output_type": "stream",
     "text": [
      "HALLO\n",
      "Item ID: eRQ_lSJa8rZ3LFZ9s36v7A_back\n",
      "Predicted Meter: 14.0\n",
      "Ground Truth: 12.0\n",
      "Error: 2.0\n",
      "==================================================\n",
      "How far is the gas station away from the camera in meters, rounded to the next meter?\n"
     ]
    },
    {
     "name": "stderr",
     "output_type": "stream",
     "text": [
      "Setting `pad_token_id` to `eos_token_id`:None for open-end generation.\n"
     ]
    },
    {
     "name": "stdout",
     "output_type": "stream",
     "text": [
      "HALLO\n",
      "Item ID: ODpq7KBrQltTE1PM9XsymA_right\n",
      "Predicted Meter: 20.0\n",
      "Ground Truth: 27.0\n",
      "Error: 7.0\n",
      "==================================================\n",
      "How far is the gas station away from the camera in meters, rounded to the next meter?\n"
     ]
    },
    {
     "name": "stderr",
     "output_type": "stream",
     "text": [
      "Setting `pad_token_id` to `eos_token_id`:None for open-end generation.\n"
     ]
    },
    {
     "name": "stdout",
     "output_type": "stream",
     "text": [
      "HALLO\n",
      "Item ID: JtyeoGH-BUUewIwbHElEew_back\n",
      "Predicted Meter: 29.0\n",
      "Ground Truth: 22.0\n",
      "Error: 7.0\n",
      "==================================================\n",
      "How far is the large waste dumpster away from the camera in meters, rounded to the next meter?\n"
     ]
    },
    {
     "name": "stderr",
     "output_type": "stream",
     "text": [
      "Setting `pad_token_id` to `eos_token_id`:None for open-end generation.\n"
     ]
    },
    {
     "name": "stdout",
     "output_type": "stream",
     "text": [
      "HALLO\n",
      "Item ID: Uo4CGPMzPzMx-A8Mjp6ziw_left\n",
      "Predicted Meter: 20.0\n",
      "Ground Truth: 25.0\n",
      "Error: 5.0\n",
      "==================================================\n",
      "How far is the gas station away from the camera in meters, rounded to the next meter?\n"
     ]
    },
    {
     "name": "stderr",
     "output_type": "stream",
     "text": [
      "Setting `pad_token_id` to `eos_token_id`:None for open-end generation.\n"
     ]
    },
    {
     "name": "stdout",
     "output_type": "stream",
     "text": [
      "HALLO\n",
      "Item ID: a3CD8WKIaMh74X_w1hp7sQ_right\n",
      "Predicted Meter: 29.0\n",
      "Ground Truth: 28.0\n",
      "Error: 1.0\n",
      "==================================================\n",
      "How far is the post box away from the camera in meters, rounded to the next meter?\n"
     ]
    },
    {
     "name": "stderr",
     "output_type": "stream",
     "text": [
      "Setting `pad_token_id` to `eos_token_id`:None for open-end generation.\n"
     ]
    },
    {
     "name": "stdout",
     "output_type": "stream",
     "text": [
      "HALLO\n",
      "Item ID: dcRWrKzhakwQYNJVjRTTDw_left\n",
      "Predicted Meter: 28.0\n",
      "Ground Truth: 25.0\n",
      "Error: 3.0\n",
      "==================================================\n",
      "How far is the gas station away from the camera in meters, rounded to the next meter?\n"
     ]
    },
    {
     "name": "stderr",
     "output_type": "stream",
     "text": [
      "Setting `pad_token_id` to `eos_token_id`:None for open-end generation.\n"
     ]
    },
    {
     "name": "stdout",
     "output_type": "stream",
     "text": [
      "HALLO\n",
      "Item ID: ggLlWlPCXTY3fRqkhBUoLw_back\n",
      "Predicted Meter: 29.0\n",
      "Ground Truth: 29.0\n",
      "Error: 0.0\n",
      "==================================================\n",
      "How far is the gas station away from the camera in meters, rounded to the next meter?\n"
     ]
    },
    {
     "name": "stderr",
     "output_type": "stream",
     "text": [
      "Setting `pad_token_id` to `eos_token_id`:None for open-end generation.\n"
     ]
    },
    {
     "name": "stdout",
     "output_type": "stream",
     "text": [
      "HALLO\n",
      "Item ID: I4dohtV49xeb159_Ng8Umw_left\n",
      "Predicted Meter: 29.0\n",
      "Ground Truth: 27.0\n",
      "Error: 2.0\n",
      "==================================================\n",
      "How far is the gas station away from the camera in meters, rounded to the next meter?\n"
     ]
    },
    {
     "name": "stderr",
     "output_type": "stream",
     "text": [
      "Setting `pad_token_id` to `eos_token_id`:None for open-end generation.\n"
     ]
    },
    {
     "name": "stdout",
     "output_type": "stream",
     "text": [
      "HALLO\n",
      "Item ID: W-gBkV3CvuaiXTp8ypzwJA_left\n",
      "Predicted Meter: 28.0\n",
      "Ground Truth: 28.0\n",
      "Error: 0.0\n",
      "==================================================\n",
      "How far is the gas station away from the camera in meters, rounded to the next meter?\n"
     ]
    },
    {
     "name": "stderr",
     "output_type": "stream",
     "text": [
      "Setting `pad_token_id` to `eos_token_id`:None for open-end generation.\n"
     ]
    },
    {
     "name": "stdout",
     "output_type": "stream",
     "text": [
      "HALLO\n",
      "Item ID: QrzepgRmPP6RvB-5DCKDOw_right\n",
      "Predicted Meter: 14.0\n",
      "Ground Truth: 21.0\n",
      "Error: 7.0\n",
      "==================================================\n",
      "How far is the post box away from the camera in meters, rounded to the next meter?\n"
     ]
    },
    {
     "name": "stderr",
     "output_type": "stream",
     "text": [
      "Setting `pad_token_id` to `eos_token_id`:None for open-end generation.\n"
     ]
    },
    {
     "name": "stdout",
     "output_type": "stream",
     "text": [
      "HALLO\n",
      "Item ID: KuSK5cvU7kUtZVVnQmfMMQ_right\n",
      "Predicted Meter: 12.0\n",
      "Ground Truth: 29.0\n",
      "Error: 17.0\n",
      "==================================================\n",
      "How far is the post box away from the camera in meters, rounded to the next meter?\n"
     ]
    },
    {
     "name": "stderr",
     "output_type": "stream",
     "text": [
      "Setting `pad_token_id` to `eos_token_id`:None for open-end generation.\n"
     ]
    },
    {
     "name": "stdout",
     "output_type": "stream",
     "text": [
      "HALLO\n",
      "Item ID: jn4zEaguUF85vtddS9591A_front\n",
      "Predicted Meter: 12.0\n",
      "Ground Truth: 16.0\n",
      "Error: 4.0\n",
      "==================================================\n",
      "How far is the post box away from the camera in meters, rounded to the next meter?\n"
     ]
    },
    {
     "name": "stderr",
     "output_type": "stream",
     "text": [
      "Setting `pad_token_id` to `eos_token_id`:None for open-end generation.\n"
     ]
    },
    {
     "name": "stdout",
     "output_type": "stream",
     "text": [
      "HALLO\n",
      "Item ID: 2-FSObqDy2OGHRS-oLXpIA_front\n",
      "Predicted Meter: 28.0\n",
      "Ground Truth: 9.0\n",
      "Error: 19.0\n",
      "==================================================\n",
      "How far is the gas station away from the camera in meters, rounded to the next meter?\n"
     ]
    },
    {
     "name": "stderr",
     "output_type": "stream",
     "text": [
      "Setting `pad_token_id` to `eos_token_id`:None for open-end generation.\n"
     ]
    },
    {
     "name": "stdout",
     "output_type": "stream",
     "text": [
      "HALLO\n",
      "Item ID: KxKRZzRg654ggxD9Un5qhw_right\n",
      "Predicted Meter: 19.0\n",
      "Ground Truth: 20.0\n",
      "Error: 1.0\n",
      "==================================================\n",
      "How far is the gas station away from the camera in meters, rounded to the next meter?\n"
     ]
    },
    {
     "name": "stderr",
     "output_type": "stream",
     "text": [
      "Setting `pad_token_id` to `eos_token_id`:None for open-end generation.\n"
     ]
    },
    {
     "name": "stdout",
     "output_type": "stream",
     "text": [
      "HALLO\n",
      "Item ID: pvA1fuCApUKCE1EAb1Xgig_back\n",
      "Predicted Meter: 29.0\n",
      "Ground Truth: 30.0\n",
      "Error: 1.0\n",
      "==================================================\n",
      "How far is the gas station away from the camera in meters, rounded to the next meter?\n"
     ]
    },
    {
     "name": "stderr",
     "output_type": "stream",
     "text": [
      "Setting `pad_token_id` to `eos_token_id`:None for open-end generation.\n"
     ]
    },
    {
     "name": "stdout",
     "output_type": "stream",
     "text": [
      "HALLO\n",
      "Item ID: z3ndUO5NBsQdcR6Onfs8kw_front\n",
      "Predicted Meter: 29.0\n",
      "Ground Truth: 27.0\n",
      "Error: 2.0\n",
      "==================================================\n",
      "How far is the gas station away from the camera in meters, rounded to the next meter?\n"
     ]
    },
    {
     "name": "stderr",
     "output_type": "stream",
     "text": [
      "Setting `pad_token_id` to `eos_token_id`:None for open-end generation.\n"
     ]
    },
    {
     "name": "stdout",
     "output_type": "stream",
     "text": [
      "HALLO\n",
      "Item ID: Rv3VUBBBNctDraTzS2RI3g_right\n",
      "Predicted Meter: 14.0\n",
      "Ground Truth: 26.0\n",
      "Error: 12.0\n",
      "==================================================\n",
      "How far is the atm away from the camera in meters, rounded to the next meter?\n"
     ]
    },
    {
     "name": "stderr",
     "output_type": "stream",
     "text": [
      "Setting `pad_token_id` to `eos_token_id`:None for open-end generation.\n"
     ]
    },
    {
     "name": "stdout",
     "output_type": "stream",
     "text": [
      "HALLO\n",
      "Item ID: 19vgVzfNilUW-ZOFDTBU3w_left\n",
      "Predicted Meter: 28.0\n",
      "Ground Truth: 19.0\n",
      "Error: 9.0\n",
      "==================================================\n",
      "How far is the gas station away from the camera in meters, rounded to the next meter?\n"
     ]
    },
    {
     "name": "stderr",
     "output_type": "stream",
     "text": [
      "Setting `pad_token_id` to `eos_token_id`:None for open-end generation.\n"
     ]
    },
    {
     "name": "stdout",
     "output_type": "stream",
     "text": [
      "HALLO\n",
      "Item ID: sW81gMtDmZH5rH6dKD2Kgg_right\n",
      "Predicted Meter: 28.0\n",
      "Ground Truth: 26.0\n",
      "Error: 2.0\n",
      "==================================================\n",
      "How far is the gas station away from the camera in meters, rounded to the next meter?\n"
     ]
    },
    {
     "name": "stderr",
     "output_type": "stream",
     "text": [
      "Setting `pad_token_id` to `eos_token_id`:None for open-end generation.\n"
     ]
    },
    {
     "name": "stdout",
     "output_type": "stream",
     "text": [
      "HALLO\n",
      "Item ID: e72VAs__5et9iblG7Jzbkg_front\n",
      "Predicted Meter: 29.0\n",
      "Ground Truth: 22.0\n",
      "Error: 7.0\n",
      "==================================================\n",
      "How far is the gas station away from the camera in meters, rounded to the next meter?\n"
     ]
    },
    {
     "name": "stderr",
     "output_type": "stream",
     "text": [
      "Setting `pad_token_id` to `eos_token_id`:None for open-end generation.\n"
     ]
    },
    {
     "name": "stdout",
     "output_type": "stream",
     "text": [
      "HALLO\n",
      "Item ID: JBh4Q90EGzF9bfNWNEx_yQ_right\n",
      "Predicted Meter: 27.0\n",
      "Ground Truth: 25.0\n",
      "Error: 2.0\n",
      "==================================================\n",
      "How far is the gas station away from the camera in meters, rounded to the next meter?\n"
     ]
    },
    {
     "name": "stderr",
     "output_type": "stream",
     "text": [
      "Setting `pad_token_id` to `eos_token_id`:None for open-end generation.\n"
     ]
    },
    {
     "name": "stdout",
     "output_type": "stream",
     "text": [
      "HALLO\n",
      "Item ID: UK2rWp3Bd4YrFtzB7sqlvA_front\n",
      "Predicted Meter: 21.0\n",
      "Ground Truth: 29.0\n",
      "Error: 8.0\n",
      "==================================================\n",
      "How far is the gas station away from the camera in meters, rounded to the next meter?\n"
     ]
    },
    {
     "name": "stderr",
     "output_type": "stream",
     "text": [
      "Setting `pad_token_id` to `eos_token_id`:None for open-end generation.\n"
     ]
    },
    {
     "name": "stdout",
     "output_type": "stream",
     "text": [
      "HALLO\n",
      "Item ID: _O0jxrZYJf_QSDnbrH3_2g_front\n",
      "Predicted Meter: 29.0\n",
      "Ground Truth: 26.0\n",
      "Error: 3.0\n",
      "==================================================\n",
      "How far is the gas station away from the camera in meters, rounded to the next meter?\n"
     ]
    },
    {
     "name": "stderr",
     "output_type": "stream",
     "text": [
      "Setting `pad_token_id` to `eos_token_id`:None for open-end generation.\n"
     ]
    },
    {
     "name": "stdout",
     "output_type": "stream",
     "text": [
      "HALLO\n",
      "Item ID: Ym3CPMFWgLQgwLP7MoZerw_right\n",
      "Predicted Meter: 19.0\n",
      "Ground Truth: 25.0\n",
      "Error: 6.0\n",
      "==================================================\n",
      "How far is the post box away from the camera in meters, rounded to the next meter?\n"
     ]
    },
    {
     "name": "stderr",
     "output_type": "stream",
     "text": [
      "Setting `pad_token_id` to `eos_token_id`:None for open-end generation.\n"
     ]
    },
    {
     "name": "stdout",
     "output_type": "stream",
     "text": [
      "HALLO\n",
      "Item ID: 8naUjoF8o0pkX_YlDQHcCQ_left\n",
      "Predicted Meter: 27.0\n",
      "Ground Truth: 7.0\n",
      "Error: 20.0\n",
      "==================================================\n",
      "How far is the gas station away from the camera in meters, rounded to the next meter?\n"
     ]
    },
    {
     "name": "stderr",
     "output_type": "stream",
     "text": [
      "Setting `pad_token_id` to `eos_token_id`:None for open-end generation.\n"
     ]
    },
    {
     "name": "stdout",
     "output_type": "stream",
     "text": [
      "HALLO\n",
      "Item ID: P46zszgViyt-C8o6lET3Ow_left\n",
      "Predicted Meter: 26.0\n",
      "Ground Truth: 25.0\n",
      "Error: 1.0\n",
      "==================================================\n",
      "How far is the gas station away from the camera in meters, rounded to the next meter?\n"
     ]
    },
    {
     "name": "stderr",
     "output_type": "stream",
     "text": [
      "Setting `pad_token_id` to `eos_token_id`:None for open-end generation.\n"
     ]
    },
    {
     "name": "stdout",
     "output_type": "stream",
     "text": [
      "HALLO\n",
      "Item ID: 3owL9LAboiuqRM_8xI8c5w_left\n",
      "Predicted Meter: 29.0\n",
      "Ground Truth: 29.0\n",
      "Error: 0.0\n",
      "==================================================\n",
      "How far is the gas station away from the camera in meters, rounded to the next meter?\n"
     ]
    },
    {
     "name": "stderr",
     "output_type": "stream",
     "text": [
      "Setting `pad_token_id` to `eos_token_id`:None for open-end generation.\n"
     ]
    },
    {
     "name": "stdout",
     "output_type": "stream",
     "text": [
      "HALLO\n",
      "Item ID: a4pv7J1rC3HwrnQWaugEAA_left\n",
      "Predicted Meter: 19.0\n",
      "Ground Truth: 20.0\n",
      "Error: 1.0\n",
      "==================================================\n",
      "How far is the gas station away from the camera in meters, rounded to the next meter?\n"
     ]
    },
    {
     "name": "stderr",
     "output_type": "stream",
     "text": [
      "Setting `pad_token_id` to `eos_token_id`:None for open-end generation.\n"
     ]
    },
    {
     "name": "stdout",
     "output_type": "stream",
     "text": [
      "HALLO\n",
      "Item ID: pahz2YZlAB_f80CoGzLtSA_left\n",
      "Predicted Meter: 29.0\n",
      "Ground Truth: 30.0\n",
      "Error: 1.0\n",
      "==================================================\n",
      "How far is the gas station away from the camera in meters, rounded to the next meter?\n"
     ]
    },
    {
     "name": "stderr",
     "output_type": "stream",
     "text": [
      "Setting `pad_token_id` to `eos_token_id`:None for open-end generation.\n"
     ]
    },
    {
     "name": "stdout",
     "output_type": "stream",
     "text": [
      "HALLO\n",
      "Item ID: aniYGD6kiz9Gtf0l-70f2Q_left\n",
      "Predicted Meter: 29.0\n",
      "Ground Truth: 25.0\n",
      "Error: 4.0\n",
      "==================================================\n",
      "How far is the gas station away from the camera in meters, rounded to the next meter?\n"
     ]
    },
    {
     "name": "stderr",
     "output_type": "stream",
     "text": [
      "Setting `pad_token_id` to `eos_token_id`:None for open-end generation.\n"
     ]
    },
    {
     "name": "stdout",
     "output_type": "stream",
     "text": [
      "HALLO\n",
      "Item ID: TTV6SfcooODCtltjtgSdSg_left\n",
      "Predicted Meter: 27.0\n",
      "Ground Truth: 25.0\n",
      "Error: 2.0\n",
      "==================================================\n",
      "How far is the gas station away from the camera in meters, rounded to the next meter?\n"
     ]
    },
    {
     "name": "stderr",
     "output_type": "stream",
     "text": [
      "Setting `pad_token_id` to `eos_token_id`:None for open-end generation.\n"
     ]
    },
    {
     "name": "stdout",
     "output_type": "stream",
     "text": [
      "HALLO\n",
      "Item ID: vcaFbHdSXrGksEiMGrQLrQ_right\n",
      "Predicted Meter: 19.0\n",
      "Ground Truth: 21.0\n",
      "Error: 2.0\n",
      "==================================================\n",
      "How far is the gas station away from the camera in meters, rounded to the next meter?\n"
     ]
    },
    {
     "name": "stderr",
     "output_type": "stream",
     "text": [
      "Setting `pad_token_id` to `eos_token_id`:None for open-end generation.\n"
     ]
    },
    {
     "name": "stdout",
     "output_type": "stream",
     "text": [
      "HALLO\n",
      "Item ID: dWF-5O9XfAEky8SiZKOgRg_front\n",
      "Predicted Meter: 19.0\n",
      "Ground Truth: 29.0\n",
      "Error: 10.0\n",
      "==================================================\n",
      "How far is the post box away from the camera in meters, rounded to the next meter?\n"
     ]
    },
    {
     "name": "stderr",
     "output_type": "stream",
     "text": [
      "Setting `pad_token_id` to `eos_token_id`:None for open-end generation.\n"
     ]
    },
    {
     "name": "stdout",
     "output_type": "stream",
     "text": [
      "HALLO\n",
      "Item ID: MPBnrxKHyNuVDqVLQuyG9g_front\n",
      "Predicted Meter: 12.0\n",
      "Ground Truth: 20.0\n",
      "Error: 8.0\n",
      "==================================================\n",
      "How far is the gas station away from the camera in meters, rounded to the next meter?\n"
     ]
    },
    {
     "name": "stderr",
     "output_type": "stream",
     "text": [
      "Setting `pad_token_id` to `eos_token_id`:None for open-end generation.\n"
     ]
    },
    {
     "name": "stdout",
     "output_type": "stream",
     "text": [
      "HALLO\n",
      "Item ID: k2YBj5MKBV4ZN_iwZ4aCEQ_back\n",
      "Predicted Meter: 19.0\n",
      "Ground Truth: 13.0\n",
      "Error: 6.0\n",
      "==================================================\n",
      "How far is the gas station away from the camera in meters, rounded to the next meter?\n"
     ]
    },
    {
     "name": "stderr",
     "output_type": "stream",
     "text": [
      "Setting `pad_token_id` to `eos_token_id`:None for open-end generation.\n"
     ]
    },
    {
     "name": "stdout",
     "output_type": "stream",
     "text": [
      "HALLO\n",
      "Item ID: QsUUe_r6kLQGpz0mMQJItQ_back\n",
      "Predicted Meter: 29.0\n",
      "Ground Truth: 14.0\n",
      "Error: 15.0\n",
      "==================================================\n",
      "How far is the gas station away from the camera in meters, rounded to the next meter?\n"
     ]
    },
    {
     "name": "stderr",
     "output_type": "stream",
     "text": [
      "Setting `pad_token_id` to `eos_token_id`:None for open-end generation.\n"
     ]
    },
    {
     "name": "stdout",
     "output_type": "stream",
     "text": [
      "HALLO\n",
      "Item ID: cAjf-qb2WlKMgLqdL9nDKg_back\n",
      "Predicted Meter: 29.0\n",
      "Ground Truth: 20.0\n",
      "Error: 9.0\n",
      "==================================================\n",
      "How far is the gas station away from the camera in meters, rounded to the next meter?\n"
     ]
    },
    {
     "name": "stderr",
     "output_type": "stream",
     "text": [
      "Setting `pad_token_id` to `eos_token_id`:None for open-end generation.\n"
     ]
    },
    {
     "name": "stdout",
     "output_type": "stream",
     "text": [
      "HALLO\n",
      "Item ID: Z53S5bnyH7mNGBg_vJQcmA_left\n",
      "Predicted Meter: 19.0\n",
      "Ground Truth: 23.0\n",
      "Error: 4.0\n",
      "==================================================\n",
      "How far is the gas station away from the camera in meters, rounded to the next meter?\n"
     ]
    },
    {
     "name": "stderr",
     "output_type": "stream",
     "text": [
      "Setting `pad_token_id` to `eos_token_id`:None for open-end generation.\n"
     ]
    },
    {
     "name": "stdout",
     "output_type": "stream",
     "text": [
      "HALLO\n",
      "Item ID: k2bp2EYvD4dBPteB1oLO8A_right\n",
      "Predicted Meter: 28.0\n",
      "Ground Truth: 22.0\n",
      "Error: 6.0\n",
      "==================================================\n",
      "How far is the gas station away from the camera in meters, rounded to the next meter?\n"
     ]
    },
    {
     "name": "stderr",
     "output_type": "stream",
     "text": [
      "Setting `pad_token_id` to `eos_token_id`:None for open-end generation.\n"
     ]
    },
    {
     "name": "stdout",
     "output_type": "stream",
     "text": [
      "HALLO\n",
      "Item ID: F5BsVFC7xaJOKxCpu8yTPw_right\n",
      "Predicted Meter: 19.0\n",
      "Ground Truth: 18.0\n",
      "Error: 1.0\n",
      "==================================================\n",
      "How far is the gas station away from the camera in meters, rounded to the next meter?\n"
     ]
    },
    {
     "name": "stderr",
     "output_type": "stream",
     "text": [
      "Setting `pad_token_id` to `eos_token_id`:None for open-end generation.\n"
     ]
    },
    {
     "name": "stdout",
     "output_type": "stream",
     "text": [
      "HALLO\n",
      "Item ID: WwPPUkMasXt-Z4ABU64n5Q_left\n",
      "Predicted Meter: 29.0\n",
      "Ground Truth: 27.0\n",
      "Error: 2.0\n",
      "==================================================\n",
      "How far is the gas station away from the camera in meters, rounded to the next meter?\n"
     ]
    },
    {
     "name": "stderr",
     "output_type": "stream",
     "text": [
      "Setting `pad_token_id` to `eos_token_id`:None for open-end generation.\n"
     ]
    },
    {
     "name": "stdout",
     "output_type": "stream",
     "text": [
      "HALLO\n",
      "Item ID: Y-tv1UuQOqcdTwdkKu3ynA_back\n",
      "Predicted Meter: 29.0\n",
      "Ground Truth: 27.0\n",
      "Error: 2.0\n",
      "==================================================\n",
      "How far is the gas station away from the camera in meters, rounded to the next meter?\n"
     ]
    },
    {
     "name": "stderr",
     "output_type": "stream",
     "text": [
      "Setting `pad_token_id` to `eos_token_id`:None for open-end generation.\n"
     ]
    },
    {
     "name": "stdout",
     "output_type": "stream",
     "text": [
      "HALLO\n",
      "Item ID: WEoRVaCevfKMUZ-ZrcT7cg_front\n",
      "Predicted Meter: 29.0\n",
      "Ground Truth: 30.0\n",
      "Error: 1.0\n",
      "==================================================\n",
      "How far is the gas station away from the camera in meters, rounded to the next meter?\n"
     ]
    },
    {
     "name": "stderr",
     "output_type": "stream",
     "text": [
      "Setting `pad_token_id` to `eos_token_id`:None for open-end generation.\n"
     ]
    },
    {
     "name": "stdout",
     "output_type": "stream",
     "text": [
      "HALLO\n",
      "Item ID: DvhPeyRQJhMg3UHrlbW2-w_right\n",
      "Predicted Meter: 27.0\n",
      "Ground Truth: 22.0\n",
      "Error: 5.0\n",
      "==================================================\n",
      "How far is the gas station away from the camera in meters, rounded to the next meter?\n"
     ]
    },
    {
     "name": "stderr",
     "output_type": "stream",
     "text": [
      "Setting `pad_token_id` to `eos_token_id`:None for open-end generation.\n"
     ]
    },
    {
     "name": "stdout",
     "output_type": "stream",
     "text": [
      "HALLO\n",
      "Item ID: Q2OBeuPzC1Q72afMqUePsg_front\n",
      "Predicted Meter: 29.0\n",
      "Ground Truth: 26.0\n",
      "Error: 3.0\n",
      "==================================================\n",
      "How far is the gas station away from the camera in meters, rounded to the next meter?\n"
     ]
    },
    {
     "name": "stderr",
     "output_type": "stream",
     "text": [
      "Setting `pad_token_id` to `eos_token_id`:None for open-end generation.\n"
     ]
    },
    {
     "name": "stdout",
     "output_type": "stream",
     "text": [
      "HALLO\n",
      "Item ID: JE2OCpze2DtiqLnRi5HHJg_right\n",
      "Predicted Meter: 14.0\n",
      "Ground Truth: 16.0\n",
      "Error: 2.0\n",
      "==================================================\n",
      "How far is the gas station away from the camera in meters, rounded to the next meter?\n"
     ]
    },
    {
     "name": "stderr",
     "output_type": "stream",
     "text": [
      "Setting `pad_token_id` to `eos_token_id`:None for open-end generation.\n"
     ]
    },
    {
     "name": "stdout",
     "output_type": "stream",
     "text": [
      "HALLO\n",
      "Item ID: vTWkIglCRmG2TnGkIFHM7Q_front\n",
      "Predicted Meter: 29.0\n",
      "Ground Truth: 26.0\n",
      "Error: 3.0\n",
      "==================================================\n",
      "How far is the gas station away from the camera in meters, rounded to the next meter?\n"
     ]
    },
    {
     "name": "stderr",
     "output_type": "stream",
     "text": [
      "Setting `pad_token_id` to `eos_token_id`:None for open-end generation.\n"
     ]
    },
    {
     "name": "stdout",
     "output_type": "stream",
     "text": [
      "HALLO\n",
      "Item ID: jvZukHq03jbMHllXrubKrg_left\n",
      "Predicted Meter: 29.0\n",
      "Ground Truth: 18.0\n",
      "Error: 11.0\n",
      "==================================================\n",
      "How far is the gas station away from the camera in meters, rounded to the next meter?\n"
     ]
    },
    {
     "name": "stderr",
     "output_type": "stream",
     "text": [
      "Setting `pad_token_id` to `eos_token_id`:None for open-end generation.\n"
     ]
    },
    {
     "name": "stdout",
     "output_type": "stream",
     "text": [
      "HALLO\n",
      "Item ID: XW-9W9p2AVcQ77RIlngbtw_right\n",
      "Predicted Meter: 27.0\n",
      "Ground Truth: 27.0\n",
      "Error: 0.0\n",
      "==================================================\n",
      "How far is the gas station away from the camera in meters, rounded to the next meter?\n"
     ]
    },
    {
     "name": "stderr",
     "output_type": "stream",
     "text": [
      "Setting `pad_token_id` to `eos_token_id`:None for open-end generation.\n"
     ]
    },
    {
     "name": "stdout",
     "output_type": "stream",
     "text": [
      "HALLO\n",
      "Item ID: cFIOqI5tHirjVFr43ORP9A_front\n",
      "Predicted Meter: 29.0\n",
      "Ground Truth: 25.0\n",
      "Error: 4.0\n",
      "==================================================\n",
      "How far is the gas station away from the camera in meters, rounded to the next meter?\n"
     ]
    },
    {
     "name": "stderr",
     "output_type": "stream",
     "text": [
      "Setting `pad_token_id` to `eos_token_id`:None for open-end generation.\n"
     ]
    },
    {
     "name": "stdout",
     "output_type": "stream",
     "text": [
      "HALLO\n",
      "Item ID: zlVVWK2209dwiSv-jkQ7mA_front\n",
      "Predicted Meter: 29.0\n",
      "Ground Truth: 18.0\n",
      "Error: 11.0\n",
      "==================================================\n",
      "How far is the gas station away from the camera in meters, rounded to the next meter?\n"
     ]
    },
    {
     "name": "stderr",
     "output_type": "stream",
     "text": [
      "Setting `pad_token_id` to `eos_token_id`:None for open-end generation.\n"
     ]
    },
    {
     "name": "stdout",
     "output_type": "stream",
     "text": [
      "HALLO\n",
      "Item ID: 3bxRhzHjh-cWBHE3fS-JcA_right\n",
      "Predicted Meter: 19.0\n",
      "Ground Truth: 19.0\n",
      "Error: 0.0\n",
      "==================================================\n",
      "How far is the post box away from the camera in meters, rounded to the next meter?\n"
     ]
    },
    {
     "name": "stderr",
     "output_type": "stream",
     "text": [
      "Setting `pad_token_id` to `eos_token_id`:None for open-end generation.\n"
     ]
    },
    {
     "name": "stdout",
     "output_type": "stream",
     "text": [
      "HALLO\n",
      "Item ID: 7XSkktf9ACvkRIyMeQc03Q_front\n",
      "Predicted Meter: 29.0\n",
      "Ground Truth: 8.0\n",
      "Error: 21.0\n",
      "==================================================\n",
      "How far is the large waste dumpster away from the camera in meters, rounded to the next meter?\n"
     ]
    },
    {
     "name": "stderr",
     "output_type": "stream",
     "text": [
      "Setting `pad_token_id` to `eos_token_id`:None for open-end generation.\n"
     ]
    },
    {
     "name": "stdout",
     "output_type": "stream",
     "text": [
      "HALLO\n",
      "Item ID: AT91nZn9t9ftyX4ZUaT7ig_back\n",
      "Predicted Meter: 20.0\n",
      "Ground Truth: 19.0\n",
      "Error: 1.0\n",
      "==================================================\n",
      "How far is the gas station away from the camera in meters, rounded to the next meter?\n"
     ]
    },
    {
     "name": "stderr",
     "output_type": "stream",
     "text": [
      "Setting `pad_token_id` to `eos_token_id`:None for open-end generation.\n"
     ]
    },
    {
     "name": "stdout",
     "output_type": "stream",
     "text": [
      "HALLO\n",
      "Item ID: Rrfkhr-SlT5F6hHpq4CLPQ_right\n",
      "Predicted Meter: 27.0\n",
      "Ground Truth: 29.0\n",
      "Error: 2.0\n",
      "==================================================\n",
      "How far is the gas station away from the camera in meters, rounded to the next meter?\n"
     ]
    },
    {
     "name": "stderr",
     "output_type": "stream",
     "text": [
      "Setting `pad_token_id` to `eos_token_id`:None for open-end generation.\n"
     ]
    },
    {
     "name": "stdout",
     "output_type": "stream",
     "text": [
      "HALLO\n",
      "Item ID: 5Ey4TG-gAsmi1ua7pm6wkg_front\n",
      "Predicted Meter: 29.0\n",
      "Ground Truth: 24.0\n",
      "Error: 5.0\n",
      "==================================================\n",
      "How far is the gas station away from the camera in meters, rounded to the next meter?\n"
     ]
    },
    {
     "name": "stderr",
     "output_type": "stream",
     "text": [
      "Setting `pad_token_id` to `eos_token_id`:None for open-end generation.\n"
     ]
    },
    {
     "name": "stdout",
     "output_type": "stream",
     "text": [
      "HALLO\n",
      "Item ID: Z4Mm-TnKHDlaZxWdKO_1hg_right\n",
      "Predicted Meter: 19.0\n",
      "Ground Truth: 19.0\n",
      "Error: 0.0\n",
      "==================================================\n",
      "How far is the gas station away from the camera in meters, rounded to the next meter?\n"
     ]
    },
    {
     "name": "stderr",
     "output_type": "stream",
     "text": [
      "Setting `pad_token_id` to `eos_token_id`:None for open-end generation.\n"
     ]
    },
    {
     "name": "stdout",
     "output_type": "stream",
     "text": [
      "HALLO\n",
      "Item ID: 5l1iitQtnhauPWpB68_jFQ_left\n",
      "Predicted Meter: 28.0\n",
      "Ground Truth: 27.0\n",
      "Error: 1.0\n",
      "==================================================\n",
      "How far is the gas station away from the camera in meters, rounded to the next meter?\n"
     ]
    },
    {
     "name": "stderr",
     "output_type": "stream",
     "text": [
      "Setting `pad_token_id` to `eos_token_id`:None for open-end generation.\n"
     ]
    },
    {
     "name": "stdout",
     "output_type": "stream",
     "text": [
      "HALLO\n",
      "Item ID: 7FeZIFjcQAL-3ci60J3EFQ_left\n",
      "Predicted Meter: 26.0\n",
      "Ground Truth: 21.0\n",
      "Error: 5.0\n",
      "==================================================\n",
      "How far is the gas station away from the camera in meters, rounded to the next meter?\n"
     ]
    },
    {
     "name": "stderr",
     "output_type": "stream",
     "text": [
      "Setting `pad_token_id` to `eos_token_id`:None for open-end generation.\n"
     ]
    },
    {
     "name": "stdout",
     "output_type": "stream",
     "text": [
      "HALLO\n",
      "Item ID: 8HdhRsrE8MmqEgcq3vttxw_right\n",
      "Predicted Meter: 28.0\n",
      "Ground Truth: 28.0\n",
      "Error: 0.0\n",
      "==================================================\n",
      "How far is the post box away from the camera in meters, rounded to the next meter?\n"
     ]
    },
    {
     "name": "stderr",
     "output_type": "stream",
     "text": [
      "Setting `pad_token_id` to `eos_token_id`:None for open-end generation.\n"
     ]
    },
    {
     "name": "stdout",
     "output_type": "stream",
     "text": [
      "HALLO\n",
      "Item ID: JwmZvLLBilTA-5jI2gTazw_front\n",
      "Predicted Meter: 14.0\n",
      "Ground Truth: 19.0\n",
      "Error: 5.0\n",
      "==================================================\n",
      "How far is the gas station away from the camera in meters, rounded to the next meter?\n"
     ]
    },
    {
     "name": "stderr",
     "output_type": "stream",
     "text": [
      "Setting `pad_token_id` to `eos_token_id`:None for open-end generation.\n"
     ]
    },
    {
     "name": "stdout",
     "output_type": "stream",
     "text": [
      "HALLO\n",
      "Item ID: NqpFTRtqj2fUyQyQYhFSzQ_right\n",
      "Predicted Meter: 29.0\n",
      "Ground Truth: 29.0\n",
      "Error: 0.0\n",
      "==================================================\n",
      "How far is the gas station away from the camera in meters, rounded to the next meter?\n"
     ]
    },
    {
     "name": "stderr",
     "output_type": "stream",
     "text": [
      "Setting `pad_token_id` to `eos_token_id`:None for open-end generation.\n"
     ]
    },
    {
     "name": "stdout",
     "output_type": "stream",
     "text": [
      "HALLO\n",
      "Item ID: Ce0tHCxNMDi6wPRp-s47jw_right\n",
      "Predicted Meter: 28.0\n",
      "Ground Truth: 23.0\n",
      "Error: 5.0\n",
      "==================================================\n",
      "How far is the gas station away from the camera in meters, rounded to the next meter?\n"
     ]
    },
    {
     "name": "stderr",
     "output_type": "stream",
     "text": [
      "Setting `pad_token_id` to `eos_token_id`:None for open-end generation.\n"
     ]
    },
    {
     "name": "stdout",
     "output_type": "stream",
     "text": [
      "HALLO\n",
      "Item ID: nVAA5-GdotO9RbO9NjI-qw_right\n",
      "Predicted Meter: 14.0\n",
      "Ground Truth: 20.0\n",
      "Error: 6.0\n",
      "==================================================\n",
      "How far is the gas station away from the camera in meters, rounded to the next meter?\n"
     ]
    },
    {
     "name": "stderr",
     "output_type": "stream",
     "text": [
      "Setting `pad_token_id` to `eos_token_id`:None for open-end generation.\n"
     ]
    },
    {
     "name": "stdout",
     "output_type": "stream",
     "text": [
      "HALLO\n",
      "Item ID: QrMeDQ9jdGJJ0rV2PVJEiw_back\n",
      "Predicted Meter: 29.0\n",
      "Ground Truth: 20.0\n",
      "Error: 9.0\n",
      "==================================================\n",
      "How far is the gas station away from the camera in meters, rounded to the next meter?\n"
     ]
    },
    {
     "name": "stderr",
     "output_type": "stream",
     "text": [
      "Setting `pad_token_id` to `eos_token_id`:None for open-end generation.\n"
     ]
    },
    {
     "name": "stdout",
     "output_type": "stream",
     "text": [
      "HALLO\n",
      "Item ID: 8pEZHqbN5u8_yG8_dfXbwg_front\n",
      "Predicted Meter: 29.0\n",
      "Ground Truth: 27.0\n",
      "Error: 2.0\n",
      "==================================================\n",
      "How far is the post box away from the camera in meters, rounded to the next meter?\n"
     ]
    },
    {
     "name": "stderr",
     "output_type": "stream",
     "text": [
      "Setting `pad_token_id` to `eos_token_id`:None for open-end generation.\n"
     ]
    },
    {
     "name": "stdout",
     "output_type": "stream",
     "text": [
      "HALLO\n",
      "Item ID: 6-mgzznPhuvGSSjQkq6Jcw_right\n",
      "Predicted Meter: 28.0\n",
      "Ground Truth: 13.0\n",
      "Error: 15.0\n",
      "==================================================\n",
      "How far is the gas station away from the camera in meters, rounded to the next meter?\n"
     ]
    },
    {
     "name": "stderr",
     "output_type": "stream",
     "text": [
      "Setting `pad_token_id` to `eos_token_id`:None for open-end generation.\n"
     ]
    },
    {
     "name": "stdout",
     "output_type": "stream",
     "text": [
      "HALLO\n",
      "Item ID: Pfii6WqCwWdlp5FC-V4-tg_right\n",
      "Predicted Meter: 26.0\n",
      "Ground Truth: 28.0\n",
      "Error: 2.0\n",
      "==================================================\n",
      "How far is the gas station away from the camera in meters, rounded to the next meter?\n"
     ]
    },
    {
     "name": "stderr",
     "output_type": "stream",
     "text": [
      "Setting `pad_token_id` to `eos_token_id`:None for open-end generation.\n"
     ]
    },
    {
     "name": "stdout",
     "output_type": "stream",
     "text": [
      "HALLO\n",
      "Item ID: 8b9HdmvIET8ZzN25BPoAqg_right\n",
      "Predicted Meter: 28.0\n",
      "Ground Truth: 26.0\n",
      "Error: 2.0\n",
      "==================================================\n",
      "How far is the post box away from the camera in meters, rounded to the next meter?\n"
     ]
    },
    {
     "name": "stderr",
     "output_type": "stream",
     "text": [
      "Setting `pad_token_id` to `eos_token_id`:None for open-end generation.\n"
     ]
    },
    {
     "name": "stdout",
     "output_type": "stream",
     "text": [
      "HALLO\n",
      "Item ID: XBZ7vig2eHnbKujbK0YrKw_right\n",
      "Predicted Meter: 14.0\n",
      "Ground Truth: 3.0\n",
      "Error: 11.0\n",
      "==================================================\n",
      "How far is the gas station away from the camera in meters, rounded to the next meter?\n"
     ]
    },
    {
     "name": "stderr",
     "output_type": "stream",
     "text": [
      "Setting `pad_token_id` to `eos_token_id`:None for open-end generation.\n"
     ]
    },
    {
     "name": "stdout",
     "output_type": "stream",
     "text": [
      "HALLO\n",
      "Item ID: 7ek2uD1SadiiO7S_CiCaFQ_right\n",
      "Predicted Meter: 28.0\n",
      "Ground Truth: 25.0\n",
      "Error: 3.0\n",
      "==================================================\n",
      "How far is the gas station away from the camera in meters, rounded to the next meter?\n"
     ]
    },
    {
     "name": "stderr",
     "output_type": "stream",
     "text": [
      "Setting `pad_token_id` to `eos_token_id`:None for open-end generation.\n"
     ]
    },
    {
     "name": "stdout",
     "output_type": "stream",
     "text": [
      "HALLO\n",
      "Item ID: h_pdMobutR1b38Ek1Yf24Q_right\n",
      "Predicted Meter: 19.0\n",
      "Ground Truth: 18.0\n",
      "Error: 1.0\n",
      "==================================================\n",
      "How far is the gas station away from the camera in meters, rounded to the next meter?\n"
     ]
    },
    {
     "name": "stderr",
     "output_type": "stream",
     "text": [
      "Setting `pad_token_id` to `eos_token_id`:None for open-end generation.\n"
     ]
    },
    {
     "name": "stdout",
     "output_type": "stream",
     "text": [
      "HALLO\n",
      "Item ID: zSYaKhsUunxd2HieLw--Bw_back\n",
      "Predicted Meter: 28.0\n",
      "Ground Truth: 23.0\n",
      "Error: 5.0\n",
      "==================================================\n",
      "How far is the gas station away from the camera in meters, rounded to the next meter?\n"
     ]
    },
    {
     "name": "stderr",
     "output_type": "stream",
     "text": [
      "Setting `pad_token_id` to `eos_token_id`:None for open-end generation.\n"
     ]
    },
    {
     "name": "stdout",
     "output_type": "stream",
     "text": [
      "HALLO\n",
      "Item ID: ooonkaHPxwqhujFUqM5pxw_back\n",
      "Predicted Meter: 29.0\n",
      "Ground Truth: 27.0\n",
      "Error: 2.0\n",
      "==================================================\n",
      "How far is the gas station away from the camera in meters, rounded to the next meter?\n"
     ]
    },
    {
     "name": "stderr",
     "output_type": "stream",
     "text": [
      "Setting `pad_token_id` to `eos_token_id`:None for open-end generation.\n"
     ]
    },
    {
     "name": "stdout",
     "output_type": "stream",
     "text": [
      "HALLO\n",
      "Item ID: jxLJB3l_o_cvFGl6JM__wQ_right\n",
      "Predicted Meter: 19.0\n",
      "Ground Truth: 18.0\n",
      "Error: 1.0\n",
      "==================================================\n",
      "How far is the gas station away from the camera in meters, rounded to the next meter?\n"
     ]
    },
    {
     "name": "stderr",
     "output_type": "stream",
     "text": [
      "Setting `pad_token_id` to `eos_token_id`:None for open-end generation.\n"
     ]
    },
    {
     "name": "stdout",
     "output_type": "stream",
     "text": [
      "HALLO\n",
      "Item ID: euF84E5dXEqouOs2QXcQvw_right\n",
      "Predicted Meter: 29.0\n",
      "Ground Truth: 25.0\n",
      "Error: 4.0\n",
      "==================================================\n",
      "How far is the gas station away from the camera in meters, rounded to the next meter?\n"
     ]
    },
    {
     "name": "stderr",
     "output_type": "stream",
     "text": [
      "Setting `pad_token_id` to `eos_token_id`:None for open-end generation.\n"
     ]
    },
    {
     "name": "stdout",
     "output_type": "stream",
     "text": [
      "HALLO\n",
      "Item ID: sBvClBUQk7xVDK-zZ7cJsg_left\n",
      "Predicted Meter: 19.0\n",
      "Ground Truth: 24.0\n",
      "Error: 5.0\n",
      "==================================================\n",
      "How far is the gas station away from the camera in meters, rounded to the next meter?\n"
     ]
    },
    {
     "name": "stderr",
     "output_type": "stream",
     "text": [
      "Setting `pad_token_id` to `eos_token_id`:None for open-end generation.\n"
     ]
    },
    {
     "name": "stdout",
     "output_type": "stream",
     "text": [
      "HALLO\n",
      "Item ID: 6nJTO2TykG9p_u6nqNIDfw_left\n",
      "Predicted Meter: 21.0\n",
      "Ground Truth: 30.0\n",
      "Error: 9.0\n",
      "==================================================\n",
      "How far is the gas station away from the camera in meters, rounded to the next meter?\n"
     ]
    },
    {
     "name": "stderr",
     "output_type": "stream",
     "text": [
      "Setting `pad_token_id` to `eos_token_id`:None for open-end generation.\n"
     ]
    },
    {
     "name": "stdout",
     "output_type": "stream",
     "text": [
      "HALLO\n",
      "Item ID: vIIbBr4Zyvw5iE2qnXkDFw_right\n",
      "Predicted Meter: 28.0\n",
      "Ground Truth: 24.0\n",
      "Error: 4.0\n",
      "==================================================\n",
      "How far is the post box away from the camera in meters, rounded to the next meter?\n"
     ]
    },
    {
     "name": "stderr",
     "output_type": "stream",
     "text": [
      "Setting `pad_token_id` to `eos_token_id`:None for open-end generation.\n"
     ]
    },
    {
     "name": "stdout",
     "output_type": "stream",
     "text": [
      "HALLO\n",
      "Item ID: QjGIJdW81n-QPSYKVx9yeg_left\n",
      "Predicted Meter: 27.0\n",
      "Ground Truth: 28.0\n",
      "Error: 1.0\n",
      "==================================================\n",
      "How far is the gas station away from the camera in meters, rounded to the next meter?\n"
     ]
    },
    {
     "name": "stderr",
     "output_type": "stream",
     "text": [
      "Setting `pad_token_id` to `eos_token_id`:None for open-end generation.\n"
     ]
    },
    {
     "name": "stdout",
     "output_type": "stream",
     "text": [
      "HALLO\n",
      "Item ID: Tn4uYOv0Lgp7BJQXxWgu0A_right\n",
      "Predicted Meter: 19.0\n",
      "Ground Truth: 30.0\n",
      "Error: 11.0\n",
      "==================================================\n",
      "How far is the atm away from the camera in meters, rounded to the next meter?\n"
     ]
    },
    {
     "name": "stderr",
     "output_type": "stream",
     "text": [
      "Setting `pad_token_id` to `eos_token_id`:None for open-end generation.\n"
     ]
    },
    {
     "name": "stdout",
     "output_type": "stream",
     "text": [
      "HALLO\n",
      "Item ID: eK6GR-zlSKodjUThcJH4UA_left\n",
      "Predicted Meter: 28.0\n",
      "Ground Truth: 18.0\n",
      "Error: 10.0\n",
      "==================================================\n",
      "How far is the gas station away from the camera in meters, rounded to the next meter?\n"
     ]
    },
    {
     "name": "stderr",
     "output_type": "stream",
     "text": [
      "Setting `pad_token_id` to `eos_token_id`:None for open-end generation.\n"
     ]
    },
    {
     "name": "stdout",
     "output_type": "stream",
     "text": [
      "HALLO\n",
      "Item ID: MCsrah6QrlrSsMR4q-bdrg_right\n",
      "Predicted Meter: 26.0\n",
      "Ground Truth: 29.0\n",
      "Error: 3.0\n",
      "==================================================\n",
      "How far is the gas station away from the camera in meters, rounded to the next meter?\n"
     ]
    },
    {
     "name": "stderr",
     "output_type": "stream",
     "text": [
      "Setting `pad_token_id` to `eos_token_id`:None for open-end generation.\n"
     ]
    },
    {
     "name": "stdout",
     "output_type": "stream",
     "text": [
      "HALLO\n",
      "Item ID: gyO5-qLWE4VT16crnReokw_front\n",
      "Predicted Meter: 29.0\n",
      "Ground Truth: 30.0\n",
      "Error: 1.0\n",
      "==================================================\n",
      "How far is the gas station away from the camera in meters, rounded to the next meter?\n"
     ]
    },
    {
     "name": "stderr",
     "output_type": "stream",
     "text": [
      "Setting `pad_token_id` to `eos_token_id`:None for open-end generation.\n"
     ]
    },
    {
     "name": "stdout",
     "output_type": "stream",
     "text": [
      "HALLO\n",
      "Item ID: gcev0hxtltoqCuqDffc1Ig_left\n",
      "Predicted Meter: 19.0\n",
      "Ground Truth: 22.0\n",
      "Error: 3.0\n",
      "==================================================\n",
      "How far is the vending machine away from the camera in meters, rounded to the next meter?\n"
     ]
    },
    {
     "name": "stderr",
     "output_type": "stream",
     "text": [
      "Setting `pad_token_id` to `eos_token_id`:None for open-end generation.\n"
     ]
    },
    {
     "name": "stdout",
     "output_type": "stream",
     "text": [
      "HALLO\n",
      "Item ID: QarynNyW6wNqfaYJwWl8mw_left\n",
      "Predicted Meter: 14.0\n",
      "Ground Truth: 24.0\n",
      "Error: 10.0\n",
      "==================================================\n",
      "How far is the gas station away from the camera in meters, rounded to the next meter?\n"
     ]
    },
    {
     "name": "stderr",
     "output_type": "stream",
     "text": [
      "Setting `pad_token_id` to `eos_token_id`:None for open-end generation.\n"
     ]
    },
    {
     "name": "stdout",
     "output_type": "stream",
     "text": [
      "HALLO\n",
      "Item ID: vqLP0uk2AgSU1smrbC9Kvg_right\n",
      "Predicted Meter: 19.0\n",
      "Ground Truth: 12.0\n",
      "Error: 7.0\n",
      "==================================================\n",
      "How far is the vending machine away from the camera in meters, rounded to the next meter?\n"
     ]
    },
    {
     "name": "stderr",
     "output_type": "stream",
     "text": [
      "Setting `pad_token_id` to `eos_token_id`:None for open-end generation.\n"
     ]
    },
    {
     "name": "stdout",
     "output_type": "stream",
     "text": [
      "HALLO\n",
      "Item ID: KcU4SrBPYpdOKOg1GG6tLQ_left\n",
      "Predicted Meter: 14.0\n",
      "Ground Truth: 7.0\n",
      "Error: 7.0\n",
      "==================================================\n",
      "How far is the gas station away from the camera in meters, rounded to the next meter?\n"
     ]
    },
    {
     "name": "stderr",
     "output_type": "stream",
     "text": [
      "Setting `pad_token_id` to `eos_token_id`:None for open-end generation.\n"
     ]
    },
    {
     "name": "stdout",
     "output_type": "stream",
     "text": [
      "HALLO\n",
      "Item ID: fq9dHETPobs-9ThuB39XIA_left\n",
      "Predicted Meter: 29.0\n",
      "Ground Truth: 28.0\n",
      "Error: 1.0\n",
      "==================================================\n",
      "How far is the gas station away from the camera in meters, rounded to the next meter?\n"
     ]
    },
    {
     "name": "stderr",
     "output_type": "stream",
     "text": [
      "Setting `pad_token_id` to `eos_token_id`:None for open-end generation.\n"
     ]
    },
    {
     "name": "stdout",
     "output_type": "stream",
     "text": [
      "HALLO\n",
      "Item ID: De-ve_jLpQ2Qtp8TdV1B7w_back\n",
      "Predicted Meter: 29.0\n",
      "Ground Truth: 26.0\n",
      "Error: 3.0\n",
      "==================================================\n",
      "How far is the gas station away from the camera in meters, rounded to the next meter?\n"
     ]
    },
    {
     "name": "stderr",
     "output_type": "stream",
     "text": [
      "Setting `pad_token_id` to `eos_token_id`:None for open-end generation.\n"
     ]
    },
    {
     "name": "stdout",
     "output_type": "stream",
     "text": [
      "HALLO\n",
      "Item ID: 0zUQyjBxNCgr2m5DcaFD7g_left\n",
      "Predicted Meter: 29.0\n",
      "Ground Truth: 22.0\n",
      "Error: 7.0\n",
      "==================================================\n",
      "How far is the gas station away from the camera in meters, rounded to the next meter?\n"
     ]
    },
    {
     "name": "stderr",
     "output_type": "stream",
     "text": [
      "Setting `pad_token_id` to `eos_token_id`:None for open-end generation.\n"
     ]
    },
    {
     "name": "stdout",
     "output_type": "stream",
     "text": [
      "HALLO\n",
      "Item ID: 9aAQN3uUShfw9hrpyhlJPQ_right\n",
      "Predicted Meter: 26.0\n",
      "Ground Truth: 19.0\n",
      "Error: 7.0\n",
      "==================================================\n",
      "How far is the gas station away from the camera in meters, rounded to the next meter?\n"
     ]
    },
    {
     "name": "stderr",
     "output_type": "stream",
     "text": [
      "Setting `pad_token_id` to `eos_token_id`:None for open-end generation.\n"
     ]
    },
    {
     "name": "stdout",
     "output_type": "stream",
     "text": [
      "HALLO\n",
      "Item ID: 23K2mFVzbr6lgTCY23RSyA_left\n",
      "Predicted Meter: 21.0\n",
      "Ground Truth: 26.0\n",
      "Error: 5.0\n",
      "==================================================\n",
      "How far is the post box away from the camera in meters, rounded to the next meter?\n"
     ]
    },
    {
     "name": "stderr",
     "output_type": "stream",
     "text": [
      "Setting `pad_token_id` to `eos_token_id`:None for open-end generation.\n"
     ]
    },
    {
     "name": "stdout",
     "output_type": "stream",
     "text": [
      "HALLO\n",
      "Item ID: ZtEPmOuKRrXgxN530WjKcQ_left\n",
      "Predicted Meter: 11.0\n",
      "Ground Truth: 25.0\n",
      "Error: 14.0\n",
      "==================================================\n",
      "How far is the gas station away from the camera in meters, rounded to the next meter?\n"
     ]
    },
    {
     "name": "stderr",
     "output_type": "stream",
     "text": [
      "Setting `pad_token_id` to `eos_token_id`:None for open-end generation.\n"
     ]
    },
    {
     "name": "stdout",
     "output_type": "stream",
     "text": [
      "HALLO\n",
      "Item ID: MCT0I-phnpTIdJSHxPtY-g_right\n",
      "Predicted Meter: 26.0\n",
      "Ground Truth: 27.0\n",
      "Error: 1.0\n",
      "==================================================\n",
      "How far is the gas station away from the camera in meters, rounded to the next meter?\n"
     ]
    },
    {
     "name": "stderr",
     "output_type": "stream",
     "text": [
      "Setting `pad_token_id` to `eos_token_id`:None for open-end generation.\n"
     ]
    },
    {
     "name": "stdout",
     "output_type": "stream",
     "text": [
      "HALLO\n",
      "Item ID: mgrFIGd_29iyc-W2Ss-5jw_right\n",
      "Predicted Meter: 29.0\n",
      "Ground Truth: 28.0\n",
      "Error: 1.0\n",
      "==================================================\n",
      "How far is the gas station away from the camera in meters, rounded to the next meter?\n"
     ]
    },
    {
     "name": "stderr",
     "output_type": "stream",
     "text": [
      "Setting `pad_token_id` to `eos_token_id`:None for open-end generation.\n"
     ]
    },
    {
     "name": "stdout",
     "output_type": "stream",
     "text": [
      "HALLO\n",
      "Item ID: mlYvnxD8afYF5Nk-OF586Q_back\n",
      "Predicted Meter: 29.0\n",
      "Ground Truth: 27.0\n",
      "Error: 2.0\n",
      "==================================================\n",
      "How far is the gas station away from the camera in meters, rounded to the next meter?\n"
     ]
    },
    {
     "name": "stderr",
     "output_type": "stream",
     "text": [
      "Setting `pad_token_id` to `eos_token_id`:None for open-end generation.\n"
     ]
    },
    {
     "name": "stdout",
     "output_type": "stream",
     "text": [
      "HALLO\n",
      "Item ID: TiowKAVmIDB9vomUrCEavA_back\n",
      "Predicted Meter: 29.0\n",
      "Ground Truth: 27.0\n",
      "Error: 2.0\n",
      "==================================================\n",
      "How far is the gas station away from the camera in meters, rounded to the next meter?\n"
     ]
    },
    {
     "name": "stderr",
     "output_type": "stream",
     "text": [
      "Setting `pad_token_id` to `eos_token_id`:None for open-end generation.\n"
     ]
    },
    {
     "name": "stdout",
     "output_type": "stream",
     "text": [
      "HALLO\n",
      "Item ID: 5SVYauUAV9ZXo2j86RG9Nw_right\n",
      "Predicted Meter: 19.0\n",
      "Ground Truth: 19.0\n",
      "Error: 0.0\n",
      "==================================================\n",
      "How far is the gas station away from the camera in meters, rounded to the next meter?\n"
     ]
    },
    {
     "name": "stderr",
     "output_type": "stream",
     "text": [
      "Setting `pad_token_id` to `eos_token_id`:None for open-end generation.\n"
     ]
    },
    {
     "name": "stdout",
     "output_type": "stream",
     "text": [
      "HALLO\n",
      "Item ID: Hb7GT5BfydzVAky33nEYWw_right\n",
      "Predicted Meter: 19.0\n",
      "Ground Truth: 28.0\n",
      "Error: 9.0\n",
      "==================================================\n",
      "How far is the gas station away from the camera in meters, rounded to the next meter?\n"
     ]
    },
    {
     "name": "stderr",
     "output_type": "stream",
     "text": [
      "Setting `pad_token_id` to `eos_token_id`:None for open-end generation.\n"
     ]
    },
    {
     "name": "stdout",
     "output_type": "stream",
     "text": [
      "HALLO\n",
      "Item ID: n_-sAWzo-dL9XYZ3UzaYqA_front\n",
      "Predicted Meter: 28.0\n",
      "Ground Truth: 26.0\n",
      "Error: 2.0\n",
      "==================================================\n",
      "How far is the gas station away from the camera in meters, rounded to the next meter?\n"
     ]
    },
    {
     "name": "stderr",
     "output_type": "stream",
     "text": [
      "Setting `pad_token_id` to `eos_token_id`:None for open-end generation.\n"
     ]
    },
    {
     "name": "stdout",
     "output_type": "stream",
     "text": [
      "HALLO\n",
      "Item ID: 8IFkUwxQ62DDv-tOHhqTQg_right\n",
      "Predicted Meter: 29.0\n",
      "Ground Truth: 23.0\n",
      "Error: 6.0\n",
      "==================================================\n",
      "How far is the gas station away from the camera in meters, rounded to the next meter?\n"
     ]
    },
    {
     "name": "stderr",
     "output_type": "stream",
     "text": [
      "Setting `pad_token_id` to `eos_token_id`:None for open-end generation.\n"
     ]
    },
    {
     "name": "stdout",
     "output_type": "stream",
     "text": [
      "HALLO\n",
      "Item ID: t-ObecRVp4gxHXU-c2LqWA_right\n",
      "Predicted Meter: 29.0\n",
      "Ground Truth: 19.0\n",
      "Error: 10.0\n",
      "==================================================\n",
      "How far is the gas station away from the camera in meters, rounded to the next meter?\n"
     ]
    },
    {
     "name": "stderr",
     "output_type": "stream",
     "text": [
      "Setting `pad_token_id` to `eos_token_id`:None for open-end generation.\n"
     ]
    },
    {
     "name": "stdout",
     "output_type": "stream",
     "text": [
      "HALLO\n",
      "Item ID: yX3nYikBoHLy4CRAPIzBug_left\n",
      "Predicted Meter: 29.0\n",
      "Ground Truth: 25.0\n",
      "Error: 4.0\n",
      "==================================================\n",
      "How far is the gas station away from the camera in meters, rounded to the next meter?\n"
     ]
    },
    {
     "name": "stderr",
     "output_type": "stream",
     "text": [
      "Setting `pad_token_id` to `eos_token_id`:None for open-end generation.\n"
     ]
    },
    {
     "name": "stdout",
     "output_type": "stream",
     "text": [
      "HALLO\n",
      "Item ID: 34rhcF7_5z_xCF7rHKL4Ug_left\n",
      "Predicted Meter: 26.0\n",
      "Ground Truth: 25.0\n",
      "Error: 1.0\n",
      "==================================================\n",
      "How far is the gas station away from the camera in meters, rounded to the next meter?\n"
     ]
    },
    {
     "name": "stderr",
     "output_type": "stream",
     "text": [
      "Setting `pad_token_id` to `eos_token_id`:None for open-end generation.\n"
     ]
    },
    {
     "name": "stdout",
     "output_type": "stream",
     "text": [
      "HALLO\n",
      "Item ID: nwRZPegKQEcE9K_vk69Z9Q_left\n",
      "Predicted Meter: 29.0\n",
      "Ground Truth: 29.0\n",
      "Error: 0.0\n",
      "==================================================\n",
      "How far is the gas station away from the camera in meters, rounded to the next meter?\n"
     ]
    },
    {
     "name": "stderr",
     "output_type": "stream",
     "text": [
      "Setting `pad_token_id` to `eos_token_id`:None for open-end generation.\n"
     ]
    },
    {
     "name": "stdout",
     "output_type": "stream",
     "text": [
      "HALLO\n",
      "Item ID: ysT0A7MmG8MHyY5MFjgfzg_left\n",
      "Predicted Meter: 27.0\n",
      "Ground Truth: 30.0\n",
      "Error: 3.0\n",
      "==================================================\n",
      "How far is the gas station away from the camera in meters, rounded to the next meter?\n"
     ]
    },
    {
     "name": "stderr",
     "output_type": "stream",
     "text": [
      "Setting `pad_token_id` to `eos_token_id`:None for open-end generation.\n"
     ]
    },
    {
     "name": "stdout",
     "output_type": "stream",
     "text": [
      "HALLO\n",
      "Item ID: hUKSWoNyPXipTtKRMMVNpw_left\n",
      "Predicted Meter: 28.0\n",
      "Ground Truth: 22.0\n",
      "Error: 6.0\n",
      "==================================================\n",
      "How far is the post box away from the camera in meters, rounded to the next meter?\n"
     ]
    },
    {
     "name": "stderr",
     "output_type": "stream",
     "text": [
      "Setting `pad_token_id` to `eos_token_id`:None for open-end generation.\n"
     ]
    },
    {
     "name": "stdout",
     "output_type": "stream",
     "text": [
      "HALLO\n",
      "Item ID: P11gxo_aHViVXuN2TI1OHg_back\n",
      "Predicted Meter: 28.0\n",
      "Ground Truth: 20.0\n",
      "Error: 8.0\n",
      "==================================================\n",
      "How far is the gas station away from the camera in meters, rounded to the next meter?\n"
     ]
    },
    {
     "name": "stderr",
     "output_type": "stream",
     "text": [
      "Setting `pad_token_id` to `eos_token_id`:None for open-end generation.\n"
     ]
    },
    {
     "name": "stdout",
     "output_type": "stream",
     "text": [
      "HALLO\n",
      "Item ID: yk32zNW_DJiLkXyl-tAW1Q_front\n",
      "Predicted Meter: 29.0\n",
      "Ground Truth: 30.0\n",
      "Error: 1.0\n",
      "==================================================\n",
      "How far is the gas station away from the camera in meters, rounded to the next meter?\n"
     ]
    },
    {
     "name": "stderr",
     "output_type": "stream",
     "text": [
      "Setting `pad_token_id` to `eos_token_id`:None for open-end generation.\n"
     ]
    },
    {
     "name": "stdout",
     "output_type": "stream",
     "text": [
      "HALLO\n",
      "Item ID: rn5P8mSyhi_XnmRqx6nBKQ_left\n",
      "Predicted Meter: 27.0\n",
      "Ground Truth: 23.0\n",
      "Error: 4.0\n",
      "==================================================\n",
      "How far is the gas station away from the camera in meters, rounded to the next meter?\n"
     ]
    },
    {
     "name": "stderr",
     "output_type": "stream",
     "text": [
      "Setting `pad_token_id` to `eos_token_id`:None for open-end generation.\n"
     ]
    },
    {
     "name": "stdout",
     "output_type": "stream",
     "text": [
      "HALLO\n",
      "Item ID: f6f84yNmkf8dSKmA1WLL7g_right\n",
      "Predicted Meter: 21.0\n",
      "Ground Truth: 21.0\n",
      "Error: 0.0\n",
      "==================================================\n",
      "How far is the gas station away from the camera in meters, rounded to the next meter?\n"
     ]
    },
    {
     "name": "stderr",
     "output_type": "stream",
     "text": [
      "Setting `pad_token_id` to `eos_token_id`:None for open-end generation.\n"
     ]
    },
    {
     "name": "stdout",
     "output_type": "stream",
     "text": [
      "HALLO\n",
      "Item ID: 6rMd7Pu3dPDxfKH2hLr2cg_back\n",
      "Predicted Meter: 29.0\n",
      "Ground Truth: 13.0\n",
      "Error: 16.0\n",
      "==================================================\n",
      "How far is the vending machine away from the camera in meters, rounded to the next meter?\n"
     ]
    },
    {
     "name": "stderr",
     "output_type": "stream",
     "text": [
      "Setting `pad_token_id` to `eos_token_id`:None for open-end generation.\n"
     ]
    },
    {
     "name": "stdout",
     "output_type": "stream",
     "text": [
      "HALLO\n",
      "Item ID: gfnR0b6W1zb84NAfdD8sLQ_right\n",
      "Predicted Meter: 18.0\n",
      "Ground Truth: 21.0\n",
      "Error: 3.0\n",
      "==================================================\n",
      "How far is the gas station away from the camera in meters, rounded to the next meter?\n"
     ]
    },
    {
     "name": "stderr",
     "output_type": "stream",
     "text": [
      "Setting `pad_token_id` to `eos_token_id`:None for open-end generation.\n"
     ]
    },
    {
     "name": "stdout",
     "output_type": "stream",
     "text": [
      "HALLO\n",
      "Item ID: IC6kW3S7XTym0qyTt0JbHQ_left\n",
      "Predicted Meter: 29.0\n",
      "Ground Truth: 30.0\n",
      "Error: 1.0\n",
      "==================================================\n",
      "How far is the gas station away from the camera in meters, rounded to the next meter?\n"
     ]
    },
    {
     "name": "stderr",
     "output_type": "stream",
     "text": [
      "Setting `pad_token_id` to `eos_token_id`:None for open-end generation.\n"
     ]
    },
    {
     "name": "stdout",
     "output_type": "stream",
     "text": [
      "HALLO\n",
      "Item ID: dONIwocp2GAJUXZYYG83Kw_right\n",
      "Predicted Meter: 19.0\n",
      "Ground Truth: 26.0\n",
      "Error: 7.0\n",
      "==================================================\n",
      "How far is the gas station away from the camera in meters, rounded to the next meter?\n"
     ]
    },
    {
     "name": "stderr",
     "output_type": "stream",
     "text": [
      "Setting `pad_token_id` to `eos_token_id`:None for open-end generation.\n"
     ]
    },
    {
     "name": "stdout",
     "output_type": "stream",
     "text": [
      "HALLO\n",
      "Item ID: jzPv_XRZOHrODSl7I9CQ3g_right\n",
      "Predicted Meter: 19.0\n",
      "Ground Truth: 26.0\n",
      "Error: 7.0\n",
      "==================================================\n",
      "How far is the gas station away from the camera in meters, rounded to the next meter?\n"
     ]
    },
    {
     "name": "stderr",
     "output_type": "stream",
     "text": [
      "Setting `pad_token_id` to `eos_token_id`:None for open-end generation.\n"
     ]
    },
    {
     "name": "stdout",
     "output_type": "stream",
     "text": [
      "HALLO\n",
      "Item ID: 3DIZja3YjsiL-kIvWohenw_right\n",
      "Predicted Meter: 19.0\n",
      "Ground Truth: 26.0\n",
      "Error: 7.0\n",
      "==================================================\n",
      "How far is the gas station away from the camera in meters, rounded to the next meter?\n"
     ]
    },
    {
     "name": "stderr",
     "output_type": "stream",
     "text": [
      "Setting `pad_token_id` to `eos_token_id`:None for open-end generation.\n"
     ]
    },
    {
     "name": "stdout",
     "output_type": "stream",
     "text": [
      "HALLO\n",
      "Item ID: fPyAVSl8mmbPEKbvzZXbtQ_right\n",
      "Predicted Meter: 19.0\n",
      "Ground Truth: 18.0\n",
      "Error: 1.0\n",
      "==================================================\n",
      "How far is the gas station away from the camera in meters, rounded to the next meter?\n"
     ]
    },
    {
     "name": "stderr",
     "output_type": "stream",
     "text": [
      "Setting `pad_token_id` to `eos_token_id`:None for open-end generation.\n"
     ]
    },
    {
     "name": "stdout",
     "output_type": "stream",
     "text": [
      "HALLO\n",
      "Item ID: mjFLZisPjatDeki9c5acEg_back\n",
      "Predicted Meter: 29.0\n",
      "Ground Truth: 20.0\n",
      "Error: 9.0\n",
      "==================================================\n",
      "How far is the gas station away from the camera in meters, rounded to the next meter?\n"
     ]
    },
    {
     "name": "stderr",
     "output_type": "stream",
     "text": [
      "Setting `pad_token_id` to `eos_token_id`:None for open-end generation.\n"
     ]
    },
    {
     "name": "stdout",
     "output_type": "stream",
     "text": [
      "HALLO\n",
      "Item ID: SA7K9gTIMdwmXDTsDcBM6Q_right\n",
      "Predicted Meter: 28.0\n",
      "Ground Truth: 19.0\n",
      "Error: 9.0\n",
      "==================================================\n",
      "How far is the gas station away from the camera in meters, rounded to the next meter?\n"
     ]
    },
    {
     "name": "stderr",
     "output_type": "stream",
     "text": [
      "Setting `pad_token_id` to `eos_token_id`:None for open-end generation.\n"
     ]
    },
    {
     "name": "stdout",
     "output_type": "stream",
     "text": [
      "HALLO\n",
      "Item ID: ELejaWw7AULkc0v0Of43yQ_left\n",
      "Predicted Meter: 29.0\n",
      "Ground Truth: 22.0\n",
      "Error: 7.0\n",
      "==================================================\n",
      "How far is the gas station away from the camera in meters, rounded to the next meter?\n"
     ]
    },
    {
     "name": "stderr",
     "output_type": "stream",
     "text": [
      "Setting `pad_token_id` to `eos_token_id`:None for open-end generation.\n"
     ]
    },
    {
     "name": "stdout",
     "output_type": "stream",
     "text": [
      "HALLO\n",
      "Item ID: bIHH-_IXF2ik1ynh9n06zQ_right\n",
      "Predicted Meter: 19.0\n",
      "Ground Truth: 22.0\n",
      "Error: 3.0\n",
      "==================================================\n",
      "How far is the gas station away from the camera in meters, rounded to the next meter?\n"
     ]
    },
    {
     "name": "stderr",
     "output_type": "stream",
     "text": [
      "Setting `pad_token_id` to `eos_token_id`:None for open-end generation.\n"
     ]
    },
    {
     "name": "stdout",
     "output_type": "stream",
     "text": [
      "HALLO\n",
      "Item ID: mzltktb5OGPPKPAWlC_fCA_back\n",
      "Predicted Meter: 29.0\n",
      "Ground Truth: 23.0\n",
      "Error: 6.0\n",
      "==================================================\n",
      "How far is the gas station away from the camera in meters, rounded to the next meter?\n"
     ]
    },
    {
     "name": "stderr",
     "output_type": "stream",
     "text": [
      "Setting `pad_token_id` to `eos_token_id`:None for open-end generation.\n"
     ]
    },
    {
     "name": "stdout",
     "output_type": "stream",
     "text": [
      "HALLO\n",
      "Item ID: BBpzL8ql3kRAEMJpc1_HGw_right\n",
      "Predicted Meter: 28.0\n",
      "Ground Truth: 24.0\n",
      "Error: 4.0\n",
      "==================================================\n",
      "How far is the gas station away from the camera in meters, rounded to the next meter?\n"
     ]
    },
    {
     "name": "stderr",
     "output_type": "stream",
     "text": [
      "Setting `pad_token_id` to `eos_token_id`:None for open-end generation.\n"
     ]
    },
    {
     "name": "stdout",
     "output_type": "stream",
     "text": [
      "HALLO\n",
      "Item ID: A9S-KxBLUmMgIGQZMvhxBw_front\n",
      "Predicted Meter: 29.0\n",
      "Ground Truth: 28.0\n",
      "Error: 1.0\n",
      "==================================================\n",
      "How far is the gas station away from the camera in meters, rounded to the next meter?\n"
     ]
    },
    {
     "name": "stderr",
     "output_type": "stream",
     "text": [
      "Setting `pad_token_id` to `eos_token_id`:None for open-end generation.\n"
     ]
    },
    {
     "name": "stdout",
     "output_type": "stream",
     "text": [
      "HALLO\n",
      "Item ID: gmliVFMV0b8_cmZ-QyDEAQ_front\n",
      "Predicted Meter: 29.0\n",
      "Ground Truth: 19.0\n",
      "Error: 10.0\n",
      "==================================================\n",
      "How far is the gas station away from the camera in meters, rounded to the next meter?\n"
     ]
    },
    {
     "name": "stderr",
     "output_type": "stream",
     "text": [
      "Setting `pad_token_id` to `eos_token_id`:None for open-end generation.\n"
     ]
    },
    {
     "name": "stdout",
     "output_type": "stream",
     "text": [
      "HALLO\n",
      "Item ID: 7gGp2SI0dsnSkN-JuQiesw_back\n",
      "Predicted Meter: 29.0\n",
      "Ground Truth: 25.0\n",
      "Error: 4.0\n",
      "==================================================\n",
      "How far is the gas station away from the camera in meters, rounded to the next meter?\n"
     ]
    },
    {
     "name": "stderr",
     "output_type": "stream",
     "text": [
      "Setting `pad_token_id` to `eos_token_id`:None for open-end generation.\n"
     ]
    },
    {
     "name": "stdout",
     "output_type": "stream",
     "text": [
      "HALLO\n",
      "Item ID: 4UYo98GXL__fsXn5Hx4CPQ_back\n",
      "Predicted Meter: 29.0\n",
      "Ground Truth: 26.0\n",
      "Error: 3.0\n",
      "==================================================\n",
      "How far is the post box away from the camera in meters, rounded to the next meter?\n"
     ]
    },
    {
     "name": "stderr",
     "output_type": "stream",
     "text": [
      "Setting `pad_token_id` to `eos_token_id`:None for open-end generation.\n"
     ]
    },
    {
     "name": "stdout",
     "output_type": "stream",
     "text": [
      "HALLO\n",
      "Item ID: QArcg6Bp7lO81QVYjAfhPg_front\n",
      "Predicted Meter: 28.0\n",
      "Ground Truth: 16.0\n",
      "Error: 12.0\n",
      "==================================================\n",
      "How far is the gas station away from the camera in meters, rounded to the next meter?\n"
     ]
    },
    {
     "name": "stderr",
     "output_type": "stream",
     "text": [
      "Setting `pad_token_id` to `eos_token_id`:None for open-end generation.\n"
     ]
    },
    {
     "name": "stdout",
     "output_type": "stream",
     "text": [
      "HALLO\n",
      "Item ID: O45aphvvSoBaD8agtIVz7w_right\n",
      "Predicted Meter: 28.0\n",
      "Ground Truth: 21.0\n",
      "Error: 7.0\n",
      "==================================================\n",
      "How far is the gas station away from the camera in meters, rounded to the next meter?\n"
     ]
    },
    {
     "name": "stderr",
     "output_type": "stream",
     "text": [
      "Setting `pad_token_id` to `eos_token_id`:None for open-end generation.\n"
     ]
    },
    {
     "name": "stdout",
     "output_type": "stream",
     "text": [
      "HALLO\n",
      "Item ID: _nYEhvKAIDtrvoRFpCSuBQ_front\n",
      "Predicted Meter: 28.0\n",
      "Ground Truth: 29.0\n",
      "Error: 1.0\n",
      "==================================================\n",
      "How far is the gas station away from the camera in meters, rounded to the next meter?\n"
     ]
    },
    {
     "name": "stderr",
     "output_type": "stream",
     "text": [
      "Setting `pad_token_id` to `eos_token_id`:None for open-end generation.\n"
     ]
    },
    {
     "name": "stdout",
     "output_type": "stream",
     "text": [
      "HALLO\n",
      "Item ID: gLMnHJfMVfS176MkMVYWxA_left\n",
      "Predicted Meter: 26.0\n",
      "Ground Truth: 24.0\n",
      "Error: 2.0\n",
      "==================================================\n",
      "How far is the gas station away from the camera in meters, rounded to the next meter?\n"
     ]
    },
    {
     "name": "stderr",
     "output_type": "stream",
     "text": [
      "Setting `pad_token_id` to `eos_token_id`:None for open-end generation.\n"
     ]
    },
    {
     "name": "stdout",
     "output_type": "stream",
     "text": [
      "HALLO\n",
      "Item ID: uixXcPpyT06jWktX7LvdUg_right\n",
      "Predicted Meter: 28.0\n",
      "Ground Truth: 22.0\n",
      "Error: 6.0\n",
      "==================================================\n",
      "How far is the gas station away from the camera in meters, rounded to the next meter?\n"
     ]
    },
    {
     "name": "stderr",
     "output_type": "stream",
     "text": [
      "Setting `pad_token_id` to `eos_token_id`:None for open-end generation.\n"
     ]
    },
    {
     "name": "stdout",
     "output_type": "stream",
     "text": [
      "HALLO\n",
      "Item ID: 2qEcuuJ-XtAJsGDEnh0VYg_right\n",
      "Predicted Meter: 28.0\n",
      "Ground Truth: 23.0\n",
      "Error: 5.0\n",
      "==================================================\n",
      "How far is the gas station away from the camera in meters, rounded to the next meter?\n"
     ]
    },
    {
     "name": "stderr",
     "output_type": "stream",
     "text": [
      "Setting `pad_token_id` to `eos_token_id`:None for open-end generation.\n"
     ]
    },
    {
     "name": "stdout",
     "output_type": "stream",
     "text": [
      "HALLO\n",
      "Item ID: kzpGP0MnxjLXTR0OLJsUWg_left\n",
      "Predicted Meter: 29.0\n",
      "Ground Truth: 28.0\n",
      "Error: 1.0\n",
      "==================================================\n",
      "How far is the gas station away from the camera in meters, rounded to the next meter?\n"
     ]
    },
    {
     "name": "stderr",
     "output_type": "stream",
     "text": [
      "Setting `pad_token_id` to `eos_token_id`:None for open-end generation.\n"
     ]
    },
    {
     "name": "stdout",
     "output_type": "stream",
     "text": [
      "HALLO\n",
      "Item ID: h_pdMobutR1b38Ek1Yf24Q_front\n",
      "Predicted Meter: 29.0\n",
      "Ground Truth: 18.0\n",
      "Error: 11.0\n",
      "==================================================\n",
      "How far is the gas station away from the camera in meters, rounded to the next meter?\n"
     ]
    },
    {
     "name": "stderr",
     "output_type": "stream",
     "text": [
      "Setting `pad_token_id` to `eos_token_id`:None for open-end generation.\n"
     ]
    },
    {
     "name": "stdout",
     "output_type": "stream",
     "text": [
      "HALLO\n",
      "Item ID: 1CFhl2zw8_wpjV8SaYekZA_right\n",
      "Predicted Meter: 26.0\n",
      "Ground Truth: 27.0\n",
      "Error: 1.0\n",
      "==================================================\n",
      "How far is the gas station away from the camera in meters, rounded to the next meter?\n"
     ]
    },
    {
     "name": "stderr",
     "output_type": "stream",
     "text": [
      "Setting `pad_token_id` to `eos_token_id`:None for open-end generation.\n"
     ]
    },
    {
     "name": "stdout",
     "output_type": "stream",
     "text": [
      "HALLO\n",
      "Item ID: jU6X-KpYz18pt96XJ-YoeQ_right\n",
      "Predicted Meter: 19.0\n",
      "Ground Truth: 25.0\n",
      "Error: 6.0\n",
      "==================================================\n",
      "How far is the gas station away from the camera in meters, rounded to the next meter?\n"
     ]
    },
    {
     "name": "stderr",
     "output_type": "stream",
     "text": [
      "Setting `pad_token_id` to `eos_token_id`:None for open-end generation.\n"
     ]
    },
    {
     "name": "stdout",
     "output_type": "stream",
     "text": [
      "HALLO\n",
      "Item ID: TrZtzGlvyG_QmyhBJBma4A_right\n",
      "Predicted Meter: 29.0\n",
      "Ground Truth: 21.0\n",
      "Error: 8.0\n",
      "==================================================\n",
      "How far is the gas station away from the camera in meters, rounded to the next meter?\n"
     ]
    },
    {
     "name": "stderr",
     "output_type": "stream",
     "text": [
      "Setting `pad_token_id` to `eos_token_id`:None for open-end generation.\n"
     ]
    },
    {
     "name": "stdout",
     "output_type": "stream",
     "text": [
      "HALLO\n",
      "Item ID: Y1OMmLWmRqjyAP7zn4TGNA_right\n",
      "Predicted Meter: 29.0\n",
      "Ground Truth: 20.0\n",
      "Error: 9.0\n",
      "==================================================\n",
      "How far is the gas station away from the camera in meters, rounded to the next meter?\n"
     ]
    },
    {
     "name": "stderr",
     "output_type": "stream",
     "text": [
      "Setting `pad_token_id` to `eos_token_id`:None for open-end generation.\n"
     ]
    },
    {
     "name": "stdout",
     "output_type": "stream",
     "text": [
      "HALLO\n",
      "Item ID: CzHuqJTBB29Mj10Tf-vG_A_left\n",
      "Predicted Meter: 19.0\n",
      "Ground Truth: 24.0\n",
      "Error: 5.0\n",
      "==================================================\n",
      "How far is the gas station away from the camera in meters, rounded to the next meter?\n"
     ]
    },
    {
     "name": "stderr",
     "output_type": "stream",
     "text": [
      "Setting `pad_token_id` to `eos_token_id`:None for open-end generation.\n"
     ]
    },
    {
     "name": "stdout",
     "output_type": "stream",
     "text": [
      "HALLO\n",
      "Item ID: 3k16AWQgqv40UC3T2pxpRA_right\n",
      "Predicted Meter: 29.0\n",
      "Ground Truth: 25.0\n",
      "Error: 4.0\n",
      "==================================================\n",
      "How far is the gas station away from the camera in meters, rounded to the next meter?\n"
     ]
    },
    {
     "name": "stderr",
     "output_type": "stream",
     "text": [
      "Setting `pad_token_id` to `eos_token_id`:None for open-end generation.\n"
     ]
    },
    {
     "name": "stdout",
     "output_type": "stream",
     "text": [
      "HALLO\n",
      "Item ID: pksYc6IzkoN8GUhDj0LDpQ_right\n",
      "Predicted Meter: 19.0\n",
      "Ground Truth: 27.0\n",
      "Error: 8.0\n",
      "==================================================\n",
      "How far is the gas station away from the camera in meters, rounded to the next meter?\n"
     ]
    },
    {
     "name": "stderr",
     "output_type": "stream",
     "text": [
      "Setting `pad_token_id` to `eos_token_id`:None for open-end generation.\n"
     ]
    },
    {
     "name": "stdout",
     "output_type": "stream",
     "text": [
      "HALLO\n",
      "Item ID: 9vadzEjIYIdbpVS1SXgiuA_front\n",
      "Predicted Meter: 29.0\n",
      "Ground Truth: 26.0\n",
      "Error: 3.0\n",
      "==================================================\n",
      "How far is the gas station away from the camera in meters, rounded to the next meter?\n"
     ]
    },
    {
     "name": "stderr",
     "output_type": "stream",
     "text": [
      "Setting `pad_token_id` to `eos_token_id`:None for open-end generation.\n"
     ]
    },
    {
     "name": "stdout",
     "output_type": "stream",
     "text": [
      "HALLO\n",
      "Item ID: 4K-t0ms7NlOyQIs6n4V0hg_right\n",
      "Predicted Meter: 29.0\n",
      "Ground Truth: 30.0\n",
      "Error: 1.0\n",
      "==================================================\n",
      "How far is the gas station away from the camera in meters, rounded to the next meter?\n"
     ]
    },
    {
     "name": "stderr",
     "output_type": "stream",
     "text": [
      "Setting `pad_token_id` to `eos_token_id`:None for open-end generation.\n"
     ]
    },
    {
     "name": "stdout",
     "output_type": "stream",
     "text": [
      "HALLO\n",
      "Item ID: 5NGOlsI3ydBDw0VOZ79c2A_right\n",
      "Predicted Meter: 19.0\n",
      "Ground Truth: 24.0\n",
      "Error: 5.0\n",
      "==================================================\n",
      "How far is the gas station away from the camera in meters, rounded to the next meter?\n"
     ]
    },
    {
     "name": "stderr",
     "output_type": "stream",
     "text": [
      "Setting `pad_token_id` to `eos_token_id`:None for open-end generation.\n"
     ]
    },
    {
     "name": "stdout",
     "output_type": "stream",
     "text": [
      "HALLO\n",
      "Item ID: 9jetR7KxoqyH2uA45eUhZA_right\n",
      "Predicted Meter: 14.0\n",
      "Ground Truth: 13.0\n",
      "Error: 1.0\n",
      "==================================================\n",
      "How far is the atm away from the camera in meters, rounded to the next meter?\n"
     ]
    },
    {
     "name": "stderr",
     "output_type": "stream",
     "text": [
      "Setting `pad_token_id` to `eos_token_id`:None for open-end generation.\n"
     ]
    },
    {
     "name": "stdout",
     "output_type": "stream",
     "text": [
      "HALLO\n",
      "Item ID: fNup96_l6Q9_7sMN3jSYSA_back\n",
      "Predicted Meter: 20.0\n",
      "Ground Truth: 17.0\n",
      "Error: 3.0\n",
      "==================================================\n",
      "How far is the gas station away from the camera in meters, rounded to the next meter?\n"
     ]
    },
    {
     "name": "stderr",
     "output_type": "stream",
     "text": [
      "Setting `pad_token_id` to `eos_token_id`:None for open-end generation.\n"
     ]
    },
    {
     "name": "stdout",
     "output_type": "stream",
     "text": [
      "HALLO\n",
      "Item ID: StE2fFKWlxq5oOY9TLzqaQ_right\n",
      "Predicted Meter: 21.0\n",
      "Ground Truth: 14.0\n",
      "Error: 7.0\n",
      "==================================================\n",
      "How far is the gas station away from the camera in meters, rounded to the next meter?\n"
     ]
    },
    {
     "name": "stderr",
     "output_type": "stream",
     "text": [
      "Setting `pad_token_id` to `eos_token_id`:None for open-end generation.\n"
     ]
    },
    {
     "name": "stdout",
     "output_type": "stream",
     "text": [
      "HALLO\n",
      "Item ID: Qz18uRHUrVtSIBcwaI6big_right\n",
      "Predicted Meter: 29.0\n",
      "Ground Truth: 26.0\n",
      "Error: 3.0\n",
      "==================================================\n",
      "How far is the post box away from the camera in meters, rounded to the next meter?\n"
     ]
    },
    {
     "name": "stderr",
     "output_type": "stream",
     "text": [
      "Setting `pad_token_id` to `eos_token_id`:None for open-end generation.\n"
     ]
    },
    {
     "name": "stdout",
     "output_type": "stream",
     "text": [
      "HALLO\n",
      "Item ID: 1N4oepZ2Tdx0RiMNW70Emg_right\n",
      "Predicted Meter: 11.0\n",
      "Ground Truth: 7.0\n",
      "Error: 4.0\n",
      "==================================================\n",
      "How far is the post box away from the camera in meters, rounded to the next meter?\n"
     ]
    },
    {
     "name": "stderr",
     "output_type": "stream",
     "text": [
      "Setting `pad_token_id` to `eos_token_id`:None for open-end generation.\n"
     ]
    },
    {
     "name": "stdout",
     "output_type": "stream",
     "text": [
      "HALLO\n",
      "Item ID: Wwz8TuQs25BR7pV6ZLxHIA_left\n",
      "Predicted Meter: 11.0\n",
      "Ground Truth: 21.0\n",
      "Error: 10.0\n",
      "==================================================\n",
      "How far is the large waste dumpster away from the camera in meters, rounded to the next meter?\n"
     ]
    },
    {
     "name": "stderr",
     "output_type": "stream",
     "text": [
      "Setting `pad_token_id` to `eos_token_id`:None for open-end generation.\n"
     ]
    },
    {
     "name": "stdout",
     "output_type": "stream",
     "text": [
      "HALLO\n",
      "Item ID: w7E4-o_FBl46aJR4nygWKA_left\n",
      "Predicted Meter: 27.0\n",
      "Ground Truth: 27.0\n",
      "Error: 0.0\n",
      "==================================================\n",
      "How far is the gas station away from the camera in meters, rounded to the next meter?\n"
     ]
    },
    {
     "name": "stderr",
     "output_type": "stream",
     "text": [
      "Setting `pad_token_id` to `eos_token_id`:None for open-end generation.\n"
     ]
    },
    {
     "name": "stdout",
     "output_type": "stream",
     "text": [
      "HALLO\n",
      "Item ID: EJyxn_BdvstB7aQW5qtXHA_right\n",
      "Predicted Meter: 19.0\n",
      "Ground Truth: 29.0\n",
      "Error: 10.0\n",
      "==================================================\n",
      "How far is the gas station away from the camera in meters, rounded to the next meter?\n"
     ]
    },
    {
     "name": "stderr",
     "output_type": "stream",
     "text": [
      "Setting `pad_token_id` to `eos_token_id`:None for open-end generation.\n"
     ]
    },
    {
     "name": "stdout",
     "output_type": "stream",
     "text": [
      "HALLO\n",
      "Item ID: hPHfaOJAMuZoaAeHKwGt0Q_right\n",
      "Predicted Meter: 21.0\n",
      "Ground Truth: 23.0\n",
      "Error: 2.0\n",
      "==================================================\n",
      "How far is the gas station away from the camera in meters, rounded to the next meter?\n"
     ]
    },
    {
     "name": "stderr",
     "output_type": "stream",
     "text": [
      "Setting `pad_token_id` to `eos_token_id`:None for open-end generation.\n"
     ]
    },
    {
     "name": "stdout",
     "output_type": "stream",
     "text": [
      "HALLO\n",
      "Item ID: Y2LqquXdxkG6CERz_G6Nlg_left\n",
      "Predicted Meter: 28.0\n",
      "Ground Truth: 25.0\n",
      "Error: 3.0\n",
      "==================================================\n",
      "How far is the gas station away from the camera in meters, rounded to the next meter?\n"
     ]
    },
    {
     "name": "stderr",
     "output_type": "stream",
     "text": [
      "Setting `pad_token_id` to `eos_token_id`:None for open-end generation.\n"
     ]
    },
    {
     "name": "stdout",
     "output_type": "stream",
     "text": [
      "HALLO\n",
      "Item ID: VKDduK1sl3OF7ekMGjEI_Q_right\n",
      "Predicted Meter: 28.0\n",
      "Ground Truth: 25.0\n",
      "Error: 3.0\n",
      "==================================================\n",
      "How far is the gas station away from the camera in meters, rounded to the next meter?\n"
     ]
    },
    {
     "name": "stderr",
     "output_type": "stream",
     "text": [
      "Setting `pad_token_id` to `eos_token_id`:None for open-end generation.\n"
     ]
    },
    {
     "name": "stdout",
     "output_type": "stream",
     "text": [
      "HALLO\n",
      "Item ID: pVT3i-VC8DKKHxxGzGM1Gw_front\n",
      "Predicted Meter: 29.0\n",
      "Ground Truth: 22.0\n",
      "Error: 7.0\n",
      "==================================================\n",
      "How far is the gas station away from the camera in meters, rounded to the next meter?\n"
     ]
    },
    {
     "name": "stderr",
     "output_type": "stream",
     "text": [
      "Setting `pad_token_id` to `eos_token_id`:None for open-end generation.\n"
     ]
    },
    {
     "name": "stdout",
     "output_type": "stream",
     "text": [
      "HALLO\n",
      "Item ID: QByx_5dPkZWspXNMrVlJCQ_left\n",
      "Predicted Meter: 29.0\n",
      "Ground Truth: 28.0\n",
      "Error: 1.0\n",
      "==================================================\n",
      "How far is the gas station away from the camera in meters, rounded to the next meter?\n"
     ]
    },
    {
     "name": "stderr",
     "output_type": "stream",
     "text": [
      "Setting `pad_token_id` to `eos_token_id`:None for open-end generation.\n"
     ]
    },
    {
     "name": "stdout",
     "output_type": "stream",
     "text": [
      "HALLO\n",
      "Item ID: sAX1efN-2Q1WTVF2Slt0Vg_right\n",
      "Predicted Meter: 14.0\n",
      "Ground Truth: 16.0\n",
      "Error: 2.0\n",
      "==================================================\n",
      "How far is the gas station away from the camera in meters, rounded to the next meter?\n"
     ]
    },
    {
     "name": "stderr",
     "output_type": "stream",
     "text": [
      "Setting `pad_token_id` to `eos_token_id`:None for open-end generation.\n"
     ]
    },
    {
     "name": "stdout",
     "output_type": "stream",
     "text": [
      "HALLO\n",
      "Item ID: B2xQQNnGkZTxyQWXhWUjjA_right\n",
      "Predicted Meter: 19.0\n",
      "Ground Truth: 18.0\n",
      "Error: 1.0\n",
      "==================================================\n",
      "How far is the gas station away from the camera in meters, rounded to the next meter?\n"
     ]
    },
    {
     "name": "stderr",
     "output_type": "stream",
     "text": [
      "Setting `pad_token_id` to `eos_token_id`:None for open-end generation.\n"
     ]
    },
    {
     "name": "stdout",
     "output_type": "stream",
     "text": [
      "HALLO\n",
      "Item ID: zlVVWK2209dwiSv-jkQ7mA_right\n",
      "Predicted Meter: 19.0\n",
      "Ground Truth: 18.0\n",
      "Error: 1.0\n",
      "==================================================\n",
      "How far is the gas station away from the camera in meters, rounded to the next meter?\n"
     ]
    },
    {
     "name": "stderr",
     "output_type": "stream",
     "text": [
      "Setting `pad_token_id` to `eos_token_id`:None for open-end generation.\n"
     ]
    },
    {
     "name": "stdout",
     "output_type": "stream",
     "text": [
      "HALLO\n",
      "Item ID: PSXKhfo_2-cixnRnrkWgug_right\n",
      "Predicted Meter: 28.0\n",
      "Ground Truth: 20.0\n",
      "Error: 8.0\n",
      "==================================================\n",
      "How far is the gas station away from the camera in meters, rounded to the next meter?\n"
     ]
    },
    {
     "name": "stderr",
     "output_type": "stream",
     "text": [
      "Setting `pad_token_id` to `eos_token_id`:None for open-end generation.\n"
     ]
    },
    {
     "name": "stdout",
     "output_type": "stream",
     "text": [
      "HALLO\n",
      "Item ID: 60vORc94qejRLoePlhyhoA_left\n",
      "Predicted Meter: 29.0\n",
      "Ground Truth: 27.0\n",
      "Error: 2.0\n",
      "==================================================\n",
      "How far is the gas station away from the camera in meters, rounded to the next meter?\n"
     ]
    },
    {
     "name": "stderr",
     "output_type": "stream",
     "text": [
      "Setting `pad_token_id` to `eos_token_id`:None for open-end generation.\n"
     ]
    },
    {
     "name": "stdout",
     "output_type": "stream",
     "text": [
      "HALLO\n",
      "Item ID: trCU9ky8rsxm4mMv4NGTxg_left\n",
      "Predicted Meter: 19.0\n",
      "Ground Truth: 19.0\n",
      "Error: 0.0\n",
      "==================================================\n",
      "How far is the gas station away from the camera in meters, rounded to the next meter?\n"
     ]
    },
    {
     "name": "stderr",
     "output_type": "stream",
     "text": [
      "Setting `pad_token_id` to `eos_token_id`:None for open-end generation.\n"
     ]
    },
    {
     "name": "stdout",
     "output_type": "stream",
     "text": [
      "HALLO\n",
      "Item ID: yqPszzxqxHCcIjL-v3WSWA_right\n",
      "Predicted Meter: 29.0\n",
      "Ground Truth: 24.0\n",
      "Error: 5.0\n",
      "==================================================\n",
      "How far is the gas station away from the camera in meters, rounded to the next meter?\n"
     ]
    },
    {
     "name": "stderr",
     "output_type": "stream",
     "text": [
      "Setting `pad_token_id` to `eos_token_id`:None for open-end generation.\n"
     ]
    },
    {
     "name": "stdout",
     "output_type": "stream",
     "text": [
      "HALLO\n",
      "Item ID: LpCUToI7Cvgkq0ILdMjfqQ_right\n",
      "Predicted Meter: 28.0\n",
      "Ground Truth: 24.0\n",
      "Error: 4.0\n",
      "==================================================\n",
      "How far is the gas station away from the camera in meters, rounded to the next meter?\n"
     ]
    },
    {
     "name": "stderr",
     "output_type": "stream",
     "text": [
      "Setting `pad_token_id` to `eos_token_id`:None for open-end generation.\n"
     ]
    },
    {
     "name": "stdout",
     "output_type": "stream",
     "text": [
      "HALLO\n",
      "Item ID: h9fvBHcx4BJ4zNUEwixmOw_back\n",
      "Predicted Meter: 29.0\n",
      "Ground Truth: 29.0\n",
      "Error: 0.0\n",
      "==================================================\n",
      "How far is the gas station away from the camera in meters, rounded to the next meter?\n"
     ]
    },
    {
     "name": "stderr",
     "output_type": "stream",
     "text": [
      "Setting `pad_token_id` to `eos_token_id`:None for open-end generation.\n"
     ]
    },
    {
     "name": "stdout",
     "output_type": "stream",
     "text": [
      "HALLO\n",
      "Item ID: AJz20_6wSjeKoUZmfq-X2A_right\n",
      "Predicted Meter: 26.0\n",
      "Ground Truth: 18.0\n",
      "Error: 8.0\n",
      "==================================================\n",
      "How far is the gas station away from the camera in meters, rounded to the next meter?\n"
     ]
    },
    {
     "name": "stderr",
     "output_type": "stream",
     "text": [
      "Setting `pad_token_id` to `eos_token_id`:None for open-end generation.\n"
     ]
    },
    {
     "name": "stdout",
     "output_type": "stream",
     "text": [
      "HALLO\n",
      "Item ID: i5WVC6hZreMrj25W7QzYRw_back\n",
      "Predicted Meter: 29.0\n",
      "Ground Truth: 23.0\n",
      "Error: 6.0\n",
      "==================================================\n",
      "How far is the gas station away from the camera in meters, rounded to the next meter?\n"
     ]
    },
    {
     "name": "stderr",
     "output_type": "stream",
     "text": [
      "Setting `pad_token_id` to `eos_token_id`:None for open-end generation.\n"
     ]
    },
    {
     "name": "stdout",
     "output_type": "stream",
     "text": [
      "HALLO\n",
      "Item ID: ZdiVojc1dtotNExOp58x5A_left\n",
      "Predicted Meter: 19.0\n",
      "Ground Truth: 26.0\n",
      "Error: 7.0\n",
      "==================================================\n",
      "How far is the gas station away from the camera in meters, rounded to the next meter?\n"
     ]
    },
    {
     "name": "stderr",
     "output_type": "stream",
     "text": [
      "Setting `pad_token_id` to `eos_token_id`:None for open-end generation.\n"
     ]
    },
    {
     "name": "stdout",
     "output_type": "stream",
     "text": [
      "HALLO\n",
      "Item ID: 60vORc94qejRLoePlhyhoA_right\n",
      "Predicted Meter: 19.0\n",
      "Ground Truth: 27.0\n",
      "Error: 8.0\n",
      "==================================================\n",
      "How far is the gas station away from the camera in meters, rounded to the next meter?\n"
     ]
    },
    {
     "name": "stderr",
     "output_type": "stream",
     "text": [
      "Setting `pad_token_id` to `eos_token_id`:None for open-end generation.\n"
     ]
    },
    {
     "name": "stdout",
     "output_type": "stream",
     "text": [
      "HALLO\n",
      "Item ID: 8vYyJMHE_ay2QBvq6RIX5g_back\n",
      "Predicted Meter: 29.0\n",
      "Ground Truth: 28.0\n",
      "Error: 1.0\n",
      "==================================================\n",
      "How far is the electric charging station away from the camera in meters, rounded to the next meter?\n"
     ]
    },
    {
     "name": "stderr",
     "output_type": "stream",
     "text": [
      "Setting `pad_token_id` to `eos_token_id`:None for open-end generation.\n"
     ]
    },
    {
     "name": "stdout",
     "output_type": "stream",
     "text": [
      "HALLO\n",
      "Item ID: ycFZ9QwrUeciEE2HSrFAeQ_right\n",
      "Predicted Meter: 26.0\n",
      "Ground Truth: 12.0\n",
      "Error: 14.0\n",
      "==================================================\n",
      "How far is the gas station away from the camera in meters, rounded to the next meter?\n"
     ]
    },
    {
     "name": "stderr",
     "output_type": "stream",
     "text": [
      "Setting `pad_token_id` to `eos_token_id`:None for open-end generation.\n"
     ]
    },
    {
     "name": "stdout",
     "output_type": "stream",
     "text": [
      "HALLO\n",
      "Item ID: 1Y7B1JQtBHVe2iPrAiM-eg_front\n",
      "Predicted Meter: 28.0\n",
      "Ground Truth: 29.0\n",
      "Error: 1.0\n",
      "==================================================\n",
      "How far is the gas station away from the camera in meters, rounded to the next meter?\n"
     ]
    },
    {
     "name": "stderr",
     "output_type": "stream",
     "text": [
      "Setting `pad_token_id` to `eos_token_id`:None for open-end generation.\n"
     ]
    },
    {
     "name": "stdout",
     "output_type": "stream",
     "text": [
      "HALLO\n",
      "Item ID: 7UXQIVV4UHo3-oDPm7qELQ_right\n",
      "Predicted Meter: 19.0\n",
      "Ground Truth: 22.0\n",
      "Error: 3.0\n",
      "==================================================\n",
      "How far is the gas station away from the camera in meters, rounded to the next meter?\n"
     ]
    },
    {
     "name": "stderr",
     "output_type": "stream",
     "text": [
      "Setting `pad_token_id` to `eos_token_id`:None for open-end generation.\n"
     ]
    },
    {
     "name": "stdout",
     "output_type": "stream",
     "text": [
      "HALLO\n",
      "Item ID: axGFVJ1krhsn6mC28ooKVA_front\n",
      "Predicted Meter: 29.0\n",
      "Ground Truth: 29.0\n",
      "Error: 0.0\n",
      "==================================================\n",
      "How far is the gas station away from the camera in meters, rounded to the next meter?\n"
     ]
    },
    {
     "name": "stderr",
     "output_type": "stream",
     "text": [
      "Setting `pad_token_id` to `eos_token_id`:None for open-end generation.\n"
     ]
    },
    {
     "name": "stdout",
     "output_type": "stream",
     "text": [
      "HALLO\n",
      "Item ID: 2M7SYVOfLnMuDXYnW8FfEQ_back\n",
      "Predicted Meter: 29.0\n",
      "Ground Truth: 24.0\n",
      "Error: 5.0\n",
      "==================================================\n",
      "How far is the gas station away from the camera in meters, rounded to the next meter?\n"
     ]
    },
    {
     "name": "stderr",
     "output_type": "stream",
     "text": [
      "Setting `pad_token_id` to `eos_token_id`:None for open-end generation.\n"
     ]
    },
    {
     "name": "stdout",
     "output_type": "stream",
     "text": [
      "HALLO\n",
      "Item ID: 4K-t0ms7NlOyQIs6n4V0hg_back\n",
      "Predicted Meter: 29.0\n",
      "Ground Truth: 30.0\n",
      "Error: 1.0\n",
      "==================================================\n",
      "How far is the gas station away from the camera in meters, rounded to the next meter?\n"
     ]
    },
    {
     "name": "stderr",
     "output_type": "stream",
     "text": [
      "Setting `pad_token_id` to `eos_token_id`:None for open-end generation.\n"
     ]
    },
    {
     "name": "stdout",
     "output_type": "stream",
     "text": [
      "HALLO\n",
      "Item ID: MS8ZruXv6pKGYFtg62uMpg_back\n",
      "Predicted Meter: 27.0\n",
      "Ground Truth: 27.0\n",
      "Error: 0.0\n",
      "==================================================\n",
      "How far is the gas station away from the camera in meters, rounded to the next meter?\n"
     ]
    },
    {
     "name": "stderr",
     "output_type": "stream",
     "text": [
      "Setting `pad_token_id` to `eos_token_id`:None for open-end generation.\n"
     ]
    },
    {
     "name": "stdout",
     "output_type": "stream",
     "text": [
      "HALLO\n",
      "Item ID: q57H2cmymr1Ixjb9MbCfPQ_right\n",
      "Predicted Meter: 21.0\n",
      "Ground Truth: 23.0\n",
      "Error: 2.0\n",
      "==================================================\n",
      "How far is the gas station away from the camera in meters, rounded to the next meter?\n"
     ]
    },
    {
     "name": "stderr",
     "output_type": "stream",
     "text": [
      "Setting `pad_token_id` to `eos_token_id`:None for open-end generation.\n"
     ]
    },
    {
     "name": "stdout",
     "output_type": "stream",
     "text": [
      "HALLO\n",
      "Item ID: EdEUoTTAcuM9cNcu08a1nw_left\n",
      "Predicted Meter: 19.0\n",
      "Ground Truth: 19.0\n",
      "Error: 0.0\n",
      "==================================================\n",
      "How far is the gas station away from the camera in meters, rounded to the next meter?\n"
     ]
    },
    {
     "name": "stderr",
     "output_type": "stream",
     "text": [
      "Setting `pad_token_id` to `eos_token_id`:None for open-end generation.\n"
     ]
    },
    {
     "name": "stdout",
     "output_type": "stream",
     "text": [
      "HALLO\n",
      "Item ID: NkjfX-IG5Qw8M_p_clCO4A_left\n",
      "Predicted Meter: 29.0\n",
      "Ground Truth: 28.0\n",
      "Error: 1.0\n",
      "==================================================\n",
      "How far is the gas station away from the camera in meters, rounded to the next meter?\n"
     ]
    },
    {
     "name": "stderr",
     "output_type": "stream",
     "text": [
      "Setting `pad_token_id` to `eos_token_id`:None for open-end generation.\n"
     ]
    },
    {
     "name": "stdout",
     "output_type": "stream",
     "text": [
      "HALLO\n",
      "Item ID: dInyxmFH1E4YJXjzmHFDHg_left\n",
      "Predicted Meter: 26.0\n",
      "Ground Truth: 29.0\n",
      "Error: 3.0\n",
      "==================================================\n",
      "How far is the gas station away from the camera in meters, rounded to the next meter?\n"
     ]
    },
    {
     "name": "stderr",
     "output_type": "stream",
     "text": [
      "Setting `pad_token_id` to `eos_token_id`:None for open-end generation.\n"
     ]
    },
    {
     "name": "stdout",
     "output_type": "stream",
     "text": [
      "HALLO\n",
      "Item ID: cTPFfgZ4KkUXKHzMddF7Bg_left\n",
      "Predicted Meter: 21.0\n",
      "Ground Truth: 22.0\n",
      "Error: 1.0\n",
      "==================================================\n",
      "How far is the gas station away from the camera in meters, rounded to the next meter?\n"
     ]
    },
    {
     "name": "stderr",
     "output_type": "stream",
     "text": [
      "Setting `pad_token_id` to `eos_token_id`:None for open-end generation.\n"
     ]
    },
    {
     "name": "stdout",
     "output_type": "stream",
     "text": [
      "HALLO\n",
      "Item ID: 1LGPz7B3vJ2IT1Qm_2nytw_front\n",
      "Predicted Meter: 29.0\n",
      "Ground Truth: 22.0\n",
      "Error: 7.0\n",
      "==================================================\n",
      "How far is the gas station away from the camera in meters, rounded to the next meter?\n"
     ]
    },
    {
     "name": "stderr",
     "output_type": "stream",
     "text": [
      "Setting `pad_token_id` to `eos_token_id`:None for open-end generation.\n"
     ]
    },
    {
     "name": "stdout",
     "output_type": "stream",
     "text": [
      "HALLO\n",
      "Item ID: JpCaP2v70FtqJJGeXyjDdw_front\n",
      "Predicted Meter: 29.0\n",
      "Ground Truth: 19.0\n",
      "Error: 10.0\n",
      "==================================================\n",
      "How far is the gas station away from the camera in meters, rounded to the next meter?\n"
     ]
    },
    {
     "name": "stderr",
     "output_type": "stream",
     "text": [
      "Setting `pad_token_id` to `eos_token_id`:None for open-end generation.\n"
     ]
    },
    {
     "name": "stdout",
     "output_type": "stream",
     "text": [
      "HALLO\n",
      "Item ID: KP7OmYZuuX5T0O8CQGFFWg_back\n",
      "Predicted Meter: 29.0\n",
      "Ground Truth: 15.0\n",
      "Error: 14.0\n",
      "==================================================\n",
      "How far is the gas station away from the camera in meters, rounded to the next meter?\n"
     ]
    },
    {
     "name": "stderr",
     "output_type": "stream",
     "text": [
      "Setting `pad_token_id` to `eos_token_id`:None for open-end generation.\n"
     ]
    },
    {
     "name": "stdout",
     "output_type": "stream",
     "text": [
      "HALLO\n",
      "Item ID: KtvPeGrsVIBkeHq8DsJfhQ_right\n",
      "Predicted Meter: 28.0\n",
      "Ground Truth: 28.0\n",
      "Error: 0.0\n",
      "==================================================\n",
      "How far is the gas station away from the camera in meters, rounded to the next meter?\n"
     ]
    },
    {
     "name": "stderr",
     "output_type": "stream",
     "text": [
      "Setting `pad_token_id` to `eos_token_id`:None for open-end generation.\n"
     ]
    },
    {
     "name": "stdout",
     "output_type": "stream",
     "text": [
      "HALLO\n",
      "Item ID: 2pj56we2AFhPUcV36gq4dw_left\n",
      "Predicted Meter: 27.0\n",
      "Ground Truth: 22.0\n",
      "Error: 5.0\n",
      "==================================================\n",
      "How far is the gas station away from the camera in meters, rounded to the next meter?\n"
     ]
    },
    {
     "name": "stderr",
     "output_type": "stream",
     "text": [
      "Setting `pad_token_id` to `eos_token_id`:None for open-end generation.\n"
     ]
    },
    {
     "name": "stdout",
     "output_type": "stream",
     "text": [
      "HALLO\n",
      "Item ID: yKjJVY-QcL8B72FWucki9A_back\n",
      "Predicted Meter: 29.0\n",
      "Ground Truth: 7.0\n",
      "Error: 22.0\n",
      "==================================================\n",
      "How far is the gas station away from the camera in meters, rounded to the next meter?\n"
     ]
    },
    {
     "name": "stderr",
     "output_type": "stream",
     "text": [
      "Setting `pad_token_id` to `eos_token_id`:None for open-end generation.\n"
     ]
    },
    {
     "name": "stdout",
     "output_type": "stream",
     "text": [
      "HALLO\n",
      "Item ID: X7F2k-IYYxWQONqJvKFAUA_right\n",
      "Predicted Meter: 26.0\n",
      "Ground Truth: 26.0\n",
      "Error: 0.0\n",
      "==================================================\n",
      "How far is the post box away from the camera in meters, rounded to the next meter?\n"
     ]
    },
    {
     "name": "stderr",
     "output_type": "stream",
     "text": [
      "Setting `pad_token_id` to `eos_token_id`:None for open-end generation.\n"
     ]
    },
    {
     "name": "stdout",
     "output_type": "stream",
     "text": [
      "HALLO\n",
      "Item ID: D-QBRj4cortWyDiYEUHvsw_right\n",
      "Predicted Meter: 11.0\n",
      "Ground Truth: 6.0\n",
      "Error: 5.0\n",
      "==================================================\n",
      "How far is the gas station away from the camera in meters, rounded to the next meter?\n"
     ]
    },
    {
     "name": "stderr",
     "output_type": "stream",
     "text": [
      "Setting `pad_token_id` to `eos_token_id`:None for open-end generation.\n"
     ]
    },
    {
     "name": "stdout",
     "output_type": "stream",
     "text": [
      "HALLO\n",
      "Item ID: b9NFY5tRuunJ3jBmVf7UBA_right\n",
      "Predicted Meter: 26.0\n",
      "Ground Truth: 21.0\n",
      "Error: 5.0\n",
      "==================================================\n",
      "How far is the gas station away from the camera in meters, rounded to the next meter?\n"
     ]
    },
    {
     "name": "stderr",
     "output_type": "stream",
     "text": [
      "Setting `pad_token_id` to `eos_token_id`:None for open-end generation.\n"
     ]
    },
    {
     "name": "stdout",
     "output_type": "stream",
     "text": [
      "HALLO\n",
      "Item ID: dGxsDZMbA6DXA4d1Pq0Bjg_front\n",
      "Predicted Meter: 29.0\n",
      "Ground Truth: 22.0\n",
      "Error: 7.0\n",
      "==================================================\n",
      "How far is the gas station away from the camera in meters, rounded to the next meter?\n"
     ]
    },
    {
     "name": "stderr",
     "output_type": "stream",
     "text": [
      "Setting `pad_token_id` to `eos_token_id`:None for open-end generation.\n"
     ]
    },
    {
     "name": "stdout",
     "output_type": "stream",
     "text": [
      "HALLO\n",
      "Item ID: ZpIKRM0lVXkIYHKNeJ-PSw_right\n",
      "Predicted Meter: 29.0\n",
      "Ground Truth: 24.0\n",
      "Error: 5.0\n",
      "==================================================\n",
      "How far is the gas station away from the camera in meters, rounded to the next meter?\n"
     ]
    },
    {
     "name": "stderr",
     "output_type": "stream",
     "text": [
      "Setting `pad_token_id` to `eos_token_id`:None for open-end generation.\n"
     ]
    },
    {
     "name": "stdout",
     "output_type": "stream",
     "text": [
      "HALLO\n",
      "Item ID: Pplmiyt2a4ebn8hP0nc70A_right\n",
      "Predicted Meter: 14.0\n",
      "Ground Truth: 21.0\n",
      "Error: 7.0\n",
      "==================================================\n",
      "How far is the post box away from the camera in meters, rounded to the next meter?\n"
     ]
    },
    {
     "name": "stderr",
     "output_type": "stream",
     "text": [
      "Setting `pad_token_id` to `eos_token_id`:None for open-end generation.\n"
     ]
    },
    {
     "name": "stdout",
     "output_type": "stream",
     "text": [
      "HALLO\n",
      "Item ID: 1C1eS9jrHwDToiIteIZqgQ_right\n",
      "Predicted Meter: 11.0\n",
      "Ground Truth: 17.0\n",
      "Error: 6.0\n",
      "==================================================\n",
      "How far is the large waste dumpster away from the camera in meters, rounded to the next meter?\n"
     ]
    },
    {
     "name": "stderr",
     "output_type": "stream",
     "text": [
      "Setting `pad_token_id` to `eos_token_id`:None for open-end generation.\n"
     ]
    },
    {
     "name": "stdout",
     "output_type": "stream",
     "text": [
      "HALLO\n",
      "Item ID: luxAA4b_ND2ueb7anI88BA_back\n",
      "Predicted Meter: 27.0\n",
      "Ground Truth: 16.0\n",
      "Error: 11.0\n",
      "==================================================\n",
      "How far is the gas station away from the camera in meters, rounded to the next meter?\n"
     ]
    },
    {
     "name": "stderr",
     "output_type": "stream",
     "text": [
      "Setting `pad_token_id` to `eos_token_id`:None for open-end generation.\n"
     ]
    },
    {
     "name": "stdout",
     "output_type": "stream",
     "text": [
      "HALLO\n",
      "Item ID: Pplmiyt2a4ebn8hP0nc70A_back\n",
      "Predicted Meter: 29.0\n",
      "Ground Truth: 21.0\n",
      "Error: 8.0\n",
      "==================================================\n",
      "How far is the gas station away from the camera in meters, rounded to the next meter?\n"
     ]
    },
    {
     "name": "stderr",
     "output_type": "stream",
     "text": [
      "Setting `pad_token_id` to `eos_token_id`:None for open-end generation.\n"
     ]
    },
    {
     "name": "stdout",
     "output_type": "stream",
     "text": [
      "HALLO\n",
      "Item ID: Qy7K-TboLcgUyUupDtMgKQ_right\n",
      "Predicted Meter: 29.0\n",
      "Ground Truth: 26.0\n",
      "Error: 3.0\n",
      "==================================================\n",
      "How far is the gas station away from the camera in meters, rounded to the next meter?\n"
     ]
    },
    {
     "name": "stderr",
     "output_type": "stream",
     "text": [
      "Setting `pad_token_id` to `eos_token_id`:None for open-end generation.\n"
     ]
    },
    {
     "name": "stdout",
     "output_type": "stream",
     "text": [
      "HALLO\n",
      "Item ID: mqpRUiJoeyjpoVAjiEiKMQ_front\n",
      "Predicted Meter: 28.0\n",
      "Ground Truth: 22.0\n",
      "Error: 6.0\n",
      "==================================================\n",
      "How far is the gas station away from the camera in meters, rounded to the next meter?\n"
     ]
    },
    {
     "name": "stderr",
     "output_type": "stream",
     "text": [
      "Setting `pad_token_id` to `eos_token_id`:None for open-end generation.\n"
     ]
    },
    {
     "name": "stdout",
     "output_type": "stream",
     "text": [
      "HALLO\n",
      "Item ID: cE0sa5qCriI6GUBYMcyKeg_right\n",
      "Predicted Meter: 26.0\n",
      "Ground Truth: 25.0\n",
      "Error: 1.0\n",
      "==================================================\n",
      "How far is the gas station away from the camera in meters, rounded to the next meter?\n"
     ]
    },
    {
     "name": "stderr",
     "output_type": "stream",
     "text": [
      "Setting `pad_token_id` to `eos_token_id`:None for open-end generation.\n"
     ]
    },
    {
     "name": "stdout",
     "output_type": "stream",
     "text": [
      "HALLO\n",
      "Item ID: jU6X-KpYz18pt96XJ-YoeQ_back\n",
      "Predicted Meter: 29.0\n",
      "Ground Truth: 25.0\n",
      "Error: 4.0\n",
      "==================================================\n",
      "How far is the gas station away from the camera in meters, rounded to the next meter?\n"
     ]
    },
    {
     "name": "stderr",
     "output_type": "stream",
     "text": [
      "Setting `pad_token_id` to `eos_token_id`:None for open-end generation.\n"
     ]
    },
    {
     "name": "stdout",
     "output_type": "stream",
     "text": [
      "HALLO\n",
      "Item ID: sw8Il_kg3VTkg4hfRAqhgg_left\n",
      "Predicted Meter: 19.0\n",
      "Ground Truth: 29.0\n",
      "Error: 10.0\n",
      "==================================================\n",
      "How far is the gas station away from the camera in meters, rounded to the next meter?\n"
     ]
    },
    {
     "name": "stderr",
     "output_type": "stream",
     "text": [
      "Setting `pad_token_id` to `eos_token_id`:None for open-end generation.\n"
     ]
    },
    {
     "name": "stdout",
     "output_type": "stream",
     "text": [
      "HALLO\n",
      "Item ID: wNMjdSqgpzj6j72V6oMMUg_right\n",
      "Predicted Meter: 29.0\n",
      "Ground Truth: 29.0\n",
      "Error: 0.0\n",
      "==================================================\n",
      "How far is the post box away from the camera in meters, rounded to the next meter?\n"
     ]
    },
    {
     "name": "stderr",
     "output_type": "stream",
     "text": [
      "Setting `pad_token_id` to `eos_token_id`:None for open-end generation.\n"
     ]
    },
    {
     "name": "stdout",
     "output_type": "stream",
     "text": [
      "HALLO\n",
      "Item ID: C72ymm34PyRc2OruySafpQ_left\n",
      "Predicted Meter: 27.0\n",
      "Ground Truth: 15.0\n",
      "Error: 12.0\n",
      "==================================================\n",
      "How far is the gas station away from the camera in meters, rounded to the next meter?\n"
     ]
    },
    {
     "name": "stderr",
     "output_type": "stream",
     "text": [
      "Setting `pad_token_id` to `eos_token_id`:None for open-end generation.\n"
     ]
    },
    {
     "name": "stdout",
     "output_type": "stream",
     "text": [
      "HALLO\n",
      "Item ID: tL1cMj27xoKEUPU8emSdSQ_right\n",
      "Predicted Meter: 19.0\n",
      "Ground Truth: 22.0\n",
      "Error: 3.0\n",
      "==================================================\n",
      "How far is the gas station away from the camera in meters, rounded to the next meter?\n"
     ]
    },
    {
     "name": "stderr",
     "output_type": "stream",
     "text": [
      "Setting `pad_token_id` to `eos_token_id`:None for open-end generation.\n"
     ]
    },
    {
     "name": "stdout",
     "output_type": "stream",
     "text": [
      "HALLO\n",
      "Item ID: 1KKSCQJLKYDDK3KSdFkHdw_right\n",
      "Predicted Meter: 26.0\n",
      "Ground Truth: 23.0\n",
      "Error: 3.0\n",
      "==================================================\n",
      "How far is the gas station away from the camera in meters, rounded to the next meter?\n",
      "HALLO\n",
      "Item ID: l7wQW6Nrj2lN4nrgHrVA0g_left\n",
      "Predicted Meter: 29.0\n",
      "Ground Truth: 26.0\n",
      "Error: 3.0\n",
      "==================================================\n",
      "Results saved to res/llava_onevision_0.5b_inference.csv\n"
     ]
    }
   ],
   "source": [
    "finetuned_model = LlavaOnevisionForConditionalGeneration.from_pretrained(\n",
    "    \"/hpi/fs00/scratch/liudvikas.zekas/checkpoints/llava-onevision-0.5b-ov_lora-True_qlora-False-custom\", \n",
    "    torch_dtype=\"auto\",\n",
    "    low_cpu_mem_usage=True, \n",
    "    cache_dir=\"/hpi/fs00/scratch/liudvikas.zekas/.cache\"\n",
    ").to(0)\n",
    "\n",
    "print(\"=== Inference using the Finetuned Qwen Model ===\")\n",
    "df_finetuned = run_llava_inference_on_dataset(finetuned_model, processor, test_json_path, image_root, \"llava_onevision_0.5b_inference\")\n",
    "\n",
    "# Clean up.\n",
    "del finetuned_model"
   ]
  },
  {
   "cell_type": "code",
   "execution_count": null,
   "id": "ee595c2e-7a89-4682-8333-e8e883a77b43",
   "metadata": {},
   "outputs": [],
   "source": []
  }
 ],
 "metadata": {
  "kernelspec": {
   "display_name": "my-conda-env-kernel",
   "language": "python",
   "name": "my-conda-env-kernel"
  },
  "language_info": {
   "codemirror_mode": {
    "name": "ipython",
    "version": 3
   },
   "file_extension": ".py",
   "mimetype": "text/x-python",
   "name": "python",
   "nbconvert_exporter": "python",
   "pygments_lexer": "ipython3",
   "version": "3.10.16"
  }
 },
 "nbformat": 4,
 "nbformat_minor": 5
}
